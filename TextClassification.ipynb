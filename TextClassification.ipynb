{
 "cells": [
  {
   "cell_type": "markdown",
   "metadata": {},
   "source": [
    "# Text Classification\n",
    "\n",
    "This notebook is for specialized text classification, including some using deep learning via TorchSharp.\n",
    "\n",
    "This is kept in its own notebook because it uses CUDA 12 and Linux"
   ]
  },
  {
   "cell_type": "markdown",
   "metadata": {},
   "source": [
    "## Dependencies"
   ]
  },
  {
   "cell_type": "code",
   "execution_count": 1,
   "metadata": {
    "vscode": {
     "languageId": "polyglot-notebook"
    }
   },
   "outputs": [
    {
     "data": {
      "text/html": [
       "<div><div></div><div></div><div><strong>Installed Packages</strong><ul><li><span>libtorch-cpu-linux-x64, 2.1.0.1</span></li><li><span>Microsoft.Data.Analysis, 0.21.1</span></li><li><span>Microsoft.ML, 3.0.1</span></li><li><span>Microsoft.ML.AutoML, 0.21.1</span></li><li><span>Microsoft.ML.TorchSharp, 0.21.1</span></li><li><span>Newtonsoft.Json, 13.0.3</span></li><li><span>Plotly.NET, 5.0.0</span></li><li><span>Plotly.NET.Interactive, 5.0.0</span></li><li><span>TorchSharp, 0.101.5</span></li></ul></div></div>"
      ]
     },
     "metadata": {},
     "output_type": "display_data"
    },
    {
     "data": {
      "text/plain": [
       "Loading extensions from `/home/matteland/.nuget/packages/plotly.net.interactive/5.0.0/lib/netstandard2.1/Plotly.NET.Interactive.dll`"
      ]
     },
     "metadata": {},
     "output_type": "display_data"
    },
    {
     "data": {
      "text/plain": [
       "Loading extensions from `/home/matteland/.nuget/packages/microsoft.data.analysis/0.21.1/interactive-extensions/dotnet/Microsoft.Data.Analysis.Interactive.dll`"
      ]
     },
     "metadata": {},
     "output_type": "display_data"
    },
    {
     "data": {
      "text/plain": [
       "Loading extensions from `/home/matteland/.nuget/packages/microsoft.ml.automl/0.21.1/interactive-extensions/dotnet/Microsoft.ML.AutoML.Interactive.dll`"
      ]
     },
     "metadata": {},
     "output_type": "display_data"
    },
    {
     "data": {
      "text/plain": [
       "Loading extensions from `/home/matteland/.nuget/packages/skiasharp/2.88.6/interactive-extensions/dotnet/SkiaSharp.DotNet.Interactive.dll`"
      ]
     },
     "metadata": {},
     "output_type": "display_data"
    }
   ],
   "source": [
    "#r \"nuget:Microsoft.Data.Analysis\"\n",
    "#r \"nuget:Microsoft.ML\"\n",
    "#r \"nuget:Microsoft.ML.AutoML\"\n",
    "#r \"nuget:Microsoft.ML.TorchSharp\"\n",
    "#r \"nuget:Newtonsoft.Json\"\n",
    "#r \"nuget:Plotly.NET\"\n",
    "#r \"nuget:Plotly.NET.Interactive\"\n",
    "#r \"nuget:libtorch-cpu-linux-x64, 2.1.0.1\"\n",
    "#r \"nuget:TorchSharp,0.101.5\"\n",
    "\n",
    "using Microsoft.DotNet.Interactive.Formatting;\n",
    "using Microsoft.Data.Analysis;\n",
    "using Microsoft.ML;\n",
    "using Microsoft.ML.AutoML;\n",
    "using Microsoft.ML.AutoML.CodeGen;\n",
    "using Microsoft.ML.SearchSpace;\n",
    "using Microsoft.ML.SearchSpace.Option;\n",
    "using Microsoft.ML.Data;\n",
    "using Microsoft.ML.Trainers;\n",
    "using Microsoft.ML.Transforms;\n",
    "using Microsoft.ML.Transforms.Text;\n",
    "using Microsoft.ML.TorchSharp;\n",
    "using Microsoft.ML.TorchSharp.NasBert;\n",
    "using TorchSharp;\n",
    "using Newtonsoft.Json;\n",
    "using System.Reflection;"
   ]
  },
  {
   "cell_type": "code",
   "execution_count": 3,
   "metadata": {
    "vscode": {
     "languageId": "polyglot-notebook"
    }
   },
   "outputs": [
    {
     "data": {
      "text/html": [
       "<details><summary>reflect</summary>\n",
       "    <p>This extension generates a list of properties on the object in tabular format.</p>\n",
       "    </details>"
      ]
     },
     "metadata": {},
     "output_type": "display_data"
    },
    {
     "data": {
      "text/html": [
       "<details><summary>transformer-vis</summary>\n",
       "    <p>This extension generates Flowcharts from ITransformers using the Mermaid kernel.</p>\n",
       "    </details>"
      ]
     },
     "metadata": {},
     "output_type": "display_data"
    },
    {
     "data": {
      "text/html": [
       "<details><summary>pipeline-vis</summary>\n",
       "    <p>This extension generates Flowcharts from Pipelines using the Mermaid kernel.</p>\n",
       "    </details>"
      ]
     },
     "metadata": {},
     "output_type": "display_data"
    }
   ],
   "source": [
    "//#r \"nuget:MattEland.ML\"\n",
    "//#r \"nuget:MattEland.ML.Charts\"\n",
    "//#r \"nuget:MattEland.ML.DataFrames\"\n",
    "//#r \"nuget:MattEland.ML.Interactive\"\n",
    "#r \"/home/matteland/Documents/MattEland.ML/MattEland.ML/MattEland.ML/bin/Debug/net8.0/MattEland.ML.dll\"\n",
    "#r \"/home/matteland/Documents/MattEland.ML/MattEland.ML/MattEland.ML.DataFrames/bin/Debug/net8.0/MattEland.ML.DataFrames.dll\"\n",
    "#r \"/home/matteland/Documents/MattEland.ML/MattEland.ML/MattEland.ML.Charts/bin/Debug/net8.0/MattEland.ML.Charts.dll\"\n",
    "#r \"/home/matteland/Documents/MattEland.ML/MattEland.ML/MattEland.ML.Interactive/bin/Debug/net8.0/MattEland.ML.Interactive.dll\"\n",
    "\n",
    "using MattEland.ML;\n",
    "using MattEland.ML.Charts;\n",
    "using MattEland.ML.DataFrames;\n",
    "using MattEland.ML.Interactive;\n",
    "\n",
    "await MattEland.ML.Interactive.InteractiveExtensions.Load(Microsoft.DotNet.Interactive.KernelInvocationContext.Current.HandlingKernel.RootKernel);"
   ]
  },
  {
   "cell_type": "markdown",
   "metadata": {},
   "source": [
    "## Data Loading / Splitting"
   ]
  },
  {
   "cell_type": "code",
   "execution_count": 4,
   "metadata": {
    "vscode": {
     "languageId": "polyglot-notebook"
    }
   },
   "outputs": [
    {
     "data": {
      "text/html": [
       "<table id=\"table_638546961572743342\"><thead><tr><th><i>index</i></th><th>Label</th><th>Message</th><th>IsMerge</th><th>WorkItems</th><th>TotalFiles</th><th>ModifiedFiles</th><th>AddedFiles</th><th>DeletedFiles</th><th>TotalLines</th><th>NetLines</th><th>AddedLines</th><th>DeletedLines</th><th>HasAddedFiles</th><th>HasDeletedFiles</th><th>MessageLength</th><th>WordCount</th></tr></thead><tbody><tr><td><i><div class=\"dni-plaintext\"><pre>0</pre></div></i></td><td><div class=\"dni-plaintext\"><pre>True</pre></div></td><td>revert dependency on sdk acquisition and cache location of dotnet tool (#1094)</td><td><div class=\"dni-plaintext\"><pre>False</pre></div></td><td><div class=\"dni-plaintext\"><pre>1</pre></div></td><td><div class=\"dni-plaintext\"><pre>6</pre></div></td><td><div class=\"dni-plaintext\"><pre>6</pre></div></td><td><div class=\"dni-plaintext\"><pre>0</pre></div></td><td><div class=\"dni-plaintext\"><pre>0</pre></div></td><td><div class=\"dni-plaintext\"><pre>1703</pre></div></td><td><div class=\"dni-plaintext\"><pre>42</pre></div></td><td><div class=\"dni-plaintext\"><pre>64</pre></div></td><td><div class=\"dni-plaintext\"><pre>22</pre></div></td><td><div class=\"dni-plaintext\"><pre>False</pre></div></td><td><div class=\"dni-plaintext\"><pre>False</pre></div></td><td><div class=\"dni-plaintext\"><pre>78</pre></div></td><td><div class=\"dni-plaintext\"><pre>12</pre></div></td></tr><tr><td><i><div class=\"dni-plaintext\"><pre>1</pre></div></i></td><td><div class=\"dni-plaintext\"><pre>False</pre></div></td><td>update system drawing</td><td><div class=\"dni-plaintext\"><pre>False</pre></div></td><td><div class=\"dni-plaintext\"><pre>0</pre></div></td><td><div class=\"dni-plaintext\"><pre>1</pre></div></td><td><div class=\"dni-plaintext\"><pre>1</pre></div></td><td><div class=\"dni-plaintext\"><pre>0</pre></div></td><td><div class=\"dni-plaintext\"><pre>0</pre></div></td><td><div class=\"dni-plaintext\"><pre>47</pre></div></td><td><div class=\"dni-plaintext\"><pre>0</pre></div></td><td><div class=\"dni-plaintext\"><pre>1</pre></div></td><td><div class=\"dni-plaintext\"><pre>1</pre></div></td><td><div class=\"dni-plaintext\"><pre>False</pre></div></td><td><div class=\"dni-plaintext\"><pre>False</pre></div></td><td><div class=\"dni-plaintext\"><pre>21</pre></div></td><td><div class=\"dni-plaintext\"><pre>3</pre></div></td></tr><tr><td><i><div class=\"dni-plaintext\"><pre>2</pre></div></i></td><td><div class=\"dni-plaintext\"><pre>False</pre></div></td><td>compute cursor start for replacement</td><td><div class=\"dni-plaintext\"><pre>False</pre></div></td><td><div class=\"dni-plaintext\"><pre>0</pre></div></td><td><div class=\"dni-plaintext\"><pre>1</pre></div></td><td><div class=\"dni-plaintext\"><pre>1</pre></div></td><td><div class=\"dni-plaintext\"><pre>0</pre></div></td><td><div class=\"dni-plaintext\"><pre>0</pre></div></td><td><div class=\"dni-plaintext\"><pre>238</pre></div></td><td><div class=\"dni-plaintext\"><pre>1</pre></div></td><td><div class=\"dni-plaintext\"><pre>2</pre></div></td><td><div class=\"dni-plaintext\"><pre>1</pre></div></td><td><div class=\"dni-plaintext\"><pre>False</pre></div></td><td><div class=\"dni-plaintext\"><pre>False</pre></div></td><td><div class=\"dni-plaintext\"><pre>36</pre></div></td><td><div class=\"dni-plaintext\"><pre>5</pre></div></td></tr><tr><td><i><div class=\"dni-plaintext\"><pre>3</pre></div></i></td><td><div class=\"dni-plaintext\"><pre>False</pre></div></td><td>Updated branch version (#5400)</td><td><div class=\"dni-plaintext\"><pre>False</pre></div></td><td><div class=\"dni-plaintext\"><pre>1</pre></div></td><td><div class=\"dni-plaintext\"><pre>1</pre></div></td><td><div class=\"dni-plaintext\"><pre>1</pre></div></td><td><div class=\"dni-plaintext\"><pre>0</pre></div></td><td><div class=\"dni-plaintext\"><pre>0</pre></div></td><td><div class=\"dni-plaintext\"><pre>40</pre></div></td><td><div class=\"dni-plaintext\"><pre>0</pre></div></td><td><div class=\"dni-plaintext\"><pre>2</pre></div></td><td><div class=\"dni-plaintext\"><pre>2</pre></div></td><td><div class=\"dni-plaintext\"><pre>False</pre></div></td><td><div class=\"dni-plaintext\"><pre>False</pre></div></td><td><div class=\"dni-plaintext\"><pre>30</pre></div></td><td><div class=\"dni-plaintext\"><pre>4</pre></div></td></tr><tr><td><i><div class=\"dni-plaintext\"><pre>4</pre></div></i></td><td><div class=\"dni-plaintext\"><pre>False</pre></div></td><td>Merged PR 1684342: support for utf8 encoding and emoji</td><td><div class=\"dni-plaintext\"><pre>False</pre></div></td><td><div class=\"dni-plaintext\"><pre>0</pre></div></td><td><div class=\"dni-plaintext\"><pre>1</pre></div></td><td><div class=\"dni-plaintext\"><pre>1</pre></div></td><td><div class=\"dni-plaintext\"><pre>0</pre></div></td><td><div class=\"dni-plaintext\"><pre>0</pre></div></td><td><div class=\"dni-plaintext\"><pre>1</pre></div></td><td><div class=\"dni-plaintext\"><pre>0</pre></div></td><td><div class=\"dni-plaintext\"><pre>1</pre></div></td><td><div class=\"dni-plaintext\"><pre>1</pre></div></td><td><div class=\"dni-plaintext\"><pre>False</pre></div></td><td><div class=\"dni-plaintext\"><pre>False</pre></div></td><td><div class=\"dni-plaintext\"><pre>54</pre></div></td><td><div class=\"dni-plaintext\"><pre>9</pre></div></td></tr></tbody></table><style>\r\n",
       ".dni-code-hint {\r\n",
       "    font-style: italic;\r\n",
       "    overflow: hidden;\r\n",
       "    white-space: nowrap;\r\n",
       "}\r\n",
       ".dni-treeview {\r\n",
       "    white-space: nowrap;\r\n",
       "}\r\n",
       ".dni-treeview td {\r\n",
       "    vertical-align: top;\r\n",
       "    text-align: start;\r\n",
       "}\r\n",
       "details.dni-treeview {\r\n",
       "    padding-left: 1em;\r\n",
       "}\r\n",
       "table td {\r\n",
       "    text-align: start;\r\n",
       "}\r\n",
       "table tr { \r\n",
       "    vertical-align: top; \r\n",
       "    margin: 0em 0px;\r\n",
       "}\r\n",
       "table tr td pre \r\n",
       "{ \r\n",
       "    vertical-align: top !important; \r\n",
       "    margin: 0em 0px !important;\r\n",
       "} \r\n",
       "table th {\r\n",
       "    text-align: start;\r\n",
       "}\r\n",
       "</style>"
      ]
     },
     "metadata": {},
     "output_type": "display_data"
    }
   ],
   "source": [
    "DataFrame df = DataFrame.LoadCsv(\"data/Training.csv\", separator: ',', header: true);\n",
    "df.Columns.Remove(\"PredictedLabel\", \"Reasoning\", \"AuthorId\", \"AuthorDateUtc\", \"CommitterId\", \"CommitterDateUtc\", \"ParentSha\", \"Parent2Sha\", \"DayOfWeek\", \"Month\", \"Quarter\", \"Year\", \"Hour\", \"TimeOfDay\", \"IsWeekend\", \"Sha\", \"Source\");\n",
    "df[\"ActualLabel\"].SetName(\"Label\");\n",
    "df.Sample(5)"
   ]
  },
  {
   "cell_type": "code",
   "execution_count": 5,
   "metadata": {
    "vscode": {
     "languageId": "polyglot-notebook"
    }
   },
   "outputs": [
    {
     "data": {
      "text/html": [
       "<details open=\"open\" class=\"dni-treeview\"><summary><span class=\"dni-code-hint\"><code>MattEland.ML.DataFrames.DataFrameColumnTypes</code></span></summary><div><table><thead><tr></tr></thead><tbody><tr><td>Text</td><td><div class=\"dni-plaintext\"><pre>[ Message ]</pre></div></td></tr><tr><td>Numeric</td><td><div class=\"dni-plaintext\"><pre>[ WorkItems, TotalFiles, ModifiedFiles, AddedFiles, DeletedFiles, TotalLines, NetLines, AddedLines, DeletedLines, MessageLength, WordCount ]</pre></div></td></tr><tr><td>Categorical</td><td><div class=\"dni-plaintext\"><pre>[ IsMerge, HasAddedFiles, HasDeletedFiles ]</pre></div></td></tr><tr><td>Excluded</td><td><div class=\"dni-plaintext\"><pre>[ Label ]</pre></div></td></tr></tbody></table></div></details><style>\r\n",
       ".dni-code-hint {\r\n",
       "    font-style: italic;\r\n",
       "    overflow: hidden;\r\n",
       "    white-space: nowrap;\r\n",
       "}\r\n",
       ".dni-treeview {\r\n",
       "    white-space: nowrap;\r\n",
       "}\r\n",
       ".dni-treeview td {\r\n",
       "    vertical-align: top;\r\n",
       "    text-align: start;\r\n",
       "}\r\n",
       "details.dni-treeview {\r\n",
       "    padding-left: 1em;\r\n",
       "}\r\n",
       "table td {\r\n",
       "    text-align: start;\r\n",
       "}\r\n",
       "table tr { \r\n",
       "    vertical-align: top; \r\n",
       "    margin: 0em 0px;\r\n",
       "}\r\n",
       "table tr td pre \r\n",
       "{ \r\n",
       "    vertical-align: top !important; \r\n",
       "    margin: 0em 0px !important;\r\n",
       "} \r\n",
       "table th {\r\n",
       "    text-align: start;\r\n",
       "}\r\n",
       "</style>"
      ]
     },
     "metadata": {},
     "output_type": "display_data"
    }
   ],
   "source": [
    "int seed = 42;\n",
    "MLContext context = new(seed: seed);\n",
    "\n",
    "var split = context.Data.TrainTestSplit(df, testFraction: 0.3, seed: seed);\n",
    "var colTypes = df.GetColumnTypes(excludedColumns: new[] { \"Label\" });\n",
    "colTypes"
   ]
  },
  {
   "cell_type": "markdown",
   "metadata": {},
   "source": [
    "## Simple Featurizer"
   ]
  },
  {
   "cell_type": "code",
   "execution_count": 11,
   "metadata": {
    "vscode": {
     "languageId": "polyglot-notebook"
    }
   },
   "outputs": [
    {
     "data": {
      "text/html": [
       "<div><div id=\"af286148-fd5e-41a2-b49c-bdb0de7401c9\"><!-- Plotly chart will be drawn inside this DIV --></div><script type=\"text/javascript\">\n",
       "var renderPlotly_af286148fd5e41a2b49cbdb0de7401c9 = function() {\n",
       "    var fsharpPlotlyRequire = requirejs.config({context:'fsharp-plotly',paths:{plotly:'https://cdn.plot.ly/plotly-2.27.1.min'}}) || require;\n",
       "    fsharpPlotlyRequire(['plotly'], function(Plotly) {\n",
       "        var data = [{\"type\":\"heatmap\",\"x\":[\"Positive\",\"Negative\"],\"y\":[\"Positive\",\"Negative\"],\"z\":[[23.0,24.0],[1.0,98.0]],\"colorscale\":[[0.0,\"#FFFFFF\"],[0.5,\"#009dcf\"],[1.0,\"#003171\"]],\"showscale\":false,\"xaxis\":\"x\",\"yaxis\":\"y\",\"marker\":{\"showscale\":false}},{\"type\":\"bar\",\"x\":[0.98989898989899,0.8032786885245902,0.48936170212765956,0.9583333333333334,0.8049616280288557,0.8457984096281969,0.6478873239436619,0.8287671232876712],\"y\":[\"Negative Recall\",\"Negative Precision\",\"Positive Recall\",\"Positive Precision\",\"AUCPR\",\"AUC\",\"F1 Score\",\"Accuracy\"],\"text\":[\"0.990\",\"0.803\",\"0.489\",\"0.958\",\"0.805\",\"0.846\",\"0.648\",\"0.829\"],\"orientation\":\"h\",\"marker\":{\"color\":\"#003171\",\"pattern\":{},\"showscale\":false},\"xaxis\":\"x2\",\"yaxis\":\"y2\"}];\n",
       "        var layout = {\"width\":600,\"height\":600,\"template\":{\"layout\":{\"title\":{\"x\":0.05},\"font\":{\"color\":\"rgba(42, 63, 95, 1.0)\"},\"paper_bgcolor\":\"rgba(255, 255, 255, 1.0)\",\"plot_bgcolor\":\"rgba(229, 236, 246, 1.0)\",\"autotypenumbers\":\"strict\",\"colorscale\":{\"diverging\":[[0.0,\"#8e0152\"],[0.1,\"#c51b7d\"],[0.2,\"#de77ae\"],[0.3,\"#f1b6da\"],[0.4,\"#fde0ef\"],[0.5,\"#f7f7f7\"],[0.6,\"#e6f5d0\"],[0.7,\"#b8e186\"],[0.8,\"#7fbc41\"],[0.9,\"#4d9221\"],[1.0,\"#276419\"]],\"sequential\":[[0.0,\"#0d0887\"],[0.1111111111111111,\"#46039f\"],[0.2222222222222222,\"#7201a8\"],[0.3333333333333333,\"#9c179e\"],[0.4444444444444444,\"#bd3786\"],[0.5555555555555556,\"#d8576b\"],[0.6666666666666666,\"#ed7953\"],[0.7777777777777778,\"#fb9f3a\"],[0.8888888888888888,\"#fdca26\"],[1.0,\"#f0f921\"]],\"sequentialminus\":[[0.0,\"#0d0887\"],[0.1111111111111111,\"#46039f\"],[0.2222222222222222,\"#7201a8\"],[0.3333333333333333,\"#9c179e\"],[0.4444444444444444,\"#bd3786\"],[0.5555555555555556,\"#d8576b\"],[0.6666666666666666,\"#ed7953\"],[0.7777777777777778,\"#fb9f3a\"],[0.8888888888888888,\"#fdca26\"],[1.0,\"#f0f921\"]]},\"hovermode\":\"closest\",\"hoverlabel\":{\"align\":\"left\"},\"coloraxis\":{\"colorbar\":{\"outlinewidth\":0.0,\"ticks\":\"\"}},\"geo\":{\"showland\":true,\"landcolor\":\"rgba(229, 236, 246, 1.0)\",\"showlakes\":true,\"lakecolor\":\"rgba(255, 255, 255, 1.0)\",\"subunitcolor\":\"rgba(255, 255, 255, 1.0)\",\"bgcolor\":\"rgba(255, 255, 255, 1.0)\"},\"mapbox\":{\"style\":\"light\"},\"polar\":{\"bgcolor\":\"rgba(229, 236, 246, 1.0)\",\"radialaxis\":{\"linecolor\":\"rgba(255, 255, 255, 1.0)\",\"gridcolor\":\"rgba(255, 255, 255, 1.0)\",\"ticks\":\"\"},\"angularaxis\":{\"linecolor\":\"rgba(255, 255, 255, 1.0)\",\"gridcolor\":\"rgba(255, 255, 255, 1.0)\",\"ticks\":\"\"}},\"scene\":{\"xaxis\":{\"ticks\":\"\",\"linecolor\":\"rgba(255, 255, 255, 1.0)\",\"gridcolor\":\"rgba(255, 255, 255, 1.0)\",\"gridwidth\":2.0,\"zerolinecolor\":\"rgba(255, 255, 255, 1.0)\",\"backgroundcolor\":\"rgba(229, 236, 246, 1.0)\",\"showbackground\":true},\"yaxis\":{\"ticks\":\"\",\"linecolor\":\"rgba(255, 255, 255, 1.0)\",\"gridcolor\":\"rgba(255, 255, 255, 1.0)\",\"gridwidth\":2.0,\"zerolinecolor\":\"rgba(255, 255, 255, 1.0)\",\"backgroundcolor\":\"rgba(229, 236, 246, 1.0)\",\"showbackground\":true},\"zaxis\":{\"ticks\":\"\",\"linecolor\":\"rgba(255, 255, 255, 1.0)\",\"gridcolor\":\"rgba(255, 255, 255, 1.0)\",\"gridwidth\":2.0,\"zerolinecolor\":\"rgba(255, 255, 255, 1.0)\",\"backgroundcolor\":\"rgba(229, 236, 246, 1.0)\",\"showbackground\":true}},\"ternary\":{\"aaxis\":{\"ticks\":\"\",\"linecolor\":\"rgba(255, 255, 255, 1.0)\",\"gridcolor\":\"rgba(255, 255, 255, 1.0)\"},\"baxis\":{\"ticks\":\"\",\"linecolor\":\"rgba(255, 255, 255, 1.0)\",\"gridcolor\":\"rgba(255, 255, 255, 1.0)\"},\"caxis\":{\"ticks\":\"\",\"linecolor\":\"rgba(255, 255, 255, 1.0)\",\"gridcolor\":\"rgba(255, 255, 255, 1.0)\"},\"bgcolor\":\"rgba(229, 236, 246, 1.0)\"},\"xaxis\":{\"title\":{\"standoff\":15},\"ticks\":\"\",\"automargin\":\"height+width+left+right+top+bottom\",\"linecolor\":\"rgba(255, 255, 255, 1.0)\",\"gridcolor\":\"rgba(255, 255, 255, 1.0)\",\"zerolinecolor\":\"rgba(255, 255, 255, 1.0)\",\"zerolinewidth\":2.0},\"yaxis\":{\"title\":{\"standoff\":15},\"ticks\":\"\",\"automargin\":\"height+width+left+right+top+bottom\",\"linecolor\":\"rgba(255, 255, 255, 1.0)\",\"gridcolor\":\"rgba(255, 255, 255, 1.0)\",\"zerolinecolor\":\"rgba(255, 255, 255, 1.0)\",\"zerolinewidth\":2.0},\"annotationdefaults\":{\"arrowcolor\":\"#2a3f5f\",\"arrowhead\":0,\"arrowwidth\":1},\"shapedefaults\":{\"line\":{\"color\":\"rgba(42, 63, 95, 1.0)\"}},\"colorway\":[\"rgba(99, 110, 250, 1.0)\",\"rgba(239, 85, 59, 1.0)\",\"rgba(0, 204, 150, 1.0)\",\"rgba(171, 99, 250, 1.0)\",\"rgba(255, 161, 90, 1.0)\",\"rgba(25, 211, 243, 1.0)\",\"rgba(255, 102, 146, 1.0)\",\"rgba(182, 232, 128, 1.0)\",\"rgba(255, 151, 255, 1.0)\",\"rgba(254, 203, 82, 1.0)\"]},\"data\":{\"bar\":[{\"marker\":{\"line\":{\"color\":\"rgba(229, 236, 246, 1.0)\",\"width\":0.5},\"pattern\":{\"fillmode\":\"overlay\",\"size\":10,\"solidity\":0.2}},\"error_x\":{\"color\":\"rgba(42, 63, 95, 1.0)\"},\"error_y\":{\"color\":\"rgba(42, 63, 95, 1.0)\"}}],\"barpolar\":[{\"marker\":{\"line\":{\"color\":\"rgba(229, 236, 246, 1.0)\",\"width\":0.5},\"pattern\":{\"fillmode\":\"overlay\",\"size\":10,\"solidity\":0.2}}}],\"carpet\":[{\"aaxis\":{\"linecolor\":\"rgba(255, 255, 255, 1.0)\",\"gridcolor\":\"rgba(255, 255, 255, 1.0)\",\"endlinecolor\":\"rgba(42, 63, 95, 1.0)\",\"minorgridcolor\":\"rgba(255, 255, 255, 1.0)\",\"startlinecolor\":\"rgba(42, 63, 95, 1.0)\"},\"baxis\":{\"linecolor\":\"rgba(255, 255, 255, 1.0)\",\"gridcolor\":\"rgba(255, 255, 255, 1.0)\",\"endlinecolor\":\"rgba(42, 63, 95, 1.0)\",\"minorgridcolor\":\"rgba(255, 255, 255, 1.0)\",\"startlinecolor\":\"rgba(42, 63, 95, 1.0)\"}}],\"choropleth\":[{\"colorbar\":{\"outlinewidth\":0.0,\"ticks\":\"\"},\"colorscale\":[[0.0,\"#0d0887\"],[0.1111111111111111,\"#46039f\"],[0.2222222222222222,\"#7201a8\"],[0.3333333333333333,\"#9c179e\"],[0.4444444444444444,\"#bd3786\"],[0.5555555555555556,\"#d8576b\"],[0.6666666666666666,\"#ed7953\"],[0.7777777777777778,\"#fb9f3a\"],[0.8888888888888888,\"#fdca26\"],[1.0,\"#f0f921\"]]}],\"contour\":[{\"colorbar\":{\"outlinewidth\":0.0,\"ticks\":\"\"},\"colorscale\":[[0.0,\"#0d0887\"],[0.1111111111111111,\"#46039f\"],[0.2222222222222222,\"#7201a8\"],[0.3333333333333333,\"#9c179e\"],[0.4444444444444444,\"#bd3786\"],[0.5555555555555556,\"#d8576b\"],[0.6666666666666666,\"#ed7953\"],[0.7777777777777778,\"#fb9f3a\"],[0.8888888888888888,\"#fdca26\"],[1.0,\"#f0f921\"]]}],\"contourcarpet\":[{\"colorbar\":{\"outlinewidth\":0.0,\"ticks\":\"\"}}],\"heatmap\":[{\"colorbar\":{\"outlinewidth\":0.0,\"ticks\":\"\"},\"colorscale\":[[0.0,\"#0d0887\"],[0.1111111111111111,\"#46039f\"],[0.2222222222222222,\"#7201a8\"],[0.3333333333333333,\"#9c179e\"],[0.4444444444444444,\"#bd3786\"],[0.5555555555555556,\"#d8576b\"],[0.6666666666666666,\"#ed7953\"],[0.7777777777777778,\"#fb9f3a\"],[0.8888888888888888,\"#fdca26\"],[1.0,\"#f0f921\"]]}],\"heatmapgl\":[{\"colorbar\":{\"outlinewidth\":0.0,\"ticks\":\"\"},\"colorscale\":[[0.0,\"#0d0887\"],[0.1111111111111111,\"#46039f\"],[0.2222222222222222,\"#7201a8\"],[0.3333333333333333,\"#9c179e\"],[0.4444444444444444,\"#bd3786\"],[0.5555555555555556,\"#d8576b\"],[0.6666666666666666,\"#ed7953\"],[0.7777777777777778,\"#fb9f3a\"],[0.8888888888888888,\"#fdca26\"],[1.0,\"#f0f921\"]]}],\"histogram\":[{\"marker\":{\"pattern\":{\"fillmode\":\"overlay\",\"size\":10,\"solidity\":0.2}}}],\"histogram2d\":[{\"colorbar\":{\"outlinewidth\":0.0,\"ticks\":\"\"},\"colorscale\":[[0.0,\"#0d0887\"],[0.1111111111111111,\"#46039f\"],[0.2222222222222222,\"#7201a8\"],[0.3333333333333333,\"#9c179e\"],[0.4444444444444444,\"#bd3786\"],[0.5555555555555556,\"#d8576b\"],[0.6666666666666666,\"#ed7953\"],[0.7777777777777778,\"#fb9f3a\"],[0.8888888888888888,\"#fdca26\"],[1.0,\"#f0f921\"]]}],\"histogram2dcontour\":[{\"colorbar\":{\"outlinewidth\":0.0,\"ticks\":\"\"},\"colorscale\":[[0.0,\"#0d0887\"],[0.1111111111111111,\"#46039f\"],[0.2222222222222222,\"#7201a8\"],[0.3333333333333333,\"#9c179e\"],[0.4444444444444444,\"#bd3786\"],[0.5555555555555556,\"#d8576b\"],[0.6666666666666666,\"#ed7953\"],[0.7777777777777778,\"#fb9f3a\"],[0.8888888888888888,\"#fdca26\"],[1.0,\"#f0f921\"]]}],\"mesh3d\":[{\"colorbar\":{\"outlinewidth\":0.0,\"ticks\":\"\"}}],\"parcoords\":[{\"line\":{\"colorbar\":{\"outlinewidth\":0.0,\"ticks\":\"\"}}}],\"pie\":[{\"automargin\":true}],\"scatter\":[{\"marker\":{\"colorbar\":{\"outlinewidth\":0.0,\"ticks\":\"\"}}}],\"scatter3d\":[{\"marker\":{\"colorbar\":{\"outlinewidth\":0.0,\"ticks\":\"\"}},\"line\":{\"colorbar\":{\"outlinewidth\":0.0,\"ticks\":\"\"}}}],\"scattercarpet\":[{\"marker\":{\"colorbar\":{\"outlinewidth\":0.0,\"ticks\":\"\"}}}],\"scattergeo\":[{\"marker\":{\"colorbar\":{\"outlinewidth\":0.0,\"ticks\":\"\"}}}],\"scattergl\":[{\"marker\":{\"colorbar\":{\"outlinewidth\":0.0,\"ticks\":\"\"}}}],\"scattermapbox\":[{\"marker\":{\"colorbar\":{\"outlinewidth\":0.0,\"ticks\":\"\"}}}],\"scatterpolar\":[{\"marker\":{\"colorbar\":{\"outlinewidth\":0.0,\"ticks\":\"\"}}}],\"scatterpolargl\":[{\"marker\":{\"colorbar\":{\"outlinewidth\":0.0,\"ticks\":\"\"}}}],\"scatterternary\":[{\"marker\":{\"colorbar\":{\"outlinewidth\":0.0,\"ticks\":\"\"}}}],\"surface\":[{\"colorbar\":{\"outlinewidth\":0.0,\"ticks\":\"\"},\"colorscale\":[[0.0,\"#0d0887\"],[0.1111111111111111,\"#46039f\"],[0.2222222222222222,\"#7201a8\"],[0.3333333333333333,\"#9c179e\"],[0.4444444444444444,\"#bd3786\"],[0.5555555555555556,\"#d8576b\"],[0.6666666666666666,\"#ed7953\"],[0.7777777777777778,\"#fb9f3a\"],[0.8888888888888888,\"#fdca26\"],[1.0,\"#f0f921\"]]}],\"table\":[{\"cells\":{\"fill\":{\"color\":\"rgba(235, 240, 248, 1.0)\"},\"line\":{\"color\":\"rgba(255, 255, 255, 1.0)\"}},\"header\":{\"fill\":{\"color\":\"rgba(200, 212, 227, 1.0)\"},\"line\":{\"color\":\"rgba(255, 255, 255, 1.0)\"}}}]}},\"xaxis\":{\"title\":{\"text\":\"Predicted\"},\"showline\":false,\"showgrid\":false,\"side\":\"top\",\"showbackground\":false},\"title\":{\"text\":\"Classification Report\"},\"yaxis\":{\"autorange\":\"reversed\",\"title\":{\"text\":\"Actual\"},\"showline\":false,\"showgrid\":false,\"side\":\"left\",\"showbackground\":false},\"annotations\":[{\"x\":0.5,\"y\":1.0,\"showarrow\":false,\"text\":\"\",\"xanchor\":\"center\",\"xref\":\"paper\",\"yanchor\":\"bottom\",\"yref\":\"paper\"},{\"x\":0.5,\"y\":0.4117647058823529,\"showarrow\":false,\"text\":\"Binary Classification Metric\",\"xanchor\":\"center\",\"xref\":\"paper\",\"yanchor\":\"bottom\",\"yref\":\"paper\"},{\"x\":0,\"y\":0,\"bgcolor\":\"#FFFFFF\",\"bordercolor\":\"#003171\",\"font\":{\"size\":18.0},\"showarrow\":false,\"text\":\"23\"},{\"x\":1,\"y\":0,\"bgcolor\":\"#FFFFFF\",\"bordercolor\":\"#003171\",\"font\":{\"size\":18.0},\"showarrow\":false,\"text\":\"24\"},{\"x\":0,\"y\":1,\"bgcolor\":\"#FFFFFF\",\"bordercolor\":\"#003171\",\"font\":{\"size\":18.0},\"showarrow\":false,\"text\":\"1\"},{\"x\":1,\"y\":1,\"bgcolor\":\"#FFFFFF\",\"bordercolor\":\"#003171\",\"font\":{\"size\":18.0},\"showarrow\":false,\"text\":\"98\"}],\"xaxis2\":{\"title\":{},\"range\":[0,1]},\"yaxis2\":{},\"grid\":{\"rows\":2,\"columns\":1,\"roworder\":\"top to bottom\",\"pattern\":\"independent\"}};\n",
       "        var config = {\"responsive\":true};\n",
       "        Plotly.newPlot('af286148-fd5e-41a2-b49c-bdb0de7401c9', data, layout, config);\n",
       "    });\n",
       "};\n",
       "if ((typeof(requirejs) !==  typeof(Function)) || (typeof(requirejs.config) !== typeof(Function))) {\n",
       "    var script = document.createElement(\"script\");\n",
       "    script.setAttribute(\"charset\", \"utf-8\");\n",
       "    script.setAttribute(\"src\", \"https://cdnjs.cloudflare.com/ajax/libs/require.js/2.3.6/require.min.js\");\n",
       "    script.onload = function(){\n",
       "        renderPlotly_af286148fd5e41a2b49cbdb0de7401c9();\n",
       "    };\n",
       "    document.getElementsByTagName(\"head\")[0].appendChild(script);\n",
       "}\n",
       "else {\n",
       "    renderPlotly_af286148fd5e41a2b49cbdb0de7401c9();\n",
       "}\n",
       "</script></div>"
      ]
     },
     "metadata": {},
     "output_type": "display_data"
    }
   ],
   "source": [
    "MLContext context = new(seed: seed) {\n",
    "    GpuDeviceId = 0,\n",
    "    FallbackToCpu = true,\n",
    "};\n",
    "var featurizer = context.Auto().Featurizer(df);\n",
    "\n",
    "// The classifier step tells AutoML what model trainers are enabled. We'll focus on those that don't require scaled data for simplicity at the moment\n",
    "var classifier = context.Auto().BinaryClassification(\n",
    "    useFastForest: true, \n",
    "    useLgbm: true, \n",
    "    useFastTree: true, \n",
    "    useLbfgsLogisticRegression: false, \n",
    "    useSdcaLogisticRegression: false);\n",
    "\n",
    "// Now let's run our experiment using our custom pipeline\n",
    "var experiment = context.Auto().CreateExperiment()\n",
    "    .SetPipeline(featurizer.Append(classifier))\n",
    "    .SetDataset(split)\n",
    "    .SetBinaryClassificationMetric(BinaryClassificationMetric.F1Score, labelColumn: \"Label\")\n",
    "    .SetMaxModelToExplore(10);\n",
    "\n",
    "TrialResult result = await experiment.RunAsync();\n",
    "ITransformer model = result.Model;\n",
    "\n",
    "var scorer = model.Transform(split.TestSet);\n",
    "\n",
    "// If the model supports calibration, we could use Evaluate instead\n",
    "var evalResults = context.BinaryClassification.EvaluateNonCalibrated(model.Transform(split.TestSet), labelColumnName: \"Label\");\n",
    "\n",
    "// Let's see how it performed\n",
    "MLCharts.ClassificationReport(evalResults)"
   ]
  },
  {
   "cell_type": "code",
   "execution_count": 12,
   "metadata": {
    "vscode": {
     "languageId": "polyglot-notebook"
    }
   },
   "outputs": [
    {
     "data": {
      "text/html": [
       "<details open=\"open\" class=\"dni-treeview\"><summary><span class=\"dni-code-hint\"><code>[ Microsoft.ML.Transforms.MissingValueReplacingTransformer, Microsoft.ML.Transforms.TypeConvertingTransformer, Microsoft.ML.Transforms.Text.TextFeaturizingEstimator+Transformer, Microsoft.ML.Data.ColumnConcatenatingTransformer, Microsoft.ML.Data.BinaryPredictionTransformer`1[Microsoft.ML.Trainers.FastTree.FastForestBinaryModelParameters] ]</code></span></summary><div><table><thead><tr></tr></thead><tbody><tr><td>LastTransformer</td><td><details class=\"dni-treeview\"><summary><span class=\"dni-code-hint\"><code>Microsoft.ML.Data.BinaryPredictionTransformer`1[Microsoft.ML.Trainers.FastTree.FastForestBinaryModelParameters]</code></span></summary><div><table><thead><tr></tr></thead><tbody><tr><td>FeatureColumnName</td><td><div class=\"dni-plaintext\"><pre>Features</pre></div></td></tr><tr><td>FeatureColumnType</td><td><details class=\"dni-treeview\"><summary><span class=\"dni-code-hint\"><code>Vector&lt;Single, 5861&gt;</code></span></summary><div><table><thead><tr></tr></thead><tbody><tr><td>Dimensions</td><td><div class=\"dni-plaintext\"><pre>[ 5861 ]</pre></div></td></tr><tr><td>IsKnownSize</td><td><div class=\"dni-plaintext\"><pre>True</pre></div></td></tr><tr><td>ItemType</td><td><details class=\"dni-treeview\"><summary><span class=\"dni-code-hint\"><code>Single</code></span></summary><div><table><thead><tr></tr></thead><tbody><tr><td>RawType</td><td><span><a href=\"https://docs.microsoft.com/dotnet/api/system.single?view=net-7.0\">System.Single</a></span></td></tr></tbody></table></div></details></td></tr><tr><td>Size</td><td><div class=\"dni-plaintext\"><pre>5861</pre></div></td></tr><tr><td>RawType</td><td><span><a href=\"https://docs.microsoft.com/dotnet/api/microsoft.ml.data.vbuffer-1?view=net-7.0\">Microsoft.ML.Data.VBuffer&lt;System.Single&gt;</a></span></td></tr></tbody></table></div></details></td></tr><tr><td>Model</td><td><details class=\"dni-treeview\"><summary><span class=\"dni-code-hint\"><code>Microsoft.ML.Trainers.FastTree.FastForestBinaryModelParameters</code></span></summary><div><table><thead><tr></tr></thead><tbody><tr><td>TrainedTreeEnsemble</td><td><details class=\"dni-treeview\"><summary><span class=\"dni-code-hint\"><code>Microsoft.ML.Trainers.FastTree.QuantileRegressionTreeEnsemble</code></span></summary><div><table><thead><tr></tr></thead><tbody><tr><td>Bias</td><td><div class=\"dni-plaintext\"><pre>0</pre></div></td></tr><tr><td>TreeWeights</td><td><div class=\"dni-plaintext\"><pre>[ 1, 1, 1, 1 ]</pre></div></td></tr><tr><td>Trees</td><td><table><thead><tr><th><i>index</i></th><th>value</th></tr></thead><tbody><tr><td>0</td><td><details class=\"dni-treeview\"><summary><span class=\"dni-code-hint\"><code>Microsoft.ML.Trainers.FastTree.QuantileRegressionTree</code></span></summary><div><table><thead><tr></tr></thead><tbody><tr><td>LeftChild</td><td>[ 1, 2, -1 ]</td></tr><tr><td>RightChild</td><td>[ -2, -3, -4 ]</td></tr><tr><td>NumericalSplitFeatureIndexes</td><td>[ 1353, 103, 5857 ]</td></tr><tr><td>NumericalSplitThresholds</td><td>[ 0.057353932, 0.10190575, 9.5 ]</td></tr><tr><td>CategoricalSplitFlags</td><td>[ False, False, False ]</td></tr><tr><td>LeafValues</td><td>[ -0.5764705882352941, 0.9047619047619048, -1, 0.3333333333333333 ]</td></tr><tr><td>SplitGains</td><td>[ 43.45517488043252, 8.790652661395029, 11.409432962374133 ]</td></tr><tr><td>NumberOfLeaves</td><td>4</td></tr><tr><td>NumberOfNodes</td><td>3</td></tr></tbody></table></div></details></td></tr><tr><td>1</td><td><details class=\"dni-treeview\"><summary><span class=\"dni-code-hint\"><code>Microsoft.ML.Trainers.FastTree.QuantileRegressionTree</code></span></summary><div><table><thead><tr></tr></thead><tbody><tr><td>LeftChild</td><td>[ 1, 2, -1 ]</td></tr><tr><td>RightChild</td><td>[ -2, -3, -4 ]</td></tr><tr><td>NumericalSplitFeatureIndexes</td><td>[ 1353, 106, 5850 ]</td></tr><tr><td>NumericalSplitThresholds</td><td>[ 0.057353932, 0.1075328, 0.5 ]</td></tr><tr><td>CategoricalSplitFlags</td><td>[ False, False, False ]</td></tr><tr><td>LeafValues</td><td>[ -0.24031007751937986, 0.9047619047619048, -0.9245283018867925, -0.8333333333333334 ]</td></tr><tr><td>SplitGains</td><td>[ 39.1577375797019, 11.173417128979487, 12.302719747733544 ]</td></tr><tr><td>NumberOfLeaves</td><td>4</td></tr><tr><td>NumberOfNodes</td><td>3</td></tr></tbody></table></div></details></td></tr><tr><td>2</td><td><details class=\"dni-treeview\"><summary><span class=\"dni-code-hint\"><code>Microsoft.ML.Trainers.FastTree.QuantileRegressionTree</code></span></summary><div><table><thead><tr></tr></thead><tbody><tr><td>LeftChild</td><td>[ 1, 2, -1 ]</td></tr><tr><td>RightChild</td><td>[ -2, -3, -4 ]</td></tr><tr><td>NumericalSplitFeatureIndexes</td><td>[ 50, 566, 628 ]</td></tr><tr><td>NumericalSplitThresholds</td><td>[ 0.11360833, 0.124133974, 0.052999895 ]</td></tr><tr><td>CategoricalSplitFlags</td><td>[ False, False, False ]</td></tr><tr><td>LeafValues</td><td>[ -0.7551020408163265, 0.9428571428571428, 0.2, 0.4 ]</td></tr><tr><td>SplitGains</td><td>[ 77.13147621155588, 7.7083423229054375, 12.69490786605904 ]</td></tr><tr><td>NumberOfLeaves</td><td>4</td></tr><tr><td>NumberOfNodes</td><td>3</td></tr></tbody></table></div></details></td></tr><tr><td>3</td><td><details class=\"dni-treeview\"><summary><span class=\"dni-code-hint\"><code>Microsoft.ML.Trainers.FastTree.QuantileRegressionTree</code></span></summary><div><table><thead><tr></tr></thead><tbody><tr><td>LeftChild</td><td>[ 1, 2, -1 ]</td></tr><tr><td>RightChild</td><td>[ -2, -3, -4 ]</td></tr><tr><td>NumericalSplitFeatureIndexes</td><td>[ 50, 3873, 103 ]</td></tr><tr><td>NumericalSplitThresholds</td><td>[ 0.11360833, 0.1042572, 0.10190575 ]</td></tr><tr><td>CategoricalSplitFlags</td><td>[ False, False, False ]</td></tr><tr><td>LeafValues</td><td>[ -0.5632183908045977, 0.9259259259259259, 0.2727272727272727, -1 ]</td></tr><tr><td>SplitGains</td><td>[ 56.28925136966692, 8.842590132649804, 6.330286019780814 ]</td></tr><tr><td>NumberOfLeaves</td><td>4</td></tr><tr><td>NumberOfNodes</td><td>3</td></tr></tbody></table></div></details></td></tr></tbody></table></td></tr></tbody></table></div></details></td></tr></tbody></table></div></details></td></tr></tbody></table></div></details></td></tr><tr><td><i>(values)</i></td><td><table><thead><tr><th><i>index</i></th><th><i>type</i></th><th>value</th></tr></thead><tbody><tr><td>0</td><td><span><a href=\"https://docs.microsoft.com/dotnet/api/microsoft.ml.transforms.missingvaluereplacingtransformer?view=net-7.0\">Microsoft.ML.Transforms.MissingValueReplacingTransformer</a></span></td><td><details class=\"dni-treeview\"><summary><span class=\"dni-code-hint\"><code>Microsoft.ML.Transforms.MissingValueReplacingTransformer</code></span></summary><div><table><thead><tr></tr></thead><tbody></tbody></table></div></details></td></tr><tr><td>1</td><td><span><a href=\"https://docs.microsoft.com/dotnet/api/microsoft.ml.transforms.typeconvertingtransformer?view=net-7.0\">Microsoft.ML.Transforms.TypeConvertingTransformer</a></span></td><td><details class=\"dni-treeview\"><summary><span class=\"dni-code-hint\"><code>Microsoft.ML.Transforms.TypeConvertingTransformer</code></span></summary><div><table><thead><tr></tr></thead><tbody></tbody></table></div></details></td></tr><tr><td>2</td><td><span><a href=\"https://docs.microsoft.com/dotnet/api/microsoft.ml.transforms.text.textfeaturizingestimator.transformer?view=net-7.0\">Microsoft.ML.Transforms.Text.TextFeaturizingEstimator+Transformer</a></span></td><td><details class=\"dni-treeview\"><summary><span class=\"dni-code-hint\"><code>Microsoft.ML.Transforms.Text.TextFeaturizingEstimator+Transformer</code></span></summary><div><table><thead><tr></tr></thead><tbody></tbody></table></div></details></td></tr><tr><td>3</td><td><span><a href=\"https://docs.microsoft.com/dotnet/api/microsoft.ml.data.columnconcatenatingtransformer?view=net-7.0\">Microsoft.ML.Data.ColumnConcatenatingTransformer</a></span></td><td><details class=\"dni-treeview\"><summary><span class=\"dni-code-hint\"><code>Microsoft.ML.Data.ColumnConcatenatingTransformer</code></span></summary><div><table><thead><tr></tr></thead><tbody></tbody></table></div></details></td></tr><tr><td>4</td><td><span><a href=\"https://docs.microsoft.com/dotnet/api/microsoft.ml.data.binarypredictiontransformer-1?view=net-7.0\">Microsoft.ML.Data.BinaryPredictionTransformer&lt;Microsoft.ML.Trainers.FastTree.FastForestBinaryModelParameters&gt;</a></span></td><td><details class=\"dni-treeview\"><summary><span class=\"dni-code-hint\"><code>Microsoft.ML.Data.BinaryPredictionTransformer`1[Microsoft.ML.Trainers.FastTree.FastForestBinaryModelParameters]</code></span></summary><div><table><thead><tr></tr></thead><tbody><tr><td>FeatureColumnName</td><td><div class=\"dni-plaintext\"><pre>Features</pre></div></td></tr><tr><td>FeatureColumnType</td><td><details class=\"dni-treeview\"><summary><span class=\"dni-code-hint\"><code>Vector&lt;Single, 5861&gt;</code></span></summary><div><table><thead><tr></tr></thead><tbody><tr><td>Dimensions</td><td><div class=\"dni-plaintext\"><pre>[ 5861 ]</pre></div></td></tr><tr><td>IsKnownSize</td><td><div class=\"dni-plaintext\"><pre>True</pre></div></td></tr><tr><td>ItemType</td><td><details class=\"dni-treeview\"><summary><span class=\"dni-code-hint\"><code>Single</code></span></summary><div><table><thead><tr></tr></thead><tbody><tr><td>RawType</td><td><span><a href=\"https://docs.microsoft.com/dotnet/api/system.single?view=net-7.0\">System.Single</a></span></td></tr></tbody></table></div></details></td></tr><tr><td>Size</td><td><div class=\"dni-plaintext\"><pre>5861</pre></div></td></tr><tr><td>RawType</td><td><span><a href=\"https://docs.microsoft.com/dotnet/api/microsoft.ml.data.vbuffer-1?view=net-7.0\">Microsoft.ML.Data.VBuffer&lt;System.Single&gt;</a></span></td></tr></tbody></table></div></details></td></tr><tr><td>Model</td><td><details class=\"dni-treeview\"><summary><span class=\"dni-code-hint\"><code>Microsoft.ML.Trainers.FastTree.FastForestBinaryModelParameters</code></span></summary><div><table><thead><tr></tr></thead><tbody><tr><td>TrainedTreeEnsemble</td><td><details class=\"dni-treeview\"><summary><span class=\"dni-code-hint\"><code>Microsoft.ML.Trainers.FastTree.QuantileRegressionTreeEnsemble</code></span></summary><div><table><thead><tr></tr></thead><tbody><tr><td>Bias</td><td><div class=\"dni-plaintext\"><pre>0</pre></div></td></tr><tr><td>TreeWeights</td><td><div class=\"dni-plaintext\"><pre>[ 1, 1, 1, 1 ]</pre></div></td></tr><tr><td>Trees</td><td><table><thead><tr><th><i>index</i></th><th>value</th></tr></thead><tbody><tr><td>0</td><td><details class=\"dni-treeview\"><summary><span class=\"dni-code-hint\"><code>Microsoft.ML.Trainers.FastTree.QuantileRegressionTree</code></span></summary><div><table><thead><tr></tr></thead><tbody><tr><td>LeftChild</td><td>[ 1, 2, -1 ]</td></tr><tr><td>RightChild</td><td>[ -2, -3, -4 ]</td></tr><tr><td>NumericalSplitFeatureIndexes</td><td>[ 1353, 103, 5857 ]</td></tr><tr><td>NumericalSplitThresholds</td><td>[ 0.057353932, 0.10190575, 9.5 ]</td></tr><tr><td>CategoricalSplitFlags</td><td>[ False, False, False ]</td></tr><tr><td>LeafValues</td><td>[ -0.5764705882352941, 0.9047619047619048, -1, 0.3333333333333333 ]</td></tr><tr><td>SplitGains</td><td>[ 43.45517488043252, 8.790652661395029, 11.409432962374133 ]</td></tr><tr><td>NumberOfLeaves</td><td>4</td></tr><tr><td>NumberOfNodes</td><td>3</td></tr></tbody></table></div></details></td></tr><tr><td>1</td><td><details class=\"dni-treeview\"><summary><span class=\"dni-code-hint\"><code>Microsoft.ML.Trainers.FastTree.QuantileRegressionTree</code></span></summary><div><table><thead><tr></tr></thead><tbody><tr><td>LeftChild</td><td>[ 1, 2, -1 ]</td></tr><tr><td>RightChild</td><td>[ -2, -3, -4 ]</td></tr><tr><td>NumericalSplitFeatureIndexes</td><td>[ 1353, 106, 5850 ]</td></tr><tr><td>NumericalSplitThresholds</td><td>[ 0.057353932, 0.1075328, 0.5 ]</td></tr><tr><td>CategoricalSplitFlags</td><td>[ False, False, False ]</td></tr><tr><td>LeafValues</td><td>[ -0.24031007751937986, 0.9047619047619048, -0.9245283018867925, -0.8333333333333334 ]</td></tr><tr><td>SplitGains</td><td>[ 39.1577375797019, 11.173417128979487, 12.302719747733544 ]</td></tr><tr><td>NumberOfLeaves</td><td>4</td></tr><tr><td>NumberOfNodes</td><td>3</td></tr></tbody></table></div></details></td></tr><tr><td>2</td><td><details class=\"dni-treeview\"><summary><span class=\"dni-code-hint\"><code>Microsoft.ML.Trainers.FastTree.QuantileRegressionTree</code></span></summary><div><table><thead><tr></tr></thead><tbody><tr><td>LeftChild</td><td>[ 1, 2, -1 ]</td></tr><tr><td>RightChild</td><td>[ -2, -3, -4 ]</td></tr><tr><td>NumericalSplitFeatureIndexes</td><td>[ 50, 566, 628 ]</td></tr><tr><td>NumericalSplitThresholds</td><td>[ 0.11360833, 0.124133974, 0.052999895 ]</td></tr><tr><td>CategoricalSplitFlags</td><td>[ False, False, False ]</td></tr><tr><td>LeafValues</td><td>[ -0.7551020408163265, 0.9428571428571428, 0.2, 0.4 ]</td></tr><tr><td>SplitGains</td><td>[ 77.13147621155588, 7.7083423229054375, 12.69490786605904 ]</td></tr><tr><td>NumberOfLeaves</td><td>4</td></tr><tr><td>NumberOfNodes</td><td>3</td></tr></tbody></table></div></details></td></tr><tr><td>3</td><td><details class=\"dni-treeview\"><summary><span class=\"dni-code-hint\"><code>Microsoft.ML.Trainers.FastTree.QuantileRegressionTree</code></span></summary><div><table><thead><tr></tr></thead><tbody><tr><td>LeftChild</td><td>[ 1, 2, -1 ]</td></tr><tr><td>RightChild</td><td>[ -2, -3, -4 ]</td></tr><tr><td>NumericalSplitFeatureIndexes</td><td>[ 50, 3873, 103 ]</td></tr><tr><td>NumericalSplitThresholds</td><td>[ 0.11360833, 0.1042572, 0.10190575 ]</td></tr><tr><td>CategoricalSplitFlags</td><td>[ False, False, False ]</td></tr><tr><td>LeafValues</td><td>[ -0.5632183908045977, 0.9259259259259259, 0.2727272727272727, -1 ]</td></tr><tr><td>SplitGains</td><td>[ 56.28925136966692, 8.842590132649804, 6.330286019780814 ]</td></tr><tr><td>NumberOfLeaves</td><td>4</td></tr><tr><td>NumberOfNodes</td><td>3</td></tr></tbody></table></div></details></td></tr></tbody></table></td></tr></tbody></table></div></details></td></tr></tbody></table></div></details></td></tr></tbody></table></div></details></td></tr></tbody></table></td></tr></tbody></table></div></details><style>\r\n",
       ".dni-code-hint {\r\n",
       "    font-style: italic;\r\n",
       "    overflow: hidden;\r\n",
       "    white-space: nowrap;\r\n",
       "}\r\n",
       ".dni-treeview {\r\n",
       "    white-space: nowrap;\r\n",
       "}\r\n",
       ".dni-treeview td {\r\n",
       "    vertical-align: top;\r\n",
       "    text-align: start;\r\n",
       "}\r\n",
       "details.dni-treeview {\r\n",
       "    padding-left: 1em;\r\n",
       "}\r\n",
       "table td {\r\n",
       "    text-align: start;\r\n",
       "}\r\n",
       "table tr { \r\n",
       "    vertical-align: top; \r\n",
       "    margin: 0em 0px;\r\n",
       "}\r\n",
       "table tr td pre \r\n",
       "{ \r\n",
       "    vertical-align: top !important; \r\n",
       "    margin: 0em 0px !important;\r\n",
       "} \r\n",
       "table th {\r\n",
       "    text-align: start;\r\n",
       "}\r\n",
       "</style>"
      ]
     },
     "metadata": {},
     "output_type": "display_data"
    }
   ],
   "source": [
    "model"
   ]
  },
  {
   "cell_type": "code",
   "execution_count": 13,
   "metadata": {
    "vscode": {
     "languageId": "polyglot-notebook"
    }
   },
   "outputs": [
    {
     "data": {
      "text/html": [
       "<div class=\"mermaidMarkdownContainer\" style=\"background-color:white\">\n",
       "<link rel=\"stylesheet\" href=\"https://cdnjs.cloudflare.com/ajax/libs/font-awesome/6.2.0/css/all.min.css\">\n",
       "<div id=\"c52791f0aa74418a88293dee227211b5\"></div>\n",
       "<script type=\"module\">\n",
       "\r\n",
       "            import mermaid from 'https://cdn.jsdelivr.net/npm/mermaid@10.6.1/dist/mermaid.esm.min.mjs';\r\n",
       "            let renderTarget = document.getElementById('c52791f0aa74418a88293dee227211b5');\r\n",
       "            try {\r\n",
       "                const {svg, bindFunctions} = await mermaid.mermaidAPI.render( \r\n",
       "                    'mermaid_c52791f0aa74418a88293dee227211b5', \r\n",
       "                    `stateDiagram-v2\n",
       "state \"TransformerChain\" AS t1 {\n",
       "t1_1: MissingValueReplacingTransformer\n",
       "note right of t1_1\n",
       "Replace missing values in 11 column(s) with 0.0\n",
       "end note\n",
       "t1_2: TypeConvertingTransformer\n",
       "note right of t1_2\n",
       "Convert IsMerge to Single, HasAddedFiles to Single, HasDeletedFiles to Single\n",
       "end note\n",
       "t1_3: Transformer\n",
       "note right of t1_3\n",
       "8 Children\n",
       "end note\n",
       "t1_4: ColumnConcatenatingTransformer\n",
       "note right of t1_4\n",
       "Concat 15 columns to Features\n",
       "end note\n",
       "t1_5: BinaryPredictionTransformer_FastForestBinaryModelParameters_\n",
       "t1_1 --> t1_2\n",
       "t1_2 --> t1_3\n",
       "t1_3 --> t1_4\n",
       "t1_4 --> t1_5\n",
       "}\n",
       "\n",
       "`);\r\n",
       "                renderTarget.innerHTML = svg;\r\n",
       "                bindFunctions?.(renderTarget);\r\n",
       "            }\r\n",
       "            catch (error) {\r\n",
       "                console.log(error);\r\n",
       "            }\n",
       "</script>\n",
       "</div>\n"
      ]
     },
     "metadata": {},
     "output_type": "display_data"
    }
   ],
   "source": [
    "#!transformer-vis model -d 1 -n"
   ]
  },
  {
   "cell_type": "code",
   "execution_count": 14,
   "metadata": {
    "vscode": {
     "languageId": "polyglot-notebook"
    }
   },
   "outputs": [
    {
     "data": {
      "text/html": [
       "<div class=\"mermaidMarkdownContainer\" style=\"background-color:white\">\n",
       "<link rel=\"stylesheet\" href=\"https://cdnjs.cloudflare.com/ajax/libs/font-awesome/6.2.0/css/all.min.css\">\n",
       "<div id=\"a56695e0d6af448bb9e91e214fe90f05\"></div>\n",
       "<script type=\"module\">\n",
       "\r\n",
       "            import mermaid from 'https://cdn.jsdelivr.net/npm/mermaid@10.6.1/dist/mermaid.esm.min.mjs';\r\n",
       "            let renderTarget = document.getElementById('a56695e0d6af448bb9e91e214fe90f05');\r\n",
       "            try {\r\n",
       "                const {svg, bindFunctions} = await mermaid.mermaidAPI.render( \r\n",
       "                    'mermaid_a56695e0d6af448bb9e91e214fe90f05', \r\n",
       "                    `stateDiagram-v2\n",
       "state \"Transformer\" AS t1 {\n",
       "t1_1: TextNormalizingTransformer\n",
       "t1_2: WordTokenizingTransformer\n",
       "t1_3: TransformerChain\n",
       "state \"TransformerChain\" AS t1_3 {\n",
       "direction LR\n",
       "t1_3_1: ValueToKeyMappingTransformer\n",
       "t1_3_2: NgramExtractingTransformer\n",
       "t1_3_1 --> t1_3_2\n",
       "}\n",
       "\n",
       "t1_4: TokenizingByCharactersTransformer\n",
       "t1_5: TransformerChain\n",
       "state \"TransformerChain\" AS t1_5 {\n",
       "direction LR\n",
       "t1_5_1: NgramExtractingTransformer\n",
       "}\n",
       "\n",
       "t1_6: LpNormNormalizingTransformer\n",
       "t1_7: ColumnConcatenatingTransformer\n",
       "t1_8: ColumnSelectingTransformer\n",
       "t1_1 --> t1_2\n",
       "t1_2 --> t1_3\n",
       "t1_3 --> t1_4\n",
       "t1_4 --> t1_5\n",
       "t1_5 --> t1_6\n",
       "t1_6 --> t1_7\n",
       "t1_7 --> t1_8\n",
       "}\n",
       "\n",
       "`);\r\n",
       "                renderTarget.innerHTML = svg;\r\n",
       "                bindFunctions?.(renderTarget);\r\n",
       "            }\r\n",
       "            catch (error) {\r\n",
       "                console.log(error);\r\n",
       "            }\n",
       "</script>\n",
       "</div>\n"
      ]
     },
     "metadata": {},
     "output_type": "display_data"
    }
   ],
   "source": [
    "var enumTransformer = ((IEnumerable<Microsoft.ML.ITransformer>) model);\n",
    "var textTransformer = enumTransformer.ToList()[2]; \n",
    "#!transformer-vis textTransformer -d 2"
   ]
  },
  {
   "cell_type": "markdown",
   "metadata": {},
   "source": [
    "## Custom Pipeline\n",
    "\n",
    "The prior model did fine, but we'd like more control over the text transformation, so we'll provide our own complex pipeline for text processing."
   ]
  },
  {
   "cell_type": "code",
   "execution_count": 15,
   "metadata": {
    "vscode": {
     "languageId": "polyglot-notebook"
    }
   },
   "outputs": [
    {
     "data": {
      "text/html": [
       "<div><div id=\"17f3ef84-0b99-404e-926b-5055f88e21db\"><!-- Plotly chart will be drawn inside this DIV --></div><script type=\"text/javascript\">\n",
       "var renderPlotly_17f3ef840b99404e926b5055f88e21db = function() {\n",
       "    var fsharpPlotlyRequire = requirejs.config({context:'fsharp-plotly',paths:{plotly:'https://cdn.plot.ly/plotly-2.27.1.min'}}) || require;\n",
       "    fsharpPlotlyRequire(['plotly'], function(Plotly) {\n",
       "        var data = [{\"type\":\"scatter\",\"name\":\"Best Result\",\"mode\":\"lines\",\"x\":[0,1,2,3,4,5,6,7,8,9],\"y\":[0.6835443037974684,0.6835443037974684,0.6835443037974684,0.6835443037974684,0.6835443037974684,0.6835443037974684,0.6835443037974684,0.6835443037974684,0.6835443037974684,0.6835443037974684],\"marker\":{},\"line\":{\"width\":2.0,\"dash\":\"dot\"}},{\"type\":\"scatter\",\"name\":\"Trial Result\",\"mode\":\"markers\",\"x\":[0,1,2,3,4,5,6,7,8,9],\"y\":[0.6835443037974684,0.675,0.6829268292682927,0.6829268292682927,0.6086956521739131,0.675,0.6666666666666666,0.6578947368421053,0.6493506493506493,0.6835443037974684],\"marker\":{},\"line\":{}}];\n",
       "        var layout = {\"width\":800,\"height\":600,\"template\":{\"layout\":{\"title\":{\"x\":0.05},\"font\":{\"color\":\"rgba(42, 63, 95, 1.0)\"},\"paper_bgcolor\":\"rgba(255, 255, 255, 1.0)\",\"plot_bgcolor\":\"rgba(229, 236, 246, 1.0)\",\"autotypenumbers\":\"strict\",\"colorscale\":{\"diverging\":[[0.0,\"#8e0152\"],[0.1,\"#c51b7d\"],[0.2,\"#de77ae\"],[0.3,\"#f1b6da\"],[0.4,\"#fde0ef\"],[0.5,\"#f7f7f7\"],[0.6,\"#e6f5d0\"],[0.7,\"#b8e186\"],[0.8,\"#7fbc41\"],[0.9,\"#4d9221\"],[1.0,\"#276419\"]],\"sequential\":[[0.0,\"#0d0887\"],[0.1111111111111111,\"#46039f\"],[0.2222222222222222,\"#7201a8\"],[0.3333333333333333,\"#9c179e\"],[0.4444444444444444,\"#bd3786\"],[0.5555555555555556,\"#d8576b\"],[0.6666666666666666,\"#ed7953\"],[0.7777777777777778,\"#fb9f3a\"],[0.8888888888888888,\"#fdca26\"],[1.0,\"#f0f921\"]],\"sequentialminus\":[[0.0,\"#0d0887\"],[0.1111111111111111,\"#46039f\"],[0.2222222222222222,\"#7201a8\"],[0.3333333333333333,\"#9c179e\"],[0.4444444444444444,\"#bd3786\"],[0.5555555555555556,\"#d8576b\"],[0.6666666666666666,\"#ed7953\"],[0.7777777777777778,\"#fb9f3a\"],[0.8888888888888888,\"#fdca26\"],[1.0,\"#f0f921\"]]},\"hovermode\":\"closest\",\"hoverlabel\":{\"align\":\"left\"},\"coloraxis\":{\"colorbar\":{\"outlinewidth\":0.0,\"ticks\":\"\"}},\"geo\":{\"showland\":true,\"landcolor\":\"rgba(229, 236, 246, 1.0)\",\"showlakes\":true,\"lakecolor\":\"rgba(255, 255, 255, 1.0)\",\"subunitcolor\":\"rgba(255, 255, 255, 1.0)\",\"bgcolor\":\"rgba(255, 255, 255, 1.0)\"},\"mapbox\":{\"style\":\"light\"},\"polar\":{\"bgcolor\":\"rgba(229, 236, 246, 1.0)\",\"radialaxis\":{\"linecolor\":\"rgba(255, 255, 255, 1.0)\",\"gridcolor\":\"rgba(255, 255, 255, 1.0)\",\"ticks\":\"\"},\"angularaxis\":{\"linecolor\":\"rgba(255, 255, 255, 1.0)\",\"gridcolor\":\"rgba(255, 255, 255, 1.0)\",\"ticks\":\"\"}},\"scene\":{\"xaxis\":{\"ticks\":\"\",\"linecolor\":\"rgba(255, 255, 255, 1.0)\",\"gridcolor\":\"rgba(255, 255, 255, 1.0)\",\"gridwidth\":2.0,\"zerolinecolor\":\"rgba(255, 255, 255, 1.0)\",\"backgroundcolor\":\"rgba(229, 236, 246, 1.0)\",\"showbackground\":true},\"yaxis\":{\"ticks\":\"\",\"linecolor\":\"rgba(255, 255, 255, 1.0)\",\"gridcolor\":\"rgba(255, 255, 255, 1.0)\",\"gridwidth\":2.0,\"zerolinecolor\":\"rgba(255, 255, 255, 1.0)\",\"backgroundcolor\":\"rgba(229, 236, 246, 1.0)\",\"showbackground\":true},\"zaxis\":{\"ticks\":\"\",\"linecolor\":\"rgba(255, 255, 255, 1.0)\",\"gridcolor\":\"rgba(255, 255, 255, 1.0)\",\"gridwidth\":2.0,\"zerolinecolor\":\"rgba(255, 255, 255, 1.0)\",\"backgroundcolor\":\"rgba(229, 236, 246, 1.0)\",\"showbackground\":true}},\"ternary\":{\"aaxis\":{\"ticks\":\"\",\"linecolor\":\"rgba(255, 255, 255, 1.0)\",\"gridcolor\":\"rgba(255, 255, 255, 1.0)\"},\"baxis\":{\"ticks\":\"\",\"linecolor\":\"rgba(255, 255, 255, 1.0)\",\"gridcolor\":\"rgba(255, 255, 255, 1.0)\"},\"caxis\":{\"ticks\":\"\",\"linecolor\":\"rgba(255, 255, 255, 1.0)\",\"gridcolor\":\"rgba(255, 255, 255, 1.0)\"},\"bgcolor\":\"rgba(229, 236, 246, 1.0)\"},\"xaxis\":{\"title\":{\"standoff\":15},\"ticks\":\"\",\"automargin\":\"height+width+left+right+top+bottom\",\"linecolor\":\"rgba(255, 255, 255, 1.0)\",\"gridcolor\":\"rgba(255, 255, 255, 1.0)\",\"zerolinecolor\":\"rgba(255, 255, 255, 1.0)\",\"zerolinewidth\":2.0},\"yaxis\":{\"title\":{\"standoff\":15},\"ticks\":\"\",\"automargin\":\"height+width+left+right+top+bottom\",\"linecolor\":\"rgba(255, 255, 255, 1.0)\",\"gridcolor\":\"rgba(255, 255, 255, 1.0)\",\"zerolinecolor\":\"rgba(255, 255, 255, 1.0)\",\"zerolinewidth\":2.0},\"annotationdefaults\":{\"arrowcolor\":\"#2a3f5f\",\"arrowhead\":0,\"arrowwidth\":1},\"shapedefaults\":{\"line\":{\"color\":\"rgba(42, 63, 95, 1.0)\"}},\"colorway\":[\"rgba(99, 110, 250, 1.0)\",\"rgba(239, 85, 59, 1.0)\",\"rgba(0, 204, 150, 1.0)\",\"rgba(171, 99, 250, 1.0)\",\"rgba(255, 161, 90, 1.0)\",\"rgba(25, 211, 243, 1.0)\",\"rgba(255, 102, 146, 1.0)\",\"rgba(182, 232, 128, 1.0)\",\"rgba(255, 151, 255, 1.0)\",\"rgba(254, 203, 82, 1.0)\"]},\"data\":{\"bar\":[{\"marker\":{\"line\":{\"color\":\"rgba(229, 236, 246, 1.0)\",\"width\":0.5},\"pattern\":{\"fillmode\":\"overlay\",\"size\":10,\"solidity\":0.2}},\"error_x\":{\"color\":\"rgba(42, 63, 95, 1.0)\"},\"error_y\":{\"color\":\"rgba(42, 63, 95, 1.0)\"}}],\"barpolar\":[{\"marker\":{\"line\":{\"color\":\"rgba(229, 236, 246, 1.0)\",\"width\":0.5},\"pattern\":{\"fillmode\":\"overlay\",\"size\":10,\"solidity\":0.2}}}],\"carpet\":[{\"aaxis\":{\"linecolor\":\"rgba(255, 255, 255, 1.0)\",\"gridcolor\":\"rgba(255, 255, 255, 1.0)\",\"endlinecolor\":\"rgba(42, 63, 95, 1.0)\",\"minorgridcolor\":\"rgba(255, 255, 255, 1.0)\",\"startlinecolor\":\"rgba(42, 63, 95, 1.0)\"},\"baxis\":{\"linecolor\":\"rgba(255, 255, 255, 1.0)\",\"gridcolor\":\"rgba(255, 255, 255, 1.0)\",\"endlinecolor\":\"rgba(42, 63, 95, 1.0)\",\"minorgridcolor\":\"rgba(255, 255, 255, 1.0)\",\"startlinecolor\":\"rgba(42, 63, 95, 1.0)\"}}],\"choropleth\":[{\"colorbar\":{\"outlinewidth\":0.0,\"ticks\":\"\"},\"colorscale\":[[0.0,\"#0d0887\"],[0.1111111111111111,\"#46039f\"],[0.2222222222222222,\"#7201a8\"],[0.3333333333333333,\"#9c179e\"],[0.4444444444444444,\"#bd3786\"],[0.5555555555555556,\"#d8576b\"],[0.6666666666666666,\"#ed7953\"],[0.7777777777777778,\"#fb9f3a\"],[0.8888888888888888,\"#fdca26\"],[1.0,\"#f0f921\"]]}],\"contour\":[{\"colorbar\":{\"outlinewidth\":0.0,\"ticks\":\"\"},\"colorscale\":[[0.0,\"#0d0887\"],[0.1111111111111111,\"#46039f\"],[0.2222222222222222,\"#7201a8\"],[0.3333333333333333,\"#9c179e\"],[0.4444444444444444,\"#bd3786\"],[0.5555555555555556,\"#d8576b\"],[0.6666666666666666,\"#ed7953\"],[0.7777777777777778,\"#fb9f3a\"],[0.8888888888888888,\"#fdca26\"],[1.0,\"#f0f921\"]]}],\"contourcarpet\":[{\"colorbar\":{\"outlinewidth\":0.0,\"ticks\":\"\"}}],\"heatmap\":[{\"colorbar\":{\"outlinewidth\":0.0,\"ticks\":\"\"},\"colorscale\":[[0.0,\"#0d0887\"],[0.1111111111111111,\"#46039f\"],[0.2222222222222222,\"#7201a8\"],[0.3333333333333333,\"#9c179e\"],[0.4444444444444444,\"#bd3786\"],[0.5555555555555556,\"#d8576b\"],[0.6666666666666666,\"#ed7953\"],[0.7777777777777778,\"#fb9f3a\"],[0.8888888888888888,\"#fdca26\"],[1.0,\"#f0f921\"]]}],\"heatmapgl\":[{\"colorbar\":{\"outlinewidth\":0.0,\"ticks\":\"\"},\"colorscale\":[[0.0,\"#0d0887\"],[0.1111111111111111,\"#46039f\"],[0.2222222222222222,\"#7201a8\"],[0.3333333333333333,\"#9c179e\"],[0.4444444444444444,\"#bd3786\"],[0.5555555555555556,\"#d8576b\"],[0.6666666666666666,\"#ed7953\"],[0.7777777777777778,\"#fb9f3a\"],[0.8888888888888888,\"#fdca26\"],[1.0,\"#f0f921\"]]}],\"histogram\":[{\"marker\":{\"pattern\":{\"fillmode\":\"overlay\",\"size\":10,\"solidity\":0.2}}}],\"histogram2d\":[{\"colorbar\":{\"outlinewidth\":0.0,\"ticks\":\"\"},\"colorscale\":[[0.0,\"#0d0887\"],[0.1111111111111111,\"#46039f\"],[0.2222222222222222,\"#7201a8\"],[0.3333333333333333,\"#9c179e\"],[0.4444444444444444,\"#bd3786\"],[0.5555555555555556,\"#d8576b\"],[0.6666666666666666,\"#ed7953\"],[0.7777777777777778,\"#fb9f3a\"],[0.8888888888888888,\"#fdca26\"],[1.0,\"#f0f921\"]]}],\"histogram2dcontour\":[{\"colorbar\":{\"outlinewidth\":0.0,\"ticks\":\"\"},\"colorscale\":[[0.0,\"#0d0887\"],[0.1111111111111111,\"#46039f\"],[0.2222222222222222,\"#7201a8\"],[0.3333333333333333,\"#9c179e\"],[0.4444444444444444,\"#bd3786\"],[0.5555555555555556,\"#d8576b\"],[0.6666666666666666,\"#ed7953\"],[0.7777777777777778,\"#fb9f3a\"],[0.8888888888888888,\"#fdca26\"],[1.0,\"#f0f921\"]]}],\"mesh3d\":[{\"colorbar\":{\"outlinewidth\":0.0,\"ticks\":\"\"}}],\"parcoords\":[{\"line\":{\"colorbar\":{\"outlinewidth\":0.0,\"ticks\":\"\"}}}],\"pie\":[{\"automargin\":true}],\"scatter\":[{\"marker\":{\"colorbar\":{\"outlinewidth\":0.0,\"ticks\":\"\"}}}],\"scatter3d\":[{\"marker\":{\"colorbar\":{\"outlinewidth\":0.0,\"ticks\":\"\"}},\"line\":{\"colorbar\":{\"outlinewidth\":0.0,\"ticks\":\"\"}}}],\"scattercarpet\":[{\"marker\":{\"colorbar\":{\"outlinewidth\":0.0,\"ticks\":\"\"}}}],\"scattergeo\":[{\"marker\":{\"colorbar\":{\"outlinewidth\":0.0,\"ticks\":\"\"}}}],\"scattergl\":[{\"marker\":{\"colorbar\":{\"outlinewidth\":0.0,\"ticks\":\"\"}}}],\"scattermapbox\":[{\"marker\":{\"colorbar\":{\"outlinewidth\":0.0,\"ticks\":\"\"}}}],\"scatterpolar\":[{\"marker\":{\"colorbar\":{\"outlinewidth\":0.0,\"ticks\":\"\"}}}],\"scatterpolargl\":[{\"marker\":{\"colorbar\":{\"outlinewidth\":0.0,\"ticks\":\"\"}}}],\"scatterternary\":[{\"marker\":{\"colorbar\":{\"outlinewidth\":0.0,\"ticks\":\"\"}}}],\"surface\":[{\"colorbar\":{\"outlinewidth\":0.0,\"ticks\":\"\"},\"colorscale\":[[0.0,\"#0d0887\"],[0.1111111111111111,\"#46039f\"],[0.2222222222222222,\"#7201a8\"],[0.3333333333333333,\"#9c179e\"],[0.4444444444444444,\"#bd3786\"],[0.5555555555555556,\"#d8576b\"],[0.6666666666666666,\"#ed7953\"],[0.7777777777777778,\"#fb9f3a\"],[0.8888888888888888,\"#fdca26\"],[1.0,\"#f0f921\"]]}],\"table\":[{\"cells\":{\"fill\":{\"color\":\"rgba(235, 240, 248, 1.0)\"},\"line\":{\"color\":\"rgba(255, 255, 255, 1.0)\"}},\"header\":{\"fill\":{\"color\":\"rgba(200, 212, 227, 1.0)\"},\"line\":{\"color\":\"rgba(255, 255, 255, 1.0)\"}}}]}},\"title\":{\"text\":\"Trial Metrics over Multiple Trials\"},\"xaxis\":{\"title\":{\"text\":\"Trial Number\"}},\"yaxis\":{\"title\":{\"text\":\"Primary Metric Value\"}}};\n",
       "        var config = {\"responsive\":true};\n",
       "        Plotly.newPlot('17f3ef84-0b99-404e-926b-5055f88e21db', data, layout, config);\n",
       "    });\n",
       "};\n",
       "if ((typeof(requirejs) !==  typeof(Function)) || (typeof(requirejs.config) !== typeof(Function))) {\n",
       "    var script = document.createElement(\"script\");\n",
       "    script.setAttribute(\"charset\", \"utf-8\");\n",
       "    script.setAttribute(\"src\", \"https://cdnjs.cloudflare.com/ajax/libs/require.js/2.3.6/require.min.js\");\n",
       "    script.onload = function(){\n",
       "        renderPlotly_17f3ef840b99404e926b5055f88e21db();\n",
       "    };\n",
       "    document.getElementsByTagName(\"head\")[0].appendChild(script);\n",
       "}\n",
       "else {\n",
       "    renderPlotly_17f3ef840b99404e926b5055f88e21db();\n",
       "}\n",
       "</script></div>"
      ]
     },
     "metadata": {},
     "output_type": "display_data"
    }
   ],
   "source": [
    "MLContext context = new(seed: seed) {\n",
    "    GpuDeviceId = 0,\n",
    "    FallbackToCpu = true,\n",
    "};\n",
    "ContextMonitor contextMonitor = context.Monitor();\n",
    "\n",
    "// Standardize our numeric colums via scaling and imputing missing values\n",
    "MissingValueReplacingEstimator imputer = context.Transforms.ReplaceMissingValues(columns: colTypes.Numeric.Select(c => new InputOutputColumnPair(c, c)).ToArray(), replacementMode: MissingValueReplacingEstimator.ReplacementMode.DefaultValue);\n",
    "NormalizingEstimator scaler = context.Transforms.NormalizeRobustScaling(columns: colTypes.Numeric.Select(c => new InputOutputColumnPair(c, c)).ToArray());\n",
    "\n",
    "// Standardize our boolean columns as singles\n",
    "TypeConvertingEstimator boolConverter = context.Transforms.Conversion.ConvertType(columns: colTypes.Categorical.Select(c => new InputOutputColumnPair(c, c)).ToArray(), outputKind: DataKind.Single);\n",
    "    \n",
    "// Text pre-processing\n",
    "TextNormalizingEstimator textNormalizer = context.Transforms.Text.NormalizeText(inputColumnName: \"Message\", outputColumnName: \"Message\", caseMode: TextNormalizingEstimator.CaseMode.Lower, keepDiacritics: false, keepPunctuations: false, keepNumbers: false);\n",
    "\n",
    "// Word trigrams / bigrams / unigrams\n",
    "WordTokenizingEstimator wordTokenizer = context.Transforms.Text.TokenizeIntoWords(inputColumnName: \"Message\", outputColumnName: \"MessageWords\");\n",
    "StopWordsRemovingEstimator stopRemover = context.Transforms.Text.RemoveDefaultStopWords(inputColumnName: \"MessageWords\", outputColumnName: \"MessageWords\", language: StopWordsRemovingEstimator.Language.English);\n",
    "ValueToKeyMappingEstimator labelConverter = context.Transforms.Conversion.MapValueToKey(inputColumnName: \"MessageWords\", outputColumnName: \"MessageWords\");\n",
    "NgramExtractingEstimator ngramExtractor = context.Transforms.Text.ProduceNgrams(inputColumnName: \"MessageWords\", outputColumnName: \"MessageWords\", ngramLength: 3, useAllLengths: true, weighting: NgramExtractingEstimator.WeightingCriteria.TfIdf);\n",
    "LpNormNormalizingEstimator wordNorm = context.Transforms.NormalizeLpNorm(inputColumnName: \"MessageWords\", outputColumnName: \"MessageWords\", norm: LpNormNormalizingEstimator.NormFunction.L2);\n",
    "\n",
    "// Character ngrams\n",
    "TokenizingByCharactersEstimator charTokenizer = context.Transforms.Text.TokenizeIntoCharactersAsKeys(inputColumnName: \"Message\", outputColumnName: \"MessageChars\");\n",
    "NgramExtractingEstimator charNgram = context.Transforms.Text.ProduceNgrams(inputColumnName: \"MessageChars\", outputColumnName: \"MessageChars\", ngramLength: 3, useAllLengths: true, skipLength: 1);\n",
    "LpNormNormalizingEstimator charNorm = context.Transforms.NormalizeLpNorm(inputColumnName: \"MessageChars\", outputColumnName: \"MessageChars\", norm: LpNormNormalizingEstimator.NormFunction.L2);\n",
    "\n",
    "// We'll concatenate the word and Ngram features together, along with all of our numeric and boolean columns\n",
    "ColumnConcatenatingEstimator concat = context.Transforms.Concatenate(\"Features\", inputColumnNames: colTypes.Numeric.Concat(colTypes.Categorical).Concat(new[] { \"MessageWords\", \"MessageChars\"}).ToArray());\n",
    "\n",
    "// Since we have scaling in place, let's use all available classifiers\n",
    "var classifier = context.Auto().BinaryClassification(\n",
    "    useFastForest: true, \n",
    "    useLgbm: true, \n",
    "    useFastTree: true, \n",
    "    useLbfgsLogisticRegression: true, \n",
    "    useSdcaLogisticRegression: true);\n",
    "\n",
    "// Build a pipeline\n",
    "SweepablePipeline pipeline = imputer\n",
    "    .Append(boolConverter)\n",
    "    .Append(scaler)\n",
    "    .Append(textNormalizer)\n",
    "    .Append(wordTokenizer)\n",
    "    .Append(stopRemover)\n",
    "    .Append(labelConverter)\n",
    "    .Append(ngramExtractor)\n",
    "    .Append(wordNorm)\n",
    "    .Append(charTokenizer)\n",
    "    .Append(charNgram)\n",
    "    .Append(charNorm)\n",
    "    .Append(concat)\n",
    "    .Append(classifier);\n",
    "\n",
    "// Now let's run our experiment using our custom pipeline\n",
    "var experiment = context.Auto().CreateExperiment()\n",
    "    .SetPipeline(pipeline)\n",
    "    .SetDataset(split)\n",
    "    .SetBinaryClassificationMetric(BinaryClassificationMetric.F1Score, labelColumn: \"Label\")\n",
    "    .SetMaxModelToExplore(10);\n",
    "\n",
    "TrialResult result = await experiment.RunAsync();\n",
    "ITransformer model = result.Model;\n",
    "\n",
    "MLCharts.MetricImprovementWithTrials(contextMonitor)"
   ]
  },
  {
   "cell_type": "code",
   "execution_count": 16,
   "metadata": {
    "vscode": {
     "languageId": "polyglot-notebook"
    }
   },
   "outputs": [
    {
     "data": {
      "text/html": [
       "<div><div id=\"cf3d1721-0860-4703-a2bf-8e2c576de06c\"><!-- Plotly chart will be drawn inside this DIV --></div><script type=\"text/javascript\">\n",
       "var renderPlotly_cf3d172108604703a2bf8e2c576de06c = function() {\n",
       "    var fsharpPlotlyRequire = requirejs.config({context:'fsharp-plotly',paths:{plotly:'https://cdn.plot.ly/plotly-2.27.1.min'}}) || require;\n",
       "    fsharpPlotlyRequire(['plotly'], function(Plotly) {\n",
       "        var data = [{\"type\":\"heatmap\",\"x\":[\"Positive\",\"Negative\"],\"y\":[\"Positive\",\"Negative\"],\"z\":[[27.0,20.0],[5.0,94.0]],\"colorscale\":[[0.0,\"#FFFFFF\"],[0.5,\"#009dcf\"],[1.0,\"#003171\"]],\"showscale\":false,\"xaxis\":\"x\",\"yaxis\":\"y\",\"marker\":{\"showscale\":false}},{\"type\":\"bar\",\"x\":[0.9494949494949495,0.8245614035087719,0.574468085106383,0.84375,0.7521704932927897,0.7754137115839244,0.6835443037974684,0.8287671232876712],\"y\":[\"Negative Recall\",\"Negative Precision\",\"Positive Recall\",\"Positive Precision\",\"AUCPR\",\"AUC\",\"F1 Score\",\"Accuracy\"],\"text\":[\"0.949\",\"0.825\",\"0.574\",\"0.844\",\"0.752\",\"0.775\",\"0.684\",\"0.829\"],\"orientation\":\"h\",\"marker\":{\"color\":\"#003171\",\"pattern\":{},\"showscale\":false},\"xaxis\":\"x2\",\"yaxis\":\"y2\"}];\n",
       "        var layout = {\"width\":600,\"height\":600,\"template\":{\"layout\":{\"title\":{\"x\":0.05},\"font\":{\"color\":\"rgba(42, 63, 95, 1.0)\"},\"paper_bgcolor\":\"rgba(255, 255, 255, 1.0)\",\"plot_bgcolor\":\"rgba(229, 236, 246, 1.0)\",\"autotypenumbers\":\"strict\",\"colorscale\":{\"diverging\":[[0.0,\"#8e0152\"],[0.1,\"#c51b7d\"],[0.2,\"#de77ae\"],[0.3,\"#f1b6da\"],[0.4,\"#fde0ef\"],[0.5,\"#f7f7f7\"],[0.6,\"#e6f5d0\"],[0.7,\"#b8e186\"],[0.8,\"#7fbc41\"],[0.9,\"#4d9221\"],[1.0,\"#276419\"]],\"sequential\":[[0.0,\"#0d0887\"],[0.1111111111111111,\"#46039f\"],[0.2222222222222222,\"#7201a8\"],[0.3333333333333333,\"#9c179e\"],[0.4444444444444444,\"#bd3786\"],[0.5555555555555556,\"#d8576b\"],[0.6666666666666666,\"#ed7953\"],[0.7777777777777778,\"#fb9f3a\"],[0.8888888888888888,\"#fdca26\"],[1.0,\"#f0f921\"]],\"sequentialminus\":[[0.0,\"#0d0887\"],[0.1111111111111111,\"#46039f\"],[0.2222222222222222,\"#7201a8\"],[0.3333333333333333,\"#9c179e\"],[0.4444444444444444,\"#bd3786\"],[0.5555555555555556,\"#d8576b\"],[0.6666666666666666,\"#ed7953\"],[0.7777777777777778,\"#fb9f3a\"],[0.8888888888888888,\"#fdca26\"],[1.0,\"#f0f921\"]]},\"hovermode\":\"closest\",\"hoverlabel\":{\"align\":\"left\"},\"coloraxis\":{\"colorbar\":{\"outlinewidth\":0.0,\"ticks\":\"\"}},\"geo\":{\"showland\":true,\"landcolor\":\"rgba(229, 236, 246, 1.0)\",\"showlakes\":true,\"lakecolor\":\"rgba(255, 255, 255, 1.0)\",\"subunitcolor\":\"rgba(255, 255, 255, 1.0)\",\"bgcolor\":\"rgba(255, 255, 255, 1.0)\"},\"mapbox\":{\"style\":\"light\"},\"polar\":{\"bgcolor\":\"rgba(229, 236, 246, 1.0)\",\"radialaxis\":{\"linecolor\":\"rgba(255, 255, 255, 1.0)\",\"gridcolor\":\"rgba(255, 255, 255, 1.0)\",\"ticks\":\"\"},\"angularaxis\":{\"linecolor\":\"rgba(255, 255, 255, 1.0)\",\"gridcolor\":\"rgba(255, 255, 255, 1.0)\",\"ticks\":\"\"}},\"scene\":{\"xaxis\":{\"ticks\":\"\",\"linecolor\":\"rgba(255, 255, 255, 1.0)\",\"gridcolor\":\"rgba(255, 255, 255, 1.0)\",\"gridwidth\":2.0,\"zerolinecolor\":\"rgba(255, 255, 255, 1.0)\",\"backgroundcolor\":\"rgba(229, 236, 246, 1.0)\",\"showbackground\":true},\"yaxis\":{\"ticks\":\"\",\"linecolor\":\"rgba(255, 255, 255, 1.0)\",\"gridcolor\":\"rgba(255, 255, 255, 1.0)\",\"gridwidth\":2.0,\"zerolinecolor\":\"rgba(255, 255, 255, 1.0)\",\"backgroundcolor\":\"rgba(229, 236, 246, 1.0)\",\"showbackground\":true},\"zaxis\":{\"ticks\":\"\",\"linecolor\":\"rgba(255, 255, 255, 1.0)\",\"gridcolor\":\"rgba(255, 255, 255, 1.0)\",\"gridwidth\":2.0,\"zerolinecolor\":\"rgba(255, 255, 255, 1.0)\",\"backgroundcolor\":\"rgba(229, 236, 246, 1.0)\",\"showbackground\":true}},\"ternary\":{\"aaxis\":{\"ticks\":\"\",\"linecolor\":\"rgba(255, 255, 255, 1.0)\",\"gridcolor\":\"rgba(255, 255, 255, 1.0)\"},\"baxis\":{\"ticks\":\"\",\"linecolor\":\"rgba(255, 255, 255, 1.0)\",\"gridcolor\":\"rgba(255, 255, 255, 1.0)\"},\"caxis\":{\"ticks\":\"\",\"linecolor\":\"rgba(255, 255, 255, 1.0)\",\"gridcolor\":\"rgba(255, 255, 255, 1.0)\"},\"bgcolor\":\"rgba(229, 236, 246, 1.0)\"},\"xaxis\":{\"title\":{\"standoff\":15},\"ticks\":\"\",\"automargin\":\"height+width+left+right+top+bottom\",\"linecolor\":\"rgba(255, 255, 255, 1.0)\",\"gridcolor\":\"rgba(255, 255, 255, 1.0)\",\"zerolinecolor\":\"rgba(255, 255, 255, 1.0)\",\"zerolinewidth\":2.0},\"yaxis\":{\"title\":{\"standoff\":15},\"ticks\":\"\",\"automargin\":\"height+width+left+right+top+bottom\",\"linecolor\":\"rgba(255, 255, 255, 1.0)\",\"gridcolor\":\"rgba(255, 255, 255, 1.0)\",\"zerolinecolor\":\"rgba(255, 255, 255, 1.0)\",\"zerolinewidth\":2.0},\"annotationdefaults\":{\"arrowcolor\":\"#2a3f5f\",\"arrowhead\":0,\"arrowwidth\":1},\"shapedefaults\":{\"line\":{\"color\":\"rgba(42, 63, 95, 1.0)\"}},\"colorway\":[\"rgba(99, 110, 250, 1.0)\",\"rgba(239, 85, 59, 1.0)\",\"rgba(0, 204, 150, 1.0)\",\"rgba(171, 99, 250, 1.0)\",\"rgba(255, 161, 90, 1.0)\",\"rgba(25, 211, 243, 1.0)\",\"rgba(255, 102, 146, 1.0)\",\"rgba(182, 232, 128, 1.0)\",\"rgba(255, 151, 255, 1.0)\",\"rgba(254, 203, 82, 1.0)\"]},\"data\":{\"bar\":[{\"marker\":{\"line\":{\"color\":\"rgba(229, 236, 246, 1.0)\",\"width\":0.5},\"pattern\":{\"fillmode\":\"overlay\",\"size\":10,\"solidity\":0.2}},\"error_x\":{\"color\":\"rgba(42, 63, 95, 1.0)\"},\"error_y\":{\"color\":\"rgba(42, 63, 95, 1.0)\"}}],\"barpolar\":[{\"marker\":{\"line\":{\"color\":\"rgba(229, 236, 246, 1.0)\",\"width\":0.5},\"pattern\":{\"fillmode\":\"overlay\",\"size\":10,\"solidity\":0.2}}}],\"carpet\":[{\"aaxis\":{\"linecolor\":\"rgba(255, 255, 255, 1.0)\",\"gridcolor\":\"rgba(255, 255, 255, 1.0)\",\"endlinecolor\":\"rgba(42, 63, 95, 1.0)\",\"minorgridcolor\":\"rgba(255, 255, 255, 1.0)\",\"startlinecolor\":\"rgba(42, 63, 95, 1.0)\"},\"baxis\":{\"linecolor\":\"rgba(255, 255, 255, 1.0)\",\"gridcolor\":\"rgba(255, 255, 255, 1.0)\",\"endlinecolor\":\"rgba(42, 63, 95, 1.0)\",\"minorgridcolor\":\"rgba(255, 255, 255, 1.0)\",\"startlinecolor\":\"rgba(42, 63, 95, 1.0)\"}}],\"choropleth\":[{\"colorbar\":{\"outlinewidth\":0.0,\"ticks\":\"\"},\"colorscale\":[[0.0,\"#0d0887\"],[0.1111111111111111,\"#46039f\"],[0.2222222222222222,\"#7201a8\"],[0.3333333333333333,\"#9c179e\"],[0.4444444444444444,\"#bd3786\"],[0.5555555555555556,\"#d8576b\"],[0.6666666666666666,\"#ed7953\"],[0.7777777777777778,\"#fb9f3a\"],[0.8888888888888888,\"#fdca26\"],[1.0,\"#f0f921\"]]}],\"contour\":[{\"colorbar\":{\"outlinewidth\":0.0,\"ticks\":\"\"},\"colorscale\":[[0.0,\"#0d0887\"],[0.1111111111111111,\"#46039f\"],[0.2222222222222222,\"#7201a8\"],[0.3333333333333333,\"#9c179e\"],[0.4444444444444444,\"#bd3786\"],[0.5555555555555556,\"#d8576b\"],[0.6666666666666666,\"#ed7953\"],[0.7777777777777778,\"#fb9f3a\"],[0.8888888888888888,\"#fdca26\"],[1.0,\"#f0f921\"]]}],\"contourcarpet\":[{\"colorbar\":{\"outlinewidth\":0.0,\"ticks\":\"\"}}],\"heatmap\":[{\"colorbar\":{\"outlinewidth\":0.0,\"ticks\":\"\"},\"colorscale\":[[0.0,\"#0d0887\"],[0.1111111111111111,\"#46039f\"],[0.2222222222222222,\"#7201a8\"],[0.3333333333333333,\"#9c179e\"],[0.4444444444444444,\"#bd3786\"],[0.5555555555555556,\"#d8576b\"],[0.6666666666666666,\"#ed7953\"],[0.7777777777777778,\"#fb9f3a\"],[0.8888888888888888,\"#fdca26\"],[1.0,\"#f0f921\"]]}],\"heatmapgl\":[{\"colorbar\":{\"outlinewidth\":0.0,\"ticks\":\"\"},\"colorscale\":[[0.0,\"#0d0887\"],[0.1111111111111111,\"#46039f\"],[0.2222222222222222,\"#7201a8\"],[0.3333333333333333,\"#9c179e\"],[0.4444444444444444,\"#bd3786\"],[0.5555555555555556,\"#d8576b\"],[0.6666666666666666,\"#ed7953\"],[0.7777777777777778,\"#fb9f3a\"],[0.8888888888888888,\"#fdca26\"],[1.0,\"#f0f921\"]]}],\"histogram\":[{\"marker\":{\"pattern\":{\"fillmode\":\"overlay\",\"size\":10,\"solidity\":0.2}}}],\"histogram2d\":[{\"colorbar\":{\"outlinewidth\":0.0,\"ticks\":\"\"},\"colorscale\":[[0.0,\"#0d0887\"],[0.1111111111111111,\"#46039f\"],[0.2222222222222222,\"#7201a8\"],[0.3333333333333333,\"#9c179e\"],[0.4444444444444444,\"#bd3786\"],[0.5555555555555556,\"#d8576b\"],[0.6666666666666666,\"#ed7953\"],[0.7777777777777778,\"#fb9f3a\"],[0.8888888888888888,\"#fdca26\"],[1.0,\"#f0f921\"]]}],\"histogram2dcontour\":[{\"colorbar\":{\"outlinewidth\":0.0,\"ticks\":\"\"},\"colorscale\":[[0.0,\"#0d0887\"],[0.1111111111111111,\"#46039f\"],[0.2222222222222222,\"#7201a8\"],[0.3333333333333333,\"#9c179e\"],[0.4444444444444444,\"#bd3786\"],[0.5555555555555556,\"#d8576b\"],[0.6666666666666666,\"#ed7953\"],[0.7777777777777778,\"#fb9f3a\"],[0.8888888888888888,\"#fdca26\"],[1.0,\"#f0f921\"]]}],\"mesh3d\":[{\"colorbar\":{\"outlinewidth\":0.0,\"ticks\":\"\"}}],\"parcoords\":[{\"line\":{\"colorbar\":{\"outlinewidth\":0.0,\"ticks\":\"\"}}}],\"pie\":[{\"automargin\":true}],\"scatter\":[{\"marker\":{\"colorbar\":{\"outlinewidth\":0.0,\"ticks\":\"\"}}}],\"scatter3d\":[{\"marker\":{\"colorbar\":{\"outlinewidth\":0.0,\"ticks\":\"\"}},\"line\":{\"colorbar\":{\"outlinewidth\":0.0,\"ticks\":\"\"}}}],\"scattercarpet\":[{\"marker\":{\"colorbar\":{\"outlinewidth\":0.0,\"ticks\":\"\"}}}],\"scattergeo\":[{\"marker\":{\"colorbar\":{\"outlinewidth\":0.0,\"ticks\":\"\"}}}],\"scattergl\":[{\"marker\":{\"colorbar\":{\"outlinewidth\":0.0,\"ticks\":\"\"}}}],\"scattermapbox\":[{\"marker\":{\"colorbar\":{\"outlinewidth\":0.0,\"ticks\":\"\"}}}],\"scatterpolar\":[{\"marker\":{\"colorbar\":{\"outlinewidth\":0.0,\"ticks\":\"\"}}}],\"scatterpolargl\":[{\"marker\":{\"colorbar\":{\"outlinewidth\":0.0,\"ticks\":\"\"}}}],\"scatterternary\":[{\"marker\":{\"colorbar\":{\"outlinewidth\":0.0,\"ticks\":\"\"}}}],\"surface\":[{\"colorbar\":{\"outlinewidth\":0.0,\"ticks\":\"\"},\"colorscale\":[[0.0,\"#0d0887\"],[0.1111111111111111,\"#46039f\"],[0.2222222222222222,\"#7201a8\"],[0.3333333333333333,\"#9c179e\"],[0.4444444444444444,\"#bd3786\"],[0.5555555555555556,\"#d8576b\"],[0.6666666666666666,\"#ed7953\"],[0.7777777777777778,\"#fb9f3a\"],[0.8888888888888888,\"#fdca26\"],[1.0,\"#f0f921\"]]}],\"table\":[{\"cells\":{\"fill\":{\"color\":\"rgba(235, 240, 248, 1.0)\"},\"line\":{\"color\":\"rgba(255, 255, 255, 1.0)\"}},\"header\":{\"fill\":{\"color\":\"rgba(200, 212, 227, 1.0)\"},\"line\":{\"color\":\"rgba(255, 255, 255, 1.0)\"}}}]}},\"xaxis\":{\"title\":{\"text\":\"Predicted\"},\"showline\":false,\"showgrid\":false,\"side\":\"top\",\"showbackground\":false},\"title\":{\"text\":\"Classification Report\"},\"yaxis\":{\"autorange\":\"reversed\",\"title\":{\"text\":\"Actual\"},\"showline\":false,\"showgrid\":false,\"side\":\"left\",\"showbackground\":false},\"annotations\":[{\"x\":0.5,\"y\":1.0,\"showarrow\":false,\"text\":\"\",\"xanchor\":\"center\",\"xref\":\"paper\",\"yanchor\":\"bottom\",\"yref\":\"paper\"},{\"x\":0.5,\"y\":0.4117647058823529,\"showarrow\":false,\"text\":\"Binary Classification Metric\",\"xanchor\":\"center\",\"xref\":\"paper\",\"yanchor\":\"bottom\",\"yref\":\"paper\"},{\"x\":0,\"y\":0,\"bgcolor\":\"#FFFFFF\",\"bordercolor\":\"#003171\",\"font\":{\"size\":18.0},\"showarrow\":false,\"text\":\"27\"},{\"x\":1,\"y\":0,\"bgcolor\":\"#FFFFFF\",\"bordercolor\":\"#003171\",\"font\":{\"size\":18.0},\"showarrow\":false,\"text\":\"20\"},{\"x\":0,\"y\":1,\"bgcolor\":\"#FFFFFF\",\"bordercolor\":\"#003171\",\"font\":{\"size\":18.0},\"showarrow\":false,\"text\":\"5\"},{\"x\":1,\"y\":1,\"bgcolor\":\"#FFFFFF\",\"bordercolor\":\"#003171\",\"font\":{\"size\":18.0},\"showarrow\":false,\"text\":\"94\"}],\"xaxis2\":{\"title\":{},\"range\":[0,1]},\"yaxis2\":{},\"grid\":{\"rows\":2,\"columns\":1,\"roworder\":\"top to bottom\",\"pattern\":\"independent\"}};\n",
       "        var config = {\"responsive\":true};\n",
       "        Plotly.newPlot('cf3d1721-0860-4703-a2bf-8e2c576de06c', data, layout, config);\n",
       "    });\n",
       "};\n",
       "if ((typeof(requirejs) !==  typeof(Function)) || (typeof(requirejs.config) !== typeof(Function))) {\n",
       "    var script = document.createElement(\"script\");\n",
       "    script.setAttribute(\"charset\", \"utf-8\");\n",
       "    script.setAttribute(\"src\", \"https://cdnjs.cloudflare.com/ajax/libs/require.js/2.3.6/require.min.js\");\n",
       "    script.onload = function(){\n",
       "        renderPlotly_cf3d172108604703a2bf8e2c576de06c();\n",
       "    };\n",
       "    document.getElementsByTagName(\"head\")[0].appendChild(script);\n",
       "}\n",
       "else {\n",
       "    renderPlotly_cf3d172108604703a2bf8e2c576de06c();\n",
       "}\n",
       "</script></div>"
      ]
     },
     "metadata": {},
     "output_type": "display_data"
    }
   ],
   "source": [
    "ITransformer model = result.Model;\n",
    "var scorer = model.Transform(split.TestSet);\n",
    "\n",
    "// If the model supports calibration, we could use Evaluate instead\n",
    "var evalResults = context.BinaryClassification.EvaluateNonCalibrated(model.Transform(split.TestSet), labelColumnName: \"Label\");\n",
    "\n",
    "// Let's see how it performed\n",
    "MLCharts.ClassificationReport(evalResults)"
   ]
  },
  {
   "cell_type": "code",
   "execution_count": 17,
   "metadata": {
    "vscode": {
     "languageId": "polyglot-notebook"
    }
   },
   "outputs": [
    {
     "data": {
      "text/html": [
       "<details open=\"open\" class=\"dni-treeview\"><summary><span class=\"dni-code-hint\"><code>[ [ Microsoft.ML.Transforms.MissingValueReplacingTransformer, Microsoft.ML.Transforms.TypeConvertingTransformer, Microsoft.ML.Transforms.NormalizingTransformer, Microsoft.ML.Transforms.Text.TextNormalizingTransformer, Microsoft.ML.Transforms.Text.WordTokenizingTransformer, Microsoft.ML.Transforms.Text.StopWordsRemovingTransformer, Microsoft.ML.Transforms.ValueToKeyMappingTransformer, Microsoft.ML.Transforms.Text.NgramExtractingTransformer, Microsoft.ML.Transforms.LpNormNormalizingTransformer, Microsoft.ML.Transforms.Text.TokenizingByCharactersTransformer, Microsoft.ML.Transforms.Text.NgramExtractingTransformer, Microsoft.ML.Transforms.LpNormNormalizingTransformer, Microsoft.ML.Data.ColumnConcatenatingTransformer ], Microsoft.ML.Data.BinaryPredictionTransformer`1[Microsoft.ML.Calibrators.CalibratedModelParametersBase`2[Microsoft.ML.Trainers.FastTree.FastTreeBinaryModelParameters,Microsoft.ML.Calibrators.PlattCalibrator]] ]</code></span></summary><div><table><thead><tr></tr></thead><tbody><tr><td>LastTransformer</td><td><details class=\"dni-treeview\"><summary><span class=\"dni-code-hint\"><code>Microsoft.ML.Data.BinaryPredictionTransformer`1[Microsoft.ML.Calibrators.CalibratedModelParametersBase`2[Microsoft.ML.Trainers.FastTree.FastTreeBinaryModelParameters,Microsoft.ML.Calibrators.PlattCalibrator]]</code></span></summary><div><table><thead><tr></tr></thead><tbody><tr><td>FeatureColumnName</td><td><div class=\"dni-plaintext\"><pre>Features</pre></div></td></tr><tr><td>FeatureColumnType</td><td><details class=\"dni-treeview\"><summary><span class=\"dni-code-hint\"><code>Vector&lt;Single, 9041&gt;</code></span></summary><div><table><thead><tr></tr></thead><tbody><tr><td>Dimensions</td><td><div class=\"dni-plaintext\"><pre>[ 9041 ]</pre></div></td></tr><tr><td>IsKnownSize</td><td><div class=\"dni-plaintext\"><pre>True</pre></div></td></tr><tr><td>ItemType</td><td><details class=\"dni-treeview\"><summary><span class=\"dni-code-hint\"><code>Single</code></span></summary><div><table><thead><tr></tr></thead><tbody><tr><td>RawType</td><td><span><a href=\"https://docs.microsoft.com/dotnet/api/system.single?view=net-7.0\">System.Single</a></span></td></tr></tbody></table></div></details></td></tr><tr><td>Size</td><td><div class=\"dni-plaintext\"><pre>9041</pre></div></td></tr><tr><td>RawType</td><td><span><a href=\"https://docs.microsoft.com/dotnet/api/microsoft.ml.data.vbuffer-1?view=net-7.0\">Microsoft.ML.Data.VBuffer&lt;System.Single&gt;</a></span></td></tr></tbody></table></div></details></td></tr><tr><td>Model</td><td><details class=\"dni-treeview\"><summary><span class=\"dni-code-hint\"><code>Microsoft.ML.Calibrators.FeatureWeightsCalibratedModelParameters`2[Microsoft.ML.Trainers.FastTree.FastTreeBinaryModelParameters,Microsoft.ML.Calibrators.PlattCalibrator]</code></span></summary><div><table><thead><tr></tr></thead><tbody><tr><td>SubModel</td><td><div class=\"dni-plaintext\"><pre>Microsoft.ML.Calibrators.FeatureWeightsCalibratedModelParameters`2[Microsoft.ML.Trainers.FastTree.FastTreeBinaryModelParameters,Microsoft.ML.Calibrators.PlattCalibrator]</pre></div></td></tr><tr><td>Calibrator</td><td><div class=\"dni-plaintext\"><pre>Microsoft.ML.Calibrators.FeatureWeightsCalibratedModelParameters`2[Microsoft.ML.Trainers.FastTree.FastTreeBinaryModelParameters,Microsoft.ML.Calibrators.PlattCalibrator]</pre></div></td></tr><tr><td>SubModel</td><td><div class=\"dni-plaintext\"><pre>Microsoft.ML.Calibrators.FeatureWeightsCalibratedModelParameters`2[Microsoft.ML.Trainers.FastTree.FastTreeBinaryModelParameters,Microsoft.ML.Calibrators.PlattCalibrator]</pre></div></td></tr><tr><td>Calibrator</td><td><div class=\"dni-plaintext\"><pre>Microsoft.ML.Calibrators.FeatureWeightsCalibratedModelParameters`2[Microsoft.ML.Trainers.FastTree.FastTreeBinaryModelParameters,Microsoft.ML.Calibrators.PlattCalibrator]</pre></div></td></tr></tbody></table></div></details></td></tr></tbody></table></div></details></td></tr><tr><td><i>(values)</i></td><td><table><thead><tr><th><i>index</i></th><th><i>type</i></th><th>value</th></tr></thead><tbody><tr><td>0</td><td><span><a href=\"https://docs.microsoft.com/dotnet/api/microsoft.ml.data.transformerchain-1?view=net-7.0\">Microsoft.ML.Data.TransformerChain&lt;Microsoft.ML.Data.ColumnConcatenatingTransformer&gt;</a></span></td><td><details class=\"dni-treeview\"><summary><span class=\"dni-code-hint\"><code>[ Microsoft.ML.Transforms.MissingValueReplacingTransformer, Microsoft.ML.Transforms.TypeConvertingTransformer, Microsoft.ML.Transforms.NormalizingTransformer, Microsoft.ML.Transforms.Text.TextNormalizingTransformer, Microsoft.ML.Transforms.Text.WordTokenizingTransformer, Microsoft.ML.Transforms.Text.StopWordsRemovingTransformer, Microsoft.ML.Transforms.ValueToKeyMappingTransformer, Microsoft.ML.Transforms.Text.NgramExtractingTransformer, Microsoft.ML.Transforms.LpNormNormalizingTransformer, Microsoft.ML.Transforms.Text.TokenizingByCharactersTransformer, Microsoft.ML.Transforms.Text.NgramExtractingTransformer, Microsoft.ML.Transforms.LpNormNormalizingTransformer, Microsoft.ML.Data.ColumnConcatenatingTransformer ]</code></span></summary><div><table><thead><tr></tr></thead><tbody><tr><td>LastTransformer</td><td><details class=\"dni-treeview\"><summary><span class=\"dni-code-hint\"><code>Microsoft.ML.Data.ColumnConcatenatingTransformer</code></span></summary><div><table><thead><tr></tr></thead><tbody></tbody></table></div></details></td></tr><tr><td><i>(values)</i></td><td><table><thead><tr><th><i>index</i></th><th><i>type</i></th><th>value</th></tr></thead><tbody><tr><td>0</td><td><span><a href=\"https://docs.microsoft.com/dotnet/api/microsoft.ml.transforms.missingvaluereplacingtransformer?view=net-7.0\">Microsoft.ML.Transforms.MissingValueReplacingTransformer</a></span></td><td><details class=\"dni-treeview\"><summary><span class=\"dni-code-hint\"><code>Microsoft.ML.Transforms.MissingValueReplacingTransformer</code></span></summary><div><table><thead><tr></tr></thead><tbody></tbody></table></div></details></td></tr><tr><td>1</td><td><span><a href=\"https://docs.microsoft.com/dotnet/api/microsoft.ml.transforms.typeconvertingtransformer?view=net-7.0\">Microsoft.ML.Transforms.TypeConvertingTransformer</a></span></td><td><details class=\"dni-treeview\"><summary><span class=\"dni-code-hint\"><code>Microsoft.ML.Transforms.TypeConvertingTransformer</code></span></summary><div><table><thead><tr></tr></thead><tbody></tbody></table></div></details></td></tr><tr><td>2</td><td><span><a href=\"https://docs.microsoft.com/dotnet/api/microsoft.ml.transforms.normalizingtransformer?view=net-7.0\">Microsoft.ML.Transforms.NormalizingTransformer</a></span></td><td><details class=\"dni-treeview\"><summary><span class=\"dni-code-hint\"><code>Microsoft.ML.Transforms.NormalizingTransformer</code></span></summary><div><table><thead><tr></tr></thead><tbody></tbody></table></div></details></td></tr><tr><td>3</td><td><span><a href=\"https://docs.microsoft.com/dotnet/api/microsoft.ml.transforms.text.textnormalizingtransformer?view=net-7.0\">Microsoft.ML.Transforms.Text.TextNormalizingTransformer</a></span></td><td><details class=\"dni-treeview\"><summary><span class=\"dni-code-hint\"><code>Microsoft.ML.Transforms.Text.TextNormalizingTransformer</code></span></summary><div><table><thead><tr></tr></thead><tbody></tbody></table></div></details></td></tr><tr><td>4</td><td><span><a href=\"https://docs.microsoft.com/dotnet/api/microsoft.ml.transforms.text.wordtokenizingtransformer?view=net-7.0\">Microsoft.ML.Transforms.Text.WordTokenizingTransformer</a></span></td><td><details class=\"dni-treeview\"><summary><span class=\"dni-code-hint\"><code>Microsoft.ML.Transforms.Text.WordTokenizingTransformer</code></span></summary><div><table><thead><tr></tr></thead><tbody></tbody></table></div></details></td></tr><tr><td>5</td><td><span><a href=\"https://docs.microsoft.com/dotnet/api/microsoft.ml.transforms.text.stopwordsremovingtransformer?view=net-7.0\">Microsoft.ML.Transforms.Text.StopWordsRemovingTransformer</a></span></td><td><details class=\"dni-treeview\"><summary><span class=\"dni-code-hint\"><code>Microsoft.ML.Transforms.Text.StopWordsRemovingTransformer</code></span></summary><div><table><thead><tr></tr></thead><tbody></tbody></table></div></details></td></tr><tr><td>6</td><td><span><a href=\"https://docs.microsoft.com/dotnet/api/microsoft.ml.transforms.valuetokeymappingtransformer?view=net-7.0\">Microsoft.ML.Transforms.ValueToKeyMappingTransformer</a></span></td><td><details class=\"dni-treeview\"><summary><span class=\"dni-code-hint\"><code>Microsoft.ML.Transforms.ValueToKeyMappingTransformer</code></span></summary><div><table><thead><tr></tr></thead><tbody></tbody></table></div></details></td></tr><tr><td>7</td><td><span><a href=\"https://docs.microsoft.com/dotnet/api/microsoft.ml.transforms.text.ngramextractingtransformer?view=net-7.0\">Microsoft.ML.Transforms.Text.NgramExtractingTransformer</a></span></td><td><details class=\"dni-treeview\"><summary><span class=\"dni-code-hint\"><code>Microsoft.ML.Transforms.Text.NgramExtractingTransformer</code></span></summary><div><table><thead><tr></tr></thead><tbody></tbody></table></div></details></td></tr><tr><td>8</td><td><span><a href=\"https://docs.microsoft.com/dotnet/api/microsoft.ml.transforms.lpnormnormalizingtransformer?view=net-7.0\">Microsoft.ML.Transforms.LpNormNormalizingTransformer</a></span></td><td><details class=\"dni-treeview\"><summary><span class=\"dni-code-hint\"><code>Microsoft.ML.Transforms.LpNormNormalizingTransformer</code></span></summary><div><table><thead><tr></tr></thead><tbody></tbody></table></div></details></td></tr><tr><td>9</td><td><span><a href=\"https://docs.microsoft.com/dotnet/api/microsoft.ml.transforms.text.tokenizingbycharacterstransformer?view=net-7.0\">Microsoft.ML.Transforms.Text.TokenizingByCharactersTransformer</a></span></td><td><details class=\"dni-treeview\"><summary><span class=\"dni-code-hint\"><code>Microsoft.ML.Transforms.Text.TokenizingByCharactersTransformer</code></span></summary><div><table><thead><tr></tr></thead><tbody></tbody></table></div></details></td></tr><tr><td>10</td><td><span><a href=\"https://docs.microsoft.com/dotnet/api/microsoft.ml.transforms.text.ngramextractingtransformer?view=net-7.0\">Microsoft.ML.Transforms.Text.NgramExtractingTransformer</a></span></td><td><details class=\"dni-treeview\"><summary><span class=\"dni-code-hint\"><code>Microsoft.ML.Transforms.Text.NgramExtractingTransformer</code></span></summary><div><table><thead><tr></tr></thead><tbody></tbody></table></div></details></td></tr><tr><td>11</td><td><span><a href=\"https://docs.microsoft.com/dotnet/api/microsoft.ml.transforms.lpnormnormalizingtransformer?view=net-7.0\">Microsoft.ML.Transforms.LpNormNormalizingTransformer</a></span></td><td><details class=\"dni-treeview\"><summary><span class=\"dni-code-hint\"><code>Microsoft.ML.Transforms.LpNormNormalizingTransformer</code></span></summary><div><table><thead><tr></tr></thead><tbody></tbody></table></div></details></td></tr><tr><td>12</td><td><span><a href=\"https://docs.microsoft.com/dotnet/api/microsoft.ml.data.columnconcatenatingtransformer?view=net-7.0\">Microsoft.ML.Data.ColumnConcatenatingTransformer</a></span></td><td><details class=\"dni-treeview\"><summary><span class=\"dni-code-hint\"><code>Microsoft.ML.Data.ColumnConcatenatingTransformer</code></span></summary><div><table><thead><tr></tr></thead><tbody></tbody></table></div></details></td></tr></tbody></table></td></tr></tbody></table></div></details></td></tr><tr><td>1</td><td><span><a href=\"https://docs.microsoft.com/dotnet/api/microsoft.ml.data.binarypredictiontransformer-1?view=net-7.0\">Microsoft.ML.Data.BinaryPredictionTransformer&lt;Microsoft.ML.Calibrators.CalibratedModelParametersBase&lt;Microsoft.ML.Trainers.FastTree.FastTreeBinaryModelParameters,Microsoft.ML.Calibrators.PlattCalibrator&gt;&gt;</a></span></td><td><details class=\"dni-treeview\"><summary><span class=\"dni-code-hint\"><code>Microsoft.ML.Data.BinaryPredictionTransformer`1[Microsoft.ML.Calibrators.CalibratedModelParametersBase`2[Microsoft.ML.Trainers.FastTree.FastTreeBinaryModelParameters,Microsoft.ML.Calibrators.PlattCalibrator]]</code></span></summary><div><table><thead><tr></tr></thead><tbody><tr><td>FeatureColumnName</td><td><div class=\"dni-plaintext\"><pre>Features</pre></div></td></tr><tr><td>FeatureColumnType</td><td><details class=\"dni-treeview\"><summary><span class=\"dni-code-hint\"><code>Vector&lt;Single, 9041&gt;</code></span></summary><div><table><thead><tr></tr></thead><tbody><tr><td>Dimensions</td><td><div class=\"dni-plaintext\"><pre>[ 9041 ]</pre></div></td></tr><tr><td>IsKnownSize</td><td><div class=\"dni-plaintext\"><pre>True</pre></div></td></tr><tr><td>ItemType</td><td><details class=\"dni-treeview\"><summary><span class=\"dni-code-hint\"><code>Single</code></span></summary><div><table><thead><tr></tr></thead><tbody><tr><td>RawType</td><td><span><a href=\"https://docs.microsoft.com/dotnet/api/system.single?view=net-7.0\">System.Single</a></span></td></tr></tbody></table></div></details></td></tr><tr><td>Size</td><td><div class=\"dni-plaintext\"><pre>9041</pre></div></td></tr><tr><td>RawType</td><td><span><a href=\"https://docs.microsoft.com/dotnet/api/microsoft.ml.data.vbuffer-1?view=net-7.0\">Microsoft.ML.Data.VBuffer&lt;System.Single&gt;</a></span></td></tr></tbody></table></div></details></td></tr><tr><td>Model</td><td><details class=\"dni-treeview\"><summary><span class=\"dni-code-hint\"><code>Microsoft.ML.Calibrators.FeatureWeightsCalibratedModelParameters`2[Microsoft.ML.Trainers.FastTree.FastTreeBinaryModelParameters,Microsoft.ML.Calibrators.PlattCalibrator]</code></span></summary><div><table><thead><tr></tr></thead><tbody><tr><td>SubModel</td><td><div class=\"dni-plaintext\"><pre>Microsoft.ML.Calibrators.FeatureWeightsCalibratedModelParameters`2[Microsoft.ML.Trainers.FastTree.FastTreeBinaryModelParameters,Microsoft.ML.Calibrators.PlattCalibrator]</pre></div></td></tr><tr><td>Calibrator</td><td><div class=\"dni-plaintext\"><pre>Microsoft.ML.Calibrators.FeatureWeightsCalibratedModelParameters`2[Microsoft.ML.Trainers.FastTree.FastTreeBinaryModelParameters,Microsoft.ML.Calibrators.PlattCalibrator]</pre></div></td></tr><tr><td>SubModel</td><td><div class=\"dni-plaintext\"><pre>Microsoft.ML.Calibrators.FeatureWeightsCalibratedModelParameters`2[Microsoft.ML.Trainers.FastTree.FastTreeBinaryModelParameters,Microsoft.ML.Calibrators.PlattCalibrator]</pre></div></td></tr><tr><td>Calibrator</td><td><div class=\"dni-plaintext\"><pre>Microsoft.ML.Calibrators.FeatureWeightsCalibratedModelParameters`2[Microsoft.ML.Trainers.FastTree.FastTreeBinaryModelParameters,Microsoft.ML.Calibrators.PlattCalibrator]</pre></div></td></tr></tbody></table></div></details></td></tr></tbody></table></div></details></td></tr></tbody></table></td></tr></tbody></table></div></details><style>\r\n",
       ".dni-code-hint {\r\n",
       "    font-style: italic;\r\n",
       "    overflow: hidden;\r\n",
       "    white-space: nowrap;\r\n",
       "}\r\n",
       ".dni-treeview {\r\n",
       "    white-space: nowrap;\r\n",
       "}\r\n",
       ".dni-treeview td {\r\n",
       "    vertical-align: top;\r\n",
       "    text-align: start;\r\n",
       "}\r\n",
       "details.dni-treeview {\r\n",
       "    padding-left: 1em;\r\n",
       "}\r\n",
       "table td {\r\n",
       "    text-align: start;\r\n",
       "}\r\n",
       "table tr { \r\n",
       "    vertical-align: top; \r\n",
       "    margin: 0em 0px;\r\n",
       "}\r\n",
       "table tr td pre \r\n",
       "{ \r\n",
       "    vertical-align: top !important; \r\n",
       "    margin: 0em 0px !important;\r\n",
       "} \r\n",
       "table th {\r\n",
       "    text-align: start;\r\n",
       "}\r\n",
       "</style>"
      ]
     },
     "metadata": {},
     "output_type": "display_data"
    }
   ],
   "source": [
    "model"
   ]
  },
  {
   "cell_type": "code",
   "execution_count": 22,
   "metadata": {
    "vscode": {
     "languageId": "polyglot-notebook"
    }
   },
   "outputs": [
    {
     "data": {
      "text/html": [
       "<div class=\"mermaidMarkdownContainer\" style=\"background-color:white\">\n",
       "<link rel=\"stylesheet\" href=\"https://cdnjs.cloudflare.com/ajax/libs/font-awesome/6.2.0/css/all.min.css\">\n",
       "<div id=\"84eed19ffda24c269ca12879f026de82\"></div>\n",
       "<script type=\"module\">\n",
       "\r\n",
       "            import mermaid from 'https://cdn.jsdelivr.net/npm/mermaid@10.6.1/dist/mermaid.esm.min.mjs';\r\n",
       "            let renderTarget = document.getElementById('84eed19ffda24c269ca12879f026de82');\r\n",
       "            try {\r\n",
       "                const {svg, bindFunctions} = await mermaid.mermaidAPI.render( \r\n",
       "                    'mermaid_84eed19ffda24c269ca12879f026de82', \r\n",
       "                    `stateDiagram-v2\n",
       "state \"TransformerChain\" AS t1 {\n",
       "t1_1: TransformerChain\n",
       "state \"TransformerChain\" AS t1_1 {\n",
       "direction LR\n",
       "t1_1_1: MissingValueReplacingTransformer\n",
       "note left of t1_1_1\n",
       "Replace missing values in 11 column(s) with 0.0\n",
       "end note\n",
       "t1_1_2: TypeConvertingTransformer\n",
       "note left of t1_1_2\n",
       "Convert IsMerge to Single, HasAddedFiles to Single, HasDeletedFiles to Single\n",
       "end note\n",
       "t1_1_3: NormalizingTransformer\n",
       "t1_1_4: TextNormalizingTransformer\n",
       "note left of t1_1_4\n",
       "A text normalization transform that allows normalizing text case, removing \n",
       "diacritical marks, punctuation marks and/or numbers. The transform operates on \n",
       "text input as well as vector of tokens/text (vector of ReadOnlyMemory).\n",
       "end note\n",
       "t1_1_5: WordTokenizingTransformer\n",
       "note left of t1_1_5\n",
       "The input to this transform is text, and the output is a vector of text \n",
       "containing the words (tokens) in the original text. The separator is space, but \n",
       "can be specified as any other character (or multiple characters) if needed.\n",
       "end note\n",
       "t1_1_6: StopWordsRemovingTransformer\n",
       "note left of t1_1_6\n",
       "A Stopword remover transform based on language-specific lists of stop words \n",
       "(most common words) from Office Named Entity Recognition project. The transform \n",
       "is usually applied after tokenizing text, so it compares individual tokens \n",
       "(case-insensitive comparison) to the stopwords.\n",
       "end note\n",
       "t1_1_7: ValueToKeyMappingTransformer\n",
       "note left of t1_1_7\n",
       "Converts input values (words, numbers, etc.) to index in a dictionary.\n",
       "end note\n",
       "t1_1_8: NgramExtractingTransformer\n",
       "note left of t1_1_8\n",
       "Produces a bag of counts of n-grams (sequences of consecutive values of length \n",
       "1-n) in a given vector of keys. It does so by building a dictionary of n-grams \n",
       "and using the id in the dictionary as the index in the bag.\n",
       "end note\n",
       "t1_1_9: LpNormNormalizingTransformer\n",
       "note left of t1_1_9\n",
       "Normalize vectors (rows) individually by rescaling them to unit norm (L2, L1 or \n",
       "LInf). Performs the following operation on a vector X: Y = (X - M) / D, where M \n",
       "is mean and D is either L2 norm, L1 norm or LInf norm.\n",
       "end note\n",
       "t1_1_10: TokenizingByCharactersTransformer\n",
       "note left of t1_1_10\n",
       "Character-oriented tokenizer where text is considered a sequence of characters.\n",
       "end note\n",
       "t1_1_11: NgramExtractingTransformer\n",
       "note left of t1_1_11\n",
       "Produces a bag of counts of n-grams (sequences of consecutive values of length \n",
       "1-n) in a given vector of keys. It does so by building a dictionary of n-grams \n",
       "and using the id in the dictionary as the index in the bag.\n",
       "end note\n",
       "t1_1_12: LpNormNormalizingTransformer\n",
       "note left of t1_1_12\n",
       "Normalize vectors (rows) individually by rescaling them to unit norm (L2, L1 or \n",
       "LInf). Performs the following operation on a vector X: Y = (X - M) / D, where M \n",
       "is mean and D is either L2 norm, L1 norm or LInf norm.\n",
       "end note\n",
       "t1_1_13: ColumnConcatenatingTransformer\n",
       "note left of t1_1_13\n",
       "Concat 16 columns to Features\n",
       "end note\n",
       "t1_1_1 --> t1_1_2\n",
       "t1_1_2 --> t1_1_3\n",
       "t1_1_3 --> t1_1_4\n",
       "t1_1_4 --> t1_1_5\n",
       "t1_1_5 --> t1_1_6\n",
       "t1_1_6 --> t1_1_7\n",
       "t1_1_7 --> t1_1_8\n",
       "t1_1_8 --> t1_1_9\n",
       "t1_1_9 --> t1_1_10\n",
       "t1_1_10 --> t1_1_11\n",
       "t1_1_11 --> t1_1_12\n",
       "t1_1_12 --> t1_1_13\n",
       "}\n",
       "\n",
       "t1_2: BinaryPredictionTransformer_CalibratedModelParametersBase_FastTreeBinaryModelParameters,PlattCalibrator__\n",
       "t1_1 --> t1_2\n",
       "}\n",
       "\n",
       "`);\r\n",
       "                renderTarget.innerHTML = svg;\r\n",
       "                bindFunctions?.(renderTarget);\r\n",
       "            }\r\n",
       "            catch (error) {\r\n",
       "                console.log(error);\r\n",
       "            }\n",
       "</script>\n",
       "</div>\n"
      ]
     },
     "metadata": {},
     "output_type": "display_data"
    }
   ],
   "source": [
    "#!transformer-vis model -d 2 -n"
   ]
  },
  {
   "cell_type": "markdown",
   "metadata": {},
   "source": [
    "## Deep Learning\n",
    "This uses TorchSharp and Roberta to fine-tune a model onto our text examples.\n",
    "\n",
    "In ML.NET this is only available as multi-class classification, so we'll run this as a multi-class classification experiment even though there are only 2 classes."
   ]
  },
  {
   "cell_type": "code",
   "execution_count": 46,
   "metadata": {
    "vscode": {
     "languageId": "polyglot-notebook"
    }
   },
   "outputs": [
    {
     "data": {
      "text/html": [
       "<table id=\"table_638546972198988063\"><thead><tr><th><i>index</i></th><th>Label</th><th>Message</th><th>IsMerge</th><th>WorkItems</th><th>TotalFiles</th><th>ModifiedFiles</th><th>AddedFiles</th><th>DeletedFiles</th><th>TotalLines</th><th>NetLines</th><th>AddedLines</th><th>DeletedLines</th><th>HasAddedFiles</th><th>HasDeletedFiles</th><th>MessageLength</th><th>WordCount</th></tr></thead><tbody><tr><td><i><div class=\"dni-plaintext\"><pre>0</pre></div></i></td><td><div class=\"dni-plaintext\"><pre>0</pre></div></td><td>add copyright header</td><td><div class=\"dni-plaintext\"><pre>False</pre></div></td><td><div class=\"dni-plaintext\"><pre>0</pre></div></td><td><div class=\"dni-plaintext\"><pre>2</pre></div></td><td><div class=\"dni-plaintext\"><pre>2</pre></div></td><td><div class=\"dni-plaintext\"><pre>0</pre></div></td><td><div class=\"dni-plaintext\"><pre>0</pre></div></td><td><div class=\"dni-plaintext\"><pre>148</pre></div></td><td><div class=\"dni-plaintext\"><pre>6</pre></div></td><td><div class=\"dni-plaintext\"><pre>6</pre></div></td><td><div class=\"dni-plaintext\"><pre>0</pre></div></td><td><div class=\"dni-plaintext\"><pre>False</pre></div></td><td><div class=\"dni-plaintext\"><pre>False</pre></div></td><td><div class=\"dni-plaintext\"><pre>20</pre></div></td><td><div class=\"dni-plaintext\"><pre>3</pre></div></td></tr><tr><td><i><div class=\"dni-plaintext\"><pre>1</pre></div></i></td><td><div class=\"dni-plaintext\"><pre>1</pre></div></td><td>Better author testing</td><td><div class=\"dni-plaintext\"><pre>False</pre></div></td><td><div class=\"dni-plaintext\"><pre>0</pre></div></td><td><div class=\"dni-plaintext\"><pre>7</pre></div></td><td><div class=\"dni-plaintext\"><pre>5</pre></div></td><td><div class=\"dni-plaintext\"><pre>2</pre></div></td><td><div class=\"dni-plaintext\"><pre>0</pre></div></td><td><div class=\"dni-plaintext\"><pre>356</pre></div></td><td><div class=\"dni-plaintext\"><pre>55</pre></div></td><td><div class=\"dni-plaintext\"><pre>122</pre></div></td><td><div class=\"dni-plaintext\"><pre>67</pre></div></td><td><div class=\"dni-plaintext\"><pre>True</pre></div></td><td><div class=\"dni-plaintext\"><pre>False</pre></div></td><td><div class=\"dni-plaintext\"><pre>21</pre></div></td><td><div class=\"dni-plaintext\"><pre>3</pre></div></td></tr><tr><td><i><div class=\"dni-plaintext\"><pre>2</pre></div></i></td><td><div class=\"dni-plaintext\"><pre>0</pre></div></td><td>Mark Microsoft.Extensions.ML as a stable package. (#4356)</td><td><div class=\"dni-plaintext\"><pre>False</pre></div></td><td><div class=\"dni-plaintext\"><pre>1</pre></div></td><td><div class=\"dni-plaintext\"><pre>2</pre></div></td><td><div class=\"dni-plaintext\"><pre>2</pre></div></td><td><div class=\"dni-plaintext\"><pre>0</pre></div></td><td><div class=\"dni-plaintext\"><pre>0</pre></div></td><td><div class=\"dni-plaintext\"><pre>57</pre></div></td><td><div class=\"dni-plaintext\"><pre>2</pre></div></td><td><div class=\"dni-plaintext\"><pre>2</pre></div></td><td><div class=\"dni-plaintext\"><pre>0</pre></div></td><td><div class=\"dni-plaintext\"><pre>False</pre></div></td><td><div class=\"dni-plaintext\"><pre>False</pre></div></td><td><div class=\"dni-plaintext\"><pre>57</pre></div></td><td><div class=\"dni-plaintext\"><pre>7</pre></div></td></tr><tr><td><i><div class=\"dni-plaintext\"><pre>3</pre></div></i></td><td><div class=\"dni-plaintext\"><pre>0</pre></div></td><td>Update dependencies from https://github.com/dotnet/arcade build 20200805.7</td><td><div class=\"dni-plaintext\"><pre>False</pre></div></td><td><div class=\"dni-plaintext\"><pre>0</pre></div></td><td><div class=\"dni-plaintext\"><pre>5</pre></div></td><td><div class=\"dni-plaintext\"><pre>5</pre></div></td><td><div class=\"dni-plaintext\"><pre>0</pre></div></td><td><div class=\"dni-plaintext\"><pre>0</pre></div></td><td><div class=\"dni-plaintext\"><pre>1010</pre></div></td><td><div class=\"dni-plaintext\"><pre>36</pre></div></td><td><div class=\"dni-plaintext\"><pre>43</pre></div></td><td><div class=\"dni-plaintext\"><pre>7</pre></div></td><td><div class=\"dni-plaintext\"><pre>False</pre></div></td><td><div class=\"dni-plaintext\"><pre>False</pre></div></td><td><div class=\"dni-plaintext\"><pre>74</pre></div></td><td><div class=\"dni-plaintext\"><pre>6</pre></div></td></tr><tr><td><i><div class=\"dni-plaintext\"><pre>4</pre></div></i></td><td><div class=\"dni-plaintext\"><pre>0</pre></div></td><td>Update readme.md</td><td><div class=\"dni-plaintext\"><pre>False</pre></div></td><td><div class=\"dni-plaintext\"><pre>0</pre></div></td><td><div class=\"dni-plaintext\"><pre>1</pre></div></td><td><div class=\"dni-plaintext\"><pre>1</pre></div></td><td><div class=\"dni-plaintext\"><pre>0</pre></div></td><td><div class=\"dni-plaintext\"><pre>0</pre></div></td><td><div class=\"dni-plaintext\"><pre>9</pre></div></td><td><div class=\"dni-plaintext\"><pre>0</pre></div></td><td><div class=\"dni-plaintext\"><pre>1</pre></div></td><td><div class=\"dni-plaintext\"><pre>1</pre></div></td><td><div class=\"dni-plaintext\"><pre>False</pre></div></td><td><div class=\"dni-plaintext\"><pre>False</pre></div></td><td><div class=\"dni-plaintext\"><pre>16</pre></div></td><td><div class=\"dni-plaintext\"><pre>2</pre></div></td></tr></tbody></table><style>\r\n",
       ".dni-code-hint {\r\n",
       "    font-style: italic;\r\n",
       "    overflow: hidden;\r\n",
       "    white-space: nowrap;\r\n",
       "}\r\n",
       ".dni-treeview {\r\n",
       "    white-space: nowrap;\r\n",
       "}\r\n",
       ".dni-treeview td {\r\n",
       "    vertical-align: top;\r\n",
       "    text-align: start;\r\n",
       "}\r\n",
       "details.dni-treeview {\r\n",
       "    padding-left: 1em;\r\n",
       "}\r\n",
       "table td {\r\n",
       "    text-align: start;\r\n",
       "}\r\n",
       "table tr { \r\n",
       "    vertical-align: top; \r\n",
       "    margin: 0em 0px;\r\n",
       "}\r\n",
       "table tr td pre \r\n",
       "{ \r\n",
       "    vertical-align: top !important; \r\n",
       "    margin: 0em 0px !important;\r\n",
       "} \r\n",
       "table th {\r\n",
       "    text-align: start;\r\n",
       "}\r\n",
       "</style>"
      ]
     },
     "metadata": {},
     "output_type": "display_data"
    }
   ],
   "source": [
    "var dfMultiClass = df.Clone();\n",
    "dfMultiClass[\"Label\"] = new PrimitiveDataFrameColumn<uint>(\"Label\", dfMultiClass[\"Label\"].Cast<bool>().Select(x => x ? (uint)1 : (uint)0));\n",
    "dfMultiClass.Sample(5)"
   ]
  },
  {
   "cell_type": "code",
   "execution_count": 47,
   "metadata": {
    "vscode": {
     "languageId": "polyglot-notebook"
    }
   },
   "outputs": [
    {
     "data": {
      "text/html": [
       "<div class=\"mermaidMarkdownContainer\" style=\"background-color:white\">\n",
       "<link rel=\"stylesheet\" href=\"https://cdnjs.cloudflare.com/ajax/libs/font-awesome/6.2.0/css/all.min.css\">\n",
       "<div id=\"25f10fd2002d4a7d9deb40ce5d53cf13\"></div>\n",
       "<script type=\"module\">\n",
       "\r\n",
       "            import mermaid from 'https://cdn.jsdelivr.net/npm/mermaid@10.6.1/dist/mermaid.esm.min.mjs';\r\n",
       "            let renderTarget = document.getElementById('25f10fd2002d4a7d9deb40ce5d53cf13');\r\n",
       "            try {\r\n",
       "                const {svg, bindFunctions} = await mermaid.mermaidAPI.render( \r\n",
       "                    'mermaid_25f10fd2002d4a7d9deb40ce5d53cf13', \r\n",
       "                    `stateDiagram-v2\n",
       "state \"TransformerChain\" AS t1 {\n",
       "t1_1: ValueToKeyMappingTransformer\n",
       "note right of t1_1\n",
       "Converts input values (words, numbers, etc.) to index in a dictionary.\n",
       "end note\n",
       "t1_2: TextClassificationTransformer\n",
       "note right of t1_2\n",
       "NLP with NAS-BERT\n",
       "end note\n",
       "t1_3: KeyToValueMappingTransformer\n",
       "t1_1 --> t1_2\n",
       "t1_2 --> t1_3\n",
       "}\n",
       "\n",
       "`);\r\n",
       "                renderTarget.innerHTML = svg;\r\n",
       "                bindFunctions?.(renderTarget);\r\n",
       "            }\r\n",
       "            catch (error) {\r\n",
       "                console.log(error);\r\n",
       "            }\n",
       "</script>\n",
       "</div>\n"
      ]
     },
     "metadata": {},
     "output_type": "display_data"
    },
    {
     "data": {
      "text/html": [
       "<details open=\"open\" class=\"dni-treeview\"><summary><span class=\"dni-code-hint\"><code>[ Microsoft.ML.Transforms.ValueToKeyMappingTransformer, Microsoft.ML.TorchSharp.NasBert.TextClassificationTransformer, Microsoft.ML.Transforms.KeyToValueMappingTransformer ]</code></span></summary><div><table><thead><tr></tr></thead><tbody><tr><td>LastTransformer</td><td><details class=\"dni-treeview\"><summary><span class=\"dni-code-hint\"><code>Microsoft.ML.Transforms.KeyToValueMappingTransformer</code></span></summary><div><table><thead><tr></tr></thead><tbody></tbody></table></div></details></td></tr><tr><td><i>(values)</i></td><td><table><thead><tr><th><i>index</i></th><th><i>type</i></th><th>value</th></tr></thead><tbody><tr><td>0</td><td><span><a href=\"https://docs.microsoft.com/dotnet/api/microsoft.ml.transforms.valuetokeymappingtransformer?view=net-7.0\">Microsoft.ML.Transforms.ValueToKeyMappingTransformer</a></span></td><td><details class=\"dni-treeview\"><summary><span class=\"dni-code-hint\"><code>Microsoft.ML.Transforms.ValueToKeyMappingTransformer</code></span></summary><div><table><thead><tr></tr></thead><tbody></tbody></table></div></details></td></tr><tr><td>1</td><td><span><a href=\"https://docs.microsoft.com/dotnet/api/microsoft.ml.torchsharp.nasbert.textclassificationtransformer?view=net-7.0\">Microsoft.ML.TorchSharp.NasBert.TextClassificationTransformer</a></span></td><td><details class=\"dni-treeview\"><summary><span class=\"dni-code-hint\"><code>Microsoft.ML.TorchSharp.NasBert.TextClassificationTransformer</code></span></summary><div><table><thead><tr></tr></thead><tbody><tr><td>SentenceColumn</td><td><details class=\"dni-treeview\"><summary><span class=\"dni-code-hint\"><code>Microsoft.ML.SchemaShape+Column</code></span></summary><div><table><thead><tr></tr></thead><tbody><tr><td>Name</td><td><div class=\"dni-plaintext\"><pre>Message</pre></div></td></tr><tr><td>Kind</td><td><span>Scalar</span></td></tr><tr><td>ItemType</td><td><details class=\"dni-treeview\"><summary><span class=\"dni-code-hint\"><code>String</code></span></summary><div><table><thead><tr></tr></thead><tbody><tr><td>RawType</td><td><span><a href=\"https://docs.microsoft.com/dotnet/api/system.readonlymemory-1?view=net-7.0\">System.ReadOnlyMemory&lt;System.Char&gt;</a></span></td></tr></tbody></table></div></details></td></tr><tr><td>IsKey</td><td><div class=\"dni-plaintext\"><pre>False</pre></div></td></tr><tr><td>Annotations</td><td><details class=\"dni-treeview\"><summary><span class=\"dni-code-hint\"><code>[  ]</code></span></summary><div><table><thead><tr></tr></thead><tbody><tr><td>Count</td><td><div class=\"dni-plaintext\"><pre>0</pre></div></td></tr><tr><td><i>(values)</i></td><td><i>(empty)</i></td></tr></tbody></table></div></details></td></tr></tbody></table></div></details></td></tr><tr><td>SentenceColumn2</td><td><details class=\"dni-treeview\"><summary><span class=\"dni-code-hint\"><code>Microsoft.ML.SchemaShape+Column</code></span></summary><div><table><thead><tr></tr></thead><tbody><tr><td>Name</td><td><div class=\"dni-plaintext\"><pre>&lt;null&gt;</pre></div></td></tr><tr><td>Kind</td><td><span>Scalar</span></td></tr><tr><td>ItemType</td><td><div class=\"dni-plaintext\"><pre>&lt;null&gt;</pre></div></td></tr><tr><td>IsKey</td><td><div class=\"dni-plaintext\"><pre>False</pre></div></td></tr><tr><td>Annotations</td><td><div class=\"dni-plaintext\"><pre>&lt;null&gt;</pre></div></td></tr></tbody></table></div></details></td></tr><tr><td>LabelColumn</td><td><details class=\"dni-treeview\"><summary><span class=\"dni-code-hint\"><code>Microsoft.ML.DataViewSchema+DetachedColumn</code></span></summary><div><table><thead><tr></tr></thead><tbody><tr><td>Name</td><td><div class=\"dni-plaintext\"><pre>Label</pre></div></td></tr><tr><td>Type</td><td><details class=\"dni-treeview\"><summary><span class=\"dni-code-hint\"><code>Key&lt;UInt32, 0-1&gt;</code></span></summary><div><table><thead><tr></tr></thead><tbody><tr><td>Count</td><td><div class=\"dni-plaintext\"><pre>2</pre></div></td></tr><tr><td>RawType</td><td><span><a href=\"https://docs.microsoft.com/dotnet/api/system.uint32?view=net-7.0\">System.UInt32</a></span></td></tr></tbody></table></div></details></td></tr><tr><td>Annotations</td><td><details class=\"dni-treeview\"><summary><span class=\"dni-code-hint\"><code>KeyValues</code></span></summary><div><table><thead><tr></tr></thead><tbody><tr><td>Schema</td><td><details class=\"dni-treeview\"><summary><span class=\"dni-code-hint\"><code>[ KeyValues: Vector&lt;UInt32, 2&gt; ]</code></span></summary><div><table><thead><tr></tr></thead><tbody><tr><td>Count</td><td><div class=\"dni-plaintext\"><pre>1</pre></div></td></tr><tr><td><i>(values)</i></td><td><table><thead><tr><th><i>index</i></th><th>value</th></tr></thead><tbody><tr><td>0</td><td><details class=\"dni-treeview\"><summary><span class=\"dni-code-hint\"><code>KeyValues: Vector&lt;UInt32, 2&gt;</code></span></summary><div><table><thead><tr></tr></thead><tbody><tr><td>Name</td><td>KeyValues</td></tr><tr><td>Index</td><td>0</td></tr><tr><td>IsHidden</td><td>False</td></tr><tr><td>Type</td><td>Vector<UInt32, 2></td></tr><tr><td>Annotations</td><td></td></tr></tbody></table></div></details></td></tr></tbody></table></td></tr></tbody></table></div></details></td></tr></tbody></table></div></details></td></tr></tbody></table></div></details></td></tr></tbody></table></div></details></td></tr><tr><td>2</td><td><span><a href=\"https://docs.microsoft.com/dotnet/api/microsoft.ml.transforms.keytovaluemappingtransformer?view=net-7.0\">Microsoft.ML.Transforms.KeyToValueMappingTransformer</a></span></td><td><details class=\"dni-treeview\"><summary><span class=\"dni-code-hint\"><code>Microsoft.ML.Transforms.KeyToValueMappingTransformer</code></span></summary><div><table><thead><tr></tr></thead><tbody></tbody></table></div></details></td></tr></tbody></table></td></tr></tbody></table></div></details><style>\r\n",
       ".dni-code-hint {\r\n",
       "    font-style: italic;\r\n",
       "    overflow: hidden;\r\n",
       "    white-space: nowrap;\r\n",
       "}\r\n",
       ".dni-treeview {\r\n",
       "    white-space: nowrap;\r\n",
       "}\r\n",
       ".dni-treeview td {\r\n",
       "    vertical-align: top;\r\n",
       "    text-align: start;\r\n",
       "}\r\n",
       "details.dni-treeview {\r\n",
       "    padding-left: 1em;\r\n",
       "}\r\n",
       "table td {\r\n",
       "    text-align: start;\r\n",
       "}\r\n",
       "table tr { \r\n",
       "    vertical-align: top; \r\n",
       "    margin: 0em 0px;\r\n",
       "}\r\n",
       "table tr td pre \r\n",
       "{ \r\n",
       "    vertical-align: top !important; \r\n",
       "    margin: 0em 0px !important;\r\n",
       "} \r\n",
       "table th {\r\n",
       "    text-align: start;\r\n",
       "}\r\n",
       "</style>"
      ]
     },
     "metadata": {},
     "output_type": "display_data"
    }
   ],
   "source": [
    "TorchSharp.torch.InitializeDeviceType(DeviceType.CPU);\n",
    "\n",
    "MLContext context = new(seed: seed) {\n",
    "    GpuDeviceId = 0,\n",
    "    FallbackToCpu = true\n",
    "};\n",
    "\n",
    "var split = context.Data.TrainTestSplit(dfMultiClass, testFraction: 0.3, seed: seed);\n",
    "\n",
    "var valueToKey = context.Transforms.Conversion.MapValueToKey(outputColumnName: \"Label\", inputColumnName: \"Label\");\n",
    "var bert = context.MulticlassClassification.Trainers.TextClassification(sentence1ColumnName: \"Message\", architecture: BertArchitecture.Roberta, validationSet: split.TestSet);\n",
    "var keyToValue = context.Transforms.Conversion.MapKeyToValue(outputColumnName: \"PredictedLabel\", inputColumnName: \"PredictedLabel\");\n",
    "\n",
    "// Train our model using this pipeline\n",
    "var pipeline = valueToKey.Append(bert).Append(keyToValue);\n",
    "ITransformer model = pipeline.Fit(split.TrainSet);\n",
    "\n",
    "// Get basics about the model\n",
    "#!transformer-vis model -n\n",
    "model"
   ]
  },
  {
   "cell_type": "code",
   "execution_count": 48,
   "metadata": {
    "vscode": {
     "languageId": "polyglot-notebook"
    }
   },
   "outputs": [
    {
     "data": {
      "text/html": [
       "<details open=\"open\" class=\"dni-treeview\"><summary><span class=\"dni-code-hint\"><code>Microsoft.ML.Data.MulticlassClassificationMetrics</code></span></summary><div><table><thead><tr></tr></thead><tbody><tr><td>LogLoss</td><td><div class=\"dni-plaintext\"><pre>13.648578322890906</pre></div></td></tr><tr><td>LogLossReduction</td><td><div class=\"dni-plaintext\"><pre>-20.72279937042476</pre></div></td></tr><tr><td>MacroAccuracy</td><td><div class=\"dni-plaintext\"><pre>0.5989684074790458</pre></div></td></tr><tr><td>MicroAccuracy</td><td><div class=\"dni-plaintext\"><pre>0.6986301369863014</pre></div></td></tr><tr><td>TopKAccuracy</td><td><div class=\"dni-plaintext\"><pre>0</pre></div></td></tr><tr><td>TopKPredictionCount</td><td><div class=\"dni-plaintext\"><pre>0</pre></div></td></tr><tr><td>TopKAccuracyForAllK</td><td><div class=\"dni-plaintext\"><pre>&lt;null&gt;</pre></div></td></tr><tr><td>PerClassLogLoss</td><td><div class=\"dni-plaintext\"><pre>[ 6.748459395132777, 28.182871383487818 ]</pre></div></td></tr><tr><td>ConfusionMatrix</td><td><details class=\"dni-treeview\"><summary><span class=\"dni-code-hint\"><code>Microsoft.ML.Data.ConfusionMatrix</code></span></summary><div><table><thead><tr></tr></thead><tbody><tr><td>PerClassPrecision</td><td><div class=\"dni-plaintext\"><pre>[ 0.7310924369747899, 0.5555555555555556 ]</pre></div></td></tr><tr><td>PerClassRecall</td><td><div class=\"dni-plaintext\"><pre>[ 0.8787878787878788, 0.3191489361702128 ]</pre></div></td></tr><tr><td>Counts</td><td><table><thead><tr><th><i>index</i></th><th>value</th></tr></thead><tbody><tr><td>0</td><td><div class=\"dni-plaintext\"><pre>[ 87, 12 ]</pre></div></td></tr><tr><td>1</td><td><div class=\"dni-plaintext\"><pre>[ 32, 15 ]</pre></div></td></tr></tbody></table></td></tr><tr><td>NumberOfClasses</td><td><div class=\"dni-plaintext\"><pre>2</pre></div></td></tr></tbody></table></div></details></td></tr></tbody></table></div></details><style>\r\n",
       ".dni-code-hint {\r\n",
       "    font-style: italic;\r\n",
       "    overflow: hidden;\r\n",
       "    white-space: nowrap;\r\n",
       "}\r\n",
       ".dni-treeview {\r\n",
       "    white-space: nowrap;\r\n",
       "}\r\n",
       ".dni-treeview td {\r\n",
       "    vertical-align: top;\r\n",
       "    text-align: start;\r\n",
       "}\r\n",
       "details.dni-treeview {\r\n",
       "    padding-left: 1em;\r\n",
       "}\r\n",
       "table td {\r\n",
       "    text-align: start;\r\n",
       "}\r\n",
       "table tr { \r\n",
       "    vertical-align: top; \r\n",
       "    margin: 0em 0px;\r\n",
       "}\r\n",
       "table tr td pre \r\n",
       "{ \r\n",
       "    vertical-align: top !important; \r\n",
       "    margin: 0em 0px !important;\r\n",
       "} \r\n",
       "table th {\r\n",
       "    text-align: start;\r\n",
       "}\r\n",
       "</style>"
      ]
     },
     "metadata": {},
     "output_type": "display_data"
    }
   ],
   "source": [
    "var scorer = model.Transform(split.TestSet);\n",
    "var evalResults = context.MulticlassClassification.Evaluate(model.Transform(split.TestSet));\n",
    "\n",
    "evalResults"
   ]
  },
  {
   "cell_type": "code",
   "execution_count": 49,
   "metadata": {
    "vscode": {
     "languageId": "polyglot-notebook"
    }
   },
   "outputs": [
    {
     "data": {
      "text/html": [
       "<div><div id=\"2a25f8b1-9905-4a34-8d5c-d965068fbe76\"><!-- Plotly chart will be drawn inside this DIV --></div><script type=\"text/javascript\">\n",
       "var renderPlotly_2a25f8b199054a348d5cd965068fbe76 = function() {\n",
       "    var fsharpPlotlyRequire = requirejs.config({context:'fsharp-plotly',paths:{plotly:'https://cdn.plot.ly/plotly-2.27.1.min'}}) || require;\n",
       "    fsharpPlotlyRequire(['plotly'], function(Plotly) {\n",
       "        var data = [{\"type\":\"heatmap\",\"x\":[\"Non-Bugfix\",\"Bugfix\"],\"y\":[\"Non-Bugfix\",\"Bugfix\"],\"z\":[[87.0,12.0],[32.0,15.0]],\"colorscale\":[[0.0,\"#FFFFFF\"],[0.5,\"#009dcf\"],[1.0,\"#003171\"]],\"showscale\":false}];\n",
       "        var layout = {\"width\":600,\"height\":600,\"template\":{\"layout\":{\"title\":{\"x\":0.05},\"font\":{\"color\":\"rgba(42, 63, 95, 1.0)\"},\"paper_bgcolor\":\"rgba(255, 255, 255, 1.0)\",\"plot_bgcolor\":\"rgba(229, 236, 246, 1.0)\",\"autotypenumbers\":\"strict\",\"colorscale\":{\"diverging\":[[0.0,\"#8e0152\"],[0.1,\"#c51b7d\"],[0.2,\"#de77ae\"],[0.3,\"#f1b6da\"],[0.4,\"#fde0ef\"],[0.5,\"#f7f7f7\"],[0.6,\"#e6f5d0\"],[0.7,\"#b8e186\"],[0.8,\"#7fbc41\"],[0.9,\"#4d9221\"],[1.0,\"#276419\"]],\"sequential\":[[0.0,\"#0d0887\"],[0.1111111111111111,\"#46039f\"],[0.2222222222222222,\"#7201a8\"],[0.3333333333333333,\"#9c179e\"],[0.4444444444444444,\"#bd3786\"],[0.5555555555555556,\"#d8576b\"],[0.6666666666666666,\"#ed7953\"],[0.7777777777777778,\"#fb9f3a\"],[0.8888888888888888,\"#fdca26\"],[1.0,\"#f0f921\"]],\"sequentialminus\":[[0.0,\"#0d0887\"],[0.1111111111111111,\"#46039f\"],[0.2222222222222222,\"#7201a8\"],[0.3333333333333333,\"#9c179e\"],[0.4444444444444444,\"#bd3786\"],[0.5555555555555556,\"#d8576b\"],[0.6666666666666666,\"#ed7953\"],[0.7777777777777778,\"#fb9f3a\"],[0.8888888888888888,\"#fdca26\"],[1.0,\"#f0f921\"]]},\"hovermode\":\"closest\",\"hoverlabel\":{\"align\":\"left\"},\"coloraxis\":{\"colorbar\":{\"outlinewidth\":0.0,\"ticks\":\"\"}},\"geo\":{\"showland\":true,\"landcolor\":\"rgba(229, 236, 246, 1.0)\",\"showlakes\":true,\"lakecolor\":\"rgba(255, 255, 255, 1.0)\",\"subunitcolor\":\"rgba(255, 255, 255, 1.0)\",\"bgcolor\":\"rgba(255, 255, 255, 1.0)\"},\"mapbox\":{\"style\":\"light\"},\"polar\":{\"bgcolor\":\"rgba(229, 236, 246, 1.0)\",\"radialaxis\":{\"linecolor\":\"rgba(255, 255, 255, 1.0)\",\"gridcolor\":\"rgba(255, 255, 255, 1.0)\",\"ticks\":\"\"},\"angularaxis\":{\"linecolor\":\"rgba(255, 255, 255, 1.0)\",\"gridcolor\":\"rgba(255, 255, 255, 1.0)\",\"ticks\":\"\"}},\"scene\":{\"xaxis\":{\"ticks\":\"\",\"linecolor\":\"rgba(255, 255, 255, 1.0)\",\"gridcolor\":\"rgba(255, 255, 255, 1.0)\",\"gridwidth\":2.0,\"zerolinecolor\":\"rgba(255, 255, 255, 1.0)\",\"backgroundcolor\":\"rgba(229, 236, 246, 1.0)\",\"showbackground\":true},\"yaxis\":{\"ticks\":\"\",\"linecolor\":\"rgba(255, 255, 255, 1.0)\",\"gridcolor\":\"rgba(255, 255, 255, 1.0)\",\"gridwidth\":2.0,\"zerolinecolor\":\"rgba(255, 255, 255, 1.0)\",\"backgroundcolor\":\"rgba(229, 236, 246, 1.0)\",\"showbackground\":true},\"zaxis\":{\"ticks\":\"\",\"linecolor\":\"rgba(255, 255, 255, 1.0)\",\"gridcolor\":\"rgba(255, 255, 255, 1.0)\",\"gridwidth\":2.0,\"zerolinecolor\":\"rgba(255, 255, 255, 1.0)\",\"backgroundcolor\":\"rgba(229, 236, 246, 1.0)\",\"showbackground\":true}},\"ternary\":{\"aaxis\":{\"ticks\":\"\",\"linecolor\":\"rgba(255, 255, 255, 1.0)\",\"gridcolor\":\"rgba(255, 255, 255, 1.0)\"},\"baxis\":{\"ticks\":\"\",\"linecolor\":\"rgba(255, 255, 255, 1.0)\",\"gridcolor\":\"rgba(255, 255, 255, 1.0)\"},\"caxis\":{\"ticks\":\"\",\"linecolor\":\"rgba(255, 255, 255, 1.0)\",\"gridcolor\":\"rgba(255, 255, 255, 1.0)\"},\"bgcolor\":\"rgba(229, 236, 246, 1.0)\"},\"xaxis\":{\"title\":{\"standoff\":15},\"ticks\":\"\",\"automargin\":\"height+width+left+right+top+bottom\",\"linecolor\":\"rgba(255, 255, 255, 1.0)\",\"gridcolor\":\"rgba(255, 255, 255, 1.0)\",\"zerolinecolor\":\"rgba(255, 255, 255, 1.0)\",\"zerolinewidth\":2.0},\"yaxis\":{\"title\":{\"standoff\":15},\"ticks\":\"\",\"automargin\":\"height+width+left+right+top+bottom\",\"linecolor\":\"rgba(255, 255, 255, 1.0)\",\"gridcolor\":\"rgba(255, 255, 255, 1.0)\",\"zerolinecolor\":\"rgba(255, 255, 255, 1.0)\",\"zerolinewidth\":2.0},\"annotationdefaults\":{\"arrowcolor\":\"#2a3f5f\",\"arrowhead\":0,\"arrowwidth\":1},\"shapedefaults\":{\"line\":{\"color\":\"rgba(42, 63, 95, 1.0)\"}},\"colorway\":[\"rgba(99, 110, 250, 1.0)\",\"rgba(239, 85, 59, 1.0)\",\"rgba(0, 204, 150, 1.0)\",\"rgba(171, 99, 250, 1.0)\",\"rgba(255, 161, 90, 1.0)\",\"rgba(25, 211, 243, 1.0)\",\"rgba(255, 102, 146, 1.0)\",\"rgba(182, 232, 128, 1.0)\",\"rgba(255, 151, 255, 1.0)\",\"rgba(254, 203, 82, 1.0)\"]},\"data\":{\"bar\":[{\"marker\":{\"line\":{\"color\":\"rgba(229, 236, 246, 1.0)\",\"width\":0.5},\"pattern\":{\"fillmode\":\"overlay\",\"size\":10,\"solidity\":0.2}},\"error_x\":{\"color\":\"rgba(42, 63, 95, 1.0)\"},\"error_y\":{\"color\":\"rgba(42, 63, 95, 1.0)\"}}],\"barpolar\":[{\"marker\":{\"line\":{\"color\":\"rgba(229, 236, 246, 1.0)\",\"width\":0.5},\"pattern\":{\"fillmode\":\"overlay\",\"size\":10,\"solidity\":0.2}}}],\"carpet\":[{\"aaxis\":{\"linecolor\":\"rgba(255, 255, 255, 1.0)\",\"gridcolor\":\"rgba(255, 255, 255, 1.0)\",\"endlinecolor\":\"rgba(42, 63, 95, 1.0)\",\"minorgridcolor\":\"rgba(255, 255, 255, 1.0)\",\"startlinecolor\":\"rgba(42, 63, 95, 1.0)\"},\"baxis\":{\"linecolor\":\"rgba(255, 255, 255, 1.0)\",\"gridcolor\":\"rgba(255, 255, 255, 1.0)\",\"endlinecolor\":\"rgba(42, 63, 95, 1.0)\",\"minorgridcolor\":\"rgba(255, 255, 255, 1.0)\",\"startlinecolor\":\"rgba(42, 63, 95, 1.0)\"}}],\"choropleth\":[{\"colorbar\":{\"outlinewidth\":0.0,\"ticks\":\"\"},\"colorscale\":[[0.0,\"#0d0887\"],[0.1111111111111111,\"#46039f\"],[0.2222222222222222,\"#7201a8\"],[0.3333333333333333,\"#9c179e\"],[0.4444444444444444,\"#bd3786\"],[0.5555555555555556,\"#d8576b\"],[0.6666666666666666,\"#ed7953\"],[0.7777777777777778,\"#fb9f3a\"],[0.8888888888888888,\"#fdca26\"],[1.0,\"#f0f921\"]]}],\"contour\":[{\"colorbar\":{\"outlinewidth\":0.0,\"ticks\":\"\"},\"colorscale\":[[0.0,\"#0d0887\"],[0.1111111111111111,\"#46039f\"],[0.2222222222222222,\"#7201a8\"],[0.3333333333333333,\"#9c179e\"],[0.4444444444444444,\"#bd3786\"],[0.5555555555555556,\"#d8576b\"],[0.6666666666666666,\"#ed7953\"],[0.7777777777777778,\"#fb9f3a\"],[0.8888888888888888,\"#fdca26\"],[1.0,\"#f0f921\"]]}],\"contourcarpet\":[{\"colorbar\":{\"outlinewidth\":0.0,\"ticks\":\"\"}}],\"heatmap\":[{\"colorbar\":{\"outlinewidth\":0.0,\"ticks\":\"\"},\"colorscale\":[[0.0,\"#0d0887\"],[0.1111111111111111,\"#46039f\"],[0.2222222222222222,\"#7201a8\"],[0.3333333333333333,\"#9c179e\"],[0.4444444444444444,\"#bd3786\"],[0.5555555555555556,\"#d8576b\"],[0.6666666666666666,\"#ed7953\"],[0.7777777777777778,\"#fb9f3a\"],[0.8888888888888888,\"#fdca26\"],[1.0,\"#f0f921\"]]}],\"heatmapgl\":[{\"colorbar\":{\"outlinewidth\":0.0,\"ticks\":\"\"},\"colorscale\":[[0.0,\"#0d0887\"],[0.1111111111111111,\"#46039f\"],[0.2222222222222222,\"#7201a8\"],[0.3333333333333333,\"#9c179e\"],[0.4444444444444444,\"#bd3786\"],[0.5555555555555556,\"#d8576b\"],[0.6666666666666666,\"#ed7953\"],[0.7777777777777778,\"#fb9f3a\"],[0.8888888888888888,\"#fdca26\"],[1.0,\"#f0f921\"]]}],\"histogram\":[{\"marker\":{\"pattern\":{\"fillmode\":\"overlay\",\"size\":10,\"solidity\":0.2}}}],\"histogram2d\":[{\"colorbar\":{\"outlinewidth\":0.0,\"ticks\":\"\"},\"colorscale\":[[0.0,\"#0d0887\"],[0.1111111111111111,\"#46039f\"],[0.2222222222222222,\"#7201a8\"],[0.3333333333333333,\"#9c179e\"],[0.4444444444444444,\"#bd3786\"],[0.5555555555555556,\"#d8576b\"],[0.6666666666666666,\"#ed7953\"],[0.7777777777777778,\"#fb9f3a\"],[0.8888888888888888,\"#fdca26\"],[1.0,\"#f0f921\"]]}],\"histogram2dcontour\":[{\"colorbar\":{\"outlinewidth\":0.0,\"ticks\":\"\"},\"colorscale\":[[0.0,\"#0d0887\"],[0.1111111111111111,\"#46039f\"],[0.2222222222222222,\"#7201a8\"],[0.3333333333333333,\"#9c179e\"],[0.4444444444444444,\"#bd3786\"],[0.5555555555555556,\"#d8576b\"],[0.6666666666666666,\"#ed7953\"],[0.7777777777777778,\"#fb9f3a\"],[0.8888888888888888,\"#fdca26\"],[1.0,\"#f0f921\"]]}],\"mesh3d\":[{\"colorbar\":{\"outlinewidth\":0.0,\"ticks\":\"\"}}],\"parcoords\":[{\"line\":{\"colorbar\":{\"outlinewidth\":0.0,\"ticks\":\"\"}}}],\"pie\":[{\"automargin\":true}],\"scatter\":[{\"marker\":{\"colorbar\":{\"outlinewidth\":0.0,\"ticks\":\"\"}}}],\"scatter3d\":[{\"marker\":{\"colorbar\":{\"outlinewidth\":0.0,\"ticks\":\"\"}},\"line\":{\"colorbar\":{\"outlinewidth\":0.0,\"ticks\":\"\"}}}],\"scattercarpet\":[{\"marker\":{\"colorbar\":{\"outlinewidth\":0.0,\"ticks\":\"\"}}}],\"scattergeo\":[{\"marker\":{\"colorbar\":{\"outlinewidth\":0.0,\"ticks\":\"\"}}}],\"scattergl\":[{\"marker\":{\"colorbar\":{\"outlinewidth\":0.0,\"ticks\":\"\"}}}],\"scattermapbox\":[{\"marker\":{\"colorbar\":{\"outlinewidth\":0.0,\"ticks\":\"\"}}}],\"scatterpolar\":[{\"marker\":{\"colorbar\":{\"outlinewidth\":0.0,\"ticks\":\"\"}}}],\"scatterpolargl\":[{\"marker\":{\"colorbar\":{\"outlinewidth\":0.0,\"ticks\":\"\"}}}],\"scatterternary\":[{\"marker\":{\"colorbar\":{\"outlinewidth\":0.0,\"ticks\":\"\"}}}],\"surface\":[{\"colorbar\":{\"outlinewidth\":0.0,\"ticks\":\"\"},\"colorscale\":[[0.0,\"#0d0887\"],[0.1111111111111111,\"#46039f\"],[0.2222222222222222,\"#7201a8\"],[0.3333333333333333,\"#9c179e\"],[0.4444444444444444,\"#bd3786\"],[0.5555555555555556,\"#d8576b\"],[0.6666666666666666,\"#ed7953\"],[0.7777777777777778,\"#fb9f3a\"],[0.8888888888888888,\"#fdca26\"],[1.0,\"#f0f921\"]]}],\"table\":[{\"cells\":{\"fill\":{\"color\":\"rgba(235, 240, 248, 1.0)\"},\"line\":{\"color\":\"rgba(255, 255, 255, 1.0)\"}},\"header\":{\"fill\":{\"color\":\"rgba(200, 212, 227, 1.0)\"},\"line\":{\"color\":\"rgba(255, 255, 255, 1.0)\"}}}]}},\"yaxis\":{\"autorange\":\"reversed\",\"title\":{\"text\":\"Actual\"},\"showline\":false,\"showgrid\":false,\"side\":\"left\",\"showbackground\":false},\"title\":{\"text\":\"Confusion Matrix\"},\"xaxis\":{\"title\":{\"text\":\"Predicted\"},\"showline\":false,\"showgrid\":false,\"side\":\"top\",\"showbackground\":false},\"annotations\":[{\"x\":0,\"y\":0,\"bgcolor\":\"#FFFFFF\",\"bordercolor\":\"#003171\",\"font\":{\"size\":18.0},\"showarrow\":false,\"text\":\"87\"},{\"x\":1,\"y\":0,\"bgcolor\":\"#FFFFFF\",\"bordercolor\":\"#003171\",\"font\":{\"size\":18.0},\"showarrow\":false,\"text\":\"12\"},{\"x\":0,\"y\":1,\"bgcolor\":\"#FFFFFF\",\"bordercolor\":\"#003171\",\"font\":{\"size\":18.0},\"showarrow\":false,\"text\":\"32\"},{\"x\":1,\"y\":1,\"bgcolor\":\"#FFFFFF\",\"bordercolor\":\"#003171\",\"font\":{\"size\":18.0},\"showarrow\":false,\"text\":\"15\"},{\"x\":0,\"y\":1.55,\"font\":{\"size\":12.0},\"showarrow\":false,\"text\":\"Precision 0.731\"},{\"x\":1.55,\"y\":0,\"font\":{\"size\":12.0},\"showarrow\":false,\"text\":\"Recall 0.879\",\"textangle\":-90.0},{\"x\":1,\"y\":1.55,\"font\":{\"size\":12.0},\"showarrow\":false,\"text\":\"Precision 0.556\"},{\"x\":1.55,\"y\":1,\"font\":{\"size\":12.0},\"showarrow\":false,\"text\":\"Recall 0.319\",\"textangle\":-90.0}]};\n",
       "        var config = {\"responsive\":true};\n",
       "        Plotly.newPlot('2a25f8b1-9905-4a34-8d5c-d965068fbe76', data, layout, config);\n",
       "    });\n",
       "};\n",
       "if ((typeof(requirejs) !==  typeof(Function)) || (typeof(requirejs.config) !== typeof(Function))) {\n",
       "    var script = document.createElement(\"script\");\n",
       "    script.setAttribute(\"charset\", \"utf-8\");\n",
       "    script.setAttribute(\"src\", \"https://cdnjs.cloudflare.com/ajax/libs/require.js/2.3.6/require.min.js\");\n",
       "    script.onload = function(){\n",
       "        renderPlotly_2a25f8b199054a348d5cd965068fbe76();\n",
       "    };\n",
       "    document.getElementsByTagName(\"head\")[0].appendChild(script);\n",
       "}\n",
       "else {\n",
       "    renderPlotly_2a25f8b199054a348d5cd965068fbe76();\n",
       "}\n",
       "</script></div>"
      ]
     },
     "metadata": {},
     "output_type": "display_data"
    }
   ],
   "source": [
    "MLCharts.RenderConfusionMatrix(evalResults.ConfusionMatrix, classNames: new List<string> {\"Non-Bugfix\", \"Bugfix\"})"
   ]
  },
  {
   "cell_type": "code",
   "execution_count": 50,
   "metadata": {
    "vscode": {
     "languageId": "polyglot-notebook"
    }
   },
   "outputs": [
    {
     "data": {
      "text/html": [
       "<details open=\"open\" class=\"dni-treeview\"><summary><span class=\"dni-code-hint\"><code>{ precision = 0.5555555555555556, recall = 0.3191489361702128, f1Score = 0.40540540540540543 }</code></span></summary><div><table><thead><tr></tr></thead><tbody><tr><td>precision</td><td><div class=\"dni-plaintext\"><pre>0.5555555555555556</pre></div></td></tr><tr><td>recall</td><td><div class=\"dni-plaintext\"><pre>0.3191489361702128</pre></div></td></tr><tr><td>f1Score</td><td><div class=\"dni-plaintext\"><pre>0.40540540540540543</pre></div></td></tr></tbody></table></div></details><style>\r\n",
       ".dni-code-hint {\r\n",
       "    font-style: italic;\r\n",
       "    overflow: hidden;\r\n",
       "    white-space: nowrap;\r\n",
       "}\r\n",
       ".dni-treeview {\r\n",
       "    white-space: nowrap;\r\n",
       "}\r\n",
       ".dni-treeview td {\r\n",
       "    vertical-align: top;\r\n",
       "    text-align: start;\r\n",
       "}\r\n",
       "details.dni-treeview {\r\n",
       "    padding-left: 1em;\r\n",
       "}\r\n",
       "table td {\r\n",
       "    text-align: start;\r\n",
       "}\r\n",
       "table tr { \r\n",
       "    vertical-align: top; \r\n",
       "    margin: 0em 0px;\r\n",
       "}\r\n",
       "table tr td pre \r\n",
       "{ \r\n",
       "    vertical-align: top !important; \r\n",
       "    margin: 0em 0px !important;\r\n",
       "} \r\n",
       "table th {\r\n",
       "    text-align: start;\r\n",
       "}\r\n",
       "</style>"
      ]
     },
     "metadata": {},
     "output_type": "display_data"
    }
   ],
   "source": [
    "double tp = evalResults.ConfusionMatrix.GetCountForClassPair(1, 1);\n",
    "double tn = evalResults.ConfusionMatrix.GetCountForClassPair(0, 0);\n",
    "double fp = evalResults.ConfusionMatrix.GetCountForClassPair(1, 0);\n",
    "double fn = evalResults.ConfusionMatrix.GetCountForClassPair(0, 1);\n",
    "\n",
    "double precision = tp / (tp + fp);\n",
    "double recall = tp / (tp + fn);\n",
    "double f1Score = 2 * (precision * recall) / (precision + recall);\n",
    "\n",
    "new {precision, recall, f1Score}"
   ]
  }
 ],
 "metadata": {
  "kernelspec": {
   "display_name": ".NET (C#)",
   "language": "C#",
   "name": ".net-csharp"
  },
  "language_info": {
   "name": "python"
  },
  "polyglot_notebook": {
   "kernelInfo": {
    "defaultKernelName": "csharp",
    "items": [
     {
      "aliases": [],
      "name": "csharp"
     }
    ]
   }
  }
 },
 "nbformat": 4,
 "nbformat_minor": 2
}
