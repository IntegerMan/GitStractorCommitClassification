{
 "cells": [
  {
   "cell_type": "markdown",
   "metadata": {},
   "source": [
    "# Text Classification\n",
    "\n",
    "This notebook is for specialized text classification, including some using deep learning via TorchSharp.\n",
    "\n",
    "This is kept in its own notebook because it uses CUDA 12 and Linux"
   ]
  },
  {
   "cell_type": "markdown",
   "metadata": {},
   "source": [
    "## Dependencies"
   ]
  },
  {
   "cell_type": "code",
   "execution_count": 1,
   "metadata": {
    "dotnet_interactive": {
     "language": "csharp"
    },
    "polyglot_notebook": {
     "kernelName": "csharp"
    },
    "vscode": {
     "languageId": "polyglot-notebook"
    }
   },
   "outputs": [
    {
     "data": {
      "text/html": [
       "<div><div></div><div></div><div><strong>Installed Packages</strong><ul><li><span>libtorch-cpu-linux-x64, 2.1.0.1</span></li><li><span>Microsoft.Data.Analysis, 0.21.1</span></li><li><span>Microsoft.ML, 3.0.1</span></li><li><span>Microsoft.ML.AutoML, 0.21.1</span></li><li><span>Microsoft.ML.TorchSharp, 0.21.1</span></li><li><span>Newtonsoft.Json, 13.0.3</span></li><li><span>Plotly.NET, 5.0.0</span></li><li><span>Plotly.NET.Interactive, 5.0.0</span></li><li><span>TorchSharp, 0.101.5</span></li></ul></div></div>"
      ]
     },
     "metadata": {},
     "output_type": "display_data"
    },
    {
     "data": {
      "text/plain": [
       "Loading extensions from `/home/matteland/.nuget/packages/plotly.net.interactive/5.0.0/lib/netstandard2.1/Plotly.NET.Interactive.dll`"
      ]
     },
     "metadata": {},
     "output_type": "display_data"
    },
    {
     "data": {
      "text/plain": [
       "Loading extensions from `/home/matteland/.nuget/packages/microsoft.data.analysis/0.21.1/interactive-extensions/dotnet/Microsoft.Data.Analysis.Interactive.dll`"
      ]
     },
     "metadata": {},
     "output_type": "display_data"
    },
    {
     "data": {
      "text/plain": [
       "Loading extensions from `/home/matteland/.nuget/packages/microsoft.ml.automl/0.21.1/interactive-extensions/dotnet/Microsoft.ML.AutoML.Interactive.dll`"
      ]
     },
     "metadata": {},
     "output_type": "display_data"
    },
    {
     "data": {
      "text/plain": [
       "Loading extensions from `/home/matteland/.nuget/packages/skiasharp/2.88.6/interactive-extensions/dotnet/SkiaSharp.DotNet.Interactive.dll`"
      ]
     },
     "metadata": {},
     "output_type": "display_data"
    }
   ],
   "source": [
    "#r \"nuget:Microsoft.Data.Analysis\"\n",
    "#r \"nuget:Microsoft.ML\"\n",
    "#r \"nuget:Microsoft.ML.AutoML\"\n",
    "#r \"nuget:Microsoft.ML.TorchSharp\"\n",
    "#r \"nuget:Newtonsoft.Json\"\n",
    "#r \"nuget:Plotly.NET\"\n",
    "#r \"nuget:Plotly.NET.Interactive\"\n",
    "#r \"nuget:libtorch-cpu-linux-x64, 2.1.0.1\"\n",
    "#r \"nuget:TorchSharp,0.101.5\"\n",
    "\n",
    "using Microsoft.DotNet.Interactive.Formatting;\n",
    "using Microsoft.Data.Analysis;\n",
    "using Microsoft.ML;\n",
    "using Microsoft.ML.AutoML;\n",
    "using Microsoft.ML.AutoML.CodeGen;\n",
    "using Microsoft.ML.SearchSpace;\n",
    "using Microsoft.ML.SearchSpace.Option;\n",
    "using Microsoft.ML.Data;\n",
    "using Microsoft.ML.Trainers;\n",
    "using Microsoft.ML.Transforms;\n",
    "using Microsoft.ML.Transforms.Text;\n",
    "using Microsoft.ML.TorchSharp;\n",
    "using Microsoft.ML.TorchSharp.NasBert;\n",
    "using TorchSharp;\n",
    "using Newtonsoft.Json;\n",
    "using System.Reflection;\n",
    "using System.IO;"
   ]
  },
  {
   "cell_type": "code",
   "execution_count": 2,
   "metadata": {
    "dotnet_interactive": {
     "language": "csharp"
    },
    "polyglot_notebook": {
     "kernelName": "csharp"
    },
    "vscode": {
     "languageId": "polyglot-notebook"
    }
   },
   "outputs": [
    {
     "data": {
      "text/html": [
       "<details><summary>reflect</summary>\n",
       "    <p>This extension generates a list of properties on the object in tabular format.</p>\n",
       "    </details>"
      ]
     },
     "metadata": {},
     "output_type": "display_data"
    },
    {
     "data": {
      "text/html": [
       "<details><summary>transformer-vis</summary>\n",
       "    <p>This extension generates Flowcharts from ITransformers using the Mermaid kernel.</p>\n",
       "    </details>"
      ]
     },
     "metadata": {},
     "output_type": "display_data"
    },
    {
     "data": {
      "text/html": [
       "<details><summary>pipeline-vis</summary>\n",
       "    <p>This extension generates Flowcharts from Pipelines using the Mermaid kernel.</p>\n",
       "    </details>"
      ]
     },
     "metadata": {},
     "output_type": "display_data"
    }
   ],
   "source": [
    "//#r \"nuget:MattEland.ML\"\n",
    "//#r \"nuget:MattEland.ML.Charts\"\n",
    "//#r \"nuget:MattEland.ML.DataFrames\"\n",
    "//#r \"nuget:MattEland.ML.Interactive\"\n",
    "#r \"/home/matteland/Documents/MattEland.ML/MattEland.ML/MattEland.ML/bin/Debug/net8.0/MattEland.ML.dll\"\n",
    "#r \"/home/matteland/Documents/MattEland.ML/MattEland.ML/MattEland.ML.DataFrames/bin/Debug/net8.0/MattEland.ML.DataFrames.dll\"\n",
    "#r \"/home/matteland/Documents/MattEland.ML/MattEland.ML/MattEland.ML.Charts/bin/Debug/net8.0/MattEland.ML.Charts.dll\"\n",
    "#r \"/home/matteland/Documents/MattEland.ML/MattEland.ML/MattEland.ML.Interactive/bin/Debug/net8.0/MattEland.ML.Interactive.dll\"\n",
    "\n",
    "using MattEland.ML;\n",
    "using MattEland.ML.Charts;\n",
    "using MattEland.ML.DataFrames;\n",
    "using MattEland.ML.Interactive;\n",
    "\n",
    "await MattEland.ML.Interactive.InteractiveExtensions.Load(Microsoft.DotNet.Interactive.KernelInvocationContext.Current.HandlingKernel.RootKernel);"
   ]
  },
  {
   "cell_type": "markdown",
   "metadata": {},
   "source": [
    "## Data Loading"
   ]
  },
  {
   "cell_type": "code",
   "execution_count": 3,
   "metadata": {
    "dotnet_interactive": {
     "language": "csharp"
    },
    "polyglot_notebook": {
     "kernelName": "csharp"
    },
    "vscode": {
     "languageId": "polyglot-notebook"
    }
   },
   "outputs": [
    {
     "data": {
      "text/html": [
       "<table id=\"table_638547756980168208\"><thead><tr><th><i>index</i></th><th>Label</th><th>Message</th><th>IsMerge</th><th>WorkItems</th><th>TotalFiles</th><th>ModifiedFiles</th><th>AddedFiles</th><th>DeletedFiles</th><th>TotalLines</th><th>NetLines</th><th>AddedLines</th><th>DeletedLines</th><th>HasAddedFiles</th><th>HasDeletedFiles</th><th>MessageLength</th><th>WordCount</th></tr></thead><tbody><tr><td><i><div class=\"dni-plaintext\"><pre>0</pre></div></i></td><td><div class=\"dni-plaintext\"><pre>False</pre></div></td><td>Lone wolf peek is now fully implemented</td><td><div class=\"dni-plaintext\"><pre>False</pre></div></td><td><div class=\"dni-plaintext\"><pre>0</pre></div></td><td><div class=\"dni-plaintext\"><pre>10</pre></div></td><td><div class=\"dni-plaintext\"><pre>7</pre></div></td><td><div class=\"dni-plaintext\"><pre>2</pre></div></td><td><div class=\"dni-plaintext\"><pre>1</pre></div></td><td><div class=\"dni-plaintext\"><pre>387</pre></div></td><td><div class=\"dni-plaintext\"><pre>91</pre></div></td><td><div class=\"dni-plaintext\"><pre>104</pre></div></td><td><div class=\"dni-plaintext\"><pre>13</pre></div></td><td><div class=\"dni-plaintext\"><pre>True</pre></div></td><td><div class=\"dni-plaintext\"><pre>True</pre></div></td><td><div class=\"dni-plaintext\"><pre>39</pre></div></td><td><div class=\"dni-plaintext\"><pre>7</pre></div></td></tr><tr><td><i><div class=\"dni-plaintext\"><pre>1</pre></div></i></td><td><div class=\"dni-plaintext\"><pre>False</pre></div></td><td>Updated documentation</td><td><div class=\"dni-plaintext\"><pre>False</pre></div></td><td><div class=\"dni-plaintext\"><pre>0</pre></div></td><td><div class=\"dni-plaintext\"><pre>1</pre></div></td><td><div class=\"dni-plaintext\"><pre>1</pre></div></td><td><div class=\"dni-plaintext\"><pre>0</pre></div></td><td><div class=\"dni-plaintext\"><pre>0</pre></div></td><td><div class=\"dni-plaintext\"><pre>45</pre></div></td><td><div class=\"dni-plaintext\"><pre>1</pre></div></td><td><div class=\"dni-plaintext\"><pre>2</pre></div></td><td><div class=\"dni-plaintext\"><pre>1</pre></div></td><td><div class=\"dni-plaintext\"><pre>False</pre></div></td><td><div class=\"dni-plaintext\"><pre>False</pre></div></td><td><div class=\"dni-plaintext\"><pre>21</pre></div></td><td><div class=\"dni-plaintext\"><pre>2</pre></div></td></tr><tr><td><i><div class=\"dni-plaintext\"><pre>2</pre></div></i></td><td><div class=\"dni-plaintext\"><pre>True</pre></div></td><td>fix find kernel on composite kernel (#2400)</td><td><div class=\"dni-plaintext\"><pre>False</pre></div></td><td><div class=\"dni-plaintext\"><pre>1</pre></div></td><td><div class=\"dni-plaintext\"><pre>5</pre></div></td><td><div class=\"dni-plaintext\"><pre>5</pre></div></td><td><div class=\"dni-plaintext\"><pre>0</pre></div></td><td><div class=\"dni-plaintext\"><pre>0</pre></div></td><td><div class=\"dni-plaintext\"><pre>1030</pre></div></td><td><div class=\"dni-plaintext\"><pre>50</pre></div></td><td><div class=\"dni-plaintext\"><pre>52</pre></div></td><td><div class=\"dni-plaintext\"><pre>2</pre></div></td><td><div class=\"dni-plaintext\"><pre>False</pre></div></td><td><div class=\"dni-plaintext\"><pre>False</pre></div></td><td><div class=\"dni-plaintext\"><pre>43</pre></div></td><td><div class=\"dni-plaintext\"><pre>7</pre></div></td></tr><tr><td><i><div class=\"dni-plaintext\"><pre>3</pre></div></i></td><td><div class=\"dni-plaintext\"><pre>True</pre></div></td><td>Simplified encounter generation code</td><td><div class=\"dni-plaintext\"><pre>False</pre></div></td><td><div class=\"dni-plaintext\"><pre>0</pre></div></td><td><div class=\"dni-plaintext\"><pre>1</pre></div></td><td><div class=\"dni-plaintext\"><pre>1</pre></div></td><td><div class=\"dni-plaintext\"><pre>0</pre></div></td><td><div class=\"dni-plaintext\"><pre>0</pre></div></td><td><div class=\"dni-plaintext\"><pre>180</pre></div></td><td><div class=\"dni-plaintext\"><pre>-6</pre></div></td><td><div class=\"dni-plaintext\"><pre>21</pre></div></td><td><div class=\"dni-plaintext\"><pre>27</pre></div></td><td><div class=\"dni-plaintext\"><pre>False</pre></div></td><td><div class=\"dni-plaintext\"><pre>False</pre></div></td><td><div class=\"dni-plaintext\"><pre>36</pre></div></td><td><div class=\"dni-plaintext\"><pre>4</pre></div></td></tr><tr><td><i><div class=\"dni-plaintext\"><pre>4</pre></div></i></td><td><div class=\"dni-plaintext\"><pre>True</pre></div></td><td>Fix bug with order of pixels in the Interleave=true case (#2130)</td><td><div class=\"dni-plaintext\"><pre>False</pre></div></td><td><div class=\"dni-plaintext\"><pre>1</pre></div></td><td><div class=\"dni-plaintext\"><pre>2</pre></div></td><td><div class=\"dni-plaintext\"><pre>2</pre></div></td><td><div class=\"dni-plaintext\"><pre>0</pre></div></td><td><div class=\"dni-plaintext\"><pre>0</pre></div></td><td><div class=\"dni-plaintext\"><pre>1124</pre></div></td><td><div class=\"dni-plaintext\"><pre>0</pre></div></td><td><div class=\"dni-plaintext\"><pre>4</pre></div></td><td><div class=\"dni-plaintext\"><pre>4</pre></div></td><td><div class=\"dni-plaintext\"><pre>False</pre></div></td><td><div class=\"dni-plaintext\"><pre>False</pre></div></td><td><div class=\"dni-plaintext\"><pre>64</pre></div></td><td><div class=\"dni-plaintext\"><pre>11</pre></div></td></tr></tbody></table><style>\r\n",
       ".dni-code-hint {\r\n",
       "    font-style: italic;\r\n",
       "    overflow: hidden;\r\n",
       "    white-space: nowrap;\r\n",
       "}\r\n",
       ".dni-treeview {\r\n",
       "    white-space: nowrap;\r\n",
       "}\r\n",
       ".dni-treeview td {\r\n",
       "    vertical-align: top;\r\n",
       "    text-align: start;\r\n",
       "}\r\n",
       "details.dni-treeview {\r\n",
       "    padding-left: 1em;\r\n",
       "}\r\n",
       "table td {\r\n",
       "    text-align: start;\r\n",
       "}\r\n",
       "table tr { \r\n",
       "    vertical-align: top; \r\n",
       "    margin: 0em 0px;\r\n",
       "}\r\n",
       "table tr td pre \r\n",
       "{ \r\n",
       "    vertical-align: top !important; \r\n",
       "    margin: 0em 0px !important;\r\n",
       "} \r\n",
       "table th {\r\n",
       "    text-align: start;\r\n",
       "}\r\n",
       "</style>"
      ]
     },
     "metadata": {},
     "output_type": "display_data"
    }
   ],
   "source": [
    "DataFrame df = DataFrame.LoadCsv(\"data/Training.csv\", separator: ',', header: true);\n",
    "df.Columns.Remove(\"PredictedLabel\", \"Reasoning\", \"AuthorId\", \"AuthorDateUtc\", \"CommitterId\", \"CommitterDateUtc\", \"ParentSha\", \"Parent2Sha\", \"DayOfWeek\", \"Month\", \"Quarter\", \"Year\", \"Hour\", \"TimeOfDay\", \"IsWeekend\", \"Sha\", \"Source\");\n",
    "df[\"ActualLabel\"].SetName(\"Label\");\n",
    "df.Sample(5)"
   ]
  },
  {
   "cell_type": "code",
   "execution_count": 4,
   "metadata": {
    "dotnet_interactive": {
     "language": "csharp"
    },
    "polyglot_notebook": {
     "kernelName": "csharp"
    },
    "vscode": {
     "languageId": "polyglot-notebook"
    }
   },
   "outputs": [
    {
     "data": {
      "text/html": [
       "<details open=\"open\" class=\"dni-treeview\"><summary><span class=\"dni-code-hint\"><code>MattEland.ML.DataFrames.DataFrameColumnTypes</code></span></summary><div><table><thead><tr></tr></thead><tbody><tr><td>Text</td><td><div class=\"dni-plaintext\"><pre>[ Message ]</pre></div></td></tr><tr><td>Numeric</td><td><div class=\"dni-plaintext\"><pre>[ WorkItems, TotalFiles, ModifiedFiles, AddedFiles, DeletedFiles, TotalLines, NetLines, AddedLines, DeletedLines, MessageLength, WordCount ]</pre></div></td></tr><tr><td>Categorical</td><td><div class=\"dni-plaintext\"><pre>[ IsMerge, HasAddedFiles, HasDeletedFiles ]</pre></div></td></tr><tr><td>Excluded</td><td><div class=\"dni-plaintext\"><pre>[ Label ]</pre></div></td></tr></tbody></table></div></details><style>\r\n",
       ".dni-code-hint {\r\n",
       "    font-style: italic;\r\n",
       "    overflow: hidden;\r\n",
       "    white-space: nowrap;\r\n",
       "}\r\n",
       ".dni-treeview {\r\n",
       "    white-space: nowrap;\r\n",
       "}\r\n",
       ".dni-treeview td {\r\n",
       "    vertical-align: top;\r\n",
       "    text-align: start;\r\n",
       "}\r\n",
       "details.dni-treeview {\r\n",
       "    padding-left: 1em;\r\n",
       "}\r\n",
       "table td {\r\n",
       "    text-align: start;\r\n",
       "}\r\n",
       "table tr { \r\n",
       "    vertical-align: top; \r\n",
       "    margin: 0em 0px;\r\n",
       "}\r\n",
       "table tr td pre \r\n",
       "{ \r\n",
       "    vertical-align: top !important; \r\n",
       "    margin: 0em 0px !important;\r\n",
       "} \r\n",
       "table th {\r\n",
       "    text-align: start;\r\n",
       "}\r\n",
       "</style>"
      ]
     },
     "metadata": {},
     "output_type": "display_data"
    }
   ],
   "source": [
    "int seed = 42;\n",
    "var colTypes = df.GetColumnTypes(excludedColumns: new[] { \"Label\" });\n",
    "colTypes"
   ]
  },
  {
   "cell_type": "code",
   "execution_count": 5,
   "metadata": {
    "dotnet_interactive": {
     "language": "csharp"
    },
    "polyglot_notebook": {
     "kernelName": "csharp"
    },
    "vscode": {
     "languageId": "polyglot-notebook"
    }
   },
   "outputs": [
    {
     "data": {
      "text/html": [
       "<details open=\"open\" class=\"dni-treeview\"><summary><span class=\"dni-code-hint\"><code>MattEland.ML.BinaryClassificationModelTracker</code></span></summary><div><table><thead><tr></tr></thead><tbody><tr><td>DefaultMetric</td><td><span>F1Score</span></td></tr><tr><td>Count</td><td><div class=\"dni-plaintext\"><pre>0</pre></div></td></tr></tbody></table></div></details><style>\r\n",
       ".dni-code-hint {\r\n",
       "    font-style: italic;\r\n",
       "    overflow: hidden;\r\n",
       "    white-space: nowrap;\r\n",
       "}\r\n",
       ".dni-treeview {\r\n",
       "    white-space: nowrap;\r\n",
       "}\r\n",
       ".dni-treeview td {\r\n",
       "    vertical-align: top;\r\n",
       "    text-align: start;\r\n",
       "}\r\n",
       "details.dni-treeview {\r\n",
       "    padding-left: 1em;\r\n",
       "}\r\n",
       "table td {\r\n",
       "    text-align: start;\r\n",
       "}\r\n",
       "table tr { \r\n",
       "    vertical-align: top; \r\n",
       "    margin: 0em 0px;\r\n",
       "}\r\n",
       "table tr td pre \r\n",
       "{ \r\n",
       "    vertical-align: top !important; \r\n",
       "    margin: 0em 0px !important;\r\n",
       "} \r\n",
       "table th {\r\n",
       "    text-align: start;\r\n",
       "}\r\n",
       "</style>"
      ]
     },
     "metadata": {},
     "output_type": "display_data"
    }
   ],
   "source": [
    "// Create a custom model tracker to record the various experiments we run\n",
    "BinaryClassificationModelTracker modelTracker = new();\n",
    "\n",
    "// Although the metric we probably care the most about is the Precision, we're going to focus on F1 Score during model training in order to encourage discovering the most balanced models between precision and recall\n",
    "modelTracker.DefaultMetric = BinaryClassificationMetric.F1Score;\n",
    "modelTracker"
   ]
  },
  {
   "cell_type": "markdown",
   "metadata": {},
   "source": [
    "## Simple Featurizer"
   ]
  },
  {
   "cell_type": "code",
   "execution_count": 7,
   "metadata": {
    "dotnet_interactive": {
     "language": "csharp"
    },
    "polyglot_notebook": {
     "kernelName": "csharp"
    },
    "vscode": {
     "languageId": "polyglot-notebook"
    }
   },
   "outputs": [
    {
     "data": {
      "text/html": [
       "<div><div id=\"5de9b68d-dbb3-41d7-91f8-66bc03e9afdf\"><!-- Plotly chart will be drawn inside this DIV --></div><script type=\"text/javascript\">\n",
       "var renderPlotly_5de9b68ddbb341d791f866bc03e9afdf = function() {\n",
       "    var fsharpPlotlyRequire = requirejs.config({context:'fsharp-plotly',paths:{plotly:'https://cdn.plot.ly/plotly-2.27.1.min'}}) || require;\n",
       "    fsharpPlotlyRequire(['plotly'], function(Plotly) {\n",
       "        var data = [{\"type\":\"heatmap\",\"x\":[\"Positive\",\"Negative\"],\"y\":[\"Positive\",\"Negative\"],\"z\":[[76.0,69.0],[5.0,349.0]],\"colorscale\":[[0.0,\"#FFFFFF\"],[0.5,\"#009dcf\"],[1.0,\"#003171\"]],\"showscale\":false,\"xaxis\":\"x\",\"yaxis\":\"y\",\"marker\":{\"showscale\":false}},{\"type\":\"bar\",\"x\":[0.9858757062146892,0.8349282296650717,0.5241379310344828,0.9382716049382716,0.8034930448327863,0.879972725501656,0.6725663716814161,0.8517034068136272],\"y\":[\"Negative Recall\",\"Negative Precision\",\"Positive Recall\",\"Positive Precision\",\"AUCPR\",\"AUC\",\"F1 Score\",\"Accuracy\"],\"text\":[\"0.986\",\"0.835\",\"0.524\",\"0.938\",\"0.803\",\"0.880\",\"0.673\",\"0.852\"],\"orientation\":\"h\",\"marker\":{\"color\":\"#003171\",\"pattern\":{},\"showscale\":false},\"xaxis\":\"x2\",\"yaxis\":\"y2\"}];\n",
       "        var layout = {\"width\":600,\"height\":600,\"template\":{\"layout\":{\"title\":{\"x\":0.05},\"font\":{\"color\":\"rgba(42, 63, 95, 1.0)\"},\"paper_bgcolor\":\"rgba(255, 255, 255, 1.0)\",\"plot_bgcolor\":\"rgba(229, 236, 246, 1.0)\",\"autotypenumbers\":\"strict\",\"colorscale\":{\"diverging\":[[0.0,\"#8e0152\"],[0.1,\"#c51b7d\"],[0.2,\"#de77ae\"],[0.3,\"#f1b6da\"],[0.4,\"#fde0ef\"],[0.5,\"#f7f7f7\"],[0.6,\"#e6f5d0\"],[0.7,\"#b8e186\"],[0.8,\"#7fbc41\"],[0.9,\"#4d9221\"],[1.0,\"#276419\"]],\"sequential\":[[0.0,\"#0d0887\"],[0.1111111111111111,\"#46039f\"],[0.2222222222222222,\"#7201a8\"],[0.3333333333333333,\"#9c179e\"],[0.4444444444444444,\"#bd3786\"],[0.5555555555555556,\"#d8576b\"],[0.6666666666666666,\"#ed7953\"],[0.7777777777777778,\"#fb9f3a\"],[0.8888888888888888,\"#fdca26\"],[1.0,\"#f0f921\"]],\"sequentialminus\":[[0.0,\"#0d0887\"],[0.1111111111111111,\"#46039f\"],[0.2222222222222222,\"#7201a8\"],[0.3333333333333333,\"#9c179e\"],[0.4444444444444444,\"#bd3786\"],[0.5555555555555556,\"#d8576b\"],[0.6666666666666666,\"#ed7953\"],[0.7777777777777778,\"#fb9f3a\"],[0.8888888888888888,\"#fdca26\"],[1.0,\"#f0f921\"]]},\"hovermode\":\"closest\",\"hoverlabel\":{\"align\":\"left\"},\"coloraxis\":{\"colorbar\":{\"outlinewidth\":0.0,\"ticks\":\"\"}},\"geo\":{\"showland\":true,\"landcolor\":\"rgba(229, 236, 246, 1.0)\",\"showlakes\":true,\"lakecolor\":\"rgba(255, 255, 255, 1.0)\",\"subunitcolor\":\"rgba(255, 255, 255, 1.0)\",\"bgcolor\":\"rgba(255, 255, 255, 1.0)\"},\"mapbox\":{\"style\":\"light\"},\"polar\":{\"bgcolor\":\"rgba(229, 236, 246, 1.0)\",\"radialaxis\":{\"linecolor\":\"rgba(255, 255, 255, 1.0)\",\"gridcolor\":\"rgba(255, 255, 255, 1.0)\",\"ticks\":\"\"},\"angularaxis\":{\"linecolor\":\"rgba(255, 255, 255, 1.0)\",\"gridcolor\":\"rgba(255, 255, 255, 1.0)\",\"ticks\":\"\"}},\"scene\":{\"xaxis\":{\"ticks\":\"\",\"linecolor\":\"rgba(255, 255, 255, 1.0)\",\"gridcolor\":\"rgba(255, 255, 255, 1.0)\",\"gridwidth\":2.0,\"zerolinecolor\":\"rgba(255, 255, 255, 1.0)\",\"backgroundcolor\":\"rgba(229, 236, 246, 1.0)\",\"showbackground\":true},\"yaxis\":{\"ticks\":\"\",\"linecolor\":\"rgba(255, 255, 255, 1.0)\",\"gridcolor\":\"rgba(255, 255, 255, 1.0)\",\"gridwidth\":2.0,\"zerolinecolor\":\"rgba(255, 255, 255, 1.0)\",\"backgroundcolor\":\"rgba(229, 236, 246, 1.0)\",\"showbackground\":true},\"zaxis\":{\"ticks\":\"\",\"linecolor\":\"rgba(255, 255, 255, 1.0)\",\"gridcolor\":\"rgba(255, 255, 255, 1.0)\",\"gridwidth\":2.0,\"zerolinecolor\":\"rgba(255, 255, 255, 1.0)\",\"backgroundcolor\":\"rgba(229, 236, 246, 1.0)\",\"showbackground\":true}},\"ternary\":{\"aaxis\":{\"ticks\":\"\",\"linecolor\":\"rgba(255, 255, 255, 1.0)\",\"gridcolor\":\"rgba(255, 255, 255, 1.0)\"},\"baxis\":{\"ticks\":\"\",\"linecolor\":\"rgba(255, 255, 255, 1.0)\",\"gridcolor\":\"rgba(255, 255, 255, 1.0)\"},\"caxis\":{\"ticks\":\"\",\"linecolor\":\"rgba(255, 255, 255, 1.0)\",\"gridcolor\":\"rgba(255, 255, 255, 1.0)\"},\"bgcolor\":\"rgba(229, 236, 246, 1.0)\"},\"xaxis\":{\"title\":{\"standoff\":15},\"ticks\":\"\",\"automargin\":\"height+width+left+right+top+bottom\",\"linecolor\":\"rgba(255, 255, 255, 1.0)\",\"gridcolor\":\"rgba(255, 255, 255, 1.0)\",\"zerolinecolor\":\"rgba(255, 255, 255, 1.0)\",\"zerolinewidth\":2.0},\"yaxis\":{\"title\":{\"standoff\":15},\"ticks\":\"\",\"automargin\":\"height+width+left+right+top+bottom\",\"linecolor\":\"rgba(255, 255, 255, 1.0)\",\"gridcolor\":\"rgba(255, 255, 255, 1.0)\",\"zerolinecolor\":\"rgba(255, 255, 255, 1.0)\",\"zerolinewidth\":2.0},\"annotationdefaults\":{\"arrowcolor\":\"#2a3f5f\",\"arrowhead\":0,\"arrowwidth\":1},\"shapedefaults\":{\"line\":{\"color\":\"rgba(42, 63, 95, 1.0)\"}},\"colorway\":[\"rgba(99, 110, 250, 1.0)\",\"rgba(239, 85, 59, 1.0)\",\"rgba(0, 204, 150, 1.0)\",\"rgba(171, 99, 250, 1.0)\",\"rgba(255, 161, 90, 1.0)\",\"rgba(25, 211, 243, 1.0)\",\"rgba(255, 102, 146, 1.0)\",\"rgba(182, 232, 128, 1.0)\",\"rgba(255, 151, 255, 1.0)\",\"rgba(254, 203, 82, 1.0)\"]},\"data\":{\"bar\":[{\"marker\":{\"line\":{\"color\":\"rgba(229, 236, 246, 1.0)\",\"width\":0.5},\"pattern\":{\"fillmode\":\"overlay\",\"size\":10,\"solidity\":0.2}},\"error_x\":{\"color\":\"rgba(42, 63, 95, 1.0)\"},\"error_y\":{\"color\":\"rgba(42, 63, 95, 1.0)\"}}],\"barpolar\":[{\"marker\":{\"line\":{\"color\":\"rgba(229, 236, 246, 1.0)\",\"width\":0.5},\"pattern\":{\"fillmode\":\"overlay\",\"size\":10,\"solidity\":0.2}}}],\"carpet\":[{\"aaxis\":{\"linecolor\":\"rgba(255, 255, 255, 1.0)\",\"gridcolor\":\"rgba(255, 255, 255, 1.0)\",\"endlinecolor\":\"rgba(42, 63, 95, 1.0)\",\"minorgridcolor\":\"rgba(255, 255, 255, 1.0)\",\"startlinecolor\":\"rgba(42, 63, 95, 1.0)\"},\"baxis\":{\"linecolor\":\"rgba(255, 255, 255, 1.0)\",\"gridcolor\":\"rgba(255, 255, 255, 1.0)\",\"endlinecolor\":\"rgba(42, 63, 95, 1.0)\",\"minorgridcolor\":\"rgba(255, 255, 255, 1.0)\",\"startlinecolor\":\"rgba(42, 63, 95, 1.0)\"}}],\"choropleth\":[{\"colorbar\":{\"outlinewidth\":0.0,\"ticks\":\"\"},\"colorscale\":[[0.0,\"#0d0887\"],[0.1111111111111111,\"#46039f\"],[0.2222222222222222,\"#7201a8\"],[0.3333333333333333,\"#9c179e\"],[0.4444444444444444,\"#bd3786\"],[0.5555555555555556,\"#d8576b\"],[0.6666666666666666,\"#ed7953\"],[0.7777777777777778,\"#fb9f3a\"],[0.8888888888888888,\"#fdca26\"],[1.0,\"#f0f921\"]]}],\"contour\":[{\"colorbar\":{\"outlinewidth\":0.0,\"ticks\":\"\"},\"colorscale\":[[0.0,\"#0d0887\"],[0.1111111111111111,\"#46039f\"],[0.2222222222222222,\"#7201a8\"],[0.3333333333333333,\"#9c179e\"],[0.4444444444444444,\"#bd3786\"],[0.5555555555555556,\"#d8576b\"],[0.6666666666666666,\"#ed7953\"],[0.7777777777777778,\"#fb9f3a\"],[0.8888888888888888,\"#fdca26\"],[1.0,\"#f0f921\"]]}],\"contourcarpet\":[{\"colorbar\":{\"outlinewidth\":0.0,\"ticks\":\"\"}}],\"heatmap\":[{\"colorbar\":{\"outlinewidth\":0.0,\"ticks\":\"\"},\"colorscale\":[[0.0,\"#0d0887\"],[0.1111111111111111,\"#46039f\"],[0.2222222222222222,\"#7201a8\"],[0.3333333333333333,\"#9c179e\"],[0.4444444444444444,\"#bd3786\"],[0.5555555555555556,\"#d8576b\"],[0.6666666666666666,\"#ed7953\"],[0.7777777777777778,\"#fb9f3a\"],[0.8888888888888888,\"#fdca26\"],[1.0,\"#f0f921\"]]}],\"heatmapgl\":[{\"colorbar\":{\"outlinewidth\":0.0,\"ticks\":\"\"},\"colorscale\":[[0.0,\"#0d0887\"],[0.1111111111111111,\"#46039f\"],[0.2222222222222222,\"#7201a8\"],[0.3333333333333333,\"#9c179e\"],[0.4444444444444444,\"#bd3786\"],[0.5555555555555556,\"#d8576b\"],[0.6666666666666666,\"#ed7953\"],[0.7777777777777778,\"#fb9f3a\"],[0.8888888888888888,\"#fdca26\"],[1.0,\"#f0f921\"]]}],\"histogram\":[{\"marker\":{\"pattern\":{\"fillmode\":\"overlay\",\"size\":10,\"solidity\":0.2}}}],\"histogram2d\":[{\"colorbar\":{\"outlinewidth\":0.0,\"ticks\":\"\"},\"colorscale\":[[0.0,\"#0d0887\"],[0.1111111111111111,\"#46039f\"],[0.2222222222222222,\"#7201a8\"],[0.3333333333333333,\"#9c179e\"],[0.4444444444444444,\"#bd3786\"],[0.5555555555555556,\"#d8576b\"],[0.6666666666666666,\"#ed7953\"],[0.7777777777777778,\"#fb9f3a\"],[0.8888888888888888,\"#fdca26\"],[1.0,\"#f0f921\"]]}],\"histogram2dcontour\":[{\"colorbar\":{\"outlinewidth\":0.0,\"ticks\":\"\"},\"colorscale\":[[0.0,\"#0d0887\"],[0.1111111111111111,\"#46039f\"],[0.2222222222222222,\"#7201a8\"],[0.3333333333333333,\"#9c179e\"],[0.4444444444444444,\"#bd3786\"],[0.5555555555555556,\"#d8576b\"],[0.6666666666666666,\"#ed7953\"],[0.7777777777777778,\"#fb9f3a\"],[0.8888888888888888,\"#fdca26\"],[1.0,\"#f0f921\"]]}],\"mesh3d\":[{\"colorbar\":{\"outlinewidth\":0.0,\"ticks\":\"\"}}],\"parcoords\":[{\"line\":{\"colorbar\":{\"outlinewidth\":0.0,\"ticks\":\"\"}}}],\"pie\":[{\"automargin\":true}],\"scatter\":[{\"marker\":{\"colorbar\":{\"outlinewidth\":0.0,\"ticks\":\"\"}}}],\"scatter3d\":[{\"marker\":{\"colorbar\":{\"outlinewidth\":0.0,\"ticks\":\"\"}},\"line\":{\"colorbar\":{\"outlinewidth\":0.0,\"ticks\":\"\"}}}],\"scattercarpet\":[{\"marker\":{\"colorbar\":{\"outlinewidth\":0.0,\"ticks\":\"\"}}}],\"scattergeo\":[{\"marker\":{\"colorbar\":{\"outlinewidth\":0.0,\"ticks\":\"\"}}}],\"scattergl\":[{\"marker\":{\"colorbar\":{\"outlinewidth\":0.0,\"ticks\":\"\"}}}],\"scattermapbox\":[{\"marker\":{\"colorbar\":{\"outlinewidth\":0.0,\"ticks\":\"\"}}}],\"scatterpolar\":[{\"marker\":{\"colorbar\":{\"outlinewidth\":0.0,\"ticks\":\"\"}}}],\"scatterpolargl\":[{\"marker\":{\"colorbar\":{\"outlinewidth\":0.0,\"ticks\":\"\"}}}],\"scatterternary\":[{\"marker\":{\"colorbar\":{\"outlinewidth\":0.0,\"ticks\":\"\"}}}],\"surface\":[{\"colorbar\":{\"outlinewidth\":0.0,\"ticks\":\"\"},\"colorscale\":[[0.0,\"#0d0887\"],[0.1111111111111111,\"#46039f\"],[0.2222222222222222,\"#7201a8\"],[0.3333333333333333,\"#9c179e\"],[0.4444444444444444,\"#bd3786\"],[0.5555555555555556,\"#d8576b\"],[0.6666666666666666,\"#ed7953\"],[0.7777777777777778,\"#fb9f3a\"],[0.8888888888888888,\"#fdca26\"],[1.0,\"#f0f921\"]]}],\"table\":[{\"cells\":{\"fill\":{\"color\":\"rgba(235, 240, 248, 1.0)\"},\"line\":{\"color\":\"rgba(255, 255, 255, 1.0)\"}},\"header\":{\"fill\":{\"color\":\"rgba(200, 212, 227, 1.0)\"},\"line\":{\"color\":\"rgba(255, 255, 255, 1.0)\"}}}]}},\"xaxis\":{\"title\":{\"text\":\"Predicted\"},\"showline\":false,\"showgrid\":false,\"side\":\"top\",\"showbackground\":false},\"title\":{\"text\":\"Classification Report\"},\"yaxis\":{\"autorange\":\"reversed\",\"title\":{\"text\":\"Actual\"},\"showline\":false,\"showgrid\":false,\"side\":\"left\",\"showbackground\":false},\"annotations\":[{\"x\":0.5,\"y\":1.0,\"showarrow\":false,\"text\":\"\",\"xanchor\":\"center\",\"xref\":\"paper\",\"yanchor\":\"bottom\",\"yref\":\"paper\"},{\"x\":0.5,\"y\":0.4117647058823529,\"showarrow\":false,\"text\":\"Binary Classification Metric\",\"xanchor\":\"center\",\"xref\":\"paper\",\"yanchor\":\"bottom\",\"yref\":\"paper\"},{\"x\":0,\"y\":0,\"bgcolor\":\"#FFFFFF\",\"bordercolor\":\"#003171\",\"font\":{\"size\":18.0},\"showarrow\":false,\"text\":\"76\"},{\"x\":1,\"y\":0,\"bgcolor\":\"#FFFFFF\",\"bordercolor\":\"#003171\",\"font\":{\"size\":18.0},\"showarrow\":false,\"text\":\"69\"},{\"x\":0,\"y\":1,\"bgcolor\":\"#FFFFFF\",\"bordercolor\":\"#003171\",\"font\":{\"size\":18.0},\"showarrow\":false,\"text\":\"5\"},{\"x\":1,\"y\":1,\"bgcolor\":\"#FFFFFF\",\"bordercolor\":\"#003171\",\"font\":{\"size\":18.0},\"showarrow\":false,\"text\":\"349\"}],\"xaxis2\":{\"title\":{},\"range\":[0,1]},\"yaxis2\":{},\"grid\":{\"rows\":2,\"columns\":1,\"roworder\":\"top to bottom\",\"pattern\":\"independent\"}};\n",
       "        var config = {\"responsive\":true};\n",
       "        Plotly.newPlot('5de9b68d-dbb3-41d7-91f8-66bc03e9afdf', data, layout, config);\n",
       "    });\n",
       "};\n",
       "if ((typeof(requirejs) !==  typeof(Function)) || (typeof(requirejs.config) !== typeof(Function))) {\n",
       "    var script = document.createElement(\"script\");\n",
       "    script.setAttribute(\"charset\", \"utf-8\");\n",
       "    script.setAttribute(\"src\", \"https://cdnjs.cloudflare.com/ajax/libs/require.js/2.3.6/require.min.js\");\n",
       "    script.onload = function(){\n",
       "        renderPlotly_5de9b68ddbb341d791f866bc03e9afdf();\n",
       "    };\n",
       "    document.getElementsByTagName(\"head\")[0].appendChild(script);\n",
       "}\n",
       "else {\n",
       "    renderPlotly_5de9b68ddbb341d791f866bc03e9afdf();\n",
       "}\n",
       "</script></div>"
      ]
     },
     "metadata": {},
     "output_type": "display_data"
    }
   ],
   "source": [
    "MLContext context = new(seed: seed) {\n",
    "    GpuDeviceId = 0,\n",
    "    FallbackToCpu = true,\n",
    "};\n",
    "var featurizer = context.Auto().Featurizer(df);\n",
    "\n",
    "// The classifier step tells AutoML what model trainers are enabled. We'll focus on those that don't require scaled data for simplicity at the moment\n",
    "var classifier = context.Auto().BinaryClassification(\n",
    "    useFastForest: true, \n",
    "    useLgbm: true, \n",
    "    useFastTree: true, \n",
    "    useLbfgsLogisticRegression: false, \n",
    "    useSdcaLogisticRegression: false);\n",
    "\n",
    "// Now let's run our experiment using our custom pipeline\n",
    "var experiment = context.Auto().CreateExperiment()\n",
    "    .SetPipeline(featurizer.Append(classifier))\n",
    "    .SetDataset(df, fold: 5)\n",
    "    .SetBinaryClassificationMetric(BinaryClassificationMetric.F1Score, labelColumn: \"Label\")\n",
    "    .SetMaxModelToExplore(10);\n",
    "\n",
    "TrialResult result = await experiment.RunAsync();\n",
    "ITransformer model = result.Model;\n",
    "\n",
    "var scorer = model.Transform(df);\n",
    "\n",
    "// If the model supports calibration, we could use Evaluate instead\n",
    "var evalResults = context.BinaryClassification.EvaluateNonCalibrated(model.Transform(df), labelColumnName: \"Label\");\n",
    "\n",
    "// Let's see how it performed\n",
    "MLCharts.ClassificationReport(evalResults)"
   ]
  },
  {
   "cell_type": "code",
   "execution_count": 8,
   "metadata": {
    "dotnet_interactive": {
     "language": "csharp"
    },
    "polyglot_notebook": {
     "kernelName": "csharp"
    },
    "vscode": {
     "languageId": "polyglot-notebook"
    }
   },
   "outputs": [
    {
     "data": {
      "text/html": [
       "<div class=\"mermaidMarkdownContainer\" style=\"background-color:white\">\n",
       "<link rel=\"stylesheet\" href=\"https://cdnjs.cloudflare.com/ajax/libs/font-awesome/6.2.0/css/all.min.css\">\n",
       "<div id=\"b7b2c8f6211d418090d3b2c31c5a1f53\"></div>\n",
       "<script type=\"module\">\n",
       "\r\n",
       "            import mermaid from 'https://cdn.jsdelivr.net/npm/mermaid@10.6.1/dist/mermaid.esm.min.mjs';\r\n",
       "            let renderTarget = document.getElementById('b7b2c8f6211d418090d3b2c31c5a1f53');\r\n",
       "            try {\r\n",
       "                const {svg, bindFunctions} = await mermaid.mermaidAPI.render( \r\n",
       "                    'mermaid_b7b2c8f6211d418090d3b2c31c5a1f53', \r\n",
       "                    `stateDiagram-v2\n",
       "state \"TransformerChain\" AS t1 {\n",
       "t1_1: MissingValueReplacingTransformer\n",
       "note right of t1_1\n",
       "Replace missing values in 11 column(s) with 0.0\n",
       "end note\n",
       "t1_2: TypeConvertingTransformer\n",
       "note right of t1_2\n",
       "Convert IsMerge to Single, HasAddedFiles to Single, HasDeletedFiles to Single\n",
       "end note\n",
       "t1_3: Transformer\n",
       "note right of t1_3\n",
       "8 Children\n",
       "end note\n",
       "t1_4: ColumnConcatenatingTransformer\n",
       "note right of t1_4\n",
       "Concat 15 columns to Features\n",
       "end note\n",
       "t1_5: BinaryPredictionTransformer_CalibratedModelParametersBase_LightGbmBinaryModelParameters,PlattCalibrator__\n",
       "t1_1 --> t1_2\n",
       "t1_2 --> t1_3\n",
       "t1_3 --> t1_4\n",
       "t1_4 --> t1_5\n",
       "}\n",
       "\n",
       "`);\r\n",
       "                renderTarget.innerHTML = svg;\r\n",
       "                bindFunctions?.(renderTarget);\r\n",
       "            }\r\n",
       "            catch (error) {\r\n",
       "                console.log(error);\r\n",
       "            }\n",
       "</script>\n",
       "</div>\n"
      ]
     },
     "metadata": {},
     "output_type": "display_data"
    },
    {
     "data": {
      "text/html": [
       "<details open=\"open\" class=\"dni-treeview\"><summary><span class=\"dni-code-hint\"><code>[ Microsoft.ML.Transforms.MissingValueReplacingTransformer, Microsoft.ML.Transforms.TypeConvertingTransformer, Microsoft.ML.Transforms.Text.TextFeaturizingEstimator+Transformer, Microsoft.ML.Data.ColumnConcatenatingTransformer, Microsoft.ML.Data.BinaryPredictionTransformer`1[Microsoft.ML.Calibrators.CalibratedModelParametersBase`2[Microsoft.ML.Trainers.LightGbm.LightGbmBinaryModelParameters,Microsoft.ML.Calibrators.PlattCalibrator]] ]</code></span></summary><div><table><thead><tr></tr></thead><tbody><tr><td>LastTransformer</td><td><details class=\"dni-treeview\"><summary><span class=\"dni-code-hint\"><code>Microsoft.ML.Data.BinaryPredictionTransformer`1[Microsoft.ML.Calibrators.CalibratedModelParametersBase`2[Microsoft.ML.Trainers.LightGbm.LightGbmBinaryModelParameters,Microsoft.ML.Calibrators.PlattCalibrator]]</code></span></summary><div><table><thead><tr></tr></thead><tbody><tr><td>FeatureColumnName</td><td><div class=\"dni-plaintext\"><pre>Features</pre></div></td></tr><tr><td>FeatureColumnType</td><td><details class=\"dni-treeview\"><summary><span class=\"dni-code-hint\"><code>Vector&lt;Single, 6373&gt;</code></span></summary><div><table><thead><tr></tr></thead><tbody><tr><td>Dimensions</td><td><div class=\"dni-plaintext\"><pre>[ 6373 ]</pre></div></td></tr><tr><td>IsKnownSize</td><td><div class=\"dni-plaintext\"><pre>True</pre></div></td></tr><tr><td>ItemType</td><td><details class=\"dni-treeview\"><summary><span class=\"dni-code-hint\"><code>Single</code></span></summary><div><table><thead><tr></tr></thead><tbody><tr><td>RawType</td><td><span><a href=\"https://docs.microsoft.com/dotnet/api/system.single?view=net-7.0\">System.Single</a></span></td></tr></tbody></table></div></details></td></tr><tr><td>Size</td><td><div class=\"dni-plaintext\"><pre>6373</pre></div></td></tr><tr><td>RawType</td><td><span><a href=\"https://docs.microsoft.com/dotnet/api/microsoft.ml.data.vbuffer-1?view=net-7.0\">Microsoft.ML.Data.VBuffer&lt;System.Single&gt;</a></span></td></tr></tbody></table></div></details></td></tr><tr><td>Model</td><td><details class=\"dni-treeview\"><summary><span class=\"dni-code-hint\"><code>Microsoft.ML.Calibrators.FeatureWeightsCalibratedModelParameters`2[Microsoft.ML.Trainers.LightGbm.LightGbmBinaryModelParameters,Microsoft.ML.Calibrators.PlattCalibrator]</code></span></summary><div><table><thead><tr></tr></thead><tbody><tr><td>SubModel</td><td><div class=\"dni-plaintext\"><pre>Microsoft.ML.Calibrators.FeatureWeightsCalibratedModelParameters`2[Microsoft.ML.Trainers.LightGbm.LightGbmBinaryModelParameters,Microsoft.ML.Calibrators.PlattCalibrator]</pre></div></td></tr><tr><td>Calibrator</td><td><div class=\"dni-plaintext\"><pre>Microsoft.ML.Calibrators.FeatureWeightsCalibratedModelParameters`2[Microsoft.ML.Trainers.LightGbm.LightGbmBinaryModelParameters,Microsoft.ML.Calibrators.PlattCalibrator]</pre></div></td></tr><tr><td>SubModel</td><td><div class=\"dni-plaintext\"><pre>Microsoft.ML.Calibrators.FeatureWeightsCalibratedModelParameters`2[Microsoft.ML.Trainers.LightGbm.LightGbmBinaryModelParameters,Microsoft.ML.Calibrators.PlattCalibrator]</pre></div></td></tr><tr><td>Calibrator</td><td><div class=\"dni-plaintext\"><pre>Microsoft.ML.Calibrators.FeatureWeightsCalibratedModelParameters`2[Microsoft.ML.Trainers.LightGbm.LightGbmBinaryModelParameters,Microsoft.ML.Calibrators.PlattCalibrator]</pre></div></td></tr></tbody></table></div></details></td></tr></tbody></table></div></details></td></tr><tr><td><i>(values)</i></td><td><table><thead><tr><th><i>index</i></th><th><i>type</i></th><th>value</th></tr></thead><tbody><tr><td>0</td><td><span><a href=\"https://docs.microsoft.com/dotnet/api/microsoft.ml.transforms.missingvaluereplacingtransformer?view=net-7.0\">Microsoft.ML.Transforms.MissingValueReplacingTransformer</a></span></td><td><details class=\"dni-treeview\"><summary><span class=\"dni-code-hint\"><code>Microsoft.ML.Transforms.MissingValueReplacingTransformer</code></span></summary><div><table><thead><tr></tr></thead><tbody></tbody></table></div></details></td></tr><tr><td>1</td><td><span><a href=\"https://docs.microsoft.com/dotnet/api/microsoft.ml.transforms.typeconvertingtransformer?view=net-7.0\">Microsoft.ML.Transforms.TypeConvertingTransformer</a></span></td><td><details class=\"dni-treeview\"><summary><span class=\"dni-code-hint\"><code>Microsoft.ML.Transforms.TypeConvertingTransformer</code></span></summary><div><table><thead><tr></tr></thead><tbody></tbody></table></div></details></td></tr><tr><td>2</td><td><span><a href=\"https://docs.microsoft.com/dotnet/api/microsoft.ml.transforms.text.textfeaturizingestimator.transformer?view=net-7.0\">Microsoft.ML.Transforms.Text.TextFeaturizingEstimator+Transformer</a></span></td><td><details class=\"dni-treeview\"><summary><span class=\"dni-code-hint\"><code>Microsoft.ML.Transforms.Text.TextFeaturizingEstimator+Transformer</code></span></summary><div><table><thead><tr></tr></thead><tbody></tbody></table></div></details></td></tr><tr><td>3</td><td><span><a href=\"https://docs.microsoft.com/dotnet/api/microsoft.ml.data.columnconcatenatingtransformer?view=net-7.0\">Microsoft.ML.Data.ColumnConcatenatingTransformer</a></span></td><td><details class=\"dni-treeview\"><summary><span class=\"dni-code-hint\"><code>Microsoft.ML.Data.ColumnConcatenatingTransformer</code></span></summary><div><table><thead><tr></tr></thead><tbody></tbody></table></div></details></td></tr><tr><td>4</td><td><span><a href=\"https://docs.microsoft.com/dotnet/api/microsoft.ml.data.binarypredictiontransformer-1?view=net-7.0\">Microsoft.ML.Data.BinaryPredictionTransformer&lt;Microsoft.ML.Calibrators.CalibratedModelParametersBase&lt;Microsoft.ML.Trainers.LightGbm.LightGbmBinaryModelParameters,Microsoft.ML.Calibrators.PlattCalibrator&gt;&gt;</a></span></td><td><details class=\"dni-treeview\"><summary><span class=\"dni-code-hint\"><code>Microsoft.ML.Data.BinaryPredictionTransformer`1[Microsoft.ML.Calibrators.CalibratedModelParametersBase`2[Microsoft.ML.Trainers.LightGbm.LightGbmBinaryModelParameters,Microsoft.ML.Calibrators.PlattCalibrator]]</code></span></summary><div><table><thead><tr></tr></thead><tbody><tr><td>FeatureColumnName</td><td><div class=\"dni-plaintext\"><pre>Features</pre></div></td></tr><tr><td>FeatureColumnType</td><td><details class=\"dni-treeview\"><summary><span class=\"dni-code-hint\"><code>Vector&lt;Single, 6373&gt;</code></span></summary><div><table><thead><tr></tr></thead><tbody><tr><td>Dimensions</td><td><div class=\"dni-plaintext\"><pre>[ 6373 ]</pre></div></td></tr><tr><td>IsKnownSize</td><td><div class=\"dni-plaintext\"><pre>True</pre></div></td></tr><tr><td>ItemType</td><td><details class=\"dni-treeview\"><summary><span class=\"dni-code-hint\"><code>Single</code></span></summary><div><table><thead><tr></tr></thead><tbody><tr><td>RawType</td><td><span><a href=\"https://docs.microsoft.com/dotnet/api/system.single?view=net-7.0\">System.Single</a></span></td></tr></tbody></table></div></details></td></tr><tr><td>Size</td><td><div class=\"dni-plaintext\"><pre>6373</pre></div></td></tr><tr><td>RawType</td><td><span><a href=\"https://docs.microsoft.com/dotnet/api/microsoft.ml.data.vbuffer-1?view=net-7.0\">Microsoft.ML.Data.VBuffer&lt;System.Single&gt;</a></span></td></tr></tbody></table></div></details></td></tr><tr><td>Model</td><td><details class=\"dni-treeview\"><summary><span class=\"dni-code-hint\"><code>Microsoft.ML.Calibrators.FeatureWeightsCalibratedModelParameters`2[Microsoft.ML.Trainers.LightGbm.LightGbmBinaryModelParameters,Microsoft.ML.Calibrators.PlattCalibrator]</code></span></summary><div><table><thead><tr></tr></thead><tbody><tr><td>SubModel</td><td><div class=\"dni-plaintext\"><pre>Microsoft.ML.Calibrators.FeatureWeightsCalibratedModelParameters`2[Microsoft.ML.Trainers.LightGbm.LightGbmBinaryModelParameters,Microsoft.ML.Calibrators.PlattCalibrator]</pre></div></td></tr><tr><td>Calibrator</td><td><div class=\"dni-plaintext\"><pre>Microsoft.ML.Calibrators.FeatureWeightsCalibratedModelParameters`2[Microsoft.ML.Trainers.LightGbm.LightGbmBinaryModelParameters,Microsoft.ML.Calibrators.PlattCalibrator]</pre></div></td></tr><tr><td>SubModel</td><td><div class=\"dni-plaintext\"><pre>Microsoft.ML.Calibrators.FeatureWeightsCalibratedModelParameters`2[Microsoft.ML.Trainers.LightGbm.LightGbmBinaryModelParameters,Microsoft.ML.Calibrators.PlattCalibrator]</pre></div></td></tr><tr><td>Calibrator</td><td><div class=\"dni-plaintext\"><pre>Microsoft.ML.Calibrators.FeatureWeightsCalibratedModelParameters`2[Microsoft.ML.Trainers.LightGbm.LightGbmBinaryModelParameters,Microsoft.ML.Calibrators.PlattCalibrator]</pre></div></td></tr></tbody></table></div></details></td></tr></tbody></table></div></details></td></tr></tbody></table></td></tr></tbody></table></div></details><style>\r\n",
       ".dni-code-hint {\r\n",
       "    font-style: italic;\r\n",
       "    overflow: hidden;\r\n",
       "    white-space: nowrap;\r\n",
       "}\r\n",
       ".dni-treeview {\r\n",
       "    white-space: nowrap;\r\n",
       "}\r\n",
       ".dni-treeview td {\r\n",
       "    vertical-align: top;\r\n",
       "    text-align: start;\r\n",
       "}\r\n",
       "details.dni-treeview {\r\n",
       "    padding-left: 1em;\r\n",
       "}\r\n",
       "table td {\r\n",
       "    text-align: start;\r\n",
       "}\r\n",
       "table tr { \r\n",
       "    vertical-align: top; \r\n",
       "    margin: 0em 0px;\r\n",
       "}\r\n",
       "table tr td pre \r\n",
       "{ \r\n",
       "    vertical-align: top !important; \r\n",
       "    margin: 0em 0px !important;\r\n",
       "} \r\n",
       "table th {\r\n",
       "    text-align: start;\r\n",
       "}\r\n",
       "</style>"
      ]
     },
     "metadata": {},
     "output_type": "display_data"
    }
   ],
   "source": [
    "#!transformer-vis model -d 1 -n\n",
    "\n",
    "model"
   ]
  },
  {
   "cell_type": "code",
   "execution_count": 9,
   "metadata": {
    "dotnet_interactive": {
     "language": "csharp"
    },
    "polyglot_notebook": {
     "kernelName": "csharp"
    },
    "vscode": {
     "languageId": "polyglot-notebook"
    }
   },
   "outputs": [
    {
     "data": {
      "text/html": [
       "<div class=\"mermaidMarkdownContainer\" style=\"background-color:white\">\n",
       "<link rel=\"stylesheet\" href=\"https://cdnjs.cloudflare.com/ajax/libs/font-awesome/6.2.0/css/all.min.css\">\n",
       "<div id=\"23a812ce491a498893d47fe0cc076aeb\"></div>\n",
       "<script type=\"module\">\n",
       "\r\n",
       "            import mermaid from 'https://cdn.jsdelivr.net/npm/mermaid@10.6.1/dist/mermaid.esm.min.mjs';\r\n",
       "            let renderTarget = document.getElementById('23a812ce491a498893d47fe0cc076aeb');\r\n",
       "            try {\r\n",
       "                const {svg, bindFunctions} = await mermaid.mermaidAPI.render( \r\n",
       "                    'mermaid_23a812ce491a498893d47fe0cc076aeb', \r\n",
       "                    `stateDiagram-v2\n",
       "state \"Transformer\" AS t1 {\n",
       "t1_1: TextNormalizingTransformer\n",
       "t1_2: WordTokenizingTransformer\n",
       "t1_3: TransformerChain\n",
       "state \"TransformerChain\" AS t1_3 {\n",
       "direction LR\n",
       "t1_3_1: ValueToKeyMappingTransformer\n",
       "t1_3_2: NgramExtractingTransformer\n",
       "t1_3_1 --> t1_3_2\n",
       "}\n",
       "\n",
       "t1_4: TokenizingByCharactersTransformer\n",
       "t1_5: TransformerChain\n",
       "state \"TransformerChain\" AS t1_5 {\n",
       "direction LR\n",
       "t1_5_1: NgramExtractingTransformer\n",
       "}\n",
       "\n",
       "t1_6: LpNormNormalizingTransformer\n",
       "t1_7: ColumnConcatenatingTransformer\n",
       "t1_8: ColumnSelectingTransformer\n",
       "t1_1 --> t1_2\n",
       "t1_2 --> t1_3\n",
       "t1_3 --> t1_4\n",
       "t1_4 --> t1_5\n",
       "t1_5 --> t1_6\n",
       "t1_6 --> t1_7\n",
       "t1_7 --> t1_8\n",
       "}\n",
       "\n",
       "`);\r\n",
       "                renderTarget.innerHTML = svg;\r\n",
       "                bindFunctions?.(renderTarget);\r\n",
       "            }\r\n",
       "            catch (error) {\r\n",
       "                console.log(error);\r\n",
       "            }\n",
       "</script>\n",
       "</div>\n"
      ]
     },
     "metadata": {},
     "output_type": "display_data"
    }
   ],
   "source": [
    "var enumTransformer = ((IEnumerable<Microsoft.ML.ITransformer>) model);\n",
    "var textTransformer = enumTransformer.ToList()[2]; \n",
    "#!transformer-vis textTransformer -d 2"
   ]
  },
  {
   "cell_type": "code",
   "execution_count": 10,
   "metadata": {
    "dotnet_interactive": {
     "language": "csharp"
    },
    "polyglot_notebook": {
     "kernelName": "csharp"
    },
    "vscode": {
     "languageId": "polyglot-notebook"
    }
   },
   "outputs": [
    {
     "data": {
      "text/html": [
       "<table id=\"table_638547757111428631\"><thead><tr><th><i>index</i></th><th>Model</th><th>F1 Score</th><th>Accuracy</th><th>Positive Precision</th><th>Positive Recall</th><th>Negative Precision</th><th>Negative Recall</th><th>AUC</th><th>AUCPR</th></tr></thead><tbody><tr><td><i><div class=\"dni-plaintext\"><pre>0</pre></div></i></td><td>TextFeaturizerAuto</td><td><div class=\"dni-plaintext\"><pre>0.6725663716814161</pre></div></td><td><div class=\"dni-plaintext\"><pre>0.8517034068136272</pre></div></td><td><div class=\"dni-plaintext\"><pre>0.9382716049382716</pre></div></td><td><div class=\"dni-plaintext\"><pre>0.5241379310344828</pre></div></td><td><div class=\"dni-plaintext\"><pre>0.8349282296650717</pre></div></td><td><div class=\"dni-plaintext\"><pre>0.9858757062146892</pre></div></td><td><div class=\"dni-plaintext\"><pre>0.879972725501656</pre></div></td><td><div class=\"dni-plaintext\"><pre>0.8034930448327863</pre></div></td></tr></tbody></table><style>\r\n",
       ".dni-code-hint {\r\n",
       "    font-style: italic;\r\n",
       "    overflow: hidden;\r\n",
       "    white-space: nowrap;\r\n",
       "}\r\n",
       ".dni-treeview {\r\n",
       "    white-space: nowrap;\r\n",
       "}\r\n",
       ".dni-treeview td {\r\n",
       "    vertical-align: top;\r\n",
       "    text-align: start;\r\n",
       "}\r\n",
       "details.dni-treeview {\r\n",
       "    padding-left: 1em;\r\n",
       "}\r\n",
       "table td {\r\n",
       "    text-align: start;\r\n",
       "}\r\n",
       "table tr { \r\n",
       "    vertical-align: top; \r\n",
       "    margin: 0em 0px;\r\n",
       "}\r\n",
       "table tr td pre \r\n",
       "{ \r\n",
       "    vertical-align: top !important; \r\n",
       "    margin: 0em 0px !important;\r\n",
       "} \r\n",
       "table th {\r\n",
       "    text-align: start;\r\n",
       "}\r\n",
       "</style>"
      ]
     },
     "metadata": {},
     "output_type": "display_data"
    }
   ],
   "source": [
    "// Save the model\n",
    "context.Model.Save(model, ((IDataView)df).Schema, $\"models/TextFeaturizerAuto.zip\");\n",
    "\n",
    "// Record the model\n",
    "modelTracker.Register(\"TextFeaturizerAuto\", metrics).ToDataFrame()"
   ]
  },
  {
   "cell_type": "markdown",
   "metadata": {},
   "source": [
    "## Custom Pipeline\n",
    "\n",
    "The prior model did fine, but we'd like more control over the text transformation, so we'll provide our own complex pipeline for text processing."
   ]
  },
  {
   "cell_type": "code",
   "execution_count": 12,
   "metadata": {
    "dotnet_interactive": {
     "language": "csharp"
    },
    "polyglot_notebook": {
     "kernelName": "csharp"
    },
    "vscode": {
     "languageId": "polyglot-notebook"
    }
   },
   "outputs": [
    {
     "data": {
      "text/html": [
       "<div><div id=\"737467c0-6242-40a7-90fa-0dd20f0c5be9\"><!-- Plotly chart will be drawn inside this DIV --></div><script type=\"text/javascript\">\n",
       "var renderPlotly_737467c0624240a790fa0dd20f0c5be9 = function() {\n",
       "    var fsharpPlotlyRequire = requirejs.config({context:'fsharp-plotly',paths:{plotly:'https://cdn.plot.ly/plotly-2.27.1.min'}}) || require;\n",
       "    fsharpPlotlyRequire(['plotly'], function(Plotly) {\n",
       "        var data = [{\"type\":\"scatter\",\"name\":\"Best Result\",\"mode\":\"lines\",\"x\":[0,1,2,3,4,5,6,7,8,9],\"y\":[0.6017661575401855,0.60273841183385,0.60273841183385,0.60273841183385,0.6028297462434431,0.6263332037944237,0.6263332037944237,0.6263332037944237,0.6263332037944237,0.6263332037944237],\"marker\":{},\"line\":{\"width\":2.0,\"dash\":\"dot\"}},{\"type\":\"scatter\",\"name\":\"Trial Result\",\"mode\":\"markers\",\"x\":[0,1,2,3,4,5,6,7,8,9],\"y\":[0.6017661575401855,0.60273841183385,0.5921555378510079,0.5916271618579236,0.6028297462434431,0.6263332037944237,0.5841640718539016,0.5950577932322354,0.6103402488728975,0.6057395117721602],\"marker\":{},\"line\":{}}];\n",
       "        var layout = {\"width\":800,\"height\":600,\"template\":{\"layout\":{\"title\":{\"x\":0.05},\"font\":{\"color\":\"rgba(42, 63, 95, 1.0)\"},\"paper_bgcolor\":\"rgba(255, 255, 255, 1.0)\",\"plot_bgcolor\":\"rgba(229, 236, 246, 1.0)\",\"autotypenumbers\":\"strict\",\"colorscale\":{\"diverging\":[[0.0,\"#8e0152\"],[0.1,\"#c51b7d\"],[0.2,\"#de77ae\"],[0.3,\"#f1b6da\"],[0.4,\"#fde0ef\"],[0.5,\"#f7f7f7\"],[0.6,\"#e6f5d0\"],[0.7,\"#b8e186\"],[0.8,\"#7fbc41\"],[0.9,\"#4d9221\"],[1.0,\"#276419\"]],\"sequential\":[[0.0,\"#0d0887\"],[0.1111111111111111,\"#46039f\"],[0.2222222222222222,\"#7201a8\"],[0.3333333333333333,\"#9c179e\"],[0.4444444444444444,\"#bd3786\"],[0.5555555555555556,\"#d8576b\"],[0.6666666666666666,\"#ed7953\"],[0.7777777777777778,\"#fb9f3a\"],[0.8888888888888888,\"#fdca26\"],[1.0,\"#f0f921\"]],\"sequentialminus\":[[0.0,\"#0d0887\"],[0.1111111111111111,\"#46039f\"],[0.2222222222222222,\"#7201a8\"],[0.3333333333333333,\"#9c179e\"],[0.4444444444444444,\"#bd3786\"],[0.5555555555555556,\"#d8576b\"],[0.6666666666666666,\"#ed7953\"],[0.7777777777777778,\"#fb9f3a\"],[0.8888888888888888,\"#fdca26\"],[1.0,\"#f0f921\"]]},\"hovermode\":\"closest\",\"hoverlabel\":{\"align\":\"left\"},\"coloraxis\":{\"colorbar\":{\"outlinewidth\":0.0,\"ticks\":\"\"}},\"geo\":{\"showland\":true,\"landcolor\":\"rgba(229, 236, 246, 1.0)\",\"showlakes\":true,\"lakecolor\":\"rgba(255, 255, 255, 1.0)\",\"subunitcolor\":\"rgba(255, 255, 255, 1.0)\",\"bgcolor\":\"rgba(255, 255, 255, 1.0)\"},\"mapbox\":{\"style\":\"light\"},\"polar\":{\"bgcolor\":\"rgba(229, 236, 246, 1.0)\",\"radialaxis\":{\"linecolor\":\"rgba(255, 255, 255, 1.0)\",\"gridcolor\":\"rgba(255, 255, 255, 1.0)\",\"ticks\":\"\"},\"angularaxis\":{\"linecolor\":\"rgba(255, 255, 255, 1.0)\",\"gridcolor\":\"rgba(255, 255, 255, 1.0)\",\"ticks\":\"\"}},\"scene\":{\"xaxis\":{\"ticks\":\"\",\"linecolor\":\"rgba(255, 255, 255, 1.0)\",\"gridcolor\":\"rgba(255, 255, 255, 1.0)\",\"gridwidth\":2.0,\"zerolinecolor\":\"rgba(255, 255, 255, 1.0)\",\"backgroundcolor\":\"rgba(229, 236, 246, 1.0)\",\"showbackground\":true},\"yaxis\":{\"ticks\":\"\",\"linecolor\":\"rgba(255, 255, 255, 1.0)\",\"gridcolor\":\"rgba(255, 255, 255, 1.0)\",\"gridwidth\":2.0,\"zerolinecolor\":\"rgba(255, 255, 255, 1.0)\",\"backgroundcolor\":\"rgba(229, 236, 246, 1.0)\",\"showbackground\":true},\"zaxis\":{\"ticks\":\"\",\"linecolor\":\"rgba(255, 255, 255, 1.0)\",\"gridcolor\":\"rgba(255, 255, 255, 1.0)\",\"gridwidth\":2.0,\"zerolinecolor\":\"rgba(255, 255, 255, 1.0)\",\"backgroundcolor\":\"rgba(229, 236, 246, 1.0)\",\"showbackground\":true}},\"ternary\":{\"aaxis\":{\"ticks\":\"\",\"linecolor\":\"rgba(255, 255, 255, 1.0)\",\"gridcolor\":\"rgba(255, 255, 255, 1.0)\"},\"baxis\":{\"ticks\":\"\",\"linecolor\":\"rgba(255, 255, 255, 1.0)\",\"gridcolor\":\"rgba(255, 255, 255, 1.0)\"},\"caxis\":{\"ticks\":\"\",\"linecolor\":\"rgba(255, 255, 255, 1.0)\",\"gridcolor\":\"rgba(255, 255, 255, 1.0)\"},\"bgcolor\":\"rgba(229, 236, 246, 1.0)\"},\"xaxis\":{\"title\":{\"standoff\":15},\"ticks\":\"\",\"automargin\":\"height+width+left+right+top+bottom\",\"linecolor\":\"rgba(255, 255, 255, 1.0)\",\"gridcolor\":\"rgba(255, 255, 255, 1.0)\",\"zerolinecolor\":\"rgba(255, 255, 255, 1.0)\",\"zerolinewidth\":2.0},\"yaxis\":{\"title\":{\"standoff\":15},\"ticks\":\"\",\"automargin\":\"height+width+left+right+top+bottom\",\"linecolor\":\"rgba(255, 255, 255, 1.0)\",\"gridcolor\":\"rgba(255, 255, 255, 1.0)\",\"zerolinecolor\":\"rgba(255, 255, 255, 1.0)\",\"zerolinewidth\":2.0},\"annotationdefaults\":{\"arrowcolor\":\"#2a3f5f\",\"arrowhead\":0,\"arrowwidth\":1},\"shapedefaults\":{\"line\":{\"color\":\"rgba(42, 63, 95, 1.0)\"}},\"colorway\":[\"rgba(99, 110, 250, 1.0)\",\"rgba(239, 85, 59, 1.0)\",\"rgba(0, 204, 150, 1.0)\",\"rgba(171, 99, 250, 1.0)\",\"rgba(255, 161, 90, 1.0)\",\"rgba(25, 211, 243, 1.0)\",\"rgba(255, 102, 146, 1.0)\",\"rgba(182, 232, 128, 1.0)\",\"rgba(255, 151, 255, 1.0)\",\"rgba(254, 203, 82, 1.0)\"]},\"data\":{\"bar\":[{\"marker\":{\"line\":{\"color\":\"rgba(229, 236, 246, 1.0)\",\"width\":0.5},\"pattern\":{\"fillmode\":\"overlay\",\"size\":10,\"solidity\":0.2}},\"error_x\":{\"color\":\"rgba(42, 63, 95, 1.0)\"},\"error_y\":{\"color\":\"rgba(42, 63, 95, 1.0)\"}}],\"barpolar\":[{\"marker\":{\"line\":{\"color\":\"rgba(229, 236, 246, 1.0)\",\"width\":0.5},\"pattern\":{\"fillmode\":\"overlay\",\"size\":10,\"solidity\":0.2}}}],\"carpet\":[{\"aaxis\":{\"linecolor\":\"rgba(255, 255, 255, 1.0)\",\"gridcolor\":\"rgba(255, 255, 255, 1.0)\",\"endlinecolor\":\"rgba(42, 63, 95, 1.0)\",\"minorgridcolor\":\"rgba(255, 255, 255, 1.0)\",\"startlinecolor\":\"rgba(42, 63, 95, 1.0)\"},\"baxis\":{\"linecolor\":\"rgba(255, 255, 255, 1.0)\",\"gridcolor\":\"rgba(255, 255, 255, 1.0)\",\"endlinecolor\":\"rgba(42, 63, 95, 1.0)\",\"minorgridcolor\":\"rgba(255, 255, 255, 1.0)\",\"startlinecolor\":\"rgba(42, 63, 95, 1.0)\"}}],\"choropleth\":[{\"colorbar\":{\"outlinewidth\":0.0,\"ticks\":\"\"},\"colorscale\":[[0.0,\"#0d0887\"],[0.1111111111111111,\"#46039f\"],[0.2222222222222222,\"#7201a8\"],[0.3333333333333333,\"#9c179e\"],[0.4444444444444444,\"#bd3786\"],[0.5555555555555556,\"#d8576b\"],[0.6666666666666666,\"#ed7953\"],[0.7777777777777778,\"#fb9f3a\"],[0.8888888888888888,\"#fdca26\"],[1.0,\"#f0f921\"]]}],\"contour\":[{\"colorbar\":{\"outlinewidth\":0.0,\"ticks\":\"\"},\"colorscale\":[[0.0,\"#0d0887\"],[0.1111111111111111,\"#46039f\"],[0.2222222222222222,\"#7201a8\"],[0.3333333333333333,\"#9c179e\"],[0.4444444444444444,\"#bd3786\"],[0.5555555555555556,\"#d8576b\"],[0.6666666666666666,\"#ed7953\"],[0.7777777777777778,\"#fb9f3a\"],[0.8888888888888888,\"#fdca26\"],[1.0,\"#f0f921\"]]}],\"contourcarpet\":[{\"colorbar\":{\"outlinewidth\":0.0,\"ticks\":\"\"}}],\"heatmap\":[{\"colorbar\":{\"outlinewidth\":0.0,\"ticks\":\"\"},\"colorscale\":[[0.0,\"#0d0887\"],[0.1111111111111111,\"#46039f\"],[0.2222222222222222,\"#7201a8\"],[0.3333333333333333,\"#9c179e\"],[0.4444444444444444,\"#bd3786\"],[0.5555555555555556,\"#d8576b\"],[0.6666666666666666,\"#ed7953\"],[0.7777777777777778,\"#fb9f3a\"],[0.8888888888888888,\"#fdca26\"],[1.0,\"#f0f921\"]]}],\"heatmapgl\":[{\"colorbar\":{\"outlinewidth\":0.0,\"ticks\":\"\"},\"colorscale\":[[0.0,\"#0d0887\"],[0.1111111111111111,\"#46039f\"],[0.2222222222222222,\"#7201a8\"],[0.3333333333333333,\"#9c179e\"],[0.4444444444444444,\"#bd3786\"],[0.5555555555555556,\"#d8576b\"],[0.6666666666666666,\"#ed7953\"],[0.7777777777777778,\"#fb9f3a\"],[0.8888888888888888,\"#fdca26\"],[1.0,\"#f0f921\"]]}],\"histogram\":[{\"marker\":{\"pattern\":{\"fillmode\":\"overlay\",\"size\":10,\"solidity\":0.2}}}],\"histogram2d\":[{\"colorbar\":{\"outlinewidth\":0.0,\"ticks\":\"\"},\"colorscale\":[[0.0,\"#0d0887\"],[0.1111111111111111,\"#46039f\"],[0.2222222222222222,\"#7201a8\"],[0.3333333333333333,\"#9c179e\"],[0.4444444444444444,\"#bd3786\"],[0.5555555555555556,\"#d8576b\"],[0.6666666666666666,\"#ed7953\"],[0.7777777777777778,\"#fb9f3a\"],[0.8888888888888888,\"#fdca26\"],[1.0,\"#f0f921\"]]}],\"histogram2dcontour\":[{\"colorbar\":{\"outlinewidth\":0.0,\"ticks\":\"\"},\"colorscale\":[[0.0,\"#0d0887\"],[0.1111111111111111,\"#46039f\"],[0.2222222222222222,\"#7201a8\"],[0.3333333333333333,\"#9c179e\"],[0.4444444444444444,\"#bd3786\"],[0.5555555555555556,\"#d8576b\"],[0.6666666666666666,\"#ed7953\"],[0.7777777777777778,\"#fb9f3a\"],[0.8888888888888888,\"#fdca26\"],[1.0,\"#f0f921\"]]}],\"mesh3d\":[{\"colorbar\":{\"outlinewidth\":0.0,\"ticks\":\"\"}}],\"parcoords\":[{\"line\":{\"colorbar\":{\"outlinewidth\":0.0,\"ticks\":\"\"}}}],\"pie\":[{\"automargin\":true}],\"scatter\":[{\"marker\":{\"colorbar\":{\"outlinewidth\":0.0,\"ticks\":\"\"}}}],\"scatter3d\":[{\"marker\":{\"colorbar\":{\"outlinewidth\":0.0,\"ticks\":\"\"}},\"line\":{\"colorbar\":{\"outlinewidth\":0.0,\"ticks\":\"\"}}}],\"scattercarpet\":[{\"marker\":{\"colorbar\":{\"outlinewidth\":0.0,\"ticks\":\"\"}}}],\"scattergeo\":[{\"marker\":{\"colorbar\":{\"outlinewidth\":0.0,\"ticks\":\"\"}}}],\"scattergl\":[{\"marker\":{\"colorbar\":{\"outlinewidth\":0.0,\"ticks\":\"\"}}}],\"scattermapbox\":[{\"marker\":{\"colorbar\":{\"outlinewidth\":0.0,\"ticks\":\"\"}}}],\"scatterpolar\":[{\"marker\":{\"colorbar\":{\"outlinewidth\":0.0,\"ticks\":\"\"}}}],\"scatterpolargl\":[{\"marker\":{\"colorbar\":{\"outlinewidth\":0.0,\"ticks\":\"\"}}}],\"scatterternary\":[{\"marker\":{\"colorbar\":{\"outlinewidth\":0.0,\"ticks\":\"\"}}}],\"surface\":[{\"colorbar\":{\"outlinewidth\":0.0,\"ticks\":\"\"},\"colorscale\":[[0.0,\"#0d0887\"],[0.1111111111111111,\"#46039f\"],[0.2222222222222222,\"#7201a8\"],[0.3333333333333333,\"#9c179e\"],[0.4444444444444444,\"#bd3786\"],[0.5555555555555556,\"#d8576b\"],[0.6666666666666666,\"#ed7953\"],[0.7777777777777778,\"#fb9f3a\"],[0.8888888888888888,\"#fdca26\"],[1.0,\"#f0f921\"]]}],\"table\":[{\"cells\":{\"fill\":{\"color\":\"rgba(235, 240, 248, 1.0)\"},\"line\":{\"color\":\"rgba(255, 255, 255, 1.0)\"}},\"header\":{\"fill\":{\"color\":\"rgba(200, 212, 227, 1.0)\"},\"line\":{\"color\":\"rgba(255, 255, 255, 1.0)\"}}}]}},\"title\":{\"text\":\"Trial Metrics over Multiple Trials\"},\"xaxis\":{\"title\":{\"text\":\"Trial Number\"}},\"yaxis\":{\"title\":{\"text\":\"Primary Metric Value\"}}};\n",
       "        var config = {\"responsive\":true};\n",
       "        Plotly.newPlot('737467c0-6242-40a7-90fa-0dd20f0c5be9', data, layout, config);\n",
       "    });\n",
       "};\n",
       "if ((typeof(requirejs) !==  typeof(Function)) || (typeof(requirejs.config) !== typeof(Function))) {\n",
       "    var script = document.createElement(\"script\");\n",
       "    script.setAttribute(\"charset\", \"utf-8\");\n",
       "    script.setAttribute(\"src\", \"https://cdnjs.cloudflare.com/ajax/libs/require.js/2.3.6/require.min.js\");\n",
       "    script.onload = function(){\n",
       "        renderPlotly_737467c0624240a790fa0dd20f0c5be9();\n",
       "    };\n",
       "    document.getElementsByTagName(\"head\")[0].appendChild(script);\n",
       "}\n",
       "else {\n",
       "    renderPlotly_737467c0624240a790fa0dd20f0c5be9();\n",
       "}\n",
       "</script></div>"
      ]
     },
     "metadata": {},
     "output_type": "display_data"
    }
   ],
   "source": [
    "MLContext context = new(seed: seed) {\n",
    "    GpuDeviceId = 0,\n",
    "    FallbackToCpu = true,\n",
    "};\n",
    "ContextMonitor contextMonitor = context.Monitor();\n",
    "\n",
    "// Standardize our numeric colums via scaling and imputing missing values\n",
    "MissingValueReplacingEstimator imputer = context.Transforms.ReplaceMissingValues(columns: colTypes.Numeric.Select(c => new InputOutputColumnPair(c, c)).ToArray(), replacementMode: MissingValueReplacingEstimator.ReplacementMode.DefaultValue);\n",
    "NormalizingEstimator scaler = context.Transforms.NormalizeRobustScaling(columns: colTypes.Numeric.Select(c => new InputOutputColumnPair(c, c)).ToArray());\n",
    "\n",
    "// Standardize our boolean columns as singles\n",
    "TypeConvertingEstimator boolConverter = context.Transforms.Conversion.ConvertType(columns: colTypes.Categorical.Select(c => new InputOutputColumnPair(c, c)).ToArray(), outputKind: DataKind.Single);\n",
    "    \n",
    "// Text pre-processing\n",
    "TextNormalizingEstimator textNormalizer = context.Transforms.Text.NormalizeText(inputColumnName: \"Message\", outputColumnName: \"Message\", caseMode: TextNormalizingEstimator.CaseMode.Lower, keepDiacritics: false, keepPunctuations: false, keepNumbers: false);\n",
    "\n",
    "// Word trigrams / bigrams / unigrams\n",
    "WordTokenizingEstimator wordTokenizer = context.Transforms.Text.TokenizeIntoWords(inputColumnName: \"Message\", outputColumnName: \"MessageWords\");\n",
    "StopWordsRemovingEstimator stopRemover = context.Transforms.Text.RemoveDefaultStopWords(inputColumnName: \"MessageWords\", outputColumnName: \"MessageWords\", language: StopWordsRemovingEstimator.Language.English);\n",
    "ValueToKeyMappingEstimator labelConverter = context.Transforms.Conversion.MapValueToKey(inputColumnName: \"MessageWords\", outputColumnName: \"MessageWords\");\n",
    "NgramExtractingEstimator ngramExtractor = context.Transforms.Text.ProduceNgrams(inputColumnName: \"MessageWords\", outputColumnName: \"MessageWords\", ngramLength: 3, useAllLengths: true, weighting: NgramExtractingEstimator.WeightingCriteria.TfIdf);\n",
    "LpNormNormalizingEstimator wordNorm = context.Transforms.NormalizeLpNorm(inputColumnName: \"MessageWords\", outputColumnName: \"MessageWords\", norm: LpNormNormalizingEstimator.NormFunction.L2);\n",
    "\n",
    "// Character ngrams\n",
    "TokenizingByCharactersEstimator charTokenizer = context.Transforms.Text.TokenizeIntoCharactersAsKeys(inputColumnName: \"Message\", outputColumnName: \"MessageChars\");\n",
    "NgramExtractingEstimator charNgram = context.Transforms.Text.ProduceNgrams(inputColumnName: \"MessageChars\", outputColumnName: \"MessageChars\", ngramLength: 3, useAllLengths: true, skipLength: 1);\n",
    "LpNormNormalizingEstimator charNorm = context.Transforms.NormalizeLpNorm(inputColumnName: \"MessageChars\", outputColumnName: \"MessageChars\", norm: LpNormNormalizingEstimator.NormFunction.L2);\n",
    "\n",
    "// We'll concatenate the word and Ngram features together, along with all of our numeric and boolean columns\n",
    "ColumnConcatenatingEstimator concat = context.Transforms.Concatenate(\"Features\", inputColumnNames: colTypes.Numeric.Concat(colTypes.Categorical).Concat(new[] { \"MessageWords\", \"MessageChars\"}).ToArray());\n",
    "\n",
    "// Since we have scaling in place, let's use all available classifiers\n",
    "var classifier = context.Auto().BinaryClassification(\n",
    "    useFastForest: true, \n",
    "    useLgbm: true, \n",
    "    useFastTree: true, \n",
    "    useLbfgsLogisticRegression: true, \n",
    "    useSdcaLogisticRegression: true);\n",
    "\n",
    "// Build a pipeline\n",
    "SweepablePipeline pipeline = imputer\n",
    "    .Append(boolConverter)\n",
    "    .Append(scaler)\n",
    "    .Append(textNormalizer)\n",
    "    .Append(wordTokenizer)\n",
    "    .Append(stopRemover)\n",
    "    .Append(labelConverter)\n",
    "    .Append(ngramExtractor)\n",
    "    .Append(wordNorm)\n",
    "    .Append(charTokenizer)\n",
    "    .Append(charNgram)\n",
    "    .Append(charNorm)\n",
    "    .Append(concat)\n",
    "    .Append(classifier);\n",
    "\n",
    "// Now let's run our experiment using our custom pipeline\n",
    "var experiment = context.Auto().CreateExperiment()\n",
    "    .SetPipeline(pipeline)\n",
    "    .SetDataset(df, fold: 5)\n",
    "    .SetBinaryClassificationMetric(BinaryClassificationMetric.F1Score, labelColumn: \"Label\")\n",
    "    .SetMaxModelToExplore(10);\n",
    "\n",
    "TrialResult result = await experiment.RunAsync();\n",
    "ITransformer model = result.Model;\n",
    "\n",
    "MLCharts.MetricImprovementWithTrials(contextMonitor)"
   ]
  },
  {
   "cell_type": "code",
   "execution_count": 13,
   "metadata": {
    "dotnet_interactive": {
     "language": "csharp"
    },
    "polyglot_notebook": {
     "kernelName": "csharp"
    },
    "vscode": {
     "languageId": "polyglot-notebook"
    }
   },
   "outputs": [
    {
     "data": {
      "text/html": [
       "<div class=\"mermaidMarkdownContainer\" style=\"background-color:white\">\n",
       "<link rel=\"stylesheet\" href=\"https://cdnjs.cloudflare.com/ajax/libs/font-awesome/6.2.0/css/all.min.css\">\n",
       "<div id=\"c6db9731118b41efaab62035aef460fa\"></div>\n",
       "<script type=\"module\">\n",
       "\r\n",
       "            import mermaid from 'https://cdn.jsdelivr.net/npm/mermaid@10.6.1/dist/mermaid.esm.min.mjs';\r\n",
       "            let renderTarget = document.getElementById('c6db9731118b41efaab62035aef460fa');\r\n",
       "            try {\r\n",
       "                const {svg, bindFunctions} = await mermaid.mermaidAPI.render( \r\n",
       "                    'mermaid_c6db9731118b41efaab62035aef460fa', \r\n",
       "                    `stateDiagram-v2\n",
       "state \"TransformerChain\" AS t1 {\n",
       "t1_1: TransformerChain\n",
       "state \"TransformerChain\" AS t1_1 {\n",
       "direction LR\n",
       "t1_1_1: MissingValueReplacingTransformer\n",
       "t1_1_2: TypeConvertingTransformer\n",
       "t1_1_3: NormalizingTransformer\n",
       "t1_1_4: TextNormalizingTransformer\n",
       "t1_1_5: WordTokenizingTransformer\n",
       "t1_1_6: StopWordsRemovingTransformer\n",
       "t1_1_7: ValueToKeyMappingTransformer\n",
       "t1_1_8: NgramExtractingTransformer\n",
       "t1_1_9: LpNormNormalizingTransformer\n",
       "t1_1_10: TokenizingByCharactersTransformer\n",
       "t1_1_11: NgramExtractingTransformer\n",
       "t1_1_12: LpNormNormalizingTransformer\n",
       "t1_1_13: ColumnConcatenatingTransformer\n",
       "t1_1_1 --> t1_1_2\n",
       "t1_1_2 --> t1_1_3\n",
       "t1_1_3 --> t1_1_4\n",
       "t1_1_4 --> t1_1_5\n",
       "t1_1_5 --> t1_1_6\n",
       "t1_1_6 --> t1_1_7\n",
       "t1_1_7 --> t1_1_8\n",
       "t1_1_8 --> t1_1_9\n",
       "t1_1_9 --> t1_1_10\n",
       "t1_1_10 --> t1_1_11\n",
       "t1_1_11 --> t1_1_12\n",
       "t1_1_12 --> t1_1_13\n",
       "}\n",
       "\n",
       "t1_2: BinaryPredictionTransformer_CalibratedModelParametersBase_FastTreeBinaryModelParameters,PlattCalibrator__\n",
       "t1_1 --> t1_2\n",
       "}\n",
       "\n",
       "`);\r\n",
       "                renderTarget.innerHTML = svg;\r\n",
       "                bindFunctions?.(renderTarget);\r\n",
       "            }\r\n",
       "            catch (error) {\r\n",
       "                console.log(error);\r\n",
       "            }\n",
       "</script>\n",
       "</div>\n"
      ]
     },
     "metadata": {},
     "output_type": "display_data"
    },
    {
     "data": {
      "text/html": [
       "<details open=\"open\" class=\"dni-treeview\"><summary><span class=\"dni-code-hint\"><code>[ [ Microsoft.ML.Transforms.MissingValueReplacingTransformer, Microsoft.ML.Transforms.TypeConvertingTransformer, Microsoft.ML.Transforms.NormalizingTransformer, Microsoft.ML.Transforms.Text.TextNormalizingTransformer, Microsoft.ML.Transforms.Text.WordTokenizingTransformer, Microsoft.ML.Transforms.Text.StopWordsRemovingTransformer, Microsoft.ML.Transforms.ValueToKeyMappingTransformer, Microsoft.ML.Transforms.Text.NgramExtractingTransformer, Microsoft.ML.Transforms.LpNormNormalizingTransformer, Microsoft.ML.Transforms.Text.TokenizingByCharactersTransformer, Microsoft.ML.Transforms.Text.NgramExtractingTransformer, Microsoft.ML.Transforms.LpNormNormalizingTransformer, Microsoft.ML.Data.ColumnConcatenatingTransformer ], Microsoft.ML.Data.BinaryPredictionTransformer`1[Microsoft.ML.Calibrators.CalibratedModelParametersBase`2[Microsoft.ML.Trainers.FastTree.FastTreeBinaryModelParameters,Microsoft.ML.Calibrators.PlattCalibrator]] ]</code></span></summary><div><table><thead><tr></tr></thead><tbody><tr><td>LastTransformer</td><td><details class=\"dni-treeview\"><summary><span class=\"dni-code-hint\"><code>Microsoft.ML.Data.BinaryPredictionTransformer`1[Microsoft.ML.Calibrators.CalibratedModelParametersBase`2[Microsoft.ML.Trainers.FastTree.FastTreeBinaryModelParameters,Microsoft.ML.Calibrators.PlattCalibrator]]</code></span></summary><div><table><thead><tr></tr></thead><tbody><tr><td>FeatureColumnName</td><td><div class=\"dni-plaintext\"><pre>Features</pre></div></td></tr><tr><td>FeatureColumnType</td><td><details class=\"dni-treeview\"><summary><span class=\"dni-code-hint\"><code>Vector&lt;Single, 9573&gt;</code></span></summary><div><table><thead><tr></tr></thead><tbody><tr><td>Dimensions</td><td><div class=\"dni-plaintext\"><pre>[ 9573 ]</pre></div></td></tr><tr><td>IsKnownSize</td><td><div class=\"dni-plaintext\"><pre>True</pre></div></td></tr><tr><td>ItemType</td><td><details class=\"dni-treeview\"><summary><span class=\"dni-code-hint\"><code>Single</code></span></summary><div><table><thead><tr></tr></thead><tbody><tr><td>RawType</td><td><span><a href=\"https://docs.microsoft.com/dotnet/api/system.single?view=net-7.0\">System.Single</a></span></td></tr></tbody></table></div></details></td></tr><tr><td>Size</td><td><div class=\"dni-plaintext\"><pre>9573</pre></div></td></tr><tr><td>RawType</td><td><span><a href=\"https://docs.microsoft.com/dotnet/api/microsoft.ml.data.vbuffer-1?view=net-7.0\">Microsoft.ML.Data.VBuffer&lt;System.Single&gt;</a></span></td></tr></tbody></table></div></details></td></tr><tr><td>Model</td><td><details class=\"dni-treeview\"><summary><span class=\"dni-code-hint\"><code>Microsoft.ML.Calibrators.FeatureWeightsCalibratedModelParameters`2[Microsoft.ML.Trainers.FastTree.FastTreeBinaryModelParameters,Microsoft.ML.Calibrators.PlattCalibrator]</code></span></summary><div><table><thead><tr></tr></thead><tbody><tr><td>SubModel</td><td><div class=\"dni-plaintext\"><pre>Microsoft.ML.Calibrators.FeatureWeightsCalibratedModelParameters`2[Microsoft.ML.Trainers.FastTree.FastTreeBinaryModelParameters,Microsoft.ML.Calibrators.PlattCalibrator]</pre></div></td></tr><tr><td>Calibrator</td><td><div class=\"dni-plaintext\"><pre>Microsoft.ML.Calibrators.FeatureWeightsCalibratedModelParameters`2[Microsoft.ML.Trainers.FastTree.FastTreeBinaryModelParameters,Microsoft.ML.Calibrators.PlattCalibrator]</pre></div></td></tr><tr><td>SubModel</td><td><div class=\"dni-plaintext\"><pre>Microsoft.ML.Calibrators.FeatureWeightsCalibratedModelParameters`2[Microsoft.ML.Trainers.FastTree.FastTreeBinaryModelParameters,Microsoft.ML.Calibrators.PlattCalibrator]</pre></div></td></tr><tr><td>Calibrator</td><td><div class=\"dni-plaintext\"><pre>Microsoft.ML.Calibrators.FeatureWeightsCalibratedModelParameters`2[Microsoft.ML.Trainers.FastTree.FastTreeBinaryModelParameters,Microsoft.ML.Calibrators.PlattCalibrator]</pre></div></td></tr></tbody></table></div></details></td></tr></tbody></table></div></details></td></tr><tr><td><i>(values)</i></td><td><table><thead><tr><th><i>index</i></th><th><i>type</i></th><th>value</th></tr></thead><tbody><tr><td>0</td><td><span><a href=\"https://docs.microsoft.com/dotnet/api/microsoft.ml.data.transformerchain-1?view=net-7.0\">Microsoft.ML.Data.TransformerChain&lt;Microsoft.ML.Data.ColumnConcatenatingTransformer&gt;</a></span></td><td><details class=\"dni-treeview\"><summary><span class=\"dni-code-hint\"><code>[ Microsoft.ML.Transforms.MissingValueReplacingTransformer, Microsoft.ML.Transforms.TypeConvertingTransformer, Microsoft.ML.Transforms.NormalizingTransformer, Microsoft.ML.Transforms.Text.TextNormalizingTransformer, Microsoft.ML.Transforms.Text.WordTokenizingTransformer, Microsoft.ML.Transforms.Text.StopWordsRemovingTransformer, Microsoft.ML.Transforms.ValueToKeyMappingTransformer, Microsoft.ML.Transforms.Text.NgramExtractingTransformer, Microsoft.ML.Transforms.LpNormNormalizingTransformer, Microsoft.ML.Transforms.Text.TokenizingByCharactersTransformer, Microsoft.ML.Transforms.Text.NgramExtractingTransformer, Microsoft.ML.Transforms.LpNormNormalizingTransformer, Microsoft.ML.Data.ColumnConcatenatingTransformer ]</code></span></summary><div><table><thead><tr></tr></thead><tbody><tr><td>LastTransformer</td><td><details class=\"dni-treeview\"><summary><span class=\"dni-code-hint\"><code>Microsoft.ML.Data.ColumnConcatenatingTransformer</code></span></summary><div><table><thead><tr></tr></thead><tbody></tbody></table></div></details></td></tr><tr><td><i>(values)</i></td><td><table><thead><tr><th><i>index</i></th><th><i>type</i></th><th>value</th></tr></thead><tbody><tr><td>0</td><td><span><a href=\"https://docs.microsoft.com/dotnet/api/microsoft.ml.transforms.missingvaluereplacingtransformer?view=net-7.0\">Microsoft.ML.Transforms.MissingValueReplacingTransformer</a></span></td><td><details class=\"dni-treeview\"><summary><span class=\"dni-code-hint\"><code>Microsoft.ML.Transforms.MissingValueReplacingTransformer</code></span></summary><div><table><thead><tr></tr></thead><tbody></tbody></table></div></details></td></tr><tr><td>1</td><td><span><a href=\"https://docs.microsoft.com/dotnet/api/microsoft.ml.transforms.typeconvertingtransformer?view=net-7.0\">Microsoft.ML.Transforms.TypeConvertingTransformer</a></span></td><td><details class=\"dni-treeview\"><summary><span class=\"dni-code-hint\"><code>Microsoft.ML.Transforms.TypeConvertingTransformer</code></span></summary><div><table><thead><tr></tr></thead><tbody></tbody></table></div></details></td></tr><tr><td>2</td><td><span><a href=\"https://docs.microsoft.com/dotnet/api/microsoft.ml.transforms.normalizingtransformer?view=net-7.0\">Microsoft.ML.Transforms.NormalizingTransformer</a></span></td><td><details class=\"dni-treeview\"><summary><span class=\"dni-code-hint\"><code>Microsoft.ML.Transforms.NormalizingTransformer</code></span></summary><div><table><thead><tr></tr></thead><tbody></tbody></table></div></details></td></tr><tr><td>3</td><td><span><a href=\"https://docs.microsoft.com/dotnet/api/microsoft.ml.transforms.text.textnormalizingtransformer?view=net-7.0\">Microsoft.ML.Transforms.Text.TextNormalizingTransformer</a></span></td><td><details class=\"dni-treeview\"><summary><span class=\"dni-code-hint\"><code>Microsoft.ML.Transforms.Text.TextNormalizingTransformer</code></span></summary><div><table><thead><tr></tr></thead><tbody></tbody></table></div></details></td></tr><tr><td>4</td><td><span><a href=\"https://docs.microsoft.com/dotnet/api/microsoft.ml.transforms.text.wordtokenizingtransformer?view=net-7.0\">Microsoft.ML.Transforms.Text.WordTokenizingTransformer</a></span></td><td><details class=\"dni-treeview\"><summary><span class=\"dni-code-hint\"><code>Microsoft.ML.Transforms.Text.WordTokenizingTransformer</code></span></summary><div><table><thead><tr></tr></thead><tbody></tbody></table></div></details></td></tr><tr><td>5</td><td><span><a href=\"https://docs.microsoft.com/dotnet/api/microsoft.ml.transforms.text.stopwordsremovingtransformer?view=net-7.0\">Microsoft.ML.Transforms.Text.StopWordsRemovingTransformer</a></span></td><td><details class=\"dni-treeview\"><summary><span class=\"dni-code-hint\"><code>Microsoft.ML.Transforms.Text.StopWordsRemovingTransformer</code></span></summary><div><table><thead><tr></tr></thead><tbody></tbody></table></div></details></td></tr><tr><td>6</td><td><span><a href=\"https://docs.microsoft.com/dotnet/api/microsoft.ml.transforms.valuetokeymappingtransformer?view=net-7.0\">Microsoft.ML.Transforms.ValueToKeyMappingTransformer</a></span></td><td><details class=\"dni-treeview\"><summary><span class=\"dni-code-hint\"><code>Microsoft.ML.Transforms.ValueToKeyMappingTransformer</code></span></summary><div><table><thead><tr></tr></thead><tbody></tbody></table></div></details></td></tr><tr><td>7</td><td><span><a href=\"https://docs.microsoft.com/dotnet/api/microsoft.ml.transforms.text.ngramextractingtransformer?view=net-7.0\">Microsoft.ML.Transforms.Text.NgramExtractingTransformer</a></span></td><td><details class=\"dni-treeview\"><summary><span class=\"dni-code-hint\"><code>Microsoft.ML.Transforms.Text.NgramExtractingTransformer</code></span></summary><div><table><thead><tr></tr></thead><tbody></tbody></table></div></details></td></tr><tr><td>8</td><td><span><a href=\"https://docs.microsoft.com/dotnet/api/microsoft.ml.transforms.lpnormnormalizingtransformer?view=net-7.0\">Microsoft.ML.Transforms.LpNormNormalizingTransformer</a></span></td><td><details class=\"dni-treeview\"><summary><span class=\"dni-code-hint\"><code>Microsoft.ML.Transforms.LpNormNormalizingTransformer</code></span></summary><div><table><thead><tr></tr></thead><tbody></tbody></table></div></details></td></tr><tr><td>9</td><td><span><a href=\"https://docs.microsoft.com/dotnet/api/microsoft.ml.transforms.text.tokenizingbycharacterstransformer?view=net-7.0\">Microsoft.ML.Transforms.Text.TokenizingByCharactersTransformer</a></span></td><td><details class=\"dni-treeview\"><summary><span class=\"dni-code-hint\"><code>Microsoft.ML.Transforms.Text.TokenizingByCharactersTransformer</code></span></summary><div><table><thead><tr></tr></thead><tbody></tbody></table></div></details></td></tr><tr><td>10</td><td><span><a href=\"https://docs.microsoft.com/dotnet/api/microsoft.ml.transforms.text.ngramextractingtransformer?view=net-7.0\">Microsoft.ML.Transforms.Text.NgramExtractingTransformer</a></span></td><td><details class=\"dni-treeview\"><summary><span class=\"dni-code-hint\"><code>Microsoft.ML.Transforms.Text.NgramExtractingTransformer</code></span></summary><div><table><thead><tr></tr></thead><tbody></tbody></table></div></details></td></tr><tr><td>11</td><td><span><a href=\"https://docs.microsoft.com/dotnet/api/microsoft.ml.transforms.lpnormnormalizingtransformer?view=net-7.0\">Microsoft.ML.Transforms.LpNormNormalizingTransformer</a></span></td><td><details class=\"dni-treeview\"><summary><span class=\"dni-code-hint\"><code>Microsoft.ML.Transforms.LpNormNormalizingTransformer</code></span></summary><div><table><thead><tr></tr></thead><tbody></tbody></table></div></details></td></tr><tr><td>12</td><td><span><a href=\"https://docs.microsoft.com/dotnet/api/microsoft.ml.data.columnconcatenatingtransformer?view=net-7.0\">Microsoft.ML.Data.ColumnConcatenatingTransformer</a></span></td><td><details class=\"dni-treeview\"><summary><span class=\"dni-code-hint\"><code>Microsoft.ML.Data.ColumnConcatenatingTransformer</code></span></summary><div><table><thead><tr></tr></thead><tbody></tbody></table></div></details></td></tr></tbody></table></td></tr></tbody></table></div></details></td></tr><tr><td>1</td><td><span><a href=\"https://docs.microsoft.com/dotnet/api/microsoft.ml.data.binarypredictiontransformer-1?view=net-7.0\">Microsoft.ML.Data.BinaryPredictionTransformer&lt;Microsoft.ML.Calibrators.CalibratedModelParametersBase&lt;Microsoft.ML.Trainers.FastTree.FastTreeBinaryModelParameters,Microsoft.ML.Calibrators.PlattCalibrator&gt;&gt;</a></span></td><td><details class=\"dni-treeview\"><summary><span class=\"dni-code-hint\"><code>Microsoft.ML.Data.BinaryPredictionTransformer`1[Microsoft.ML.Calibrators.CalibratedModelParametersBase`2[Microsoft.ML.Trainers.FastTree.FastTreeBinaryModelParameters,Microsoft.ML.Calibrators.PlattCalibrator]]</code></span></summary><div><table><thead><tr></tr></thead><tbody><tr><td>FeatureColumnName</td><td><div class=\"dni-plaintext\"><pre>Features</pre></div></td></tr><tr><td>FeatureColumnType</td><td><details class=\"dni-treeview\"><summary><span class=\"dni-code-hint\"><code>Vector&lt;Single, 9573&gt;</code></span></summary><div><table><thead><tr></tr></thead><tbody><tr><td>Dimensions</td><td><div class=\"dni-plaintext\"><pre>[ 9573 ]</pre></div></td></tr><tr><td>IsKnownSize</td><td><div class=\"dni-plaintext\"><pre>True</pre></div></td></tr><tr><td>ItemType</td><td><details class=\"dni-treeview\"><summary><span class=\"dni-code-hint\"><code>Single</code></span></summary><div><table><thead><tr></tr></thead><tbody><tr><td>RawType</td><td><span><a href=\"https://docs.microsoft.com/dotnet/api/system.single?view=net-7.0\">System.Single</a></span></td></tr></tbody></table></div></details></td></tr><tr><td>Size</td><td><div class=\"dni-plaintext\"><pre>9573</pre></div></td></tr><tr><td>RawType</td><td><span><a href=\"https://docs.microsoft.com/dotnet/api/microsoft.ml.data.vbuffer-1?view=net-7.0\">Microsoft.ML.Data.VBuffer&lt;System.Single&gt;</a></span></td></tr></tbody></table></div></details></td></tr><tr><td>Model</td><td><details class=\"dni-treeview\"><summary><span class=\"dni-code-hint\"><code>Microsoft.ML.Calibrators.FeatureWeightsCalibratedModelParameters`2[Microsoft.ML.Trainers.FastTree.FastTreeBinaryModelParameters,Microsoft.ML.Calibrators.PlattCalibrator]</code></span></summary><div><table><thead><tr></tr></thead><tbody><tr><td>SubModel</td><td><div class=\"dni-plaintext\"><pre>Microsoft.ML.Calibrators.FeatureWeightsCalibratedModelParameters`2[Microsoft.ML.Trainers.FastTree.FastTreeBinaryModelParameters,Microsoft.ML.Calibrators.PlattCalibrator]</pre></div></td></tr><tr><td>Calibrator</td><td><div class=\"dni-plaintext\"><pre>Microsoft.ML.Calibrators.FeatureWeightsCalibratedModelParameters`2[Microsoft.ML.Trainers.FastTree.FastTreeBinaryModelParameters,Microsoft.ML.Calibrators.PlattCalibrator]</pre></div></td></tr><tr><td>SubModel</td><td><div class=\"dni-plaintext\"><pre>Microsoft.ML.Calibrators.FeatureWeightsCalibratedModelParameters`2[Microsoft.ML.Trainers.FastTree.FastTreeBinaryModelParameters,Microsoft.ML.Calibrators.PlattCalibrator]</pre></div></td></tr><tr><td>Calibrator</td><td><div class=\"dni-plaintext\"><pre>Microsoft.ML.Calibrators.FeatureWeightsCalibratedModelParameters`2[Microsoft.ML.Trainers.FastTree.FastTreeBinaryModelParameters,Microsoft.ML.Calibrators.PlattCalibrator]</pre></div></td></tr></tbody></table></div></details></td></tr></tbody></table></div></details></td></tr></tbody></table></td></tr></tbody></table></div></details><style>\r\n",
       ".dni-code-hint {\r\n",
       "    font-style: italic;\r\n",
       "    overflow: hidden;\r\n",
       "    white-space: nowrap;\r\n",
       "}\r\n",
       ".dni-treeview {\r\n",
       "    white-space: nowrap;\r\n",
       "}\r\n",
       ".dni-treeview td {\r\n",
       "    vertical-align: top;\r\n",
       "    text-align: start;\r\n",
       "}\r\n",
       "details.dni-treeview {\r\n",
       "    padding-left: 1em;\r\n",
       "}\r\n",
       "table td {\r\n",
       "    text-align: start;\r\n",
       "}\r\n",
       "table tr { \r\n",
       "    vertical-align: top; \r\n",
       "    margin: 0em 0px;\r\n",
       "}\r\n",
       "table tr td pre \r\n",
       "{ \r\n",
       "    vertical-align: top !important; \r\n",
       "    margin: 0em 0px !important;\r\n",
       "} \r\n",
       "table th {\r\n",
       "    text-align: start;\r\n",
       "}\r\n",
       "</style>"
      ]
     },
     "metadata": {},
     "output_type": "display_data"
    }
   ],
   "source": [
    "ITransformer model = result.Model;\n",
    "#!transformer-vis model -d 2\n",
    "\n",
    "model"
   ]
  },
  {
   "cell_type": "code",
   "execution_count": 22,
   "metadata": {
    "dotnet_interactive": {
     "language": "csharp"
    },
    "polyglot_notebook": {
     "kernelName": "csharp"
    },
    "vscode": {
     "languageId": "polyglot-notebook"
    }
   },
   "outputs": [
    {
     "ename": "Error",
     "evalue": "System.InvalidOperationException: Could not apply a map over type 'UInt32' to column 'Label' since it has type 'Boolean'\n   at Microsoft.ML.Transforms.ValueToKeyMappingTransformer.Mapper..ctor(ValueToKeyMappingTransformer parent, DataViewSchema inputSchema)\n   at Microsoft.ML.Transforms.ValueToKeyMappingTransformer.MakeRowMapper(DataViewSchema schema)\n   at Microsoft.ML.Data.RowToRowTransformerBase.GetOutputSchema(DataViewSchema inputSchema)\n   at Microsoft.ML.Data.TransformerChain`1.GetOutputSchema(DataViewSchema inputSchema, TransformerScope scope)\n   at Microsoft.ML.Data.TransformerChain`1.Transform(IDataView input, TransformerScope scope)\n   at Submission#27.<<Initialize>>d__0.MoveNext()\n--- End of stack trace from previous location ---\n   at Microsoft.CodeAnalysis.Scripting.ScriptExecutionState.RunSubmissionsAsync[TResult](ImmutableArray`1 precedingExecutors, Func`2 currentExecutor, StrongBox`1 exceptionHolderOpt, Func`2 catchExceptionOpt, CancellationToken cancellationToken)",
     "output_type": "error",
     "traceback": [
      "System.InvalidOperationException: Could not apply a map over type 'UInt32' to column 'Label' since it has type 'Boolean'\n",
      "   at Microsoft.ML.Transforms.ValueToKeyMappingTransformer.Mapper..ctor(ValueToKeyMappingTransformer parent, DataViewSchema inputSchema)\n",
      "   at Microsoft.ML.Transforms.ValueToKeyMappingTransformer.MakeRowMapper(DataViewSchema schema)\n",
      "   at Microsoft.ML.Data.RowToRowTransformerBase.GetOutputSchema(DataViewSchema inputSchema)\n",
      "   at Microsoft.ML.Data.TransformerChain`1.GetOutputSchema(DataViewSchema inputSchema, TransformerScope scope)\n",
      "   at Microsoft.ML.Data.TransformerChain`1.Transform(IDataView input, TransformerScope scope)\n",
      "   at Submission#27.<<Initialize>>d__0.MoveNext()\n",
      "--- End of stack trace from previous location ---\n",
      "   at Microsoft.CodeAnalysis.Scripting.ScriptExecutionState.RunSubmissionsAsync[TResult](ImmutableArray`1 precedingExecutors, Func`2 currentExecutor, StrongBox`1 exceptionHolderOpt, Func`2 catchExceptionOpt, CancellationToken cancellationToken)"
     ]
    }
   ],
   "source": [
    "var scorer = model.Transform(df);\n",
    "\n",
    "// If the model supports calibration, we could use Evaluate instead\n",
    "var evalResults = context.BinaryClassification.EvaluateNonCalibrated(model.Transform(df), labelColumnName: \"Label\");\n",
    "\n",
    "// Let's see how it performed\n",
    "MLCharts.ClassificationReport(evalResults)"
   ]
  },
  {
   "cell_type": "code",
   "execution_count": 15,
   "metadata": {
    "dotnet_interactive": {
     "language": "csharp"
    },
    "polyglot_notebook": {
     "kernelName": "csharp"
    },
    "vscode": {
     "languageId": "polyglot-notebook"
    }
   },
   "outputs": [
    {
     "data": {
      "text/html": [
       "<table id=\"table_638547757264596265\"><thead><tr><th><i>index</i></th><th>Model</th><th>F1 Score</th><th>Accuracy</th><th>Positive Precision</th><th>Positive Recall</th><th>Negative Precision</th><th>Negative Recall</th><th>AUC</th><th>AUCPR</th></tr></thead><tbody><tr><td><i><div class=\"dni-plaintext\"><pre>0</pre></div></i></td><td>TextFeaturizerAuto</td><td><div class=\"dni-plaintext\"><pre>0.6725663716814161</pre></div></td><td><div class=\"dni-plaintext\"><pre>0.8517034068136272</pre></div></td><td><div class=\"dni-plaintext\"><pre>0.9382716049382716</pre></div></td><td><div class=\"dni-plaintext\"><pre>0.5241379310344828</pre></div></td><td><div class=\"dni-plaintext\"><pre>0.8349282296650717</pre></div></td><td><div class=\"dni-plaintext\"><pre>0.9858757062146892</pre></div></td><td><div class=\"dni-plaintext\"><pre>0.879972725501656</pre></div></td><td><div class=\"dni-plaintext\"><pre>0.8034930448327863</pre></div></td></tr><tr><td><i><div class=\"dni-plaintext\"><pre>1</pre></div></i></td><td>CustomPipelineAuto</td><td><div class=\"dni-plaintext\"><pre>0.6725663716814161</pre></div></td><td><div class=\"dni-plaintext\"><pre>0.8517034068136272</pre></div></td><td><div class=\"dni-plaintext\"><pre>0.9382716049382716</pre></div></td><td><div class=\"dni-plaintext\"><pre>0.5241379310344828</pre></div></td><td><div class=\"dni-plaintext\"><pre>0.8349282296650717</pre></div></td><td><div class=\"dni-plaintext\"><pre>0.9858757062146892</pre></div></td><td><div class=\"dni-plaintext\"><pre>0.879972725501656</pre></div></td><td><div class=\"dni-plaintext\"><pre>0.8034930448327863</pre></div></td></tr></tbody></table><style>\r\n",
       ".dni-code-hint {\r\n",
       "    font-style: italic;\r\n",
       "    overflow: hidden;\r\n",
       "    white-space: nowrap;\r\n",
       "}\r\n",
       ".dni-treeview {\r\n",
       "    white-space: nowrap;\r\n",
       "}\r\n",
       ".dni-treeview td {\r\n",
       "    vertical-align: top;\r\n",
       "    text-align: start;\r\n",
       "}\r\n",
       "details.dni-treeview {\r\n",
       "    padding-left: 1em;\r\n",
       "}\r\n",
       "table td {\r\n",
       "    text-align: start;\r\n",
       "}\r\n",
       "table tr { \r\n",
       "    vertical-align: top; \r\n",
       "    margin: 0em 0px;\r\n",
       "}\r\n",
       "table tr td pre \r\n",
       "{ \r\n",
       "    vertical-align: top !important; \r\n",
       "    margin: 0em 0px !important;\r\n",
       "} \r\n",
       "table th {\r\n",
       "    text-align: start;\r\n",
       "}\r\n",
       "</style>"
      ]
     },
     "metadata": {},
     "output_type": "display_data"
    }
   ],
   "source": [
    "// Save the model\n",
    "context.Model.Save(model, ((IDataView)df).Schema, $\"models/CustomPipelineAuto.zip\");\n",
    "\n",
    "// Record the model\n",
    "modelTracker.Register(\"CustomPipelineAuto\", evalResults).ToDataFrame()"
   ]
  },
  {
   "cell_type": "markdown",
   "metadata": {},
   "source": [
    "## Deep Learning\n",
    "This uses TorchSharp and Roberta to fine-tune a model onto our text examples.\n",
    "\n",
    "In ML.NET this is only available as multi-class classification, so we'll run this as a multi-class classification experiment even though there are only 2 classes."
   ]
  },
  {
   "cell_type": "code",
   "execution_count": 16,
   "metadata": {
    "dotnet_interactive": {
     "language": "csharp"
    },
    "polyglot_notebook": {
     "kernelName": "csharp"
    },
    "vscode": {
     "languageId": "polyglot-notebook"
    }
   },
   "outputs": [
    {
     "data": {
      "text/html": [
       "<table id=\"table_638547757265341930\"><thead><tr><th><i>index</i></th><th>Label</th><th>Message</th><th>IsMerge</th><th>WorkItems</th><th>TotalFiles</th><th>ModifiedFiles</th><th>AddedFiles</th><th>DeletedFiles</th><th>TotalLines</th><th>NetLines</th><th>AddedLines</th><th>DeletedLines</th><th>HasAddedFiles</th><th>HasDeletedFiles</th><th>MessageLength</th><th>WordCount</th></tr></thead><tbody><tr><td><i><div class=\"dni-plaintext\"><pre>0</pre></div></i></td><td><div class=\"dni-plaintext\"><pre>1</pre></div></td><td>rework connect api</td><td><div class=\"dni-plaintext\"><pre>False</pre></div></td><td><div class=\"dni-plaintext\"><pre>0</pre></div></td><td><div class=\"dni-plaintext\"><pre>24</pre></div></td><td><div class=\"dni-plaintext\"><pre>16</pre></div></td><td><div class=\"dni-plaintext\"><pre>4</pre></div></td><td><div class=\"dni-plaintext\"><pre>4</pre></div></td><td><div class=\"dni-plaintext\"><pre>2135</pre></div></td><td><div class=\"dni-plaintext\"><pre>61</pre></div></td><td><div class=\"dni-plaintext\"><pre>317</pre></div></td><td><div class=\"dni-plaintext\"><pre>256</pre></div></td><td><div class=\"dni-plaintext\"><pre>True</pre></div></td><td><div class=\"dni-plaintext\"><pre>True</pre></div></td><td><div class=\"dni-plaintext\"><pre>18</pre></div></td><td><div class=\"dni-plaintext\"><pre>3</pre></div></td></tr><tr><td><i><div class=\"dni-plaintext\"><pre>1</pre></div></i></td><td><div class=\"dni-plaintext\"><pre>0</pre></div></td><td>deferred command have token starting with label &quot;deferredCommand::&quot;</td><td><div class=\"dni-plaintext\"><pre>False</pre></div></td><td><div class=\"dni-plaintext\"><pre>0</pre></div></td><td><div class=\"dni-plaintext\"><pre>4</pre></div></td><td><div class=\"dni-plaintext\"><pre>4</pre></div></td><td><div class=\"dni-plaintext\"><pre>0</pre></div></td><td><div class=\"dni-plaintext\"><pre>0</pre></div></td><td><div class=\"dni-plaintext\"><pre>1544</pre></div></td><td><div class=\"dni-plaintext\"><pre>1</pre></div></td><td><div class=\"dni-plaintext\"><pre>8</pre></div></td><td><div class=\"dni-plaintext\"><pre>7</pre></div></td><td><div class=\"dni-plaintext\"><pre>False</pre></div></td><td><div class=\"dni-plaintext\"><pre>False</pre></div></td><td><div class=\"dni-plaintext\"><pre>67</pre></div></td><td><div class=\"dni-plaintext\"><pre>8</pre></div></td></tr><tr><td><i><div class=\"dni-plaintext\"><pre>2</pre></div></i></td><td><div class=\"dni-plaintext\"><pre>1</pre></div></td><td>Address assembly reference issue and add test</td><td><div class=\"dni-plaintext\"><pre>False</pre></div></td><td><div class=\"dni-plaintext\"><pre>0</pre></div></td><td><div class=\"dni-plaintext\"><pre>2</pre></div></td><td><div class=\"dni-plaintext\"><pre>2</pre></div></td><td><div class=\"dni-plaintext\"><pre>0</pre></div></td><td><div class=\"dni-plaintext\"><pre>0</pre></div></td><td><div class=\"dni-plaintext\"><pre>632</pre></div></td><td><div class=\"dni-plaintext\"><pre>23</pre></div></td><td><div class=\"dni-plaintext\"><pre>25</pre></div></td><td><div class=\"dni-plaintext\"><pre>2</pre></div></td><td><div class=\"dni-plaintext\"><pre>False</pre></div></td><td><div class=\"dni-plaintext\"><pre>False</pre></div></td><td><div class=\"dni-plaintext\"><pre>45</pre></div></td><td><div class=\"dni-plaintext\"><pre>7</pre></div></td></tr><tr><td><i><div class=\"dni-plaintext\"><pre>3</pre></div></i></td><td><div class=\"dni-plaintext\"><pre>0</pre></div></td><td>enable #!share on js for vscode</td><td><div class=\"dni-plaintext\"><pre>False</pre></div></td><td><div class=\"dni-plaintext\"><pre>0</pre></div></td><td><div class=\"dni-plaintext\"><pre>1</pre></div></td><td><div class=\"dni-plaintext\"><pre>1</pre></div></td><td><div class=\"dni-plaintext\"><pre>0</pre></div></td><td><div class=\"dni-plaintext\"><pre>0</pre></div></td><td><div class=\"dni-plaintext\"><pre>58</pre></div></td><td><div class=\"dni-plaintext\"><pre>2</pre></div></td><td><div class=\"dni-plaintext\"><pre>2</pre></div></td><td><div class=\"dni-plaintext\"><pre>0</pre></div></td><td><div class=\"dni-plaintext\"><pre>False</pre></div></td><td><div class=\"dni-plaintext\"><pre>False</pre></div></td><td><div class=\"dni-plaintext\"><pre>31</pre></div></td><td><div class=\"dni-plaintext\"><pre>6</pre></div></td></tr><tr><td><i><div class=\"dni-plaintext\"><pre>4</pre></div></i></td><td><div class=\"dni-plaintext\"><pre>0</pre></div></td><td>Update dependencies from https://github.com/dotnet/arcade build 20230411.2 (#2908)</td><td><div class=\"dni-plaintext\"><pre>False</pre></div></td><td><div class=\"dni-plaintext\"><pre>1</pre></div></td><td><div class=\"dni-plaintext\"><pre>3</pre></div></td><td><div class=\"dni-plaintext\"><pre>3</pre></div></td><td><div class=\"dni-plaintext\"><pre>0</pre></div></td><td><div class=\"dni-plaintext\"><pre>0</pre></div></td><td><div class=\"dni-plaintext\"><pre>169</pre></div></td><td><div class=\"dni-plaintext\"><pre>0</pre></div></td><td><div class=\"dni-plaintext\"><pre>6</pre></div></td><td><div class=\"dni-plaintext\"><pre>6</pre></div></td><td><div class=\"dni-plaintext\"><pre>False</pre></div></td><td><div class=\"dni-plaintext\"><pre>False</pre></div></td><td><div class=\"dni-plaintext\"><pre>82</pre></div></td><td><div class=\"dni-plaintext\"><pre>7</pre></div></td></tr></tbody></table><style>\r\n",
       ".dni-code-hint {\r\n",
       "    font-style: italic;\r\n",
       "    overflow: hidden;\r\n",
       "    white-space: nowrap;\r\n",
       "}\r\n",
       ".dni-treeview {\r\n",
       "    white-space: nowrap;\r\n",
       "}\r\n",
       ".dni-treeview td {\r\n",
       "    vertical-align: top;\r\n",
       "    text-align: start;\r\n",
       "}\r\n",
       "details.dni-treeview {\r\n",
       "    padding-left: 1em;\r\n",
       "}\r\n",
       "table td {\r\n",
       "    text-align: start;\r\n",
       "}\r\n",
       "table tr { \r\n",
       "    vertical-align: top; \r\n",
       "    margin: 0em 0px;\r\n",
       "}\r\n",
       "table tr td pre \r\n",
       "{ \r\n",
       "    vertical-align: top !important; \r\n",
       "    margin: 0em 0px !important;\r\n",
       "} \r\n",
       "table th {\r\n",
       "    text-align: start;\r\n",
       "}\r\n",
       "</style>"
      ]
     },
     "metadata": {},
     "output_type": "display_data"
    }
   ],
   "source": [
    "var dfMultiClass = df.Clone();\n",
    "dfMultiClass[\"Label\"] = new PrimitiveDataFrameColumn<uint>(\"Label\", dfMultiClass[\"Label\"].Cast<bool>().Select(x => x ? (uint)1 : (uint)0));\n",
    "dfMultiClass.Sample(5)"
   ]
  },
  {
   "cell_type": "code",
   "execution_count": 17,
   "metadata": {
    "dotnet_interactive": {
     "language": "csharp"
    },
    "polyglot_notebook": {
     "kernelName": "csharp"
    },
    "vscode": {
     "languageId": "polyglot-notebook"
    }
   },
   "outputs": [
    {
     "data": {
      "text/html": [
       "<div class=\"mermaidMarkdownContainer\" style=\"background-color:white\">\n",
       "<link rel=\"stylesheet\" href=\"https://cdnjs.cloudflare.com/ajax/libs/font-awesome/6.2.0/css/all.min.css\">\n",
       "<div id=\"1afa188fe73e4556b6432444aed271ab\"></div>\n",
       "<script type=\"module\">\n",
       "\r\n",
       "            import mermaid from 'https://cdn.jsdelivr.net/npm/mermaid@10.6.1/dist/mermaid.esm.min.mjs';\r\n",
       "            let renderTarget = document.getElementById('1afa188fe73e4556b6432444aed271ab');\r\n",
       "            try {\r\n",
       "                const {svg, bindFunctions} = await mermaid.mermaidAPI.render( \r\n",
       "                    'mermaid_1afa188fe73e4556b6432444aed271ab', \r\n",
       "                    `stateDiagram-v2\n",
       "state \"TransformerChain\" AS t1 {\n",
       "t1_1: ValueToKeyMappingTransformer\n",
       "note right of t1_1\n",
       "Converts input values (words, numbers, etc.) to index in a dictionary.\n",
       "end note\n",
       "t1_2: TextClassificationTransformer\n",
       "note right of t1_2\n",
       "NLP with NAS-BERT\n",
       "end note\n",
       "t1_3: KeyToValueMappingTransformer\n",
       "t1_1 --> t1_2\n",
       "t1_2 --> t1_3\n",
       "}\n",
       "\n",
       "`);\r\n",
       "                renderTarget.innerHTML = svg;\r\n",
       "                bindFunctions?.(renderTarget);\r\n",
       "            }\r\n",
       "            catch (error) {\r\n",
       "                console.log(error);\r\n",
       "            }\n",
       "</script>\n",
       "</div>\n"
      ]
     },
     "metadata": {},
     "output_type": "display_data"
    },
    {
     "data": {
      "text/html": [
       "<details open=\"open\" class=\"dni-treeview\"><summary><span class=\"dni-code-hint\"><code>[ Microsoft.ML.Transforms.ValueToKeyMappingTransformer, Microsoft.ML.TorchSharp.NasBert.TextClassificationTransformer, Microsoft.ML.Transforms.KeyToValueMappingTransformer ]</code></span></summary><div><table><thead><tr></tr></thead><tbody><tr><td>LastTransformer</td><td><details class=\"dni-treeview\"><summary><span class=\"dni-code-hint\"><code>Microsoft.ML.Transforms.KeyToValueMappingTransformer</code></span></summary><div><table><thead><tr></tr></thead><tbody></tbody></table></div></details></td></tr><tr><td><i>(values)</i></td><td><table><thead><tr><th><i>index</i></th><th><i>type</i></th><th>value</th></tr></thead><tbody><tr><td>0</td><td><span><a href=\"https://docs.microsoft.com/dotnet/api/microsoft.ml.transforms.valuetokeymappingtransformer?view=net-7.0\">Microsoft.ML.Transforms.ValueToKeyMappingTransformer</a></span></td><td><details class=\"dni-treeview\"><summary><span class=\"dni-code-hint\"><code>Microsoft.ML.Transforms.ValueToKeyMappingTransformer</code></span></summary><div><table><thead><tr></tr></thead><tbody></tbody></table></div></details></td></tr><tr><td>1</td><td><span><a href=\"https://docs.microsoft.com/dotnet/api/microsoft.ml.torchsharp.nasbert.textclassificationtransformer?view=net-7.0\">Microsoft.ML.TorchSharp.NasBert.TextClassificationTransformer</a></span></td><td><details class=\"dni-treeview\"><summary><span class=\"dni-code-hint\"><code>Microsoft.ML.TorchSharp.NasBert.TextClassificationTransformer</code></span></summary><div><table><thead><tr></tr></thead><tbody><tr><td>SentenceColumn</td><td><details class=\"dni-treeview\"><summary><span class=\"dni-code-hint\"><code>Microsoft.ML.SchemaShape+Column</code></span></summary><div><table><thead><tr></tr></thead><tbody><tr><td>Name</td><td><div class=\"dni-plaintext\"><pre>Message</pre></div></td></tr><tr><td>Kind</td><td><span>Scalar</span></td></tr><tr><td>ItemType</td><td><details class=\"dni-treeview\"><summary><span class=\"dni-code-hint\"><code>String</code></span></summary><div><table><thead><tr></tr></thead><tbody><tr><td>RawType</td><td><span><a href=\"https://docs.microsoft.com/dotnet/api/system.readonlymemory-1?view=net-7.0\">System.ReadOnlyMemory&lt;System.Char&gt;</a></span></td></tr></tbody></table></div></details></td></tr><tr><td>IsKey</td><td><div class=\"dni-plaintext\"><pre>False</pre></div></td></tr><tr><td>Annotations</td><td><details class=\"dni-treeview\"><summary><span class=\"dni-code-hint\"><code>[  ]</code></span></summary><div><table><thead><tr></tr></thead><tbody><tr><td>Count</td><td><div class=\"dni-plaintext\"><pre>0</pre></div></td></tr><tr><td><i>(values)</i></td><td><i>(empty)</i></td></tr></tbody></table></div></details></td></tr></tbody></table></div></details></td></tr><tr><td>SentenceColumn2</td><td><details class=\"dni-treeview\"><summary><span class=\"dni-code-hint\"><code>Microsoft.ML.SchemaShape+Column</code></span></summary><div><table><thead><tr></tr></thead><tbody><tr><td>Name</td><td><div class=\"dni-plaintext\"><pre>&lt;null&gt;</pre></div></td></tr><tr><td>Kind</td><td><span>Scalar</span></td></tr><tr><td>ItemType</td><td><div class=\"dni-plaintext\"><pre>&lt;null&gt;</pre></div></td></tr><tr><td>IsKey</td><td><div class=\"dni-plaintext\"><pre>False</pre></div></td></tr><tr><td>Annotations</td><td><div class=\"dni-plaintext\"><pre>&lt;null&gt;</pre></div></td></tr></tbody></table></div></details></td></tr><tr><td>LabelColumn</td><td><details class=\"dni-treeview\"><summary><span class=\"dni-code-hint\"><code>Microsoft.ML.DataViewSchema+DetachedColumn</code></span></summary><div><table><thead><tr></tr></thead><tbody><tr><td>Name</td><td><div class=\"dni-plaintext\"><pre>Label</pre></div></td></tr><tr><td>Type</td><td><details class=\"dni-treeview\"><summary><span class=\"dni-code-hint\"><code>Key&lt;UInt32, 0-1&gt;</code></span></summary><div><table><thead><tr></tr></thead><tbody><tr><td>Count</td><td><div class=\"dni-plaintext\"><pre>2</pre></div></td></tr><tr><td>RawType</td><td><span><a href=\"https://docs.microsoft.com/dotnet/api/system.uint32?view=net-7.0\">System.UInt32</a></span></td></tr></tbody></table></div></details></td></tr><tr><td>Annotations</td><td><details class=\"dni-treeview\"><summary><span class=\"dni-code-hint\"><code>KeyValues</code></span></summary><div><table><thead><tr></tr></thead><tbody><tr><td>Schema</td><td><details class=\"dni-treeview\"><summary><span class=\"dni-code-hint\"><code>[ KeyValues: Vector&lt;UInt32, 2&gt; ]</code></span></summary><div><table><thead><tr></tr></thead><tbody><tr><td>Count</td><td><div class=\"dni-plaintext\"><pre>1</pre></div></td></tr><tr><td><i>(values)</i></td><td><table><thead><tr><th><i>index</i></th><th>value</th></tr></thead><tbody><tr><td>0</td><td><details class=\"dni-treeview\"><summary><span class=\"dni-code-hint\"><code>KeyValues: Vector&lt;UInt32, 2&gt;</code></span></summary><div><table><thead><tr></tr></thead><tbody><tr><td>Name</td><td>KeyValues</td></tr><tr><td>Index</td><td>0</td></tr><tr><td>IsHidden</td><td>False</td></tr><tr><td>Type</td><td>Vector<UInt32, 2></td></tr><tr><td>Annotations</td><td></td></tr></tbody></table></div></details></td></tr></tbody></table></td></tr></tbody></table></div></details></td></tr></tbody></table></div></details></td></tr></tbody></table></div></details></td></tr></tbody></table></div></details></td></tr><tr><td>2</td><td><span><a href=\"https://docs.microsoft.com/dotnet/api/microsoft.ml.transforms.keytovaluemappingtransformer?view=net-7.0\">Microsoft.ML.Transforms.KeyToValueMappingTransformer</a></span></td><td><details class=\"dni-treeview\"><summary><span class=\"dni-code-hint\"><code>Microsoft.ML.Transforms.KeyToValueMappingTransformer</code></span></summary><div><table><thead><tr></tr></thead><tbody></tbody></table></div></details></td></tr></tbody></table></td></tr></tbody></table></div></details><style>\r\n",
       ".dni-code-hint {\r\n",
       "    font-style: italic;\r\n",
       "    overflow: hidden;\r\n",
       "    white-space: nowrap;\r\n",
       "}\r\n",
       ".dni-treeview {\r\n",
       "    white-space: nowrap;\r\n",
       "}\r\n",
       ".dni-treeview td {\r\n",
       "    vertical-align: top;\r\n",
       "    text-align: start;\r\n",
       "}\r\n",
       "details.dni-treeview {\r\n",
       "    padding-left: 1em;\r\n",
       "}\r\n",
       "table td {\r\n",
       "    text-align: start;\r\n",
       "}\r\n",
       "table tr { \r\n",
       "    vertical-align: top; \r\n",
       "    margin: 0em 0px;\r\n",
       "}\r\n",
       "table tr td pre \r\n",
       "{ \r\n",
       "    vertical-align: top !important; \r\n",
       "    margin: 0em 0px !important;\r\n",
       "} \r\n",
       "table th {\r\n",
       "    text-align: start;\r\n",
       "}\r\n",
       "</style>"
      ]
     },
     "metadata": {},
     "output_type": "display_data"
    }
   ],
   "source": [
    "TorchSharp.torch.InitializeDeviceType(DeviceType.CPU);\n",
    "\n",
    "MLContext context = new(seed: seed) {\n",
    "    GpuDeviceId = 0,\n",
    "    FallbackToCpu = true\n",
    "};\n",
    "\n",
    "var split = context.Data.TrainTestSplit(dfMultiClass, testFraction: 0.3, seed: seed);\n",
    "\n",
    "var valueToKey = context.Transforms.Conversion.MapValueToKey(outputColumnName: \"Label\", inputColumnName: \"Label\");\n",
    "var bert = context.MulticlassClassification.Trainers.TextClassification(sentence1ColumnName: \"Message\", architecture: BertArchitecture.Roberta, validationSet: split.TestSet);\n",
    "var keyToValue = context.Transforms.Conversion.MapKeyToValue(outputColumnName: \"PredictedLabel\", inputColumnName: \"PredictedLabel\");\n",
    "\n",
    "// Train our model using this pipeline\n",
    "var pipeline = valueToKey.Append(bert).Append(keyToValue);\n",
    "ITransformer model = pipeline.Fit(split.TrainSet);\n",
    "\n",
    "// Get basics about the model\n",
    "#!transformer-vis model -n\n",
    "model"
   ]
  },
  {
   "cell_type": "code",
   "execution_count": 18,
   "metadata": {
    "dotnet_interactive": {
     "language": "csharp"
    },
    "polyglot_notebook": {
     "kernelName": "csharp"
    },
    "vscode": {
     "languageId": "polyglot-notebook"
    }
   },
   "outputs": [
    {
     "data": {
      "text/html": [
       "<details open=\"open\" class=\"dni-treeview\"><summary><span class=\"dni-code-hint\"><code>Microsoft.ML.Data.MulticlassClassificationMetrics</code></span></summary><div><table><thead><tr></tr></thead><tbody><tr><td>LogLoss</td><td><div class=\"dni-plaintext\"><pre>12.313935586506844</pre></div></td></tr><tr><td>LogLossReduction</td><td><div class=\"dni-plaintext\"><pre>-18.598609164838216</pre></div></td></tr><tr><td>MacroAccuracy</td><td><div class=\"dni-plaintext\"><pre>0.6662368364496024</pre></div></td></tr><tr><td>MicroAccuracy</td><td><div class=\"dni-plaintext\"><pre>0.7671232876712328</pre></div></td></tr><tr><td>TopKAccuracy</td><td><div class=\"dni-plaintext\"><pre>0</pre></div></td></tr><tr><td>TopKPredictionCount</td><td><div class=\"dni-plaintext\"><pre>0</pre></div></td></tr><tr><td>TopKAccuracyForAllK</td><td><div class=\"dni-plaintext\"><pre>&lt;null&gt;</pre></div></td></tr><tr><td>PerClassLogLoss</td><td><div class=\"dni-plaintext\"><pre>[ 6.883503274328664, 23.752505775988542 ]</pre></div></td></tr><tr><td>ConfusionMatrix</td><td><details class=\"dni-treeview\"><summary><span class=\"dni-code-hint\"><code>Microsoft.ML.Data.ConfusionMatrix</code></span></summary><div><table><thead><tr></tr></thead><tbody><tr><td>PerClassPrecision</td><td><div class=\"dni-plaintext\"><pre>[ 0.7642276422764228, 0.782608695652174 ]</pre></div></td></tr><tr><td>PerClassRecall</td><td><div class=\"dni-plaintext\"><pre>[ 0.9494949494949495, 0.3829787234042553 ]</pre></div></td></tr><tr><td>Counts</td><td><table><thead><tr><th><i>index</i></th><th>value</th></tr></thead><tbody><tr><td>0</td><td><div class=\"dni-plaintext\"><pre>[ 94, 5 ]</pre></div></td></tr><tr><td>1</td><td><div class=\"dni-plaintext\"><pre>[ 29, 18 ]</pre></div></td></tr></tbody></table></td></tr><tr><td>NumberOfClasses</td><td><div class=\"dni-plaintext\"><pre>2</pre></div></td></tr></tbody></table></div></details></td></tr></tbody></table></div></details><style>\r\n",
       ".dni-code-hint {\r\n",
       "    font-style: italic;\r\n",
       "    overflow: hidden;\r\n",
       "    white-space: nowrap;\r\n",
       "}\r\n",
       ".dni-treeview {\r\n",
       "    white-space: nowrap;\r\n",
       "}\r\n",
       ".dni-treeview td {\r\n",
       "    vertical-align: top;\r\n",
       "    text-align: start;\r\n",
       "}\r\n",
       "details.dni-treeview {\r\n",
       "    padding-left: 1em;\r\n",
       "}\r\n",
       "table td {\r\n",
       "    text-align: start;\r\n",
       "}\r\n",
       "table tr { \r\n",
       "    vertical-align: top; \r\n",
       "    margin: 0em 0px;\r\n",
       "}\r\n",
       "table tr td pre \r\n",
       "{ \r\n",
       "    vertical-align: top !important; \r\n",
       "    margin: 0em 0px !important;\r\n",
       "} \r\n",
       "table th {\r\n",
       "    text-align: start;\r\n",
       "}\r\n",
       "</style>"
      ]
     },
     "metadata": {},
     "output_type": "display_data"
    }
   ],
   "source": [
    "var scorer = model.Transform(split.TestSet);\n",
    "var evalResults = context.MulticlassClassification.Evaluate(model.Transform(split.TestSet));\n",
    "\n",
    "evalResults"
   ]
  },
  {
   "cell_type": "code",
   "execution_count": 19,
   "metadata": {
    "dotnet_interactive": {
     "language": "csharp"
    },
    "polyglot_notebook": {
     "kernelName": "csharp"
    },
    "vscode": {
     "languageId": "polyglot-notebook"
    }
   },
   "outputs": [
    {
     "data": {
      "text/html": [
       "<div><div id=\"942aa699-e833-43e6-beba-d683bdd1efde\"><!-- Plotly chart will be drawn inside this DIV --></div><script type=\"text/javascript\">\n",
       "var renderPlotly_942aa699e83343e6bebad683bdd1efde = function() {\n",
       "    var fsharpPlotlyRequire = requirejs.config({context:'fsharp-plotly',paths:{plotly:'https://cdn.plot.ly/plotly-2.27.1.min'}}) || require;\n",
       "    fsharpPlotlyRequire(['plotly'], function(Plotly) {\n",
       "        var data = [{\"type\":\"heatmap\",\"x\":[\"Non-Bugfix\",\"Bugfix\"],\"y\":[\"Non-Bugfix\",\"Bugfix\"],\"z\":[[94.0,5.0],[29.0,18.0]],\"colorscale\":[[0.0,\"#FFFFFF\"],[0.5,\"#009dcf\"],[1.0,\"#003171\"]],\"showscale\":false}];\n",
       "        var layout = {\"width\":600,\"height\":600,\"template\":{\"layout\":{\"title\":{\"x\":0.05},\"font\":{\"color\":\"rgba(42, 63, 95, 1.0)\"},\"paper_bgcolor\":\"rgba(255, 255, 255, 1.0)\",\"plot_bgcolor\":\"rgba(229, 236, 246, 1.0)\",\"autotypenumbers\":\"strict\",\"colorscale\":{\"diverging\":[[0.0,\"#8e0152\"],[0.1,\"#c51b7d\"],[0.2,\"#de77ae\"],[0.3,\"#f1b6da\"],[0.4,\"#fde0ef\"],[0.5,\"#f7f7f7\"],[0.6,\"#e6f5d0\"],[0.7,\"#b8e186\"],[0.8,\"#7fbc41\"],[0.9,\"#4d9221\"],[1.0,\"#276419\"]],\"sequential\":[[0.0,\"#0d0887\"],[0.1111111111111111,\"#46039f\"],[0.2222222222222222,\"#7201a8\"],[0.3333333333333333,\"#9c179e\"],[0.4444444444444444,\"#bd3786\"],[0.5555555555555556,\"#d8576b\"],[0.6666666666666666,\"#ed7953\"],[0.7777777777777778,\"#fb9f3a\"],[0.8888888888888888,\"#fdca26\"],[1.0,\"#f0f921\"]],\"sequentialminus\":[[0.0,\"#0d0887\"],[0.1111111111111111,\"#46039f\"],[0.2222222222222222,\"#7201a8\"],[0.3333333333333333,\"#9c179e\"],[0.4444444444444444,\"#bd3786\"],[0.5555555555555556,\"#d8576b\"],[0.6666666666666666,\"#ed7953\"],[0.7777777777777778,\"#fb9f3a\"],[0.8888888888888888,\"#fdca26\"],[1.0,\"#f0f921\"]]},\"hovermode\":\"closest\",\"hoverlabel\":{\"align\":\"left\"},\"coloraxis\":{\"colorbar\":{\"outlinewidth\":0.0,\"ticks\":\"\"}},\"geo\":{\"showland\":true,\"landcolor\":\"rgba(229, 236, 246, 1.0)\",\"showlakes\":true,\"lakecolor\":\"rgba(255, 255, 255, 1.0)\",\"subunitcolor\":\"rgba(255, 255, 255, 1.0)\",\"bgcolor\":\"rgba(255, 255, 255, 1.0)\"},\"mapbox\":{\"style\":\"light\"},\"polar\":{\"bgcolor\":\"rgba(229, 236, 246, 1.0)\",\"radialaxis\":{\"linecolor\":\"rgba(255, 255, 255, 1.0)\",\"gridcolor\":\"rgba(255, 255, 255, 1.0)\",\"ticks\":\"\"},\"angularaxis\":{\"linecolor\":\"rgba(255, 255, 255, 1.0)\",\"gridcolor\":\"rgba(255, 255, 255, 1.0)\",\"ticks\":\"\"}},\"scene\":{\"xaxis\":{\"ticks\":\"\",\"linecolor\":\"rgba(255, 255, 255, 1.0)\",\"gridcolor\":\"rgba(255, 255, 255, 1.0)\",\"gridwidth\":2.0,\"zerolinecolor\":\"rgba(255, 255, 255, 1.0)\",\"backgroundcolor\":\"rgba(229, 236, 246, 1.0)\",\"showbackground\":true},\"yaxis\":{\"ticks\":\"\",\"linecolor\":\"rgba(255, 255, 255, 1.0)\",\"gridcolor\":\"rgba(255, 255, 255, 1.0)\",\"gridwidth\":2.0,\"zerolinecolor\":\"rgba(255, 255, 255, 1.0)\",\"backgroundcolor\":\"rgba(229, 236, 246, 1.0)\",\"showbackground\":true},\"zaxis\":{\"ticks\":\"\",\"linecolor\":\"rgba(255, 255, 255, 1.0)\",\"gridcolor\":\"rgba(255, 255, 255, 1.0)\",\"gridwidth\":2.0,\"zerolinecolor\":\"rgba(255, 255, 255, 1.0)\",\"backgroundcolor\":\"rgba(229, 236, 246, 1.0)\",\"showbackground\":true}},\"ternary\":{\"aaxis\":{\"ticks\":\"\",\"linecolor\":\"rgba(255, 255, 255, 1.0)\",\"gridcolor\":\"rgba(255, 255, 255, 1.0)\"},\"baxis\":{\"ticks\":\"\",\"linecolor\":\"rgba(255, 255, 255, 1.0)\",\"gridcolor\":\"rgba(255, 255, 255, 1.0)\"},\"caxis\":{\"ticks\":\"\",\"linecolor\":\"rgba(255, 255, 255, 1.0)\",\"gridcolor\":\"rgba(255, 255, 255, 1.0)\"},\"bgcolor\":\"rgba(229, 236, 246, 1.0)\"},\"xaxis\":{\"title\":{\"standoff\":15},\"ticks\":\"\",\"automargin\":\"height+width+left+right+top+bottom\",\"linecolor\":\"rgba(255, 255, 255, 1.0)\",\"gridcolor\":\"rgba(255, 255, 255, 1.0)\",\"zerolinecolor\":\"rgba(255, 255, 255, 1.0)\",\"zerolinewidth\":2.0},\"yaxis\":{\"title\":{\"standoff\":15},\"ticks\":\"\",\"automargin\":\"height+width+left+right+top+bottom\",\"linecolor\":\"rgba(255, 255, 255, 1.0)\",\"gridcolor\":\"rgba(255, 255, 255, 1.0)\",\"zerolinecolor\":\"rgba(255, 255, 255, 1.0)\",\"zerolinewidth\":2.0},\"annotationdefaults\":{\"arrowcolor\":\"#2a3f5f\",\"arrowhead\":0,\"arrowwidth\":1},\"shapedefaults\":{\"line\":{\"color\":\"rgba(42, 63, 95, 1.0)\"}},\"colorway\":[\"rgba(99, 110, 250, 1.0)\",\"rgba(239, 85, 59, 1.0)\",\"rgba(0, 204, 150, 1.0)\",\"rgba(171, 99, 250, 1.0)\",\"rgba(255, 161, 90, 1.0)\",\"rgba(25, 211, 243, 1.0)\",\"rgba(255, 102, 146, 1.0)\",\"rgba(182, 232, 128, 1.0)\",\"rgba(255, 151, 255, 1.0)\",\"rgba(254, 203, 82, 1.0)\"]},\"data\":{\"bar\":[{\"marker\":{\"line\":{\"color\":\"rgba(229, 236, 246, 1.0)\",\"width\":0.5},\"pattern\":{\"fillmode\":\"overlay\",\"size\":10,\"solidity\":0.2}},\"error_x\":{\"color\":\"rgba(42, 63, 95, 1.0)\"},\"error_y\":{\"color\":\"rgba(42, 63, 95, 1.0)\"}}],\"barpolar\":[{\"marker\":{\"line\":{\"color\":\"rgba(229, 236, 246, 1.0)\",\"width\":0.5},\"pattern\":{\"fillmode\":\"overlay\",\"size\":10,\"solidity\":0.2}}}],\"carpet\":[{\"aaxis\":{\"linecolor\":\"rgba(255, 255, 255, 1.0)\",\"gridcolor\":\"rgba(255, 255, 255, 1.0)\",\"endlinecolor\":\"rgba(42, 63, 95, 1.0)\",\"minorgridcolor\":\"rgba(255, 255, 255, 1.0)\",\"startlinecolor\":\"rgba(42, 63, 95, 1.0)\"},\"baxis\":{\"linecolor\":\"rgba(255, 255, 255, 1.0)\",\"gridcolor\":\"rgba(255, 255, 255, 1.0)\",\"endlinecolor\":\"rgba(42, 63, 95, 1.0)\",\"minorgridcolor\":\"rgba(255, 255, 255, 1.0)\",\"startlinecolor\":\"rgba(42, 63, 95, 1.0)\"}}],\"choropleth\":[{\"colorbar\":{\"outlinewidth\":0.0,\"ticks\":\"\"},\"colorscale\":[[0.0,\"#0d0887\"],[0.1111111111111111,\"#46039f\"],[0.2222222222222222,\"#7201a8\"],[0.3333333333333333,\"#9c179e\"],[0.4444444444444444,\"#bd3786\"],[0.5555555555555556,\"#d8576b\"],[0.6666666666666666,\"#ed7953\"],[0.7777777777777778,\"#fb9f3a\"],[0.8888888888888888,\"#fdca26\"],[1.0,\"#f0f921\"]]}],\"contour\":[{\"colorbar\":{\"outlinewidth\":0.0,\"ticks\":\"\"},\"colorscale\":[[0.0,\"#0d0887\"],[0.1111111111111111,\"#46039f\"],[0.2222222222222222,\"#7201a8\"],[0.3333333333333333,\"#9c179e\"],[0.4444444444444444,\"#bd3786\"],[0.5555555555555556,\"#d8576b\"],[0.6666666666666666,\"#ed7953\"],[0.7777777777777778,\"#fb9f3a\"],[0.8888888888888888,\"#fdca26\"],[1.0,\"#f0f921\"]]}],\"contourcarpet\":[{\"colorbar\":{\"outlinewidth\":0.0,\"ticks\":\"\"}}],\"heatmap\":[{\"colorbar\":{\"outlinewidth\":0.0,\"ticks\":\"\"},\"colorscale\":[[0.0,\"#0d0887\"],[0.1111111111111111,\"#46039f\"],[0.2222222222222222,\"#7201a8\"],[0.3333333333333333,\"#9c179e\"],[0.4444444444444444,\"#bd3786\"],[0.5555555555555556,\"#d8576b\"],[0.6666666666666666,\"#ed7953\"],[0.7777777777777778,\"#fb9f3a\"],[0.8888888888888888,\"#fdca26\"],[1.0,\"#f0f921\"]]}],\"heatmapgl\":[{\"colorbar\":{\"outlinewidth\":0.0,\"ticks\":\"\"},\"colorscale\":[[0.0,\"#0d0887\"],[0.1111111111111111,\"#46039f\"],[0.2222222222222222,\"#7201a8\"],[0.3333333333333333,\"#9c179e\"],[0.4444444444444444,\"#bd3786\"],[0.5555555555555556,\"#d8576b\"],[0.6666666666666666,\"#ed7953\"],[0.7777777777777778,\"#fb9f3a\"],[0.8888888888888888,\"#fdca26\"],[1.0,\"#f0f921\"]]}],\"histogram\":[{\"marker\":{\"pattern\":{\"fillmode\":\"overlay\",\"size\":10,\"solidity\":0.2}}}],\"histogram2d\":[{\"colorbar\":{\"outlinewidth\":0.0,\"ticks\":\"\"},\"colorscale\":[[0.0,\"#0d0887\"],[0.1111111111111111,\"#46039f\"],[0.2222222222222222,\"#7201a8\"],[0.3333333333333333,\"#9c179e\"],[0.4444444444444444,\"#bd3786\"],[0.5555555555555556,\"#d8576b\"],[0.6666666666666666,\"#ed7953\"],[0.7777777777777778,\"#fb9f3a\"],[0.8888888888888888,\"#fdca26\"],[1.0,\"#f0f921\"]]}],\"histogram2dcontour\":[{\"colorbar\":{\"outlinewidth\":0.0,\"ticks\":\"\"},\"colorscale\":[[0.0,\"#0d0887\"],[0.1111111111111111,\"#46039f\"],[0.2222222222222222,\"#7201a8\"],[0.3333333333333333,\"#9c179e\"],[0.4444444444444444,\"#bd3786\"],[0.5555555555555556,\"#d8576b\"],[0.6666666666666666,\"#ed7953\"],[0.7777777777777778,\"#fb9f3a\"],[0.8888888888888888,\"#fdca26\"],[1.0,\"#f0f921\"]]}],\"mesh3d\":[{\"colorbar\":{\"outlinewidth\":0.0,\"ticks\":\"\"}}],\"parcoords\":[{\"line\":{\"colorbar\":{\"outlinewidth\":0.0,\"ticks\":\"\"}}}],\"pie\":[{\"automargin\":true}],\"scatter\":[{\"marker\":{\"colorbar\":{\"outlinewidth\":0.0,\"ticks\":\"\"}}}],\"scatter3d\":[{\"marker\":{\"colorbar\":{\"outlinewidth\":0.0,\"ticks\":\"\"}},\"line\":{\"colorbar\":{\"outlinewidth\":0.0,\"ticks\":\"\"}}}],\"scattercarpet\":[{\"marker\":{\"colorbar\":{\"outlinewidth\":0.0,\"ticks\":\"\"}}}],\"scattergeo\":[{\"marker\":{\"colorbar\":{\"outlinewidth\":0.0,\"ticks\":\"\"}}}],\"scattergl\":[{\"marker\":{\"colorbar\":{\"outlinewidth\":0.0,\"ticks\":\"\"}}}],\"scattermapbox\":[{\"marker\":{\"colorbar\":{\"outlinewidth\":0.0,\"ticks\":\"\"}}}],\"scatterpolar\":[{\"marker\":{\"colorbar\":{\"outlinewidth\":0.0,\"ticks\":\"\"}}}],\"scatterpolargl\":[{\"marker\":{\"colorbar\":{\"outlinewidth\":0.0,\"ticks\":\"\"}}}],\"scatterternary\":[{\"marker\":{\"colorbar\":{\"outlinewidth\":0.0,\"ticks\":\"\"}}}],\"surface\":[{\"colorbar\":{\"outlinewidth\":0.0,\"ticks\":\"\"},\"colorscale\":[[0.0,\"#0d0887\"],[0.1111111111111111,\"#46039f\"],[0.2222222222222222,\"#7201a8\"],[0.3333333333333333,\"#9c179e\"],[0.4444444444444444,\"#bd3786\"],[0.5555555555555556,\"#d8576b\"],[0.6666666666666666,\"#ed7953\"],[0.7777777777777778,\"#fb9f3a\"],[0.8888888888888888,\"#fdca26\"],[1.0,\"#f0f921\"]]}],\"table\":[{\"cells\":{\"fill\":{\"color\":\"rgba(235, 240, 248, 1.0)\"},\"line\":{\"color\":\"rgba(255, 255, 255, 1.0)\"}},\"header\":{\"fill\":{\"color\":\"rgba(200, 212, 227, 1.0)\"},\"line\":{\"color\":\"rgba(255, 255, 255, 1.0)\"}}}]}},\"yaxis\":{\"autorange\":\"reversed\",\"title\":{\"text\":\"Actual\"},\"showline\":false,\"showgrid\":false,\"side\":\"left\",\"showbackground\":false},\"title\":{\"text\":\"Confusion Matrix\"},\"xaxis\":{\"title\":{\"text\":\"Predicted\"},\"showline\":false,\"showgrid\":false,\"side\":\"top\",\"showbackground\":false},\"annotations\":[{\"x\":0,\"y\":0,\"bgcolor\":\"#FFFFFF\",\"bordercolor\":\"#003171\",\"font\":{\"size\":18.0},\"showarrow\":false,\"text\":\"94\"},{\"x\":1,\"y\":0,\"bgcolor\":\"#FFFFFF\",\"bordercolor\":\"#003171\",\"font\":{\"size\":18.0},\"showarrow\":false,\"text\":\"5\"},{\"x\":0,\"y\":1,\"bgcolor\":\"#FFFFFF\",\"bordercolor\":\"#003171\",\"font\":{\"size\":18.0},\"showarrow\":false,\"text\":\"29\"},{\"x\":1,\"y\":1,\"bgcolor\":\"#FFFFFF\",\"bordercolor\":\"#003171\",\"font\":{\"size\":18.0},\"showarrow\":false,\"text\":\"18\"},{\"x\":0,\"y\":1.55,\"font\":{\"size\":12.0},\"showarrow\":false,\"text\":\"Precision 0.764\"},{\"x\":1.55,\"y\":0,\"font\":{\"size\":12.0},\"showarrow\":false,\"text\":\"Recall 0.949\",\"textangle\":-90.0},{\"x\":1,\"y\":1.55,\"font\":{\"size\":12.0},\"showarrow\":false,\"text\":\"Precision 0.783\"},{\"x\":1.55,\"y\":1,\"font\":{\"size\":12.0},\"showarrow\":false,\"text\":\"Recall 0.383\",\"textangle\":-90.0}]};\n",
       "        var config = {\"responsive\":true};\n",
       "        Plotly.newPlot('942aa699-e833-43e6-beba-d683bdd1efde', data, layout, config);\n",
       "    });\n",
       "};\n",
       "if ((typeof(requirejs) !==  typeof(Function)) || (typeof(requirejs.config) !== typeof(Function))) {\n",
       "    var script = document.createElement(\"script\");\n",
       "    script.setAttribute(\"charset\", \"utf-8\");\n",
       "    script.setAttribute(\"src\", \"https://cdnjs.cloudflare.com/ajax/libs/require.js/2.3.6/require.min.js\");\n",
       "    script.onload = function(){\n",
       "        renderPlotly_942aa699e83343e6bebad683bdd1efde();\n",
       "    };\n",
       "    document.getElementsByTagName(\"head\")[0].appendChild(script);\n",
       "}\n",
       "else {\n",
       "    renderPlotly_942aa699e83343e6bebad683bdd1efde();\n",
       "}\n",
       "</script></div>"
      ]
     },
     "metadata": {},
     "output_type": "display_data"
    }
   ],
   "source": [
    "MLCharts.RenderConfusionMatrix(evalResults.ConfusionMatrix, classNames: new List<string> {\"Non-Bugfix\", \"Bugfix\"})"
   ]
  },
  {
   "cell_type": "code",
   "execution_count": 20,
   "metadata": {
    "dotnet_interactive": {
     "language": "csharp"
    },
    "polyglot_notebook": {
     "kernelName": "csharp"
    },
    "vscode": {
     "languageId": "polyglot-notebook"
    }
   },
   "outputs": [],
   "source": [
    "double tp = evalResults.ConfusionMatrix.GetCountForClassPair(1, 1);\n",
    "double tn = evalResults.ConfusionMatrix.GetCountForClassPair(0, 0);\n",
    "double fp = evalResults.ConfusionMatrix.GetCountForClassPair(1, 0);\n",
    "double fn = evalResults.ConfusionMatrix.GetCountForClassPair(0, 1);"
   ]
  },
  {
   "cell_type": "code",
   "execution_count": 21,
   "metadata": {
    "dotnet_interactive": {
     "language": "csharp"
    },
    "polyglot_notebook": {
     "kernelName": "csharp"
    },
    "vscode": {
     "languageId": "polyglot-notebook"
    }
   },
   "outputs": [
    {
     "data": {
      "text/html": [
       "<table id=\"table_638547757561271310\"><thead><tr><th><i>index</i></th><th>Model</th><th>F1 Score</th><th>Accuracy</th><th>Positive Precision</th><th>Positive Recall</th><th>Negative Precision</th><th>Negative Recall</th><th>AUC</th><th>AUCPR</th></tr></thead><tbody><tr><td><i><div class=\"dni-plaintext\"><pre>0</pre></div></i></td><td>TextFeaturizerAuto</td><td><div class=\"dni-plaintext\"><pre>0.6725663716814161</pre></div></td><td><div class=\"dni-plaintext\"><pre>0.8517034068136272</pre></div></td><td><div class=\"dni-plaintext\"><pre>0.9382716049382716</pre></div></td><td><div class=\"dni-plaintext\"><pre>0.5241379310344828</pre></div></td><td><div class=\"dni-plaintext\"><pre>0.8349282296650717</pre></div></td><td><div class=\"dni-plaintext\"><pre>0.9858757062146892</pre></div></td><td><div class=\"dni-plaintext\"><pre>0.879972725501656</pre></div></td><td><div class=\"dni-plaintext\"><pre>0.8034930448327863</pre></div></td></tr><tr><td><i><div class=\"dni-plaintext\"><pre>1</pre></div></i></td><td>CustomPipelineAuto</td><td><div class=\"dni-plaintext\"><pre>0.6725663716814161</pre></div></td><td><div class=\"dni-plaintext\"><pre>0.8517034068136272</pre></div></td><td><div class=\"dni-plaintext\"><pre>0.9382716049382716</pre></div></td><td><div class=\"dni-plaintext\"><pre>0.5241379310344828</pre></div></td><td><div class=\"dni-plaintext\"><pre>0.8349282296650717</pre></div></td><td><div class=\"dni-plaintext\"><pre>0.9858757062146892</pre></div></td><td><div class=\"dni-plaintext\"><pre>0.879972725501656</pre></div></td><td><div class=\"dni-plaintext\"><pre>0.8034930448327863</pre></div></td></tr><tr><td><i><div class=\"dni-plaintext\"><pre>2</pre></div></i></td><td>Roberta</td><td><div class=\"dni-plaintext\"><pre>0.5142857142857142</pre></div></td><td><div class=\"dni-plaintext\"><pre>0.7671232876712328</pre></div></td><td><div class=\"dni-plaintext\"><pre>0.782608695652174</pre></div></td><td><div class=\"dni-plaintext\"><pre>0.3829787234042553</pre></div></td><td><div class=\"dni-plaintext\"><pre>0.7642276422764228</pre></div></td><td><div class=\"dni-plaintext\"><pre>0.9494949494949495</pre></div></td><td><div class=\"dni-plaintext\"><pre>0.6662368364496024</pre></div></td><td><div class=\"dni-plaintext\"><pre>0.7734181689642984</pre></div></td></tr></tbody></table><style>\r\n",
       ".dni-code-hint {\r\n",
       "    font-style: italic;\r\n",
       "    overflow: hidden;\r\n",
       "    white-space: nowrap;\r\n",
       "}\r\n",
       ".dni-treeview {\r\n",
       "    white-space: nowrap;\r\n",
       "}\r\n",
       ".dni-treeview td {\r\n",
       "    vertical-align: top;\r\n",
       "    text-align: start;\r\n",
       "}\r\n",
       "details.dni-treeview {\r\n",
       "    padding-left: 1em;\r\n",
       "}\r\n",
       "table td {\r\n",
       "    text-align: start;\r\n",
       "}\r\n",
       "table tr { \r\n",
       "    vertical-align: top; \r\n",
       "    margin: 0em 0px;\r\n",
       "}\r\n",
       "table tr td pre \r\n",
       "{ \r\n",
       "    vertical-align: top !important; \r\n",
       "    margin: 0em 0px !important;\r\n",
       "} \r\n",
       "table th {\r\n",
       "    text-align: start;\r\n",
       "}\r\n",
       "</style>"
      ]
     },
     "metadata": {},
     "output_type": "display_data"
    }
   ],
   "source": [
    "// Save the model\n",
    "context.Model.Save(model, split.TrainSet.Schema, \"models/Roberta.zip\");\n",
    "\n",
    "// Calculate raw counts\n",
    "double tp = evalResults.ConfusionMatrix.GetCountForClassPair(1, 1);\n",
    "double tn = evalResults.ConfusionMatrix.GetCountForClassPair(0, 0);\n",
    "double fp = evalResults.ConfusionMatrix.GetCountForClassPair(1, 0);\n",
    "double fn = evalResults.ConfusionMatrix.GetCountForClassPair(0, 1);\n",
    "\n",
    "// Record the model\n",
    "modelTracker.Register(\"Roberta\", tp, fn, fp, tn).ToDataFrame()"
   ]
  }
 ],
 "metadata": {
  "kernelspec": {
   "display_name": ".NET (C#)",
   "language": "C#",
   "name": ".net-csharp"
  },
  "language_info": {
   "name": "python"
  },
  "polyglot_notebook": {
   "kernelInfo": {
    "defaultKernelName": "csharp",
    "items": [
     {
      "aliases": [],
      "name": "csharp"
     }
    ]
   }
  }
 },
 "nbformat": 4,
 "nbformat_minor": 2
}
