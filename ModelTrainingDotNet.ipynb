{
 "cells": [
  {
   "cell_type": "markdown",
   "metadata": {},
   "source": [
    "# Model Training & Evaluation - .NET\n",
    "\n",
    "This is a Polyglot Notebook typeof(int)ended to run on the .NET typeof(int)eractive kernel currently running on .NET 8.\n",
    "\n",
    "This notebook's role is to build and evaluate model training pipelines, perform hyperparameter tuning, and find a series of best models for commit classification using ML.NET. Other model training efforts will be performed using Python in a separate notebook, but those efforts will focus on models that support ONNX export that can be imported typeof(int)o ML.NET. This is because the ultimate selected model will be typeof(int)egrated typeof(int)o GitStractor which runs on .NET and ML.NET is the best available vector to do that."
   ]
  },
  {
   "cell_type": "markdown",
   "metadata": {},
   "source": [
    "## Dependencies\n",
    "Download and install NuGet packages and set up common imports"
   ]
  },
  {
   "cell_type": "code",
   "execution_count": 1,
   "metadata": {
    "dotnet_interactive": {
     "language": "csharp"
    },
    "polyglot_notebook": {
     "kernelName": "csharp"
    },
    "vscode": {
     "languageId": "polyglot-notebook"
    }
   },
   "outputs": [
    {
     "data": {
      "text/html": [
       "<div><div></div><div></div><div><strong>Installed Packages</strong><ul><li><span>Microsoft.Data.Analysis, 0.21.1</span></li><li><span>Microsoft.ML, 3.0.1</span></li><li><span>Microsoft.ML.AutoML, 0.21.1</span></li><li><span>Newtonsoft.Json, 13.0.3</span></li><li><span>Plotly.NET, 5.0.0</span></li><li><span>Plotly.NET.Interactive, 5.0.0</span></li></ul></div></div>"
      ]
     },
     "metadata": {},
     "output_type": "display_data"
    },
    {
     "data": {
      "text/plain": [
       "Loading extensions from `/home/matteland/.nuget/packages/microsoft.ml.automl/0.21.1/interactive-extensions/dotnet/Microsoft.ML.AutoML.Interactive.dll`"
      ]
     },
     "metadata": {},
     "output_type": "display_data"
    },
    {
     "data": {
      "text/plain": [
       "Loading extensions from `/home/matteland/.nuget/packages/plotly.net.interactive/5.0.0/lib/netstandard2.1/Plotly.NET.Interactive.dll`"
      ]
     },
     "metadata": {},
     "output_type": "display_data"
    },
    {
     "data": {
      "text/plain": [
       "Loading extensions from `/home/matteland/.nuget/packages/microsoft.data.analysis/0.21.1/interactive-extensions/dotnet/Microsoft.Data.Analysis.Interactive.dll`"
      ]
     },
     "metadata": {},
     "output_type": "display_data"
    },
    {
     "data": {
      "text/plain": [
       "Loading extensions from `/home/matteland/.nuget/packages/skiasharp/2.88.6/interactive-extensions/dotnet/SkiaSharp.DotNet.Interactive.dll`"
      ]
     },
     "metadata": {},
     "output_type": "display_data"
    }
   ],
   "source": [
    "#r \"nuget:Microsoft.Data.Analysis\"\n",
    "#r \"nuget:Microsoft.ML\"\n",
    "#r \"nuget:Microsoft.ML.AutoML\"\n",
    "#r \"nuget:Newtonsoft.Json\"\n",
    "#r \"nuget:Plotly.NET\"\n",
    "#r \"nuget:Plotly.NET.Interactive\"\n",
    "\n",
    "using Microsoft.DotNet.Interactive.Formatting;\n",
    "using Microsoft.Data.Analysis;\n",
    "using Microsoft.ML;\n",
    "using Microsoft.ML.AutoML;\n",
    "using Microsoft.ML.AutoML.CodeGen;\n",
    "using Microsoft.ML.SearchSpace;\n",
    "using Microsoft.ML.SearchSpace.Option;\n",
    "using Microsoft.ML.Data;\n",
    "using Microsoft.ML.Trainers;\n",
    "using Microsoft.ML.Transforms;\n",
    "using Microsoft.ML.Transforms.Text;\n",
    "using Newtonsoft.Json;\n",
    "using System.Reflection;"
   ]
  },
  {
   "cell_type": "markdown",
   "metadata": {},
   "source": [
    "I actually wound up creating some .NET libraries to make some of the code here simpler. \n",
    "\n",
    "These were non-core to the analysis and were intended to benefit the community as a whole.\n",
    "\n",
    "You can find these libraries and their code [on GitHub](https://github.com/IntegerMan/MattEland.ML)"
   ]
  },
  {
   "cell_type": "code",
   "execution_count": 2,
   "metadata": {
    "dotnet_interactive": {
     "language": "csharp"
    },
    "polyglot_notebook": {
     "kernelName": "csharp"
    },
    "vscode": {
     "languageId": "polyglot-notebook"
    }
   },
   "outputs": [
    {
     "data": {
      "text/html": [
       "<details><summary>reflect</summary>\n",
       "    <p>This extension generates a list of properties on the object in tabular format.</p>\n",
       "    </details>"
      ]
     },
     "metadata": {},
     "output_type": "display_data"
    },
    {
     "data": {
      "text/html": [
       "<details><summary>transformer-vis</summary>\n",
       "    <p>This extension generates Flowcharts from ITransformers using the Mermaid kernel.</p>\n",
       "    </details>"
      ]
     },
     "metadata": {},
     "output_type": "display_data"
    },
    {
     "data": {
      "text/html": [
       "<details><summary>pipeline-vis</summary>\n",
       "    <p>This extension generates Flowcharts from Pipelines using the Mermaid kernel.</p>\n",
       "    </details>"
      ]
     },
     "metadata": {},
     "output_type": "display_data"
    }
   ],
   "source": [
    "//#r \"nuget:MattEland.ML\"\n",
    "//#r \"nuget:MattEland.ML.Charts\"\n",
    "//#r \"nuget:MattEland.ML.DataFrames\"\n",
    "//#r \"nuget:MattEland.ML.Interactive\"\n",
    "#r \"/home/matteland/Documents/MattEland.ML/MattEland.ML/MattEland.ML/bin/Debug/net8.0/MattEland.ML.dll\"\n",
    "#r \"/home/matteland/Documents/MattEland.ML/MattEland.ML/MattEland.ML.DataFrames/bin/Debug/net8.0/MattEland.ML.DataFrames.dll\"\n",
    "#r \"/home/matteland/Documents/MattEland.ML/MattEland.ML/MattEland.ML.Charts/bin/Debug/net8.0/MattEland.ML.Charts.dll\"\n",
    "#r \"/home/matteland/Documents/MattEland.ML/MattEland.ML/MattEland.ML.Interactive/bin/Debug/net8.0/MattEland.ML.Interactive.dll\"\n",
    "\n",
    "using MattEland.ML;\n",
    "using MattEland.ML.Charts;\n",
    "using MattEland.ML.DataFrames;\n",
    "using MattEland.ML.Interactive;\n",
    "\n",
    "await MattEland.ML.Interactive.InteractiveExtensions.Load(Microsoft.DotNet.Interactive.KernelInvocationContext.Current.HandlingKernel.RootKernel);"
   ]
  },
  {
   "cell_type": "markdown",
   "metadata": {},
   "source": [
    "## Data Loading"
   ]
  },
  {
   "cell_type": "code",
   "execution_count": 3,
   "metadata": {
    "dotnet_interactive": {
     "language": "csharp"
    },
    "polyglot_notebook": {
     "kernelName": "csharp"
    },
    "vscode": {
     "languageId": "polyglot-notebook"
    }
   },
   "outputs": [
    {
     "data": {
      "text/html": [
       "<table id=\"table_638546736338062578\"><thead><tr><th><i>index</i></th><th>PredictedLabel</th><th>ActualLabel</th><th>Message</th><th>Reasoning</th><th>Sha</th><th>Source</th><th>ParentSha</th><th>Parent2Sha</th><th>IsMerge</th><th>AuthorId</th><th>AuthorDateUtc</th><th>CommitterId</th><th>CommitterDateUtc</th><th>WorkItems</th><th>TotalFiles</th><th>ModifiedFiles</th><th>AddedFiles</th><th>DeletedFiles</th><th>TotalLines</th><th>NetLines</th><th>AddedLines</th><th>DeletedLines</th><th>HasAddedFiles</th><th>HasDeletedFiles</th><th>DayOfWeek</th><th>Month</th><th>Quarter</th><th>Year</th><th>Hour</th><th>TimeOfDay</th><th>IsWeekend</th><th>MessageLength</th><th>WordCount</th></tr></thead><tbody><tr><td><i><div class=\"dni-plaintext\"><pre>0</pre></div></i></td><td><div class=\"dni-plaintext\"><pre>True</pre></div></td><td><div class=\"dni-plaintext\"><pre>False</pre></div></td><td>improve parsing and diagnostics for HTTP version node (#3153)</td><td>The commit directly mentions improving HTTP versions which indicates a fix related to known issues</td><td>4788158819fc5a8a1f98145887d78c3089fd3e5b</td><td>dotnetinteractive</td><td>2ebbb6ab46869970cba4928480a901e0e150d281</td><td></td><td><div class=\"dni-plaintext\"><pre>False</pre></div></td><td><div class=\"dni-plaintext\"><pre>6</pre></div></td><td><span>2023-08-25 17:19:12Z</span></td><td><div class=\"dni-plaintext\"><pre>2</pre></div></td><td><span>2023-08-25 21:19:12Z</span></td><td><div class=\"dni-plaintext\"><pre>1</pre></div></td><td><div class=\"dni-plaintext\"><pre>5</pre></div></td><td><div class=\"dni-plaintext\"><pre>5</pre></div></td><td><div class=\"dni-plaintext\"><pre>0</pre></div></td><td><div class=\"dni-plaintext\"><pre>0</pre></div></td><td><div class=\"dni-plaintext\"><pre>1281</pre></div></td><td><div class=\"dni-plaintext\"><pre>20</pre></div></td><td><div class=\"dni-plaintext\"><pre>67</pre></div></td><td><div class=\"dni-plaintext\"><pre>47</pre></div></td><td><div class=\"dni-plaintext\"><pre>False</pre></div></td><td><div class=\"dni-plaintext\"><pre>False</pre></div></td><td>Friday</td><td>August</td><td><div class=\"dni-plaintext\"><pre>3</pre></div></td><td><div class=\"dni-plaintext\"><pre>2023</pre></div></td><td><div class=\"dni-plaintext\"><pre>17</pre></div></td><td>Afternoon</td><td><div class=\"dni-plaintext\"><pre>False</pre></div></td><td><div class=\"dni-plaintext\"><pre>61</pre></div></td><td><div class=\"dni-plaintext\"><pre>9</pre></div></td></tr><tr><td><i><div class=\"dni-plaintext\"><pre>1</pre></div></i></td><td><div class=\"dni-plaintext\"><pre>False</pre></div></td><td><div class=\"dni-plaintext\"><pre>False</pre></div></td><td>Add Xunit.Combinatorial for test projects (#4545)</td><td>XUnit.Combinatorial is a testing framework extension and not directly related to bug fixing.</td><td>0e7e25c7fc04065a2cb8b2001f2a18164b0db6a0</td><td>mlnet</td><td>a4b4660f28277f48a3455f769721453beefc532d</td><td></td><td><div class=\"dni-plaintext\"><pre>False</pre></div></td><td><div class=\"dni-plaintext\"><pre>142</pre></div></td><td><span>2019-12-08 12:42:36Z</span></td><td><div class=\"dni-plaintext\"><pre>7</pre></div></td><td><span>2019-12-08 17:42:36Z</span></td><td><div class=\"dni-plaintext\"><pre>1</pre></div></td><td><div class=\"dni-plaintext\"><pre>2</pre></div></td><td><div class=\"dni-plaintext\"><pre>2</pre></div></td><td><div class=\"dni-plaintext\"><pre>0</pre></div></td><td><div class=\"dni-plaintext\"><pre>0</pre></div></td><td><div class=\"dni-plaintext\"><pre>110</pre></div></td><td><div class=\"dni-plaintext\"><pre>2</pre></div></td><td><div class=\"dni-plaintext\"><pre>2</pre></div></td><td><div class=\"dni-plaintext\"><pre>0</pre></div></td><td><div class=\"dni-plaintext\"><pre>False</pre></div></td><td><div class=\"dni-plaintext\"><pre>False</pre></div></td><td>Sunday</td><td>December</td><td><div class=\"dni-plaintext\"><pre>4</pre></div></td><td><div class=\"dni-plaintext\"><pre>2019</pre></div></td><td><div class=\"dni-plaintext\"><pre>12</pre></div></td><td>Morning</td><td><div class=\"dni-plaintext\"><pre>True</pre></div></td><td><div class=\"dni-plaintext\"><pre>49</pre></div></td><td><div class=\"dni-plaintext\"><pre>6</pre></div></td></tr><tr><td><i><div class=\"dni-plaintext\"><pre>2</pre></div></i></td><td><div class=\"dni-plaintext\"><pre>False</pre></div></td><td><div class=\"dni-plaintext\"><pre>False</pre></div></td><td>rename functions</td><td>Renaming is often for code clarity or refactoring, which doesn&#39;t directly indicate fixing a bug</td><td>ebc7b5f027331ba1b0483a1da481c5f43a92a7d0</td><td>dotnetinteractive</td><td>89142c346f010d456fc5d75f3d4cc8770a699683</td><td></td><td><div class=\"dni-plaintext\"><pre>False</pre></div></td><td><div class=\"dni-plaintext\"><pre>10</pre></div></td><td><span>2021-08-10 17:28:06Z</span></td><td><div class=\"dni-plaintext\"><pre>14</pre></div></td><td><span>2021-08-18 16:48:46Z</span></td><td><div class=\"dni-plaintext\"><pre>0</pre></div></td><td><div class=\"dni-plaintext\"><pre>1</pre></div></td><td><div class=\"dni-plaintext\"><pre>1</pre></div></td><td><div class=\"dni-plaintext\"><pre>0</pre></div></td><td><div class=\"dni-plaintext\"><pre>0</pre></div></td><td><div class=\"dni-plaintext\"><pre>138</pre></div></td><td><div class=\"dni-plaintext\"><pre>0</pre></div></td><td><div class=\"dni-plaintext\"><pre>4</pre></div></td><td><div class=\"dni-plaintext\"><pre>4</pre></div></td><td><div class=\"dni-plaintext\"><pre>False</pre></div></td><td><div class=\"dni-plaintext\"><pre>False</pre></div></td><td>Tuesday</td><td>August</td><td><div class=\"dni-plaintext\"><pre>3</pre></div></td><td><div class=\"dni-plaintext\"><pre>2021</pre></div></td><td><div class=\"dni-plaintext\"><pre>17</pre></div></td><td>Afternoon</td><td><div class=\"dni-plaintext\"><pre>False</pre></div></td><td><div class=\"dni-plaintext\"><pre>16</pre></div></td><td><div class=\"dni-plaintext\"><pre>2</pre></div></td></tr><tr><td><i><div class=\"dni-plaintext\"><pre>3</pre></div></i></td><td><div class=\"dni-plaintext\"><pre>False</pre></div></td><td><div class=\"dni-plaintext\"><pre>False</pre></div></td><td>adding html fotmatting (#2544)</td><td>The commit is related to code styling or enhancement and not explicitly a bug fix.</td><td>ffdfe0472eb092844d780bdec9ec7a5bf36ee921</td><td>dotnetinteractive</td><td>9c08865d4fca112a6f38e47816e24380f0d68eb8</td><td></td><td><div class=\"dni-plaintext\"><pre>False</pre></div></td><td><div class=\"dni-plaintext\"><pre>10</pre></div></td><td><span>2022-12-02 17:45:06Z</span></td><td><div class=\"dni-plaintext\"><pre>2</pre></div></td><td><span>2022-12-02 22:45:06Z</span></td><td><div class=\"dni-plaintext\"><pre>1</pre></div></td><td><div class=\"dni-plaintext\"><pre>3</pre></div></td><td><div class=\"dni-plaintext\"><pre>3</pre></div></td><td><div class=\"dni-plaintext\"><pre>0</pre></div></td><td><div class=\"dni-plaintext\"><pre>0</pre></div></td><td><div class=\"dni-plaintext\"><pre>529</pre></div></td><td><div class=\"dni-plaintext\"><pre>106</pre></div></td><td><div class=\"dni-plaintext\"><pre>113</pre></div></td><td><div class=\"dni-plaintext\"><pre>7</pre></div></td><td><div class=\"dni-plaintext\"><pre>False</pre></div></td><td><div class=\"dni-plaintext\"><pre>False</pre></div></td><td>Friday</td><td>December</td><td><div class=\"dni-plaintext\"><pre>4</pre></div></td><td><div class=\"dni-plaintext\"><pre>2022</pre></div></td><td><div class=\"dni-plaintext\"><pre>17</pre></div></td><td>Afternoon</td><td><div class=\"dni-plaintext\"><pre>False</pre></div></td><td><div class=\"dni-plaintext\"><pre>30</pre></div></td><td><div class=\"dni-plaintext\"><pre>4</pre></div></td></tr><tr><td><i><div class=\"dni-plaintext\"><pre>4</pre></div></i></td><td><div class=\"dni-plaintext\"><pre>True</pre></div></td><td><div class=\"dni-plaintext\"><pre>False</pre></div></td><td>lock version for tests</td><td>Locking the codebase could be related to resolve issues with test stability or integration bugs caused by continuous changes.</td><td>537f46e89a1690a55315d805eb90a5877aff9de2</td><td>dotnetinteractive</td><td>d4b512ba7d6e957710fef4a80dd7aa36500ce494</td><td></td><td><div class=\"dni-plaintext\"><pre>False</pre></div></td><td><div class=\"dni-plaintext\"><pre>10</pre></div></td><td><span>2020-11-11 10:19:59Z</span></td><td><div class=\"dni-plaintext\"><pre>14</pre></div></td><td><span>2020-11-11 16:44:49Z</span></td><td><div class=\"dni-plaintext\"><pre>0</pre></div></td><td><div class=\"dni-plaintext\"><pre>1</pre></div></td><td><div class=\"dni-plaintext\"><pre>1</pre></div></td><td><div class=\"dni-plaintext\"><pre>0</pre></div></td><td><div class=\"dni-plaintext\"><pre>0</pre></div></td><td><div class=\"dni-plaintext\"><pre>952</pre></div></td><td><div class=\"dni-plaintext\"><pre>-1</pre></div></td><td><div class=\"dni-plaintext\"><pre>4</pre></div></td><td><div class=\"dni-plaintext\"><pre>5</pre></div></td><td><div class=\"dni-plaintext\"><pre>False</pre></div></td><td><div class=\"dni-plaintext\"><pre>False</pre></div></td><td>Wednesday</td><td>November</td><td><div class=\"dni-plaintext\"><pre>4</pre></div></td><td><div class=\"dni-plaintext\"><pre>2020</pre></div></td><td><div class=\"dni-plaintext\"><pre>10</pre></div></td><td>Morning</td><td><div class=\"dni-plaintext\"><pre>False</pre></div></td><td><div class=\"dni-plaintext\"><pre>22</pre></div></td><td><div class=\"dni-plaintext\"><pre>4</pre></div></td></tr></tbody></table><style>\r\n",
       ".dni-code-hint {\r\n",
       "    font-style: italic;\r\n",
       "    overflow: hidden;\r\n",
       "    white-space: nowrap;\r\n",
       "}\r\n",
       ".dni-treeview {\r\n",
       "    white-space: nowrap;\r\n",
       "}\r\n",
       ".dni-treeview td {\r\n",
       "    vertical-align: top;\r\n",
       "    text-align: start;\r\n",
       "}\r\n",
       "details.dni-treeview {\r\n",
       "    padding-left: 1em;\r\n",
       "}\r\n",
       "table td {\r\n",
       "    text-align: start;\r\n",
       "}\r\n",
       "table tr { \r\n",
       "    vertical-align: top; \r\n",
       "    margin: 0em 0px;\r\n",
       "}\r\n",
       "table tr td pre \r\n",
       "{ \r\n",
       "    vertical-align: top !important; \r\n",
       "    margin: 0em 0px !important;\r\n",
       "} \r\n",
       "table th {\r\n",
       "    text-align: start;\r\n",
       "}\r\n",
       "</style>"
      ]
     },
     "metadata": {},
     "output_type": "display_data"
    }
   ],
   "source": [
    "var df = DataFrame.LoadCsv(\"data/Training.csv\", separator: ',', header: true);\n",
    "df.Sample(5)"
   ]
  },
  {
   "cell_type": "code",
   "execution_count": 4,
   "metadata": {
    "dotnet_interactive": {
     "language": "csharp"
    },
    "polyglot_notebook": {
     "kernelName": "csharp"
    },
    "vscode": {
     "languageId": "polyglot-notebook"
    }
   },
   "outputs": [
    {
     "data": {
      "text/html": [
       "<div class=\"dni-plaintext\"><pre>[ PredictedLabel\n",
       ", ActualLabel\n",
       ", Message\n",
       ", Reasoning\n",
       ", Sha\n",
       ", Source\n",
       ", ParentSha\n",
       ", Parent2Sha\n",
       ", IsMerge\n",
       ", AuthorId\n",
       ", AuthorDateUtc\n",
       ", CommitterId\n",
       ", CommitterDateUtc\n",
       ", WorkItems\n",
       ", TotalFiles\n",
       ", ModifiedFiles\n",
       ", AddedFiles\n",
       ", DeletedFiles\n",
       ", TotalLines\n",
       ", NetLines\n",
       " ... (more) ]</pre></div><style>\r\n",
       ".dni-code-hint {\r\n",
       "    font-style: italic;\r\n",
       "    overflow: hidden;\r\n",
       "    white-space: nowrap;\r\n",
       "}\r\n",
       ".dni-treeview {\r\n",
       "    white-space: nowrap;\r\n",
       "}\r\n",
       ".dni-treeview td {\r\n",
       "    vertical-align: top;\r\n",
       "    text-align: start;\r\n",
       "}\r\n",
       "details.dni-treeview {\r\n",
       "    padding-left: 1em;\r\n",
       "}\r\n",
       "table td {\r\n",
       "    text-align: start;\r\n",
       "}\r\n",
       "table tr { \r\n",
       "    vertical-align: top; \r\n",
       "    margin: 0em 0px;\r\n",
       "}\r\n",
       "table tr td pre \r\n",
       "{ \r\n",
       "    vertical-align: top !important; \r\n",
       "    margin: 0em 0px !important;\r\n",
       "} \r\n",
       "table th {\r\n",
       "    text-align: start;\r\n",
       "}\r\n",
       "</style>"
      ]
     },
     "metadata": {},
     "output_type": "display_data"
    }
   ],
   "source": [
    "df.Columns.Select(c => c.Name + Environment.NewLine)"
   ]
  },
  {
   "cell_type": "code",
   "execution_count": 5,
   "metadata": {
    "dotnet_interactive": {
     "language": "csharp"
    },
    "polyglot_notebook": {
     "kernelName": "csharp"
    },
    "vscode": {
     "languageId": "polyglot-notebook"
    }
   },
   "outputs": [
    {
     "data": {
      "text/html": [
       "<table id=\"table_638546736365487738\"><thead><tr><th><i>index</i></th><th>Info</th><th>ActualLabel</th><th>Message</th><th>IsMerge</th><th>WorkItems</th><th>TotalFiles</th><th>ModifiedFiles</th><th>AddedFiles</th><th>DeletedFiles</th><th>TotalLines</th><th>NetLines</th><th>AddedLines</th><th>DeletedLines</th><th>HasAddedFiles</th><th>HasDeletedFiles</th><th>MessageLength</th><th>WordCount</th></tr></thead><tbody><tr><td><i><div class=\"dni-plaintext\"><pre>0</pre></div></i></td><td>DataType</td><td>System.Boolean</td><td>System.String</td><td>System.Boolean</td><td>System.Single</td><td>System.Single</td><td>System.Single</td><td>System.Single</td><td>System.Single</td><td>System.Single</td><td>System.Single</td><td>System.Single</td><td>System.Single</td><td>System.Boolean</td><td>System.Boolean</td><td>System.Single</td><td>System.Single</td></tr><tr><td><i><div class=\"dni-plaintext\"><pre>1</pre></div></i></td><td>Length (excluding null values)</td><td>499</td><td>499</td><td>499</td><td>499</td><td>499</td><td>499</td><td>499</td><td>499</td><td>499</td><td>499</td><td>499</td><td>499</td><td>499</td><td>499</td><td>499</td><td>499</td></tr></tbody></table><style>\r\n",
       ".dni-code-hint {\r\n",
       "    font-style: italic;\r\n",
       "    overflow: hidden;\r\n",
       "    white-space: nowrap;\r\n",
       "}\r\n",
       ".dni-treeview {\r\n",
       "    white-space: nowrap;\r\n",
       "}\r\n",
       ".dni-treeview td {\r\n",
       "    vertical-align: top;\r\n",
       "    text-align: start;\r\n",
       "}\r\n",
       "details.dni-treeview {\r\n",
       "    padding-left: 1em;\r\n",
       "}\r\n",
       "table td {\r\n",
       "    text-align: start;\r\n",
       "}\r\n",
       "table tr { \r\n",
       "    vertical-align: top; \r\n",
       "    margin: 0em 0px;\r\n",
       "}\r\n",
       "table tr td pre \r\n",
       "{ \r\n",
       "    vertical-align: top !important; \r\n",
       "    margin: 0em 0px !important;\r\n",
       "} \r\n",
       "table th {\r\n",
       "    text-align: start;\r\n",
       "}\r\n",
       "</style>"
      ]
     },
     "metadata": {},
     "output_type": "display_data"
    }
   ],
   "source": [
    "// Let's drop columns we don't want the model to learn from\n",
    "df.Columns.Remove(\"PredictedLabel\", \"Reasoning\", \"AuthorId\", \"AuthorDateUtc\", \"CommitterId\", \"CommitterDateUtc\", \"ParentSha\", \"Parent2Sha\", \"DayOfWeek\", \"Month\", \"Quarter\", \"Year\", \"Hour\", \"TimeOfDay\", \"IsWeekend\", \"Sha\", \"Source\");\n",
    "\n",
    "df.Info()"
   ]
  },
  {
   "cell_type": "markdown",
   "metadata": {},
   "source": [
    "Okay. That's the expected type for each and no missing rows. Looks like I was off somewhere and lost a row in my training data, but 500 -> 499 isn't a huge issue.\n",
    "\n",
    "We don't need to do any additional feature engineering here since that was all done as part of EDA in `LabelledEDA.ipynb`, though we could one-hot encode Source if we were going to include it in the data to the model and we will be extracting text features from Message.\n",
    "\n",
    "Let's do some final name cleanup for ActualLabel since ML.NET looks for the Label column by default."
   ]
  },
  {
   "cell_type": "code",
   "execution_count": 6,
   "metadata": {
    "dotnet_interactive": {
     "language": "csharp"
    },
    "polyglot_notebook": {
     "kernelName": "csharp"
    },
    "vscode": {
     "languageId": "polyglot-notebook"
    }
   },
   "outputs": [],
   "source": [
    "df[\"ActualLabel\"].SetName(\"Label\");"
   ]
  },
  {
   "cell_type": "markdown",
   "metadata": {},
   "source": [
    "And finally some fun descriptive statistics."
   ]
  },
  {
   "cell_type": "code",
   "execution_count": 7,
   "metadata": {
    "dotnet_interactive": {
     "language": "csharp"
    },
    "polyglot_notebook": {
     "kernelName": "csharp"
    },
    "vscode": {
     "languageId": "polyglot-notebook"
    }
   },
   "outputs": [
    {
     "data": {
      "text/html": [
       "<table id=\"table_638546736372800443\"><thead><tr><th><i>index</i></th><th>Description</th><th>WorkItems</th><th>TotalFiles</th><th>ModifiedFiles</th><th>AddedFiles</th><th>DeletedFiles</th><th>TotalLines</th><th>NetLines</th><th>AddedLines</th><th>DeletedLines</th><th>MessageLength</th><th>WordCount</th></tr></thead><tbody><tr><td><i><div class=\"dni-plaintext\"><pre>0</pre></div></i></td><td>Length (excluding null values)</td><td><div class=\"dni-plaintext\"><pre>499</pre></div></td><td><div class=\"dni-plaintext\"><pre>499</pre></div></td><td><div class=\"dni-plaintext\"><pre>499</pre></div></td><td><div class=\"dni-plaintext\"><pre>499</pre></div></td><td><div class=\"dni-plaintext\"><pre>499</pre></div></td><td><div class=\"dni-plaintext\"><pre>499</pre></div></td><td><div class=\"dni-plaintext\"><pre>499</pre></div></td><td><div class=\"dni-plaintext\"><pre>499</pre></div></td><td><div class=\"dni-plaintext\"><pre>499</pre></div></td><td><div class=\"dni-plaintext\"><pre>499</pre></div></td><td><div class=\"dni-plaintext\"><pre>499</pre></div></td></tr><tr><td><i><div class=\"dni-plaintext\"><pre>1</pre></div></i></td><td>Max</td><td><div class=\"dni-plaintext\"><pre>2</pre></div></td><td><div class=\"dni-plaintext\"><pre>588</pre></div></td><td><div class=\"dni-plaintext\"><pre>587</pre></div></td><td><div class=\"dni-plaintext\"><pre>8</pre></div></td><td><div class=\"dni-plaintext\"><pre>4</pre></div></td><td><div class=\"dni-plaintext\"><pre>98927</pre></div></td><td><div class=\"dni-plaintext\"><pre>241</pre></div></td><td><div class=\"dni-plaintext\"><pre>3997</pre></div></td><td><div class=\"dni-plaintext\"><pre>3980</pre></div></td><td><div class=\"dni-plaintext\"><pre>124</pre></div></td><td><div class=\"dni-plaintext\"><pre>17</pre></div></td></tr><tr><td><i><div class=\"dni-plaintext\"><pre>2</pre></div></i></td><td>Min</td><td><div class=\"dni-plaintext\"><pre>0</pre></div></td><td><div class=\"dni-plaintext\"><pre>1</pre></div></td><td><div class=\"dni-plaintext\"><pre>0</pre></div></td><td><div class=\"dni-plaintext\"><pre>0</pre></div></td><td><div class=\"dni-plaintext\"><pre>0</pre></div></td><td><div class=\"dni-plaintext\"><pre>1</pre></div></td><td><div class=\"dni-plaintext\"><pre>-8</pre></div></td><td><div class=\"dni-plaintext\"><pre>0</pre></div></td><td><div class=\"dni-plaintext\"><pre>0</pre></div></td><td><div class=\"dni-plaintext\"><pre>3</pre></div></td><td><div class=\"dni-plaintext\"><pre>1</pre></div></td></tr><tr><td><i><div class=\"dni-plaintext\"><pre>3</pre></div></i></td><td>Mean</td><td><div class=\"dni-plaintext\"><pre>0.46292585</pre></div></td><td><div class=\"dni-plaintext\"><pre>7.188377</pre></div></td><td><div class=\"dni-plaintext\"><pre>6.747495</pre></div></td><td><div class=\"dni-plaintext\"><pre>0.40480962</pre></div></td><td><div class=\"dni-plaintext\"><pre>0.036072146</pre></div></td><td><div class=\"dni-plaintext\"><pre>2628.0942</pre></div></td><td><div class=\"dni-plaintext\"><pre>32.54108</pre></div></td><td><div class=\"dni-plaintext\"><pre>73.951904</pre></div></td><td><div class=\"dni-plaintext\"><pre>41.41082</pre></div></td><td><div class=\"dni-plaintext\"><pre>41.216434</pre></div></td><td><div class=\"dni-plaintext\"><pre>5.6152306</pre></div></td></tr></tbody></table><style>\r\n",
       ".dni-code-hint {\r\n",
       "    font-style: italic;\r\n",
       "    overflow: hidden;\r\n",
       "    white-space: nowrap;\r\n",
       "}\r\n",
       ".dni-treeview {\r\n",
       "    white-space: nowrap;\r\n",
       "}\r\n",
       ".dni-treeview td {\r\n",
       "    vertical-align: top;\r\n",
       "    text-align: start;\r\n",
       "}\r\n",
       "details.dni-treeview {\r\n",
       "    padding-left: 1em;\r\n",
       "}\r\n",
       "table td {\r\n",
       "    text-align: start;\r\n",
       "}\r\n",
       "table tr { \r\n",
       "    vertical-align: top; \r\n",
       "    margin: 0em 0px;\r\n",
       "}\r\n",
       "table tr td pre \r\n",
       "{ \r\n",
       "    vertical-align: top !important; \r\n",
       "    margin: 0em 0px !important;\r\n",
       "} \r\n",
       "table th {\r\n",
       "    text-align: start;\r\n",
       "}\r\n",
       "</style>"
      ]
     },
     "metadata": {},
     "output_type": "display_data"
    }
   ],
   "source": [
    "df.Description()"
   ]
  },
  {
   "cell_type": "markdown",
   "metadata": {},
   "source": [
    "*Note*: The DataFrame doesn't give you as many, but you could integrate MathNet.Numerics for many additional statistical measurements. This isn't an EDA notebook so we won't do that here."
   ]
  },
  {
   "cell_type": "markdown",
   "metadata": {},
   "source": [
    "# Model Training\n",
    "\n",
    "We're now going to start the series of determining what types of models work best with our data. We'll start broadly to get a good general sense and then dial in on a key model trainer or two to see how we can tune and optimize it."
   ]
  },
  {
   "cell_type": "code",
   "execution_count": 8,
   "metadata": {
    "dotnet_interactive": {
     "language": "csharp"
    },
    "polyglot_notebook": {
     "kernelName": "csharp"
    },
    "vscode": {
     "languageId": "polyglot-notebook"
    }
   },
   "outputs": [],
   "source": [
    "// Creat a custom model tracker to record the various experiments we run\n",
    "BinaryClassificationModelTracker modelTracker = new();\n",
    "\n",
    "// Although the metric we probably care the most about is the Precision, we're going to focus on F1 Score during model training in order to encourage discovering the most balanced models between precision and recall\n",
    "modelTracker.DefaultMetric = BinaryClassificationMetric.F1Score;"
   ]
  },
  {
   "cell_type": "markdown",
   "metadata": {},
   "source": [
    "## Early ML.NET AutoML Experiments\n",
    "Let's start with a simple AutoML experiment without any pipelines to see what kinds of models are performing best without transformations or manual tuning.\n",
    "\n",
    "We just want to see what kind of \"out of the box\" baseline model performance we can get from AutoML without any customization and what model trainers and transforms tend to get selected."
   ]
  },
  {
   "cell_type": "code",
   "execution_count": 9,
   "metadata": {
    "dotnet_interactive": {
     "language": "csharp"
    },
    "polyglot_notebook": {
     "kernelName": "csharp"
    },
    "vscode": {
     "languageId": "polyglot-notebook"
    }
   },
   "outputs": [],
   "source": [
    "// Everything flows from our MLContext object\n",
    "MLContext context = new MLContext(seed: 42);\n",
    "var monitor = context.Monitor();"
   ]
  },
  {
   "cell_type": "code",
   "execution_count": 10,
   "metadata": {
    "dotnet_interactive": {
     "language": "csharp"
    },
    "polyglot_notebook": {
     "kernelName": "csharp"
    },
    "vscode": {
     "languageId": "polyglot-notebook"
    }
   },
   "outputs": [],
   "source": [
    "var split = context.Data.TrainTestSplit(df, testFraction: 0.1, seed: 42);\n",
    "IDataView train = split.TrainSet;\n",
    "IDataView test = split.TestSet;"
   ]
  },
  {
   "cell_type": "code",
   "execution_count": 11,
   "metadata": {
    "dotnet_interactive": {
     "language": "csharp"
    },
    "polyglot_notebook": {
     "kernelName": "csharp"
    },
    "vscode": {
     "languageId": "polyglot-notebook"
    }
   },
   "outputs": [
    {
     "ename": "Error",
     "evalue": "Command cancelled.",
     "output_type": "error",
     "traceback": [
      "Command cancelled."
     ]
    }
   ],
   "source": [
    "// Run the experiment - simplest one we'll do here, but let's just look at the simple options first\n",
    "BinaryExperimentSettings settings = new() {\n",
    "    MaxModels = 10,\n",
    "    OptimizingMetric = BinaryClassificationMetric.F1Score,\n",
    "};\n",
    "\n",
    "var results = context.Auto().CreateBinaryClassificationExperiment(settings)\n",
    "                            .Execute(train, test);\n",
    "\n",
    "// Let's see what types of model trainers and transforms it considered and their F1 scores\n",
    "results.RunDetails.OrderByDescending(r => r.ValidationMetrics.F1Score)\n",
    "                  .Select(r => r.TrainerName + \": \" + r.ValidationMetrics.F1Score + Environment.NewLine)"
   ]
  },
  {
   "cell_type": "code",
   "execution_count": null,
   "metadata": {
    "dotnet_interactive": {
     "language": "csharp"
    },
    "polyglot_notebook": {
     "kernelName": "csharp"
    },
    "vscode": {
     "languageId": "polyglot-notebook"
    }
   },
   "outputs": [],
   "source": [
    "monitor.Results"
   ]
  },
  {
   "cell_type": "code",
   "execution_count": null,
   "metadata": {
    "dotnet_interactive": {
     "language": "csharp"
    },
    "polyglot_notebook": {
     "kernelName": "csharp"
    },
    "vscode": {
     "languageId": "polyglot-notebook"
    }
   },
   "outputs": [
    {
     "data": {
      "text/html": [
       "<div><div id=\"7b39afba-f4ee-4315-b091-a8643eb3dcf7\"><!-- Plotly chart will be drawn inside this DIV --></div><script type=\"text/javascript\">\n",
       "var renderPlotly_7b39afbaf4ee4315b091a8643eb3dcf7 = function() {\n",
       "    var fsharpPlotlyRequire = requirejs.config({context:'fsharp-plotly',paths:{plotly:'https://cdn.plot.ly/plotly-2.27.1.min'}}) || require;\n",
       "    fsharpPlotlyRequire(['plotly'], function(Plotly) {\n",
       "        var data = [{\"type\":\"heatmap\",\"x\":[\"Positive\",\"Negative\"],\"y\":[\"Positive\",\"Negative\"],\"z\":[[9.0,8.0],[1.0,24.0]],\"colorscale\":[[0.0,\"#FFFFFF\"],[0.5,\"#009dcf\"],[1.0,\"#003171\"]],\"showscale\":false}];\n",
       "        var layout = {\"width\":600,\"height\":600,\"template\":{\"layout\":{\"title\":{\"x\":0.05},\"font\":{\"color\":\"rgba(42, 63, 95, 1.0)\"},\"paper_bgcolor\":\"rgba(255, 255, 255, 1.0)\",\"plot_bgcolor\":\"rgba(229, 236, 246, 1.0)\",\"autotypenumbers\":\"strict\",\"colorscale\":{\"diverging\":[[0.0,\"#8e0152\"],[0.1,\"#c51b7d\"],[0.2,\"#de77ae\"],[0.3,\"#f1b6da\"],[0.4,\"#fde0ef\"],[0.5,\"#f7f7f7\"],[0.6,\"#e6f5d0\"],[0.7,\"#b8e186\"],[0.8,\"#7fbc41\"],[0.9,\"#4d9221\"],[1.0,\"#276419\"]],\"sequential\":[[0.0,\"#0d0887\"],[0.1111111111111111,\"#46039f\"],[0.2222222222222222,\"#7201a8\"],[0.3333333333333333,\"#9c179e\"],[0.4444444444444444,\"#bd3786\"],[0.5555555555555556,\"#d8576b\"],[0.6666666666666666,\"#ed7953\"],[0.7777777777777778,\"#fb9f3a\"],[0.8888888888888888,\"#fdca26\"],[1.0,\"#f0f921\"]],\"sequentialminus\":[[0.0,\"#0d0887\"],[0.1111111111111111,\"#46039f\"],[0.2222222222222222,\"#7201a8\"],[0.3333333333333333,\"#9c179e\"],[0.4444444444444444,\"#bd3786\"],[0.5555555555555556,\"#d8576b\"],[0.6666666666666666,\"#ed7953\"],[0.7777777777777778,\"#fb9f3a\"],[0.8888888888888888,\"#fdca26\"],[1.0,\"#f0f921\"]]},\"hovermode\":\"closest\",\"hoverlabel\":{\"align\":\"left\"},\"coloraxis\":{\"colorbar\":{\"outlinewidth\":0.0,\"ticks\":\"\"}},\"geo\":{\"showland\":true,\"landcolor\":\"rgba(229, 236, 246, 1.0)\",\"showlakes\":true,\"lakecolor\":\"rgba(255, 255, 255, 1.0)\",\"subunitcolor\":\"rgba(255, 255, 255, 1.0)\",\"bgcolor\":\"rgba(255, 255, 255, 1.0)\"},\"mapbox\":{\"style\":\"light\"},\"polar\":{\"bgcolor\":\"rgba(229, 236, 246, 1.0)\",\"radialaxis\":{\"linecolor\":\"rgba(255, 255, 255, 1.0)\",\"gridcolor\":\"rgba(255, 255, 255, 1.0)\",\"ticks\":\"\"},\"angularaxis\":{\"linecolor\":\"rgba(255, 255, 255, 1.0)\",\"gridcolor\":\"rgba(255, 255, 255, 1.0)\",\"ticks\":\"\"}},\"scene\":{\"xaxis\":{\"ticks\":\"\",\"linecolor\":\"rgba(255, 255, 255, 1.0)\",\"gridcolor\":\"rgba(255, 255, 255, 1.0)\",\"gridwidth\":2.0,\"zerolinecolor\":\"rgba(255, 255, 255, 1.0)\",\"backgroundcolor\":\"rgba(229, 236, 246, 1.0)\",\"showbackground\":true},\"yaxis\":{\"ticks\":\"\",\"linecolor\":\"rgba(255, 255, 255, 1.0)\",\"gridcolor\":\"rgba(255, 255, 255, 1.0)\",\"gridwidth\":2.0,\"zerolinecolor\":\"rgba(255, 255, 255, 1.0)\",\"backgroundcolor\":\"rgba(229, 236, 246, 1.0)\",\"showbackground\":true},\"zaxis\":{\"ticks\":\"\",\"linecolor\":\"rgba(255, 255, 255, 1.0)\",\"gridcolor\":\"rgba(255, 255, 255, 1.0)\",\"gridwidth\":2.0,\"zerolinecolor\":\"rgba(255, 255, 255, 1.0)\",\"backgroundcolor\":\"rgba(229, 236, 246, 1.0)\",\"showbackground\":true}},\"ternary\":{\"aaxis\":{\"ticks\":\"\",\"linecolor\":\"rgba(255, 255, 255, 1.0)\",\"gridcolor\":\"rgba(255, 255, 255, 1.0)\"},\"baxis\":{\"ticks\":\"\",\"linecolor\":\"rgba(255, 255, 255, 1.0)\",\"gridcolor\":\"rgba(255, 255, 255, 1.0)\"},\"caxis\":{\"ticks\":\"\",\"linecolor\":\"rgba(255, 255, 255, 1.0)\",\"gridcolor\":\"rgba(255, 255, 255, 1.0)\"},\"bgcolor\":\"rgba(229, 236, 246, 1.0)\"},\"xaxis\":{\"title\":{\"standoff\":15},\"ticks\":\"\",\"automargin\":\"height+width+left+right+top+bottom\",\"linecolor\":\"rgba(255, 255, 255, 1.0)\",\"gridcolor\":\"rgba(255, 255, 255, 1.0)\",\"zerolinecolor\":\"rgba(255, 255, 255, 1.0)\",\"zerolinewidth\":2.0},\"yaxis\":{\"title\":{\"standoff\":15},\"ticks\":\"\",\"automargin\":\"height+width+left+right+top+bottom\",\"linecolor\":\"rgba(255, 255, 255, 1.0)\",\"gridcolor\":\"rgba(255, 255, 255, 1.0)\",\"zerolinecolor\":\"rgba(255, 255, 255, 1.0)\",\"zerolinewidth\":2.0},\"annotationdefaults\":{\"arrowcolor\":\"#2a3f5f\",\"arrowhead\":0,\"arrowwidth\":1},\"shapedefaults\":{\"line\":{\"color\":\"rgba(42, 63, 95, 1.0)\"}},\"colorway\":[\"rgba(99, 110, 250, 1.0)\",\"rgba(239, 85, 59, 1.0)\",\"rgba(0, 204, 150, 1.0)\",\"rgba(171, 99, 250, 1.0)\",\"rgba(255, 161, 90, 1.0)\",\"rgba(25, 211, 243, 1.0)\",\"rgba(255, 102, 146, 1.0)\",\"rgba(182, 232, 128, 1.0)\",\"rgba(255, 151, 255, 1.0)\",\"rgba(254, 203, 82, 1.0)\"]},\"data\":{\"bar\":[{\"marker\":{\"line\":{\"color\":\"rgba(229, 236, 246, 1.0)\",\"width\":0.5},\"pattern\":{\"fillmode\":\"overlay\",\"size\":10,\"solidity\":0.2}},\"error_x\":{\"color\":\"rgba(42, 63, 95, 1.0)\"},\"error_y\":{\"color\":\"rgba(42, 63, 95, 1.0)\"}}],\"barpolar\":[{\"marker\":{\"line\":{\"color\":\"rgba(229, 236, 246, 1.0)\",\"width\":0.5},\"pattern\":{\"fillmode\":\"overlay\",\"size\":10,\"solidity\":0.2}}}],\"carpet\":[{\"aaxis\":{\"linecolor\":\"rgba(255, 255, 255, 1.0)\",\"gridcolor\":\"rgba(255, 255, 255, 1.0)\",\"endlinecolor\":\"rgba(42, 63, 95, 1.0)\",\"minorgridcolor\":\"rgba(255, 255, 255, 1.0)\",\"startlinecolor\":\"rgba(42, 63, 95, 1.0)\"},\"baxis\":{\"linecolor\":\"rgba(255, 255, 255, 1.0)\",\"gridcolor\":\"rgba(255, 255, 255, 1.0)\",\"endlinecolor\":\"rgba(42, 63, 95, 1.0)\",\"minorgridcolor\":\"rgba(255, 255, 255, 1.0)\",\"startlinecolor\":\"rgba(42, 63, 95, 1.0)\"}}],\"choropleth\":[{\"colorbar\":{\"outlinewidth\":0.0,\"ticks\":\"\"},\"colorscale\":[[0.0,\"#0d0887\"],[0.1111111111111111,\"#46039f\"],[0.2222222222222222,\"#7201a8\"],[0.3333333333333333,\"#9c179e\"],[0.4444444444444444,\"#bd3786\"],[0.5555555555555556,\"#d8576b\"],[0.6666666666666666,\"#ed7953\"],[0.7777777777777778,\"#fb9f3a\"],[0.8888888888888888,\"#fdca26\"],[1.0,\"#f0f921\"]]}],\"contour\":[{\"colorbar\":{\"outlinewidth\":0.0,\"ticks\":\"\"},\"colorscale\":[[0.0,\"#0d0887\"],[0.1111111111111111,\"#46039f\"],[0.2222222222222222,\"#7201a8\"],[0.3333333333333333,\"#9c179e\"],[0.4444444444444444,\"#bd3786\"],[0.5555555555555556,\"#d8576b\"],[0.6666666666666666,\"#ed7953\"],[0.7777777777777778,\"#fb9f3a\"],[0.8888888888888888,\"#fdca26\"],[1.0,\"#f0f921\"]]}],\"contourcarpet\":[{\"colorbar\":{\"outlinewidth\":0.0,\"ticks\":\"\"}}],\"heatmap\":[{\"colorbar\":{\"outlinewidth\":0.0,\"ticks\":\"\"},\"colorscale\":[[0.0,\"#0d0887\"],[0.1111111111111111,\"#46039f\"],[0.2222222222222222,\"#7201a8\"],[0.3333333333333333,\"#9c179e\"],[0.4444444444444444,\"#bd3786\"],[0.5555555555555556,\"#d8576b\"],[0.6666666666666666,\"#ed7953\"],[0.7777777777777778,\"#fb9f3a\"],[0.8888888888888888,\"#fdca26\"],[1.0,\"#f0f921\"]]}],\"heatmapgl\":[{\"colorbar\":{\"outlinewidth\":0.0,\"ticks\":\"\"},\"colorscale\":[[0.0,\"#0d0887\"],[0.1111111111111111,\"#46039f\"],[0.2222222222222222,\"#7201a8\"],[0.3333333333333333,\"#9c179e\"],[0.4444444444444444,\"#bd3786\"],[0.5555555555555556,\"#d8576b\"],[0.6666666666666666,\"#ed7953\"],[0.7777777777777778,\"#fb9f3a\"],[0.8888888888888888,\"#fdca26\"],[1.0,\"#f0f921\"]]}],\"histogram\":[{\"marker\":{\"pattern\":{\"fillmode\":\"overlay\",\"size\":10,\"solidity\":0.2}}}],\"histogram2d\":[{\"colorbar\":{\"outlinewidth\":0.0,\"ticks\":\"\"},\"colorscale\":[[0.0,\"#0d0887\"],[0.1111111111111111,\"#46039f\"],[0.2222222222222222,\"#7201a8\"],[0.3333333333333333,\"#9c179e\"],[0.4444444444444444,\"#bd3786\"],[0.5555555555555556,\"#d8576b\"],[0.6666666666666666,\"#ed7953\"],[0.7777777777777778,\"#fb9f3a\"],[0.8888888888888888,\"#fdca26\"],[1.0,\"#f0f921\"]]}],\"histogram2dcontour\":[{\"colorbar\":{\"outlinewidth\":0.0,\"ticks\":\"\"},\"colorscale\":[[0.0,\"#0d0887\"],[0.1111111111111111,\"#46039f\"],[0.2222222222222222,\"#7201a8\"],[0.3333333333333333,\"#9c179e\"],[0.4444444444444444,\"#bd3786\"],[0.5555555555555556,\"#d8576b\"],[0.6666666666666666,\"#ed7953\"],[0.7777777777777778,\"#fb9f3a\"],[0.8888888888888888,\"#fdca26\"],[1.0,\"#f0f921\"]]}],\"mesh3d\":[{\"colorbar\":{\"outlinewidth\":0.0,\"ticks\":\"\"}}],\"parcoords\":[{\"line\":{\"colorbar\":{\"outlinewidth\":0.0,\"ticks\":\"\"}}}],\"pie\":[{\"automargin\":true}],\"scatter\":[{\"marker\":{\"colorbar\":{\"outlinewidth\":0.0,\"ticks\":\"\"}}}],\"scatter3d\":[{\"marker\":{\"colorbar\":{\"outlinewidth\":0.0,\"ticks\":\"\"}},\"line\":{\"colorbar\":{\"outlinewidth\":0.0,\"ticks\":\"\"}}}],\"scattercarpet\":[{\"marker\":{\"colorbar\":{\"outlinewidth\":0.0,\"ticks\":\"\"}}}],\"scattergeo\":[{\"marker\":{\"colorbar\":{\"outlinewidth\":0.0,\"ticks\":\"\"}}}],\"scattergl\":[{\"marker\":{\"colorbar\":{\"outlinewidth\":0.0,\"ticks\":\"\"}}}],\"scattermapbox\":[{\"marker\":{\"colorbar\":{\"outlinewidth\":0.0,\"ticks\":\"\"}}}],\"scatterpolar\":[{\"marker\":{\"colorbar\":{\"outlinewidth\":0.0,\"ticks\":\"\"}}}],\"scatterpolargl\":[{\"marker\":{\"colorbar\":{\"outlinewidth\":0.0,\"ticks\":\"\"}}}],\"scatterternary\":[{\"marker\":{\"colorbar\":{\"outlinewidth\":0.0,\"ticks\":\"\"}}}],\"surface\":[{\"colorbar\":{\"outlinewidth\":0.0,\"ticks\":\"\"},\"colorscale\":[[0.0,\"#0d0887\"],[0.1111111111111111,\"#46039f\"],[0.2222222222222222,\"#7201a8\"],[0.3333333333333333,\"#9c179e\"],[0.4444444444444444,\"#bd3786\"],[0.5555555555555556,\"#d8576b\"],[0.6666666666666666,\"#ed7953\"],[0.7777777777777778,\"#fb9f3a\"],[0.8888888888888888,\"#fdca26\"],[1.0,\"#f0f921\"]]}],\"table\":[{\"cells\":{\"fill\":{\"color\":\"rgba(235, 240, 248, 1.0)\"},\"line\":{\"color\":\"rgba(255, 255, 255, 1.0)\"}},\"header\":{\"fill\":{\"color\":\"rgba(200, 212, 227, 1.0)\"},\"line\":{\"color\":\"rgba(255, 255, 255, 1.0)\"}}}]}},\"yaxis\":{\"autorange\":\"reversed\",\"title\":{\"text\":\"Actual\"},\"showline\":false,\"showgrid\":false,\"side\":\"left\",\"showbackground\":false},\"title\":{\"text\":\"Confusion Matrix\"},\"xaxis\":{\"title\":{\"text\":\"Predicted\"},\"showline\":false,\"showgrid\":false,\"side\":\"top\",\"showbackground\":false},\"annotations\":[{\"x\":0,\"y\":0,\"bgcolor\":\"#FFFFFF\",\"bordercolor\":\"#003171\",\"font\":{\"size\":18.0},\"showarrow\":false,\"text\":\"9\"},{\"x\":1,\"y\":0,\"bgcolor\":\"#FFFFFF\",\"bordercolor\":\"#003171\",\"font\":{\"size\":18.0},\"showarrow\":false,\"text\":\"8\"},{\"x\":0,\"y\":1,\"bgcolor\":\"#FFFFFF\",\"bordercolor\":\"#003171\",\"font\":{\"size\":18.0},\"showarrow\":false,\"text\":\"1\"},{\"x\":1,\"y\":1,\"bgcolor\":\"#FFFFFF\",\"bordercolor\":\"#003171\",\"font\":{\"size\":18.0},\"showarrow\":false,\"text\":\"24\"},{\"x\":0,\"y\":1.55,\"font\":{\"size\":12.0},\"showarrow\":false,\"text\":\"Precision 0.900\"},{\"x\":1.55,\"y\":0,\"font\":{\"size\":12.0},\"showarrow\":false,\"text\":\"Recall 0.529\",\"textangle\":-90.0},{\"x\":1,\"y\":1.55,\"font\":{\"size\":12.0},\"showarrow\":false,\"text\":\"Precision 0.750\"},{\"x\":1.55,\"y\":1,\"font\":{\"size\":12.0},\"showarrow\":false,\"text\":\"Recall 0.960\",\"textangle\":-90.0}]};\n",
       "        var config = {\"responsive\":true};\n",
       "        Plotly.newPlot('7b39afba-f4ee-4315-b091-a8643eb3dcf7', data, layout, config);\n",
       "    });\n",
       "};\n",
       "if ((typeof(requirejs) !==  typeof(Function)) || (typeof(requirejs.config) !== typeof(Function))) {\n",
       "    var script = document.createElement(\"script\");\n",
       "    script.setAttribute(\"charset\", \"utf-8\");\n",
       "    script.setAttribute(\"src\", \"https://cdnjs.cloudflare.com/ajax/libs/require.js/2.3.6/require.min.js\");\n",
       "    script.onload = function(){\n",
       "        renderPlotly_7b39afbaf4ee4315b091a8643eb3dcf7();\n",
       "    };\n",
       "    document.getElementsByTagName(\"head\")[0].appendChild(script);\n",
       "}\n",
       "else {\n",
       "    renderPlotly_7b39afbaf4ee4315b091a8643eb3dcf7();\n",
       "}\n",
       "</script></div>"
      ]
     },
     "metadata": {},
     "output_type": "display_data"
    }
   ],
   "source": [
    "MLCharts.RenderConfusionMatrix(results.BestRun)"
   ]
  },
  {
   "cell_type": "code",
   "execution_count": null,
   "metadata": {
    "dotnet_interactive": {
     "language": "csharp"
    },
    "polyglot_notebook": {
     "kernelName": "csharp"
    },
    "vscode": {
     "languageId": "polyglot-notebook"
    }
   },
   "outputs": [
    {
     "data": {
      "text/html": [
       "<div><div id=\"2d725421-2a68-4302-8f3f-cc1a1c3ee383\"><!-- Plotly chart will be drawn inside this DIV --></div><script type=\"text/javascript\">\n",
       "var renderPlotly_2d7254212a6843028f3fcc1a1c3ee383 = function() {\n",
       "    var fsharpPlotlyRequire = requirejs.config({context:'fsharp-plotly',paths:{plotly:'https://cdn.plot.ly/plotly-2.27.1.min'}}) || require;\n",
       "    fsharpPlotlyRequire(['plotly'], function(Plotly) {\n",
       "        var data = [{\"type\":\"bar\",\"x\":[0.96,0.75,0.5294117647058824,0.9,0.7916167381810545,0.7847058823529411,0.6666666666666667,0.7857142857142857],\"y\":[\"Negative Recall\",\"Negative Precision\",\"Positive Recall\",\"Positive Precision\",\"AUCPR\",\"AUC\",\"F1 Score\",\"Accuracy\"],\"text\":[\"0.960\",\"0.750\",\"0.529\",\"0.900\",\"0.792\",\"0.785\",\"0.667\",\"0.786\"],\"orientation\":\"h\",\"marker\":{\"color\":\"#003171\",\"pattern\":{}}}];\n",
       "        var layout = {\"width\":600,\"height\":600,\"template\":{\"layout\":{\"title\":{\"x\":0.05},\"font\":{\"color\":\"rgba(42, 63, 95, 1.0)\"},\"paper_bgcolor\":\"rgba(255, 255, 255, 1.0)\",\"plot_bgcolor\":\"rgba(229, 236, 246, 1.0)\",\"autotypenumbers\":\"strict\",\"colorscale\":{\"diverging\":[[0.0,\"#8e0152\"],[0.1,\"#c51b7d\"],[0.2,\"#de77ae\"],[0.3,\"#f1b6da\"],[0.4,\"#fde0ef\"],[0.5,\"#f7f7f7\"],[0.6,\"#e6f5d0\"],[0.7,\"#b8e186\"],[0.8,\"#7fbc41\"],[0.9,\"#4d9221\"],[1.0,\"#276419\"]],\"sequential\":[[0.0,\"#0d0887\"],[0.1111111111111111,\"#46039f\"],[0.2222222222222222,\"#7201a8\"],[0.3333333333333333,\"#9c179e\"],[0.4444444444444444,\"#bd3786\"],[0.5555555555555556,\"#d8576b\"],[0.6666666666666666,\"#ed7953\"],[0.7777777777777778,\"#fb9f3a\"],[0.8888888888888888,\"#fdca26\"],[1.0,\"#f0f921\"]],\"sequentialminus\":[[0.0,\"#0d0887\"],[0.1111111111111111,\"#46039f\"],[0.2222222222222222,\"#7201a8\"],[0.3333333333333333,\"#9c179e\"],[0.4444444444444444,\"#bd3786\"],[0.5555555555555556,\"#d8576b\"],[0.6666666666666666,\"#ed7953\"],[0.7777777777777778,\"#fb9f3a\"],[0.8888888888888888,\"#fdca26\"],[1.0,\"#f0f921\"]]},\"hovermode\":\"closest\",\"hoverlabel\":{\"align\":\"left\"},\"coloraxis\":{\"colorbar\":{\"outlinewidth\":0.0,\"ticks\":\"\"}},\"geo\":{\"showland\":true,\"landcolor\":\"rgba(229, 236, 246, 1.0)\",\"showlakes\":true,\"lakecolor\":\"rgba(255, 255, 255, 1.0)\",\"subunitcolor\":\"rgba(255, 255, 255, 1.0)\",\"bgcolor\":\"rgba(255, 255, 255, 1.0)\"},\"mapbox\":{\"style\":\"light\"},\"polar\":{\"bgcolor\":\"rgba(229, 236, 246, 1.0)\",\"radialaxis\":{\"linecolor\":\"rgba(255, 255, 255, 1.0)\",\"gridcolor\":\"rgba(255, 255, 255, 1.0)\",\"ticks\":\"\"},\"angularaxis\":{\"linecolor\":\"rgba(255, 255, 255, 1.0)\",\"gridcolor\":\"rgba(255, 255, 255, 1.0)\",\"ticks\":\"\"}},\"scene\":{\"xaxis\":{\"ticks\":\"\",\"linecolor\":\"rgba(255, 255, 255, 1.0)\",\"gridcolor\":\"rgba(255, 255, 255, 1.0)\",\"gridwidth\":2.0,\"zerolinecolor\":\"rgba(255, 255, 255, 1.0)\",\"backgroundcolor\":\"rgba(229, 236, 246, 1.0)\",\"showbackground\":true},\"yaxis\":{\"ticks\":\"\",\"linecolor\":\"rgba(255, 255, 255, 1.0)\",\"gridcolor\":\"rgba(255, 255, 255, 1.0)\",\"gridwidth\":2.0,\"zerolinecolor\":\"rgba(255, 255, 255, 1.0)\",\"backgroundcolor\":\"rgba(229, 236, 246, 1.0)\",\"showbackground\":true},\"zaxis\":{\"ticks\":\"\",\"linecolor\":\"rgba(255, 255, 255, 1.0)\",\"gridcolor\":\"rgba(255, 255, 255, 1.0)\",\"gridwidth\":2.0,\"zerolinecolor\":\"rgba(255, 255, 255, 1.0)\",\"backgroundcolor\":\"rgba(229, 236, 246, 1.0)\",\"showbackground\":true}},\"ternary\":{\"aaxis\":{\"ticks\":\"\",\"linecolor\":\"rgba(255, 255, 255, 1.0)\",\"gridcolor\":\"rgba(255, 255, 255, 1.0)\"},\"baxis\":{\"ticks\":\"\",\"linecolor\":\"rgba(255, 255, 255, 1.0)\",\"gridcolor\":\"rgba(255, 255, 255, 1.0)\"},\"caxis\":{\"ticks\":\"\",\"linecolor\":\"rgba(255, 255, 255, 1.0)\",\"gridcolor\":\"rgba(255, 255, 255, 1.0)\"},\"bgcolor\":\"rgba(229, 236, 246, 1.0)\"},\"xaxis\":{\"title\":{\"standoff\":15},\"ticks\":\"\",\"automargin\":\"height+width+left+right+top+bottom\",\"linecolor\":\"rgba(255, 255, 255, 1.0)\",\"gridcolor\":\"rgba(255, 255, 255, 1.0)\",\"zerolinecolor\":\"rgba(255, 255, 255, 1.0)\",\"zerolinewidth\":2.0},\"yaxis\":{\"title\":{\"standoff\":15},\"ticks\":\"\",\"automargin\":\"height+width+left+right+top+bottom\",\"linecolor\":\"rgba(255, 255, 255, 1.0)\",\"gridcolor\":\"rgba(255, 255, 255, 1.0)\",\"zerolinecolor\":\"rgba(255, 255, 255, 1.0)\",\"zerolinewidth\":2.0},\"annotationdefaults\":{\"arrowcolor\":\"#2a3f5f\",\"arrowhead\":0,\"arrowwidth\":1},\"shapedefaults\":{\"line\":{\"color\":\"rgba(42, 63, 95, 1.0)\"}},\"colorway\":[\"rgba(99, 110, 250, 1.0)\",\"rgba(239, 85, 59, 1.0)\",\"rgba(0, 204, 150, 1.0)\",\"rgba(171, 99, 250, 1.0)\",\"rgba(255, 161, 90, 1.0)\",\"rgba(25, 211, 243, 1.0)\",\"rgba(255, 102, 146, 1.0)\",\"rgba(182, 232, 128, 1.0)\",\"rgba(255, 151, 255, 1.0)\",\"rgba(254, 203, 82, 1.0)\"]},\"data\":{\"bar\":[{\"marker\":{\"line\":{\"color\":\"rgba(229, 236, 246, 1.0)\",\"width\":0.5},\"pattern\":{\"fillmode\":\"overlay\",\"size\":10,\"solidity\":0.2}},\"error_x\":{\"color\":\"rgba(42, 63, 95, 1.0)\"},\"error_y\":{\"color\":\"rgba(42, 63, 95, 1.0)\"}}],\"barpolar\":[{\"marker\":{\"line\":{\"color\":\"rgba(229, 236, 246, 1.0)\",\"width\":0.5},\"pattern\":{\"fillmode\":\"overlay\",\"size\":10,\"solidity\":0.2}}}],\"carpet\":[{\"aaxis\":{\"linecolor\":\"rgba(255, 255, 255, 1.0)\",\"gridcolor\":\"rgba(255, 255, 255, 1.0)\",\"endlinecolor\":\"rgba(42, 63, 95, 1.0)\",\"minorgridcolor\":\"rgba(255, 255, 255, 1.0)\",\"startlinecolor\":\"rgba(42, 63, 95, 1.0)\"},\"baxis\":{\"linecolor\":\"rgba(255, 255, 255, 1.0)\",\"gridcolor\":\"rgba(255, 255, 255, 1.0)\",\"endlinecolor\":\"rgba(42, 63, 95, 1.0)\",\"minorgridcolor\":\"rgba(255, 255, 255, 1.0)\",\"startlinecolor\":\"rgba(42, 63, 95, 1.0)\"}}],\"choropleth\":[{\"colorbar\":{\"outlinewidth\":0.0,\"ticks\":\"\"},\"colorscale\":[[0.0,\"#0d0887\"],[0.1111111111111111,\"#46039f\"],[0.2222222222222222,\"#7201a8\"],[0.3333333333333333,\"#9c179e\"],[0.4444444444444444,\"#bd3786\"],[0.5555555555555556,\"#d8576b\"],[0.6666666666666666,\"#ed7953\"],[0.7777777777777778,\"#fb9f3a\"],[0.8888888888888888,\"#fdca26\"],[1.0,\"#f0f921\"]]}],\"contour\":[{\"colorbar\":{\"outlinewidth\":0.0,\"ticks\":\"\"},\"colorscale\":[[0.0,\"#0d0887\"],[0.1111111111111111,\"#46039f\"],[0.2222222222222222,\"#7201a8\"],[0.3333333333333333,\"#9c179e\"],[0.4444444444444444,\"#bd3786\"],[0.5555555555555556,\"#d8576b\"],[0.6666666666666666,\"#ed7953\"],[0.7777777777777778,\"#fb9f3a\"],[0.8888888888888888,\"#fdca26\"],[1.0,\"#f0f921\"]]}],\"contourcarpet\":[{\"colorbar\":{\"outlinewidth\":0.0,\"ticks\":\"\"}}],\"heatmap\":[{\"colorbar\":{\"outlinewidth\":0.0,\"ticks\":\"\"},\"colorscale\":[[0.0,\"#0d0887\"],[0.1111111111111111,\"#46039f\"],[0.2222222222222222,\"#7201a8\"],[0.3333333333333333,\"#9c179e\"],[0.4444444444444444,\"#bd3786\"],[0.5555555555555556,\"#d8576b\"],[0.6666666666666666,\"#ed7953\"],[0.7777777777777778,\"#fb9f3a\"],[0.8888888888888888,\"#fdca26\"],[1.0,\"#f0f921\"]]}],\"heatmapgl\":[{\"colorbar\":{\"outlinewidth\":0.0,\"ticks\":\"\"},\"colorscale\":[[0.0,\"#0d0887\"],[0.1111111111111111,\"#46039f\"],[0.2222222222222222,\"#7201a8\"],[0.3333333333333333,\"#9c179e\"],[0.4444444444444444,\"#bd3786\"],[0.5555555555555556,\"#d8576b\"],[0.6666666666666666,\"#ed7953\"],[0.7777777777777778,\"#fb9f3a\"],[0.8888888888888888,\"#fdca26\"],[1.0,\"#f0f921\"]]}],\"histogram\":[{\"marker\":{\"pattern\":{\"fillmode\":\"overlay\",\"size\":10,\"solidity\":0.2}}}],\"histogram2d\":[{\"colorbar\":{\"outlinewidth\":0.0,\"ticks\":\"\"},\"colorscale\":[[0.0,\"#0d0887\"],[0.1111111111111111,\"#46039f\"],[0.2222222222222222,\"#7201a8\"],[0.3333333333333333,\"#9c179e\"],[0.4444444444444444,\"#bd3786\"],[0.5555555555555556,\"#d8576b\"],[0.6666666666666666,\"#ed7953\"],[0.7777777777777778,\"#fb9f3a\"],[0.8888888888888888,\"#fdca26\"],[1.0,\"#f0f921\"]]}],\"histogram2dcontour\":[{\"colorbar\":{\"outlinewidth\":0.0,\"ticks\":\"\"},\"colorscale\":[[0.0,\"#0d0887\"],[0.1111111111111111,\"#46039f\"],[0.2222222222222222,\"#7201a8\"],[0.3333333333333333,\"#9c179e\"],[0.4444444444444444,\"#bd3786\"],[0.5555555555555556,\"#d8576b\"],[0.6666666666666666,\"#ed7953\"],[0.7777777777777778,\"#fb9f3a\"],[0.8888888888888888,\"#fdca26\"],[1.0,\"#f0f921\"]]}],\"mesh3d\":[{\"colorbar\":{\"outlinewidth\":0.0,\"ticks\":\"\"}}],\"parcoords\":[{\"line\":{\"colorbar\":{\"outlinewidth\":0.0,\"ticks\":\"\"}}}],\"pie\":[{\"automargin\":true}],\"scatter\":[{\"marker\":{\"colorbar\":{\"outlinewidth\":0.0,\"ticks\":\"\"}}}],\"scatter3d\":[{\"marker\":{\"colorbar\":{\"outlinewidth\":0.0,\"ticks\":\"\"}},\"line\":{\"colorbar\":{\"outlinewidth\":0.0,\"ticks\":\"\"}}}],\"scattercarpet\":[{\"marker\":{\"colorbar\":{\"outlinewidth\":0.0,\"ticks\":\"\"}}}],\"scattergeo\":[{\"marker\":{\"colorbar\":{\"outlinewidth\":0.0,\"ticks\":\"\"}}}],\"scattergl\":[{\"marker\":{\"colorbar\":{\"outlinewidth\":0.0,\"ticks\":\"\"}}}],\"scattermapbox\":[{\"marker\":{\"colorbar\":{\"outlinewidth\":0.0,\"ticks\":\"\"}}}],\"scatterpolar\":[{\"marker\":{\"colorbar\":{\"outlinewidth\":0.0,\"ticks\":\"\"}}}],\"scatterpolargl\":[{\"marker\":{\"colorbar\":{\"outlinewidth\":0.0,\"ticks\":\"\"}}}],\"scatterternary\":[{\"marker\":{\"colorbar\":{\"outlinewidth\":0.0,\"ticks\":\"\"}}}],\"surface\":[{\"colorbar\":{\"outlinewidth\":0.0,\"ticks\":\"\"},\"colorscale\":[[0.0,\"#0d0887\"],[0.1111111111111111,\"#46039f\"],[0.2222222222222222,\"#7201a8\"],[0.3333333333333333,\"#9c179e\"],[0.4444444444444444,\"#bd3786\"],[0.5555555555555556,\"#d8576b\"],[0.6666666666666666,\"#ed7953\"],[0.7777777777777778,\"#fb9f3a\"],[0.8888888888888888,\"#fdca26\"],[1.0,\"#f0f921\"]]}],\"table\":[{\"cells\":{\"fill\":{\"color\":\"rgba(235, 240, 248, 1.0)\"},\"line\":{\"color\":\"rgba(255, 255, 255, 1.0)\"}},\"header\":{\"fill\":{\"color\":\"rgba(200, 212, 227, 1.0)\"},\"line\":{\"color\":\"rgba(255, 255, 255, 1.0)\"}}}]}},\"title\":{\"text\":\"Binary Classification Metrics\"},\"xaxis\":{\"title\":{},\"range\":[0,1]}};\n",
       "        var config = {\"responsive\":true};\n",
       "        Plotly.newPlot('2d725421-2a68-4302-8f3f-cc1a1c3ee383', data, layout, config);\n",
       "    });\n",
       "};\n",
       "if ((typeof(requirejs) !==  typeof(Function)) || (typeof(requirejs.config) !== typeof(Function))) {\n",
       "    var script = document.createElement(\"script\");\n",
       "    script.setAttribute(\"charset\", \"utf-8\");\n",
       "    script.setAttribute(\"src\", \"https://cdnjs.cloudflare.com/ajax/libs/require.js/2.3.6/require.min.js\");\n",
       "    script.onload = function(){\n",
       "        renderPlotly_2d7254212a6843028f3fcc1a1c3ee383();\n",
       "    };\n",
       "    document.getElementsByTagName(\"head\")[0].appendChild(script);\n",
       "}\n",
       "else {\n",
       "    renderPlotly_2d7254212a6843028f3fcc1a1c3ee383();\n",
       "}\n",
       "</script></div>"
      ]
     },
     "metadata": {},
     "output_type": "display_data"
    }
   ],
   "source": [
    "MLCharts.RenderClassificationMetrics(results.BestRun.ValidationMetrics)"
   ]
  },
  {
   "cell_type": "code",
   "execution_count": null,
   "metadata": {
    "dotnet_interactive": {
     "language": "csharp"
    },
    "polyglot_notebook": {
     "kernelName": "csharp"
    },
    "vscode": {
     "languageId": "polyglot-notebook"
    }
   },
   "outputs": [
    {
     "data": {
      "text/html": [
       "<table id=\"table_638546604561582839\"><thead><tr><th><i>index</i></th><th>Model</th><th>F1 Score</th><th>Accuracy</th><th>Positive Precision</th><th>Positive Recall</th><th>Negative Precision</th><th>Negative Recall</th><th>AUC</th><th>AUCPR</th></tr></thead><tbody><tr><td><i><div class=\"dni-plaintext\"><pre>0</pre></div></i></td><td>Simple AutoML - 10% Test Split</td><td><div class=\"dni-plaintext\"><pre>0.6666666666666667</pre></div></td><td><div class=\"dni-plaintext\"><pre>0.7857142857142857</pre></div></td><td><div class=\"dni-plaintext\"><pre>0.9</pre></div></td><td><div class=\"dni-plaintext\"><pre>0.5294117647058824</pre></div></td><td><div class=\"dni-plaintext\"><pre>0.75</pre></div></td><td><div class=\"dni-plaintext\"><pre>0.96</pre></div></td><td><div class=\"dni-plaintext\"><pre>0.7847058823529411</pre></div></td><td><div class=\"dni-plaintext\"><pre>0.7916167381810545</pre></div></td></tr></tbody></table><style>\r\n",
       ".dni-code-hint {\r\n",
       "    font-style: italic;\r\n",
       "    overflow: hidden;\r\n",
       "    white-space: nowrap;\r\n",
       "}\r\n",
       ".dni-treeview {\r\n",
       "    white-space: nowrap;\r\n",
       "}\r\n",
       ".dni-treeview td {\r\n",
       "    vertical-align: top;\r\n",
       "    text-align: start;\r\n",
       "}\r\n",
       "details.dni-treeview {\r\n",
       "    padding-left: 1em;\r\n",
       "}\r\n",
       "table td {\r\n",
       "    text-align: start;\r\n",
       "}\r\n",
       "table tr { \r\n",
       "    vertical-align: top; \r\n",
       "    margin: 0em 0px;\r\n",
       "}\r\n",
       "table tr td pre \r\n",
       "{ \r\n",
       "    vertical-align: top !important; \r\n",
       "    margin: 0em 0px !important;\r\n",
       "} \r\n",
       "table th {\r\n",
       "    text-align: start;\r\n",
       "}\r\n",
       "</style>"
      ]
     },
     "metadata": {},
     "output_type": "display_data"
    }
   ],
   "source": [
    "// Record the best run in our model tracker so we can compare it to future models\n",
    "modelTracker.Register(\"Simple AutoML - 10% Test Split\", results.BestRun).ToDataFrame()"
   ]
  },
  {
   "cell_type": "markdown",
   "metadata": {},
   "source": [
    "Interesting. Overall decent metrics, but that's a very small quantity of rows in the test set.\n",
    "\n",
    "We can get more confidence by choosing a larger chunk of test data."
   ]
  },
  {
   "cell_type": "code",
   "execution_count": null,
   "metadata": {
    "dotnet_interactive": {
     "language": "csharp"
    },
    "polyglot_notebook": {
     "kernelName": "csharp"
    },
    "vscode": {
     "languageId": "polyglot-notebook"
    }
   },
   "outputs": [],
   "source": [
    "var split = context.Data.TrainTestSplit(df, testFraction: 0.3, seed: 42);\n",
    "IDataView train = split.TrainSet;\n",
    "IDataView test = split.TestSet;"
   ]
  },
  {
   "cell_type": "code",
   "execution_count": null,
   "metadata": {
    "dotnet_interactive": {
     "language": "csharp"
    },
    "polyglot_notebook": {
     "kernelName": "csharp"
    },
    "vscode": {
     "languageId": "polyglot-notebook"
    }
   },
   "outputs": [
    {
     "data": {
      "text/html": [
       "<div class=\"dni-plaintext\"><pre>[ ReplaceMissingValues=&gt;ConvertType=&gt;FeaturizeText=&gt;Concatenate=&gt;FastForestBinary: 0.6478873239436619\n",
       ", ReplaceMissingValues=&gt;ConvertType=&gt;FeaturizeText=&gt;Concatenate=&gt;LightGbmBinary: 0.6388888888888888\n",
       ", ReplaceMissingValues=&gt;ConvertType=&gt;FeaturizeText=&gt;Concatenate=&gt;FastTreeBinary: 0.6376811594202899\n",
       ", ReplaceMissingValues=&gt;ConvertType=&gt;FeaturizeText=&gt;Concatenate=&gt;FastTreeBinary: 0.6376811594202899\n",
       ", ReplaceMissingValues=&gt;ConvertType=&gt;FeaturizeText=&gt;Concatenate=&gt;FastTreeBinary: 0.6376811594202899\n",
       ", ReplaceMissingValues=&gt;ConvertType=&gt;FeaturizeText=&gt;Concatenate=&gt;FastTreeBinary: 0.6376811594202899\n",
       ", ReplaceMissingValues=&gt;ConvertType=&gt;FeaturizeText=&gt;Concatenate=&gt;FastTreeBinary: 0.6376811594202899\n",
       ", ReplaceMissingValues=&gt;ConvertType=&gt;FeaturizeText=&gt;Concatenate=&gt;FastTreeBinary: 0.6376811594202899\n",
       ", ReplaceMissingValues=&gt;ConvertType=&gt;FeaturizeText=&gt;Concatenate=&gt;FastTreeBinary: 0.6376811594202899\n",
       ", ReplaceMissingValues=&gt;ConvertType=&gt;FeaturizeText=&gt;Concatenate=&gt;FastForestBinary: 0.6301369863013698\n",
       " ]</pre></div><style>\r\n",
       ".dni-code-hint {\r\n",
       "    font-style: italic;\r\n",
       "    overflow: hidden;\r\n",
       "    white-space: nowrap;\r\n",
       "}\r\n",
       ".dni-treeview {\r\n",
       "    white-space: nowrap;\r\n",
       "}\r\n",
       ".dni-treeview td {\r\n",
       "    vertical-align: top;\r\n",
       "    text-align: start;\r\n",
       "}\r\n",
       "details.dni-treeview {\r\n",
       "    padding-left: 1em;\r\n",
       "}\r\n",
       "table td {\r\n",
       "    text-align: start;\r\n",
       "}\r\n",
       "table tr { \r\n",
       "    vertical-align: top; \r\n",
       "    margin: 0em 0px;\r\n",
       "}\r\n",
       "table tr td pre \r\n",
       "{ \r\n",
       "    vertical-align: top !important; \r\n",
       "    margin: 0em 0px !important;\r\n",
       "} \r\n",
       "table th {\r\n",
       "    text-align: start;\r\n",
       "}\r\n",
       "</style>"
      ]
     },
     "metadata": {},
     "output_type": "display_data"
    }
   ],
   "source": [
    "var results = context.Auto().CreateBinaryClassificationExperiment(settings)\n",
    "                            .Execute(train, test);\n",
    "\n",
    "// Let's see what types of models and transforms it considered and their F1 scores\n",
    "results.RunDetails.OrderByDescending(r => r.ValidationMetrics.F1Score)\n",
    "                  .Select(r => r.TrainerName + \": \" + r.ValidationMetrics.F1Score + Environment.NewLine)"
   ]
  },
  {
   "cell_type": "markdown",
   "metadata": {},
   "source": [
    "That's a lot more models in the same amount of time since it didn't need to split every time. The overall metrics are worse, which likely indicates that either the training suffered from having less data or the metrics were artificially high early on from having a small test set.\n",
    "\n",
    "Let's see the confusion matrix with more test data."
   ]
  },
  {
   "cell_type": "code",
   "execution_count": null,
   "metadata": {
    "dotnet_interactive": {
     "language": "csharp"
    },
    "polyglot_notebook": {
     "kernelName": "csharp"
    },
    "vscode": {
     "languageId": "polyglot-notebook"
    }
   },
   "outputs": [
    {
     "data": {
      "text/html": [
       "<div><div id=\"e8c62cc9-5470-4f39-be6a-6cd6ac5547f4\"><!-- Plotly chart will be drawn inside this DIV --></div><script type=\"text/javascript\">\n",
       "var renderPlotly_e8c62cc954704f39be6a6cd6ac5547f4 = function() {\n",
       "    var fsharpPlotlyRequire = requirejs.config({context:'fsharp-plotly',paths:{plotly:'https://cdn.plot.ly/plotly-2.27.1.min'}}) || require;\n",
       "    fsharpPlotlyRequire(['plotly'], function(Plotly) {\n",
       "        var data = [{\"type\":\"heatmap\",\"x\":[\"Positive\",\"Negative\"],\"y\":[\"Positive\",\"Negative\"],\"z\":[[23.0,24.0],[1.0,98.0]],\"colorscale\":[[0.0,\"#FFFFFF\"],[0.5,\"#009dcf\"],[1.0,\"#003171\"]],\"showscale\":false,\"xaxis\":\"x\",\"yaxis\":\"y\",\"marker\":{\"showscale\":false}},{\"type\":\"bar\",\"x\":[0.98989898989899,0.8032786885245902,0.48936170212765956,0.9583333333333334,0.8049616280288557,0.8457984096281969,0.6478873239436619,0.8287671232876712],\"y\":[\"Negative Recall\",\"Negative Precision\",\"Positive Recall\",\"Positive Precision\",\"AUCPR\",\"AUC\",\"F1 Score\",\"Accuracy\"],\"text\":[\"0.990\",\"0.803\",\"0.489\",\"0.958\",\"0.805\",\"0.846\",\"0.648\",\"0.829\"],\"orientation\":\"h\",\"marker\":{\"color\":\"#003171\",\"pattern\":{},\"showscale\":false},\"xaxis\":\"x2\",\"yaxis\":\"y2\"}];\n",
       "        var layout = {\"width\":600,\"height\":600,\"template\":{\"layout\":{\"title\":{\"x\":0.05},\"font\":{\"color\":\"rgba(42, 63, 95, 1.0)\"},\"paper_bgcolor\":\"rgba(255, 255, 255, 1.0)\",\"plot_bgcolor\":\"rgba(229, 236, 246, 1.0)\",\"autotypenumbers\":\"strict\",\"colorscale\":{\"diverging\":[[0.0,\"#8e0152\"],[0.1,\"#c51b7d\"],[0.2,\"#de77ae\"],[0.3,\"#f1b6da\"],[0.4,\"#fde0ef\"],[0.5,\"#f7f7f7\"],[0.6,\"#e6f5d0\"],[0.7,\"#b8e186\"],[0.8,\"#7fbc41\"],[0.9,\"#4d9221\"],[1.0,\"#276419\"]],\"sequential\":[[0.0,\"#0d0887\"],[0.1111111111111111,\"#46039f\"],[0.2222222222222222,\"#7201a8\"],[0.3333333333333333,\"#9c179e\"],[0.4444444444444444,\"#bd3786\"],[0.5555555555555556,\"#d8576b\"],[0.6666666666666666,\"#ed7953\"],[0.7777777777777778,\"#fb9f3a\"],[0.8888888888888888,\"#fdca26\"],[1.0,\"#f0f921\"]],\"sequentialminus\":[[0.0,\"#0d0887\"],[0.1111111111111111,\"#46039f\"],[0.2222222222222222,\"#7201a8\"],[0.3333333333333333,\"#9c179e\"],[0.4444444444444444,\"#bd3786\"],[0.5555555555555556,\"#d8576b\"],[0.6666666666666666,\"#ed7953\"],[0.7777777777777778,\"#fb9f3a\"],[0.8888888888888888,\"#fdca26\"],[1.0,\"#f0f921\"]]},\"hovermode\":\"closest\",\"hoverlabel\":{\"align\":\"left\"},\"coloraxis\":{\"colorbar\":{\"outlinewidth\":0.0,\"ticks\":\"\"}},\"geo\":{\"showland\":true,\"landcolor\":\"rgba(229, 236, 246, 1.0)\",\"showlakes\":true,\"lakecolor\":\"rgba(255, 255, 255, 1.0)\",\"subunitcolor\":\"rgba(255, 255, 255, 1.0)\",\"bgcolor\":\"rgba(255, 255, 255, 1.0)\"},\"mapbox\":{\"style\":\"light\"},\"polar\":{\"bgcolor\":\"rgba(229, 236, 246, 1.0)\",\"radialaxis\":{\"linecolor\":\"rgba(255, 255, 255, 1.0)\",\"gridcolor\":\"rgba(255, 255, 255, 1.0)\",\"ticks\":\"\"},\"angularaxis\":{\"linecolor\":\"rgba(255, 255, 255, 1.0)\",\"gridcolor\":\"rgba(255, 255, 255, 1.0)\",\"ticks\":\"\"}},\"scene\":{\"xaxis\":{\"ticks\":\"\",\"linecolor\":\"rgba(255, 255, 255, 1.0)\",\"gridcolor\":\"rgba(255, 255, 255, 1.0)\",\"gridwidth\":2.0,\"zerolinecolor\":\"rgba(255, 255, 255, 1.0)\",\"backgroundcolor\":\"rgba(229, 236, 246, 1.0)\",\"showbackground\":true},\"yaxis\":{\"ticks\":\"\",\"linecolor\":\"rgba(255, 255, 255, 1.0)\",\"gridcolor\":\"rgba(255, 255, 255, 1.0)\",\"gridwidth\":2.0,\"zerolinecolor\":\"rgba(255, 255, 255, 1.0)\",\"backgroundcolor\":\"rgba(229, 236, 246, 1.0)\",\"showbackground\":true},\"zaxis\":{\"ticks\":\"\",\"linecolor\":\"rgba(255, 255, 255, 1.0)\",\"gridcolor\":\"rgba(255, 255, 255, 1.0)\",\"gridwidth\":2.0,\"zerolinecolor\":\"rgba(255, 255, 255, 1.0)\",\"backgroundcolor\":\"rgba(229, 236, 246, 1.0)\",\"showbackground\":true}},\"ternary\":{\"aaxis\":{\"ticks\":\"\",\"linecolor\":\"rgba(255, 255, 255, 1.0)\",\"gridcolor\":\"rgba(255, 255, 255, 1.0)\"},\"baxis\":{\"ticks\":\"\",\"linecolor\":\"rgba(255, 255, 255, 1.0)\",\"gridcolor\":\"rgba(255, 255, 255, 1.0)\"},\"caxis\":{\"ticks\":\"\",\"linecolor\":\"rgba(255, 255, 255, 1.0)\",\"gridcolor\":\"rgba(255, 255, 255, 1.0)\"},\"bgcolor\":\"rgba(229, 236, 246, 1.0)\"},\"xaxis\":{\"title\":{\"standoff\":15},\"ticks\":\"\",\"automargin\":\"height+width+left+right+top+bottom\",\"linecolor\":\"rgba(255, 255, 255, 1.0)\",\"gridcolor\":\"rgba(255, 255, 255, 1.0)\",\"zerolinecolor\":\"rgba(255, 255, 255, 1.0)\",\"zerolinewidth\":2.0},\"yaxis\":{\"title\":{\"standoff\":15},\"ticks\":\"\",\"automargin\":\"height+width+left+right+top+bottom\",\"linecolor\":\"rgba(255, 255, 255, 1.0)\",\"gridcolor\":\"rgba(255, 255, 255, 1.0)\",\"zerolinecolor\":\"rgba(255, 255, 255, 1.0)\",\"zerolinewidth\":2.0},\"annotationdefaults\":{\"arrowcolor\":\"#2a3f5f\",\"arrowhead\":0,\"arrowwidth\":1},\"shapedefaults\":{\"line\":{\"color\":\"rgba(42, 63, 95, 1.0)\"}},\"colorway\":[\"rgba(99, 110, 250, 1.0)\",\"rgba(239, 85, 59, 1.0)\",\"rgba(0, 204, 150, 1.0)\",\"rgba(171, 99, 250, 1.0)\",\"rgba(255, 161, 90, 1.0)\",\"rgba(25, 211, 243, 1.0)\",\"rgba(255, 102, 146, 1.0)\",\"rgba(182, 232, 128, 1.0)\",\"rgba(255, 151, 255, 1.0)\",\"rgba(254, 203, 82, 1.0)\"]},\"data\":{\"bar\":[{\"marker\":{\"line\":{\"color\":\"rgba(229, 236, 246, 1.0)\",\"width\":0.5},\"pattern\":{\"fillmode\":\"overlay\",\"size\":10,\"solidity\":0.2}},\"error_x\":{\"color\":\"rgba(42, 63, 95, 1.0)\"},\"error_y\":{\"color\":\"rgba(42, 63, 95, 1.0)\"}}],\"barpolar\":[{\"marker\":{\"line\":{\"color\":\"rgba(229, 236, 246, 1.0)\",\"width\":0.5},\"pattern\":{\"fillmode\":\"overlay\",\"size\":10,\"solidity\":0.2}}}],\"carpet\":[{\"aaxis\":{\"linecolor\":\"rgba(255, 255, 255, 1.0)\",\"gridcolor\":\"rgba(255, 255, 255, 1.0)\",\"endlinecolor\":\"rgba(42, 63, 95, 1.0)\",\"minorgridcolor\":\"rgba(255, 255, 255, 1.0)\",\"startlinecolor\":\"rgba(42, 63, 95, 1.0)\"},\"baxis\":{\"linecolor\":\"rgba(255, 255, 255, 1.0)\",\"gridcolor\":\"rgba(255, 255, 255, 1.0)\",\"endlinecolor\":\"rgba(42, 63, 95, 1.0)\",\"minorgridcolor\":\"rgba(255, 255, 255, 1.0)\",\"startlinecolor\":\"rgba(42, 63, 95, 1.0)\"}}],\"choropleth\":[{\"colorbar\":{\"outlinewidth\":0.0,\"ticks\":\"\"},\"colorscale\":[[0.0,\"#0d0887\"],[0.1111111111111111,\"#46039f\"],[0.2222222222222222,\"#7201a8\"],[0.3333333333333333,\"#9c179e\"],[0.4444444444444444,\"#bd3786\"],[0.5555555555555556,\"#d8576b\"],[0.6666666666666666,\"#ed7953\"],[0.7777777777777778,\"#fb9f3a\"],[0.8888888888888888,\"#fdca26\"],[1.0,\"#f0f921\"]]}],\"contour\":[{\"colorbar\":{\"outlinewidth\":0.0,\"ticks\":\"\"},\"colorscale\":[[0.0,\"#0d0887\"],[0.1111111111111111,\"#46039f\"],[0.2222222222222222,\"#7201a8\"],[0.3333333333333333,\"#9c179e\"],[0.4444444444444444,\"#bd3786\"],[0.5555555555555556,\"#d8576b\"],[0.6666666666666666,\"#ed7953\"],[0.7777777777777778,\"#fb9f3a\"],[0.8888888888888888,\"#fdca26\"],[1.0,\"#f0f921\"]]}],\"contourcarpet\":[{\"colorbar\":{\"outlinewidth\":0.0,\"ticks\":\"\"}}],\"heatmap\":[{\"colorbar\":{\"outlinewidth\":0.0,\"ticks\":\"\"},\"colorscale\":[[0.0,\"#0d0887\"],[0.1111111111111111,\"#46039f\"],[0.2222222222222222,\"#7201a8\"],[0.3333333333333333,\"#9c179e\"],[0.4444444444444444,\"#bd3786\"],[0.5555555555555556,\"#d8576b\"],[0.6666666666666666,\"#ed7953\"],[0.7777777777777778,\"#fb9f3a\"],[0.8888888888888888,\"#fdca26\"],[1.0,\"#f0f921\"]]}],\"heatmapgl\":[{\"colorbar\":{\"outlinewidth\":0.0,\"ticks\":\"\"},\"colorscale\":[[0.0,\"#0d0887\"],[0.1111111111111111,\"#46039f\"],[0.2222222222222222,\"#7201a8\"],[0.3333333333333333,\"#9c179e\"],[0.4444444444444444,\"#bd3786\"],[0.5555555555555556,\"#d8576b\"],[0.6666666666666666,\"#ed7953\"],[0.7777777777777778,\"#fb9f3a\"],[0.8888888888888888,\"#fdca26\"],[1.0,\"#f0f921\"]]}],\"histogram\":[{\"marker\":{\"pattern\":{\"fillmode\":\"overlay\",\"size\":10,\"solidity\":0.2}}}],\"histogram2d\":[{\"colorbar\":{\"outlinewidth\":0.0,\"ticks\":\"\"},\"colorscale\":[[0.0,\"#0d0887\"],[0.1111111111111111,\"#46039f\"],[0.2222222222222222,\"#7201a8\"],[0.3333333333333333,\"#9c179e\"],[0.4444444444444444,\"#bd3786\"],[0.5555555555555556,\"#d8576b\"],[0.6666666666666666,\"#ed7953\"],[0.7777777777777778,\"#fb9f3a\"],[0.8888888888888888,\"#fdca26\"],[1.0,\"#f0f921\"]]}],\"histogram2dcontour\":[{\"colorbar\":{\"outlinewidth\":0.0,\"ticks\":\"\"},\"colorscale\":[[0.0,\"#0d0887\"],[0.1111111111111111,\"#46039f\"],[0.2222222222222222,\"#7201a8\"],[0.3333333333333333,\"#9c179e\"],[0.4444444444444444,\"#bd3786\"],[0.5555555555555556,\"#d8576b\"],[0.6666666666666666,\"#ed7953\"],[0.7777777777777778,\"#fb9f3a\"],[0.8888888888888888,\"#fdca26\"],[1.0,\"#f0f921\"]]}],\"mesh3d\":[{\"colorbar\":{\"outlinewidth\":0.0,\"ticks\":\"\"}}],\"parcoords\":[{\"line\":{\"colorbar\":{\"outlinewidth\":0.0,\"ticks\":\"\"}}}],\"pie\":[{\"automargin\":true}],\"scatter\":[{\"marker\":{\"colorbar\":{\"outlinewidth\":0.0,\"ticks\":\"\"}}}],\"scatter3d\":[{\"marker\":{\"colorbar\":{\"outlinewidth\":0.0,\"ticks\":\"\"}},\"line\":{\"colorbar\":{\"outlinewidth\":0.0,\"ticks\":\"\"}}}],\"scattercarpet\":[{\"marker\":{\"colorbar\":{\"outlinewidth\":0.0,\"ticks\":\"\"}}}],\"scattergeo\":[{\"marker\":{\"colorbar\":{\"outlinewidth\":0.0,\"ticks\":\"\"}}}],\"scattergl\":[{\"marker\":{\"colorbar\":{\"outlinewidth\":0.0,\"ticks\":\"\"}}}],\"scattermapbox\":[{\"marker\":{\"colorbar\":{\"outlinewidth\":0.0,\"ticks\":\"\"}}}],\"scatterpolar\":[{\"marker\":{\"colorbar\":{\"outlinewidth\":0.0,\"ticks\":\"\"}}}],\"scatterpolargl\":[{\"marker\":{\"colorbar\":{\"outlinewidth\":0.0,\"ticks\":\"\"}}}],\"scatterternary\":[{\"marker\":{\"colorbar\":{\"outlinewidth\":0.0,\"ticks\":\"\"}}}],\"surface\":[{\"colorbar\":{\"outlinewidth\":0.0,\"ticks\":\"\"},\"colorscale\":[[0.0,\"#0d0887\"],[0.1111111111111111,\"#46039f\"],[0.2222222222222222,\"#7201a8\"],[0.3333333333333333,\"#9c179e\"],[0.4444444444444444,\"#bd3786\"],[0.5555555555555556,\"#d8576b\"],[0.6666666666666666,\"#ed7953\"],[0.7777777777777778,\"#fb9f3a\"],[0.8888888888888888,\"#fdca26\"],[1.0,\"#f0f921\"]]}],\"table\":[{\"cells\":{\"fill\":{\"color\":\"rgba(235, 240, 248, 1.0)\"},\"line\":{\"color\":\"rgba(255, 255, 255, 1.0)\"}},\"header\":{\"fill\":{\"color\":\"rgba(200, 212, 227, 1.0)\"},\"line\":{\"color\":\"rgba(255, 255, 255, 1.0)\"}}}]}},\"xaxis\":{\"title\":{\"text\":\"Predicted\"},\"showline\":false,\"showgrid\":false,\"side\":\"top\",\"showbackground\":false},\"title\":{\"text\":\"Classification Report\"},\"yaxis\":{\"autorange\":\"reversed\",\"title\":{\"text\":\"Actual\"},\"showline\":false,\"showgrid\":false,\"side\":\"left\",\"showbackground\":false},\"annotations\":[{\"x\":0.5,\"y\":1.0,\"showarrow\":false,\"text\":\"\",\"xanchor\":\"center\",\"xref\":\"paper\",\"yanchor\":\"bottom\",\"yref\":\"paper\"},{\"x\":0.5,\"y\":0.4117647058823529,\"showarrow\":false,\"text\":\"Binary Classification Metric\",\"xanchor\":\"center\",\"xref\":\"paper\",\"yanchor\":\"bottom\",\"yref\":\"paper\"},{\"x\":0,\"y\":0,\"bgcolor\":\"#FFFFFF\",\"bordercolor\":\"#003171\",\"font\":{\"size\":18.0},\"showarrow\":false,\"text\":\"23\"},{\"x\":1,\"y\":0,\"bgcolor\":\"#FFFFFF\",\"bordercolor\":\"#003171\",\"font\":{\"size\":18.0},\"showarrow\":false,\"text\":\"24\"},{\"x\":0,\"y\":1,\"bgcolor\":\"#FFFFFF\",\"bordercolor\":\"#003171\",\"font\":{\"size\":18.0},\"showarrow\":false,\"text\":\"1\"},{\"x\":1,\"y\":1,\"bgcolor\":\"#FFFFFF\",\"bordercolor\":\"#003171\",\"font\":{\"size\":18.0},\"showarrow\":false,\"text\":\"98\"}],\"xaxis2\":{\"title\":{},\"range\":[0,1]},\"yaxis2\":{},\"grid\":{\"rows\":2,\"columns\":1,\"roworder\":\"top to bottom\",\"pattern\":\"independent\"}};\n",
       "        var config = {\"responsive\":true};\n",
       "        Plotly.newPlot('e8c62cc9-5470-4f39-be6a-6cd6ac5547f4', data, layout, config);\n",
       "    });\n",
       "};\n",
       "if ((typeof(requirejs) !==  typeof(Function)) || (typeof(requirejs.config) !== typeof(Function))) {\n",
       "    var script = document.createElement(\"script\");\n",
       "    script.setAttribute(\"charset\", \"utf-8\");\n",
       "    script.setAttribute(\"src\", \"https://cdnjs.cloudflare.com/ajax/libs/require.js/2.3.6/require.min.js\");\n",
       "    script.onload = function(){\n",
       "        renderPlotly_e8c62cc954704f39be6a6cd6ac5547f4();\n",
       "    };\n",
       "    document.getElementsByTagName(\"head\")[0].appendChild(script);\n",
       "}\n",
       "else {\n",
       "    renderPlotly_e8c62cc954704f39be6a6cd6ac5547f4();\n",
       "}\n",
       "</script></div>"
      ]
     },
     "metadata": {},
     "output_type": "display_data"
    }
   ],
   "source": [
    "MLCharts.ClassificationReport(results.BestRun)"
   ]
  },
  {
   "cell_type": "code",
   "execution_count": null,
   "metadata": {
    "dotnet_interactive": {
     "language": "csharp"
    },
    "polyglot_notebook": {
     "kernelName": "csharp"
    },
    "vscode": {
     "languageId": "polyglot-notebook"
    }
   },
   "outputs": [
    {
     "data": {
      "text/html": [
       "<table id=\"table_638546604601060132\"><thead><tr><th><i>index</i></th><th>Model</th><th>F1 Score</th><th>Accuracy</th><th>Positive Precision</th><th>Positive Recall</th><th>Negative Precision</th><th>Negative Recall</th><th>AUC</th><th>AUCPR</th></tr></thead><tbody><tr><td><i><div class=\"dni-plaintext\"><pre>0</pre></div></i></td><td>Simple AutoML - 10% Test Split</td><td><div class=\"dni-plaintext\"><pre>0.6666666666666667</pre></div></td><td><div class=\"dni-plaintext\"><pre>0.7857142857142857</pre></div></td><td><div class=\"dni-plaintext\"><pre>0.9</pre></div></td><td><div class=\"dni-plaintext\"><pre>0.5294117647058824</pre></div></td><td><div class=\"dni-plaintext\"><pre>0.75</pre></div></td><td><div class=\"dni-plaintext\"><pre>0.96</pre></div></td><td><div class=\"dni-plaintext\"><pre>0.7847058823529411</pre></div></td><td><div class=\"dni-plaintext\"><pre>0.7916167381810545</pre></div></td></tr><tr><td><i><div class=\"dni-plaintext\"><pre>1</pre></div></i></td><td>Simple AutoML - 30% Test Split</td><td><div class=\"dni-plaintext\"><pre>0.6478873239436619</pre></div></td><td><div class=\"dni-plaintext\"><pre>0.8287671232876712</pre></div></td><td><div class=\"dni-plaintext\"><pre>0.9583333333333334</pre></div></td><td><div class=\"dni-plaintext\"><pre>0.48936170212765956</pre></div></td><td><div class=\"dni-plaintext\"><pre>0.8032786885245902</pre></div></td><td><div class=\"dni-plaintext\"><pre>0.98989898989899</pre></div></td><td><div class=\"dni-plaintext\"><pre>0.8457984096281969</pre></div></td><td><div class=\"dni-plaintext\"><pre>0.8049616280288557</pre></div></td></tr></tbody></table><style>\r\n",
       ".dni-code-hint {\r\n",
       "    font-style: italic;\r\n",
       "    overflow: hidden;\r\n",
       "    white-space: nowrap;\r\n",
       "}\r\n",
       ".dni-treeview {\r\n",
       "    white-space: nowrap;\r\n",
       "}\r\n",
       ".dni-treeview td {\r\n",
       "    vertical-align: top;\r\n",
       "    text-align: start;\r\n",
       "}\r\n",
       "details.dni-treeview {\r\n",
       "    padding-left: 1em;\r\n",
       "}\r\n",
       "table td {\r\n",
       "    text-align: start;\r\n",
       "}\r\n",
       "table tr { \r\n",
       "    vertical-align: top; \r\n",
       "    margin: 0em 0px;\r\n",
       "}\r\n",
       "table tr td pre \r\n",
       "{ \r\n",
       "    vertical-align: top !important; \r\n",
       "    margin: 0em 0px !important;\r\n",
       "} \r\n",
       "table th {\r\n",
       "    text-align: start;\r\n",
       "}\r\n",
       "</style>"
      ]
     },
     "metadata": {},
     "output_type": "display_data"
    }
   ],
   "source": [
    "modelTracker.Register(\"Simple AutoML - 30% Test Split\", results.BestRun).ToDataFrame()"
   ]
  },
  {
   "cell_type": "markdown",
   "metadata": {},
   "source": [
    "Now let's look at how our pipeline works for this model."
   ]
  },
  {
   "cell_type": "code",
   "execution_count": null,
   "metadata": {
    "dotnet_interactive": {
     "language": "csharp"
    },
    "polyglot_notebook": {
     "kernelName": "csharp"
    },
    "vscode": {
     "languageId": "polyglot-notebook"
    }
   },
   "outputs": [
    {
     "data": {
      "text/html": [
       "<details open=\"open\" class=\"dni-treeview\"><summary><span class=\"dni-code-hint\"><code>[ Microsoft.ML.Transforms.MissingValueReplacingTransformer, Microsoft.ML.Transforms.TypeConvertingTransformer, Microsoft.ML.Transforms.Text.TextFeaturizingEstimator+Transformer, Microsoft.ML.Data.ColumnConcatenatingTransformer, Microsoft.ML.Data.BinaryPredictionTransformer`1[Microsoft.ML.Trainers.FastTree.FastForestBinaryModelParameters] ]</code></span></summary><div><table><thead><tr></tr></thead><tbody><tr><td>LastTransformer</td><td><details class=\"dni-treeview\"><summary><span class=\"dni-code-hint\"><code>Microsoft.ML.Data.BinaryPredictionTransformer`1[Microsoft.ML.Trainers.FastTree.FastForestBinaryModelParameters]</code></span></summary><div><table><thead><tr></tr></thead><tbody><tr><td>FeatureColumnName</td><td><div class=\"dni-plaintext\"><pre>__Features__</pre></div></td></tr><tr><td>FeatureColumnType</td><td><details class=\"dni-treeview\"><summary><span class=\"dni-code-hint\"><code>Vector&lt;Single, 5861&gt;</code></span></summary><div><table><thead><tr></tr></thead><tbody><tr><td>Dimensions</td><td><div class=\"dni-plaintext\"><pre>[ 5861 ]</pre></div></td></tr><tr><td>IsKnownSize</td><td><div class=\"dni-plaintext\"><pre>True</pre></div></td></tr><tr><td>ItemType</td><td><details class=\"dni-treeview\"><summary><span class=\"dni-code-hint\"><code>Single</code></span></summary><div><table><thead><tr></tr></thead><tbody><tr><td>RawType</td><td><span><a href=\"https://docs.microsoft.com/dotnet/api/system.single?view=net-7.0\">System.Single</a></span></td></tr></tbody></table></div></details></td></tr><tr><td>Size</td><td><div class=\"dni-plaintext\"><pre>5861</pre></div></td></tr><tr><td>RawType</td><td><span><a href=\"https://docs.microsoft.com/dotnet/api/microsoft.ml.data.vbuffer-1?view=net-7.0\">Microsoft.ML.Data.VBuffer&lt;System.Single&gt;</a></span></td></tr></tbody></table></div></details></td></tr><tr><td>Model</td><td><details class=\"dni-treeview\"><summary><span class=\"dni-code-hint\"><code>Microsoft.ML.Trainers.FastTree.FastForestBinaryModelParameters</code></span></summary><div><table><thead><tr></tr></thead><tbody><tr><td>TrainedTreeEnsemble</td><td><details class=\"dni-treeview\"><summary><span class=\"dni-code-hint\"><code>Microsoft.ML.Trainers.FastTree.QuantileRegressionTreeEnsemble</code></span></summary><div><table><thead><tr></tr></thead><tbody><tr><td>Bias</td><td><div class=\"dni-plaintext\"><pre>0</pre></div></td></tr><tr><td>TreeWeights</td><td><div class=\"dni-plaintext\"><pre>[ 1, 1, 1, 1 ]</pre></div></td></tr><tr><td>Trees</td><td><table><thead><tr><th><i>index</i></th><th>value</th></tr></thead><tbody><tr><td>0</td><td><details class=\"dni-treeview\"><summary><span class=\"dni-code-hint\"><code>Microsoft.ML.Trainers.FastTree.QuantileRegressionTree</code></span></summary><div><table><thead><tr></tr></thead><tbody><tr><td>LeftChild</td><td>[ 1, 2, -1 ]</td></tr><tr><td>RightChild</td><td>[ -2, -3, -4 ]</td></tr><tr><td>NumericalSplitFeatureIndexes</td><td>[ 1353, 103, 5857 ]</td></tr><tr><td>NumericalSplitThresholds</td><td>[ 0.057353932, 0.10190575, 9.5 ]</td></tr><tr><td>CategoricalSplitFlags</td><td>[ False, False, False ]</td></tr><tr><td>LeafValues</td><td>[ -0.5764705882352941, 0.9047619047619048, -1, 0.3333333333333333 ]</td></tr><tr><td>SplitGains</td><td>[ 43.45517488043252, 8.790652661395029, 11.409432962374133 ]</td></tr><tr><td>NumberOfLeaves</td><td>4</td></tr><tr><td>NumberOfNodes</td><td>3</td></tr></tbody></table></div></details></td></tr><tr><td>1</td><td><details class=\"dni-treeview\"><summary><span class=\"dni-code-hint\"><code>Microsoft.ML.Trainers.FastTree.QuantileRegressionTree</code></span></summary><div><table><thead><tr></tr></thead><tbody><tr><td>LeftChild</td><td>[ 1, 2, -1 ]</td></tr><tr><td>RightChild</td><td>[ -2, -3, -4 ]</td></tr><tr><td>NumericalSplitFeatureIndexes</td><td>[ 1353, 106, 5850 ]</td></tr><tr><td>NumericalSplitThresholds</td><td>[ 0.057353932, 0.1075328, 0.5 ]</td></tr><tr><td>CategoricalSplitFlags</td><td>[ False, False, False ]</td></tr><tr><td>LeafValues</td><td>[ -0.24031007751937986, 0.9047619047619048, -0.9245283018867925, -0.8333333333333334 ]</td></tr><tr><td>SplitGains</td><td>[ 39.1577375797019, 11.173417128979487, 12.302719747733544 ]</td></tr><tr><td>NumberOfLeaves</td><td>4</td></tr><tr><td>NumberOfNodes</td><td>3</td></tr></tbody></table></div></details></td></tr><tr><td>2</td><td><details class=\"dni-treeview\"><summary><span class=\"dni-code-hint\"><code>Microsoft.ML.Trainers.FastTree.QuantileRegressionTree</code></span></summary><div><table><thead><tr></tr></thead><tbody><tr><td>LeftChild</td><td>[ 1, 2, -1 ]</td></tr><tr><td>RightChild</td><td>[ -2, -3, -4 ]</td></tr><tr><td>NumericalSplitFeatureIndexes</td><td>[ 50, 566, 628 ]</td></tr><tr><td>NumericalSplitThresholds</td><td>[ 0.11360833, 0.124133974, 0.052999895 ]</td></tr><tr><td>CategoricalSplitFlags</td><td>[ False, False, False ]</td></tr><tr><td>LeafValues</td><td>[ -0.7551020408163265, 0.9428571428571428, 0.2, 0.4 ]</td></tr><tr><td>SplitGains</td><td>[ 77.13147621155588, 7.7083423229054375, 12.69490786605904 ]</td></tr><tr><td>NumberOfLeaves</td><td>4</td></tr><tr><td>NumberOfNodes</td><td>3</td></tr></tbody></table></div></details></td></tr><tr><td>3</td><td><details class=\"dni-treeview\"><summary><span class=\"dni-code-hint\"><code>Microsoft.ML.Trainers.FastTree.QuantileRegressionTree</code></span></summary><div><table><thead><tr></tr></thead><tbody><tr><td>LeftChild</td><td>[ 1, 2, -1 ]</td></tr><tr><td>RightChild</td><td>[ -2, -3, -4 ]</td></tr><tr><td>NumericalSplitFeatureIndexes</td><td>[ 50, 3873, 103 ]</td></tr><tr><td>NumericalSplitThresholds</td><td>[ 0.11360833, 0.1042572, 0.10190575 ]</td></tr><tr><td>CategoricalSplitFlags</td><td>[ False, False, False ]</td></tr><tr><td>LeafValues</td><td>[ -0.5632183908045977, 0.9259259259259259, 0.2727272727272727, -1 ]</td></tr><tr><td>SplitGains</td><td>[ 56.28925136966692, 8.842590132649804, 6.330286019780814 ]</td></tr><tr><td>NumberOfLeaves</td><td>4</td></tr><tr><td>NumberOfNodes</td><td>3</td></tr></tbody></table></div></details></td></tr></tbody></table></td></tr></tbody></table></div></details></td></tr></tbody></table></div></details></td></tr></tbody></table></div></details></td></tr><tr><td><i>(values)</i></td><td><table><thead><tr><th><i>index</i></th><th><i>type</i></th><th>value</th></tr></thead><tbody><tr><td>0</td><td><span><a href=\"https://docs.microsoft.com/dotnet/api/microsoft.ml.transforms.missingvaluereplacingtransformer?view=net-7.0\">Microsoft.ML.Transforms.MissingValueReplacingTransformer</a></span></td><td><details class=\"dni-treeview\"><summary><span class=\"dni-code-hint\"><code>Microsoft.ML.Transforms.MissingValueReplacingTransformer</code></span></summary><div><table><thead><tr></tr></thead><tbody></tbody></table></div></details></td></tr><tr><td>1</td><td><span><a href=\"https://docs.microsoft.com/dotnet/api/microsoft.ml.transforms.typeconvertingtransformer?view=net-7.0\">Microsoft.ML.Transforms.TypeConvertingTransformer</a></span></td><td><details class=\"dni-treeview\"><summary><span class=\"dni-code-hint\"><code>Microsoft.ML.Transforms.TypeConvertingTransformer</code></span></summary><div><table><thead><tr></tr></thead><tbody></tbody></table></div></details></td></tr><tr><td>2</td><td><span><a href=\"https://docs.microsoft.com/dotnet/api/microsoft.ml.transforms.text.textfeaturizingestimator.transformer?view=net-7.0\">Microsoft.ML.Transforms.Text.TextFeaturizingEstimator+Transformer</a></span></td><td><details class=\"dni-treeview\"><summary><span class=\"dni-code-hint\"><code>Microsoft.ML.Transforms.Text.TextFeaturizingEstimator+Transformer</code></span></summary><div><table><thead><tr></tr></thead><tbody></tbody></table></div></details></td></tr><tr><td>3</td><td><span><a href=\"https://docs.microsoft.com/dotnet/api/microsoft.ml.data.columnconcatenatingtransformer?view=net-7.0\">Microsoft.ML.Data.ColumnConcatenatingTransformer</a></span></td><td><details class=\"dni-treeview\"><summary><span class=\"dni-code-hint\"><code>Microsoft.ML.Data.ColumnConcatenatingTransformer</code></span></summary><div><table><thead><tr></tr></thead><tbody></tbody></table></div></details></td></tr><tr><td>4</td><td><span><a href=\"https://docs.microsoft.com/dotnet/api/microsoft.ml.data.binarypredictiontransformer-1?view=net-7.0\">Microsoft.ML.Data.BinaryPredictionTransformer&lt;Microsoft.ML.Trainers.FastTree.FastForestBinaryModelParameters&gt;</a></span></td><td><details class=\"dni-treeview\"><summary><span class=\"dni-code-hint\"><code>Microsoft.ML.Data.BinaryPredictionTransformer`1[Microsoft.ML.Trainers.FastTree.FastForestBinaryModelParameters]</code></span></summary><div><table><thead><tr></tr></thead><tbody><tr><td>FeatureColumnName</td><td><div class=\"dni-plaintext\"><pre>__Features__</pre></div></td></tr><tr><td>FeatureColumnType</td><td><details class=\"dni-treeview\"><summary><span class=\"dni-code-hint\"><code>Vector&lt;Single, 5861&gt;</code></span></summary><div><table><thead><tr></tr></thead><tbody><tr><td>Dimensions</td><td><div class=\"dni-plaintext\"><pre>[ 5861 ]</pre></div></td></tr><tr><td>IsKnownSize</td><td><div class=\"dni-plaintext\"><pre>True</pre></div></td></tr><tr><td>ItemType</td><td><details class=\"dni-treeview\"><summary><span class=\"dni-code-hint\"><code>Single</code></span></summary><div><table><thead><tr></tr></thead><tbody><tr><td>RawType</td><td><span><a href=\"https://docs.microsoft.com/dotnet/api/system.single?view=net-7.0\">System.Single</a></span></td></tr></tbody></table></div></details></td></tr><tr><td>Size</td><td><div class=\"dni-plaintext\"><pre>5861</pre></div></td></tr><tr><td>RawType</td><td><span><a href=\"https://docs.microsoft.com/dotnet/api/microsoft.ml.data.vbuffer-1?view=net-7.0\">Microsoft.ML.Data.VBuffer&lt;System.Single&gt;</a></span></td></tr></tbody></table></div></details></td></tr><tr><td>Model</td><td><details class=\"dni-treeview\"><summary><span class=\"dni-code-hint\"><code>Microsoft.ML.Trainers.FastTree.FastForestBinaryModelParameters</code></span></summary><div><table><thead><tr></tr></thead><tbody><tr><td>TrainedTreeEnsemble</td><td><details class=\"dni-treeview\"><summary><span class=\"dni-code-hint\"><code>Microsoft.ML.Trainers.FastTree.QuantileRegressionTreeEnsemble</code></span></summary><div><table><thead><tr></tr></thead><tbody><tr><td>Bias</td><td><div class=\"dni-plaintext\"><pre>0</pre></div></td></tr><tr><td>TreeWeights</td><td><div class=\"dni-plaintext\"><pre>[ 1, 1, 1, 1 ]</pre></div></td></tr><tr><td>Trees</td><td><table><thead><tr><th><i>index</i></th><th>value</th></tr></thead><tbody><tr><td>0</td><td><details class=\"dni-treeview\"><summary><span class=\"dni-code-hint\"><code>Microsoft.ML.Trainers.FastTree.QuantileRegressionTree</code></span></summary><div><table><thead><tr></tr></thead><tbody><tr><td>LeftChild</td><td>[ 1, 2, -1 ]</td></tr><tr><td>RightChild</td><td>[ -2, -3, -4 ]</td></tr><tr><td>NumericalSplitFeatureIndexes</td><td>[ 1353, 103, 5857 ]</td></tr><tr><td>NumericalSplitThresholds</td><td>[ 0.057353932, 0.10190575, 9.5 ]</td></tr><tr><td>CategoricalSplitFlags</td><td>[ False, False, False ]</td></tr><tr><td>LeafValues</td><td>[ -0.5764705882352941, 0.9047619047619048, -1, 0.3333333333333333 ]</td></tr><tr><td>SplitGains</td><td>[ 43.45517488043252, 8.790652661395029, 11.409432962374133 ]</td></tr><tr><td>NumberOfLeaves</td><td>4</td></tr><tr><td>NumberOfNodes</td><td>3</td></tr></tbody></table></div></details></td></tr><tr><td>1</td><td><details class=\"dni-treeview\"><summary><span class=\"dni-code-hint\"><code>Microsoft.ML.Trainers.FastTree.QuantileRegressionTree</code></span></summary><div><table><thead><tr></tr></thead><tbody><tr><td>LeftChild</td><td>[ 1, 2, -1 ]</td></tr><tr><td>RightChild</td><td>[ -2, -3, -4 ]</td></tr><tr><td>NumericalSplitFeatureIndexes</td><td>[ 1353, 106, 5850 ]</td></tr><tr><td>NumericalSplitThresholds</td><td>[ 0.057353932, 0.1075328, 0.5 ]</td></tr><tr><td>CategoricalSplitFlags</td><td>[ False, False, False ]</td></tr><tr><td>LeafValues</td><td>[ -0.24031007751937986, 0.9047619047619048, -0.9245283018867925, -0.8333333333333334 ]</td></tr><tr><td>SplitGains</td><td>[ 39.1577375797019, 11.173417128979487, 12.302719747733544 ]</td></tr><tr><td>NumberOfLeaves</td><td>4</td></tr><tr><td>NumberOfNodes</td><td>3</td></tr></tbody></table></div></details></td></tr><tr><td>2</td><td><details class=\"dni-treeview\"><summary><span class=\"dni-code-hint\"><code>Microsoft.ML.Trainers.FastTree.QuantileRegressionTree</code></span></summary><div><table><thead><tr></tr></thead><tbody><tr><td>LeftChild</td><td>[ 1, 2, -1 ]</td></tr><tr><td>RightChild</td><td>[ -2, -3, -4 ]</td></tr><tr><td>NumericalSplitFeatureIndexes</td><td>[ 50, 566, 628 ]</td></tr><tr><td>NumericalSplitThresholds</td><td>[ 0.11360833, 0.124133974, 0.052999895 ]</td></tr><tr><td>CategoricalSplitFlags</td><td>[ False, False, False ]</td></tr><tr><td>LeafValues</td><td>[ -0.7551020408163265, 0.9428571428571428, 0.2, 0.4 ]</td></tr><tr><td>SplitGains</td><td>[ 77.13147621155588, 7.7083423229054375, 12.69490786605904 ]</td></tr><tr><td>NumberOfLeaves</td><td>4</td></tr><tr><td>NumberOfNodes</td><td>3</td></tr></tbody></table></div></details></td></tr><tr><td>3</td><td><details class=\"dni-treeview\"><summary><span class=\"dni-code-hint\"><code>Microsoft.ML.Trainers.FastTree.QuantileRegressionTree</code></span></summary><div><table><thead><tr></tr></thead><tbody><tr><td>LeftChild</td><td>[ 1, 2, -1 ]</td></tr><tr><td>RightChild</td><td>[ -2, -3, -4 ]</td></tr><tr><td>NumericalSplitFeatureIndexes</td><td>[ 50, 3873, 103 ]</td></tr><tr><td>NumericalSplitThresholds</td><td>[ 0.11360833, 0.1042572, 0.10190575 ]</td></tr><tr><td>CategoricalSplitFlags</td><td>[ False, False, False ]</td></tr><tr><td>LeafValues</td><td>[ -0.5632183908045977, 0.9259259259259259, 0.2727272727272727, -1 ]</td></tr><tr><td>SplitGains</td><td>[ 56.28925136966692, 8.842590132649804, 6.330286019780814 ]</td></tr><tr><td>NumberOfLeaves</td><td>4</td></tr><tr><td>NumberOfNodes</td><td>3</td></tr></tbody></table></div></details></td></tr></tbody></table></td></tr></tbody></table></div></details></td></tr></tbody></table></div></details></td></tr></tbody></table></div></details></td></tr></tbody></table></td></tr></tbody></table></div></details><style>\r\n",
       ".dni-code-hint {\r\n",
       "    font-style: italic;\r\n",
       "    overflow: hidden;\r\n",
       "    white-space: nowrap;\r\n",
       "}\r\n",
       ".dni-treeview {\r\n",
       "    white-space: nowrap;\r\n",
       "}\r\n",
       ".dni-treeview td {\r\n",
       "    vertical-align: top;\r\n",
       "    text-align: start;\r\n",
       "}\r\n",
       "details.dni-treeview {\r\n",
       "    padding-left: 1em;\r\n",
       "}\r\n",
       "table td {\r\n",
       "    text-align: start;\r\n",
       "}\r\n",
       "table tr { \r\n",
       "    vertical-align: top; \r\n",
       "    margin: 0em 0px;\r\n",
       "}\r\n",
       "table tr td pre \r\n",
       "{ \r\n",
       "    vertical-align: top !important; \r\n",
       "    margin: 0em 0px !important;\r\n",
       "} \r\n",
       "table th {\r\n",
       "    text-align: start;\r\n",
       "}\r\n",
       "</style>"
      ]
     },
     "metadata": {},
     "output_type": "display_data"
    }
   ],
   "source": [
    "var model = results.BestRun.Model;\n",
    "model"
   ]
  },
  {
   "cell_type": "code",
   "execution_count": null,
   "metadata": {
    "dotnet_interactive": {
     "language": "csharp"
    },
    "polyglot_notebook": {
     "kernelName": "csharp"
    },
    "vscode": {
     "languageId": "polyglot-notebook"
    }
   },
   "outputs": [
    {
     "data": {
      "text/html": [
       "<div class=\"mermaidMarkdownContainer\" style=\"background-color:white\">\n",
       "<link rel=\"stylesheet\" href=\"https://cdnjs.cloudflare.com/ajax/libs/font-awesome/6.2.0/css/all.min.css\">\n",
       "<div id=\"6791cf62b3314e868068b56ec12c8034\"></div>\n",
       "<script type=\"module\">\n",
       "\r\n",
       "            import mermaid from 'https://cdn.jsdelivr.net/npm/mermaid@10.6.1/dist/mermaid.esm.min.mjs';\r\n",
       "            let renderTarget = document.getElementById('6791cf62b3314e868068b56ec12c8034');\r\n",
       "            try {\r\n",
       "                const {svg, bindFunctions} = await mermaid.mermaidAPI.render( \r\n",
       "                    'mermaid_6791cf62b3314e868068b56ec12c8034', \r\n",
       "                    `stateDiagram-v2\n",
       "state \"TransformerChain\" AS t1 {\n",
       "t1_1: MissingValueReplacingTransformer\n",
       "note right of t1_1\n",
       "Replace missing values in 11 column(s) with 0.0\n",
       "end note\n",
       "t1_2: TypeConvertingTransformer\n",
       "note right of t1_2\n",
       "Convert IsMerge to Single, HasAddedFiles to Single, HasDeletedFiles to Single\n",
       "end note\n",
       "t1_3: Transformer\n",
       "note right of t1_3\n",
       "8 Children\n",
       "end note\n",
       "t1_4: ColumnConcatenatingTransformer\n",
       "note right of t1_4\n",
       "Concat 15 columns to __Features__\n",
       "end note\n",
       "t1_5: BinaryPredictionTransformer_FastForestBinaryModelParameters_\n",
       "t1_1 --> t1_2\n",
       "t1_2 --> t1_3\n",
       "t1_3 --> t1_4\n",
       "t1_4 --> t1_5\n",
       "}\n",
       "\n",
       "`);\r\n",
       "                renderTarget.innerHTML = svg;\r\n",
       "                bindFunctions?.(renderTarget);\r\n",
       "            }\r\n",
       "            catch (error) {\r\n",
       "                console.log(error);\r\n",
       "            }\n",
       "</script>\n",
       "</div>\n"
      ]
     },
     "metadata": {},
     "output_type": "display_data"
    }
   ],
   "source": [
    "#!transformer-vis model -n -d 1"
   ]
  },
  {
   "cell_type": "markdown",
   "metadata": {},
   "source": [
    "These steps generally make sense. Let's get a deeper picture of what that text featurizer is doing by rendering a deeper view without note annotations:"
   ]
  },
  {
   "cell_type": "code",
   "execution_count": null,
   "metadata": {
    "dotnet_interactive": {
     "language": "csharp"
    },
    "polyglot_notebook": {
     "kernelName": "csharp"
    },
    "vscode": {
     "languageId": "polyglot-notebook"
    }
   },
   "outputs": [
    {
     "data": {
      "text/html": [
       "<div class=\"mermaidMarkdownContainer\" style=\"background-color:white\">\n",
       "<link rel=\"stylesheet\" href=\"https://cdnjs.cloudflare.com/ajax/libs/font-awesome/6.2.0/css/all.min.css\">\n",
       "<div id=\"7f93f1295660499d9d2bba914a3bd614\"></div>\n",
       "<script type=\"module\">\n",
       "\r\n",
       "            import mermaid from 'https://cdn.jsdelivr.net/npm/mermaid@10.6.1/dist/mermaid.esm.min.mjs';\r\n",
       "            let renderTarget = document.getElementById('7f93f1295660499d9d2bba914a3bd614');\r\n",
       "            try {\r\n",
       "                const {svg, bindFunctions} = await mermaid.mermaidAPI.render( \r\n",
       "                    'mermaid_7f93f1295660499d9d2bba914a3bd614', \r\n",
       "                    `stateDiagram-v2\n",
       "state \"TransformerChain\" AS t1 {\n",
       "t1_1: MissingValueReplacingTransformer\n",
       "t1_2: TypeConvertingTransformer\n",
       "t1_3: Transformer\n",
       "state \"Transformer\" AS t1_3 {\n",
       "direction LR\n",
       "t1_3_1: TextNormalizingTransformer\n",
       "t1_3_2: WordTokenizingTransformer\n",
       "t1_3_3: TransformerChain\n",
       "state \"TransformerChain\" AS t1_3_3 {\n",
       "t1_3_3_1: ValueToKeyMappingTransformer\n",
       "t1_3_3_2: NgramExtractingTransformer\n",
       "t1_3_3_1 --> t1_3_3_2\n",
       "}\n",
       "\n",
       "t1_3_4: TokenizingByCharactersTransformer\n",
       "t1_3_5: TransformerChain\n",
       "state \"TransformerChain\" AS t1_3_5 {\n",
       "t1_3_5_1: NgramExtractingTransformer\n",
       "}\n",
       "\n",
       "t1_3_6: LpNormNormalizingTransformer\n",
       "t1_3_7: ColumnConcatenatingTransformer\n",
       "t1_3_8: ColumnSelectingTransformer\n",
       "t1_3_1 --> t1_3_2\n",
       "t1_3_2 --> t1_3_3\n",
       "t1_3_3 --> t1_3_4\n",
       "t1_3_4 --> t1_3_5\n",
       "t1_3_5 --> t1_3_6\n",
       "t1_3_6 --> t1_3_7\n",
       "t1_3_7 --> t1_3_8\n",
       "}\n",
       "\n",
       "t1_4: ColumnConcatenatingTransformer\n",
       "t1_5: BinaryPredictionTransformer_FastForestBinaryModelParameters_\n",
       "t1_1 --> t1_2\n",
       "t1_2 --> t1_3\n",
       "t1_3 --> t1_4\n",
       "t1_4 --> t1_5\n",
       "}\n",
       "\n",
       "`);\r\n",
       "                renderTarget.innerHTML = svg;\r\n",
       "                bindFunctions?.(renderTarget);\r\n",
       "            }\r\n",
       "            catch (error) {\r\n",
       "                console.log(error);\r\n",
       "            }\n",
       "</script>\n",
       "</div>\n"
      ]
     },
     "metadata": {},
     "output_type": "display_data"
    }
   ],
   "source": [
    "#!transformer-vis model -d 3"
   ]
  },
  {
   "cell_type": "markdown",
   "metadata": {},
   "source": [
    "Looks like tokenization, bagging, NGram extraction and normalization. We can get more details by drilling in just to the children of the TextFeaturizingEstimator.Transformer and its direct children and annotating those."
   ]
  },
  {
   "cell_type": "code",
   "execution_count": null,
   "metadata": {
    "dotnet_interactive": {
     "language": "csharp"
    },
    "polyglot_notebook": {
     "kernelName": "csharp"
    },
    "vscode": {
     "languageId": "polyglot-notebook"
    }
   },
   "outputs": [
    {
     "data": {
      "text/html": [
       "<div class=\"mermaidMarkdownContainer\" style=\"background-color:white\">\n",
       "<link rel=\"stylesheet\" href=\"https://cdnjs.cloudflare.com/ajax/libs/font-awesome/6.2.0/css/all.min.css\">\n",
       "<div id=\"c80a348be99c4c1b928afdc5590a28b2\"></div>\n",
       "<script type=\"module\">\n",
       "\r\n",
       "            import mermaid from 'https://cdn.jsdelivr.net/npm/mermaid@10.6.1/dist/mermaid.esm.min.mjs';\r\n",
       "            let renderTarget = document.getElementById('c80a348be99c4c1b928afdc5590a28b2');\r\n",
       "            try {\r\n",
       "                const {svg, bindFunctions} = await mermaid.mermaidAPI.render( \r\n",
       "                    'mermaid_c80a348be99c4c1b928afdc5590a28b2', \r\n",
       "                    `stateDiagram-v2\n",
       "state \"Transformer\" AS t1 {\n",
       "t1_1: TextNormalizingTransformer\n",
       "note right of t1_1\n",
       "A text normalization transform that allows normalizing text case, removing \n",
       "diacritical marks, punctuation marks and/or numbers. The transform operates on \n",
       "text input as well as vector of tokens/text (vector of ReadOnlyMemory).\n",
       "end note\n",
       "t1_2: WordTokenizingTransformer\n",
       "note right of t1_2\n",
       "The input to this transform is text, and the output is a vector of text \n",
       "containing the words (tokens) in the original text. The separator is space, but \n",
       "can be specified as any other character (or multiple characters) if needed.\n",
       "end note\n",
       "t1_3: TransformerChain\n",
       "note right of t1_3\n",
       "2 Children\n",
       "end note\n",
       "t1_4: TokenizingByCharactersTransformer\n",
       "note right of t1_4\n",
       "Character-oriented tokenizer where text is considered a sequence of characters.\n",
       "end note\n",
       "t1_5: TransformerChain\n",
       "note right of t1_5\n",
       "1 Child: NgramExtractingTransformer: Produces a bag of counts of n-grams \n",
       "(sequences of consecutive values of length 1-n) in a given vector of keys. It \n",
       "does so by building a dictionary of n-grams and using the id in the dictionary \n",
       "as the index in the bag.\n",
       "end note\n",
       "t1_6: LpNormNormalizingTransformer\n",
       "note right of t1_6\n",
       "Normalize vectors (rows) individually by rescaling them to unit norm (L2, L1 or \n",
       "LInf). Performs the following operation on a vector X: Y = (X - M) / D, where M \n",
       "is mean and D is either L2 norm, L1 norm or LInf norm.\n",
       "end note\n",
       "t1_7: ColumnConcatenatingTransformer\n",
       "note right of t1_7\n",
       "Concat Message_CharExtractor_LpCharNorm, Message_WordExtractor_LpWordNorm to \n",
       "Message\n",
       "end note\n",
       "t1_8: ColumnSelectingTransformer\n",
       "note right of t1_8\n",
       "Selects which columns from the dataset to keep.\n",
       "end note\n",
       "t1_1 --> t1_2\n",
       "t1_2 --> t1_3\n",
       "t1_3 --> t1_4\n",
       "t1_4 --> t1_5\n",
       "t1_5 --> t1_6\n",
       "t1_6 --> t1_7\n",
       "t1_7 --> t1_8\n",
       "}\n",
       "\n",
       "`);\r\n",
       "                renderTarget.innerHTML = svg;\r\n",
       "                bindFunctions?.(renderTarget);\r\n",
       "            }\r\n",
       "            catch (error) {\r\n",
       "                console.log(error);\r\n",
       "            }\n",
       "</script>\n",
       "</div>\n"
      ]
     },
     "metadata": {},
     "output_type": "display_data"
    }
   ],
   "source": [
    "var chain = model as TransformerChain<ITransformer>;\n",
    "var textTransformer = chain.ToList()[2];\n",
    "#!transformer-vis textTransformer -n -d 1"
   ]
  },
  {
   "cell_type": "markdown",
   "metadata": {},
   "source": [
    "That's a lot, and I'm still working on improving this visualization and the quality and layout of its notes, but it looks like it does unigram and bigram extraction at the word level, then trigram extraction at the character level. It also uses L2 normalization to reduce noise from irrelevant features and handles case sensitivity.\n",
    "\n",
    "Notably absent from this is removal of punctuation, stop word removal, stemming, or removal of numbers.\n",
    "\n",
    "Still, it did all of this automatically, which isn't bad."
   ]
  },
  {
   "cell_type": "markdown",
   "metadata": {},
   "source": [
    "Now that we've seen how the pipeline works, let's drill into the `BinaryPredictionTransformer` to try to understand its model."
   ]
  },
  {
   "cell_type": "code",
   "execution_count": null,
   "metadata": {
    "dotnet_interactive": {
     "language": "csharp"
    },
    "polyglot_notebook": {
     "kernelName": "csharp"
    },
    "vscode": {
     "languageId": "polyglot-notebook"
    }
   },
   "outputs": [
    {
     "data": {
      "text/html": [
       "<h3>BinaryPredictionTransformer&lt;FastForestBinaryModelParameters&gt;</h3>\n",
       "<table><thead><tr><th>Property</th><th>Type</th><th>Value</th></thead><tbody>\n",
       "<tr><th>ThresholdColumn</th><td>String</td><td>Score</td></tr>\n",
       "<tr><th>Threshold</th><td>Single</td><td>0</td></tr>\n",
       "<tr><th>LabelColumnName</th><td>String</td><td></td></tr>\n",
       "<tr><th>Host</th><td>IHost</td><td>Microsoft.ML.Data.LocalEnvironment+Host</td></tr>\n",
       "<tr><th>BindableMapper</th><td>ISchemaBindableMapper</td><td>Microsoft.ML.Data.SchemaBindablePredictorWrapper</td></tr>\n",
       "<tr><th>TrainSchema</th><td>DataViewSchema</td><td>32 columns</td></tr>\n",
       "</tbody></table>\n"
      ]
     },
     "metadata": {},
     "output_type": "display_data"
    }
   ],
   "source": [
    "var predictor = chain.Last();\n",
    "#!reflect predictor"
   ]
  },
  {
   "cell_type": "code",
   "execution_count": null,
   "metadata": {
    "dotnet_interactive": {
     "language": "csharp"
    },
    "polyglot_notebook": {
     "kernelName": "csharp"
    },
    "vscode": {
     "languageId": "polyglot-notebook"
    }
   },
   "outputs": [
    {
     "data": {
      "text/html": [
       "<h3>FastForestBinaryModelParameters</h3>\n",
       "<table><thead><tr><th>Property</th><th>Type</th><th>Value</th></thead><tbody>\n",
       "<tr><th>InnerOptions</th><td>String</td><td>ps=2 nl=4 iter=4 ff=1</td></tr>\n",
       "<tr><th>NumFeatures</th><td>Int32</td><td>5861</td></tr>\n",
       "<tr><th>MaxSplitFeatIdx</th><td>Int32</td><td>5857</td></tr>\n",
       "<tr><th>InputType</th><td>DataViewType</td><td>Vector<Single, 5861></td></tr>\n",
       "<tr><th>OutputType</th><td>DataViewType</td><td>Single</td></tr>\n",
       "<tr><th>Host</th><td>IHost</td><td>Microsoft.ML.Data.LocalEnvironment+Host</td></tr>\n",
       "</tbody></table>\n"
      ]
     },
     "metadata": {},
     "output_type": "display_data"
    },
    {
     "data": {
      "text/html": [
       "<details open=\"open\" class=\"dni-treeview\"><summary><span class=\"dni-code-hint\"><code>Microsoft.ML.Trainers.FastTree.FastForestBinaryModelParameters</code></span></summary><div><table><thead><tr></tr></thead><tbody><tr><td>TrainedTreeEnsemble</td><td><details class=\"dni-treeview\"><summary><span class=\"dni-code-hint\"><code>Microsoft.ML.Trainers.FastTree.QuantileRegressionTreeEnsemble</code></span></summary><div><table><thead><tr></tr></thead><tbody><tr><td>Bias</td><td><div class=\"dni-plaintext\"><pre>0</pre></div></td></tr><tr><td>TreeWeights</td><td><div class=\"dni-plaintext\"><pre>[ 1, 1, 1, 1 ]</pre></div></td></tr><tr><td>Trees</td><td><table><thead><tr><th><i>index</i></th><th>value</th></tr></thead><tbody><tr><td>0</td><td><details class=\"dni-treeview\"><summary><span class=\"dni-code-hint\"><code>Microsoft.ML.Trainers.FastTree.QuantileRegressionTree</code></span></summary><div><table><thead><tr></tr></thead><tbody><tr><td>LeftChild</td><td><div class=\"dni-plaintext\"><pre>[ 1, 2, -1 ]</pre></div></td></tr><tr><td>RightChild</td><td><div class=\"dni-plaintext\"><pre>[ -2, -3, -4 ]</pre></div></td></tr><tr><td>NumericalSplitFeatureIndexes</td><td><div class=\"dni-plaintext\"><pre>[ 1353, 103, 5857 ]</pre></div></td></tr><tr><td>NumericalSplitThresholds</td><td><div class=\"dni-plaintext\"><pre>[ 0.057353932, 0.10190575, 9.5 ]</pre></div></td></tr><tr><td>CategoricalSplitFlags</td><td><div class=\"dni-plaintext\"><pre>[ False, False, False ]</pre></div></td></tr><tr><td>LeafValues</td><td><div class=\"dni-plaintext\"><pre>[ -0.5764705882352941, 0.9047619047619048, -1, 0.3333333333333333 ]</pre></div></td></tr><tr><td>SplitGains</td><td><div class=\"dni-plaintext\"><pre>[ 43.45517488043252, 8.790652661395029, 11.409432962374133 ]</pre></div></td></tr><tr><td>NumberOfLeaves</td><td><div class=\"dni-plaintext\"><pre>4</pre></div></td></tr><tr><td>NumberOfNodes</td><td><div class=\"dni-plaintext\"><pre>3</pre></div></td></tr></tbody></table></div></details></td></tr><tr><td>1</td><td><details class=\"dni-treeview\"><summary><span class=\"dni-code-hint\"><code>Microsoft.ML.Trainers.FastTree.QuantileRegressionTree</code></span></summary><div><table><thead><tr></tr></thead><tbody><tr><td>LeftChild</td><td><div class=\"dni-plaintext\"><pre>[ 1, 2, -1 ]</pre></div></td></tr><tr><td>RightChild</td><td><div class=\"dni-plaintext\"><pre>[ -2, -3, -4 ]</pre></div></td></tr><tr><td>NumericalSplitFeatureIndexes</td><td><div class=\"dni-plaintext\"><pre>[ 1353, 106, 5850 ]</pre></div></td></tr><tr><td>NumericalSplitThresholds</td><td><div class=\"dni-plaintext\"><pre>[ 0.057353932, 0.1075328, 0.5 ]</pre></div></td></tr><tr><td>CategoricalSplitFlags</td><td><div class=\"dni-plaintext\"><pre>[ False, False, False ]</pre></div></td></tr><tr><td>LeafValues</td><td><div class=\"dni-plaintext\"><pre>[ -0.24031007751937986, 0.9047619047619048, -0.9245283018867925, -0.8333333333333334 ]</pre></div></td></tr><tr><td>SplitGains</td><td><div class=\"dni-plaintext\"><pre>[ 39.1577375797019, 11.173417128979487, 12.302719747733544 ]</pre></div></td></tr><tr><td>NumberOfLeaves</td><td><div class=\"dni-plaintext\"><pre>4</pre></div></td></tr><tr><td>NumberOfNodes</td><td><div class=\"dni-plaintext\"><pre>3</pre></div></td></tr></tbody></table></div></details></td></tr><tr><td>2</td><td><details class=\"dni-treeview\"><summary><span class=\"dni-code-hint\"><code>Microsoft.ML.Trainers.FastTree.QuantileRegressionTree</code></span></summary><div><table><thead><tr></tr></thead><tbody><tr><td>LeftChild</td><td><div class=\"dni-plaintext\"><pre>[ 1, 2, -1 ]</pre></div></td></tr><tr><td>RightChild</td><td><div class=\"dni-plaintext\"><pre>[ -2, -3, -4 ]</pre></div></td></tr><tr><td>NumericalSplitFeatureIndexes</td><td><div class=\"dni-plaintext\"><pre>[ 50, 566, 628 ]</pre></div></td></tr><tr><td>NumericalSplitThresholds</td><td><div class=\"dni-plaintext\"><pre>[ 0.11360833, 0.124133974, 0.052999895 ]</pre></div></td></tr><tr><td>CategoricalSplitFlags</td><td><div class=\"dni-plaintext\"><pre>[ False, False, False ]</pre></div></td></tr><tr><td>LeafValues</td><td><div class=\"dni-plaintext\"><pre>[ -0.7551020408163265, 0.9428571428571428, 0.2, 0.4 ]</pre></div></td></tr><tr><td>SplitGains</td><td><div class=\"dni-plaintext\"><pre>[ 77.13147621155588, 7.7083423229054375, 12.69490786605904 ]</pre></div></td></tr><tr><td>NumberOfLeaves</td><td><div class=\"dni-plaintext\"><pre>4</pre></div></td></tr><tr><td>NumberOfNodes</td><td><div class=\"dni-plaintext\"><pre>3</pre></div></td></tr></tbody></table></div></details></td></tr><tr><td>3</td><td><details class=\"dni-treeview\"><summary><span class=\"dni-code-hint\"><code>Microsoft.ML.Trainers.FastTree.QuantileRegressionTree</code></span></summary><div><table><thead><tr></tr></thead><tbody><tr><td>LeftChild</td><td><div class=\"dni-plaintext\"><pre>[ 1, 2, -1 ]</pre></div></td></tr><tr><td>RightChild</td><td><div class=\"dni-plaintext\"><pre>[ -2, -3, -4 ]</pre></div></td></tr><tr><td>NumericalSplitFeatureIndexes</td><td><div class=\"dni-plaintext\"><pre>[ 50, 3873, 103 ]</pre></div></td></tr><tr><td>NumericalSplitThresholds</td><td><div class=\"dni-plaintext\"><pre>[ 0.11360833, 0.1042572, 0.10190575 ]</pre></div></td></tr><tr><td>CategoricalSplitFlags</td><td><div class=\"dni-plaintext\"><pre>[ False, False, False ]</pre></div></td></tr><tr><td>LeafValues</td><td><div class=\"dni-plaintext\"><pre>[ -0.5632183908045977, 0.9259259259259259, 0.2727272727272727, -1 ]</pre></div></td></tr><tr><td>SplitGains</td><td><div class=\"dni-plaintext\"><pre>[ 56.28925136966692, 8.842590132649804, 6.330286019780814 ]</pre></div></td></tr><tr><td>NumberOfLeaves</td><td><div class=\"dni-plaintext\"><pre>4</pre></div></td></tr><tr><td>NumberOfNodes</td><td><div class=\"dni-plaintext\"><pre>3</pre></div></td></tr></tbody></table></div></details></td></tr></tbody></table></td></tr></tbody></table></div></details></td></tr></tbody></table></div></details><style>\r\n",
       ".dni-code-hint {\r\n",
       "    font-style: italic;\r\n",
       "    overflow: hidden;\r\n",
       "    white-space: nowrap;\r\n",
       "}\r\n",
       ".dni-treeview {\r\n",
       "    white-space: nowrap;\r\n",
       "}\r\n",
       ".dni-treeview td {\r\n",
       "    vertical-align: top;\r\n",
       "    text-align: start;\r\n",
       "}\r\n",
       "details.dni-treeview {\r\n",
       "    padding-left: 1em;\r\n",
       "}\r\n",
       "table td {\r\n",
       "    text-align: start;\r\n",
       "}\r\n",
       "table tr { \r\n",
       "    vertical-align: top; \r\n",
       "    margin: 0em 0px;\r\n",
       "}\r\n",
       "table tr td pre \r\n",
       "{ \r\n",
       "    vertical-align: top !important; \r\n",
       "    margin: 0em 0px !important;\r\n",
       "} \r\n",
       "table th {\r\n",
       "    text-align: start;\r\n",
       "}\r\n",
       "</style>"
      ]
     },
     "metadata": {},
     "output_type": "display_data"
    }
   ],
   "source": [
    "using Microsoft.ML.Trainers.FastTree;\n",
    "\n",
    "var randomForest = predictor as BinaryPredictionTransformer<FastForestBinaryModelParameters>;\n",
    "var forestModel = randomForest.Model;\n",
    "\n",
    "#!reflect forestModel\n",
    "forestModel"
   ]
  },
  {
   "cell_type": "markdown",
   "metadata": {},
   "source": [
    "Looks like a random forest with 7 shallow trees. Let's see a bit more details."
   ]
  },
  {
   "cell_type": "code",
   "execution_count": null,
   "metadata": {
    "dotnet_interactive": {
     "language": "csharp"
    },
    "polyglot_notebook": {
     "kernelName": "csharp"
    },
    "vscode": {
     "languageId": "polyglot-notebook"
    }
   },
   "outputs": [
    {
     "name": "stdout",
     "output_type": "stream",
     "text": [
      "Random Forest with the following trees:\n",
      "\tTree 0 with 4 leaves and 3 nodes and a weight of 1.\n",
      "\t\tMost important feature indexes: 1353, 103, 5857\n",
      "\t\tMost important feature thresholds: 0.057353932, 0.10190575, 9.5\n",
      "\tTree 1 with 4 leaves and 3 nodes and a weight of 1.\n",
      "\t\tMost important feature indexes: 1353, 106, 5850\n",
      "\t\tMost important feature thresholds: 0.057353932, 0.1075328, 0.5\n",
      "\tTree 2 with 4 leaves and 3 nodes and a weight of 1.\n",
      "\t\tMost important feature indexes: 50, 566, 628\n",
      "\t\tMost important feature thresholds: 0.11360833, 0.124133974, 0.052999895\n",
      "\tTree 3 with 4 leaves and 3 nodes and a weight of 1.\n",
      "\t\tMost important feature indexes: 50, 3873, 103\n",
      "\t\tMost important feature thresholds: 0.11360833, 0.1042572, 0.10190575\n"
     ]
    }
   ],
   "source": [
    "Console.WriteLine(\"Random Forest with the following trees:\");\n",
    "\n",
    "int index = 0;\n",
    "foreach (var tree in forestModel.TrainedTreeEnsemble.Trees) {\n",
    "    Console.WriteLine($\"\\tTree {index} with {tree.NumberOfLeaves} leaves and {tree.NumberOfNodes} nodes and a weight of {forestModel.TrainedTreeEnsemble.TreeWeights[index++]}.\");\n",
    "    Console.WriteLine($\"\\t\\tMost important feature indexes: {string.Join(\", \", tree.NumericalSplitFeatureIndexes)}\");\n",
    "    Console.WriteLine($\"\\t\\tMost important feature thresholds: {string.Join(\", \", tree.NumericalSplitThresholds)}\");\n",
    "}"
   ]
  },
  {
   "cell_type": "markdown",
   "metadata": {},
   "source": [
    "Unfortunately, the Ngram extraction makes it hard to determine what each index relates to, but at least we can see where there's feature overlap and similar thresholds."
   ]
  },
  {
   "cell_type": "code",
   "execution_count": null,
   "metadata": {
    "dotnet_interactive": {
     "language": "csharp"
    },
    "polyglot_notebook": {
     "kernelName": "csharp"
    },
    "vscode": {
     "languageId": "polyglot-notebook"
    }
   },
   "outputs": [
    {
     "data": {
      "text/html": [
       "<table id=\"table_638546604611645571\"><thead><tr><th><i>index</i></th><th>Model</th><th>F1 Score</th><th>Accuracy</th><th>Positive Precision</th><th>Positive Recall</th><th>Negative Precision</th><th>Negative Recall</th><th>AUC</th><th>AUCPR</th></tr></thead><tbody><tr><td><i><div class=\"dni-plaintext\"><pre>0</pre></div></i></td><td>Simple AutoML - 10% Test Split</td><td><div class=\"dni-plaintext\"><pre>0.6666666666666667</pre></div></td><td><div class=\"dni-plaintext\"><pre>0.7857142857142857</pre></div></td><td><div class=\"dni-plaintext\"><pre>0.9</pre></div></td><td><div class=\"dni-plaintext\"><pre>0.5294117647058824</pre></div></td><td><div class=\"dni-plaintext\"><pre>0.75</pre></div></td><td><div class=\"dni-plaintext\"><pre>0.96</pre></div></td><td><div class=\"dni-plaintext\"><pre>0.7847058823529411</pre></div></td><td><div class=\"dni-plaintext\"><pre>0.7916167381810545</pre></div></td></tr><tr><td><i><div class=\"dni-plaintext\"><pre>1</pre></div></i></td><td>Simple AutoML - 30% Test Split</td><td><div class=\"dni-plaintext\"><pre>0.6478873239436619</pre></div></td><td><div class=\"dni-plaintext\"><pre>0.8287671232876712</pre></div></td><td><div class=\"dni-plaintext\"><pre>0.9583333333333334</pre></div></td><td><div class=\"dni-plaintext\"><pre>0.48936170212765956</pre></div></td><td><div class=\"dni-plaintext\"><pre>0.8032786885245902</pre></div></td><td><div class=\"dni-plaintext\"><pre>0.98989898989899</pre></div></td><td><div class=\"dni-plaintext\"><pre>0.8457984096281969</pre></div></td><td><div class=\"dni-plaintext\"><pre>0.8049616280288557</pre></div></td></tr></tbody></table><style>\r\n",
       ".dni-code-hint {\r\n",
       "    font-style: italic;\r\n",
       "    overflow: hidden;\r\n",
       "    white-space: nowrap;\r\n",
       "}\r\n",
       ".dni-treeview {\r\n",
       "    white-space: nowrap;\r\n",
       "}\r\n",
       ".dni-treeview td {\r\n",
       "    vertical-align: top;\r\n",
       "    text-align: start;\r\n",
       "}\r\n",
       "details.dni-treeview {\r\n",
       "    padding-left: 1em;\r\n",
       "}\r\n",
       "table td {\r\n",
       "    text-align: start;\r\n",
       "}\r\n",
       "table tr { \r\n",
       "    vertical-align: top; \r\n",
       "    margin: 0em 0px;\r\n",
       "}\r\n",
       "table tr td pre \r\n",
       "{ \r\n",
       "    vertical-align: top !important; \r\n",
       "    margin: 0em 0px !important;\r\n",
       "} \r\n",
       "table th {\r\n",
       "    text-align: start;\r\n",
       "}\r\n",
       "</style>"
      ]
     },
     "metadata": {},
     "output_type": "display_data"
    }
   ],
   "source": [
    "modelTracker.Register(\"Simple AutoML - 30% Test Split\", results.BestRun).ToDataFrame()"
   ]
  },
  {
   "cell_type": "markdown",
   "metadata": {},
   "source": [
    "I have a much better trust of the accuracy of these metrics than the other ones and it oddly has perfect precision despite still focusing on the F1 score. So many trees and forests in the trainers list, which makes me think that we're overfitting and preferring those models or we're not giving enough time for the other trainers to converge on good solutions.\n",
    "\n",
    "Let's evaluate the time aspect by seeing how the best metric improves over many trials."
   ]
  },
  {
   "cell_type": "code",
   "execution_count": null,
   "metadata": {
    "dotnet_interactive": {
     "language": "csharp"
    },
    "polyglot_notebook": {
     "kernelName": "csharp"
    },
    "vscode": {
     "languageId": "polyglot-notebook"
    }
   },
   "outputs": [
    {
     "data": {
      "text/html": [
       "<div><div id=\"697341f4-c64a-4dc7-b32c-d94aa31d143b\"><!-- Plotly chart will be drawn inside this DIV --></div><script type=\"text/javascript\">\n",
       "var renderPlotly_697341f4c64a4dc7b32cd94aa31d143b = function() {\n",
       "    var fsharpPlotlyRequire = requirejs.config({context:'fsharp-plotly',paths:{plotly:'https://cdn.plot.ly/plotly-2.27.1.min'}}) || require;\n",
       "    fsharpPlotlyRequire(['plotly'], function(Plotly) {\n",
       "        var data = [{\"type\":\"scatter\",\"mode\":\"lines\",\"x\":[0,1,2,3,4,5,6,7,8,9,10,11,12,13,14,15,16,17,18,19,20,21,22,23,24,25,26,27,28,29,30,31,32,33,34,35,36,37,38,39,40,41,42,43,44,45,46,47,48,49,50,51,52,53,54,55,56,57,58,59,60,61,62,63,64,65,66,67,68,69,70,71,72,73,74,75,76,77,78,79,80,81,82,83,84,85,86,87,88,89,90,91,92,93,94,95,96,97,98,99],\"y\":[0.6376811594202899,0.6376811594202899,0.6376811594202899,0.6376811594202899,0.6376811594202899,0.6376811594202899,0.6376811594202899,0.6478873239436619,0.6478873239436619,0.6478873239436619,0.6571428571428571,0.6571428571428571,0.6571428571428571,0.6571428571428571,0.6571428571428571,0.6571428571428571,0.6571428571428571,0.6571428571428571,0.6571428571428571,0.6571428571428571,0.6571428571428571,0.6571428571428571,0.6571428571428571,0.6571428571428571,0.6571428571428571,0.6571428571428571,0.6571428571428571,0.6571428571428571,0.6571428571428571,0.6571428571428571,0.6571428571428571,0.6571428571428571,0.6571428571428571,0.6571428571428571,0.6571428571428571,0.6571428571428571,0.6571428571428571,0.6571428571428571,0.6571428571428571,0.6571428571428571,0.6571428571428571,0.6571428571428571,0.6571428571428571,0.6571428571428571,0.6571428571428571,0.6571428571428571,0.6571428571428571,0.6571428571428571,0.6571428571428571,0.6571428571428571,0.6571428571428571,0.6571428571428571,0.6571428571428571,0.6571428571428571,0.6571428571428571,0.6571428571428571,0.6571428571428571,0.6571428571428571,0.6571428571428571,0.6571428571428571,0.6571428571428571,0.6571428571428571,0.6571428571428571,0.6571428571428571,0.6571428571428571,0.6571428571428571,0.6571428571428571,0.6571428571428571,0.6571428571428571,0.6571428571428571,0.6571428571428571,0.6571428571428571,0.6571428571428571,0.6571428571428571,0.6571428571428571,0.6571428571428571,0.6571428571428571,0.6571428571428571,0.6571428571428571,0.6571428571428571,0.6571428571428571,0.6571428571428571,0.6571428571428571,0.6571428571428571,0.6571428571428571,0.6571428571428571,0.6571428571428571,0.6571428571428571,0.6571428571428571,0.6571428571428571,0.6571428571428571,0.6571428571428571,0.6571428571428571,0.6571428571428571,0.6571428571428571,0.6571428571428571,0.6571428571428571,0.6571428571428571,0.6571428571428571,0.6571428571428571],\"marker\":{},\"line\":{}}];\n",
       "        var layout = {\"width\":800,\"height\":600,\"template\":{\"layout\":{\"title\":{\"x\":0.05},\"font\":{\"color\":\"rgba(42, 63, 95, 1.0)\"},\"paper_bgcolor\":\"rgba(255, 255, 255, 1.0)\",\"plot_bgcolor\":\"rgba(229, 236, 246, 1.0)\",\"autotypenumbers\":\"strict\",\"colorscale\":{\"diverging\":[[0.0,\"#8e0152\"],[0.1,\"#c51b7d\"],[0.2,\"#de77ae\"],[0.3,\"#f1b6da\"],[0.4,\"#fde0ef\"],[0.5,\"#f7f7f7\"],[0.6,\"#e6f5d0\"],[0.7,\"#b8e186\"],[0.8,\"#7fbc41\"],[0.9,\"#4d9221\"],[1.0,\"#276419\"]],\"sequential\":[[0.0,\"#0d0887\"],[0.1111111111111111,\"#46039f\"],[0.2222222222222222,\"#7201a8\"],[0.3333333333333333,\"#9c179e\"],[0.4444444444444444,\"#bd3786\"],[0.5555555555555556,\"#d8576b\"],[0.6666666666666666,\"#ed7953\"],[0.7777777777777778,\"#fb9f3a\"],[0.8888888888888888,\"#fdca26\"],[1.0,\"#f0f921\"]],\"sequentialminus\":[[0.0,\"#0d0887\"],[0.1111111111111111,\"#46039f\"],[0.2222222222222222,\"#7201a8\"],[0.3333333333333333,\"#9c179e\"],[0.4444444444444444,\"#bd3786\"],[0.5555555555555556,\"#d8576b\"],[0.6666666666666666,\"#ed7953\"],[0.7777777777777778,\"#fb9f3a\"],[0.8888888888888888,\"#fdca26\"],[1.0,\"#f0f921\"]]},\"hovermode\":\"closest\",\"hoverlabel\":{\"align\":\"left\"},\"coloraxis\":{\"colorbar\":{\"outlinewidth\":0.0,\"ticks\":\"\"}},\"geo\":{\"showland\":true,\"landcolor\":\"rgba(229, 236, 246, 1.0)\",\"showlakes\":true,\"lakecolor\":\"rgba(255, 255, 255, 1.0)\",\"subunitcolor\":\"rgba(255, 255, 255, 1.0)\",\"bgcolor\":\"rgba(255, 255, 255, 1.0)\"},\"mapbox\":{\"style\":\"light\"},\"polar\":{\"bgcolor\":\"rgba(229, 236, 246, 1.0)\",\"radialaxis\":{\"linecolor\":\"rgba(255, 255, 255, 1.0)\",\"gridcolor\":\"rgba(255, 255, 255, 1.0)\",\"ticks\":\"\"},\"angularaxis\":{\"linecolor\":\"rgba(255, 255, 255, 1.0)\",\"gridcolor\":\"rgba(255, 255, 255, 1.0)\",\"ticks\":\"\"}},\"scene\":{\"xaxis\":{\"ticks\":\"\",\"linecolor\":\"rgba(255, 255, 255, 1.0)\",\"gridcolor\":\"rgba(255, 255, 255, 1.0)\",\"gridwidth\":2.0,\"zerolinecolor\":\"rgba(255, 255, 255, 1.0)\",\"backgroundcolor\":\"rgba(229, 236, 246, 1.0)\",\"showbackground\":true},\"yaxis\":{\"ticks\":\"\",\"linecolor\":\"rgba(255, 255, 255, 1.0)\",\"gridcolor\":\"rgba(255, 255, 255, 1.0)\",\"gridwidth\":2.0,\"zerolinecolor\":\"rgba(255, 255, 255, 1.0)\",\"backgroundcolor\":\"rgba(229, 236, 246, 1.0)\",\"showbackground\":true},\"zaxis\":{\"ticks\":\"\",\"linecolor\":\"rgba(255, 255, 255, 1.0)\",\"gridcolor\":\"rgba(255, 255, 255, 1.0)\",\"gridwidth\":2.0,\"zerolinecolor\":\"rgba(255, 255, 255, 1.0)\",\"backgroundcolor\":\"rgba(229, 236, 246, 1.0)\",\"showbackground\":true}},\"ternary\":{\"aaxis\":{\"ticks\":\"\",\"linecolor\":\"rgba(255, 255, 255, 1.0)\",\"gridcolor\":\"rgba(255, 255, 255, 1.0)\"},\"baxis\":{\"ticks\":\"\",\"linecolor\":\"rgba(255, 255, 255, 1.0)\",\"gridcolor\":\"rgba(255, 255, 255, 1.0)\"},\"caxis\":{\"ticks\":\"\",\"linecolor\":\"rgba(255, 255, 255, 1.0)\",\"gridcolor\":\"rgba(255, 255, 255, 1.0)\"},\"bgcolor\":\"rgba(229, 236, 246, 1.0)\"},\"xaxis\":{\"title\":{\"standoff\":15},\"ticks\":\"\",\"automargin\":\"height+width+left+right+top+bottom\",\"linecolor\":\"rgba(255, 255, 255, 1.0)\",\"gridcolor\":\"rgba(255, 255, 255, 1.0)\",\"zerolinecolor\":\"rgba(255, 255, 255, 1.0)\",\"zerolinewidth\":2.0},\"yaxis\":{\"title\":{\"standoff\":15},\"ticks\":\"\",\"automargin\":\"height+width+left+right+top+bottom\",\"linecolor\":\"rgba(255, 255, 255, 1.0)\",\"gridcolor\":\"rgba(255, 255, 255, 1.0)\",\"zerolinecolor\":\"rgba(255, 255, 255, 1.0)\",\"zerolinewidth\":2.0},\"annotationdefaults\":{\"arrowcolor\":\"#2a3f5f\",\"arrowhead\":0,\"arrowwidth\":1},\"shapedefaults\":{\"line\":{\"color\":\"rgba(42, 63, 95, 1.0)\"}},\"colorway\":[\"rgba(99, 110, 250, 1.0)\",\"rgba(239, 85, 59, 1.0)\",\"rgba(0, 204, 150, 1.0)\",\"rgba(171, 99, 250, 1.0)\",\"rgba(255, 161, 90, 1.0)\",\"rgba(25, 211, 243, 1.0)\",\"rgba(255, 102, 146, 1.0)\",\"rgba(182, 232, 128, 1.0)\",\"rgba(255, 151, 255, 1.0)\",\"rgba(254, 203, 82, 1.0)\"]},\"data\":{\"bar\":[{\"marker\":{\"line\":{\"color\":\"rgba(229, 236, 246, 1.0)\",\"width\":0.5},\"pattern\":{\"fillmode\":\"overlay\",\"size\":10,\"solidity\":0.2}},\"error_x\":{\"color\":\"rgba(42, 63, 95, 1.0)\"},\"error_y\":{\"color\":\"rgba(42, 63, 95, 1.0)\"}}],\"barpolar\":[{\"marker\":{\"line\":{\"color\":\"rgba(229, 236, 246, 1.0)\",\"width\":0.5},\"pattern\":{\"fillmode\":\"overlay\",\"size\":10,\"solidity\":0.2}}}],\"carpet\":[{\"aaxis\":{\"linecolor\":\"rgba(255, 255, 255, 1.0)\",\"gridcolor\":\"rgba(255, 255, 255, 1.0)\",\"endlinecolor\":\"rgba(42, 63, 95, 1.0)\",\"minorgridcolor\":\"rgba(255, 255, 255, 1.0)\",\"startlinecolor\":\"rgba(42, 63, 95, 1.0)\"},\"baxis\":{\"linecolor\":\"rgba(255, 255, 255, 1.0)\",\"gridcolor\":\"rgba(255, 255, 255, 1.0)\",\"endlinecolor\":\"rgba(42, 63, 95, 1.0)\",\"minorgridcolor\":\"rgba(255, 255, 255, 1.0)\",\"startlinecolor\":\"rgba(42, 63, 95, 1.0)\"}}],\"choropleth\":[{\"colorbar\":{\"outlinewidth\":0.0,\"ticks\":\"\"},\"colorscale\":[[0.0,\"#0d0887\"],[0.1111111111111111,\"#46039f\"],[0.2222222222222222,\"#7201a8\"],[0.3333333333333333,\"#9c179e\"],[0.4444444444444444,\"#bd3786\"],[0.5555555555555556,\"#d8576b\"],[0.6666666666666666,\"#ed7953\"],[0.7777777777777778,\"#fb9f3a\"],[0.8888888888888888,\"#fdca26\"],[1.0,\"#f0f921\"]]}],\"contour\":[{\"colorbar\":{\"outlinewidth\":0.0,\"ticks\":\"\"},\"colorscale\":[[0.0,\"#0d0887\"],[0.1111111111111111,\"#46039f\"],[0.2222222222222222,\"#7201a8\"],[0.3333333333333333,\"#9c179e\"],[0.4444444444444444,\"#bd3786\"],[0.5555555555555556,\"#d8576b\"],[0.6666666666666666,\"#ed7953\"],[0.7777777777777778,\"#fb9f3a\"],[0.8888888888888888,\"#fdca26\"],[1.0,\"#f0f921\"]]}],\"contourcarpet\":[{\"colorbar\":{\"outlinewidth\":0.0,\"ticks\":\"\"}}],\"heatmap\":[{\"colorbar\":{\"outlinewidth\":0.0,\"ticks\":\"\"},\"colorscale\":[[0.0,\"#0d0887\"],[0.1111111111111111,\"#46039f\"],[0.2222222222222222,\"#7201a8\"],[0.3333333333333333,\"#9c179e\"],[0.4444444444444444,\"#bd3786\"],[0.5555555555555556,\"#d8576b\"],[0.6666666666666666,\"#ed7953\"],[0.7777777777777778,\"#fb9f3a\"],[0.8888888888888888,\"#fdca26\"],[1.0,\"#f0f921\"]]}],\"heatmapgl\":[{\"colorbar\":{\"outlinewidth\":0.0,\"ticks\":\"\"},\"colorscale\":[[0.0,\"#0d0887\"],[0.1111111111111111,\"#46039f\"],[0.2222222222222222,\"#7201a8\"],[0.3333333333333333,\"#9c179e\"],[0.4444444444444444,\"#bd3786\"],[0.5555555555555556,\"#d8576b\"],[0.6666666666666666,\"#ed7953\"],[0.7777777777777778,\"#fb9f3a\"],[0.8888888888888888,\"#fdca26\"],[1.0,\"#f0f921\"]]}],\"histogram\":[{\"marker\":{\"pattern\":{\"fillmode\":\"overlay\",\"size\":10,\"solidity\":0.2}}}],\"histogram2d\":[{\"colorbar\":{\"outlinewidth\":0.0,\"ticks\":\"\"},\"colorscale\":[[0.0,\"#0d0887\"],[0.1111111111111111,\"#46039f\"],[0.2222222222222222,\"#7201a8\"],[0.3333333333333333,\"#9c179e\"],[0.4444444444444444,\"#bd3786\"],[0.5555555555555556,\"#d8576b\"],[0.6666666666666666,\"#ed7953\"],[0.7777777777777778,\"#fb9f3a\"],[0.8888888888888888,\"#fdca26\"],[1.0,\"#f0f921\"]]}],\"histogram2dcontour\":[{\"colorbar\":{\"outlinewidth\":0.0,\"ticks\":\"\"},\"colorscale\":[[0.0,\"#0d0887\"],[0.1111111111111111,\"#46039f\"],[0.2222222222222222,\"#7201a8\"],[0.3333333333333333,\"#9c179e\"],[0.4444444444444444,\"#bd3786\"],[0.5555555555555556,\"#d8576b\"],[0.6666666666666666,\"#ed7953\"],[0.7777777777777778,\"#fb9f3a\"],[0.8888888888888888,\"#fdca26\"],[1.0,\"#f0f921\"]]}],\"mesh3d\":[{\"colorbar\":{\"outlinewidth\":0.0,\"ticks\":\"\"}}],\"parcoords\":[{\"line\":{\"colorbar\":{\"outlinewidth\":0.0,\"ticks\":\"\"}}}],\"pie\":[{\"automargin\":true}],\"scatter\":[{\"marker\":{\"colorbar\":{\"outlinewidth\":0.0,\"ticks\":\"\"}}}],\"scatter3d\":[{\"marker\":{\"colorbar\":{\"outlinewidth\":0.0,\"ticks\":\"\"}},\"line\":{\"colorbar\":{\"outlinewidth\":0.0,\"ticks\":\"\"}}}],\"scattercarpet\":[{\"marker\":{\"colorbar\":{\"outlinewidth\":0.0,\"ticks\":\"\"}}}],\"scattergeo\":[{\"marker\":{\"colorbar\":{\"outlinewidth\":0.0,\"ticks\":\"\"}}}],\"scattergl\":[{\"marker\":{\"colorbar\":{\"outlinewidth\":0.0,\"ticks\":\"\"}}}],\"scattermapbox\":[{\"marker\":{\"colorbar\":{\"outlinewidth\":0.0,\"ticks\":\"\"}}}],\"scatterpolar\":[{\"marker\":{\"colorbar\":{\"outlinewidth\":0.0,\"ticks\":\"\"}}}],\"scatterpolargl\":[{\"marker\":{\"colorbar\":{\"outlinewidth\":0.0,\"ticks\":\"\"}}}],\"scatterternary\":[{\"marker\":{\"colorbar\":{\"outlinewidth\":0.0,\"ticks\":\"\"}}}],\"surface\":[{\"colorbar\":{\"outlinewidth\":0.0,\"ticks\":\"\"},\"colorscale\":[[0.0,\"#0d0887\"],[0.1111111111111111,\"#46039f\"],[0.2222222222222222,\"#7201a8\"],[0.3333333333333333,\"#9c179e\"],[0.4444444444444444,\"#bd3786\"],[0.5555555555555556,\"#d8576b\"],[0.6666666666666666,\"#ed7953\"],[0.7777777777777778,\"#fb9f3a\"],[0.8888888888888888,\"#fdca26\"],[1.0,\"#f0f921\"]]}],\"table\":[{\"cells\":{\"fill\":{\"color\":\"rgba(235, 240, 248, 1.0)\"},\"line\":{\"color\":\"rgba(255, 255, 255, 1.0)\"}},\"header\":{\"fill\":{\"color\":\"rgba(200, 212, 227, 1.0)\"},\"line\":{\"color\":\"rgba(255, 255, 255, 1.0)\"}}}]}},\"title\":{\"text\":\"Best Model Improvement over Multiple Trials\"},\"xaxis\":{\"title\":{\"text\":\"Trial Number\"}},\"yaxis\":{\"title\":{\"text\":\"Primary Metric Value\"}}};\n",
       "        var config = {\"responsive\":true};\n",
       "        Plotly.newPlot('697341f4-c64a-4dc7-b32c-d94aa31d143b', data, layout, config);\n",
       "    });\n",
       "};\n",
       "if ((typeof(requirejs) !==  typeof(Function)) || (typeof(requirejs.config) !== typeof(Function))) {\n",
       "    var script = document.createElement(\"script\");\n",
       "    script.setAttribute(\"charset\", \"utf-8\");\n",
       "    script.setAttribute(\"src\", \"https://cdnjs.cloudflare.com/ajax/libs/require.js/2.3.6/require.min.js\");\n",
       "    script.onload = function(){\n",
       "        renderPlotly_697341f4c64a4dc7b32cd94aa31d143b();\n",
       "    };\n",
       "    document.getElementsByTagName(\"head\")[0].appendChild(script);\n",
       "}\n",
       "else {\n",
       "    renderPlotly_697341f4c64a4dc7b32cd94aa31d143b();\n",
       "}\n",
       "</script></div>"
      ]
     },
     "metadata": {},
     "output_type": "display_data"
    }
   ],
   "source": [
    "// Run the experiment - simplest one we'll do here, but let's just look at the simple options first\n",
    "BinaryExperimentSettings settings = new() {\n",
    "    MaxModels = 100,\n",
    "    OptimizingMetric = BinaryClassificationMetric.F1Score,\n",
    "};\n",
    "\n",
    "var results = context.Auto().CreateBinaryClassificationExperiment(settings).Execute(train, test);\n",
    "\n",
    "// ML.NET didn't have any sort of learning rate chart built-in so I built something to collect and chart the metrics myself.\n",
    "MLCharts.MetricImprovement(monitor)"
   ]
  },
  {
   "cell_type": "code",
   "execution_count": null,
   "metadata": {
    "dotnet_interactive": {
     "language": "csharp"
    },
    "polyglot_notebook": {
     "kernelName": "csharp"
    },
    "vscode": {
     "languageId": "polyglot-notebook"
    }
   },
   "outputs": [
    {
     "data": {
      "text/html": [
       "<div><div id=\"6e0ac270-69a8-46bb-a953-5ba306418cfa\"><!-- Plotly chart will be drawn inside this DIV --></div><script type=\"text/javascript\">\n",
       "var renderPlotly_6e0ac27069a846bba9535ba306418cfa = function() {\n",
       "    var fsharpPlotlyRequire = requirejs.config({context:'fsharp-plotly',paths:{plotly:'https://cdn.plot.ly/plotly-2.27.1.min'}}) || require;\n",
       "    fsharpPlotlyRequire(['plotly'], function(Plotly) {\n",
       "        var data = [{\"type\":\"scatter\",\"name\":\"Best Result\",\"mode\":\"lines\",\"x\":[0,1,2,3,4,5,6,7,8,9,10,11,12,13,14,15,16,17,18,19,20,21,22,23,24,25,26,27,28,29,30,31,32,33,34,35,36,37,38,39,40,41,42,43,44,45,46,47,48,49,50,51,52,53,54,55,56,57,58,59,60,61,62,63,64,65,66,67,68,69,70,71,72,73,74,75,76,77,78,79,80,81,82,83,84,85,86,87,88,89,90,91,92,93,94,95,96,97,98,99],\"y\":[0.6376811594202899,0.6376811594202899,0.6376811594202899,0.6376811594202899,0.6376811594202899,0.6376811594202899,0.6376811594202899,0.6478873239436619,0.6478873239436619,0.6478873239436619,0.6571428571428571,0.6571428571428571,0.6571428571428571,0.6571428571428571,0.6571428571428571,0.6571428571428571,0.6571428571428571,0.6571428571428571,0.6571428571428571,0.6571428571428571,0.6571428571428571,0.6571428571428571,0.6571428571428571,0.6571428571428571,0.6571428571428571,0.6571428571428571,0.6571428571428571,0.6571428571428571,0.6571428571428571,0.6571428571428571,0.6571428571428571,0.6571428571428571,0.6571428571428571,0.6571428571428571,0.6571428571428571,0.6571428571428571,0.6571428571428571,0.6571428571428571,0.6571428571428571,0.6571428571428571,0.6571428571428571,0.6571428571428571,0.6571428571428571,0.6571428571428571,0.6571428571428571,0.6571428571428571,0.6571428571428571,0.6571428571428571,0.6571428571428571,0.6571428571428571,0.6571428571428571,0.6571428571428571,0.6571428571428571,0.6571428571428571,0.6571428571428571,0.6571428571428571,0.6571428571428571,0.6571428571428571,0.6571428571428571,0.6571428571428571,0.6571428571428571,0.6571428571428571,0.6571428571428571,0.6571428571428571,0.6571428571428571,0.6571428571428571,0.6571428571428571,0.6571428571428571,0.6571428571428571,0.6571428571428571,0.6571428571428571,0.6571428571428571,0.6571428571428571,0.6571428571428571,0.6571428571428571,0.6571428571428571,0.6571428571428571,0.6571428571428571,0.6571428571428571,0.6571428571428571,0.6571428571428571,0.6571428571428571,0.6571428571428571,0.6571428571428571,0.6571428571428571,0.6571428571428571,0.6571428571428571,0.6571428571428571,0.6571428571428571,0.6571428571428571,0.6571428571428571,0.6571428571428571,0.6571428571428571,0.6571428571428571,0.6571428571428571,0.6571428571428571,0.6571428571428571,0.6571428571428571,0.6571428571428571,0.6571428571428571],\"marker\":{},\"line\":{\"width\":2.0,\"dash\":\"dot\"}},{\"type\":\"scatter\",\"name\":\"Trial Result\",\"mode\":\"markers\",\"x\":[0,1,2,3,4,5,6,7,8,9,10,11,12,13,14,15,16,17,18,19,20,21,22,23,24,25,26,27,28,29,30,31,32,33,34,35,36,37,38,39,40,41,42,43,44,45,46,47,48,49,50,51,52,53,54,55,56,57,58,59,60,61,62,63,64,65,66,67,68,69,70,71,72,73,74,75,76,77,78,79,80,81,82,83,84,85,86,87,88,89,90,91,92,93,94,95,96,97,98,99],\"y\":[0.6376811594202899,0.6376811594202899,0.6376811594202899,0.6376811594202899,0.6376811594202899,0.6376811594202899,0.6376811594202899,0.6478873239436619,0.6301369863013698,0.6376811594202899,0.6571428571428571,0.6478873239436619,0.6376811594202899,0.6376811594202899,0.6376811594202899,0.6376811594202899,0.6376811594202899,0.6285714285714286,0.6376811594202899,0.6388888888888888,0.6285714285714286,0.6376811594202899,0.6376811594202899,0.6376811594202899,0.6285714285714286,0.06896551724137931,0.6376811594202899,0.6376811594202899,0.6376811594202899,0.6376811594202899,0.0,0.6376811594202899,0.6376811594202899,0.6376811594202899,0.6376811594202899,0.6376811594202899,0.6376811594202899,0.6376811594202899,0.6376811594202899,0.6376811594202899,0.6478873239436619,0.6478873239436619,0.6376811594202899,0.6376811594202899,0.6376811594202899,0.6376811594202899,0.6376811594202899,0.6478873239436619,0.6376811594202899,0.6376811594202899,0.6571428571428571,0.6478873239436619,0.6571428571428571,0.6376811594202899,0.6376811594202899,0.6478873239436619,0.6571428571428571,0.6376811594202899,0.6478873239436619,0.6571428571428571,0.6571428571428571,0.6376811594202899,0.6376811594202899,0.6478873239436619,0.6376811594202899,0.6376811594202899,0.6571428571428571,0.6376811594202899,0.6478873239436619,0.6285714285714286,0.6478873239436619,0.6571428571428571,0.6478873239436619,0.6571428571428571,0.6376811594202899,0.6571428571428571,0.6376811594202899,0.6111111111111112,0.6376811594202899,0.6478873239436619,0.6376811594202899,0.5128205128205128,0.22950819672131148,0.6376811594202899,0.6376811594202899,0.6478873239436619,0.6376811594202899,0.6376811594202899,0.6376811594202899,0.6376811594202899,0.6571428571428571,0.6571428571428571,0.6478873239436619,0.6376811594202899,0.25396825396825395,0.6571428571428571,0.6478873239436619,0.6376811594202899,0.6046511627906976,0.4285714285714286],\"marker\":{},\"line\":{}}];\n",
       "        var layout = {\"width\":800,\"height\":600,\"template\":{\"layout\":{\"title\":{\"x\":0.05},\"font\":{\"color\":\"rgba(42, 63, 95, 1.0)\"},\"paper_bgcolor\":\"rgba(255, 255, 255, 1.0)\",\"plot_bgcolor\":\"rgba(229, 236, 246, 1.0)\",\"autotypenumbers\":\"strict\",\"colorscale\":{\"diverging\":[[0.0,\"#8e0152\"],[0.1,\"#c51b7d\"],[0.2,\"#de77ae\"],[0.3,\"#f1b6da\"],[0.4,\"#fde0ef\"],[0.5,\"#f7f7f7\"],[0.6,\"#e6f5d0\"],[0.7,\"#b8e186\"],[0.8,\"#7fbc41\"],[0.9,\"#4d9221\"],[1.0,\"#276419\"]],\"sequential\":[[0.0,\"#0d0887\"],[0.1111111111111111,\"#46039f\"],[0.2222222222222222,\"#7201a8\"],[0.3333333333333333,\"#9c179e\"],[0.4444444444444444,\"#bd3786\"],[0.5555555555555556,\"#d8576b\"],[0.6666666666666666,\"#ed7953\"],[0.7777777777777778,\"#fb9f3a\"],[0.8888888888888888,\"#fdca26\"],[1.0,\"#f0f921\"]],\"sequentialminus\":[[0.0,\"#0d0887\"],[0.1111111111111111,\"#46039f\"],[0.2222222222222222,\"#7201a8\"],[0.3333333333333333,\"#9c179e\"],[0.4444444444444444,\"#bd3786\"],[0.5555555555555556,\"#d8576b\"],[0.6666666666666666,\"#ed7953\"],[0.7777777777777778,\"#fb9f3a\"],[0.8888888888888888,\"#fdca26\"],[1.0,\"#f0f921\"]]},\"hovermode\":\"closest\",\"hoverlabel\":{\"align\":\"left\"},\"coloraxis\":{\"colorbar\":{\"outlinewidth\":0.0,\"ticks\":\"\"}},\"geo\":{\"showland\":true,\"landcolor\":\"rgba(229, 236, 246, 1.0)\",\"showlakes\":true,\"lakecolor\":\"rgba(255, 255, 255, 1.0)\",\"subunitcolor\":\"rgba(255, 255, 255, 1.0)\",\"bgcolor\":\"rgba(255, 255, 255, 1.0)\"},\"mapbox\":{\"style\":\"light\"},\"polar\":{\"bgcolor\":\"rgba(229, 236, 246, 1.0)\",\"radialaxis\":{\"linecolor\":\"rgba(255, 255, 255, 1.0)\",\"gridcolor\":\"rgba(255, 255, 255, 1.0)\",\"ticks\":\"\"},\"angularaxis\":{\"linecolor\":\"rgba(255, 255, 255, 1.0)\",\"gridcolor\":\"rgba(255, 255, 255, 1.0)\",\"ticks\":\"\"}},\"scene\":{\"xaxis\":{\"ticks\":\"\",\"linecolor\":\"rgba(255, 255, 255, 1.0)\",\"gridcolor\":\"rgba(255, 255, 255, 1.0)\",\"gridwidth\":2.0,\"zerolinecolor\":\"rgba(255, 255, 255, 1.0)\",\"backgroundcolor\":\"rgba(229, 236, 246, 1.0)\",\"showbackground\":true},\"yaxis\":{\"ticks\":\"\",\"linecolor\":\"rgba(255, 255, 255, 1.0)\",\"gridcolor\":\"rgba(255, 255, 255, 1.0)\",\"gridwidth\":2.0,\"zerolinecolor\":\"rgba(255, 255, 255, 1.0)\",\"backgroundcolor\":\"rgba(229, 236, 246, 1.0)\",\"showbackground\":true},\"zaxis\":{\"ticks\":\"\",\"linecolor\":\"rgba(255, 255, 255, 1.0)\",\"gridcolor\":\"rgba(255, 255, 255, 1.0)\",\"gridwidth\":2.0,\"zerolinecolor\":\"rgba(255, 255, 255, 1.0)\",\"backgroundcolor\":\"rgba(229, 236, 246, 1.0)\",\"showbackground\":true}},\"ternary\":{\"aaxis\":{\"ticks\":\"\",\"linecolor\":\"rgba(255, 255, 255, 1.0)\",\"gridcolor\":\"rgba(255, 255, 255, 1.0)\"},\"baxis\":{\"ticks\":\"\",\"linecolor\":\"rgba(255, 255, 255, 1.0)\",\"gridcolor\":\"rgba(255, 255, 255, 1.0)\"},\"caxis\":{\"ticks\":\"\",\"linecolor\":\"rgba(255, 255, 255, 1.0)\",\"gridcolor\":\"rgba(255, 255, 255, 1.0)\"},\"bgcolor\":\"rgba(229, 236, 246, 1.0)\"},\"xaxis\":{\"title\":{\"standoff\":15},\"ticks\":\"\",\"automargin\":\"height+width+left+right+top+bottom\",\"linecolor\":\"rgba(255, 255, 255, 1.0)\",\"gridcolor\":\"rgba(255, 255, 255, 1.0)\",\"zerolinecolor\":\"rgba(255, 255, 255, 1.0)\",\"zerolinewidth\":2.0},\"yaxis\":{\"title\":{\"standoff\":15},\"ticks\":\"\",\"automargin\":\"height+width+left+right+top+bottom\",\"linecolor\":\"rgba(255, 255, 255, 1.0)\",\"gridcolor\":\"rgba(255, 255, 255, 1.0)\",\"zerolinecolor\":\"rgba(255, 255, 255, 1.0)\",\"zerolinewidth\":2.0},\"annotationdefaults\":{\"arrowcolor\":\"#2a3f5f\",\"arrowhead\":0,\"arrowwidth\":1},\"shapedefaults\":{\"line\":{\"color\":\"rgba(42, 63, 95, 1.0)\"}},\"colorway\":[\"rgba(99, 110, 250, 1.0)\",\"rgba(239, 85, 59, 1.0)\",\"rgba(0, 204, 150, 1.0)\",\"rgba(171, 99, 250, 1.0)\",\"rgba(255, 161, 90, 1.0)\",\"rgba(25, 211, 243, 1.0)\",\"rgba(255, 102, 146, 1.0)\",\"rgba(182, 232, 128, 1.0)\",\"rgba(255, 151, 255, 1.0)\",\"rgba(254, 203, 82, 1.0)\"]},\"data\":{\"bar\":[{\"marker\":{\"line\":{\"color\":\"rgba(229, 236, 246, 1.0)\",\"width\":0.5},\"pattern\":{\"fillmode\":\"overlay\",\"size\":10,\"solidity\":0.2}},\"error_x\":{\"color\":\"rgba(42, 63, 95, 1.0)\"},\"error_y\":{\"color\":\"rgba(42, 63, 95, 1.0)\"}}],\"barpolar\":[{\"marker\":{\"line\":{\"color\":\"rgba(229, 236, 246, 1.0)\",\"width\":0.5},\"pattern\":{\"fillmode\":\"overlay\",\"size\":10,\"solidity\":0.2}}}],\"carpet\":[{\"aaxis\":{\"linecolor\":\"rgba(255, 255, 255, 1.0)\",\"gridcolor\":\"rgba(255, 255, 255, 1.0)\",\"endlinecolor\":\"rgba(42, 63, 95, 1.0)\",\"minorgridcolor\":\"rgba(255, 255, 255, 1.0)\",\"startlinecolor\":\"rgba(42, 63, 95, 1.0)\"},\"baxis\":{\"linecolor\":\"rgba(255, 255, 255, 1.0)\",\"gridcolor\":\"rgba(255, 255, 255, 1.0)\",\"endlinecolor\":\"rgba(42, 63, 95, 1.0)\",\"minorgridcolor\":\"rgba(255, 255, 255, 1.0)\",\"startlinecolor\":\"rgba(42, 63, 95, 1.0)\"}}],\"choropleth\":[{\"colorbar\":{\"outlinewidth\":0.0,\"ticks\":\"\"},\"colorscale\":[[0.0,\"#0d0887\"],[0.1111111111111111,\"#46039f\"],[0.2222222222222222,\"#7201a8\"],[0.3333333333333333,\"#9c179e\"],[0.4444444444444444,\"#bd3786\"],[0.5555555555555556,\"#d8576b\"],[0.6666666666666666,\"#ed7953\"],[0.7777777777777778,\"#fb9f3a\"],[0.8888888888888888,\"#fdca26\"],[1.0,\"#f0f921\"]]}],\"contour\":[{\"colorbar\":{\"outlinewidth\":0.0,\"ticks\":\"\"},\"colorscale\":[[0.0,\"#0d0887\"],[0.1111111111111111,\"#46039f\"],[0.2222222222222222,\"#7201a8\"],[0.3333333333333333,\"#9c179e\"],[0.4444444444444444,\"#bd3786\"],[0.5555555555555556,\"#d8576b\"],[0.6666666666666666,\"#ed7953\"],[0.7777777777777778,\"#fb9f3a\"],[0.8888888888888888,\"#fdca26\"],[1.0,\"#f0f921\"]]}],\"contourcarpet\":[{\"colorbar\":{\"outlinewidth\":0.0,\"ticks\":\"\"}}],\"heatmap\":[{\"colorbar\":{\"outlinewidth\":0.0,\"ticks\":\"\"},\"colorscale\":[[0.0,\"#0d0887\"],[0.1111111111111111,\"#46039f\"],[0.2222222222222222,\"#7201a8\"],[0.3333333333333333,\"#9c179e\"],[0.4444444444444444,\"#bd3786\"],[0.5555555555555556,\"#d8576b\"],[0.6666666666666666,\"#ed7953\"],[0.7777777777777778,\"#fb9f3a\"],[0.8888888888888888,\"#fdca26\"],[1.0,\"#f0f921\"]]}],\"heatmapgl\":[{\"colorbar\":{\"outlinewidth\":0.0,\"ticks\":\"\"},\"colorscale\":[[0.0,\"#0d0887\"],[0.1111111111111111,\"#46039f\"],[0.2222222222222222,\"#7201a8\"],[0.3333333333333333,\"#9c179e\"],[0.4444444444444444,\"#bd3786\"],[0.5555555555555556,\"#d8576b\"],[0.6666666666666666,\"#ed7953\"],[0.7777777777777778,\"#fb9f3a\"],[0.8888888888888888,\"#fdca26\"],[1.0,\"#f0f921\"]]}],\"histogram\":[{\"marker\":{\"pattern\":{\"fillmode\":\"overlay\",\"size\":10,\"solidity\":0.2}}}],\"histogram2d\":[{\"colorbar\":{\"outlinewidth\":0.0,\"ticks\":\"\"},\"colorscale\":[[0.0,\"#0d0887\"],[0.1111111111111111,\"#46039f\"],[0.2222222222222222,\"#7201a8\"],[0.3333333333333333,\"#9c179e\"],[0.4444444444444444,\"#bd3786\"],[0.5555555555555556,\"#d8576b\"],[0.6666666666666666,\"#ed7953\"],[0.7777777777777778,\"#fb9f3a\"],[0.8888888888888888,\"#fdca26\"],[1.0,\"#f0f921\"]]}],\"histogram2dcontour\":[{\"colorbar\":{\"outlinewidth\":0.0,\"ticks\":\"\"},\"colorscale\":[[0.0,\"#0d0887\"],[0.1111111111111111,\"#46039f\"],[0.2222222222222222,\"#7201a8\"],[0.3333333333333333,\"#9c179e\"],[0.4444444444444444,\"#bd3786\"],[0.5555555555555556,\"#d8576b\"],[0.6666666666666666,\"#ed7953\"],[0.7777777777777778,\"#fb9f3a\"],[0.8888888888888888,\"#fdca26\"],[1.0,\"#f0f921\"]]}],\"mesh3d\":[{\"colorbar\":{\"outlinewidth\":0.0,\"ticks\":\"\"}}],\"parcoords\":[{\"line\":{\"colorbar\":{\"outlinewidth\":0.0,\"ticks\":\"\"}}}],\"pie\":[{\"automargin\":true}],\"scatter\":[{\"marker\":{\"colorbar\":{\"outlinewidth\":0.0,\"ticks\":\"\"}}}],\"scatter3d\":[{\"marker\":{\"colorbar\":{\"outlinewidth\":0.0,\"ticks\":\"\"}},\"line\":{\"colorbar\":{\"outlinewidth\":0.0,\"ticks\":\"\"}}}],\"scattercarpet\":[{\"marker\":{\"colorbar\":{\"outlinewidth\":0.0,\"ticks\":\"\"}}}],\"scattergeo\":[{\"marker\":{\"colorbar\":{\"outlinewidth\":0.0,\"ticks\":\"\"}}}],\"scattergl\":[{\"marker\":{\"colorbar\":{\"outlinewidth\":0.0,\"ticks\":\"\"}}}],\"scattermapbox\":[{\"marker\":{\"colorbar\":{\"outlinewidth\":0.0,\"ticks\":\"\"}}}],\"scatterpolar\":[{\"marker\":{\"colorbar\":{\"outlinewidth\":0.0,\"ticks\":\"\"}}}],\"scatterpolargl\":[{\"marker\":{\"colorbar\":{\"outlinewidth\":0.0,\"ticks\":\"\"}}}],\"scatterternary\":[{\"marker\":{\"colorbar\":{\"outlinewidth\":0.0,\"ticks\":\"\"}}}],\"surface\":[{\"colorbar\":{\"outlinewidth\":0.0,\"ticks\":\"\"},\"colorscale\":[[0.0,\"#0d0887\"],[0.1111111111111111,\"#46039f\"],[0.2222222222222222,\"#7201a8\"],[0.3333333333333333,\"#9c179e\"],[0.4444444444444444,\"#bd3786\"],[0.5555555555555556,\"#d8576b\"],[0.6666666666666666,\"#ed7953\"],[0.7777777777777778,\"#fb9f3a\"],[0.8888888888888888,\"#fdca26\"],[1.0,\"#f0f921\"]]}],\"table\":[{\"cells\":{\"fill\":{\"color\":\"rgba(235, 240, 248, 1.0)\"},\"line\":{\"color\":\"rgba(255, 255, 255, 1.0)\"}},\"header\":{\"fill\":{\"color\":\"rgba(200, 212, 227, 1.0)\"},\"line\":{\"color\":\"rgba(255, 255, 255, 1.0)\"}}}]}},\"title\":{\"text\":\"Trial Metrics over Multiple Trials\"},\"xaxis\":{\"title\":{\"text\":\"Trial Number\"}},\"yaxis\":{\"title\":{\"text\":\"Primary Metric Value\"}}};\n",
       "        var config = {\"responsive\":true};\n",
       "        Plotly.newPlot('6e0ac270-69a8-46bb-a953-5ba306418cfa', data, layout, config);\n",
       "    });\n",
       "};\n",
       "if ((typeof(requirejs) !==  typeof(Function)) || (typeof(requirejs.config) !== typeof(Function))) {\n",
       "    var script = document.createElement(\"script\");\n",
       "    script.setAttribute(\"charset\", \"utf-8\");\n",
       "    script.setAttribute(\"src\", \"https://cdnjs.cloudflare.com/ajax/libs/require.js/2.3.6/require.min.js\");\n",
       "    script.onload = function(){\n",
       "        renderPlotly_6e0ac27069a846bba9535ba306418cfa();\n",
       "    };\n",
       "    document.getElementsByTagName(\"head\")[0].appendChild(script);\n",
       "}\n",
       "else {\n",
       "    renderPlotly_6e0ac27069a846bba9535ba306418cfa();\n",
       "}\n",
       "</script></div>"
      ]
     },
     "metadata": {},
     "output_type": "display_data"
    }
   ],
   "source": [
    "MLCharts.MetricImprovementWithTrials(monitor)"
   ]
  },
  {
   "cell_type": "markdown",
   "metadata": {},
   "source": [
    "Here it looks like things are pretty stable at the observed metric. We can probably get bits of additional performance from expanding our trials significantly, but progress looks to be more or less random and we can get better tuning with more manual control over hyperparameter tuning later. For now, this does illustrate that 10 - 20 trials is significant to get a good ballpark impression of a pipeline's basic performance."
   ]
  },
  {
   "cell_type": "markdown",
   "metadata": {},
   "source": [
    "\n",
    "Next, let's examine cross validation of the same experiment to see what it tells us about the level of confidence we can have in our test metrics."
   ]
  },
  {
   "cell_type": "code",
   "execution_count": null,
   "metadata": {
    "dotnet_interactive": {
     "language": "csharp"
    },
    "polyglot_notebook": {
     "kernelName": "csharp"
    },
    "vscode": {
     "languageId": "polyglot-notebook"
    }
   },
   "outputs": [
    {
     "data": {
      "text/html": [
       "<details open=\"open\" class=\"dni-treeview\"><summary><span class=\"dni-code-hint\"><code>Microsoft.ML.AutoML.CrossValidationExperimentResult`1[Microsoft.ML.Data.BinaryClassificationMetrics]</code></span></summary><div><table><thead><tr></tr></thead><tbody><tr><td>RunDetails</td><td><table><thead><tr><th><i>index</i></th><th>value</th></tr></thead><tbody><tr><td>0</td><td><details class=\"dni-treeview\"><summary><span class=\"dni-code-hint\"><code>Microsoft.ML.AutoML.CrossValidationRunDetail`1[Microsoft.ML.Data.BinaryClassificationMetrics]</code></span></summary><div><table><thead><tr></tr></thead><tbody><tr><td>Results</td><td><table><thead><tr><th><i>index</i></th><th>value</th></tr></thead><tbody><tr><td>0</td><td><details class=\"dni-treeview\"><summary><span class=\"dni-code-hint\"><code>Microsoft.ML.AutoML.TrainResult`1[Microsoft.ML.Data.BinaryClassificationMetrics]</code></span></summary><div><table><thead><tr></tr></thead><tbody><tr><td>ValidationMetrics</td><td><details class=\"dni-treeview\"><summary><span class=\"dni-code-hint\"><code>Microsoft.ML.Data.BinaryClassificationMetrics</code></span></summary><div><table><thead><tr></tr></thead><tbody><tr><td>AreaUnderRocCurve</td><td>0.7696572580645161</td></tr><tr><td>Accuracy</td><td>0.8297872340425532</td></tr><tr><td>PositivePrecision</td><td>1</td></tr><tr><td>PositiveRecall</td><td>0.5</td></tr><tr><td>NegativePrecision</td><td>0.7948717948717948</td></tr><tr><td>NegativeRecall</td><td>1</td></tr><tr><td>F1Score</td><td>0.6666666666666666</td></tr><tr><td>AreaUnderPrecisionRecallCurve</td><td>0.7534563080931892</td></tr><tr><td>ConfusionMatrix</td><td>Microsoft.ML.Data.ConfusionMatrix</td></tr></tbody></table></div></details></td></tr><tr><td>Model</td><td><details class=\"dni-treeview\"><summary><span class=\"dni-code-hint\"><code>[ Microsoft.ML.Transforms.MissingValueReplacingTransformer, Microsoft.ML.Transforms.TypeConvertingTransformer, Microsoft.ML.Transforms.Text.TextFeaturizingEstimator+Transformer, Microsoft.ML.Data.ColumnConcatenatingTransformer, Microsoft.ML.Data.BinaryPredictionTransformer`1[Microsoft.ML.Calibrators.CalibratedModelParametersBase`2[Microsoft.ML.Trainers.FastTree.FastTreeBinaryModelParameters,Microsoft.ML.Calibrators.PlattCalibrator]] ]</code></span></summary><div><table><thead><tr></tr></thead><tbody><tr><td>LastTransformer</td><td>Microsoft.ML.Data.BinaryPredictionTransformer`1[Microsoft.ML.Calibrators.CalibratedModelParametersBase`2[Microsoft.ML.Trainers.FastTree.FastTreeBinaryModelParameters,Microsoft.ML.Calibrators.PlattCalibrator]]</td></tr><tr><td><i>(values)</i></td><td><table><thead><tr><th><i>index</i></th><th><i>type</i></th><th>value</th></tr></thead><tbody><tr><td>0</td><td>Microsoft.ML.Transforms.MissingValueReplacingTransformer</td><td>Microsoft.ML.Transforms.MissingValueReplacingTransformer</td></tr><tr><td>1</td><td>Microsoft.ML.Transforms.TypeConvertingTransformer</td><td>Microsoft.ML.Transforms.TypeConvertingTransformer</td></tr><tr><td>2</td><td>Microsoft.ML.Transforms.Text.TextFeaturizingEstimator+Transformer</td><td>Microsoft.ML.Transforms.Text.TextFeaturizingEstimator+Transformer</td></tr><tr><td>3</td><td>Microsoft.ML.Data.ColumnConcatenatingTransformer</td><td>Microsoft.ML.Data.ColumnConcatenatingTransformer</td></tr><tr><td>4</td><td>Microsoft.ML.Data.BinaryPredictionTransformer`1[Microsoft.ML.Calibrators.CalibratedModelParametersBase`2[Microsoft.ML.Trainers.FastTree.FastTreeBinaryModelParameters,Microsoft.ML.Calibrators.PlattCalibrator]]</td><td>Microsoft.ML.Data.BinaryPredictionTransformer`1[Microsoft.ML.Calibrators.CalibratedModelParametersBase`2[Microsoft.ML.Trainers.FastTree.FastTreeBinaryModelParameters,Microsoft.ML.Calibrators.PlattCalibrator]]</td></tr></tbody></table></td></tr></tbody></table></div></details></td></tr><tr><td>Exception</td><td><div class=\"dni-plaintext\"><pre>&lt;null&gt;</pre></div></td></tr></tbody></table></div></details></td></tr><tr><td>1</td><td><details class=\"dni-treeview\"><summary><span class=\"dni-code-hint\"><code>Microsoft.ML.AutoML.TrainResult`1[Microsoft.ML.Data.BinaryClassificationMetrics]</code></span></summary><div><table><thead><tr></tr></thead><tbody><tr><td>ValidationMetrics</td><td><details class=\"dni-treeview\"><summary><span class=\"dni-code-hint\"><code>Microsoft.ML.Data.BinaryClassificationMetrics</code></span></summary><div><table><thead><tr></tr></thead><tbody><tr><td>AreaUnderRocCurve</td><td>0.7539447731755424</td></tr><tr><td>Accuracy</td><td>0.7863247863247863</td></tr><tr><td>PositivePrecision</td><td>1</td></tr><tr><td>PositiveRecall</td><td>0.358974358974359</td></tr><tr><td>NegativePrecision</td><td>0.7572815533980582</td></tr><tr><td>NegativeRecall</td><td>1</td></tr><tr><td>F1Score</td><td>0.5283018867924528</td></tr><tr><td>AreaUnderPrecisionRecallCurve</td><td>0.6867301235795925</td></tr><tr><td>ConfusionMatrix</td><td>Microsoft.ML.Data.ConfusionMatrix</td></tr></tbody></table></div></details></td></tr><tr><td>Model</td><td><details class=\"dni-treeview\"><summary><span class=\"dni-code-hint\"><code>[ Microsoft.ML.Transforms.MissingValueReplacingTransformer, Microsoft.ML.Transforms.TypeConvertingTransformer, Microsoft.ML.Transforms.Text.TextFeaturizingEstimator+Transformer, Microsoft.ML.Data.ColumnConcatenatingTransformer, Microsoft.ML.Data.BinaryPredictionTransformer`1[Microsoft.ML.Calibrators.CalibratedModelParametersBase`2[Microsoft.ML.Trainers.FastTree.FastTreeBinaryModelParameters,Microsoft.ML.Calibrators.PlattCalibrator]] ]</code></span></summary><div><table><thead><tr></tr></thead><tbody><tr><td>LastTransformer</td><td>Microsoft.ML.Data.BinaryPredictionTransformer`1[Microsoft.ML.Calibrators.CalibratedModelParametersBase`2[Microsoft.ML.Trainers.FastTree.FastTreeBinaryModelParameters,Microsoft.ML.Calibrators.PlattCalibrator]]</td></tr><tr><td><i>(values)</i></td><td><table><thead><tr><th><i>index</i></th><th><i>type</i></th><th>value</th></tr></thead><tbody><tr><td>0</td><td>Microsoft.ML.Transforms.MissingValueReplacingTransformer</td><td>Microsoft.ML.Transforms.MissingValueReplacingTransformer</td></tr><tr><td>1</td><td>Microsoft.ML.Transforms.TypeConvertingTransformer</td><td>Microsoft.ML.Transforms.TypeConvertingTransformer</td></tr><tr><td>2</td><td>Microsoft.ML.Transforms.Text.TextFeaturizingEstimator+Transformer</td><td>Microsoft.ML.Transforms.Text.TextFeaturizingEstimator+Transformer</td></tr><tr><td>3</td><td>Microsoft.ML.Data.ColumnConcatenatingTransformer</td><td>Microsoft.ML.Data.ColumnConcatenatingTransformer</td></tr><tr><td>4</td><td>Microsoft.ML.Data.BinaryPredictionTransformer`1[Microsoft.ML.Calibrators.CalibratedModelParametersBase`2[Microsoft.ML.Trainers.FastTree.FastTreeBinaryModelParameters,Microsoft.ML.Calibrators.PlattCalibrator]]</td><td>Microsoft.ML.Data.BinaryPredictionTransformer`1[Microsoft.ML.Calibrators.CalibratedModelParametersBase`2[Microsoft.ML.Trainers.FastTree.FastTreeBinaryModelParameters,Microsoft.ML.Calibrators.PlattCalibrator]]</td></tr></tbody></table></td></tr></tbody></table></div></details></td></tr><tr><td>Exception</td><td><div class=\"dni-plaintext\"><pre>&lt;null&gt;</pre></div></td></tr></tbody></table></div></details></td></tr><tr><td>2</td><td><details class=\"dni-treeview\"><summary><span class=\"dni-code-hint\"><code>Microsoft.ML.AutoML.TrainResult`1[Microsoft.ML.Data.BinaryClassificationMetrics]</code></span></summary><div><table><thead><tr></tr></thead><tbody><tr><td>ValidationMetrics</td><td><details class=\"dni-treeview\"><summary><span class=\"dni-code-hint\"><code>Microsoft.ML.Data.BinaryClassificationMetrics</code></span></summary><div><table><thead><tr></tr></thead><tbody><tr><td>AreaUnderRocCurve</td><td>0.7532894736842105</td></tr><tr><td>Accuracy</td><td>0.8645833333333334</td></tr><tr><td>PositivePrecision</td><td>0.8888888888888888</td></tr><tr><td>PositiveRecall</td><td>0.4</td></tr><tr><td>NegativePrecision</td><td>0.8620689655172413</td></tr><tr><td>NegativeRecall</td><td>0.9868421052631579</td></tr><tr><td>F1Score</td><td>0.5517241379310346</td></tr><tr><td>AreaUnderPrecisionRecallCurve</td><td>0.5143169080822987</td></tr><tr><td>ConfusionMatrix</td><td>Microsoft.ML.Data.ConfusionMatrix</td></tr></tbody></table></div></details></td></tr><tr><td>Model</td><td><details class=\"dni-treeview\"><summary><span class=\"dni-code-hint\"><code>[ Microsoft.ML.Transforms.MissingValueReplacingTransformer, Microsoft.ML.Transforms.TypeConvertingTransformer, Microsoft.ML.Transforms.Text.TextFeaturizingEstimator+Transformer, Microsoft.ML.Data.ColumnConcatenatingTransformer, Microsoft.ML.Data.BinaryPredictionTransformer`1[Microsoft.ML.Calibrators.CalibratedModelParametersBase`2[Microsoft.ML.Trainers.FastTree.FastTreeBinaryModelParameters,Microsoft.ML.Calibrators.PlattCalibrator]] ]</code></span></summary><div><table><thead><tr></tr></thead><tbody><tr><td>LastTransformer</td><td>Microsoft.ML.Data.BinaryPredictionTransformer`1[Microsoft.ML.Calibrators.CalibratedModelParametersBase`2[Microsoft.ML.Trainers.FastTree.FastTreeBinaryModelParameters,Microsoft.ML.Calibrators.PlattCalibrator]]</td></tr><tr><td><i>(values)</i></td><td><table><thead><tr><th><i>index</i></th><th><i>type</i></th><th>value</th></tr></thead><tbody><tr><td>0</td><td>Microsoft.ML.Transforms.MissingValueReplacingTransformer</td><td>Microsoft.ML.Transforms.MissingValueReplacingTransformer</td></tr><tr><td>1</td><td>Microsoft.ML.Transforms.TypeConvertingTransformer</td><td>Microsoft.ML.Transforms.TypeConvertingTransformer</td></tr><tr><td>2</td><td>Microsoft.ML.Transforms.Text.TextFeaturizingEstimator+Transformer</td><td>Microsoft.ML.Transforms.Text.TextFeaturizingEstimator+Transformer</td></tr><tr><td>3</td><td>Microsoft.ML.Data.ColumnConcatenatingTransformer</td><td>Microsoft.ML.Data.ColumnConcatenatingTransformer</td></tr><tr><td>4</td><td>Microsoft.ML.Data.BinaryPredictionTransformer`1[Microsoft.ML.Calibrators.CalibratedModelParametersBase`2[Microsoft.ML.Trainers.FastTree.FastTreeBinaryModelParameters,Microsoft.ML.Calibrators.PlattCalibrator]]</td><td>Microsoft.ML.Data.BinaryPredictionTransformer`1[Microsoft.ML.Calibrators.CalibratedModelParametersBase`2[Microsoft.ML.Trainers.FastTree.FastTreeBinaryModelParameters,Microsoft.ML.Calibrators.PlattCalibrator]]</td></tr></tbody></table></td></tr></tbody></table></div></details></td></tr><tr><td>Exception</td><td><div class=\"dni-plaintext\"><pre>&lt;null&gt;</pre></div></td></tr></tbody></table></div></details></td></tr><tr><td>3</td><td><details class=\"dni-treeview\"><summary><span class=\"dni-code-hint\"><code>Microsoft.ML.AutoML.TrainResult`1[Microsoft.ML.Data.BinaryClassificationMetrics]</code></span></summary><div><table><thead><tr></tr></thead><tbody><tr><td>ValidationMetrics</td><td><details class=\"dni-treeview\"><summary><span class=\"dni-code-hint\"><code>Microsoft.ML.Data.BinaryClassificationMetrics</code></span></summary><div><table><thead><tr></tr></thead><tbody><tr><td>AreaUnderRocCurve</td><td>0.8486153846153847</td></tr><tr><td>Accuracy</td><td>0.8666666666666667</td></tr><tr><td>PositivePrecision</td><td>1</td></tr><tr><td>PositiveRecall</td><td>0.52</td></tr><tr><td>NegativePrecision</td><td>0.8441558441558441</td></tr><tr><td>NegativeRecall</td><td>1</td></tr><tr><td>F1Score</td><td>0.6842105263157895</td></tr><tr><td>AreaUnderPrecisionRecallCurve</td><td>0.7993733226390695</td></tr><tr><td>ConfusionMatrix</td><td>Microsoft.ML.Data.ConfusionMatrix</td></tr></tbody></table></div></details></td></tr><tr><td>Model</td><td><details class=\"dni-treeview\"><summary><span class=\"dni-code-hint\"><code>[ Microsoft.ML.Transforms.MissingValueReplacingTransformer, Microsoft.ML.Transforms.TypeConvertingTransformer, Microsoft.ML.Transforms.Text.TextFeaturizingEstimator+Transformer, Microsoft.ML.Data.ColumnConcatenatingTransformer, Microsoft.ML.Data.BinaryPredictionTransformer`1[Microsoft.ML.Calibrators.CalibratedModelParametersBase`2[Microsoft.ML.Trainers.FastTree.FastTreeBinaryModelParameters,Microsoft.ML.Calibrators.PlattCalibrator]] ]</code></span></summary><div><table><thead><tr></tr></thead><tbody><tr><td>LastTransformer</td><td>Microsoft.ML.Data.BinaryPredictionTransformer`1[Microsoft.ML.Calibrators.CalibratedModelParametersBase`2[Microsoft.ML.Trainers.FastTree.FastTreeBinaryModelParameters,Microsoft.ML.Calibrators.PlattCalibrator]]</td></tr><tr><td><i>(values)</i></td><td><table><thead><tr><th><i>index</i></th><th><i>type</i></th><th>value</th></tr></thead><tbody><tr><td>0</td><td>Microsoft.ML.Transforms.MissingValueReplacingTransformer</td><td>Microsoft.ML.Transforms.MissingValueReplacingTransformer</td></tr><tr><td>1</td><td>Microsoft.ML.Transforms.TypeConvertingTransformer</td><td>Microsoft.ML.Transforms.TypeConvertingTransformer</td></tr><tr><td>2</td><td>Microsoft.ML.Transforms.Text.TextFeaturizingEstimator+Transformer</td><td>Microsoft.ML.Transforms.Text.TextFeaturizingEstimator+Transformer</td></tr><tr><td>3</td><td>Microsoft.ML.Data.ColumnConcatenatingTransformer</td><td>Microsoft.ML.Data.ColumnConcatenatingTransformer</td></tr><tr><td>4</td><td>Microsoft.ML.Data.BinaryPredictionTransformer`1[Microsoft.ML.Calibrators.CalibratedModelParametersBase`2[Microsoft.ML.Trainers.FastTree.FastTreeBinaryModelParameters,Microsoft.ML.Calibrators.PlattCalibrator]]</td><td>Microsoft.ML.Data.BinaryPredictionTransformer`1[Microsoft.ML.Calibrators.CalibratedModelParametersBase`2[Microsoft.ML.Trainers.FastTree.FastTreeBinaryModelParameters,Microsoft.ML.Calibrators.PlattCalibrator]]</td></tr></tbody></table></td></tr></tbody></table></div></details></td></tr><tr><td>Exception</td><td><div class=\"dni-plaintext\"><pre>&lt;null&gt;</pre></div></td></tr></tbody></table></div></details></td></tr><tr><td>4</td><td><details class=\"dni-treeview\"><summary><span class=\"dni-code-hint\"><code>Microsoft.ML.AutoML.TrainResult`1[Microsoft.ML.Data.BinaryClassificationMetrics]</code></span></summary><div><table><thead><tr></tr></thead><tbody><tr><td>ValidationMetrics</td><td><details class=\"dni-treeview\"><summary><span class=\"dni-code-hint\"><code>Microsoft.ML.Data.BinaryClassificationMetrics</code></span></summary><div><table><thead><tr></tr></thead><tbody><tr><td>AreaUnderRocCurve</td><td>0.7623996221067548</td></tr><tr><td>Accuracy</td><td>0.8235294117647058</td></tr><tr><td>PositivePrecision</td><td>0.8666666666666667</td></tr><tr><td>PositiveRecall</td><td>0.4482758620689655</td></tr><tr><td>NegativePrecision</td><td>0.8160919540229885</td></tr><tr><td>NegativeRecall</td><td>0.9726027397260274</td></tr><tr><td>F1Score</td><td>0.5909090909090909</td></tr><tr><td>AreaUnderPrecisionRecallCurve</td><td>0.703435490657124</td></tr><tr><td>ConfusionMatrix</td><td>Microsoft.ML.Data.ConfusionMatrix</td></tr></tbody></table></div></details></td></tr><tr><td>Model</td><td><details class=\"dni-treeview\"><summary><span class=\"dni-code-hint\"><code>[ Microsoft.ML.Transforms.MissingValueReplacingTransformer, Microsoft.ML.Transforms.TypeConvertingTransformer, Microsoft.ML.Transforms.Text.TextFeaturizingEstimator+Transformer, Microsoft.ML.Data.ColumnConcatenatingTransformer, Microsoft.ML.Data.BinaryPredictionTransformer`1[Microsoft.ML.Calibrators.CalibratedModelParametersBase`2[Microsoft.ML.Trainers.FastTree.FastTreeBinaryModelParameters,Microsoft.ML.Calibrators.PlattCalibrator]] ]</code></span></summary><div><table><thead><tr></tr></thead><tbody><tr><td>LastTransformer</td><td>Microsoft.ML.Data.BinaryPredictionTransformer`1[Microsoft.ML.Calibrators.CalibratedModelParametersBase`2[Microsoft.ML.Trainers.FastTree.FastTreeBinaryModelParameters,Microsoft.ML.Calibrators.PlattCalibrator]]</td></tr><tr><td><i>(values)</i></td><td><table><thead><tr><th><i>index</i></th><th><i>type</i></th><th>value</th></tr></thead><tbody><tr><td>0</td><td>Microsoft.ML.Transforms.MissingValueReplacingTransformer</td><td>Microsoft.ML.Transforms.MissingValueReplacingTransformer</td></tr><tr><td>1</td><td>Microsoft.ML.Transforms.TypeConvertingTransformer</td><td>Microsoft.ML.Transforms.TypeConvertingTransformer</td></tr><tr><td>2</td><td>Microsoft.ML.Transforms.Text.TextFeaturizingEstimator+Transformer</td><td>Microsoft.ML.Transforms.Text.TextFeaturizingEstimator+Transformer</td></tr><tr><td>3</td><td>Microsoft.ML.Data.ColumnConcatenatingTransformer</td><td>Microsoft.ML.Data.ColumnConcatenatingTransformer</td></tr><tr><td>4</td><td>Microsoft.ML.Data.BinaryPredictionTransformer`1[Microsoft.ML.Calibrators.CalibratedModelParametersBase`2[Microsoft.ML.Trainers.FastTree.FastTreeBinaryModelParameters,Microsoft.ML.Calibrators.PlattCalibrator]]</td><td>Microsoft.ML.Data.BinaryPredictionTransformer`1[Microsoft.ML.Calibrators.CalibratedModelParametersBase`2[Microsoft.ML.Trainers.FastTree.FastTreeBinaryModelParameters,Microsoft.ML.Calibrators.PlattCalibrator]]</td></tr></tbody></table></td></tr></tbody></table></div></details></td></tr><tr><td>Exception</td><td><div class=\"dni-plaintext\"><pre>&lt;null&gt;</pre></div></td></tr></tbody></table></div></details></td></tr></tbody></table></td></tr><tr><td>TrainerName</td><td><div class=\"dni-plaintext\"><pre>ReplaceMissingValues=&gt;ConvertType=&gt;FeaturizeText=&gt;Concatenate=&gt;FastTreeBinary</pre></div></td></tr><tr><td>RuntimeInSeconds</td><td><div class=\"dni-plaintext\"><pre>0.619</pre></div></td></tr><tr><td>Estimator</td><td><details class=\"dni-treeview\"><summary><span class=\"dni-code-hint\"><code>Microsoft.ML.Data.EstimatorChain`1[Microsoft.ML.ITransformer]</code></span></summary><div><table><thead><tr></tr></thead><tbody><tr><td>LastEstimator</td><td><details class=\"dni-treeview\"><summary><span class=\"dni-code-hint\"><code>Microsoft.ML.Trainers.FastTree.FastTreeBinaryTrainer</code></span></summary><div><table><thead><tr></tr></thead><tbody><tr><td>Info</td><td><details class=\"dni-treeview\"><summary><span class=\"dni-code-hint\"><code>Microsoft.ML.TrainerInfo</code></span></summary><div><table><thead><tr></tr></thead><tbody><tr><td>NeedNormalization</td><td>False</td></tr><tr><td>WantCaching</td><td>False</td></tr></tbody></table></div></details></td></tr><tr><td>GroupIdColumn</td><td><details class=\"dni-treeview\"><summary><span class=\"dni-code-hint\"><code>Microsoft.ML.SchemaShape+Column</code></span></summary><div><table><thead><tr></tr></thead><tbody><tr><td>Name</td><td><div class=\"dni-plaintext\"><pre>&lt;null&gt;</pre></div></td></tr><tr><td>Kind</td><td>Scalar</td></tr><tr><td>ItemType</td><td><div class=\"dni-plaintext\"><pre>&lt;null&gt;</pre></div></td></tr><tr><td>IsKey</td><td>False</td></tr><tr><td>Annotations</td><td><div class=\"dni-plaintext\"><pre>&lt;null&gt;</pre></div></td></tr></tbody></table></div></details></td></tr><tr><td>FeatureColumn</td><td><details class=\"dni-treeview\"><summary><span class=\"dni-code-hint\"><code>Microsoft.ML.SchemaShape+Column</code></span></summary><div><table><thead><tr></tr></thead><tbody><tr><td>Name</td><td>__Features__</td></tr><tr><td>Kind</td><td>Vector</td></tr><tr><td>ItemType</td><td>Single</td></tr><tr><td>IsKey</td><td>False</td></tr><tr><td>Annotations</td><td>[  ]</td></tr></tbody></table></div></details></td></tr><tr><td>LabelColumn</td><td><details class=\"dni-treeview\"><summary><span class=\"dni-code-hint\"><code>Microsoft.ML.SchemaShape+Column</code></span></summary><div><table><thead><tr></tr></thead><tbody><tr><td>Name</td><td>Label</td></tr><tr><td>Kind</td><td>Scalar</td></tr><tr><td>ItemType</td><td>Boolean</td></tr><tr><td>IsKey</td><td>False</td></tr><tr><td>Annotations</td><td>[  ]</td></tr></tbody></table></div></details></td></tr><tr><td>WeightColumn</td><td><details class=\"dni-treeview\"><summary><span class=\"dni-code-hint\"><code>Microsoft.ML.SchemaShape+Column</code></span></summary><div><table><thead><tr></tr></thead><tbody><tr><td>Name</td><td><div class=\"dni-plaintext\"><pre>&lt;null&gt;</pre></div></td></tr><tr><td>Kind</td><td>Scalar</td></tr><tr><td>ItemType</td><td><div class=\"dni-plaintext\"><pre>&lt;null&gt;</pre></div></td></tr><tr><td>IsKey</td><td>False</td></tr><tr><td>Annotations</td><td><div class=\"dni-plaintext\"><pre>&lt;null&gt;</pre></div></td></tr></tbody></table></div></details></td></tr></tbody></table></div></details></td></tr></tbody></table></div></details></td></tr></tbody></table></div></details></td></tr><tr><td>1</td><td><details class=\"dni-treeview\"><summary><span class=\"dni-code-hint\"><code>Microsoft.ML.AutoML.CrossValidationRunDetail`1[Microsoft.ML.Data.BinaryClassificationMetrics]</code></span></summary><div><table><thead><tr></tr></thead><tbody><tr><td>Results</td><td><table><thead><tr><th><i>index</i></th><th>value</th></tr></thead><tbody><tr><td>0</td><td><details class=\"dni-treeview\"><summary><span class=\"dni-code-hint\"><code>Microsoft.ML.AutoML.TrainResult`1[Microsoft.ML.Data.BinaryClassificationMetrics]</code></span></summary><div><table><thead><tr></tr></thead><tbody><tr><td>ValidationMetrics</td><td><details class=\"dni-treeview\"><summary><span class=\"dni-code-hint\"><code>Microsoft.ML.Data.BinaryClassificationMetrics</code></span></summary><div><table><thead><tr></tr></thead><tbody><tr><td>AreaUnderRocCurve</td><td>0.8263608870967742</td></tr><tr><td>Accuracy</td><td>0.8191489361702128</td></tr><tr><td>PositivePrecision</td><td>0.9411764705882353</td></tr><tr><td>PositiveRecall</td><td>0.5</td></tr><tr><td>NegativePrecision</td><td>0.7922077922077922</td></tr><tr><td>NegativeRecall</td><td>0.9838709677419355</td></tr><tr><td>F1Score</td><td>0.6530612244897959</td></tr><tr><td>AreaUnderPrecisionRecallCurve</td><td>0.7882611389465625</td></tr><tr><td>ConfusionMatrix</td><td>Microsoft.ML.Data.ConfusionMatrix</td></tr></tbody></table></div></details></td></tr><tr><td>Model</td><td><details class=\"dni-treeview\"><summary><span class=\"dni-code-hint\"><code>[ Microsoft.ML.Transforms.MissingValueReplacingTransformer, Microsoft.ML.Transforms.TypeConvertingTransformer, Microsoft.ML.Transforms.Text.TextFeaturizingEstimator+Transformer, Microsoft.ML.Data.ColumnConcatenatingTransformer, Microsoft.ML.Data.BinaryPredictionTransformer`1[Microsoft.ML.Calibrators.CalibratedModelParametersBase`2[Microsoft.ML.Trainers.FastTree.FastTreeBinaryModelParameters,Microsoft.ML.Calibrators.PlattCalibrator]] ]</code></span></summary><div><table><thead><tr></tr></thead><tbody><tr><td>LastTransformer</td><td>Microsoft.ML.Data.BinaryPredictionTransformer`1[Microsoft.ML.Calibrators.CalibratedModelParametersBase`2[Microsoft.ML.Trainers.FastTree.FastTreeBinaryModelParameters,Microsoft.ML.Calibrators.PlattCalibrator]]</td></tr><tr><td><i>(values)</i></td><td><table><thead><tr><th><i>index</i></th><th><i>type</i></th><th>value</th></tr></thead><tbody><tr><td>0</td><td>Microsoft.ML.Transforms.MissingValueReplacingTransformer</td><td>Microsoft.ML.Transforms.MissingValueReplacingTransformer</td></tr><tr><td>1</td><td>Microsoft.ML.Transforms.TypeConvertingTransformer</td><td>Microsoft.ML.Transforms.TypeConvertingTransformer</td></tr><tr><td>2</td><td>Microsoft.ML.Transforms.Text.TextFeaturizingEstimator+Transformer</td><td>Microsoft.ML.Transforms.Text.TextFeaturizingEstimator+Transformer</td></tr><tr><td>3</td><td>Microsoft.ML.Data.ColumnConcatenatingTransformer</td><td>Microsoft.ML.Data.ColumnConcatenatingTransformer</td></tr><tr><td>4</td><td>Microsoft.ML.Data.BinaryPredictionTransformer`1[Microsoft.ML.Calibrators.CalibratedModelParametersBase`2[Microsoft.ML.Trainers.FastTree.FastTreeBinaryModelParameters,Microsoft.ML.Calibrators.PlattCalibrator]]</td><td>Microsoft.ML.Data.BinaryPredictionTransformer`1[Microsoft.ML.Calibrators.CalibratedModelParametersBase`2[Microsoft.ML.Trainers.FastTree.FastTreeBinaryModelParameters,Microsoft.ML.Calibrators.PlattCalibrator]]</td></tr></tbody></table></td></tr></tbody></table></div></details></td></tr><tr><td>Exception</td><td><div class=\"dni-plaintext\"><pre>&lt;null&gt;</pre></div></td></tr></tbody></table></div></details></td></tr><tr><td>1</td><td><details class=\"dni-treeview\"><summary><span class=\"dni-code-hint\"><code>Microsoft.ML.AutoML.TrainResult`1[Microsoft.ML.Data.BinaryClassificationMetrics]</code></span></summary><div><table><thead><tr></tr></thead><tbody><tr><td>ValidationMetrics</td><td><details class=\"dni-treeview\"><summary><span class=\"dni-code-hint\"><code>Microsoft.ML.Data.BinaryClassificationMetrics</code></span></summary><div><table><thead><tr></tr></thead><tbody><tr><td>AreaUnderRocCurve</td><td>0.7541091387245233</td></tr><tr><td>Accuracy</td><td>0.7863247863247863</td></tr><tr><td>PositivePrecision</td><td>1</td></tr><tr><td>PositiveRecall</td><td>0.358974358974359</td></tr><tr><td>NegativePrecision</td><td>0.7572815533980582</td></tr><tr><td>NegativeRecall</td><td>1</td></tr><tr><td>F1Score</td><td>0.5283018867924528</td></tr><tr><td>AreaUnderPrecisionRecallCurve</td><td>0.713643814842695</td></tr><tr><td>ConfusionMatrix</td><td>Microsoft.ML.Data.ConfusionMatrix</td></tr></tbody></table></div></details></td></tr><tr><td>Model</td><td><details class=\"dni-treeview\"><summary><span class=\"dni-code-hint\"><code>[ Microsoft.ML.Transforms.MissingValueReplacingTransformer, Microsoft.ML.Transforms.TypeConvertingTransformer, Microsoft.ML.Transforms.Text.TextFeaturizingEstimator+Transformer, Microsoft.ML.Data.ColumnConcatenatingTransformer, Microsoft.ML.Data.BinaryPredictionTransformer`1[Microsoft.ML.Calibrators.CalibratedModelParametersBase`2[Microsoft.ML.Trainers.FastTree.FastTreeBinaryModelParameters,Microsoft.ML.Calibrators.PlattCalibrator]] ]</code></span></summary><div><table><thead><tr></tr></thead><tbody><tr><td>LastTransformer</td><td>Microsoft.ML.Data.BinaryPredictionTransformer`1[Microsoft.ML.Calibrators.CalibratedModelParametersBase`2[Microsoft.ML.Trainers.FastTree.FastTreeBinaryModelParameters,Microsoft.ML.Calibrators.PlattCalibrator]]</td></tr><tr><td><i>(values)</i></td><td><table><thead><tr><th><i>index</i></th><th><i>type</i></th><th>value</th></tr></thead><tbody><tr><td>0</td><td>Microsoft.ML.Transforms.MissingValueReplacingTransformer</td><td>Microsoft.ML.Transforms.MissingValueReplacingTransformer</td></tr><tr><td>1</td><td>Microsoft.ML.Transforms.TypeConvertingTransformer</td><td>Microsoft.ML.Transforms.TypeConvertingTransformer</td></tr><tr><td>2</td><td>Microsoft.ML.Transforms.Text.TextFeaturizingEstimator+Transformer</td><td>Microsoft.ML.Transforms.Text.TextFeaturizingEstimator+Transformer</td></tr><tr><td>3</td><td>Microsoft.ML.Data.ColumnConcatenatingTransformer</td><td>Microsoft.ML.Data.ColumnConcatenatingTransformer</td></tr><tr><td>4</td><td>Microsoft.ML.Data.BinaryPredictionTransformer`1[Microsoft.ML.Calibrators.CalibratedModelParametersBase`2[Microsoft.ML.Trainers.FastTree.FastTreeBinaryModelParameters,Microsoft.ML.Calibrators.PlattCalibrator]]</td><td>Microsoft.ML.Data.BinaryPredictionTransformer`1[Microsoft.ML.Calibrators.CalibratedModelParametersBase`2[Microsoft.ML.Trainers.FastTree.FastTreeBinaryModelParameters,Microsoft.ML.Calibrators.PlattCalibrator]]</td></tr></tbody></table></td></tr></tbody></table></div></details></td></tr><tr><td>Exception</td><td><div class=\"dni-plaintext\"><pre>&lt;null&gt;</pre></div></td></tr></tbody></table></div></details></td></tr><tr><td>2</td><td><details class=\"dni-treeview\"><summary><span class=\"dni-code-hint\"><code>Microsoft.ML.AutoML.TrainResult`1[Microsoft.ML.Data.BinaryClassificationMetrics]</code></span></summary><div><table><thead><tr></tr></thead><tbody><tr><td>ValidationMetrics</td><td><details class=\"dni-treeview\"><summary><span class=\"dni-code-hint\"><code>Microsoft.ML.Data.BinaryClassificationMetrics</code></span></summary><div><table><thead><tr></tr></thead><tbody><tr><td>AreaUnderRocCurve</td><td>0.7736842105263158</td></tr><tr><td>Accuracy</td><td>0.8645833333333334</td></tr><tr><td>PositivePrecision</td><td>0.8888888888888888</td></tr><tr><td>PositiveRecall</td><td>0.4</td></tr><tr><td>NegativePrecision</td><td>0.8620689655172413</td></tr><tr><td>NegativeRecall</td><td>0.9868421052631579</td></tr><tr><td>F1Score</td><td>0.5517241379310346</td></tr><tr><td>AreaUnderPrecisionRecallCurve</td><td>0.5166923631217757</td></tr><tr><td>ConfusionMatrix</td><td>Microsoft.ML.Data.ConfusionMatrix</td></tr></tbody></table></div></details></td></tr><tr><td>Model</td><td><details class=\"dni-treeview\"><summary><span class=\"dni-code-hint\"><code>[ Microsoft.ML.Transforms.MissingValueReplacingTransformer, Microsoft.ML.Transforms.TypeConvertingTransformer, Microsoft.ML.Transforms.Text.TextFeaturizingEstimator+Transformer, Microsoft.ML.Data.ColumnConcatenatingTransformer, Microsoft.ML.Data.BinaryPredictionTransformer`1[Microsoft.ML.Calibrators.CalibratedModelParametersBase`2[Microsoft.ML.Trainers.FastTree.FastTreeBinaryModelParameters,Microsoft.ML.Calibrators.PlattCalibrator]] ]</code></span></summary><div><table><thead><tr></tr></thead><tbody><tr><td>LastTransformer</td><td>Microsoft.ML.Data.BinaryPredictionTransformer`1[Microsoft.ML.Calibrators.CalibratedModelParametersBase`2[Microsoft.ML.Trainers.FastTree.FastTreeBinaryModelParameters,Microsoft.ML.Calibrators.PlattCalibrator]]</td></tr><tr><td><i>(values)</i></td><td><table><thead><tr><th><i>index</i></th><th><i>type</i></th><th>value</th></tr></thead><tbody><tr><td>0</td><td>Microsoft.ML.Transforms.MissingValueReplacingTransformer</td><td>Microsoft.ML.Transforms.MissingValueReplacingTransformer</td></tr><tr><td>1</td><td>Microsoft.ML.Transforms.TypeConvertingTransformer</td><td>Microsoft.ML.Transforms.TypeConvertingTransformer</td></tr><tr><td>2</td><td>Microsoft.ML.Transforms.Text.TextFeaturizingEstimator+Transformer</td><td>Microsoft.ML.Transforms.Text.TextFeaturizingEstimator+Transformer</td></tr><tr><td>3</td><td>Microsoft.ML.Data.ColumnConcatenatingTransformer</td><td>Microsoft.ML.Data.ColumnConcatenatingTransformer</td></tr><tr><td>4</td><td>Microsoft.ML.Data.BinaryPredictionTransformer`1[Microsoft.ML.Calibrators.CalibratedModelParametersBase`2[Microsoft.ML.Trainers.FastTree.FastTreeBinaryModelParameters,Microsoft.ML.Calibrators.PlattCalibrator]]</td><td>Microsoft.ML.Data.BinaryPredictionTransformer`1[Microsoft.ML.Calibrators.CalibratedModelParametersBase`2[Microsoft.ML.Trainers.FastTree.FastTreeBinaryModelParameters,Microsoft.ML.Calibrators.PlattCalibrator]]</td></tr></tbody></table></td></tr></tbody></table></div></details></td></tr><tr><td>Exception</td><td><div class=\"dni-plaintext\"><pre>&lt;null&gt;</pre></div></td></tr></tbody></table></div></details></td></tr><tr><td>3</td><td><details class=\"dni-treeview\"><summary><span class=\"dni-code-hint\"><code>Microsoft.ML.AutoML.TrainResult`1[Microsoft.ML.Data.BinaryClassificationMetrics]</code></span></summary><div><table><thead><tr></tr></thead><tbody><tr><td>ValidationMetrics</td><td><details class=\"dni-treeview\"><summary><span class=\"dni-code-hint\"><code>Microsoft.ML.Data.BinaryClassificationMetrics</code></span></summary><div><table><thead><tr></tr></thead><tbody><tr><td>AreaUnderRocCurve</td><td>0.8396923076923077</td></tr><tr><td>Accuracy</td><td>0.8666666666666667</td></tr><tr><td>PositivePrecision</td><td>0.9333333333333333</td></tr><tr><td>PositiveRecall</td><td>0.56</td></tr><tr><td>NegativePrecision</td><td>0.8533333333333334</td></tr><tr><td>NegativeRecall</td><td>0.9846153846153847</td></tr><tr><td>F1Score</td><td>0.7000000000000001</td></tr><tr><td>AreaUnderPrecisionRecallCurve</td><td>0.7868568296661741</td></tr><tr><td>ConfusionMatrix</td><td>Microsoft.ML.Data.ConfusionMatrix</td></tr></tbody></table></div></details></td></tr><tr><td>Model</td><td><details class=\"dni-treeview\"><summary><span class=\"dni-code-hint\"><code>[ Microsoft.ML.Transforms.MissingValueReplacingTransformer, Microsoft.ML.Transforms.TypeConvertingTransformer, Microsoft.ML.Transforms.Text.TextFeaturizingEstimator+Transformer, Microsoft.ML.Data.ColumnConcatenatingTransformer, Microsoft.ML.Data.BinaryPredictionTransformer`1[Microsoft.ML.Calibrators.CalibratedModelParametersBase`2[Microsoft.ML.Trainers.FastTree.FastTreeBinaryModelParameters,Microsoft.ML.Calibrators.PlattCalibrator]] ]</code></span></summary><div><table><thead><tr></tr></thead><tbody><tr><td>LastTransformer</td><td>Microsoft.ML.Data.BinaryPredictionTransformer`1[Microsoft.ML.Calibrators.CalibratedModelParametersBase`2[Microsoft.ML.Trainers.FastTree.FastTreeBinaryModelParameters,Microsoft.ML.Calibrators.PlattCalibrator]]</td></tr><tr><td><i>(values)</i></td><td><table><thead><tr><th><i>index</i></th><th><i>type</i></th><th>value</th></tr></thead><tbody><tr><td>0</td><td>Microsoft.ML.Transforms.MissingValueReplacingTransformer</td><td>Microsoft.ML.Transforms.MissingValueReplacingTransformer</td></tr><tr><td>1</td><td>Microsoft.ML.Transforms.TypeConvertingTransformer</td><td>Microsoft.ML.Transforms.TypeConvertingTransformer</td></tr><tr><td>2</td><td>Microsoft.ML.Transforms.Text.TextFeaturizingEstimator+Transformer</td><td>Microsoft.ML.Transforms.Text.TextFeaturizingEstimator+Transformer</td></tr><tr><td>3</td><td>Microsoft.ML.Data.ColumnConcatenatingTransformer</td><td>Microsoft.ML.Data.ColumnConcatenatingTransformer</td></tr><tr><td>4</td><td>Microsoft.ML.Data.BinaryPredictionTransformer`1[Microsoft.ML.Calibrators.CalibratedModelParametersBase`2[Microsoft.ML.Trainers.FastTree.FastTreeBinaryModelParameters,Microsoft.ML.Calibrators.PlattCalibrator]]</td><td>Microsoft.ML.Data.BinaryPredictionTransformer`1[Microsoft.ML.Calibrators.CalibratedModelParametersBase`2[Microsoft.ML.Trainers.FastTree.FastTreeBinaryModelParameters,Microsoft.ML.Calibrators.PlattCalibrator]]</td></tr></tbody></table></td></tr></tbody></table></div></details></td></tr><tr><td>Exception</td><td><div class=\"dni-plaintext\"><pre>&lt;null&gt;</pre></div></td></tr></tbody></table></div></details></td></tr><tr><td>4</td><td><details class=\"dni-treeview\"><summary><span class=\"dni-code-hint\"><code>Microsoft.ML.AutoML.TrainResult`1[Microsoft.ML.Data.BinaryClassificationMetrics]</code></span></summary><div><table><thead><tr></tr></thead><tbody><tr><td>ValidationMetrics</td><td><details class=\"dni-treeview\"><summary><span class=\"dni-code-hint\"><code>Microsoft.ML.Data.BinaryClassificationMetrics</code></span></summary><div><table><thead><tr></tr></thead><tbody><tr><td>AreaUnderRocCurve</td><td>0.7442135096835144</td></tr><tr><td>Accuracy</td><td>0.8235294117647058</td></tr><tr><td>PositivePrecision</td><td>0.8235294117647058</td></tr><tr><td>PositiveRecall</td><td>0.4827586206896552</td></tr><tr><td>NegativePrecision</td><td>0.8235294117647058</td></tr><tr><td>NegativeRecall</td><td>0.958904109589041</td></tr><tr><td>F1Score</td><td>0.608695652173913</td></tr><tr><td>AreaUnderPrecisionRecallCurve</td><td>0.6965261532964875</td></tr><tr><td>ConfusionMatrix</td><td>Microsoft.ML.Data.ConfusionMatrix</td></tr></tbody></table></div></details></td></tr><tr><td>Model</td><td><details class=\"dni-treeview\"><summary><span class=\"dni-code-hint\"><code>[ Microsoft.ML.Transforms.MissingValueReplacingTransformer, Microsoft.ML.Transforms.TypeConvertingTransformer, Microsoft.ML.Transforms.Text.TextFeaturizingEstimator+Transformer, Microsoft.ML.Data.ColumnConcatenatingTransformer, Microsoft.ML.Data.BinaryPredictionTransformer`1[Microsoft.ML.Calibrators.CalibratedModelParametersBase`2[Microsoft.ML.Trainers.FastTree.FastTreeBinaryModelParameters,Microsoft.ML.Calibrators.PlattCalibrator]] ]</code></span></summary><div><table><thead><tr></tr></thead><tbody><tr><td>LastTransformer</td><td>Microsoft.ML.Data.BinaryPredictionTransformer`1[Microsoft.ML.Calibrators.CalibratedModelParametersBase`2[Microsoft.ML.Trainers.FastTree.FastTreeBinaryModelParameters,Microsoft.ML.Calibrators.PlattCalibrator]]</td></tr><tr><td><i>(values)</i></td><td><table><thead><tr><th><i>index</i></th><th><i>type</i></th><th>value</th></tr></thead><tbody><tr><td>0</td><td>Microsoft.ML.Transforms.MissingValueReplacingTransformer</td><td>Microsoft.ML.Transforms.MissingValueReplacingTransformer</td></tr><tr><td>1</td><td>Microsoft.ML.Transforms.TypeConvertingTransformer</td><td>Microsoft.ML.Transforms.TypeConvertingTransformer</td></tr><tr><td>2</td><td>Microsoft.ML.Transforms.Text.TextFeaturizingEstimator+Transformer</td><td>Microsoft.ML.Transforms.Text.TextFeaturizingEstimator+Transformer</td></tr><tr><td>3</td><td>Microsoft.ML.Data.ColumnConcatenatingTransformer</td><td>Microsoft.ML.Data.ColumnConcatenatingTransformer</td></tr><tr><td>4</td><td>Microsoft.ML.Data.BinaryPredictionTransformer`1[Microsoft.ML.Calibrators.CalibratedModelParametersBase`2[Microsoft.ML.Trainers.FastTree.FastTreeBinaryModelParameters,Microsoft.ML.Calibrators.PlattCalibrator]]</td><td>Microsoft.ML.Data.BinaryPredictionTransformer`1[Microsoft.ML.Calibrators.CalibratedModelParametersBase`2[Microsoft.ML.Trainers.FastTree.FastTreeBinaryModelParameters,Microsoft.ML.Calibrators.PlattCalibrator]]</td></tr></tbody></table></td></tr></tbody></table></div></details></td></tr><tr><td>Exception</td><td><div class=\"dni-plaintext\"><pre>&lt;null&gt;</pre></div></td></tr></tbody></table></div></details></td></tr></tbody></table></td></tr><tr><td>TrainerName</td><td><div class=\"dni-plaintext\"><pre>ReplaceMissingValues=&gt;ConvertType=&gt;FeaturizeText=&gt;Concatenate=&gt;FastTreeBinary</pre></div></td></tr><tr><td>RuntimeInSeconds</td><td><div class=\"dni-plaintext\"><pre>0.642</pre></div></td></tr><tr><td>Estimator</td><td><details class=\"dni-treeview\"><summary><span class=\"dni-code-hint\"><code>Microsoft.ML.Data.EstimatorChain`1[Microsoft.ML.ITransformer]</code></span></summary><div><table><thead><tr></tr></thead><tbody><tr><td>LastEstimator</td><td><details class=\"dni-treeview\"><summary><span class=\"dni-code-hint\"><code>Microsoft.ML.Trainers.FastTree.FastTreeBinaryTrainer</code></span></summary><div><table><thead><tr></tr></thead><tbody><tr><td>Info</td><td><details class=\"dni-treeview\"><summary><span class=\"dni-code-hint\"><code>Microsoft.ML.TrainerInfo</code></span></summary><div><table><thead><tr></tr></thead><tbody><tr><td>NeedNormalization</td><td>False</td></tr><tr><td>WantCaching</td><td>False</td></tr></tbody></table></div></details></td></tr><tr><td>GroupIdColumn</td><td><details class=\"dni-treeview\"><summary><span class=\"dni-code-hint\"><code>Microsoft.ML.SchemaShape+Column</code></span></summary><div><table><thead><tr></tr></thead><tbody><tr><td>Name</td><td><div class=\"dni-plaintext\"><pre>&lt;null&gt;</pre></div></td></tr><tr><td>Kind</td><td>Scalar</td></tr><tr><td>ItemType</td><td><div class=\"dni-plaintext\"><pre>&lt;null&gt;</pre></div></td></tr><tr><td>IsKey</td><td>False</td></tr><tr><td>Annotations</td><td><div class=\"dni-plaintext\"><pre>&lt;null&gt;</pre></div></td></tr></tbody></table></div></details></td></tr><tr><td>FeatureColumn</td><td><details class=\"dni-treeview\"><summary><span class=\"dni-code-hint\"><code>Microsoft.ML.SchemaShape+Column</code></span></summary><div><table><thead><tr></tr></thead><tbody><tr><td>Name</td><td>__Features__</td></tr><tr><td>Kind</td><td>Vector</td></tr><tr><td>ItemType</td><td>Single</td></tr><tr><td>IsKey</td><td>False</td></tr><tr><td>Annotations</td><td>[  ]</td></tr></tbody></table></div></details></td></tr><tr><td>LabelColumn</td><td><details class=\"dni-treeview\"><summary><span class=\"dni-code-hint\"><code>Microsoft.ML.SchemaShape+Column</code></span></summary><div><table><thead><tr></tr></thead><tbody><tr><td>Name</td><td>Label</td></tr><tr><td>Kind</td><td>Scalar</td></tr><tr><td>ItemType</td><td>Boolean</td></tr><tr><td>IsKey</td><td>False</td></tr><tr><td>Annotations</td><td>[  ]</td></tr></tbody></table></div></details></td></tr><tr><td>WeightColumn</td><td><details class=\"dni-treeview\"><summary><span class=\"dni-code-hint\"><code>Microsoft.ML.SchemaShape+Column</code></span></summary><div><table><thead><tr></tr></thead><tbody><tr><td>Name</td><td><div class=\"dni-plaintext\"><pre>&lt;null&gt;</pre></div></td></tr><tr><td>Kind</td><td>Scalar</td></tr><tr><td>ItemType</td><td><div class=\"dni-plaintext\"><pre>&lt;null&gt;</pre></div></td></tr><tr><td>IsKey</td><td>False</td></tr><tr><td>Annotations</td><td><div class=\"dni-plaintext\"><pre>&lt;null&gt;</pre></div></td></tr></tbody></table></div></details></td></tr></tbody></table></div></details></td></tr></tbody></table></div></details></td></tr></tbody></table></div></details></td></tr><tr><td>2</td><td><details class=\"dni-treeview\"><summary><span class=\"dni-code-hint\"><code>Microsoft.ML.AutoML.CrossValidationRunDetail`1[Microsoft.ML.Data.BinaryClassificationMetrics]</code></span></summary><div><table><thead><tr></tr></thead><tbody><tr><td>Results</td><td><table><thead><tr><th><i>index</i></th><th>value</th></tr></thead><tbody><tr><td>0</td><td><details class=\"dni-treeview\"><summary><span class=\"dni-code-hint\"><code>Microsoft.ML.AutoML.TrainResult`1[Microsoft.ML.Data.BinaryClassificationMetrics]</code></span></summary><div><table><thead><tr></tr></thead><tbody><tr><td>ValidationMetrics</td><td><details class=\"dni-treeview\"><summary><span class=\"dni-code-hint\"><code>Microsoft.ML.Data.BinaryClassificationMetrics</code></span></summary><div><table><thead><tr></tr></thead><tbody><tr><td>AreaUnderRocCurve</td><td>0.7941028225806451</td></tr><tr><td>Accuracy</td><td>0.7978723404255319</td></tr><tr><td>PositivePrecision</td><td>0.8095238095238095</td></tr><tr><td>PositiveRecall</td><td>0.53125</td></tr><tr><td>NegativePrecision</td><td>0.7945205479452054</td></tr><tr><td>NegativeRecall</td><td>0.9354838709677419</td></tr><tr><td>F1Score</td><td>0.6415094339622642</td></tr><tr><td>AreaUnderPrecisionRecallCurve</td><td>0.7589403847016604</td></tr><tr><td>ConfusionMatrix</td><td>Microsoft.ML.Data.ConfusionMatrix</td></tr></tbody></table></div></details></td></tr><tr><td>Model</td><td><details class=\"dni-treeview\"><summary><span class=\"dni-code-hint\"><code>[ Microsoft.ML.Transforms.MissingValueReplacingTransformer, Microsoft.ML.Transforms.TypeConvertingTransformer, Microsoft.ML.Transforms.Text.TextFeaturizingEstimator+Transformer, Microsoft.ML.Data.ColumnConcatenatingTransformer, Microsoft.ML.Data.BinaryPredictionTransformer`1[Microsoft.ML.Calibrators.CalibratedModelParametersBase`2[Microsoft.ML.Trainers.FastTree.FastTreeBinaryModelParameters,Microsoft.ML.Calibrators.PlattCalibrator]] ]</code></span></summary><div><table><thead><tr></tr></thead><tbody><tr><td>LastTransformer</td><td>Microsoft.ML.Data.BinaryPredictionTransformer`1[Microsoft.ML.Calibrators.CalibratedModelParametersBase`2[Microsoft.ML.Trainers.FastTree.FastTreeBinaryModelParameters,Microsoft.ML.Calibrators.PlattCalibrator]]</td></tr><tr><td><i>(values)</i></td><td><table><thead><tr><th><i>index</i></th><th><i>type</i></th><th>value</th></tr></thead><tbody><tr><td>0</td><td>Microsoft.ML.Transforms.MissingValueReplacingTransformer</td><td>Microsoft.ML.Transforms.MissingValueReplacingTransformer</td></tr><tr><td>1</td><td>Microsoft.ML.Transforms.TypeConvertingTransformer</td><td>Microsoft.ML.Transforms.TypeConvertingTransformer</td></tr><tr><td>2</td><td>Microsoft.ML.Transforms.Text.TextFeaturizingEstimator+Transformer</td><td>Microsoft.ML.Transforms.Text.TextFeaturizingEstimator+Transformer</td></tr><tr><td>3</td><td>Microsoft.ML.Data.ColumnConcatenatingTransformer</td><td>Microsoft.ML.Data.ColumnConcatenatingTransformer</td></tr><tr><td>4</td><td>Microsoft.ML.Data.BinaryPredictionTransformer`1[Microsoft.ML.Calibrators.CalibratedModelParametersBase`2[Microsoft.ML.Trainers.FastTree.FastTreeBinaryModelParameters,Microsoft.ML.Calibrators.PlattCalibrator]]</td><td>Microsoft.ML.Data.BinaryPredictionTransformer`1[Microsoft.ML.Calibrators.CalibratedModelParametersBase`2[Microsoft.ML.Trainers.FastTree.FastTreeBinaryModelParameters,Microsoft.ML.Calibrators.PlattCalibrator]]</td></tr></tbody></table></td></tr></tbody></table></div></details></td></tr><tr><td>Exception</td><td><div class=\"dni-plaintext\"><pre>&lt;null&gt;</pre></div></td></tr></tbody></table></div></details></td></tr><tr><td>1</td><td><details class=\"dni-treeview\"><summary><span class=\"dni-code-hint\"><code>Microsoft.ML.AutoML.TrainResult`1[Microsoft.ML.Data.BinaryClassificationMetrics]</code></span></summary><div><table><thead><tr></tr></thead><tbody><tr><td>ValidationMetrics</td><td><details class=\"dni-treeview\"><summary><span class=\"dni-code-hint\"><code>Microsoft.ML.Data.BinaryClassificationMetrics</code></span></summary><div><table><thead><tr></tr></thead><tbody><tr><td>AreaUnderRocCurve</td><td>0.7565746219592373</td></tr><tr><td>Accuracy</td><td>0.7863247863247863</td></tr><tr><td>PositivePrecision</td><td>1</td></tr><tr><td>PositiveRecall</td><td>0.358974358974359</td></tr><tr><td>NegativePrecision</td><td>0.7572815533980582</td></tr><tr><td>NegativeRecall</td><td>1</td></tr><tr><td>F1Score</td><td>0.5283018867924528</td></tr><tr><td>AreaUnderPrecisionRecallCurve</td><td>0.6886119887789308</td></tr><tr><td>ConfusionMatrix</td><td>Microsoft.ML.Data.ConfusionMatrix</td></tr></tbody></table></div></details></td></tr><tr><td>Model</td><td><details class=\"dni-treeview\"><summary><span class=\"dni-code-hint\"><code>[ Microsoft.ML.Transforms.MissingValueReplacingTransformer, Microsoft.ML.Transforms.TypeConvertingTransformer, Microsoft.ML.Transforms.Text.TextFeaturizingEstimator+Transformer, Microsoft.ML.Data.ColumnConcatenatingTransformer, Microsoft.ML.Data.BinaryPredictionTransformer`1[Microsoft.ML.Calibrators.CalibratedModelParametersBase`2[Microsoft.ML.Trainers.FastTree.FastTreeBinaryModelParameters,Microsoft.ML.Calibrators.PlattCalibrator]] ]</code></span></summary><div><table><thead><tr></tr></thead><tbody><tr><td>LastTransformer</td><td>Microsoft.ML.Data.BinaryPredictionTransformer`1[Microsoft.ML.Calibrators.CalibratedModelParametersBase`2[Microsoft.ML.Trainers.FastTree.FastTreeBinaryModelParameters,Microsoft.ML.Calibrators.PlattCalibrator]]</td></tr><tr><td><i>(values)</i></td><td><table><thead><tr><th><i>index</i></th><th><i>type</i></th><th>value</th></tr></thead><tbody><tr><td>0</td><td>Microsoft.ML.Transforms.MissingValueReplacingTransformer</td><td>Microsoft.ML.Transforms.MissingValueReplacingTransformer</td></tr><tr><td>1</td><td>Microsoft.ML.Transforms.TypeConvertingTransformer</td><td>Microsoft.ML.Transforms.TypeConvertingTransformer</td></tr><tr><td>2</td><td>Microsoft.ML.Transforms.Text.TextFeaturizingEstimator+Transformer</td><td>Microsoft.ML.Transforms.Text.TextFeaturizingEstimator+Transformer</td></tr><tr><td>3</td><td>Microsoft.ML.Data.ColumnConcatenatingTransformer</td><td>Microsoft.ML.Data.ColumnConcatenatingTransformer</td></tr><tr><td>4</td><td>Microsoft.ML.Data.BinaryPredictionTransformer`1[Microsoft.ML.Calibrators.CalibratedModelParametersBase`2[Microsoft.ML.Trainers.FastTree.FastTreeBinaryModelParameters,Microsoft.ML.Calibrators.PlattCalibrator]]</td><td>Microsoft.ML.Data.BinaryPredictionTransformer`1[Microsoft.ML.Calibrators.CalibratedModelParametersBase`2[Microsoft.ML.Trainers.FastTree.FastTreeBinaryModelParameters,Microsoft.ML.Calibrators.PlattCalibrator]]</td></tr></tbody></table></td></tr></tbody></table></div></details></td></tr><tr><td>Exception</td><td><div class=\"dni-plaintext\"><pre>&lt;null&gt;</pre></div></td></tr></tbody></table></div></details></td></tr><tr><td>2</td><td><details class=\"dni-treeview\"><summary><span class=\"dni-code-hint\"><code>Microsoft.ML.AutoML.TrainResult`1[Microsoft.ML.Data.BinaryClassificationMetrics]</code></span></summary><div><table><thead><tr></tr></thead><tbody><tr><td>ValidationMetrics</td><td><details class=\"dni-treeview\"><summary><span class=\"dni-code-hint\"><code>Microsoft.ML.Data.BinaryClassificationMetrics</code></span></summary><div><table><thead><tr></tr></thead><tbody><tr><td>AreaUnderRocCurve</td><td>0.75625</td></tr><tr><td>Accuracy</td><td>0.8541666666666666</td></tr><tr><td>PositivePrecision</td><td>0.8</td></tr><tr><td>PositiveRecall</td><td>0.4</td></tr><tr><td>NegativePrecision</td><td>0.8604651162790697</td></tr><tr><td>NegativeRecall</td><td>0.9736842105263158</td></tr><tr><td>F1Score</td><td>0.5333333333333333</td></tr><tr><td>AreaUnderPrecisionRecallCurve</td><td>0.5162459107886567</td></tr><tr><td>ConfusionMatrix</td><td>Microsoft.ML.Data.ConfusionMatrix</td></tr></tbody></table></div></details></td></tr><tr><td>Model</td><td><details class=\"dni-treeview\"><summary><span class=\"dni-code-hint\"><code>[ Microsoft.ML.Transforms.MissingValueReplacingTransformer, Microsoft.ML.Transforms.TypeConvertingTransformer, Microsoft.ML.Transforms.Text.TextFeaturizingEstimator+Transformer, Microsoft.ML.Data.ColumnConcatenatingTransformer, Microsoft.ML.Data.BinaryPredictionTransformer`1[Microsoft.ML.Calibrators.CalibratedModelParametersBase`2[Microsoft.ML.Trainers.FastTree.FastTreeBinaryModelParameters,Microsoft.ML.Calibrators.PlattCalibrator]] ]</code></span></summary><div><table><thead><tr></tr></thead><tbody><tr><td>LastTransformer</td><td>Microsoft.ML.Data.BinaryPredictionTransformer`1[Microsoft.ML.Calibrators.CalibratedModelParametersBase`2[Microsoft.ML.Trainers.FastTree.FastTreeBinaryModelParameters,Microsoft.ML.Calibrators.PlattCalibrator]]</td></tr><tr><td><i>(values)</i></td><td><table><thead><tr><th><i>index</i></th><th><i>type</i></th><th>value</th></tr></thead><tbody><tr><td>0</td><td>Microsoft.ML.Transforms.MissingValueReplacingTransformer</td><td>Microsoft.ML.Transforms.MissingValueReplacingTransformer</td></tr><tr><td>1</td><td>Microsoft.ML.Transforms.TypeConvertingTransformer</td><td>Microsoft.ML.Transforms.TypeConvertingTransformer</td></tr><tr><td>2</td><td>Microsoft.ML.Transforms.Text.TextFeaturizingEstimator+Transformer</td><td>Microsoft.ML.Transforms.Text.TextFeaturizingEstimator+Transformer</td></tr><tr><td>3</td><td>Microsoft.ML.Data.ColumnConcatenatingTransformer</td><td>Microsoft.ML.Data.ColumnConcatenatingTransformer</td></tr><tr><td>4</td><td>Microsoft.ML.Data.BinaryPredictionTransformer`1[Microsoft.ML.Calibrators.CalibratedModelParametersBase`2[Microsoft.ML.Trainers.FastTree.FastTreeBinaryModelParameters,Microsoft.ML.Calibrators.PlattCalibrator]]</td><td>Microsoft.ML.Data.BinaryPredictionTransformer`1[Microsoft.ML.Calibrators.CalibratedModelParametersBase`2[Microsoft.ML.Trainers.FastTree.FastTreeBinaryModelParameters,Microsoft.ML.Calibrators.PlattCalibrator]]</td></tr></tbody></table></td></tr></tbody></table></div></details></td></tr><tr><td>Exception</td><td><div class=\"dni-plaintext\"><pre>&lt;null&gt;</pre></div></td></tr></tbody></table></div></details></td></tr><tr><td>3</td><td><details class=\"dni-treeview\"><summary><span class=\"dni-code-hint\"><code>Microsoft.ML.AutoML.TrainResult`1[Microsoft.ML.Data.BinaryClassificationMetrics]</code></span></summary><div><table><thead><tr></tr></thead><tbody><tr><td>ValidationMetrics</td><td><details class=\"dni-treeview\"><summary><span class=\"dni-code-hint\"><code>Microsoft.ML.Data.BinaryClassificationMetrics</code></span></summary><div><table><thead><tr></tr></thead><tbody><tr><td>AreaUnderRocCurve</td><td>0.8449230769230769</td></tr><tr><td>Accuracy</td><td>0.8555555555555555</td></tr><tr><td>PositivePrecision</td><td>0.9285714285714286</td></tr><tr><td>PositiveRecall</td><td>0.52</td></tr><tr><td>NegativePrecision</td><td>0.8421052631578947</td></tr><tr><td>NegativeRecall</td><td>0.9846153846153847</td></tr><tr><td>F1Score</td><td>0.6666666666666666</td></tr><tr><td>AreaUnderPrecisionRecallCurve</td><td>0.790743712269166</td></tr><tr><td>ConfusionMatrix</td><td>Microsoft.ML.Data.ConfusionMatrix</td></tr></tbody></table></div></details></td></tr><tr><td>Model</td><td><details class=\"dni-treeview\"><summary><span class=\"dni-code-hint\"><code>[ Microsoft.ML.Transforms.MissingValueReplacingTransformer, Microsoft.ML.Transforms.TypeConvertingTransformer, Microsoft.ML.Transforms.Text.TextFeaturizingEstimator+Transformer, Microsoft.ML.Data.ColumnConcatenatingTransformer, Microsoft.ML.Data.BinaryPredictionTransformer`1[Microsoft.ML.Calibrators.CalibratedModelParametersBase`2[Microsoft.ML.Trainers.FastTree.FastTreeBinaryModelParameters,Microsoft.ML.Calibrators.PlattCalibrator]] ]</code></span></summary><div><table><thead><tr></tr></thead><tbody><tr><td>LastTransformer</td><td>Microsoft.ML.Data.BinaryPredictionTransformer`1[Microsoft.ML.Calibrators.CalibratedModelParametersBase`2[Microsoft.ML.Trainers.FastTree.FastTreeBinaryModelParameters,Microsoft.ML.Calibrators.PlattCalibrator]]</td></tr><tr><td><i>(values)</i></td><td><table><thead><tr><th><i>index</i></th><th><i>type</i></th><th>value</th></tr></thead><tbody><tr><td>0</td><td>Microsoft.ML.Transforms.MissingValueReplacingTransformer</td><td>Microsoft.ML.Transforms.MissingValueReplacingTransformer</td></tr><tr><td>1</td><td>Microsoft.ML.Transforms.TypeConvertingTransformer</td><td>Microsoft.ML.Transforms.TypeConvertingTransformer</td></tr><tr><td>2</td><td>Microsoft.ML.Transforms.Text.TextFeaturizingEstimator+Transformer</td><td>Microsoft.ML.Transforms.Text.TextFeaturizingEstimator+Transformer</td></tr><tr><td>3</td><td>Microsoft.ML.Data.ColumnConcatenatingTransformer</td><td>Microsoft.ML.Data.ColumnConcatenatingTransformer</td></tr><tr><td>4</td><td>Microsoft.ML.Data.BinaryPredictionTransformer`1[Microsoft.ML.Calibrators.CalibratedModelParametersBase`2[Microsoft.ML.Trainers.FastTree.FastTreeBinaryModelParameters,Microsoft.ML.Calibrators.PlattCalibrator]]</td><td>Microsoft.ML.Data.BinaryPredictionTransformer`1[Microsoft.ML.Calibrators.CalibratedModelParametersBase`2[Microsoft.ML.Trainers.FastTree.FastTreeBinaryModelParameters,Microsoft.ML.Calibrators.PlattCalibrator]]</td></tr></tbody></table></td></tr></tbody></table></div></details></td></tr><tr><td>Exception</td><td><div class=\"dni-plaintext\"><pre>&lt;null&gt;</pre></div></td></tr></tbody></table></div></details></td></tr><tr><td>4</td><td><details class=\"dni-treeview\"><summary><span class=\"dni-code-hint\"><code>Microsoft.ML.AutoML.TrainResult`1[Microsoft.ML.Data.BinaryClassificationMetrics]</code></span></summary><div><table><thead><tr></tr></thead><tbody><tr><td>ValidationMetrics</td><td><details class=\"dni-treeview\"><summary><span class=\"dni-code-hint\"><code>Microsoft.ML.Data.BinaryClassificationMetrics</code></span></summary><div><table><thead><tr></tr></thead><tbody><tr><td>AreaUnderRocCurve</td><td>0.7092583845063769</td></tr><tr><td>Accuracy</td><td>0.8235294117647058</td></tr><tr><td>PositivePrecision</td><td>0.8666666666666667</td></tr><tr><td>PositiveRecall</td><td>0.4482758620689655</td></tr><tr><td>NegativePrecision</td><td>0.8160919540229885</td></tr><tr><td>NegativeRecall</td><td>0.9726027397260274</td></tr><tr><td>F1Score</td><td>0.5909090909090909</td></tr><tr><td>AreaUnderPrecisionRecallCurve</td><td>0.6563035830770187</td></tr><tr><td>ConfusionMatrix</td><td>Microsoft.ML.Data.ConfusionMatrix</td></tr></tbody></table></div></details></td></tr><tr><td>Model</td><td><details class=\"dni-treeview\"><summary><span class=\"dni-code-hint\"><code>[ Microsoft.ML.Transforms.MissingValueReplacingTransformer, Microsoft.ML.Transforms.TypeConvertingTransformer, Microsoft.ML.Transforms.Text.TextFeaturizingEstimator+Transformer, Microsoft.ML.Data.ColumnConcatenatingTransformer, Microsoft.ML.Data.BinaryPredictionTransformer`1[Microsoft.ML.Calibrators.CalibratedModelParametersBase`2[Microsoft.ML.Trainers.FastTree.FastTreeBinaryModelParameters,Microsoft.ML.Calibrators.PlattCalibrator]] ]</code></span></summary><div><table><thead><tr></tr></thead><tbody><tr><td>LastTransformer</td><td>Microsoft.ML.Data.BinaryPredictionTransformer`1[Microsoft.ML.Calibrators.CalibratedModelParametersBase`2[Microsoft.ML.Trainers.FastTree.FastTreeBinaryModelParameters,Microsoft.ML.Calibrators.PlattCalibrator]]</td></tr><tr><td><i>(values)</i></td><td><table><thead><tr><th><i>index</i></th><th><i>type</i></th><th>value</th></tr></thead><tbody><tr><td>0</td><td>Microsoft.ML.Transforms.MissingValueReplacingTransformer</td><td>Microsoft.ML.Transforms.MissingValueReplacingTransformer</td></tr><tr><td>1</td><td>Microsoft.ML.Transforms.TypeConvertingTransformer</td><td>Microsoft.ML.Transforms.TypeConvertingTransformer</td></tr><tr><td>2</td><td>Microsoft.ML.Transforms.Text.TextFeaturizingEstimator+Transformer</td><td>Microsoft.ML.Transforms.Text.TextFeaturizingEstimator+Transformer</td></tr><tr><td>3</td><td>Microsoft.ML.Data.ColumnConcatenatingTransformer</td><td>Microsoft.ML.Data.ColumnConcatenatingTransformer</td></tr><tr><td>4</td><td>Microsoft.ML.Data.BinaryPredictionTransformer`1[Microsoft.ML.Calibrators.CalibratedModelParametersBase`2[Microsoft.ML.Trainers.FastTree.FastTreeBinaryModelParameters,Microsoft.ML.Calibrators.PlattCalibrator]]</td><td>Microsoft.ML.Data.BinaryPredictionTransformer`1[Microsoft.ML.Calibrators.CalibratedModelParametersBase`2[Microsoft.ML.Trainers.FastTree.FastTreeBinaryModelParameters,Microsoft.ML.Calibrators.PlattCalibrator]]</td></tr></tbody></table></td></tr></tbody></table></div></details></td></tr><tr><td>Exception</td><td><div class=\"dni-plaintext\"><pre>&lt;null&gt;</pre></div></td></tr></tbody></table></div></details></td></tr></tbody></table></td></tr><tr><td>TrainerName</td><td><div class=\"dni-plaintext\"><pre>ReplaceMissingValues=&gt;ConvertType=&gt;FeaturizeText=&gt;Concatenate=&gt;FastTreeBinary</pre></div></td></tr><tr><td>RuntimeInSeconds</td><td><div class=\"dni-plaintext\"><pre>0.673</pre></div></td></tr><tr><td>Estimator</td><td><details class=\"dni-treeview\"><summary><span class=\"dni-code-hint\"><code>Microsoft.ML.Data.EstimatorChain`1[Microsoft.ML.ITransformer]</code></span></summary><div><table><thead><tr></tr></thead><tbody><tr><td>LastEstimator</td><td><details class=\"dni-treeview\"><summary><span class=\"dni-code-hint\"><code>Microsoft.ML.Trainers.FastTree.FastTreeBinaryTrainer</code></span></summary><div><table><thead><tr></tr></thead><tbody><tr><td>Info</td><td><details class=\"dni-treeview\"><summary><span class=\"dni-code-hint\"><code>Microsoft.ML.TrainerInfo</code></span></summary><div><table><thead><tr></tr></thead><tbody><tr><td>NeedNormalization</td><td>False</td></tr><tr><td>WantCaching</td><td>False</td></tr></tbody></table></div></details></td></tr><tr><td>GroupIdColumn</td><td><details class=\"dni-treeview\"><summary><span class=\"dni-code-hint\"><code>Microsoft.ML.SchemaShape+Column</code></span></summary><div><table><thead><tr></tr></thead><tbody><tr><td>Name</td><td><div class=\"dni-plaintext\"><pre>&lt;null&gt;</pre></div></td></tr><tr><td>Kind</td><td>Scalar</td></tr><tr><td>ItemType</td><td><div class=\"dni-plaintext\"><pre>&lt;null&gt;</pre></div></td></tr><tr><td>IsKey</td><td>False</td></tr><tr><td>Annotations</td><td><div class=\"dni-plaintext\"><pre>&lt;null&gt;</pre></div></td></tr></tbody></table></div></details></td></tr><tr><td>FeatureColumn</td><td><details class=\"dni-treeview\"><summary><span class=\"dni-code-hint\"><code>Microsoft.ML.SchemaShape+Column</code></span></summary><div><table><thead><tr></tr></thead><tbody><tr><td>Name</td><td>__Features__</td></tr><tr><td>Kind</td><td>Vector</td></tr><tr><td>ItemType</td><td>Single</td></tr><tr><td>IsKey</td><td>False</td></tr><tr><td>Annotations</td><td>[  ]</td></tr></tbody></table></div></details></td></tr><tr><td>LabelColumn</td><td><details class=\"dni-treeview\"><summary><span class=\"dni-code-hint\"><code>Microsoft.ML.SchemaShape+Column</code></span></summary><div><table><thead><tr></tr></thead><tbody><tr><td>Name</td><td>Label</td></tr><tr><td>Kind</td><td>Scalar</td></tr><tr><td>ItemType</td><td>Boolean</td></tr><tr><td>IsKey</td><td>False</td></tr><tr><td>Annotations</td><td>[  ]</td></tr></tbody></table></div></details></td></tr><tr><td>WeightColumn</td><td><details class=\"dni-treeview\"><summary><span class=\"dni-code-hint\"><code>Microsoft.ML.SchemaShape+Column</code></span></summary><div><table><thead><tr></tr></thead><tbody><tr><td>Name</td><td><div class=\"dni-plaintext\"><pre>&lt;null&gt;</pre></div></td></tr><tr><td>Kind</td><td>Scalar</td></tr><tr><td>ItemType</td><td><div class=\"dni-plaintext\"><pre>&lt;null&gt;</pre></div></td></tr><tr><td>IsKey</td><td>False</td></tr><tr><td>Annotations</td><td><div class=\"dni-plaintext\"><pre>&lt;null&gt;</pre></div></td></tr></tbody></table></div></details></td></tr></tbody></table></div></details></td></tr></tbody></table></div></details></td></tr></tbody></table></div></details></td></tr><tr><td>3</td><td><details class=\"dni-treeview\"><summary><span class=\"dni-code-hint\"><code>Microsoft.ML.AutoML.CrossValidationRunDetail`1[Microsoft.ML.Data.BinaryClassificationMetrics]</code></span></summary><div><table><thead><tr></tr></thead><tbody><tr><td>Results</td><td><table><thead><tr><th><i>index</i></th><th>value</th></tr></thead><tbody><tr><td>0</td><td><details class=\"dni-treeview\"><summary><span class=\"dni-code-hint\"><code>Microsoft.ML.AutoML.TrainResult`1[Microsoft.ML.Data.BinaryClassificationMetrics]</code></span></summary><div><table><thead><tr></tr></thead><tbody><tr><td>ValidationMetrics</td><td><details class=\"dni-treeview\"><summary><span class=\"dni-code-hint\"><code>Microsoft.ML.Data.BinaryClassificationMetrics</code></span></summary><div><table><thead><tr></tr></thead><tbody><tr><td>AreaUnderRocCurve</td><td>0.7691532258064516</td></tr><tr><td>Accuracy</td><td>0.8191489361702128</td></tr><tr><td>PositivePrecision</td><td>0.8571428571428571</td></tr><tr><td>PositiveRecall</td><td>0.5625</td></tr><tr><td>NegativePrecision</td><td>0.8082191780821918</td></tr><tr><td>NegativeRecall</td><td>0.9516129032258065</td></tr><tr><td>F1Score</td><td>0.6792452830188678</td></tr><tr><td>AreaUnderPrecisionRecallCurve</td><td>0.6702285651309546</td></tr><tr><td>ConfusionMatrix</td><td>Microsoft.ML.Data.ConfusionMatrix</td></tr></tbody></table></div></details></td></tr><tr><td>Model</td><td><details class=\"dni-treeview\"><summary><span class=\"dni-code-hint\"><code>[ Microsoft.ML.Transforms.MissingValueReplacingTransformer, Microsoft.ML.Transforms.TypeConvertingTransformer, Microsoft.ML.Transforms.Text.TextFeaturizingEstimator+Transformer, Microsoft.ML.Data.ColumnConcatenatingTransformer, Microsoft.ML.Data.BinaryPredictionTransformer`1[Microsoft.ML.Calibrators.CalibratedModelParametersBase`2[Microsoft.ML.Trainers.FastTree.FastTreeBinaryModelParameters,Microsoft.ML.Calibrators.PlattCalibrator]] ]</code></span></summary><div><table><thead><tr></tr></thead><tbody><tr><td>LastTransformer</td><td>Microsoft.ML.Data.BinaryPredictionTransformer`1[Microsoft.ML.Calibrators.CalibratedModelParametersBase`2[Microsoft.ML.Trainers.FastTree.FastTreeBinaryModelParameters,Microsoft.ML.Calibrators.PlattCalibrator]]</td></tr><tr><td><i>(values)</i></td><td><table><thead><tr><th><i>index</i></th><th><i>type</i></th><th>value</th></tr></thead><tbody><tr><td>0</td><td>Microsoft.ML.Transforms.MissingValueReplacingTransformer</td><td>Microsoft.ML.Transforms.MissingValueReplacingTransformer</td></tr><tr><td>1</td><td>Microsoft.ML.Transforms.TypeConvertingTransformer</td><td>Microsoft.ML.Transforms.TypeConvertingTransformer</td></tr><tr><td>2</td><td>Microsoft.ML.Transforms.Text.TextFeaturizingEstimator+Transformer</td><td>Microsoft.ML.Transforms.Text.TextFeaturizingEstimator+Transformer</td></tr><tr><td>3</td><td>Microsoft.ML.Data.ColumnConcatenatingTransformer</td><td>Microsoft.ML.Data.ColumnConcatenatingTransformer</td></tr><tr><td>4</td><td>Microsoft.ML.Data.BinaryPredictionTransformer`1[Microsoft.ML.Calibrators.CalibratedModelParametersBase`2[Microsoft.ML.Trainers.FastTree.FastTreeBinaryModelParameters,Microsoft.ML.Calibrators.PlattCalibrator]]</td><td>Microsoft.ML.Data.BinaryPredictionTransformer`1[Microsoft.ML.Calibrators.CalibratedModelParametersBase`2[Microsoft.ML.Trainers.FastTree.FastTreeBinaryModelParameters,Microsoft.ML.Calibrators.PlattCalibrator]]</td></tr></tbody></table></td></tr></tbody></table></div></details></td></tr><tr><td>Exception</td><td><div class=\"dni-plaintext\"><pre>&lt;null&gt;</pre></div></td></tr></tbody></table></div></details></td></tr><tr><td>1</td><td><details class=\"dni-treeview\"><summary><span class=\"dni-code-hint\"><code>Microsoft.ML.AutoML.TrainResult`1[Microsoft.ML.Data.BinaryClassificationMetrics]</code></span></summary><div><table><thead><tr></tr></thead><tbody><tr><td>ValidationMetrics</td><td><details class=\"dni-treeview\"><summary><span class=\"dni-code-hint\"><code>Microsoft.ML.Data.BinaryClassificationMetrics</code></span></summary><div><table><thead><tr></tr></thead><tbody><tr><td>AreaUnderRocCurve</td><td>0.7823800131492439</td></tr><tr><td>Accuracy</td><td>0.8034188034188035</td></tr><tr><td>PositivePrecision</td><td>0.8636363636363636</td></tr><tr><td>PositiveRecall</td><td>0.48717948717948717</td></tr><tr><td>NegativePrecision</td><td>0.7894736842105263</td></tr><tr><td>NegativeRecall</td><td>0.9615384615384616</td></tr><tr><td>F1Score</td><td>0.6229508196721312</td></tr><tr><td>AreaUnderPrecisionRecallCurve</td><td>0.6988522343282103</td></tr><tr><td>ConfusionMatrix</td><td>Microsoft.ML.Data.ConfusionMatrix</td></tr></tbody></table></div></details></td></tr><tr><td>Model</td><td><details class=\"dni-treeview\"><summary><span class=\"dni-code-hint\"><code>[ Microsoft.ML.Transforms.MissingValueReplacingTransformer, Microsoft.ML.Transforms.TypeConvertingTransformer, Microsoft.ML.Transforms.Text.TextFeaturizingEstimator+Transformer, Microsoft.ML.Data.ColumnConcatenatingTransformer, Microsoft.ML.Data.BinaryPredictionTransformer`1[Microsoft.ML.Calibrators.CalibratedModelParametersBase`2[Microsoft.ML.Trainers.FastTree.FastTreeBinaryModelParameters,Microsoft.ML.Calibrators.PlattCalibrator]] ]</code></span></summary><div><table><thead><tr></tr></thead><tbody><tr><td>LastTransformer</td><td>Microsoft.ML.Data.BinaryPredictionTransformer`1[Microsoft.ML.Calibrators.CalibratedModelParametersBase`2[Microsoft.ML.Trainers.FastTree.FastTreeBinaryModelParameters,Microsoft.ML.Calibrators.PlattCalibrator]]</td></tr><tr><td><i>(values)</i></td><td><table><thead><tr><th><i>index</i></th><th><i>type</i></th><th>value</th></tr></thead><tbody><tr><td>0</td><td>Microsoft.ML.Transforms.MissingValueReplacingTransformer</td><td>Microsoft.ML.Transforms.MissingValueReplacingTransformer</td></tr><tr><td>1</td><td>Microsoft.ML.Transforms.TypeConvertingTransformer</td><td>Microsoft.ML.Transforms.TypeConvertingTransformer</td></tr><tr><td>2</td><td>Microsoft.ML.Transforms.Text.TextFeaturizingEstimator+Transformer</td><td>Microsoft.ML.Transforms.Text.TextFeaturizingEstimator+Transformer</td></tr><tr><td>3</td><td>Microsoft.ML.Data.ColumnConcatenatingTransformer</td><td>Microsoft.ML.Data.ColumnConcatenatingTransformer</td></tr><tr><td>4</td><td>Microsoft.ML.Data.BinaryPredictionTransformer`1[Microsoft.ML.Calibrators.CalibratedModelParametersBase`2[Microsoft.ML.Trainers.FastTree.FastTreeBinaryModelParameters,Microsoft.ML.Calibrators.PlattCalibrator]]</td><td>Microsoft.ML.Data.BinaryPredictionTransformer`1[Microsoft.ML.Calibrators.CalibratedModelParametersBase`2[Microsoft.ML.Trainers.FastTree.FastTreeBinaryModelParameters,Microsoft.ML.Calibrators.PlattCalibrator]]</td></tr></tbody></table></td></tr></tbody></table></div></details></td></tr><tr><td>Exception</td><td><div class=\"dni-plaintext\"><pre>&lt;null&gt;</pre></div></td></tr></tbody></table></div></details></td></tr><tr><td>2</td><td><details class=\"dni-treeview\"><summary><span class=\"dni-code-hint\"><code>Microsoft.ML.AutoML.TrainResult`1[Microsoft.ML.Data.BinaryClassificationMetrics]</code></span></summary><div><table><thead><tr></tr></thead><tbody><tr><td>ValidationMetrics</td><td><details class=\"dni-treeview\"><summary><span class=\"dni-code-hint\"><code>Microsoft.ML.Data.BinaryClassificationMetrics</code></span></summary><div><table><thead><tr></tr></thead><tbody><tr><td>AreaUnderRocCurve</td><td>0.7141447368421052</td></tr><tr><td>Accuracy</td><td>0.7708333333333334</td></tr><tr><td>PositivePrecision</td><td>0.45454545454545453</td></tr><tr><td>PositiveRecall</td><td>0.5</td></tr><tr><td>NegativePrecision</td><td>0.8648648648648649</td></tr><tr><td>NegativeRecall</td><td>0.8421052631578947</td></tr><tr><td>F1Score</td><td>0.47619047619047616</td></tr><tr><td>AreaUnderPrecisionRecallCurve</td><td>0.4824678186059153</td></tr><tr><td>ConfusionMatrix</td><td>Microsoft.ML.Data.ConfusionMatrix</td></tr></tbody></table></div></details></td></tr><tr><td>Model</td><td><details class=\"dni-treeview\"><summary><span class=\"dni-code-hint\"><code>[ Microsoft.ML.Transforms.MissingValueReplacingTransformer, Microsoft.ML.Transforms.TypeConvertingTransformer, Microsoft.ML.Transforms.Text.TextFeaturizingEstimator+Transformer, Microsoft.ML.Data.ColumnConcatenatingTransformer, Microsoft.ML.Data.BinaryPredictionTransformer`1[Microsoft.ML.Calibrators.CalibratedModelParametersBase`2[Microsoft.ML.Trainers.FastTree.FastTreeBinaryModelParameters,Microsoft.ML.Calibrators.PlattCalibrator]] ]</code></span></summary><div><table><thead><tr></tr></thead><tbody><tr><td>LastTransformer</td><td>Microsoft.ML.Data.BinaryPredictionTransformer`1[Microsoft.ML.Calibrators.CalibratedModelParametersBase`2[Microsoft.ML.Trainers.FastTree.FastTreeBinaryModelParameters,Microsoft.ML.Calibrators.PlattCalibrator]]</td></tr><tr><td><i>(values)</i></td><td><table><thead><tr><th><i>index</i></th><th><i>type</i></th><th>value</th></tr></thead><tbody><tr><td>0</td><td>Microsoft.ML.Transforms.MissingValueReplacingTransformer</td><td>Microsoft.ML.Transforms.MissingValueReplacingTransformer</td></tr><tr><td>1</td><td>Microsoft.ML.Transforms.TypeConvertingTransformer</td><td>Microsoft.ML.Transforms.TypeConvertingTransformer</td></tr><tr><td>2</td><td>Microsoft.ML.Transforms.Text.TextFeaturizingEstimator+Transformer</td><td>Microsoft.ML.Transforms.Text.TextFeaturizingEstimator+Transformer</td></tr><tr><td>3</td><td>Microsoft.ML.Data.ColumnConcatenatingTransformer</td><td>Microsoft.ML.Data.ColumnConcatenatingTransformer</td></tr><tr><td>4</td><td>Microsoft.ML.Data.BinaryPredictionTransformer`1[Microsoft.ML.Calibrators.CalibratedModelParametersBase`2[Microsoft.ML.Trainers.FastTree.FastTreeBinaryModelParameters,Microsoft.ML.Calibrators.PlattCalibrator]]</td><td>Microsoft.ML.Data.BinaryPredictionTransformer`1[Microsoft.ML.Calibrators.CalibratedModelParametersBase`2[Microsoft.ML.Trainers.FastTree.FastTreeBinaryModelParameters,Microsoft.ML.Calibrators.PlattCalibrator]]</td></tr></tbody></table></td></tr></tbody></table></div></details></td></tr><tr><td>Exception</td><td><div class=\"dni-plaintext\"><pre>&lt;null&gt;</pre></div></td></tr></tbody></table></div></details></td></tr><tr><td>3</td><td><details class=\"dni-treeview\"><summary><span class=\"dni-code-hint\"><code>Microsoft.ML.AutoML.TrainResult`1[Microsoft.ML.Data.BinaryClassificationMetrics]</code></span></summary><div><table><thead><tr></tr></thead><tbody><tr><td>ValidationMetrics</td><td><details class=\"dni-treeview\"><summary><span class=\"dni-code-hint\"><code>Microsoft.ML.Data.BinaryClassificationMetrics</code></span></summary><div><table><thead><tr></tr></thead><tbody><tr><td>AreaUnderRocCurve</td><td>0.8547692307692307</td></tr><tr><td>Accuracy</td><td>0.8333333333333334</td></tr><tr><td>PositivePrecision</td><td>0.6923076923076923</td></tr><tr><td>PositiveRecall</td><td>0.72</td></tr><tr><td>NegativePrecision</td><td>0.890625</td></tr><tr><td>NegativeRecall</td><td>0.8769230769230769</td></tr><tr><td>F1Score</td><td>0.7058823529411765</td></tr><tr><td>AreaUnderPrecisionRecallCurve</td><td>0.8264001050487858</td></tr><tr><td>ConfusionMatrix</td><td>Microsoft.ML.Data.ConfusionMatrix</td></tr></tbody></table></div></details></td></tr><tr><td>Model</td><td><details class=\"dni-treeview\"><summary><span class=\"dni-code-hint\"><code>[ Microsoft.ML.Transforms.MissingValueReplacingTransformer, Microsoft.ML.Transforms.TypeConvertingTransformer, Microsoft.ML.Transforms.Text.TextFeaturizingEstimator+Transformer, Microsoft.ML.Data.ColumnConcatenatingTransformer, Microsoft.ML.Data.BinaryPredictionTransformer`1[Microsoft.ML.Calibrators.CalibratedModelParametersBase`2[Microsoft.ML.Trainers.FastTree.FastTreeBinaryModelParameters,Microsoft.ML.Calibrators.PlattCalibrator]] ]</code></span></summary><div><table><thead><tr></tr></thead><tbody><tr><td>LastTransformer</td><td>Microsoft.ML.Data.BinaryPredictionTransformer`1[Microsoft.ML.Calibrators.CalibratedModelParametersBase`2[Microsoft.ML.Trainers.FastTree.FastTreeBinaryModelParameters,Microsoft.ML.Calibrators.PlattCalibrator]]</td></tr><tr><td><i>(values)</i></td><td><table><thead><tr><th><i>index</i></th><th><i>type</i></th><th>value</th></tr></thead><tbody><tr><td>0</td><td>Microsoft.ML.Transforms.MissingValueReplacingTransformer</td><td>Microsoft.ML.Transforms.MissingValueReplacingTransformer</td></tr><tr><td>1</td><td>Microsoft.ML.Transforms.TypeConvertingTransformer</td><td>Microsoft.ML.Transforms.TypeConvertingTransformer</td></tr><tr><td>2</td><td>Microsoft.ML.Transforms.Text.TextFeaturizingEstimator+Transformer</td><td>Microsoft.ML.Transforms.Text.TextFeaturizingEstimator+Transformer</td></tr><tr><td>3</td><td>Microsoft.ML.Data.ColumnConcatenatingTransformer</td><td>Microsoft.ML.Data.ColumnConcatenatingTransformer</td></tr><tr><td>4</td><td>Microsoft.ML.Data.BinaryPredictionTransformer`1[Microsoft.ML.Calibrators.CalibratedModelParametersBase`2[Microsoft.ML.Trainers.FastTree.FastTreeBinaryModelParameters,Microsoft.ML.Calibrators.PlattCalibrator]]</td><td>Microsoft.ML.Data.BinaryPredictionTransformer`1[Microsoft.ML.Calibrators.CalibratedModelParametersBase`2[Microsoft.ML.Trainers.FastTree.FastTreeBinaryModelParameters,Microsoft.ML.Calibrators.PlattCalibrator]]</td></tr></tbody></table></td></tr></tbody></table></div></details></td></tr><tr><td>Exception</td><td><div class=\"dni-plaintext\"><pre>&lt;null&gt;</pre></div></td></tr></tbody></table></div></details></td></tr><tr><td>4</td><td><details class=\"dni-treeview\"><summary><span class=\"dni-code-hint\"><code>Microsoft.ML.AutoML.TrainResult`1[Microsoft.ML.Data.BinaryClassificationMetrics]</code></span></summary><div><table><thead><tr></tr></thead><tbody><tr><td>ValidationMetrics</td><td><details class=\"dni-treeview\"><summary><span class=\"dni-code-hint\"><code>Microsoft.ML.Data.BinaryClassificationMetrics</code></span></summary><div><table><thead><tr></tr></thead><tbody><tr><td>AreaUnderRocCurve</td><td>0.7775153519130845</td></tr><tr><td>Accuracy</td><td>0.7745098039215687</td></tr><tr><td>PositivePrecision</td><td>0.6071428571428571</td></tr><tr><td>PositiveRecall</td><td>0.5862068965517241</td></tr><tr><td>NegativePrecision</td><td>0.8378378378378378</td></tr><tr><td>NegativeRecall</td><td>0.8493150684931506</td></tr><tr><td>F1Score</td><td>0.5964912280701754</td></tr><tr><td>AreaUnderPrecisionRecallCurve</td><td>0.7306395460085358</td></tr><tr><td>ConfusionMatrix</td><td>Microsoft.ML.Data.ConfusionMatrix</td></tr></tbody></table></div></details></td></tr><tr><td>Model</td><td><details class=\"dni-treeview\"><summary><span class=\"dni-code-hint\"><code>[ Microsoft.ML.Transforms.MissingValueReplacingTransformer, Microsoft.ML.Transforms.TypeConvertingTransformer, Microsoft.ML.Transforms.Text.TextFeaturizingEstimator+Transformer, Microsoft.ML.Data.ColumnConcatenatingTransformer, Microsoft.ML.Data.BinaryPredictionTransformer`1[Microsoft.ML.Calibrators.CalibratedModelParametersBase`2[Microsoft.ML.Trainers.FastTree.FastTreeBinaryModelParameters,Microsoft.ML.Calibrators.PlattCalibrator]] ]</code></span></summary><div><table><thead><tr></tr></thead><tbody><tr><td>LastTransformer</td><td>Microsoft.ML.Data.BinaryPredictionTransformer`1[Microsoft.ML.Calibrators.CalibratedModelParametersBase`2[Microsoft.ML.Trainers.FastTree.FastTreeBinaryModelParameters,Microsoft.ML.Calibrators.PlattCalibrator]]</td></tr><tr><td><i>(values)</i></td><td><table><thead><tr><th><i>index</i></th><th><i>type</i></th><th>value</th></tr></thead><tbody><tr><td>0</td><td>Microsoft.ML.Transforms.MissingValueReplacingTransformer</td><td>Microsoft.ML.Transforms.MissingValueReplacingTransformer</td></tr><tr><td>1</td><td>Microsoft.ML.Transforms.TypeConvertingTransformer</td><td>Microsoft.ML.Transforms.TypeConvertingTransformer</td></tr><tr><td>2</td><td>Microsoft.ML.Transforms.Text.TextFeaturizingEstimator+Transformer</td><td>Microsoft.ML.Transforms.Text.TextFeaturizingEstimator+Transformer</td></tr><tr><td>3</td><td>Microsoft.ML.Data.ColumnConcatenatingTransformer</td><td>Microsoft.ML.Data.ColumnConcatenatingTransformer</td></tr><tr><td>4</td><td>Microsoft.ML.Data.BinaryPredictionTransformer`1[Microsoft.ML.Calibrators.CalibratedModelParametersBase`2[Microsoft.ML.Trainers.FastTree.FastTreeBinaryModelParameters,Microsoft.ML.Calibrators.PlattCalibrator]]</td><td>Microsoft.ML.Data.BinaryPredictionTransformer`1[Microsoft.ML.Calibrators.CalibratedModelParametersBase`2[Microsoft.ML.Trainers.FastTree.FastTreeBinaryModelParameters,Microsoft.ML.Calibrators.PlattCalibrator]]</td></tr></tbody></table></td></tr></tbody></table></div></details></td></tr><tr><td>Exception</td><td><div class=\"dni-plaintext\"><pre>&lt;null&gt;</pre></div></td></tr></tbody></table></div></details></td></tr></tbody></table></td></tr><tr><td>TrainerName</td><td><div class=\"dni-plaintext\"><pre>ReplaceMissingValues=&gt;ConvertType=&gt;FeaturizeText=&gt;Concatenate=&gt;FastTreeBinary</pre></div></td></tr><tr><td>RuntimeInSeconds</td><td><div class=\"dni-plaintext\"><pre>0.707</pre></div></td></tr><tr><td>Estimator</td><td><details class=\"dni-treeview\"><summary><span class=\"dni-code-hint\"><code>Microsoft.ML.Data.EstimatorChain`1[Microsoft.ML.ITransformer]</code></span></summary><div><table><thead><tr></tr></thead><tbody><tr><td>LastEstimator</td><td><details class=\"dni-treeview\"><summary><span class=\"dni-code-hint\"><code>Microsoft.ML.Trainers.FastTree.FastTreeBinaryTrainer</code></span></summary><div><table><thead><tr></tr></thead><tbody><tr><td>Info</td><td><details class=\"dni-treeview\"><summary><span class=\"dni-code-hint\"><code>Microsoft.ML.TrainerInfo</code></span></summary><div><table><thead><tr></tr></thead><tbody><tr><td>NeedNormalization</td><td>False</td></tr><tr><td>WantCaching</td><td>False</td></tr></tbody></table></div></details></td></tr><tr><td>GroupIdColumn</td><td><details class=\"dni-treeview\"><summary><span class=\"dni-code-hint\"><code>Microsoft.ML.SchemaShape+Column</code></span></summary><div><table><thead><tr></tr></thead><tbody><tr><td>Name</td><td><div class=\"dni-plaintext\"><pre>&lt;null&gt;</pre></div></td></tr><tr><td>Kind</td><td>Scalar</td></tr><tr><td>ItemType</td><td><div class=\"dni-plaintext\"><pre>&lt;null&gt;</pre></div></td></tr><tr><td>IsKey</td><td>False</td></tr><tr><td>Annotations</td><td><div class=\"dni-plaintext\"><pre>&lt;null&gt;</pre></div></td></tr></tbody></table></div></details></td></tr><tr><td>FeatureColumn</td><td><details class=\"dni-treeview\"><summary><span class=\"dni-code-hint\"><code>Microsoft.ML.SchemaShape+Column</code></span></summary><div><table><thead><tr></tr></thead><tbody><tr><td>Name</td><td>__Features__</td></tr><tr><td>Kind</td><td>Vector</td></tr><tr><td>ItemType</td><td>Single</td></tr><tr><td>IsKey</td><td>False</td></tr><tr><td>Annotations</td><td>[  ]</td></tr></tbody></table></div></details></td></tr><tr><td>LabelColumn</td><td><details class=\"dni-treeview\"><summary><span class=\"dni-code-hint\"><code>Microsoft.ML.SchemaShape+Column</code></span></summary><div><table><thead><tr></tr></thead><tbody><tr><td>Name</td><td>Label</td></tr><tr><td>Kind</td><td>Scalar</td></tr><tr><td>ItemType</td><td>Boolean</td></tr><tr><td>IsKey</td><td>False</td></tr><tr><td>Annotations</td><td>[  ]</td></tr></tbody></table></div></details></td></tr><tr><td>WeightColumn</td><td><details class=\"dni-treeview\"><summary><span class=\"dni-code-hint\"><code>Microsoft.ML.SchemaShape+Column</code></span></summary><div><table><thead><tr></tr></thead><tbody><tr><td>Name</td><td><div class=\"dni-plaintext\"><pre>&lt;null&gt;</pre></div></td></tr><tr><td>Kind</td><td>Scalar</td></tr><tr><td>ItemType</td><td><div class=\"dni-plaintext\"><pre>&lt;null&gt;</pre></div></td></tr><tr><td>IsKey</td><td>False</td></tr><tr><td>Annotations</td><td><div class=\"dni-plaintext\"><pre>&lt;null&gt;</pre></div></td></tr></tbody></table></div></details></td></tr></tbody></table></div></details></td></tr></tbody></table></div></details></td></tr></tbody></table></div></details></td></tr><tr><td>4</td><td><details class=\"dni-treeview\"><summary><span class=\"dni-code-hint\"><code>Microsoft.ML.AutoML.CrossValidationRunDetail`1[Microsoft.ML.Data.BinaryClassificationMetrics]</code></span></summary><div><table><thead><tr></tr></thead><tbody><tr><td>Results</td><td><table><thead><tr><th><i>index</i></th><th>value</th></tr></thead><tbody><tr><td>0</td><td><details class=\"dni-treeview\"><summary><span class=\"dni-code-hint\"><code>Microsoft.ML.AutoML.TrainResult`1[Microsoft.ML.Data.BinaryClassificationMetrics]</code></span></summary><div><table><thead><tr></tr></thead><tbody><tr><td>ValidationMetrics</td><td><details class=\"dni-treeview\"><summary><span class=\"dni-code-hint\"><code>Microsoft.ML.Data.BinaryClassificationMetrics</code></span></summary><div><table><thead><tr></tr></thead><tbody><tr><td>AreaUnderRocCurve</td><td>0.8220766129032258</td></tr><tr><td>Accuracy</td><td>0.8297872340425532</td></tr><tr><td>PositivePrecision</td><td>0.8333333333333334</td></tr><tr><td>PositiveRecall</td><td>0.625</td></tr><tr><td>NegativePrecision</td><td>0.8285714285714286</td></tr><tr><td>NegativeRecall</td><td>0.9354838709677419</td></tr><tr><td>F1Score</td><td>0.7142857142857143</td></tr><tr><td>AreaUnderPrecisionRecallCurve</td><td>0.7981657871596612</td></tr><tr><td>ConfusionMatrix</td><td>Microsoft.ML.Data.ConfusionMatrix</td></tr></tbody></table></div></details></td></tr><tr><td>Model</td><td><details class=\"dni-treeview\"><summary><span class=\"dni-code-hint\"><code>[ Microsoft.ML.Transforms.MissingValueReplacingTransformer, Microsoft.ML.Transforms.TypeConvertingTransformer, Microsoft.ML.Transforms.Text.TextFeaturizingEstimator+Transformer, Microsoft.ML.Data.ColumnConcatenatingTransformer, Microsoft.ML.Data.BinaryPredictionTransformer`1[Microsoft.ML.Calibrators.CalibratedModelParametersBase`2[Microsoft.ML.Trainers.FastTree.FastTreeBinaryModelParameters,Microsoft.ML.Calibrators.PlattCalibrator]] ]</code></span></summary><div><table><thead><tr></tr></thead><tbody><tr><td>LastTransformer</td><td>Microsoft.ML.Data.BinaryPredictionTransformer`1[Microsoft.ML.Calibrators.CalibratedModelParametersBase`2[Microsoft.ML.Trainers.FastTree.FastTreeBinaryModelParameters,Microsoft.ML.Calibrators.PlattCalibrator]]</td></tr><tr><td><i>(values)</i></td><td><table><thead><tr><th><i>index</i></th><th><i>type</i></th><th>value</th></tr></thead><tbody><tr><td>0</td><td>Microsoft.ML.Transforms.MissingValueReplacingTransformer</td><td>Microsoft.ML.Transforms.MissingValueReplacingTransformer</td></tr><tr><td>1</td><td>Microsoft.ML.Transforms.TypeConvertingTransformer</td><td>Microsoft.ML.Transforms.TypeConvertingTransformer</td></tr><tr><td>2</td><td>Microsoft.ML.Transforms.Text.TextFeaturizingEstimator+Transformer</td><td>Microsoft.ML.Transforms.Text.TextFeaturizingEstimator+Transformer</td></tr><tr><td>3</td><td>Microsoft.ML.Data.ColumnConcatenatingTransformer</td><td>Microsoft.ML.Data.ColumnConcatenatingTransformer</td></tr><tr><td>4</td><td>Microsoft.ML.Data.BinaryPredictionTransformer`1[Microsoft.ML.Calibrators.CalibratedModelParametersBase`2[Microsoft.ML.Trainers.FastTree.FastTreeBinaryModelParameters,Microsoft.ML.Calibrators.PlattCalibrator]]</td><td>Microsoft.ML.Data.BinaryPredictionTransformer`1[Microsoft.ML.Calibrators.CalibratedModelParametersBase`2[Microsoft.ML.Trainers.FastTree.FastTreeBinaryModelParameters,Microsoft.ML.Calibrators.PlattCalibrator]]</td></tr></tbody></table></td></tr></tbody></table></div></details></td></tr><tr><td>Exception</td><td><div class=\"dni-plaintext\"><pre>&lt;null&gt;</pre></div></td></tr></tbody></table></div></details></td></tr><tr><td>1</td><td><details class=\"dni-treeview\"><summary><span class=\"dni-code-hint\"><code>Microsoft.ML.AutoML.TrainResult`1[Microsoft.ML.Data.BinaryClassificationMetrics]</code></span></summary><div><table><thead><tr></tr></thead><tbody><tr><td>ValidationMetrics</td><td><details class=\"dni-treeview\"><summary><span class=\"dni-code-hint\"><code>Microsoft.ML.Data.BinaryClassificationMetrics</code></span></summary><div><table><thead><tr></tr></thead><tbody><tr><td>AreaUnderRocCurve</td><td>0.7725180802103879</td></tr><tr><td>Accuracy</td><td>0.7692307692307693</td></tr><tr><td>PositivePrecision</td><td>0.875</td></tr><tr><td>PositiveRecall</td><td>0.358974358974359</td></tr><tr><td>NegativePrecision</td><td>0.7524752475247525</td></tr><tr><td>NegativeRecall</td><td>0.9743589743589743</td></tr><tr><td>F1Score</td><td>0.509090909090909</td></tr><tr><td>AreaUnderPrecisionRecallCurve</td><td>0.7023756222075594</td></tr><tr><td>ConfusionMatrix</td><td>Microsoft.ML.Data.ConfusionMatrix</td></tr></tbody></table></div></details></td></tr><tr><td>Model</td><td><details class=\"dni-treeview\"><summary><span class=\"dni-code-hint\"><code>[ Microsoft.ML.Transforms.MissingValueReplacingTransformer, Microsoft.ML.Transforms.TypeConvertingTransformer, Microsoft.ML.Transforms.Text.TextFeaturizingEstimator+Transformer, Microsoft.ML.Data.ColumnConcatenatingTransformer, Microsoft.ML.Data.BinaryPredictionTransformer`1[Microsoft.ML.Calibrators.CalibratedModelParametersBase`2[Microsoft.ML.Trainers.FastTree.FastTreeBinaryModelParameters,Microsoft.ML.Calibrators.PlattCalibrator]] ]</code></span></summary><div><table><thead><tr></tr></thead><tbody><tr><td>LastTransformer</td><td>Microsoft.ML.Data.BinaryPredictionTransformer`1[Microsoft.ML.Calibrators.CalibratedModelParametersBase`2[Microsoft.ML.Trainers.FastTree.FastTreeBinaryModelParameters,Microsoft.ML.Calibrators.PlattCalibrator]]</td></tr><tr><td><i>(values)</i></td><td><table><thead><tr><th><i>index</i></th><th><i>type</i></th><th>value</th></tr></thead><tbody><tr><td>0</td><td>Microsoft.ML.Transforms.MissingValueReplacingTransformer</td><td>Microsoft.ML.Transforms.MissingValueReplacingTransformer</td></tr><tr><td>1</td><td>Microsoft.ML.Transforms.TypeConvertingTransformer</td><td>Microsoft.ML.Transforms.TypeConvertingTransformer</td></tr><tr><td>2</td><td>Microsoft.ML.Transforms.Text.TextFeaturizingEstimator+Transformer</td><td>Microsoft.ML.Transforms.Text.TextFeaturizingEstimator+Transformer</td></tr><tr><td>3</td><td>Microsoft.ML.Data.ColumnConcatenatingTransformer</td><td>Microsoft.ML.Data.ColumnConcatenatingTransformer</td></tr><tr><td>4</td><td>Microsoft.ML.Data.BinaryPredictionTransformer`1[Microsoft.ML.Calibrators.CalibratedModelParametersBase`2[Microsoft.ML.Trainers.FastTree.FastTreeBinaryModelParameters,Microsoft.ML.Calibrators.PlattCalibrator]]</td><td>Microsoft.ML.Data.BinaryPredictionTransformer`1[Microsoft.ML.Calibrators.CalibratedModelParametersBase`2[Microsoft.ML.Trainers.FastTree.FastTreeBinaryModelParameters,Microsoft.ML.Calibrators.PlattCalibrator]]</td></tr></tbody></table></td></tr></tbody></table></div></details></td></tr><tr><td>Exception</td><td><div class=\"dni-plaintext\"><pre>&lt;null&gt;</pre></div></td></tr></tbody></table></div></details></td></tr><tr><td>2</td><td><details class=\"dni-treeview\"><summary><span class=\"dni-code-hint\"><code>Microsoft.ML.AutoML.TrainResult`1[Microsoft.ML.Data.BinaryClassificationMetrics]</code></span></summary><div><table><thead><tr></tr></thead><tbody><tr><td>ValidationMetrics</td><td><details class=\"dni-treeview\"><summary><span class=\"dni-code-hint\"><code>Microsoft.ML.Data.BinaryClassificationMetrics</code></span></summary><div><table><thead><tr></tr></thead><tbody><tr><td>AreaUnderRocCurve</td><td>0.68125</td></tr><tr><td>Accuracy</td><td>0.8333333333333334</td></tr><tr><td>PositivePrecision</td><td>0.6666666666666666</td></tr><tr><td>PositiveRecall</td><td>0.4</td></tr><tr><td>NegativePrecision</td><td>0.8571428571428571</td></tr><tr><td>NegativeRecall</td><td>0.9473684210526315</td></tr><tr><td>F1Score</td><td>0.5</td></tr><tr><td>AreaUnderPrecisionRecallCurve</td><td>0.4955143365139574</td></tr><tr><td>ConfusionMatrix</td><td>Microsoft.ML.Data.ConfusionMatrix</td></tr></tbody></table></div></details></td></tr><tr><td>Model</td><td><details class=\"dni-treeview\"><summary><span class=\"dni-code-hint\"><code>[ Microsoft.ML.Transforms.MissingValueReplacingTransformer, Microsoft.ML.Transforms.TypeConvertingTransformer, Microsoft.ML.Transforms.Text.TextFeaturizingEstimator+Transformer, Microsoft.ML.Data.ColumnConcatenatingTransformer, Microsoft.ML.Data.BinaryPredictionTransformer`1[Microsoft.ML.Calibrators.CalibratedModelParametersBase`2[Microsoft.ML.Trainers.FastTree.FastTreeBinaryModelParameters,Microsoft.ML.Calibrators.PlattCalibrator]] ]</code></span></summary><div><table><thead><tr></tr></thead><tbody><tr><td>LastTransformer</td><td>Microsoft.ML.Data.BinaryPredictionTransformer`1[Microsoft.ML.Calibrators.CalibratedModelParametersBase`2[Microsoft.ML.Trainers.FastTree.FastTreeBinaryModelParameters,Microsoft.ML.Calibrators.PlattCalibrator]]</td></tr><tr><td><i>(values)</i></td><td><table><thead><tr><th><i>index</i></th><th><i>type</i></th><th>value</th></tr></thead><tbody><tr><td>0</td><td>Microsoft.ML.Transforms.MissingValueReplacingTransformer</td><td>Microsoft.ML.Transforms.MissingValueReplacingTransformer</td></tr><tr><td>1</td><td>Microsoft.ML.Transforms.TypeConvertingTransformer</td><td>Microsoft.ML.Transforms.TypeConvertingTransformer</td></tr><tr><td>2</td><td>Microsoft.ML.Transforms.Text.TextFeaturizingEstimator+Transformer</td><td>Microsoft.ML.Transforms.Text.TextFeaturizingEstimator+Transformer</td></tr><tr><td>3</td><td>Microsoft.ML.Data.ColumnConcatenatingTransformer</td><td>Microsoft.ML.Data.ColumnConcatenatingTransformer</td></tr><tr><td>4</td><td>Microsoft.ML.Data.BinaryPredictionTransformer`1[Microsoft.ML.Calibrators.CalibratedModelParametersBase`2[Microsoft.ML.Trainers.FastTree.FastTreeBinaryModelParameters,Microsoft.ML.Calibrators.PlattCalibrator]]</td><td>Microsoft.ML.Data.BinaryPredictionTransformer`1[Microsoft.ML.Calibrators.CalibratedModelParametersBase`2[Microsoft.ML.Trainers.FastTree.FastTreeBinaryModelParameters,Microsoft.ML.Calibrators.PlattCalibrator]]</td></tr></tbody></table></td></tr></tbody></table></div></details></td></tr><tr><td>Exception</td><td><div class=\"dni-plaintext\"><pre>&lt;null&gt;</pre></div></td></tr></tbody></table></div></details></td></tr><tr><td>3</td><td><details class=\"dni-treeview\"><summary><span class=\"dni-code-hint\"><code>Microsoft.ML.AutoML.TrainResult`1[Microsoft.ML.Data.BinaryClassificationMetrics]</code></span></summary><div><table><thead><tr></tr></thead><tbody><tr><td>ValidationMetrics</td><td><details class=\"dni-treeview\"><summary><span class=\"dni-code-hint\"><code>Microsoft.ML.Data.BinaryClassificationMetrics</code></span></summary><div><table><thead><tr></tr></thead><tbody><tr><td>AreaUnderRocCurve</td><td>0.8726153846153846</td></tr><tr><td>Accuracy</td><td>0.8555555555555555</td></tr><tr><td>PositivePrecision</td><td>0.75</td></tr><tr><td>PositiveRecall</td><td>0.72</td></tr><tr><td>NegativePrecision</td><td>0.8939393939393939</td></tr><tr><td>NegativeRecall</td><td>0.9076923076923077</td></tr><tr><td>F1Score</td><td>0.7346938775510204</td></tr><tr><td>AreaUnderPrecisionRecallCurve</td><td>0.8271402302634467</td></tr><tr><td>ConfusionMatrix</td><td>Microsoft.ML.Data.ConfusionMatrix</td></tr></tbody></table></div></details></td></tr><tr><td>Model</td><td><details class=\"dni-treeview\"><summary><span class=\"dni-code-hint\"><code>[ Microsoft.ML.Transforms.MissingValueReplacingTransformer, Microsoft.ML.Transforms.TypeConvertingTransformer, Microsoft.ML.Transforms.Text.TextFeaturizingEstimator+Transformer, Microsoft.ML.Data.ColumnConcatenatingTransformer, Microsoft.ML.Data.BinaryPredictionTransformer`1[Microsoft.ML.Calibrators.CalibratedModelParametersBase`2[Microsoft.ML.Trainers.FastTree.FastTreeBinaryModelParameters,Microsoft.ML.Calibrators.PlattCalibrator]] ]</code></span></summary><div><table><thead><tr></tr></thead><tbody><tr><td>LastTransformer</td><td>Microsoft.ML.Data.BinaryPredictionTransformer`1[Microsoft.ML.Calibrators.CalibratedModelParametersBase`2[Microsoft.ML.Trainers.FastTree.FastTreeBinaryModelParameters,Microsoft.ML.Calibrators.PlattCalibrator]]</td></tr><tr><td><i>(values)</i></td><td><table><thead><tr><th><i>index</i></th><th><i>type</i></th><th>value</th></tr></thead><tbody><tr><td>0</td><td>Microsoft.ML.Transforms.MissingValueReplacingTransformer</td><td>Microsoft.ML.Transforms.MissingValueReplacingTransformer</td></tr><tr><td>1</td><td>Microsoft.ML.Transforms.TypeConvertingTransformer</td><td>Microsoft.ML.Transforms.TypeConvertingTransformer</td></tr><tr><td>2</td><td>Microsoft.ML.Transforms.Text.TextFeaturizingEstimator+Transformer</td><td>Microsoft.ML.Transforms.Text.TextFeaturizingEstimator+Transformer</td></tr><tr><td>3</td><td>Microsoft.ML.Data.ColumnConcatenatingTransformer</td><td>Microsoft.ML.Data.ColumnConcatenatingTransformer</td></tr><tr><td>4</td><td>Microsoft.ML.Data.BinaryPredictionTransformer`1[Microsoft.ML.Calibrators.CalibratedModelParametersBase`2[Microsoft.ML.Trainers.FastTree.FastTreeBinaryModelParameters,Microsoft.ML.Calibrators.PlattCalibrator]]</td><td>Microsoft.ML.Data.BinaryPredictionTransformer`1[Microsoft.ML.Calibrators.CalibratedModelParametersBase`2[Microsoft.ML.Trainers.FastTree.FastTreeBinaryModelParameters,Microsoft.ML.Calibrators.PlattCalibrator]]</td></tr></tbody></table></td></tr></tbody></table></div></details></td></tr><tr><td>Exception</td><td><div class=\"dni-plaintext\"><pre>&lt;null&gt;</pre></div></td></tr></tbody></table></div></details></td></tr><tr><td>4</td><td><details class=\"dni-treeview\"><summary><span class=\"dni-code-hint\"><code>Microsoft.ML.AutoML.TrainResult`1[Microsoft.ML.Data.BinaryClassificationMetrics]</code></span></summary><div><table><thead><tr></tr></thead><tbody><tr><td>ValidationMetrics</td><td><details class=\"dni-treeview\"><summary><span class=\"dni-code-hint\"><code>Microsoft.ML.Data.BinaryClassificationMetrics</code></span></summary><div><table><thead><tr></tr></thead><tbody><tr><td>AreaUnderRocCurve</td><td>0.7737364194615022</td></tr><tr><td>Accuracy</td><td>0.7647058823529411</td></tr><tr><td>PositivePrecision</td><td>0.6</td></tr><tr><td>PositiveRecall</td><td>0.5172413793103449</td></tr><tr><td>NegativePrecision</td><td>0.8181818181818182</td></tr><tr><td>NegativeRecall</td><td>0.863013698630137</td></tr><tr><td>F1Score</td><td>0.5555555555555556</td></tr><tr><td>AreaUnderPrecisionRecallCurve</td><td>0.6884485165586499</td></tr><tr><td>ConfusionMatrix</td><td>Microsoft.ML.Data.ConfusionMatrix</td></tr></tbody></table></div></details></td></tr><tr><td>Model</td><td><details class=\"dni-treeview\"><summary><span class=\"dni-code-hint\"><code>[ Microsoft.ML.Transforms.MissingValueReplacingTransformer, Microsoft.ML.Transforms.TypeConvertingTransformer, Microsoft.ML.Transforms.Text.TextFeaturizingEstimator+Transformer, Microsoft.ML.Data.ColumnConcatenatingTransformer, Microsoft.ML.Data.BinaryPredictionTransformer`1[Microsoft.ML.Calibrators.CalibratedModelParametersBase`2[Microsoft.ML.Trainers.FastTree.FastTreeBinaryModelParameters,Microsoft.ML.Calibrators.PlattCalibrator]] ]</code></span></summary><div><table><thead><tr></tr></thead><tbody><tr><td>LastTransformer</td><td>Microsoft.ML.Data.BinaryPredictionTransformer`1[Microsoft.ML.Calibrators.CalibratedModelParametersBase`2[Microsoft.ML.Trainers.FastTree.FastTreeBinaryModelParameters,Microsoft.ML.Calibrators.PlattCalibrator]]</td></tr><tr><td><i>(values)</i></td><td><table><thead><tr><th><i>index</i></th><th><i>type</i></th><th>value</th></tr></thead><tbody><tr><td>0</td><td>Microsoft.ML.Transforms.MissingValueReplacingTransformer</td><td>Microsoft.ML.Transforms.MissingValueReplacingTransformer</td></tr><tr><td>1</td><td>Microsoft.ML.Transforms.TypeConvertingTransformer</td><td>Microsoft.ML.Transforms.TypeConvertingTransformer</td></tr><tr><td>2</td><td>Microsoft.ML.Transforms.Text.TextFeaturizingEstimator+Transformer</td><td>Microsoft.ML.Transforms.Text.TextFeaturizingEstimator+Transformer</td></tr><tr><td>3</td><td>Microsoft.ML.Data.ColumnConcatenatingTransformer</td><td>Microsoft.ML.Data.ColumnConcatenatingTransformer</td></tr><tr><td>4</td><td>Microsoft.ML.Data.BinaryPredictionTransformer`1[Microsoft.ML.Calibrators.CalibratedModelParametersBase`2[Microsoft.ML.Trainers.FastTree.FastTreeBinaryModelParameters,Microsoft.ML.Calibrators.PlattCalibrator]]</td><td>Microsoft.ML.Data.BinaryPredictionTransformer`1[Microsoft.ML.Calibrators.CalibratedModelParametersBase`2[Microsoft.ML.Trainers.FastTree.FastTreeBinaryModelParameters,Microsoft.ML.Calibrators.PlattCalibrator]]</td></tr></tbody></table></td></tr></tbody></table></div></details></td></tr><tr><td>Exception</td><td><div class=\"dni-plaintext\"><pre>&lt;null&gt;</pre></div></td></tr></tbody></table></div></details></td></tr></tbody></table></td></tr><tr><td>TrainerName</td><td><div class=\"dni-plaintext\"><pre>ReplaceMissingValues=&gt;ConvertType=&gt;FeaturizeText=&gt;Concatenate=&gt;FastTreeBinary</pre></div></td></tr><tr><td>RuntimeInSeconds</td><td><div class=\"dni-plaintext\"><pre>0.74</pre></div></td></tr><tr><td>Estimator</td><td><details class=\"dni-treeview\"><summary><span class=\"dni-code-hint\"><code>Microsoft.ML.Data.EstimatorChain`1[Microsoft.ML.ITransformer]</code></span></summary><div><table><thead><tr></tr></thead><tbody><tr><td>LastEstimator</td><td><details class=\"dni-treeview\"><summary><span class=\"dni-code-hint\"><code>Microsoft.ML.Trainers.FastTree.FastTreeBinaryTrainer</code></span></summary><div><table><thead><tr></tr></thead><tbody><tr><td>Info</td><td><details class=\"dni-treeview\"><summary><span class=\"dni-code-hint\"><code>Microsoft.ML.TrainerInfo</code></span></summary><div><table><thead><tr></tr></thead><tbody><tr><td>NeedNormalization</td><td>False</td></tr><tr><td>WantCaching</td><td>False</td></tr></tbody></table></div></details></td></tr><tr><td>GroupIdColumn</td><td><details class=\"dni-treeview\"><summary><span class=\"dni-code-hint\"><code>Microsoft.ML.SchemaShape+Column</code></span></summary><div><table><thead><tr></tr></thead><tbody><tr><td>Name</td><td><div class=\"dni-plaintext\"><pre>&lt;null&gt;</pre></div></td></tr><tr><td>Kind</td><td>Scalar</td></tr><tr><td>ItemType</td><td><div class=\"dni-plaintext\"><pre>&lt;null&gt;</pre></div></td></tr><tr><td>IsKey</td><td>False</td></tr><tr><td>Annotations</td><td><div class=\"dni-plaintext\"><pre>&lt;null&gt;</pre></div></td></tr></tbody></table></div></details></td></tr><tr><td>FeatureColumn</td><td><details class=\"dni-treeview\"><summary><span class=\"dni-code-hint\"><code>Microsoft.ML.SchemaShape+Column</code></span></summary><div><table><thead><tr></tr></thead><tbody><tr><td>Name</td><td>__Features__</td></tr><tr><td>Kind</td><td>Vector</td></tr><tr><td>ItemType</td><td>Single</td></tr><tr><td>IsKey</td><td>False</td></tr><tr><td>Annotations</td><td>[  ]</td></tr></tbody></table></div></details></td></tr><tr><td>LabelColumn</td><td><details class=\"dni-treeview\"><summary><span class=\"dni-code-hint\"><code>Microsoft.ML.SchemaShape+Column</code></span></summary><div><table><thead><tr></tr></thead><tbody><tr><td>Name</td><td>Label</td></tr><tr><td>Kind</td><td>Scalar</td></tr><tr><td>ItemType</td><td>Boolean</td></tr><tr><td>IsKey</td><td>False</td></tr><tr><td>Annotations</td><td>[  ]</td></tr></tbody></table></div></details></td></tr><tr><td>WeightColumn</td><td><details class=\"dni-treeview\"><summary><span class=\"dni-code-hint\"><code>Microsoft.ML.SchemaShape+Column</code></span></summary><div><table><thead><tr></tr></thead><tbody><tr><td>Name</td><td><div class=\"dni-plaintext\"><pre>&lt;null&gt;</pre></div></td></tr><tr><td>Kind</td><td>Scalar</td></tr><tr><td>ItemType</td><td><div class=\"dni-plaintext\"><pre>&lt;null&gt;</pre></div></td></tr><tr><td>IsKey</td><td>False</td></tr><tr><td>Annotations</td><td><div class=\"dni-plaintext\"><pre>&lt;null&gt;</pre></div></td></tr></tbody></table></div></details></td></tr></tbody></table></div></details></td></tr></tbody></table></div></details></td></tr></tbody></table></div></details></td></tr><tr><td>5</td><td><details class=\"dni-treeview\"><summary><span class=\"dni-code-hint\"><code>Microsoft.ML.AutoML.CrossValidationRunDetail`1[Microsoft.ML.Data.BinaryClassificationMetrics]</code></span></summary><div><table><thead><tr></tr></thead><tbody><tr><td>Results</td><td><table><thead><tr><th><i>index</i></th><th>value</th></tr></thead><tbody><tr><td>0</td><td><details class=\"dni-treeview\"><summary><span class=\"dni-code-hint\"><code>Microsoft.ML.AutoML.TrainResult`1[Microsoft.ML.Data.BinaryClassificationMetrics]</code></span></summary><div><table><thead><tr></tr></thead><tbody><tr><td>ValidationMetrics</td><td><details class=\"dni-treeview\"><summary><span class=\"dni-code-hint\"><code>Microsoft.ML.Data.BinaryClassificationMetrics</code></span></summary><div><table><thead><tr></tr></thead><tbody><tr><td>AreaUnderRocCurve</td><td>0.8092237903225806</td></tr><tr><td>Accuracy</td><td>0.776595744680851</td></tr><tr><td>PositivePrecision</td><td>0.6896551724137931</td></tr><tr><td>PositiveRecall</td><td>0.625</td></tr><tr><td>NegativePrecision</td><td>0.8153846153846154</td></tr><tr><td>NegativeRecall</td><td>0.8548387096774194</td></tr><tr><td>F1Score</td><td>0.6557377049180328</td></tr><tr><td>AreaUnderPrecisionRecallCurve</td><td>0.774369262792984</td></tr><tr><td>ConfusionMatrix</td><td>Microsoft.ML.Data.ConfusionMatrix</td></tr></tbody></table></div></details></td></tr><tr><td>Model</td><td><details class=\"dni-treeview\"><summary><span class=\"dni-code-hint\"><code>[ Microsoft.ML.Transforms.MissingValueReplacingTransformer, Microsoft.ML.Transforms.TypeConvertingTransformer, Microsoft.ML.Transforms.Text.TextFeaturizingEstimator+Transformer, Microsoft.ML.Data.ColumnConcatenatingTransformer, Microsoft.ML.Data.BinaryPredictionTransformer`1[Microsoft.ML.Calibrators.CalibratedModelParametersBase`2[Microsoft.ML.Trainers.FastTree.FastTreeBinaryModelParameters,Microsoft.ML.Calibrators.PlattCalibrator]] ]</code></span></summary><div><table><thead><tr></tr></thead><tbody><tr><td>LastTransformer</td><td>Microsoft.ML.Data.BinaryPredictionTransformer`1[Microsoft.ML.Calibrators.CalibratedModelParametersBase`2[Microsoft.ML.Trainers.FastTree.FastTreeBinaryModelParameters,Microsoft.ML.Calibrators.PlattCalibrator]]</td></tr><tr><td><i>(values)</i></td><td><table><thead><tr><th><i>index</i></th><th><i>type</i></th><th>value</th></tr></thead><tbody><tr><td>0</td><td>Microsoft.ML.Transforms.MissingValueReplacingTransformer</td><td>Microsoft.ML.Transforms.MissingValueReplacingTransformer</td></tr><tr><td>1</td><td>Microsoft.ML.Transforms.TypeConvertingTransformer</td><td>Microsoft.ML.Transforms.TypeConvertingTransformer</td></tr><tr><td>2</td><td>Microsoft.ML.Transforms.Text.TextFeaturizingEstimator+Transformer</td><td>Microsoft.ML.Transforms.Text.TextFeaturizingEstimator+Transformer</td></tr><tr><td>3</td><td>Microsoft.ML.Data.ColumnConcatenatingTransformer</td><td>Microsoft.ML.Data.ColumnConcatenatingTransformer</td></tr><tr><td>4</td><td>Microsoft.ML.Data.BinaryPredictionTransformer`1[Microsoft.ML.Calibrators.CalibratedModelParametersBase`2[Microsoft.ML.Trainers.FastTree.FastTreeBinaryModelParameters,Microsoft.ML.Calibrators.PlattCalibrator]]</td><td>Microsoft.ML.Data.BinaryPredictionTransformer`1[Microsoft.ML.Calibrators.CalibratedModelParametersBase`2[Microsoft.ML.Trainers.FastTree.FastTreeBinaryModelParameters,Microsoft.ML.Calibrators.PlattCalibrator]]</td></tr></tbody></table></td></tr></tbody></table></div></details></td></tr><tr><td>Exception</td><td><div class=\"dni-plaintext\"><pre>&lt;null&gt;</pre></div></td></tr></tbody></table></div></details></td></tr><tr><td>1</td><td><details class=\"dni-treeview\"><summary><span class=\"dni-code-hint\"><code>Microsoft.ML.AutoML.TrainResult`1[Microsoft.ML.Data.BinaryClassificationMetrics]</code></span></summary><div><table><thead><tr></tr></thead><tbody><tr><td>ValidationMetrics</td><td><details class=\"dni-treeview\"><summary><span class=\"dni-code-hint\"><code>Microsoft.ML.Data.BinaryClassificationMetrics</code></span></summary><div><table><thead><tr></tr></thead><tbody><tr><td>AreaUnderRocCurve</td><td>0.7823800131492439</td></tr><tr><td>Accuracy</td><td>0.7777777777777778</td></tr><tr><td>PositivePrecision</td><td>0.76</td></tr><tr><td>PositiveRecall</td><td>0.48717948717948717</td></tr><tr><td>NegativePrecision</td><td>0.782608695652174</td></tr><tr><td>NegativeRecall</td><td>0.9230769230769231</td></tr><tr><td>F1Score</td><td>0.59375</td></tr><tr><td>AreaUnderPrecisionRecallCurve</td><td>0.7337430410866158</td></tr><tr><td>ConfusionMatrix</td><td>Microsoft.ML.Data.ConfusionMatrix</td></tr></tbody></table></div></details></td></tr><tr><td>Model</td><td><details class=\"dni-treeview\"><summary><span class=\"dni-code-hint\"><code>[ Microsoft.ML.Transforms.MissingValueReplacingTransformer, Microsoft.ML.Transforms.TypeConvertingTransformer, Microsoft.ML.Transforms.Text.TextFeaturizingEstimator+Transformer, Microsoft.ML.Data.ColumnConcatenatingTransformer, Microsoft.ML.Data.BinaryPredictionTransformer`1[Microsoft.ML.Calibrators.CalibratedModelParametersBase`2[Microsoft.ML.Trainers.FastTree.FastTreeBinaryModelParameters,Microsoft.ML.Calibrators.PlattCalibrator]] ]</code></span></summary><div><table><thead><tr></tr></thead><tbody><tr><td>LastTransformer</td><td>Microsoft.ML.Data.BinaryPredictionTransformer`1[Microsoft.ML.Calibrators.CalibratedModelParametersBase`2[Microsoft.ML.Trainers.FastTree.FastTreeBinaryModelParameters,Microsoft.ML.Calibrators.PlattCalibrator]]</td></tr><tr><td><i>(values)</i></td><td><table><thead><tr><th><i>index</i></th><th><i>type</i></th><th>value</th></tr></thead><tbody><tr><td>0</td><td>Microsoft.ML.Transforms.MissingValueReplacingTransformer</td><td>Microsoft.ML.Transforms.MissingValueReplacingTransformer</td></tr><tr><td>1</td><td>Microsoft.ML.Transforms.TypeConvertingTransformer</td><td>Microsoft.ML.Transforms.TypeConvertingTransformer</td></tr><tr><td>2</td><td>Microsoft.ML.Transforms.Text.TextFeaturizingEstimator+Transformer</td><td>Microsoft.ML.Transforms.Text.TextFeaturizingEstimator+Transformer</td></tr><tr><td>3</td><td>Microsoft.ML.Data.ColumnConcatenatingTransformer</td><td>Microsoft.ML.Data.ColumnConcatenatingTransformer</td></tr><tr><td>4</td><td>Microsoft.ML.Data.BinaryPredictionTransformer`1[Microsoft.ML.Calibrators.CalibratedModelParametersBase`2[Microsoft.ML.Trainers.FastTree.FastTreeBinaryModelParameters,Microsoft.ML.Calibrators.PlattCalibrator]]</td><td>Microsoft.ML.Data.BinaryPredictionTransformer`1[Microsoft.ML.Calibrators.CalibratedModelParametersBase`2[Microsoft.ML.Trainers.FastTree.FastTreeBinaryModelParameters,Microsoft.ML.Calibrators.PlattCalibrator]]</td></tr></tbody></table></td></tr></tbody></table></div></details></td></tr><tr><td>Exception</td><td><div class=\"dni-plaintext\"><pre>&lt;null&gt;</pre></div></td></tr></tbody></table></div></details></td></tr><tr><td>2</td><td><details class=\"dni-treeview\"><summary><span class=\"dni-code-hint\"><code>Microsoft.ML.AutoML.TrainResult`1[Microsoft.ML.Data.BinaryClassificationMetrics]</code></span></summary><div><table><thead><tr></tr></thead><tbody><tr><td>ValidationMetrics</td><td><details class=\"dni-treeview\"><summary><span class=\"dni-code-hint\"><code>Microsoft.ML.Data.BinaryClassificationMetrics</code></span></summary><div><table><thead><tr></tr></thead><tbody><tr><td>AreaUnderRocCurve</td><td>0.7378289473684211</td></tr><tr><td>Accuracy</td><td>0.75</td></tr><tr><td>PositivePrecision</td><td>0.4166666666666667</td></tr><tr><td>PositiveRecall</td><td>0.5</td></tr><tr><td>NegativePrecision</td><td>0.8611111111111112</td></tr><tr><td>NegativeRecall</td><td>0.8157894736842105</td></tr><tr><td>F1Score</td><td>0.45454545454545453</td></tr><tr><td>AreaUnderPrecisionRecallCurve</td><td>0.5055051322185767</td></tr><tr><td>ConfusionMatrix</td><td>Microsoft.ML.Data.ConfusionMatrix</td></tr></tbody></table></div></details></td></tr><tr><td>Model</td><td><details class=\"dni-treeview\"><summary><span class=\"dni-code-hint\"><code>[ Microsoft.ML.Transforms.MissingValueReplacingTransformer, Microsoft.ML.Transforms.TypeConvertingTransformer, Microsoft.ML.Transforms.Text.TextFeaturizingEstimator+Transformer, Microsoft.ML.Data.ColumnConcatenatingTransformer, Microsoft.ML.Data.BinaryPredictionTransformer`1[Microsoft.ML.Calibrators.CalibratedModelParametersBase`2[Microsoft.ML.Trainers.FastTree.FastTreeBinaryModelParameters,Microsoft.ML.Calibrators.PlattCalibrator]] ]</code></span></summary><div><table><thead><tr></tr></thead><tbody><tr><td>LastTransformer</td><td>Microsoft.ML.Data.BinaryPredictionTransformer`1[Microsoft.ML.Calibrators.CalibratedModelParametersBase`2[Microsoft.ML.Trainers.FastTree.FastTreeBinaryModelParameters,Microsoft.ML.Calibrators.PlattCalibrator]]</td></tr><tr><td><i>(values)</i></td><td><table><thead><tr><th><i>index</i></th><th><i>type</i></th><th>value</th></tr></thead><tbody><tr><td>0</td><td>Microsoft.ML.Transforms.MissingValueReplacingTransformer</td><td>Microsoft.ML.Transforms.MissingValueReplacingTransformer</td></tr><tr><td>1</td><td>Microsoft.ML.Transforms.TypeConvertingTransformer</td><td>Microsoft.ML.Transforms.TypeConvertingTransformer</td></tr><tr><td>2</td><td>Microsoft.ML.Transforms.Text.TextFeaturizingEstimator+Transformer</td><td>Microsoft.ML.Transforms.Text.TextFeaturizingEstimator+Transformer</td></tr><tr><td>3</td><td>Microsoft.ML.Data.ColumnConcatenatingTransformer</td><td>Microsoft.ML.Data.ColumnConcatenatingTransformer</td></tr><tr><td>4</td><td>Microsoft.ML.Data.BinaryPredictionTransformer`1[Microsoft.ML.Calibrators.CalibratedModelParametersBase`2[Microsoft.ML.Trainers.FastTree.FastTreeBinaryModelParameters,Microsoft.ML.Calibrators.PlattCalibrator]]</td><td>Microsoft.ML.Data.BinaryPredictionTransformer`1[Microsoft.ML.Calibrators.CalibratedModelParametersBase`2[Microsoft.ML.Trainers.FastTree.FastTreeBinaryModelParameters,Microsoft.ML.Calibrators.PlattCalibrator]]</td></tr></tbody></table></td></tr></tbody></table></div></details></td></tr><tr><td>Exception</td><td><div class=\"dni-plaintext\"><pre>&lt;null&gt;</pre></div></td></tr></tbody></table></div></details></td></tr><tr><td>3</td><td><details class=\"dni-treeview\"><summary><span class=\"dni-code-hint\"><code>Microsoft.ML.AutoML.TrainResult`1[Microsoft.ML.Data.BinaryClassificationMetrics]</code></span></summary><div><table><thead><tr></tr></thead><tbody><tr><td>ValidationMetrics</td><td><details class=\"dni-treeview\"><summary><span class=\"dni-code-hint\"><code>Microsoft.ML.Data.BinaryClassificationMetrics</code></span></summary><div><table><thead><tr></tr></thead><tbody><tr><td>AreaUnderRocCurve</td><td>0.8</td></tr><tr><td>Accuracy</td><td>0.8</td></tr><tr><td>PositivePrecision</td><td>0.6296296296296297</td></tr><tr><td>PositiveRecall</td><td>0.68</td></tr><tr><td>NegativePrecision</td><td>0.873015873015873</td></tr><tr><td>NegativeRecall</td><td>0.8461538461538461</td></tr><tr><td>F1Score</td><td>0.6538461538461539</td></tr><tr><td>AreaUnderPrecisionRecallCurve</td><td>0.746365445969087</td></tr><tr><td>ConfusionMatrix</td><td>Microsoft.ML.Data.ConfusionMatrix</td></tr></tbody></table></div></details></td></tr><tr><td>Model</td><td><details class=\"dni-treeview\"><summary><span class=\"dni-code-hint\"><code>[ Microsoft.ML.Transforms.MissingValueReplacingTransformer, Microsoft.ML.Transforms.TypeConvertingTransformer, Microsoft.ML.Transforms.Text.TextFeaturizingEstimator+Transformer, Microsoft.ML.Data.ColumnConcatenatingTransformer, Microsoft.ML.Data.BinaryPredictionTransformer`1[Microsoft.ML.Calibrators.CalibratedModelParametersBase`2[Microsoft.ML.Trainers.FastTree.FastTreeBinaryModelParameters,Microsoft.ML.Calibrators.PlattCalibrator]] ]</code></span></summary><div><table><thead><tr></tr></thead><tbody><tr><td>LastTransformer</td><td>Microsoft.ML.Data.BinaryPredictionTransformer`1[Microsoft.ML.Calibrators.CalibratedModelParametersBase`2[Microsoft.ML.Trainers.FastTree.FastTreeBinaryModelParameters,Microsoft.ML.Calibrators.PlattCalibrator]]</td></tr><tr><td><i>(values)</i></td><td><table><thead><tr><th><i>index</i></th><th><i>type</i></th><th>value</th></tr></thead><tbody><tr><td>0</td><td>Microsoft.ML.Transforms.MissingValueReplacingTransformer</td><td>Microsoft.ML.Transforms.MissingValueReplacingTransformer</td></tr><tr><td>1</td><td>Microsoft.ML.Transforms.TypeConvertingTransformer</td><td>Microsoft.ML.Transforms.TypeConvertingTransformer</td></tr><tr><td>2</td><td>Microsoft.ML.Transforms.Text.TextFeaturizingEstimator+Transformer</td><td>Microsoft.ML.Transforms.Text.TextFeaturizingEstimator+Transformer</td></tr><tr><td>3</td><td>Microsoft.ML.Data.ColumnConcatenatingTransformer</td><td>Microsoft.ML.Data.ColumnConcatenatingTransformer</td></tr><tr><td>4</td><td>Microsoft.ML.Data.BinaryPredictionTransformer`1[Microsoft.ML.Calibrators.CalibratedModelParametersBase`2[Microsoft.ML.Trainers.FastTree.FastTreeBinaryModelParameters,Microsoft.ML.Calibrators.PlattCalibrator]]</td><td>Microsoft.ML.Data.BinaryPredictionTransformer`1[Microsoft.ML.Calibrators.CalibratedModelParametersBase`2[Microsoft.ML.Trainers.FastTree.FastTreeBinaryModelParameters,Microsoft.ML.Calibrators.PlattCalibrator]]</td></tr></tbody></table></td></tr></tbody></table></div></details></td></tr><tr><td>Exception</td><td><div class=\"dni-plaintext\"><pre>&lt;null&gt;</pre></div></td></tr></tbody></table></div></details></td></tr><tr><td>4</td><td><details class=\"dni-treeview\"><summary><span class=\"dni-code-hint\"><code>Microsoft.ML.AutoML.TrainResult`1[Microsoft.ML.Data.BinaryClassificationMetrics]</code></span></summary><div><table><thead><tr></tr></thead><tbody><tr><td>ValidationMetrics</td><td><details class=\"dni-treeview\"><summary><span class=\"dni-code-hint\"><code>Microsoft.ML.Data.BinaryClassificationMetrics</code></span></summary><div><table><thead><tr></tr></thead><tbody><tr><td>AreaUnderRocCurve</td><td>0.757203589985829</td></tr><tr><td>Accuracy</td><td>0.7745098039215687</td></tr><tr><td>PositivePrecision</td><td>0.625</td></tr><tr><td>PositiveRecall</td><td>0.5172413793103449</td></tr><tr><td>NegativePrecision</td><td>0.8205128205128205</td></tr><tr><td>NegativeRecall</td><td>0.8767123287671232</td></tr><tr><td>F1Score</td><td>0.5660377358490567</td></tr><tr><td>AreaUnderPrecisionRecallCurve</td><td>0.6164114537437541</td></tr><tr><td>ConfusionMatrix</td><td>Microsoft.ML.Data.ConfusionMatrix</td></tr></tbody></table></div></details></td></tr><tr><td>Model</td><td><details class=\"dni-treeview\"><summary><span class=\"dni-code-hint\"><code>[ Microsoft.ML.Transforms.MissingValueReplacingTransformer, Microsoft.ML.Transforms.TypeConvertingTransformer, Microsoft.ML.Transforms.Text.TextFeaturizingEstimator+Transformer, Microsoft.ML.Data.ColumnConcatenatingTransformer, Microsoft.ML.Data.BinaryPredictionTransformer`1[Microsoft.ML.Calibrators.CalibratedModelParametersBase`2[Microsoft.ML.Trainers.FastTree.FastTreeBinaryModelParameters,Microsoft.ML.Calibrators.PlattCalibrator]] ]</code></span></summary><div><table><thead><tr></tr></thead><tbody><tr><td>LastTransformer</td><td>Microsoft.ML.Data.BinaryPredictionTransformer`1[Microsoft.ML.Calibrators.CalibratedModelParametersBase`2[Microsoft.ML.Trainers.FastTree.FastTreeBinaryModelParameters,Microsoft.ML.Calibrators.PlattCalibrator]]</td></tr><tr><td><i>(values)</i></td><td><table><thead><tr><th><i>index</i></th><th><i>type</i></th><th>value</th></tr></thead><tbody><tr><td>0</td><td>Microsoft.ML.Transforms.MissingValueReplacingTransformer</td><td>Microsoft.ML.Transforms.MissingValueReplacingTransformer</td></tr><tr><td>1</td><td>Microsoft.ML.Transforms.TypeConvertingTransformer</td><td>Microsoft.ML.Transforms.TypeConvertingTransformer</td></tr><tr><td>2</td><td>Microsoft.ML.Transforms.Text.TextFeaturizingEstimator+Transformer</td><td>Microsoft.ML.Transforms.Text.TextFeaturizingEstimator+Transformer</td></tr><tr><td>3</td><td>Microsoft.ML.Data.ColumnConcatenatingTransformer</td><td>Microsoft.ML.Data.ColumnConcatenatingTransformer</td></tr><tr><td>4</td><td>Microsoft.ML.Data.BinaryPredictionTransformer`1[Microsoft.ML.Calibrators.CalibratedModelParametersBase`2[Microsoft.ML.Trainers.FastTree.FastTreeBinaryModelParameters,Microsoft.ML.Calibrators.PlattCalibrator]]</td><td>Microsoft.ML.Data.BinaryPredictionTransformer`1[Microsoft.ML.Calibrators.CalibratedModelParametersBase`2[Microsoft.ML.Trainers.FastTree.FastTreeBinaryModelParameters,Microsoft.ML.Calibrators.PlattCalibrator]]</td></tr></tbody></table></td></tr></tbody></table></div></details></td></tr><tr><td>Exception</td><td><div class=\"dni-plaintext\"><pre>&lt;null&gt;</pre></div></td></tr></tbody></table></div></details></td></tr></tbody></table></td></tr><tr><td>TrainerName</td><td><div class=\"dni-plaintext\"><pre>ReplaceMissingValues=&gt;ConvertType=&gt;FeaturizeText=&gt;Concatenate=&gt;FastTreeBinary</pre></div></td></tr><tr><td>RuntimeInSeconds</td><td><div class=\"dni-plaintext\"><pre>0.738</pre></div></td></tr><tr><td>Estimator</td><td><details class=\"dni-treeview\"><summary><span class=\"dni-code-hint\"><code>Microsoft.ML.Data.EstimatorChain`1[Microsoft.ML.ITransformer]</code></span></summary><div><table><thead><tr></tr></thead><tbody><tr><td>LastEstimator</td><td><details class=\"dni-treeview\"><summary><span class=\"dni-code-hint\"><code>Microsoft.ML.Trainers.FastTree.FastTreeBinaryTrainer</code></span></summary><div><table><thead><tr></tr></thead><tbody><tr><td>Info</td><td><details class=\"dni-treeview\"><summary><span class=\"dni-code-hint\"><code>Microsoft.ML.TrainerInfo</code></span></summary><div><table><thead><tr></tr></thead><tbody><tr><td>NeedNormalization</td><td>False</td></tr><tr><td>WantCaching</td><td>False</td></tr></tbody></table></div></details></td></tr><tr><td>GroupIdColumn</td><td><details class=\"dni-treeview\"><summary><span class=\"dni-code-hint\"><code>Microsoft.ML.SchemaShape+Column</code></span></summary><div><table><thead><tr></tr></thead><tbody><tr><td>Name</td><td><div class=\"dni-plaintext\"><pre>&lt;null&gt;</pre></div></td></tr><tr><td>Kind</td><td>Scalar</td></tr><tr><td>ItemType</td><td><div class=\"dni-plaintext\"><pre>&lt;null&gt;</pre></div></td></tr><tr><td>IsKey</td><td>False</td></tr><tr><td>Annotations</td><td><div class=\"dni-plaintext\"><pre>&lt;null&gt;</pre></div></td></tr></tbody></table></div></details></td></tr><tr><td>FeatureColumn</td><td><details class=\"dni-treeview\"><summary><span class=\"dni-code-hint\"><code>Microsoft.ML.SchemaShape+Column</code></span></summary><div><table><thead><tr></tr></thead><tbody><tr><td>Name</td><td>__Features__</td></tr><tr><td>Kind</td><td>Vector</td></tr><tr><td>ItemType</td><td>Single</td></tr><tr><td>IsKey</td><td>False</td></tr><tr><td>Annotations</td><td>[  ]</td></tr></tbody></table></div></details></td></tr><tr><td>LabelColumn</td><td><details class=\"dni-treeview\"><summary><span class=\"dni-code-hint\"><code>Microsoft.ML.SchemaShape+Column</code></span></summary><div><table><thead><tr></tr></thead><tbody><tr><td>Name</td><td>Label</td></tr><tr><td>Kind</td><td>Scalar</td></tr><tr><td>ItemType</td><td>Boolean</td></tr><tr><td>IsKey</td><td>False</td></tr><tr><td>Annotations</td><td>[  ]</td></tr></tbody></table></div></details></td></tr><tr><td>WeightColumn</td><td><details class=\"dni-treeview\"><summary><span class=\"dni-code-hint\"><code>Microsoft.ML.SchemaShape+Column</code></span></summary><div><table><thead><tr></tr></thead><tbody><tr><td>Name</td><td><div class=\"dni-plaintext\"><pre>&lt;null&gt;</pre></div></td></tr><tr><td>Kind</td><td>Scalar</td></tr><tr><td>ItemType</td><td><div class=\"dni-plaintext\"><pre>&lt;null&gt;</pre></div></td></tr><tr><td>IsKey</td><td>False</td></tr><tr><td>Annotations</td><td><div class=\"dni-plaintext\"><pre>&lt;null&gt;</pre></div></td></tr></tbody></table></div></details></td></tr></tbody></table></div></details></td></tr></tbody></table></div></details></td></tr></tbody></table></div></details></td></tr><tr><td>6</td><td><details class=\"dni-treeview\"><summary><span class=\"dni-code-hint\"><code>Microsoft.ML.AutoML.CrossValidationRunDetail`1[Microsoft.ML.Data.BinaryClassificationMetrics]</code></span></summary><div><table><thead><tr></tr></thead><tbody><tr><td>Results</td><td><table><thead><tr><th><i>index</i></th><th>value</th></tr></thead><tbody><tr><td>0</td><td><details class=\"dni-treeview\"><summary><span class=\"dni-code-hint\"><code>Microsoft.ML.AutoML.TrainResult`1[Microsoft.ML.Data.BinaryClassificationMetrics]</code></span></summary><div><table><thead><tr></tr></thead><tbody><tr><td>ValidationMetrics</td><td><details class=\"dni-treeview\"><summary><span class=\"dni-code-hint\"><code>Microsoft.ML.Data.BinaryClassificationMetrics</code></span></summary><div><table><thead><tr></tr></thead><tbody><tr><td>AreaUnderRocCurve</td><td>0.8125</td></tr><tr><td>Accuracy</td><td>0.8085106382978723</td></tr><tr><td>PositivePrecision</td><td>0.8888888888888888</td></tr><tr><td>PositiveRecall</td><td>0.5</td></tr><tr><td>NegativePrecision</td><td>0.7894736842105263</td></tr><tr><td>NegativeRecall</td><td>0.967741935483871</td></tr><tr><td>F1Score</td><td>0.64</td></tr><tr><td>AreaUnderPrecisionRecallCurve</td><td>0.7799562897541906</td></tr><tr><td>ConfusionMatrix</td><td>Microsoft.ML.Data.ConfusionMatrix</td></tr></tbody></table></div></details></td></tr><tr><td>Model</td><td><details class=\"dni-treeview\"><summary><span class=\"dni-code-hint\"><code>[ Microsoft.ML.Transforms.MissingValueReplacingTransformer, Microsoft.ML.Transforms.TypeConvertingTransformer, Microsoft.ML.Transforms.Text.TextFeaturizingEstimator+Transformer, Microsoft.ML.Data.ColumnConcatenatingTransformer, Microsoft.ML.Data.BinaryPredictionTransformer`1[Microsoft.ML.Trainers.FastTree.FastForestBinaryModelParameters] ]</code></span></summary><div><table><thead><tr></tr></thead><tbody><tr><td>LastTransformer</td><td>Microsoft.ML.Data.BinaryPredictionTransformer`1[Microsoft.ML.Trainers.FastTree.FastForestBinaryModelParameters]</td></tr><tr><td><i>(values)</i></td><td><table><thead><tr><th><i>index</i></th><th><i>type</i></th><th>value</th></tr></thead><tbody><tr><td>0</td><td>Microsoft.ML.Transforms.MissingValueReplacingTransformer</td><td>Microsoft.ML.Transforms.MissingValueReplacingTransformer</td></tr><tr><td>1</td><td>Microsoft.ML.Transforms.TypeConvertingTransformer</td><td>Microsoft.ML.Transforms.TypeConvertingTransformer</td></tr><tr><td>2</td><td>Microsoft.ML.Transforms.Text.TextFeaturizingEstimator+Transformer</td><td>Microsoft.ML.Transforms.Text.TextFeaturizingEstimator+Transformer</td></tr><tr><td>3</td><td>Microsoft.ML.Data.ColumnConcatenatingTransformer</td><td>Microsoft.ML.Data.ColumnConcatenatingTransformer</td></tr><tr><td>4</td><td>Microsoft.ML.Data.BinaryPredictionTransformer`1[Microsoft.ML.Trainers.FastTree.FastForestBinaryModelParameters]</td><td>Microsoft.ML.Data.BinaryPredictionTransformer`1[Microsoft.ML.Trainers.FastTree.FastForestBinaryModelParameters]</td></tr></tbody></table></td></tr></tbody></table></div></details></td></tr><tr><td>Exception</td><td><div class=\"dni-plaintext\"><pre>&lt;null&gt;</pre></div></td></tr></tbody></table></div></details></td></tr><tr><td>1</td><td><details class=\"dni-treeview\"><summary><span class=\"dni-code-hint\"><code>Microsoft.ML.AutoML.TrainResult`1[Microsoft.ML.Data.BinaryClassificationMetrics]</code></span></summary><div><table><thead><tr></tr></thead><tbody><tr><td>ValidationMetrics</td><td><details class=\"dni-treeview\"><summary><span class=\"dni-code-hint\"><code>Microsoft.ML.Data.BinaryClassificationMetrics</code></span></summary><div><table><thead><tr></tr></thead><tbody><tr><td>AreaUnderRocCurve</td><td>0.7363576594345825</td></tr><tr><td>Accuracy</td><td>0.7863247863247863</td></tr><tr><td>PositivePrecision</td><td>1</td></tr><tr><td>PositiveRecall</td><td>0.358974358974359</td></tr><tr><td>NegativePrecision</td><td>0.7572815533980582</td></tr><tr><td>NegativeRecall</td><td>1</td></tr><tr><td>F1Score</td><td>0.5283018867924528</td></tr><tr><td>AreaUnderPrecisionRecallCurve</td><td>0.6476288504089392</td></tr><tr><td>ConfusionMatrix</td><td>Microsoft.ML.Data.ConfusionMatrix</td></tr></tbody></table></div></details></td></tr><tr><td>Model</td><td><details class=\"dni-treeview\"><summary><span class=\"dni-code-hint\"><code>[ Microsoft.ML.Transforms.MissingValueReplacingTransformer, Microsoft.ML.Transforms.TypeConvertingTransformer, Microsoft.ML.Transforms.Text.TextFeaturizingEstimator+Transformer, Microsoft.ML.Data.ColumnConcatenatingTransformer, Microsoft.ML.Data.BinaryPredictionTransformer`1[Microsoft.ML.Trainers.FastTree.FastForestBinaryModelParameters] ]</code></span></summary><div><table><thead><tr></tr></thead><tbody><tr><td>LastTransformer</td><td>Microsoft.ML.Data.BinaryPredictionTransformer`1[Microsoft.ML.Trainers.FastTree.FastForestBinaryModelParameters]</td></tr><tr><td><i>(values)</i></td><td><table><thead><tr><th><i>index</i></th><th><i>type</i></th><th>value</th></tr></thead><tbody><tr><td>0</td><td>Microsoft.ML.Transforms.MissingValueReplacingTransformer</td><td>Microsoft.ML.Transforms.MissingValueReplacingTransformer</td></tr><tr><td>1</td><td>Microsoft.ML.Transforms.TypeConvertingTransformer</td><td>Microsoft.ML.Transforms.TypeConvertingTransformer</td></tr><tr><td>2</td><td>Microsoft.ML.Transforms.Text.TextFeaturizingEstimator+Transformer</td><td>Microsoft.ML.Transforms.Text.TextFeaturizingEstimator+Transformer</td></tr><tr><td>3</td><td>Microsoft.ML.Data.ColumnConcatenatingTransformer</td><td>Microsoft.ML.Data.ColumnConcatenatingTransformer</td></tr><tr><td>4</td><td>Microsoft.ML.Data.BinaryPredictionTransformer`1[Microsoft.ML.Trainers.FastTree.FastForestBinaryModelParameters]</td><td>Microsoft.ML.Data.BinaryPredictionTransformer`1[Microsoft.ML.Trainers.FastTree.FastForestBinaryModelParameters]</td></tr></tbody></table></td></tr></tbody></table></div></details></td></tr><tr><td>Exception</td><td><div class=\"dni-plaintext\"><pre>&lt;null&gt;</pre></div></td></tr></tbody></table></div></details></td></tr><tr><td>2</td><td><details class=\"dni-treeview\"><summary><span class=\"dni-code-hint\"><code>Microsoft.ML.AutoML.TrainResult`1[Microsoft.ML.Data.BinaryClassificationMetrics]</code></span></summary><div><table><thead><tr></tr></thead><tbody><tr><td>ValidationMetrics</td><td><details class=\"dni-treeview\"><summary><span class=\"dni-code-hint\"><code>Microsoft.ML.Data.BinaryClassificationMetrics</code></span></summary><div><table><thead><tr></tr></thead><tbody><tr><td>AreaUnderRocCurve</td><td>0.7322368421052632</td></tr><tr><td>Accuracy</td><td>0.8333333333333334</td></tr><tr><td>PositivePrecision</td><td>0.6666666666666666</td></tr><tr><td>PositiveRecall</td><td>0.4</td></tr><tr><td>NegativePrecision</td><td>0.8571428571428571</td></tr><tr><td>NegativeRecall</td><td>0.9473684210526315</td></tr><tr><td>F1Score</td><td>0.5</td></tr><tr><td>AreaUnderPrecisionRecallCurve</td><td>0.48500074825295314</td></tr><tr><td>ConfusionMatrix</td><td>Microsoft.ML.Data.ConfusionMatrix</td></tr></tbody></table></div></details></td></tr><tr><td>Model</td><td><details class=\"dni-treeview\"><summary><span class=\"dni-code-hint\"><code>[ Microsoft.ML.Transforms.MissingValueReplacingTransformer, Microsoft.ML.Transforms.TypeConvertingTransformer, Microsoft.ML.Transforms.Text.TextFeaturizingEstimator+Transformer, Microsoft.ML.Data.ColumnConcatenatingTransformer, Microsoft.ML.Data.BinaryPredictionTransformer`1[Microsoft.ML.Trainers.FastTree.FastForestBinaryModelParameters] ]</code></span></summary><div><table><thead><tr></tr></thead><tbody><tr><td>LastTransformer</td><td>Microsoft.ML.Data.BinaryPredictionTransformer`1[Microsoft.ML.Trainers.FastTree.FastForestBinaryModelParameters]</td></tr><tr><td><i>(values)</i></td><td><table><thead><tr><th><i>index</i></th><th><i>type</i></th><th>value</th></tr></thead><tbody><tr><td>0</td><td>Microsoft.ML.Transforms.MissingValueReplacingTransformer</td><td>Microsoft.ML.Transforms.MissingValueReplacingTransformer</td></tr><tr><td>1</td><td>Microsoft.ML.Transforms.TypeConvertingTransformer</td><td>Microsoft.ML.Transforms.TypeConvertingTransformer</td></tr><tr><td>2</td><td>Microsoft.ML.Transforms.Text.TextFeaturizingEstimator+Transformer</td><td>Microsoft.ML.Transforms.Text.TextFeaturizingEstimator+Transformer</td></tr><tr><td>3</td><td>Microsoft.ML.Data.ColumnConcatenatingTransformer</td><td>Microsoft.ML.Data.ColumnConcatenatingTransformer</td></tr><tr><td>4</td><td>Microsoft.ML.Data.BinaryPredictionTransformer`1[Microsoft.ML.Trainers.FastTree.FastForestBinaryModelParameters]</td><td>Microsoft.ML.Data.BinaryPredictionTransformer`1[Microsoft.ML.Trainers.FastTree.FastForestBinaryModelParameters]</td></tr></tbody></table></td></tr></tbody></table></div></details></td></tr><tr><td>Exception</td><td><div class=\"dni-plaintext\"><pre>&lt;null&gt;</pre></div></td></tr></tbody></table></div></details></td></tr><tr><td>3</td><td><details class=\"dni-treeview\"><summary><span class=\"dni-code-hint\"><code>Microsoft.ML.AutoML.TrainResult`1[Microsoft.ML.Data.BinaryClassificationMetrics]</code></span></summary><div><table><thead><tr></tr></thead><tbody><tr><td>ValidationMetrics</td><td><details class=\"dni-treeview\"><summary><span class=\"dni-code-hint\"><code>Microsoft.ML.Data.BinaryClassificationMetrics</code></span></summary><div><table><thead><tr></tr></thead><tbody><tr><td>AreaUnderRocCurve</td><td>0.8095384615384615</td></tr><tr><td>Accuracy</td><td>0.8555555555555555</td></tr><tr><td>PositivePrecision</td><td>0.9285714285714286</td></tr><tr><td>PositiveRecall</td><td>0.52</td></tr><tr><td>NegativePrecision</td><td>0.8421052631578947</td></tr><tr><td>NegativeRecall</td><td>0.9846153846153847</td></tr><tr><td>F1Score</td><td>0.6666666666666666</td></tr><tr><td>AreaUnderPrecisionRecallCurve</td><td>0.7425835086264564</td></tr><tr><td>ConfusionMatrix</td><td>Microsoft.ML.Data.ConfusionMatrix</td></tr></tbody></table></div></details></td></tr><tr><td>Model</td><td><details class=\"dni-treeview\"><summary><span class=\"dni-code-hint\"><code>[ Microsoft.ML.Transforms.MissingValueReplacingTransformer, Microsoft.ML.Transforms.TypeConvertingTransformer, Microsoft.ML.Transforms.Text.TextFeaturizingEstimator+Transformer, Microsoft.ML.Data.ColumnConcatenatingTransformer, Microsoft.ML.Data.BinaryPredictionTransformer`1[Microsoft.ML.Trainers.FastTree.FastForestBinaryModelParameters] ]</code></span></summary><div><table><thead><tr></tr></thead><tbody><tr><td>LastTransformer</td><td>Microsoft.ML.Data.BinaryPredictionTransformer`1[Microsoft.ML.Trainers.FastTree.FastForestBinaryModelParameters]</td></tr><tr><td><i>(values)</i></td><td><table><thead><tr><th><i>index</i></th><th><i>type</i></th><th>value</th></tr></thead><tbody><tr><td>0</td><td>Microsoft.ML.Transforms.MissingValueReplacingTransformer</td><td>Microsoft.ML.Transforms.MissingValueReplacingTransformer</td></tr><tr><td>1</td><td>Microsoft.ML.Transforms.TypeConvertingTransformer</td><td>Microsoft.ML.Transforms.TypeConvertingTransformer</td></tr><tr><td>2</td><td>Microsoft.ML.Transforms.Text.TextFeaturizingEstimator+Transformer</td><td>Microsoft.ML.Transforms.Text.TextFeaturizingEstimator+Transformer</td></tr><tr><td>3</td><td>Microsoft.ML.Data.ColumnConcatenatingTransformer</td><td>Microsoft.ML.Data.ColumnConcatenatingTransformer</td></tr><tr><td>4</td><td>Microsoft.ML.Data.BinaryPredictionTransformer`1[Microsoft.ML.Trainers.FastTree.FastForestBinaryModelParameters]</td><td>Microsoft.ML.Data.BinaryPredictionTransformer`1[Microsoft.ML.Trainers.FastTree.FastForestBinaryModelParameters]</td></tr></tbody></table></td></tr></tbody></table></div></details></td></tr><tr><td>Exception</td><td><div class=\"dni-plaintext\"><pre>&lt;null&gt;</pre></div></td></tr></tbody></table></div></details></td></tr><tr><td>4</td><td><details class=\"dni-treeview\"><summary><span class=\"dni-code-hint\"><code>Microsoft.ML.AutoML.TrainResult`1[Microsoft.ML.Data.BinaryClassificationMetrics]</code></span></summary><div><table><thead><tr></tr></thead><tbody><tr><td>ValidationMetrics</td><td><details class=\"dni-treeview\"><summary><span class=\"dni-code-hint\"><code>Microsoft.ML.Data.BinaryClassificationMetrics</code></span></summary><div><table><thead><tr></tr></thead><tbody><tr><td>AreaUnderRocCurve</td><td>0.7652338214454416</td></tr><tr><td>Accuracy</td><td>0.8235294117647058</td></tr><tr><td>PositivePrecision</td><td>0.8666666666666667</td></tr><tr><td>PositiveRecall</td><td>0.4482758620689655</td></tr><tr><td>NegativePrecision</td><td>0.8160919540229885</td></tr><tr><td>NegativeRecall</td><td>0.9726027397260274</td></tr><tr><td>F1Score</td><td>0.5909090909090909</td></tr><tr><td>AreaUnderPrecisionRecallCurve</td><td>0.6982583779201785</td></tr><tr><td>ConfusionMatrix</td><td>Microsoft.ML.Data.ConfusionMatrix</td></tr></tbody></table></div></details></td></tr><tr><td>Model</td><td><details class=\"dni-treeview\"><summary><span class=\"dni-code-hint\"><code>[ Microsoft.ML.Transforms.MissingValueReplacingTransformer, Microsoft.ML.Transforms.TypeConvertingTransformer, Microsoft.ML.Transforms.Text.TextFeaturizingEstimator+Transformer, Microsoft.ML.Data.ColumnConcatenatingTransformer, Microsoft.ML.Data.BinaryPredictionTransformer`1[Microsoft.ML.Trainers.FastTree.FastForestBinaryModelParameters] ]</code></span></summary><div><table><thead><tr></tr></thead><tbody><tr><td>LastTransformer</td><td>Microsoft.ML.Data.BinaryPredictionTransformer`1[Microsoft.ML.Trainers.FastTree.FastForestBinaryModelParameters]</td></tr><tr><td><i>(values)</i></td><td><table><thead><tr><th><i>index</i></th><th><i>type</i></th><th>value</th></tr></thead><tbody><tr><td>0</td><td>Microsoft.ML.Transforms.MissingValueReplacingTransformer</td><td>Microsoft.ML.Transforms.MissingValueReplacingTransformer</td></tr><tr><td>1</td><td>Microsoft.ML.Transforms.TypeConvertingTransformer</td><td>Microsoft.ML.Transforms.TypeConvertingTransformer</td></tr><tr><td>2</td><td>Microsoft.ML.Transforms.Text.TextFeaturizingEstimator+Transformer</td><td>Microsoft.ML.Transforms.Text.TextFeaturizingEstimator+Transformer</td></tr><tr><td>3</td><td>Microsoft.ML.Data.ColumnConcatenatingTransformer</td><td>Microsoft.ML.Data.ColumnConcatenatingTransformer</td></tr><tr><td>4</td><td>Microsoft.ML.Data.BinaryPredictionTransformer`1[Microsoft.ML.Trainers.FastTree.FastForestBinaryModelParameters]</td><td>Microsoft.ML.Data.BinaryPredictionTransformer`1[Microsoft.ML.Trainers.FastTree.FastForestBinaryModelParameters]</td></tr></tbody></table></td></tr></tbody></table></div></details></td></tr><tr><td>Exception</td><td><div class=\"dni-plaintext\"><pre>&lt;null&gt;</pre></div></td></tr></tbody></table></div></details></td></tr></tbody></table></td></tr><tr><td>TrainerName</td><td><div class=\"dni-plaintext\"><pre>ReplaceMissingValues=&gt;ConvertType=&gt;FeaturizeText=&gt;Concatenate=&gt;FastForestBinary</pre></div></td></tr><tr><td>RuntimeInSeconds</td><td><div class=\"dni-plaintext\"><pre>0.693</pre></div></td></tr><tr><td>Estimator</td><td><details class=\"dni-treeview\"><summary><span class=\"dni-code-hint\"><code>Microsoft.ML.Data.EstimatorChain`1[Microsoft.ML.ITransformer]</code></span></summary><div><table><thead><tr></tr></thead><tbody><tr><td>LastEstimator</td><td><details class=\"dni-treeview\"><summary><span class=\"dni-code-hint\"><code>Microsoft.ML.Trainers.FastTree.FastForestBinaryTrainer</code></span></summary><div><table><thead><tr></tr></thead><tbody><tr><td>Info</td><td><details class=\"dni-treeview\"><summary><span class=\"dni-code-hint\"><code>Microsoft.ML.TrainerInfo</code></span></summary><div><table><thead><tr></tr></thead><tbody><tr><td>NeedNormalization</td><td>False</td></tr><tr><td>WantCaching</td><td>False</td></tr></tbody></table></div></details></td></tr><tr><td>GroupIdColumn</td><td><details class=\"dni-treeview\"><summary><span class=\"dni-code-hint\"><code>Microsoft.ML.SchemaShape+Column</code></span></summary><div><table><thead><tr></tr></thead><tbody><tr><td>Name</td><td><div class=\"dni-plaintext\"><pre>&lt;null&gt;</pre></div></td></tr><tr><td>Kind</td><td>Scalar</td></tr><tr><td>ItemType</td><td><div class=\"dni-plaintext\"><pre>&lt;null&gt;</pre></div></td></tr><tr><td>IsKey</td><td>False</td></tr><tr><td>Annotations</td><td><div class=\"dni-plaintext\"><pre>&lt;null&gt;</pre></div></td></tr></tbody></table></div></details></td></tr><tr><td>FeatureColumn</td><td><details class=\"dni-treeview\"><summary><span class=\"dni-code-hint\"><code>Microsoft.ML.SchemaShape+Column</code></span></summary><div><table><thead><tr></tr></thead><tbody><tr><td>Name</td><td>__Features__</td></tr><tr><td>Kind</td><td>Vector</td></tr><tr><td>ItemType</td><td>Single</td></tr><tr><td>IsKey</td><td>False</td></tr><tr><td>Annotations</td><td>[  ]</td></tr></tbody></table></div></details></td></tr><tr><td>LabelColumn</td><td><details class=\"dni-treeview\"><summary><span class=\"dni-code-hint\"><code>Microsoft.ML.SchemaShape+Column</code></span></summary><div><table><thead><tr></tr></thead><tbody><tr><td>Name</td><td>Label</td></tr><tr><td>Kind</td><td>Scalar</td></tr><tr><td>ItemType</td><td>Boolean</td></tr><tr><td>IsKey</td><td>False</td></tr><tr><td>Annotations</td><td>[  ]</td></tr></tbody></table></div></details></td></tr><tr><td>WeightColumn</td><td><details class=\"dni-treeview\"><summary><span class=\"dni-code-hint\"><code>Microsoft.ML.SchemaShape+Column</code></span></summary><div><table><thead><tr></tr></thead><tbody><tr><td>Name</td><td><div class=\"dni-plaintext\"><pre>&lt;null&gt;</pre></div></td></tr><tr><td>Kind</td><td>Scalar</td></tr><tr><td>ItemType</td><td><div class=\"dni-plaintext\"><pre>&lt;null&gt;</pre></div></td></tr><tr><td>IsKey</td><td>False</td></tr><tr><td>Annotations</td><td><div class=\"dni-plaintext\"><pre>&lt;null&gt;</pre></div></td></tr></tbody></table></div></details></td></tr></tbody></table></div></details></td></tr></tbody></table></div></details></td></tr></tbody></table></div></details></td></tr><tr><td>7</td><td><details class=\"dni-treeview\"><summary><span class=\"dni-code-hint\"><code>Microsoft.ML.AutoML.CrossValidationRunDetail`1[Microsoft.ML.Data.BinaryClassificationMetrics]</code></span></summary><div><table><thead><tr></tr></thead><tbody><tr><td>Results</td><td><table><thead><tr><th><i>index</i></th><th>value</th></tr></thead><tbody><tr><td>0</td><td><details class=\"dni-treeview\"><summary><span class=\"dni-code-hint\"><code>Microsoft.ML.AutoML.TrainResult`1[Microsoft.ML.Data.BinaryClassificationMetrics]</code></span></summary><div><table><thead><tr></tr></thead><tbody><tr><td>ValidationMetrics</td><td><details class=\"dni-treeview\"><summary><span class=\"dni-code-hint\"><code>Microsoft.ML.Data.BinaryClassificationMetrics</code></span></summary><div><table><thead><tr></tr></thead><tbody><tr><td>AreaUnderRocCurve</td><td>0.5942540322580645</td></tr><tr><td>Accuracy</td><td>0.7021276595744681</td></tr><tr><td>PositivePrecision</td><td>0.6111111111111112</td></tr><tr><td>PositiveRecall</td><td>0.34375</td></tr><tr><td>NegativePrecision</td><td>0.7236842105263158</td></tr><tr><td>NegativeRecall</td><td>0.8870967741935484</td></tr><tr><td>F1Score</td><td>0.44000000000000006</td></tr><tr><td>AreaUnderPrecisionRecallCurve</td><td>0.5408441922198028</td></tr><tr><td>ConfusionMatrix</td><td>Microsoft.ML.Data.ConfusionMatrix</td></tr></tbody></table></div></details></td></tr><tr><td>Model</td><td><details class=\"dni-treeview\"><summary><span class=\"dni-code-hint\"><code>[ Microsoft.ML.Transforms.MissingValueReplacingTransformer, Microsoft.ML.Transforms.TypeConvertingTransformer, Microsoft.ML.Transforms.Text.TextFeaturizingEstimator+Transformer, Microsoft.ML.Data.ColumnConcatenatingTransformer, Microsoft.ML.Data.BinaryPredictionTransformer`1[Microsoft.ML.Calibrators.CalibratedModelParametersBase`2[Microsoft.ML.Trainers.LinearBinaryModelParameters,Microsoft.ML.Calibrators.PlattCalibrator]] ]</code></span></summary><div><table><thead><tr></tr></thead><tbody><tr><td>LastTransformer</td><td>Microsoft.ML.Data.BinaryPredictionTransformer`1[Microsoft.ML.Calibrators.CalibratedModelParametersBase`2[Microsoft.ML.Trainers.LinearBinaryModelParameters,Microsoft.ML.Calibrators.PlattCalibrator]]</td></tr><tr><td><i>(values)</i></td><td><table><thead><tr><th><i>index</i></th><th><i>type</i></th><th>value</th></tr></thead><tbody><tr><td>0</td><td>Microsoft.ML.Transforms.MissingValueReplacingTransformer</td><td>Microsoft.ML.Transforms.MissingValueReplacingTransformer</td></tr><tr><td>1</td><td>Microsoft.ML.Transforms.TypeConvertingTransformer</td><td>Microsoft.ML.Transforms.TypeConvertingTransformer</td></tr><tr><td>2</td><td>Microsoft.ML.Transforms.Text.TextFeaturizingEstimator+Transformer</td><td>Microsoft.ML.Transforms.Text.TextFeaturizingEstimator+Transformer</td></tr><tr><td>3</td><td>Microsoft.ML.Data.ColumnConcatenatingTransformer</td><td>Microsoft.ML.Data.ColumnConcatenatingTransformer</td></tr><tr><td>4</td><td>Microsoft.ML.Data.BinaryPredictionTransformer`1[Microsoft.ML.Calibrators.CalibratedModelParametersBase`2[Microsoft.ML.Trainers.LinearBinaryModelParameters,Microsoft.ML.Calibrators.PlattCalibrator]]</td><td>Microsoft.ML.Data.BinaryPredictionTransformer`1[Microsoft.ML.Calibrators.CalibratedModelParametersBase`2[Microsoft.ML.Trainers.LinearBinaryModelParameters,Microsoft.ML.Calibrators.PlattCalibrator]]</td></tr></tbody></table></td></tr></tbody></table></div></details></td></tr><tr><td>Exception</td><td><div class=\"dni-plaintext\"><pre>&lt;null&gt;</pre></div></td></tr></tbody></table></div></details></td></tr><tr><td>1</td><td><details class=\"dni-treeview\"><summary><span class=\"dni-code-hint\"><code>Microsoft.ML.AutoML.TrainResult`1[Microsoft.ML.Data.BinaryClassificationMetrics]</code></span></summary><div><table><thead><tr></tr></thead><tbody><tr><td>ValidationMetrics</td><td><details class=\"dni-treeview\"><summary><span class=\"dni-code-hint\"><code>Microsoft.ML.Data.BinaryClassificationMetrics</code></span></summary><div><table><thead><tr></tr></thead><tbody><tr><td>AreaUnderRocCurve</td><td>0.5138067061143984</td></tr><tr><td>Accuracy</td><td>0.6666666666666666</td></tr><tr><td>PositivePrecision</td><td>0.5</td></tr><tr><td>PositiveRecall</td><td>0.02564102564102564</td></tr><tr><td>NegativePrecision</td><td>0.6695652173913044</td></tr><tr><td>NegativeRecall</td><td>0.9871794871794872</td></tr><tr><td>F1Score</td><td>0.048780487804878044</td></tr><tr><td>AreaUnderPrecisionRecallCurve</td><td>0.3720879586367884</td></tr><tr><td>ConfusionMatrix</td><td>Microsoft.ML.Data.ConfusionMatrix</td></tr></tbody></table></div></details></td></tr><tr><td>Model</td><td><details class=\"dni-treeview\"><summary><span class=\"dni-code-hint\"><code>[ Microsoft.ML.Transforms.MissingValueReplacingTransformer, Microsoft.ML.Transforms.TypeConvertingTransformer, Microsoft.ML.Transforms.Text.TextFeaturizingEstimator+Transformer, Microsoft.ML.Data.ColumnConcatenatingTransformer, Microsoft.ML.Data.BinaryPredictionTransformer`1[Microsoft.ML.Calibrators.CalibratedModelParametersBase`2[Microsoft.ML.Trainers.LinearBinaryModelParameters,Microsoft.ML.Calibrators.PlattCalibrator]] ]</code></span></summary><div><table><thead><tr></tr></thead><tbody><tr><td>LastTransformer</td><td>Microsoft.ML.Data.BinaryPredictionTransformer`1[Microsoft.ML.Calibrators.CalibratedModelParametersBase`2[Microsoft.ML.Trainers.LinearBinaryModelParameters,Microsoft.ML.Calibrators.PlattCalibrator]]</td></tr><tr><td><i>(values)</i></td><td><table><thead><tr><th><i>index</i></th><th><i>type</i></th><th>value</th></tr></thead><tbody><tr><td>0</td><td>Microsoft.ML.Transforms.MissingValueReplacingTransformer</td><td>Microsoft.ML.Transforms.MissingValueReplacingTransformer</td></tr><tr><td>1</td><td>Microsoft.ML.Transforms.TypeConvertingTransformer</td><td>Microsoft.ML.Transforms.TypeConvertingTransformer</td></tr><tr><td>2</td><td>Microsoft.ML.Transforms.Text.TextFeaturizingEstimator+Transformer</td><td>Microsoft.ML.Transforms.Text.TextFeaturizingEstimator+Transformer</td></tr><tr><td>3</td><td>Microsoft.ML.Data.ColumnConcatenatingTransformer</td><td>Microsoft.ML.Data.ColumnConcatenatingTransformer</td></tr><tr><td>4</td><td>Microsoft.ML.Data.BinaryPredictionTransformer`1[Microsoft.ML.Calibrators.CalibratedModelParametersBase`2[Microsoft.ML.Trainers.LinearBinaryModelParameters,Microsoft.ML.Calibrators.PlattCalibrator]]</td><td>Microsoft.ML.Data.BinaryPredictionTransformer`1[Microsoft.ML.Calibrators.CalibratedModelParametersBase`2[Microsoft.ML.Trainers.LinearBinaryModelParameters,Microsoft.ML.Calibrators.PlattCalibrator]]</td></tr></tbody></table></td></tr></tbody></table></div></details></td></tr><tr><td>Exception</td><td><div class=\"dni-plaintext\"><pre>&lt;null&gt;</pre></div></td></tr></tbody></table></div></details></td></tr><tr><td>2</td><td><details class=\"dni-treeview\"><summary><span class=\"dni-code-hint\"><code>Microsoft.ML.AutoML.TrainResult`1[Microsoft.ML.Data.BinaryClassificationMetrics]</code></span></summary><div><table><thead><tr></tr></thead><tbody><tr><td>ValidationMetrics</td><td><details class=\"dni-treeview\"><summary><span class=\"dni-code-hint\"><code>Microsoft.ML.Data.BinaryClassificationMetrics</code></span></summary><div><table><thead><tr></tr></thead><tbody><tr><td>AreaUnderRocCurve</td><td>0.7763157894736842</td></tr><tr><td>Accuracy</td><td>0.8645833333333334</td></tr><tr><td>PositivePrecision</td><td>0.8888888888888888</td></tr><tr><td>PositiveRecall</td><td>0.4</td></tr><tr><td>NegativePrecision</td><td>0.8620689655172413</td></tr><tr><td>NegativeRecall</td><td>0.9868421052631579</td></tr><tr><td>F1Score</td><td>0.5517241379310346</td></tr><tr><td>AreaUnderPrecisionRecallCurve</td><td>0.6188379622097036</td></tr><tr><td>ConfusionMatrix</td><td>Microsoft.ML.Data.ConfusionMatrix</td></tr></tbody></table></div></details></td></tr><tr><td>Model</td><td><details class=\"dni-treeview\"><summary><span class=\"dni-code-hint\"><code>[ Microsoft.ML.Transforms.MissingValueReplacingTransformer, Microsoft.ML.Transforms.TypeConvertingTransformer, Microsoft.ML.Transforms.Text.TextFeaturizingEstimator+Transformer, Microsoft.ML.Data.ColumnConcatenatingTransformer, Microsoft.ML.Data.BinaryPredictionTransformer`1[Microsoft.ML.Calibrators.CalibratedModelParametersBase`2[Microsoft.ML.Trainers.LinearBinaryModelParameters,Microsoft.ML.Calibrators.PlattCalibrator]] ]</code></span></summary><div><table><thead><tr></tr></thead><tbody><tr><td>LastTransformer</td><td>Microsoft.ML.Data.BinaryPredictionTransformer`1[Microsoft.ML.Calibrators.CalibratedModelParametersBase`2[Microsoft.ML.Trainers.LinearBinaryModelParameters,Microsoft.ML.Calibrators.PlattCalibrator]]</td></tr><tr><td><i>(values)</i></td><td><table><thead><tr><th><i>index</i></th><th><i>type</i></th><th>value</th></tr></thead><tbody><tr><td>0</td><td>Microsoft.ML.Transforms.MissingValueReplacingTransformer</td><td>Microsoft.ML.Transforms.MissingValueReplacingTransformer</td></tr><tr><td>1</td><td>Microsoft.ML.Transforms.TypeConvertingTransformer</td><td>Microsoft.ML.Transforms.TypeConvertingTransformer</td></tr><tr><td>2</td><td>Microsoft.ML.Transforms.Text.TextFeaturizingEstimator+Transformer</td><td>Microsoft.ML.Transforms.Text.TextFeaturizingEstimator+Transformer</td></tr><tr><td>3</td><td>Microsoft.ML.Data.ColumnConcatenatingTransformer</td><td>Microsoft.ML.Data.ColumnConcatenatingTransformer</td></tr><tr><td>4</td><td>Microsoft.ML.Data.BinaryPredictionTransformer`1[Microsoft.ML.Calibrators.CalibratedModelParametersBase`2[Microsoft.ML.Trainers.LinearBinaryModelParameters,Microsoft.ML.Calibrators.PlattCalibrator]]</td><td>Microsoft.ML.Data.BinaryPredictionTransformer`1[Microsoft.ML.Calibrators.CalibratedModelParametersBase`2[Microsoft.ML.Trainers.LinearBinaryModelParameters,Microsoft.ML.Calibrators.PlattCalibrator]]</td></tr></tbody></table></td></tr></tbody></table></div></details></td></tr><tr><td>Exception</td><td><div class=\"dni-plaintext\"><pre>&lt;null&gt;</pre></div></td></tr></tbody></table></div></details></td></tr><tr><td>3</td><td><details class=\"dni-treeview\"><summary><span class=\"dni-code-hint\"><code>Microsoft.ML.AutoML.TrainResult`1[Microsoft.ML.Data.BinaryClassificationMetrics]</code></span></summary><div><table><thead><tr></tr></thead><tbody><tr><td>ValidationMetrics</td><td><details class=\"dni-treeview\"><summary><span class=\"dni-code-hint\"><code>Microsoft.ML.Data.BinaryClassificationMetrics</code></span></summary><div><table><thead><tr></tr></thead><tbody><tr><td>AreaUnderRocCurve</td><td>0.7575384615384615</td></tr><tr><td>Accuracy</td><td>0.7888888888888889</td></tr><tr><td>PositivePrecision</td><td>0.875</td></tr><tr><td>PositiveRecall</td><td>0.28</td></tr><tr><td>NegativePrecision</td><td>0.7804878048780488</td></tr><tr><td>NegativeRecall</td><td>0.9846153846153847</td></tr><tr><td>F1Score</td><td>0.42424242424242425</td></tr><tr><td>AreaUnderPrecisionRecallCurve</td><td>0.5634596273028812</td></tr><tr><td>ConfusionMatrix</td><td>Microsoft.ML.Data.ConfusionMatrix</td></tr></tbody></table></div></details></td></tr><tr><td>Model</td><td><details class=\"dni-treeview\"><summary><span class=\"dni-code-hint\"><code>[ Microsoft.ML.Transforms.MissingValueReplacingTransformer, Microsoft.ML.Transforms.TypeConvertingTransformer, Microsoft.ML.Transforms.Text.TextFeaturizingEstimator+Transformer, Microsoft.ML.Data.ColumnConcatenatingTransformer, Microsoft.ML.Data.BinaryPredictionTransformer`1[Microsoft.ML.Calibrators.CalibratedModelParametersBase`2[Microsoft.ML.Trainers.LinearBinaryModelParameters,Microsoft.ML.Calibrators.PlattCalibrator]] ]</code></span></summary><div><table><thead><tr></tr></thead><tbody><tr><td>LastTransformer</td><td>Microsoft.ML.Data.BinaryPredictionTransformer`1[Microsoft.ML.Calibrators.CalibratedModelParametersBase`2[Microsoft.ML.Trainers.LinearBinaryModelParameters,Microsoft.ML.Calibrators.PlattCalibrator]]</td></tr><tr><td><i>(values)</i></td><td><table><thead><tr><th><i>index</i></th><th><i>type</i></th><th>value</th></tr></thead><tbody><tr><td>0</td><td>Microsoft.ML.Transforms.MissingValueReplacingTransformer</td><td>Microsoft.ML.Transforms.MissingValueReplacingTransformer</td></tr><tr><td>1</td><td>Microsoft.ML.Transforms.TypeConvertingTransformer</td><td>Microsoft.ML.Transforms.TypeConvertingTransformer</td></tr><tr><td>2</td><td>Microsoft.ML.Transforms.Text.TextFeaturizingEstimator+Transformer</td><td>Microsoft.ML.Transforms.Text.TextFeaturizingEstimator+Transformer</td></tr><tr><td>3</td><td>Microsoft.ML.Data.ColumnConcatenatingTransformer</td><td>Microsoft.ML.Data.ColumnConcatenatingTransformer</td></tr><tr><td>4</td><td>Microsoft.ML.Data.BinaryPredictionTransformer`1[Microsoft.ML.Calibrators.CalibratedModelParametersBase`2[Microsoft.ML.Trainers.LinearBinaryModelParameters,Microsoft.ML.Calibrators.PlattCalibrator]]</td><td>Microsoft.ML.Data.BinaryPredictionTransformer`1[Microsoft.ML.Calibrators.CalibratedModelParametersBase`2[Microsoft.ML.Trainers.LinearBinaryModelParameters,Microsoft.ML.Calibrators.PlattCalibrator]]</td></tr></tbody></table></td></tr></tbody></table></div></details></td></tr><tr><td>Exception</td><td><div class=\"dni-plaintext\"><pre>&lt;null&gt;</pre></div></td></tr></tbody></table></div></details></td></tr><tr><td>4</td><td><details class=\"dni-treeview\"><summary><span class=\"dni-code-hint\"><code>Microsoft.ML.AutoML.TrainResult`1[Microsoft.ML.Data.BinaryClassificationMetrics]</code></span></summary><div><table><thead><tr></tr></thead><tbody><tr><td>ValidationMetrics</td><td><details class=\"dni-treeview\"><summary><span class=\"dni-code-hint\"><code>Microsoft.ML.Data.BinaryClassificationMetrics</code></span></summary><div><table><thead><tr></tr></thead><tbody><tr><td>AreaUnderRocCurve</td><td>0.805384978743505</td></tr><tr><td>Accuracy</td><td>0.7941176470588235</td></tr><tr><td>PositivePrecision</td><td>0.7857142857142857</td></tr><tr><td>PositiveRecall</td><td>0.3793103448275862</td></tr><tr><td>NegativePrecision</td><td>0.7954545454545454</td></tr><tr><td>NegativeRecall</td><td>0.958904109589041</td></tr><tr><td>F1Score</td><td>0.5116279069767441</td></tr><tr><td>AreaUnderPrecisionRecallCurve</td><td>0.6886693847298446</td></tr><tr><td>ConfusionMatrix</td><td>Microsoft.ML.Data.ConfusionMatrix</td></tr></tbody></table></div></details></td></tr><tr><td>Model</td><td><details class=\"dni-treeview\"><summary><span class=\"dni-code-hint\"><code>[ Microsoft.ML.Transforms.MissingValueReplacingTransformer, Microsoft.ML.Transforms.TypeConvertingTransformer, Microsoft.ML.Transforms.Text.TextFeaturizingEstimator+Transformer, Microsoft.ML.Data.ColumnConcatenatingTransformer, Microsoft.ML.Data.BinaryPredictionTransformer`1[Microsoft.ML.Calibrators.CalibratedModelParametersBase`2[Microsoft.ML.Trainers.LinearBinaryModelParameters,Microsoft.ML.Calibrators.PlattCalibrator]] ]</code></span></summary><div><table><thead><tr></tr></thead><tbody><tr><td>LastTransformer</td><td>Microsoft.ML.Data.BinaryPredictionTransformer`1[Microsoft.ML.Calibrators.CalibratedModelParametersBase`2[Microsoft.ML.Trainers.LinearBinaryModelParameters,Microsoft.ML.Calibrators.PlattCalibrator]]</td></tr><tr><td><i>(values)</i></td><td><table><thead><tr><th><i>index</i></th><th><i>type</i></th><th>value</th></tr></thead><tbody><tr><td>0</td><td>Microsoft.ML.Transforms.MissingValueReplacingTransformer</td><td>Microsoft.ML.Transforms.MissingValueReplacingTransformer</td></tr><tr><td>1</td><td>Microsoft.ML.Transforms.TypeConvertingTransformer</td><td>Microsoft.ML.Transforms.TypeConvertingTransformer</td></tr><tr><td>2</td><td>Microsoft.ML.Transforms.Text.TextFeaturizingEstimator+Transformer</td><td>Microsoft.ML.Transforms.Text.TextFeaturizingEstimator+Transformer</td></tr><tr><td>3</td><td>Microsoft.ML.Data.ColumnConcatenatingTransformer</td><td>Microsoft.ML.Data.ColumnConcatenatingTransformer</td></tr><tr><td>4</td><td>Microsoft.ML.Data.BinaryPredictionTransformer`1[Microsoft.ML.Calibrators.CalibratedModelParametersBase`2[Microsoft.ML.Trainers.LinearBinaryModelParameters,Microsoft.ML.Calibrators.PlattCalibrator]]</td><td>Microsoft.ML.Data.BinaryPredictionTransformer`1[Microsoft.ML.Calibrators.CalibratedModelParametersBase`2[Microsoft.ML.Trainers.LinearBinaryModelParameters,Microsoft.ML.Calibrators.PlattCalibrator]]</td></tr></tbody></table></td></tr></tbody></table></div></details></td></tr><tr><td>Exception</td><td><div class=\"dni-plaintext\"><pre>&lt;null&gt;</pre></div></td></tr></tbody></table></div></details></td></tr></tbody></table></td></tr><tr><td>TrainerName</td><td><div class=\"dni-plaintext\"><pre>ReplaceMissingValues=&gt;ConvertType=&gt;FeaturizeText=&gt;Concatenate=&gt;LbfgsLogisticRegressionBinary</pre></div></td></tr><tr><td>RuntimeInSeconds</td><td><div class=\"dni-plaintext\"><pre>0.513</pre></div></td></tr><tr><td>Estimator</td><td><details class=\"dni-treeview\"><summary><span class=\"dni-code-hint\"><code>Microsoft.ML.Data.EstimatorChain`1[Microsoft.ML.ITransformer]</code></span></summary><div><table><thead><tr></tr></thead><tbody><tr><td>LastEstimator</td><td><details class=\"dni-treeview\"><summary><span class=\"dni-code-hint\"><code>Microsoft.ML.Trainers.LbfgsLogisticRegressionBinaryTrainer</code></span></summary><div><table><thead><tr></tr></thead><tbody><tr><td>Info</td><td><details class=\"dni-treeview\"><summary><span class=\"dni-code-hint\"><code>Microsoft.ML.TrainerInfo</code></span></summary><div><table><thead><tr></tr></thead><tbody><tr><td>NeedNormalization</td><td>True</td></tr><tr><td>WantCaching</td><td>True</td></tr></tbody></table></div></details></td></tr><tr><td>FeatureColumn</td><td><details class=\"dni-treeview\"><summary><span class=\"dni-code-hint\"><code>Microsoft.ML.SchemaShape+Column</code></span></summary><div><table><thead><tr></tr></thead><tbody><tr><td>Name</td><td>__Features__</td></tr><tr><td>Kind</td><td>Vector</td></tr><tr><td>ItemType</td><td>Single</td></tr><tr><td>IsKey</td><td>False</td></tr><tr><td>Annotations</td><td>[  ]</td></tr></tbody></table></div></details></td></tr><tr><td>LabelColumn</td><td><details class=\"dni-treeview\"><summary><span class=\"dni-code-hint\"><code>Microsoft.ML.SchemaShape+Column</code></span></summary><div><table><thead><tr></tr></thead><tbody><tr><td>Name</td><td>Label</td></tr><tr><td>Kind</td><td>Scalar</td></tr><tr><td>ItemType</td><td>Boolean</td></tr><tr><td>IsKey</td><td>False</td></tr><tr><td>Annotations</td><td>[  ]</td></tr></tbody></table></div></details></td></tr><tr><td>WeightColumn</td><td><details class=\"dni-treeview\"><summary><span class=\"dni-code-hint\"><code>Microsoft.ML.SchemaShape+Column</code></span></summary><div><table><thead><tr></tr></thead><tbody><tr><td>Name</td><td><div class=\"dni-plaintext\"><pre>&lt;null&gt;</pre></div></td></tr><tr><td>Kind</td><td>Scalar</td></tr><tr><td>ItemType</td><td><div class=\"dni-plaintext\"><pre>&lt;null&gt;</pre></div></td></tr><tr><td>IsKey</td><td>False</td></tr><tr><td>Annotations</td><td><div class=\"dni-plaintext\"><pre>&lt;null&gt;</pre></div></td></tr></tbody></table></div></details></td></tr></tbody></table></div></details></td></tr></tbody></table></div></details></td></tr></tbody></table></div></details></td></tr><tr><td>8</td><td><details class=\"dni-treeview\"><summary><span class=\"dni-code-hint\"><code>Microsoft.ML.AutoML.CrossValidationRunDetail`1[Microsoft.ML.Data.BinaryClassificationMetrics]</code></span></summary><div><table><thead><tr></tr></thead><tbody><tr><td>Results</td><td><table><thead><tr><th><i>index</i></th><th>value</th></tr></thead><tbody><tr><td>0</td><td><details class=\"dni-treeview\"><summary><span class=\"dni-code-hint\"><code>Microsoft.ML.AutoML.TrainResult`1[Microsoft.ML.Data.BinaryClassificationMetrics]</code></span></summary><div><table><thead><tr></tr></thead><tbody><tr><td>ValidationMetrics</td><td><details class=\"dni-treeview\"><summary><span class=\"dni-code-hint\"><code>Microsoft.ML.Data.BinaryClassificationMetrics</code></span></summary><div><table><thead><tr></tr></thead><tbody><tr><td>AreaUnderRocCurve</td><td>0.8061995967741935</td></tr><tr><td>Accuracy</td><td>0.8191489361702128</td></tr><tr><td>PositivePrecision</td><td>0.8571428571428571</td></tr><tr><td>PositiveRecall</td><td>0.5625</td></tr><tr><td>NegativePrecision</td><td>0.8082191780821918</td></tr><tr><td>NegativeRecall</td><td>0.9516129032258065</td></tr><tr><td>F1Score</td><td>0.6792452830188678</td></tr><tr><td>AreaUnderPrecisionRecallCurve</td><td>0.7841131656495345</td></tr><tr><td>ConfusionMatrix</td><td>Microsoft.ML.Data.ConfusionMatrix</td></tr></tbody></table></div></details></td></tr><tr><td>Model</td><td><details class=\"dni-treeview\"><summary><span class=\"dni-code-hint\"><code>[ Microsoft.ML.Transforms.MissingValueReplacingTransformer, Microsoft.ML.Transforms.TypeConvertingTransformer, Microsoft.ML.Transforms.Text.TextFeaturizingEstimator+Transformer, Microsoft.ML.Data.ColumnConcatenatingTransformer, Microsoft.ML.Data.BinaryPredictionTransformer`1[Microsoft.ML.Calibrators.CalibratedModelParametersBase`2[Microsoft.ML.Trainers.LightGbm.LightGbmBinaryModelParameters,Microsoft.ML.Calibrators.PlattCalibrator]] ]</code></span></summary><div><table><thead><tr></tr></thead><tbody><tr><td>LastTransformer</td><td>Microsoft.ML.Data.BinaryPredictionTransformer`1[Microsoft.ML.Calibrators.CalibratedModelParametersBase`2[Microsoft.ML.Trainers.LightGbm.LightGbmBinaryModelParameters,Microsoft.ML.Calibrators.PlattCalibrator]]</td></tr><tr><td><i>(values)</i></td><td><table><thead><tr><th><i>index</i></th><th><i>type</i></th><th>value</th></tr></thead><tbody><tr><td>0</td><td>Microsoft.ML.Transforms.MissingValueReplacingTransformer</td><td>Microsoft.ML.Transforms.MissingValueReplacingTransformer</td></tr><tr><td>1</td><td>Microsoft.ML.Transforms.TypeConvertingTransformer</td><td>Microsoft.ML.Transforms.TypeConvertingTransformer</td></tr><tr><td>2</td><td>Microsoft.ML.Transforms.Text.TextFeaturizingEstimator+Transformer</td><td>Microsoft.ML.Transforms.Text.TextFeaturizingEstimator+Transformer</td></tr><tr><td>3</td><td>Microsoft.ML.Data.ColumnConcatenatingTransformer</td><td>Microsoft.ML.Data.ColumnConcatenatingTransformer</td></tr><tr><td>4</td><td>Microsoft.ML.Data.BinaryPredictionTransformer`1[Microsoft.ML.Calibrators.CalibratedModelParametersBase`2[Microsoft.ML.Trainers.LightGbm.LightGbmBinaryModelParameters,Microsoft.ML.Calibrators.PlattCalibrator]]</td><td>Microsoft.ML.Data.BinaryPredictionTransformer`1[Microsoft.ML.Calibrators.CalibratedModelParametersBase`2[Microsoft.ML.Trainers.LightGbm.LightGbmBinaryModelParameters,Microsoft.ML.Calibrators.PlattCalibrator]]</td></tr></tbody></table></td></tr></tbody></table></div></details></td></tr><tr><td>Exception</td><td><div class=\"dni-plaintext\"><pre>&lt;null&gt;</pre></div></td></tr></tbody></table></div></details></td></tr><tr><td>1</td><td><details class=\"dni-treeview\"><summary><span class=\"dni-code-hint\"><code>Microsoft.ML.AutoML.TrainResult`1[Microsoft.ML.Data.BinaryClassificationMetrics]</code></span></summary><div><table><thead><tr></tr></thead><tbody><tr><td>ValidationMetrics</td><td><details class=\"dni-treeview\"><summary><span class=\"dni-code-hint\"><code>Microsoft.ML.Data.BinaryClassificationMetrics</code></span></summary><div><table><thead><tr></tr></thead><tbody><tr><td>AreaUnderRocCurve</td><td>0.7716962524654832</td></tr><tr><td>Accuracy</td><td>0.7863247863247863</td></tr><tr><td>PositivePrecision</td><td>0.9375</td></tr><tr><td>PositiveRecall</td><td>0.38461538461538464</td></tr><tr><td>NegativePrecision</td><td>0.7623762376237624</td></tr><tr><td>NegativeRecall</td><td>0.9871794871794872</td></tr><tr><td>F1Score</td><td>0.5454545454545454</td></tr><tr><td>AreaUnderPrecisionRecallCurve</td><td>0.7060994923974938</td></tr><tr><td>ConfusionMatrix</td><td>Microsoft.ML.Data.ConfusionMatrix</td></tr></tbody></table></div></details></td></tr><tr><td>Model</td><td><details class=\"dni-treeview\"><summary><span class=\"dni-code-hint\"><code>[ Microsoft.ML.Transforms.MissingValueReplacingTransformer, Microsoft.ML.Transforms.TypeConvertingTransformer, Microsoft.ML.Transforms.Text.TextFeaturizingEstimator+Transformer, Microsoft.ML.Data.ColumnConcatenatingTransformer, Microsoft.ML.Data.BinaryPredictionTransformer`1[Microsoft.ML.Calibrators.CalibratedModelParametersBase`2[Microsoft.ML.Trainers.LightGbm.LightGbmBinaryModelParameters,Microsoft.ML.Calibrators.PlattCalibrator]] ]</code></span></summary><div><table><thead><tr></tr></thead><tbody><tr><td>LastTransformer</td><td>Microsoft.ML.Data.BinaryPredictionTransformer`1[Microsoft.ML.Calibrators.CalibratedModelParametersBase`2[Microsoft.ML.Trainers.LightGbm.LightGbmBinaryModelParameters,Microsoft.ML.Calibrators.PlattCalibrator]]</td></tr><tr><td><i>(values)</i></td><td><table><thead><tr><th><i>index</i></th><th><i>type</i></th><th>value</th></tr></thead><tbody><tr><td>0</td><td>Microsoft.ML.Transforms.MissingValueReplacingTransformer</td><td>Microsoft.ML.Transforms.MissingValueReplacingTransformer</td></tr><tr><td>1</td><td>Microsoft.ML.Transforms.TypeConvertingTransformer</td><td>Microsoft.ML.Transforms.TypeConvertingTransformer</td></tr><tr><td>2</td><td>Microsoft.ML.Transforms.Text.TextFeaturizingEstimator+Transformer</td><td>Microsoft.ML.Transforms.Text.TextFeaturizingEstimator+Transformer</td></tr><tr><td>3</td><td>Microsoft.ML.Data.ColumnConcatenatingTransformer</td><td>Microsoft.ML.Data.ColumnConcatenatingTransformer</td></tr><tr><td>4</td><td>Microsoft.ML.Data.BinaryPredictionTransformer`1[Microsoft.ML.Calibrators.CalibratedModelParametersBase`2[Microsoft.ML.Trainers.LightGbm.LightGbmBinaryModelParameters,Microsoft.ML.Calibrators.PlattCalibrator]]</td><td>Microsoft.ML.Data.BinaryPredictionTransformer`1[Microsoft.ML.Calibrators.CalibratedModelParametersBase`2[Microsoft.ML.Trainers.LightGbm.LightGbmBinaryModelParameters,Microsoft.ML.Calibrators.PlattCalibrator]]</td></tr></tbody></table></td></tr></tbody></table></div></details></td></tr><tr><td>Exception</td><td><div class=\"dni-plaintext\"><pre>&lt;null&gt;</pre></div></td></tr></tbody></table></div></details></td></tr><tr><td>2</td><td><details class=\"dni-treeview\"><summary><span class=\"dni-code-hint\"><code>Microsoft.ML.AutoML.TrainResult`1[Microsoft.ML.Data.BinaryClassificationMetrics]</code></span></summary><div><table><thead><tr></tr></thead><tbody><tr><td>ValidationMetrics</td><td><details class=\"dni-treeview\"><summary><span class=\"dni-code-hint\"><code>Microsoft.ML.Data.BinaryClassificationMetrics</code></span></summary><div><table><thead><tr></tr></thead><tbody><tr><td>AreaUnderRocCurve</td><td>0.8273026315789473</td></tr><tr><td>Accuracy</td><td>0.8541666666666666</td></tr><tr><td>PositivePrecision</td><td>0.75</td></tr><tr><td>PositiveRecall</td><td>0.45</td></tr><tr><td>NegativePrecision</td><td>0.8690476190476191</td></tr><tr><td>NegativeRecall</td><td>0.9605263157894737</td></tr><tr><td>F1Score</td><td>0.5625000000000001</td></tr><tr><td>AreaUnderPrecisionRecallCurve</td><td>0.6027763479121168</td></tr><tr><td>ConfusionMatrix</td><td>Microsoft.ML.Data.ConfusionMatrix</td></tr></tbody></table></div></details></td></tr><tr><td>Model</td><td><details class=\"dni-treeview\"><summary><span class=\"dni-code-hint\"><code>[ Microsoft.ML.Transforms.MissingValueReplacingTransformer, Microsoft.ML.Transforms.TypeConvertingTransformer, Microsoft.ML.Transforms.Text.TextFeaturizingEstimator+Transformer, Microsoft.ML.Data.ColumnConcatenatingTransformer, Microsoft.ML.Data.BinaryPredictionTransformer`1[Microsoft.ML.Calibrators.CalibratedModelParametersBase`2[Microsoft.ML.Trainers.LightGbm.LightGbmBinaryModelParameters,Microsoft.ML.Calibrators.PlattCalibrator]] ]</code></span></summary><div><table><thead><tr></tr></thead><tbody><tr><td>LastTransformer</td><td>Microsoft.ML.Data.BinaryPredictionTransformer`1[Microsoft.ML.Calibrators.CalibratedModelParametersBase`2[Microsoft.ML.Trainers.LightGbm.LightGbmBinaryModelParameters,Microsoft.ML.Calibrators.PlattCalibrator]]</td></tr><tr><td><i>(values)</i></td><td><table><thead><tr><th><i>index</i></th><th><i>type</i></th><th>value</th></tr></thead><tbody><tr><td>0</td><td>Microsoft.ML.Transforms.MissingValueReplacingTransformer</td><td>Microsoft.ML.Transforms.MissingValueReplacingTransformer</td></tr><tr><td>1</td><td>Microsoft.ML.Transforms.TypeConvertingTransformer</td><td>Microsoft.ML.Transforms.TypeConvertingTransformer</td></tr><tr><td>2</td><td>Microsoft.ML.Transforms.Text.TextFeaturizingEstimator+Transformer</td><td>Microsoft.ML.Transforms.Text.TextFeaturizingEstimator+Transformer</td></tr><tr><td>3</td><td>Microsoft.ML.Data.ColumnConcatenatingTransformer</td><td>Microsoft.ML.Data.ColumnConcatenatingTransformer</td></tr><tr><td>4</td><td>Microsoft.ML.Data.BinaryPredictionTransformer`1[Microsoft.ML.Calibrators.CalibratedModelParametersBase`2[Microsoft.ML.Trainers.LightGbm.LightGbmBinaryModelParameters,Microsoft.ML.Calibrators.PlattCalibrator]]</td><td>Microsoft.ML.Data.BinaryPredictionTransformer`1[Microsoft.ML.Calibrators.CalibratedModelParametersBase`2[Microsoft.ML.Trainers.LightGbm.LightGbmBinaryModelParameters,Microsoft.ML.Calibrators.PlattCalibrator]]</td></tr></tbody></table></td></tr></tbody></table></div></details></td></tr><tr><td>Exception</td><td><div class=\"dni-plaintext\"><pre>&lt;null&gt;</pre></div></td></tr></tbody></table></div></details></td></tr><tr><td>3</td><td><details class=\"dni-treeview\"><summary><span class=\"dni-code-hint\"><code>Microsoft.ML.AutoML.TrainResult`1[Microsoft.ML.Data.BinaryClassificationMetrics]</code></span></summary><div><table><thead><tr></tr></thead><tbody><tr><td>ValidationMetrics</td><td><details class=\"dni-treeview\"><summary><span class=\"dni-code-hint\"><code>Microsoft.ML.Data.BinaryClassificationMetrics</code></span></summary><div><table><thead><tr></tr></thead><tbody><tr><td>AreaUnderRocCurve</td><td>0.8673846153846154</td></tr><tr><td>Accuracy</td><td>0.8555555555555555</td></tr><tr><td>PositivePrecision</td><td>0.8333333333333334</td></tr><tr><td>PositiveRecall</td><td>0.6</td></tr><tr><td>NegativePrecision</td><td>0.8611111111111112</td></tr><tr><td>NegativeRecall</td><td>0.9538461538461539</td></tr><tr><td>F1Score</td><td>0.6976744186046512</td></tr><tr><td>AreaUnderPrecisionRecallCurve</td><td>0.8045800295631743</td></tr><tr><td>ConfusionMatrix</td><td>Microsoft.ML.Data.ConfusionMatrix</td></tr></tbody></table></div></details></td></tr><tr><td>Model</td><td><details class=\"dni-treeview\"><summary><span class=\"dni-code-hint\"><code>[ Microsoft.ML.Transforms.MissingValueReplacingTransformer, Microsoft.ML.Transforms.TypeConvertingTransformer, Microsoft.ML.Transforms.Text.TextFeaturizingEstimator+Transformer, Microsoft.ML.Data.ColumnConcatenatingTransformer, Microsoft.ML.Data.BinaryPredictionTransformer`1[Microsoft.ML.Calibrators.CalibratedModelParametersBase`2[Microsoft.ML.Trainers.LightGbm.LightGbmBinaryModelParameters,Microsoft.ML.Calibrators.PlattCalibrator]] ]</code></span></summary><div><table><thead><tr></tr></thead><tbody><tr><td>LastTransformer</td><td>Microsoft.ML.Data.BinaryPredictionTransformer`1[Microsoft.ML.Calibrators.CalibratedModelParametersBase`2[Microsoft.ML.Trainers.LightGbm.LightGbmBinaryModelParameters,Microsoft.ML.Calibrators.PlattCalibrator]]</td></tr><tr><td><i>(values)</i></td><td><table><thead><tr><th><i>index</i></th><th><i>type</i></th><th>value</th></tr></thead><tbody><tr><td>0</td><td>Microsoft.ML.Transforms.MissingValueReplacingTransformer</td><td>Microsoft.ML.Transforms.MissingValueReplacingTransformer</td></tr><tr><td>1</td><td>Microsoft.ML.Transforms.TypeConvertingTransformer</td><td>Microsoft.ML.Transforms.TypeConvertingTransformer</td></tr><tr><td>2</td><td>Microsoft.ML.Transforms.Text.TextFeaturizingEstimator+Transformer</td><td>Microsoft.ML.Transforms.Text.TextFeaturizingEstimator+Transformer</td></tr><tr><td>3</td><td>Microsoft.ML.Data.ColumnConcatenatingTransformer</td><td>Microsoft.ML.Data.ColumnConcatenatingTransformer</td></tr><tr><td>4</td><td>Microsoft.ML.Data.BinaryPredictionTransformer`1[Microsoft.ML.Calibrators.CalibratedModelParametersBase`2[Microsoft.ML.Trainers.LightGbm.LightGbmBinaryModelParameters,Microsoft.ML.Calibrators.PlattCalibrator]]</td><td>Microsoft.ML.Data.BinaryPredictionTransformer`1[Microsoft.ML.Calibrators.CalibratedModelParametersBase`2[Microsoft.ML.Trainers.LightGbm.LightGbmBinaryModelParameters,Microsoft.ML.Calibrators.PlattCalibrator]]</td></tr></tbody></table></td></tr></tbody></table></div></details></td></tr><tr><td>Exception</td><td><div class=\"dni-plaintext\"><pre>&lt;null&gt;</pre></div></td></tr></tbody></table></div></details></td></tr><tr><td>4</td><td><details class=\"dni-treeview\"><summary><span class=\"dni-code-hint\"><code>Microsoft.ML.AutoML.TrainResult`1[Microsoft.ML.Data.BinaryClassificationMetrics]</code></span></summary><div><table><thead><tr></tr></thead><tbody><tr><td>ValidationMetrics</td><td><details class=\"dni-treeview\"><summary><span class=\"dni-code-hint\"><code>Microsoft.ML.Data.BinaryClassificationMetrics</code></span></summary><div><table><thead><tr></tr></thead><tbody><tr><td>AreaUnderRocCurve</td><td>0.7973547472838923</td></tr><tr><td>Accuracy</td><td>0.8333333333333334</td></tr><tr><td>PositivePrecision</td><td>0.875</td></tr><tr><td>PositiveRecall</td><td>0.4827586206896552</td></tr><tr><td>NegativePrecision</td><td>0.8255813953488372</td></tr><tr><td>NegativeRecall</td><td>0.9726027397260274</td></tr><tr><td>F1Score</td><td>0.6222222222222222</td></tr><tr><td>AreaUnderPrecisionRecallCurve</td><td>0.7251621191864639</td></tr><tr><td>ConfusionMatrix</td><td>Microsoft.ML.Data.ConfusionMatrix</td></tr></tbody></table></div></details></td></tr><tr><td>Model</td><td><details class=\"dni-treeview\"><summary><span class=\"dni-code-hint\"><code>[ Microsoft.ML.Transforms.MissingValueReplacingTransformer, Microsoft.ML.Transforms.TypeConvertingTransformer, Microsoft.ML.Transforms.Text.TextFeaturizingEstimator+Transformer, Microsoft.ML.Data.ColumnConcatenatingTransformer, Microsoft.ML.Data.BinaryPredictionTransformer`1[Microsoft.ML.Calibrators.CalibratedModelParametersBase`2[Microsoft.ML.Trainers.LightGbm.LightGbmBinaryModelParameters,Microsoft.ML.Calibrators.PlattCalibrator]] ]</code></span></summary><div><table><thead><tr></tr></thead><tbody><tr><td>LastTransformer</td><td>Microsoft.ML.Data.BinaryPredictionTransformer`1[Microsoft.ML.Calibrators.CalibratedModelParametersBase`2[Microsoft.ML.Trainers.LightGbm.LightGbmBinaryModelParameters,Microsoft.ML.Calibrators.PlattCalibrator]]</td></tr><tr><td><i>(values)</i></td><td><table><thead><tr><th><i>index</i></th><th><i>type</i></th><th>value</th></tr></thead><tbody><tr><td>0</td><td>Microsoft.ML.Transforms.MissingValueReplacingTransformer</td><td>Microsoft.ML.Transforms.MissingValueReplacingTransformer</td></tr><tr><td>1</td><td>Microsoft.ML.Transforms.TypeConvertingTransformer</td><td>Microsoft.ML.Transforms.TypeConvertingTransformer</td></tr><tr><td>2</td><td>Microsoft.ML.Transforms.Text.TextFeaturizingEstimator+Transformer</td><td>Microsoft.ML.Transforms.Text.TextFeaturizingEstimator+Transformer</td></tr><tr><td>3</td><td>Microsoft.ML.Data.ColumnConcatenatingTransformer</td><td>Microsoft.ML.Data.ColumnConcatenatingTransformer</td></tr><tr><td>4</td><td>Microsoft.ML.Data.BinaryPredictionTransformer`1[Microsoft.ML.Calibrators.CalibratedModelParametersBase`2[Microsoft.ML.Trainers.LightGbm.LightGbmBinaryModelParameters,Microsoft.ML.Calibrators.PlattCalibrator]]</td><td>Microsoft.ML.Data.BinaryPredictionTransformer`1[Microsoft.ML.Calibrators.CalibratedModelParametersBase`2[Microsoft.ML.Trainers.LightGbm.LightGbmBinaryModelParameters,Microsoft.ML.Calibrators.PlattCalibrator]]</td></tr></tbody></table></td></tr></tbody></table></div></details></td></tr><tr><td>Exception</td><td><div class=\"dni-plaintext\"><pre>&lt;null&gt;</pre></div></td></tr></tbody></table></div></details></td></tr></tbody></table></td></tr><tr><td>TrainerName</td><td><div class=\"dni-plaintext\"><pre>ReplaceMissingValues=&gt;ConvertType=&gt;FeaturizeText=&gt;Concatenate=&gt;LightGbmBinary</pre></div></td></tr><tr><td>RuntimeInSeconds</td><td><div class=\"dni-plaintext\"><pre>11.842</pre></div></td></tr><tr><td>Estimator</td><td><details class=\"dni-treeview\"><summary><span class=\"dni-code-hint\"><code>Microsoft.ML.Data.EstimatorChain`1[Microsoft.ML.ITransformer]</code></span></summary><div><table><thead><tr></tr></thead><tbody><tr><td>LastEstimator</td><td><details class=\"dni-treeview\"><summary><span class=\"dni-code-hint\"><code>Microsoft.ML.Trainers.LightGbm.LightGbmBinaryTrainer</code></span></summary><div><table><thead><tr></tr></thead><tbody><tr><td>Info</td><td><details class=\"dni-treeview\"><summary><span class=\"dni-code-hint\"><code>Microsoft.ML.TrainerInfo</code></span></summary><div><table><thead><tr></tr></thead><tbody><tr><td>NeedNormalization</td><td>False</td></tr><tr><td>WantCaching</td><td>False</td></tr></tbody></table></div></details></td></tr><tr><td>GroupIdColumn</td><td><details class=\"dni-treeview\"><summary><span class=\"dni-code-hint\"><code>Microsoft.ML.SchemaShape+Column</code></span></summary><div><table><thead><tr></tr></thead><tbody><tr><td>Name</td><td><div class=\"dni-plaintext\"><pre>&lt;null&gt;</pre></div></td></tr><tr><td>Kind</td><td>Scalar</td></tr><tr><td>ItemType</td><td><div class=\"dni-plaintext\"><pre>&lt;null&gt;</pre></div></td></tr><tr><td>IsKey</td><td>False</td></tr><tr><td>Annotations</td><td><div class=\"dni-plaintext\"><pre>&lt;null&gt;</pre></div></td></tr></tbody></table></div></details></td></tr><tr><td>FeatureColumn</td><td><details class=\"dni-treeview\"><summary><span class=\"dni-code-hint\"><code>Microsoft.ML.SchemaShape+Column</code></span></summary><div><table><thead><tr></tr></thead><tbody><tr><td>Name</td><td>__Features__</td></tr><tr><td>Kind</td><td>Vector</td></tr><tr><td>ItemType</td><td>Single</td></tr><tr><td>IsKey</td><td>False</td></tr><tr><td>Annotations</td><td>[  ]</td></tr></tbody></table></div></details></td></tr><tr><td>LabelColumn</td><td><details class=\"dni-treeview\"><summary><span class=\"dni-code-hint\"><code>Microsoft.ML.SchemaShape+Column</code></span></summary><div><table><thead><tr></tr></thead><tbody><tr><td>Name</td><td>Label</td></tr><tr><td>Kind</td><td>Scalar</td></tr><tr><td>ItemType</td><td>Boolean</td></tr><tr><td>IsKey</td><td>False</td></tr><tr><td>Annotations</td><td>[  ]</td></tr></tbody></table></div></details></td></tr><tr><td>WeightColumn</td><td><details class=\"dni-treeview\"><summary><span class=\"dni-code-hint\"><code>Microsoft.ML.SchemaShape+Column</code></span></summary><div><table><thead><tr></tr></thead><tbody><tr><td>Name</td><td><div class=\"dni-plaintext\"><pre>&lt;null&gt;</pre></div></td></tr><tr><td>Kind</td><td>Scalar</td></tr><tr><td>ItemType</td><td><div class=\"dni-plaintext\"><pre>&lt;null&gt;</pre></div></td></tr><tr><td>IsKey</td><td>False</td></tr><tr><td>Annotations</td><td><div class=\"dni-plaintext\"><pre>&lt;null&gt;</pre></div></td></tr></tbody></table></div></details></td></tr></tbody></table></div></details></td></tr></tbody></table></div></details></td></tr></tbody></table></div></details></td></tr><tr><td>9</td><td><details class=\"dni-treeview\"><summary><span class=\"dni-code-hint\"><code>Microsoft.ML.AutoML.CrossValidationRunDetail`1[Microsoft.ML.Data.BinaryClassificationMetrics]</code></span></summary><div><table><thead><tr></tr></thead><tbody><tr><td>Results</td><td><table><thead><tr><th><i>index</i></th><th>value</th></tr></thead><tbody><tr><td>0</td><td><details class=\"dni-treeview\"><summary><span class=\"dni-code-hint\"><code>Microsoft.ML.AutoML.TrainResult`1[Microsoft.ML.Data.BinaryClassificationMetrics]</code></span></summary><div><table><thead><tr></tr></thead><tbody><tr><td>ValidationMetrics</td><td><details class=\"dni-treeview\"><summary><span class=\"dni-code-hint\"><code>Microsoft.ML.Data.BinaryClassificationMetrics</code></span></summary><div><table><thead><tr></tr></thead><tbody><tr><td>AreaUnderRocCurve</td><td>0.7807459677419355</td></tr><tr><td>Accuracy</td><td>0.8297872340425532</td></tr><tr><td>PositivePrecision</td><td>0.9444444444444444</td></tr><tr><td>PositiveRecall</td><td>0.53125</td></tr><tr><td>NegativePrecision</td><td>0.8026315789473685</td></tr><tr><td>NegativeRecall</td><td>0.9838709677419355</td></tr><tr><td>F1Score</td><td>0.6799999999999999</td></tr><tr><td>AreaUnderPrecisionRecallCurve</td><td>0.7755930057017209</td></tr><tr><td>ConfusionMatrix</td><td>Microsoft.ML.Data.ConfusionMatrix</td></tr></tbody></table></div></details></td></tr><tr><td>Model</td><td><details class=\"dni-treeview\"><summary><span class=\"dni-code-hint\"><code>[ Microsoft.ML.Transforms.MissingValueReplacingTransformer, Microsoft.ML.Transforms.TypeConvertingTransformer, Microsoft.ML.Transforms.Text.TextFeaturizingEstimator+Transformer, Microsoft.ML.Data.ColumnConcatenatingTransformer, Microsoft.ML.Data.BinaryPredictionTransformer`1[Microsoft.ML.Calibrators.CalibratedModelParametersBase`2[Microsoft.ML.Trainers.FastTree.FastTreeBinaryModelParameters,Microsoft.ML.Calibrators.PlattCalibrator]] ]</code></span></summary><div><table><thead><tr></tr></thead><tbody><tr><td>LastTransformer</td><td>Microsoft.ML.Data.BinaryPredictionTransformer`1[Microsoft.ML.Calibrators.CalibratedModelParametersBase`2[Microsoft.ML.Trainers.FastTree.FastTreeBinaryModelParameters,Microsoft.ML.Calibrators.PlattCalibrator]]</td></tr><tr><td><i>(values)</i></td><td><table><thead><tr><th><i>index</i></th><th><i>type</i></th><th>value</th></tr></thead><tbody><tr><td>0</td><td>Microsoft.ML.Transforms.MissingValueReplacingTransformer</td><td>Microsoft.ML.Transforms.MissingValueReplacingTransformer</td></tr><tr><td>1</td><td>Microsoft.ML.Transforms.TypeConvertingTransformer</td><td>Microsoft.ML.Transforms.TypeConvertingTransformer</td></tr><tr><td>2</td><td>Microsoft.ML.Transforms.Text.TextFeaturizingEstimator+Transformer</td><td>Microsoft.ML.Transforms.Text.TextFeaturizingEstimator+Transformer</td></tr><tr><td>3</td><td>Microsoft.ML.Data.ColumnConcatenatingTransformer</td><td>Microsoft.ML.Data.ColumnConcatenatingTransformer</td></tr><tr><td>4</td><td>Microsoft.ML.Data.BinaryPredictionTransformer`1[Microsoft.ML.Calibrators.CalibratedModelParametersBase`2[Microsoft.ML.Trainers.FastTree.FastTreeBinaryModelParameters,Microsoft.ML.Calibrators.PlattCalibrator]]</td><td>Microsoft.ML.Data.BinaryPredictionTransformer`1[Microsoft.ML.Calibrators.CalibratedModelParametersBase`2[Microsoft.ML.Trainers.FastTree.FastTreeBinaryModelParameters,Microsoft.ML.Calibrators.PlattCalibrator]]</td></tr></tbody></table></td></tr></tbody></table></div></details></td></tr><tr><td>Exception</td><td><div class=\"dni-plaintext\"><pre>&lt;null&gt;</pre></div></td></tr></tbody></table></div></details></td></tr><tr><td>1</td><td><details class=\"dni-treeview\"><summary><span class=\"dni-code-hint\"><code>Microsoft.ML.AutoML.TrainResult`1[Microsoft.ML.Data.BinaryClassificationMetrics]</code></span></summary><div><table><thead><tr></tr></thead><tbody><tr><td>ValidationMetrics</td><td><details class=\"dni-treeview\"><summary><span class=\"dni-code-hint\"><code>Microsoft.ML.Data.BinaryClassificationMetrics</code></span></summary><div><table><thead><tr></tr></thead><tbody><tr><td>AreaUnderRocCurve</td><td>0.7204142011834319</td></tr><tr><td>Accuracy</td><td>0.7777777777777778</td></tr><tr><td>PositivePrecision</td><td>0.9333333333333333</td></tr><tr><td>PositiveRecall</td><td>0.358974358974359</td></tr><tr><td>NegativePrecision</td><td>0.7549019607843137</td></tr><tr><td>NegativeRecall</td><td>0.9871794871794872</td></tr><tr><td>F1Score</td><td>0.5185185185185185</td></tr><tr><td>AreaUnderPrecisionRecallCurve</td><td>0.624320708336477</td></tr><tr><td>ConfusionMatrix</td><td>Microsoft.ML.Data.ConfusionMatrix</td></tr></tbody></table></div></details></td></tr><tr><td>Model</td><td><details class=\"dni-treeview\"><summary><span class=\"dni-code-hint\"><code>[ Microsoft.ML.Transforms.MissingValueReplacingTransformer, Microsoft.ML.Transforms.TypeConvertingTransformer, Microsoft.ML.Transforms.Text.TextFeaturizingEstimator+Transformer, Microsoft.ML.Data.ColumnConcatenatingTransformer, Microsoft.ML.Data.BinaryPredictionTransformer`1[Microsoft.ML.Calibrators.CalibratedModelParametersBase`2[Microsoft.ML.Trainers.FastTree.FastTreeBinaryModelParameters,Microsoft.ML.Calibrators.PlattCalibrator]] ]</code></span></summary><div><table><thead><tr></tr></thead><tbody><tr><td>LastTransformer</td><td>Microsoft.ML.Data.BinaryPredictionTransformer`1[Microsoft.ML.Calibrators.CalibratedModelParametersBase`2[Microsoft.ML.Trainers.FastTree.FastTreeBinaryModelParameters,Microsoft.ML.Calibrators.PlattCalibrator]]</td></tr><tr><td><i>(values)</i></td><td><table><thead><tr><th><i>index</i></th><th><i>type</i></th><th>value</th></tr></thead><tbody><tr><td>0</td><td>Microsoft.ML.Transforms.MissingValueReplacingTransformer</td><td>Microsoft.ML.Transforms.MissingValueReplacingTransformer</td></tr><tr><td>1</td><td>Microsoft.ML.Transforms.TypeConvertingTransformer</td><td>Microsoft.ML.Transforms.TypeConvertingTransformer</td></tr><tr><td>2</td><td>Microsoft.ML.Transforms.Text.TextFeaturizingEstimator+Transformer</td><td>Microsoft.ML.Transforms.Text.TextFeaturizingEstimator+Transformer</td></tr><tr><td>3</td><td>Microsoft.ML.Data.ColumnConcatenatingTransformer</td><td>Microsoft.ML.Data.ColumnConcatenatingTransformer</td></tr><tr><td>4</td><td>Microsoft.ML.Data.BinaryPredictionTransformer`1[Microsoft.ML.Calibrators.CalibratedModelParametersBase`2[Microsoft.ML.Trainers.FastTree.FastTreeBinaryModelParameters,Microsoft.ML.Calibrators.PlattCalibrator]]</td><td>Microsoft.ML.Data.BinaryPredictionTransformer`1[Microsoft.ML.Calibrators.CalibratedModelParametersBase`2[Microsoft.ML.Trainers.FastTree.FastTreeBinaryModelParameters,Microsoft.ML.Calibrators.PlattCalibrator]]</td></tr></tbody></table></td></tr></tbody></table></div></details></td></tr><tr><td>Exception</td><td><div class=\"dni-plaintext\"><pre>&lt;null&gt;</pre></div></td></tr></tbody></table></div></details></td></tr><tr><td>2</td><td><details class=\"dni-treeview\"><summary><span class=\"dni-code-hint\"><code>Microsoft.ML.AutoML.TrainResult`1[Microsoft.ML.Data.BinaryClassificationMetrics]</code></span></summary><div><table><thead><tr></tr></thead><tbody><tr><td>ValidationMetrics</td><td><details class=\"dni-treeview\"><summary><span class=\"dni-code-hint\"><code>Microsoft.ML.Data.BinaryClassificationMetrics</code></span></summary><div><table><thead><tr></tr></thead><tbody><tr><td>AreaUnderRocCurve</td><td>0.7226973684210526</td></tr><tr><td>Accuracy</td><td>0.8541666666666666</td></tr><tr><td>PositivePrecision</td><td>0.8</td></tr><tr><td>PositiveRecall</td><td>0.4</td></tr><tr><td>NegativePrecision</td><td>0.8604651162790697</td></tr><tr><td>NegativeRecall</td><td>0.9736842105263158</td></tr><tr><td>F1Score</td><td>0.5333333333333333</td></tr><tr><td>AreaUnderPrecisionRecallCurve</td><td>0.4764676703561598</td></tr><tr><td>ConfusionMatrix</td><td>Microsoft.ML.Data.ConfusionMatrix</td></tr></tbody></table></div></details></td></tr><tr><td>Model</td><td><details class=\"dni-treeview\"><summary><span class=\"dni-code-hint\"><code>[ Microsoft.ML.Transforms.MissingValueReplacingTransformer, Microsoft.ML.Transforms.TypeConvertingTransformer, Microsoft.ML.Transforms.Text.TextFeaturizingEstimator+Transformer, Microsoft.ML.Data.ColumnConcatenatingTransformer, Microsoft.ML.Data.BinaryPredictionTransformer`1[Microsoft.ML.Calibrators.CalibratedModelParametersBase`2[Microsoft.ML.Trainers.FastTree.FastTreeBinaryModelParameters,Microsoft.ML.Calibrators.PlattCalibrator]] ]</code></span></summary><div><table><thead><tr></tr></thead><tbody><tr><td>LastTransformer</td><td>Microsoft.ML.Data.BinaryPredictionTransformer`1[Microsoft.ML.Calibrators.CalibratedModelParametersBase`2[Microsoft.ML.Trainers.FastTree.FastTreeBinaryModelParameters,Microsoft.ML.Calibrators.PlattCalibrator]]</td></tr><tr><td><i>(values)</i></td><td><table><thead><tr><th><i>index</i></th><th><i>type</i></th><th>value</th></tr></thead><tbody><tr><td>0</td><td>Microsoft.ML.Transforms.MissingValueReplacingTransformer</td><td>Microsoft.ML.Transforms.MissingValueReplacingTransformer</td></tr><tr><td>1</td><td>Microsoft.ML.Transforms.TypeConvertingTransformer</td><td>Microsoft.ML.Transforms.TypeConvertingTransformer</td></tr><tr><td>2</td><td>Microsoft.ML.Transforms.Text.TextFeaturizingEstimator+Transformer</td><td>Microsoft.ML.Transforms.Text.TextFeaturizingEstimator+Transformer</td></tr><tr><td>3</td><td>Microsoft.ML.Data.ColumnConcatenatingTransformer</td><td>Microsoft.ML.Data.ColumnConcatenatingTransformer</td></tr><tr><td>4</td><td>Microsoft.ML.Data.BinaryPredictionTransformer`1[Microsoft.ML.Calibrators.CalibratedModelParametersBase`2[Microsoft.ML.Trainers.FastTree.FastTreeBinaryModelParameters,Microsoft.ML.Calibrators.PlattCalibrator]]</td><td>Microsoft.ML.Data.BinaryPredictionTransformer`1[Microsoft.ML.Calibrators.CalibratedModelParametersBase`2[Microsoft.ML.Trainers.FastTree.FastTreeBinaryModelParameters,Microsoft.ML.Calibrators.PlattCalibrator]]</td></tr></tbody></table></td></tr></tbody></table></div></details></td></tr><tr><td>Exception</td><td><div class=\"dni-plaintext\"><pre>&lt;null&gt;</pre></div></td></tr></tbody></table></div></details></td></tr><tr><td>3</td><td><details class=\"dni-treeview\"><summary><span class=\"dni-code-hint\"><code>Microsoft.ML.AutoML.TrainResult`1[Microsoft.ML.Data.BinaryClassificationMetrics]</code></span></summary><div><table><thead><tr></tr></thead><tbody><tr><td>ValidationMetrics</td><td><details class=\"dni-treeview\"><summary><span class=\"dni-code-hint\"><code>Microsoft.ML.Data.BinaryClassificationMetrics</code></span></summary><div><table><thead><tr></tr></thead><tbody><tr><td>AreaUnderRocCurve</td><td>0.8403076923076923</td></tr><tr><td>Accuracy</td><td>0.8777777777777778</td></tr><tr><td>PositivePrecision</td><td>1</td></tr><tr><td>PositiveRecall</td><td>0.56</td></tr><tr><td>NegativePrecision</td><td>0.8552631578947368</td></tr><tr><td>NegativeRecall</td><td>1</td></tr><tr><td>F1Score</td><td>0.717948717948718</td></tr><tr><td>AreaUnderPrecisionRecallCurve</td><td>0.8011889884824317</td></tr><tr><td>ConfusionMatrix</td><td>Microsoft.ML.Data.ConfusionMatrix</td></tr></tbody></table></div></details></td></tr><tr><td>Model</td><td><details class=\"dni-treeview\"><summary><span class=\"dni-code-hint\"><code>[ Microsoft.ML.Transforms.MissingValueReplacingTransformer, Microsoft.ML.Transforms.TypeConvertingTransformer, Microsoft.ML.Transforms.Text.TextFeaturizingEstimator+Transformer, Microsoft.ML.Data.ColumnConcatenatingTransformer, Microsoft.ML.Data.BinaryPredictionTransformer`1[Microsoft.ML.Calibrators.CalibratedModelParametersBase`2[Microsoft.ML.Trainers.FastTree.FastTreeBinaryModelParameters,Microsoft.ML.Calibrators.PlattCalibrator]] ]</code></span></summary><div><table><thead><tr></tr></thead><tbody><tr><td>LastTransformer</td><td>Microsoft.ML.Data.BinaryPredictionTransformer`1[Microsoft.ML.Calibrators.CalibratedModelParametersBase`2[Microsoft.ML.Trainers.FastTree.FastTreeBinaryModelParameters,Microsoft.ML.Calibrators.PlattCalibrator]]</td></tr><tr><td><i>(values)</i></td><td><table><thead><tr><th><i>index</i></th><th><i>type</i></th><th>value</th></tr></thead><tbody><tr><td>0</td><td>Microsoft.ML.Transforms.MissingValueReplacingTransformer</td><td>Microsoft.ML.Transforms.MissingValueReplacingTransformer</td></tr><tr><td>1</td><td>Microsoft.ML.Transforms.TypeConvertingTransformer</td><td>Microsoft.ML.Transforms.TypeConvertingTransformer</td></tr><tr><td>2</td><td>Microsoft.ML.Transforms.Text.TextFeaturizingEstimator+Transformer</td><td>Microsoft.ML.Transforms.Text.TextFeaturizingEstimator+Transformer</td></tr><tr><td>3</td><td>Microsoft.ML.Data.ColumnConcatenatingTransformer</td><td>Microsoft.ML.Data.ColumnConcatenatingTransformer</td></tr><tr><td>4</td><td>Microsoft.ML.Data.BinaryPredictionTransformer`1[Microsoft.ML.Calibrators.CalibratedModelParametersBase`2[Microsoft.ML.Trainers.FastTree.FastTreeBinaryModelParameters,Microsoft.ML.Calibrators.PlattCalibrator]]</td><td>Microsoft.ML.Data.BinaryPredictionTransformer`1[Microsoft.ML.Calibrators.CalibratedModelParametersBase`2[Microsoft.ML.Trainers.FastTree.FastTreeBinaryModelParameters,Microsoft.ML.Calibrators.PlattCalibrator]]</td></tr></tbody></table></td></tr></tbody></table></div></details></td></tr><tr><td>Exception</td><td><div class=\"dni-plaintext\"><pre>&lt;null&gt;</pre></div></td></tr></tbody></table></div></details></td></tr><tr><td>4</td><td><details class=\"dni-treeview\"><summary><span class=\"dni-code-hint\"><code>Microsoft.ML.AutoML.TrainResult`1[Microsoft.ML.Data.BinaryClassificationMetrics]</code></span></summary><div><table><thead><tr></tr></thead><tbody><tr><td>ValidationMetrics</td><td><details class=\"dni-treeview\"><summary><span class=\"dni-code-hint\"><code>Microsoft.ML.Data.BinaryClassificationMetrics</code></span></summary><div><table><thead><tr></tr></thead><tbody><tr><td>AreaUnderRocCurve</td><td>0.8110533774208786</td></tr><tr><td>Accuracy</td><td>0.7843137254901961</td></tr><tr><td>PositivePrecision</td><td>0.6521739130434783</td></tr><tr><td>PositiveRecall</td><td>0.5172413793103449</td></tr><tr><td>NegativePrecision</td><td>0.8227848101265823</td></tr><tr><td>NegativeRecall</td><td>0.8904109589041096</td></tr><tr><td>F1Score</td><td>0.576923076923077</td></tr><tr><td>AreaUnderPrecisionRecallCurve</td><td>0.7518076220914184</td></tr><tr><td>ConfusionMatrix</td><td>Microsoft.ML.Data.ConfusionMatrix</td></tr></tbody></table></div></details></td></tr><tr><td>Model</td><td><details class=\"dni-treeview\"><summary><span class=\"dni-code-hint\"><code>[ Microsoft.ML.Transforms.MissingValueReplacingTransformer, Microsoft.ML.Transforms.TypeConvertingTransformer, Microsoft.ML.Transforms.Text.TextFeaturizingEstimator+Transformer, Microsoft.ML.Data.ColumnConcatenatingTransformer, Microsoft.ML.Data.BinaryPredictionTransformer`1[Microsoft.ML.Calibrators.CalibratedModelParametersBase`2[Microsoft.ML.Trainers.FastTree.FastTreeBinaryModelParameters,Microsoft.ML.Calibrators.PlattCalibrator]] ]</code></span></summary><div><table><thead><tr></tr></thead><tbody><tr><td>LastTransformer</td><td>Microsoft.ML.Data.BinaryPredictionTransformer`1[Microsoft.ML.Calibrators.CalibratedModelParametersBase`2[Microsoft.ML.Trainers.FastTree.FastTreeBinaryModelParameters,Microsoft.ML.Calibrators.PlattCalibrator]]</td></tr><tr><td><i>(values)</i></td><td><table><thead><tr><th><i>index</i></th><th><i>type</i></th><th>value</th></tr></thead><tbody><tr><td>0</td><td>Microsoft.ML.Transforms.MissingValueReplacingTransformer</td><td>Microsoft.ML.Transforms.MissingValueReplacingTransformer</td></tr><tr><td>1</td><td>Microsoft.ML.Transforms.TypeConvertingTransformer</td><td>Microsoft.ML.Transforms.TypeConvertingTransformer</td></tr><tr><td>2</td><td>Microsoft.ML.Transforms.Text.TextFeaturizingEstimator+Transformer</td><td>Microsoft.ML.Transforms.Text.TextFeaturizingEstimator+Transformer</td></tr><tr><td>3</td><td>Microsoft.ML.Data.ColumnConcatenatingTransformer</td><td>Microsoft.ML.Data.ColumnConcatenatingTransformer</td></tr><tr><td>4</td><td>Microsoft.ML.Data.BinaryPredictionTransformer`1[Microsoft.ML.Calibrators.CalibratedModelParametersBase`2[Microsoft.ML.Trainers.FastTree.FastTreeBinaryModelParameters,Microsoft.ML.Calibrators.PlattCalibrator]]</td><td>Microsoft.ML.Data.BinaryPredictionTransformer`1[Microsoft.ML.Calibrators.CalibratedModelParametersBase`2[Microsoft.ML.Trainers.FastTree.FastTreeBinaryModelParameters,Microsoft.ML.Calibrators.PlattCalibrator]]</td></tr></tbody></table></td></tr></tbody></table></div></details></td></tr><tr><td>Exception</td><td><div class=\"dni-plaintext\"><pre>&lt;null&gt;</pre></div></td></tr></tbody></table></div></details></td></tr></tbody></table></td></tr><tr><td>TrainerName</td><td><div class=\"dni-plaintext\"><pre>ReplaceMissingValues=&gt;ConvertType=&gt;FeaturizeText=&gt;Concatenate=&gt;FastTreeBinary</pre></div></td></tr><tr><td>RuntimeInSeconds</td><td><div class=\"dni-plaintext\"><pre>0.832</pre></div></td></tr><tr><td>Estimator</td><td><details class=\"dni-treeview\"><summary><span class=\"dni-code-hint\"><code>Microsoft.ML.Data.EstimatorChain`1[Microsoft.ML.ITransformer]</code></span></summary><div><table><thead><tr></tr></thead><tbody><tr><td>LastEstimator</td><td><details class=\"dni-treeview\"><summary><span class=\"dni-code-hint\"><code>Microsoft.ML.Trainers.FastTree.FastTreeBinaryTrainer</code></span></summary><div><table><thead><tr></tr></thead><tbody><tr><td>Info</td><td><details class=\"dni-treeview\"><summary><span class=\"dni-code-hint\"><code>Microsoft.ML.TrainerInfo</code></span></summary><div><table><thead><tr></tr></thead><tbody><tr><td>NeedNormalization</td><td>False</td></tr><tr><td>WantCaching</td><td>False</td></tr></tbody></table></div></details></td></tr><tr><td>GroupIdColumn</td><td><details class=\"dni-treeview\"><summary><span class=\"dni-code-hint\"><code>Microsoft.ML.SchemaShape+Column</code></span></summary><div><table><thead><tr></tr></thead><tbody><tr><td>Name</td><td><div class=\"dni-plaintext\"><pre>&lt;null&gt;</pre></div></td></tr><tr><td>Kind</td><td>Scalar</td></tr><tr><td>ItemType</td><td><div class=\"dni-plaintext\"><pre>&lt;null&gt;</pre></div></td></tr><tr><td>IsKey</td><td>False</td></tr><tr><td>Annotations</td><td><div class=\"dni-plaintext\"><pre>&lt;null&gt;</pre></div></td></tr></tbody></table></div></details></td></tr><tr><td>FeatureColumn</td><td><details class=\"dni-treeview\"><summary><span class=\"dni-code-hint\"><code>Microsoft.ML.SchemaShape+Column</code></span></summary><div><table><thead><tr></tr></thead><tbody><tr><td>Name</td><td>__Features__</td></tr><tr><td>Kind</td><td>Vector</td></tr><tr><td>ItemType</td><td>Single</td></tr><tr><td>IsKey</td><td>False</td></tr><tr><td>Annotations</td><td>[  ]</td></tr></tbody></table></div></details></td></tr><tr><td>LabelColumn</td><td><details class=\"dni-treeview\"><summary><span class=\"dni-code-hint\"><code>Microsoft.ML.SchemaShape+Column</code></span></summary><div><table><thead><tr></tr></thead><tbody><tr><td>Name</td><td>Label</td></tr><tr><td>Kind</td><td>Scalar</td></tr><tr><td>ItemType</td><td>Boolean</td></tr><tr><td>IsKey</td><td>False</td></tr><tr><td>Annotations</td><td>[  ]</td></tr></tbody></table></div></details></td></tr><tr><td>WeightColumn</td><td><details class=\"dni-treeview\"><summary><span class=\"dni-code-hint\"><code>Microsoft.ML.SchemaShape+Column</code></span></summary><div><table><thead><tr></tr></thead><tbody><tr><td>Name</td><td><div class=\"dni-plaintext\"><pre>&lt;null&gt;</pre></div></td></tr><tr><td>Kind</td><td>Scalar</td></tr><tr><td>ItemType</td><td><div class=\"dni-plaintext\"><pre>&lt;null&gt;</pre></div></td></tr><tr><td>IsKey</td><td>False</td></tr><tr><td>Annotations</td><td><div class=\"dni-plaintext\"><pre>&lt;null&gt;</pre></div></td></tr></tbody></table></div></details></td></tr></tbody></table></div></details></td></tr></tbody></table></div></details></td></tr></tbody></table></div></details></td></tr></tbody></table></td></tr><tr><td>BestRun</td><td><details class=\"dni-treeview\"><summary><span class=\"dni-code-hint\"><code>Microsoft.ML.AutoML.CrossValidationRunDetail`1[Microsoft.ML.Data.BinaryClassificationMetrics]</code></span></summary><div><table><thead><tr></tr></thead><tbody><tr><td>Results</td><td><table><thead><tr><th><i>index</i></th><th>value</th></tr></thead><tbody><tr><td>0</td><td><details class=\"dni-treeview\"><summary><span class=\"dni-code-hint\"><code>Microsoft.ML.AutoML.TrainResult`1[Microsoft.ML.Data.BinaryClassificationMetrics]</code></span></summary><div><table><thead><tr></tr></thead><tbody><tr><td>ValidationMetrics</td><td><details class=\"dni-treeview\"><summary><span class=\"dni-code-hint\"><code>Microsoft.ML.Data.BinaryClassificationMetrics</code></span></summary><div><table><thead><tr></tr></thead><tbody><tr><td>AreaUnderRocCurve</td><td><div class=\"dni-plaintext\"><pre>0.8220766129032258</pre></div></td></tr><tr><td>Accuracy</td><td><div class=\"dni-plaintext\"><pre>0.8297872340425532</pre></div></td></tr><tr><td>PositivePrecision</td><td><div class=\"dni-plaintext\"><pre>0.8333333333333334</pre></div></td></tr><tr><td>PositiveRecall</td><td><div class=\"dni-plaintext\"><pre>0.625</pre></div></td></tr><tr><td>NegativePrecision</td><td><div class=\"dni-plaintext\"><pre>0.8285714285714286</pre></div></td></tr><tr><td>NegativeRecall</td><td><div class=\"dni-plaintext\"><pre>0.9354838709677419</pre></div></td></tr><tr><td>F1Score</td><td><div class=\"dni-plaintext\"><pre>0.7142857142857143</pre></div></td></tr><tr><td>AreaUnderPrecisionRecallCurve</td><td><div class=\"dni-plaintext\"><pre>0.7981657871596612</pre></div></td></tr><tr><td>ConfusionMatrix</td><td><details class=\"dni-treeview\"><summary><span class=\"dni-code-hint\"><code>Microsoft.ML.Data.ConfusionMatrix</code></span></summary><div><table><thead><tr></tr></thead><tbody><tr><td>PerClassPrecision</td><td>[ 0.8333333333333334, 0.8285714285714286 ]</td></tr><tr><td>PerClassRecall</td><td>[ 0.625, 0.9354838709677419 ]</td></tr><tr><td>Counts</td><td>[ [ 20, 12 ], [ 4, 58 ] ]</td></tr><tr><td>NumberOfClasses</td><td>2</td></tr></tbody></table></div></details></td></tr></tbody></table></div></details></td></tr><tr><td>Model</td><td><details class=\"dni-treeview\"><summary><span class=\"dni-code-hint\"><code>[ Microsoft.ML.Transforms.MissingValueReplacingTransformer, Microsoft.ML.Transforms.TypeConvertingTransformer, Microsoft.ML.Transforms.Text.TextFeaturizingEstimator+Transformer, Microsoft.ML.Data.ColumnConcatenatingTransformer, Microsoft.ML.Data.BinaryPredictionTransformer`1[Microsoft.ML.Calibrators.CalibratedModelParametersBase`2[Microsoft.ML.Trainers.FastTree.FastTreeBinaryModelParameters,Microsoft.ML.Calibrators.PlattCalibrator]] ]</code></span></summary><div><table><thead><tr></tr></thead><tbody><tr><td>LastTransformer</td><td><details class=\"dni-treeview\"><summary><span class=\"dni-code-hint\"><code>Microsoft.ML.Data.BinaryPredictionTransformer`1[Microsoft.ML.Calibrators.CalibratedModelParametersBase`2[Microsoft.ML.Trainers.FastTree.FastTreeBinaryModelParameters,Microsoft.ML.Calibrators.PlattCalibrator]]</code></span></summary><div><table><thead><tr></tr></thead><tbody><tr><td>FeatureColumnName</td><td>__Features__</td></tr><tr><td>FeatureColumnType</td><td>Vector<Single, 6373></td></tr><tr><td>Model</td><td>Microsoft.ML.Calibrators.FeatureWeightsCalibratedModelParameters`2[Microsoft.ML.Trainers.FastTree.FastTreeBinaryModelParameters,Microsoft.ML.Calibrators.PlattCalibrator]</td></tr></tbody></table></div></details></td></tr><tr><td><i>(values)</i></td><td><table><thead><tr><th><i>index</i></th><th><i>type</i></th><th>value</th></tr></thead><tbody><tr><td>0</td><td><span><a href=\"https://docs.microsoft.com/dotnet/api/microsoft.ml.transforms.missingvaluereplacingtransformer?view=net-7.0\">Microsoft.ML.Transforms.MissingValueReplacingTransformer</a></span></td><td><details class=\"dni-treeview\"><summary><span class=\"dni-code-hint\"><code>Microsoft.ML.Transforms.MissingValueReplacingTransformer</code></span></summary><div><table><thead><tr></tr></thead><tbody></tbody></table></div></details></td></tr><tr><td>1</td><td><span><a href=\"https://docs.microsoft.com/dotnet/api/microsoft.ml.transforms.typeconvertingtransformer?view=net-7.0\">Microsoft.ML.Transforms.TypeConvertingTransformer</a></span></td><td><details class=\"dni-treeview\"><summary><span class=\"dni-code-hint\"><code>Microsoft.ML.Transforms.TypeConvertingTransformer</code></span></summary><div><table><thead><tr></tr></thead><tbody></tbody></table></div></details></td></tr><tr><td>2</td><td><span><a href=\"https://docs.microsoft.com/dotnet/api/microsoft.ml.transforms.text.textfeaturizingestimator.transformer?view=net-7.0\">Microsoft.ML.Transforms.Text.TextFeaturizingEstimator+Transformer</a></span></td><td><details class=\"dni-treeview\"><summary><span class=\"dni-code-hint\"><code>Microsoft.ML.Transforms.Text.TextFeaturizingEstimator+Transformer</code></span></summary><div><table><thead><tr></tr></thead><tbody></tbody></table></div></details></td></tr><tr><td>3</td><td><span><a href=\"https://docs.microsoft.com/dotnet/api/microsoft.ml.data.columnconcatenatingtransformer?view=net-7.0\">Microsoft.ML.Data.ColumnConcatenatingTransformer</a></span></td><td><details class=\"dni-treeview\"><summary><span class=\"dni-code-hint\"><code>Microsoft.ML.Data.ColumnConcatenatingTransformer</code></span></summary><div><table><thead><tr></tr></thead><tbody></tbody></table></div></details></td></tr><tr><td>4</td><td><span><a href=\"https://docs.microsoft.com/dotnet/api/microsoft.ml.data.binarypredictiontransformer-1?view=net-7.0\">Microsoft.ML.Data.BinaryPredictionTransformer&lt;Microsoft.ML.Calibrators.CalibratedModelParametersBase&lt;Microsoft.ML.Trainers.FastTree.FastTreeBinaryModelParameters,Microsoft.ML.Calibrators.PlattCalibrator&gt;&gt;</a></span></td><td><details class=\"dni-treeview\"><summary><span class=\"dni-code-hint\"><code>Microsoft.ML.Data.BinaryPredictionTransformer`1[Microsoft.ML.Calibrators.CalibratedModelParametersBase`2[Microsoft.ML.Trainers.FastTree.FastTreeBinaryModelParameters,Microsoft.ML.Calibrators.PlattCalibrator]]</code></span></summary><div><table><thead><tr></tr></thead><tbody><tr><td>FeatureColumnName</td><td>__Features__</td></tr><tr><td>FeatureColumnType</td><td>Vector<Single, 6373></td></tr><tr><td>Model</td><td>Microsoft.ML.Calibrators.FeatureWeightsCalibratedModelParameters`2[Microsoft.ML.Trainers.FastTree.FastTreeBinaryModelParameters,Microsoft.ML.Calibrators.PlattCalibrator]</td></tr></tbody></table></div></details></td></tr></tbody></table></td></tr></tbody></table></div></details></td></tr><tr><td>Exception</td><td><div class=\"dni-plaintext\"><pre>&lt;null&gt;</pre></div></td></tr></tbody></table></div></details></td></tr><tr><td>1</td><td><details class=\"dni-treeview\"><summary><span class=\"dni-code-hint\"><code>Microsoft.ML.AutoML.TrainResult`1[Microsoft.ML.Data.BinaryClassificationMetrics]</code></span></summary><div><table><thead><tr></tr></thead><tbody><tr><td>ValidationMetrics</td><td><details class=\"dni-treeview\"><summary><span class=\"dni-code-hint\"><code>Microsoft.ML.Data.BinaryClassificationMetrics</code></span></summary><div><table><thead><tr></tr></thead><tbody><tr><td>AreaUnderRocCurve</td><td><div class=\"dni-plaintext\"><pre>0.7725180802103879</pre></div></td></tr><tr><td>Accuracy</td><td><div class=\"dni-plaintext\"><pre>0.7692307692307693</pre></div></td></tr><tr><td>PositivePrecision</td><td><div class=\"dni-plaintext\"><pre>0.875</pre></div></td></tr><tr><td>PositiveRecall</td><td><div class=\"dni-plaintext\"><pre>0.358974358974359</pre></div></td></tr><tr><td>NegativePrecision</td><td><div class=\"dni-plaintext\"><pre>0.7524752475247525</pre></div></td></tr><tr><td>NegativeRecall</td><td><div class=\"dni-plaintext\"><pre>0.9743589743589743</pre></div></td></tr><tr><td>F1Score</td><td><div class=\"dni-plaintext\"><pre>0.509090909090909</pre></div></td></tr><tr><td>AreaUnderPrecisionRecallCurve</td><td><div class=\"dni-plaintext\"><pre>0.7023756222075594</pre></div></td></tr><tr><td>ConfusionMatrix</td><td><details class=\"dni-treeview\"><summary><span class=\"dni-code-hint\"><code>Microsoft.ML.Data.ConfusionMatrix</code></span></summary><div><table><thead><tr></tr></thead><tbody><tr><td>PerClassPrecision</td><td>[ 0.875, 0.7524752475247525 ]</td></tr><tr><td>PerClassRecall</td><td>[ 0.358974358974359, 0.9743589743589743 ]</td></tr><tr><td>Counts</td><td>[ [ 14, 25 ], [ 2, 76 ] ]</td></tr><tr><td>NumberOfClasses</td><td>2</td></tr></tbody></table></div></details></td></tr></tbody></table></div></details></td></tr><tr><td>Model</td><td><details class=\"dni-treeview\"><summary><span class=\"dni-code-hint\"><code>[ Microsoft.ML.Transforms.MissingValueReplacingTransformer, Microsoft.ML.Transforms.TypeConvertingTransformer, Microsoft.ML.Transforms.Text.TextFeaturizingEstimator+Transformer, Microsoft.ML.Data.ColumnConcatenatingTransformer, Microsoft.ML.Data.BinaryPredictionTransformer`1[Microsoft.ML.Calibrators.CalibratedModelParametersBase`2[Microsoft.ML.Trainers.FastTree.FastTreeBinaryModelParameters,Microsoft.ML.Calibrators.PlattCalibrator]] ]</code></span></summary><div><table><thead><tr></tr></thead><tbody><tr><td>LastTransformer</td><td><details class=\"dni-treeview\"><summary><span class=\"dni-code-hint\"><code>Microsoft.ML.Data.BinaryPredictionTransformer`1[Microsoft.ML.Calibrators.CalibratedModelParametersBase`2[Microsoft.ML.Trainers.FastTree.FastTreeBinaryModelParameters,Microsoft.ML.Calibrators.PlattCalibrator]]</code></span></summary><div><table><thead><tr></tr></thead><tbody><tr><td>FeatureColumnName</td><td>__Features__</td></tr><tr><td>FeatureColumnType</td><td>Vector<Single, 6229></td></tr><tr><td>Model</td><td>Microsoft.ML.Calibrators.FeatureWeightsCalibratedModelParameters`2[Microsoft.ML.Trainers.FastTree.FastTreeBinaryModelParameters,Microsoft.ML.Calibrators.PlattCalibrator]</td></tr></tbody></table></div></details></td></tr><tr><td><i>(values)</i></td><td><table><thead><tr><th><i>index</i></th><th><i>type</i></th><th>value</th></tr></thead><tbody><tr><td>0</td><td><span><a href=\"https://docs.microsoft.com/dotnet/api/microsoft.ml.transforms.missingvaluereplacingtransformer?view=net-7.0\">Microsoft.ML.Transforms.MissingValueReplacingTransformer</a></span></td><td><details class=\"dni-treeview\"><summary><span class=\"dni-code-hint\"><code>Microsoft.ML.Transforms.MissingValueReplacingTransformer</code></span></summary><div><table><thead><tr></tr></thead><tbody></tbody></table></div></details></td></tr><tr><td>1</td><td><span><a href=\"https://docs.microsoft.com/dotnet/api/microsoft.ml.transforms.typeconvertingtransformer?view=net-7.0\">Microsoft.ML.Transforms.TypeConvertingTransformer</a></span></td><td><details class=\"dni-treeview\"><summary><span class=\"dni-code-hint\"><code>Microsoft.ML.Transforms.TypeConvertingTransformer</code></span></summary><div><table><thead><tr></tr></thead><tbody></tbody></table></div></details></td></tr><tr><td>2</td><td><span><a href=\"https://docs.microsoft.com/dotnet/api/microsoft.ml.transforms.text.textfeaturizingestimator.transformer?view=net-7.0\">Microsoft.ML.Transforms.Text.TextFeaturizingEstimator+Transformer</a></span></td><td><details class=\"dni-treeview\"><summary><span class=\"dni-code-hint\"><code>Microsoft.ML.Transforms.Text.TextFeaturizingEstimator+Transformer</code></span></summary><div><table><thead><tr></tr></thead><tbody></tbody></table></div></details></td></tr><tr><td>3</td><td><span><a href=\"https://docs.microsoft.com/dotnet/api/microsoft.ml.data.columnconcatenatingtransformer?view=net-7.0\">Microsoft.ML.Data.ColumnConcatenatingTransformer</a></span></td><td><details class=\"dni-treeview\"><summary><span class=\"dni-code-hint\"><code>Microsoft.ML.Data.ColumnConcatenatingTransformer</code></span></summary><div><table><thead><tr></tr></thead><tbody></tbody></table></div></details></td></tr><tr><td>4</td><td><span><a href=\"https://docs.microsoft.com/dotnet/api/microsoft.ml.data.binarypredictiontransformer-1?view=net-7.0\">Microsoft.ML.Data.BinaryPredictionTransformer&lt;Microsoft.ML.Calibrators.CalibratedModelParametersBase&lt;Microsoft.ML.Trainers.FastTree.FastTreeBinaryModelParameters,Microsoft.ML.Calibrators.PlattCalibrator&gt;&gt;</a></span></td><td><details class=\"dni-treeview\"><summary><span class=\"dni-code-hint\"><code>Microsoft.ML.Data.BinaryPredictionTransformer`1[Microsoft.ML.Calibrators.CalibratedModelParametersBase`2[Microsoft.ML.Trainers.FastTree.FastTreeBinaryModelParameters,Microsoft.ML.Calibrators.PlattCalibrator]]</code></span></summary><div><table><thead><tr></tr></thead><tbody><tr><td>FeatureColumnName</td><td>__Features__</td></tr><tr><td>FeatureColumnType</td><td>Vector<Single, 6229></td></tr><tr><td>Model</td><td>Microsoft.ML.Calibrators.FeatureWeightsCalibratedModelParameters`2[Microsoft.ML.Trainers.FastTree.FastTreeBinaryModelParameters,Microsoft.ML.Calibrators.PlattCalibrator]</td></tr></tbody></table></div></details></td></tr></tbody></table></td></tr></tbody></table></div></details></td></tr><tr><td>Exception</td><td><div class=\"dni-plaintext\"><pre>&lt;null&gt;</pre></div></td></tr></tbody></table></div></details></td></tr><tr><td>2</td><td><details class=\"dni-treeview\"><summary><span class=\"dni-code-hint\"><code>Microsoft.ML.AutoML.TrainResult`1[Microsoft.ML.Data.BinaryClassificationMetrics]</code></span></summary><div><table><thead><tr></tr></thead><tbody><tr><td>ValidationMetrics</td><td><details class=\"dni-treeview\"><summary><span class=\"dni-code-hint\"><code>Microsoft.ML.Data.BinaryClassificationMetrics</code></span></summary><div><table><thead><tr></tr></thead><tbody><tr><td>AreaUnderRocCurve</td><td><div class=\"dni-plaintext\"><pre>0.68125</pre></div></td></tr><tr><td>Accuracy</td><td><div class=\"dni-plaintext\"><pre>0.8333333333333334</pre></div></td></tr><tr><td>PositivePrecision</td><td><div class=\"dni-plaintext\"><pre>0.6666666666666666</pre></div></td></tr><tr><td>PositiveRecall</td><td><div class=\"dni-plaintext\"><pre>0.4</pre></div></td></tr><tr><td>NegativePrecision</td><td><div class=\"dni-plaintext\"><pre>0.8571428571428571</pre></div></td></tr><tr><td>NegativeRecall</td><td><div class=\"dni-plaintext\"><pre>0.9473684210526315</pre></div></td></tr><tr><td>F1Score</td><td><div class=\"dni-plaintext\"><pre>0.5</pre></div></td></tr><tr><td>AreaUnderPrecisionRecallCurve</td><td><div class=\"dni-plaintext\"><pre>0.4955143365139574</pre></div></td></tr><tr><td>ConfusionMatrix</td><td><details class=\"dni-treeview\"><summary><span class=\"dni-code-hint\"><code>Microsoft.ML.Data.ConfusionMatrix</code></span></summary><div><table><thead><tr></tr></thead><tbody><tr><td>PerClassPrecision</td><td>[ 0.6666666666666666, 0.8571428571428571 ]</td></tr><tr><td>PerClassRecall</td><td>[ 0.4, 0.9473684210526315 ]</td></tr><tr><td>Counts</td><td>[ [ 8, 12 ], [ 4, 72 ] ]</td></tr><tr><td>NumberOfClasses</td><td>2</td></tr></tbody></table></div></details></td></tr></tbody></table></div></details></td></tr><tr><td>Model</td><td><details class=\"dni-treeview\"><summary><span class=\"dni-code-hint\"><code>[ Microsoft.ML.Transforms.MissingValueReplacingTransformer, Microsoft.ML.Transforms.TypeConvertingTransformer, Microsoft.ML.Transforms.Text.TextFeaturizingEstimator+Transformer, Microsoft.ML.Data.ColumnConcatenatingTransformer, Microsoft.ML.Data.BinaryPredictionTransformer`1[Microsoft.ML.Calibrators.CalibratedModelParametersBase`2[Microsoft.ML.Trainers.FastTree.FastTreeBinaryModelParameters,Microsoft.ML.Calibrators.PlattCalibrator]] ]</code></span></summary><div><table><thead><tr></tr></thead><tbody><tr><td>LastTransformer</td><td><details class=\"dni-treeview\"><summary><span class=\"dni-code-hint\"><code>Microsoft.ML.Data.BinaryPredictionTransformer`1[Microsoft.ML.Calibrators.CalibratedModelParametersBase`2[Microsoft.ML.Trainers.FastTree.FastTreeBinaryModelParameters,Microsoft.ML.Calibrators.PlattCalibrator]]</code></span></summary><div><table><thead><tr></tr></thead><tbody><tr><td>FeatureColumnName</td><td>__Features__</td></tr><tr><td>FeatureColumnType</td><td>Vector<Single, 6485></td></tr><tr><td>Model</td><td>Microsoft.ML.Calibrators.FeatureWeightsCalibratedModelParameters`2[Microsoft.ML.Trainers.FastTree.FastTreeBinaryModelParameters,Microsoft.ML.Calibrators.PlattCalibrator]</td></tr></tbody></table></div></details></td></tr><tr><td><i>(values)</i></td><td><table><thead><tr><th><i>index</i></th><th><i>type</i></th><th>value</th></tr></thead><tbody><tr><td>0</td><td><span><a href=\"https://docs.microsoft.com/dotnet/api/microsoft.ml.transforms.missingvaluereplacingtransformer?view=net-7.0\">Microsoft.ML.Transforms.MissingValueReplacingTransformer</a></span></td><td><details class=\"dni-treeview\"><summary><span class=\"dni-code-hint\"><code>Microsoft.ML.Transforms.MissingValueReplacingTransformer</code></span></summary><div><table><thead><tr></tr></thead><tbody></tbody></table></div></details></td></tr><tr><td>1</td><td><span><a href=\"https://docs.microsoft.com/dotnet/api/microsoft.ml.transforms.typeconvertingtransformer?view=net-7.0\">Microsoft.ML.Transforms.TypeConvertingTransformer</a></span></td><td><details class=\"dni-treeview\"><summary><span class=\"dni-code-hint\"><code>Microsoft.ML.Transforms.TypeConvertingTransformer</code></span></summary><div><table><thead><tr></tr></thead><tbody></tbody></table></div></details></td></tr><tr><td>2</td><td><span><a href=\"https://docs.microsoft.com/dotnet/api/microsoft.ml.transforms.text.textfeaturizingestimator.transformer?view=net-7.0\">Microsoft.ML.Transforms.Text.TextFeaturizingEstimator+Transformer</a></span></td><td><details class=\"dni-treeview\"><summary><span class=\"dni-code-hint\"><code>Microsoft.ML.Transforms.Text.TextFeaturizingEstimator+Transformer</code></span></summary><div><table><thead><tr></tr></thead><tbody></tbody></table></div></details></td></tr><tr><td>3</td><td><span><a href=\"https://docs.microsoft.com/dotnet/api/microsoft.ml.data.columnconcatenatingtransformer?view=net-7.0\">Microsoft.ML.Data.ColumnConcatenatingTransformer</a></span></td><td><details class=\"dni-treeview\"><summary><span class=\"dni-code-hint\"><code>Microsoft.ML.Data.ColumnConcatenatingTransformer</code></span></summary><div><table><thead><tr></tr></thead><tbody></tbody></table></div></details></td></tr><tr><td>4</td><td><span><a href=\"https://docs.microsoft.com/dotnet/api/microsoft.ml.data.binarypredictiontransformer-1?view=net-7.0\">Microsoft.ML.Data.BinaryPredictionTransformer&lt;Microsoft.ML.Calibrators.CalibratedModelParametersBase&lt;Microsoft.ML.Trainers.FastTree.FastTreeBinaryModelParameters,Microsoft.ML.Calibrators.PlattCalibrator&gt;&gt;</a></span></td><td><details class=\"dni-treeview\"><summary><span class=\"dni-code-hint\"><code>Microsoft.ML.Data.BinaryPredictionTransformer`1[Microsoft.ML.Calibrators.CalibratedModelParametersBase`2[Microsoft.ML.Trainers.FastTree.FastTreeBinaryModelParameters,Microsoft.ML.Calibrators.PlattCalibrator]]</code></span></summary><div><table><thead><tr></tr></thead><tbody><tr><td>FeatureColumnName</td><td>__Features__</td></tr><tr><td>FeatureColumnType</td><td>Vector<Single, 6485></td></tr><tr><td>Model</td><td>Microsoft.ML.Calibrators.FeatureWeightsCalibratedModelParameters`2[Microsoft.ML.Trainers.FastTree.FastTreeBinaryModelParameters,Microsoft.ML.Calibrators.PlattCalibrator]</td></tr></tbody></table></div></details></td></tr></tbody></table></td></tr></tbody></table></div></details></td></tr><tr><td>Exception</td><td><div class=\"dni-plaintext\"><pre>&lt;null&gt;</pre></div></td></tr></tbody></table></div></details></td></tr><tr><td>3</td><td><details class=\"dni-treeview\"><summary><span class=\"dni-code-hint\"><code>Microsoft.ML.AutoML.TrainResult`1[Microsoft.ML.Data.BinaryClassificationMetrics]</code></span></summary><div><table><thead><tr></tr></thead><tbody><tr><td>ValidationMetrics</td><td><details class=\"dni-treeview\"><summary><span class=\"dni-code-hint\"><code>Microsoft.ML.Data.BinaryClassificationMetrics</code></span></summary><div><table><thead><tr></tr></thead><tbody><tr><td>AreaUnderRocCurve</td><td><div class=\"dni-plaintext\"><pre>0.8726153846153846</pre></div></td></tr><tr><td>Accuracy</td><td><div class=\"dni-plaintext\"><pre>0.8555555555555555</pre></div></td></tr><tr><td>PositivePrecision</td><td><div class=\"dni-plaintext\"><pre>0.75</pre></div></td></tr><tr><td>PositiveRecall</td><td><div class=\"dni-plaintext\"><pre>0.72</pre></div></td></tr><tr><td>NegativePrecision</td><td><div class=\"dni-plaintext\"><pre>0.8939393939393939</pre></div></td></tr><tr><td>NegativeRecall</td><td><div class=\"dni-plaintext\"><pre>0.9076923076923077</pre></div></td></tr><tr><td>F1Score</td><td><div class=\"dni-plaintext\"><pre>0.7346938775510204</pre></div></td></tr><tr><td>AreaUnderPrecisionRecallCurve</td><td><div class=\"dni-plaintext\"><pre>0.8271402302634467</pre></div></td></tr><tr><td>ConfusionMatrix</td><td><details class=\"dni-treeview\"><summary><span class=\"dni-code-hint\"><code>Microsoft.ML.Data.ConfusionMatrix</code></span></summary><div><table><thead><tr></tr></thead><tbody><tr><td>PerClassPrecision</td><td>[ 0.75, 0.8939393939393939 ]</td></tr><tr><td>PerClassRecall</td><td>[ 0.72, 0.9076923076923077 ]</td></tr><tr><td>Counts</td><td>[ [ 18, 7 ], [ 6, 59 ] ]</td></tr><tr><td>NumberOfClasses</td><td>2</td></tr></tbody></table></div></details></td></tr></tbody></table></div></details></td></tr><tr><td>Model</td><td><details class=\"dni-treeview\"><summary><span class=\"dni-code-hint\"><code>[ Microsoft.ML.Transforms.MissingValueReplacingTransformer, Microsoft.ML.Transforms.TypeConvertingTransformer, Microsoft.ML.Transforms.Text.TextFeaturizingEstimator+Transformer, Microsoft.ML.Data.ColumnConcatenatingTransformer, Microsoft.ML.Data.BinaryPredictionTransformer`1[Microsoft.ML.Calibrators.CalibratedModelParametersBase`2[Microsoft.ML.Trainers.FastTree.FastTreeBinaryModelParameters,Microsoft.ML.Calibrators.PlattCalibrator]] ]</code></span></summary><div><table><thead><tr></tr></thead><tbody><tr><td>LastTransformer</td><td><details class=\"dni-treeview\"><summary><span class=\"dni-code-hint\"><code>Microsoft.ML.Data.BinaryPredictionTransformer`1[Microsoft.ML.Calibrators.CalibratedModelParametersBase`2[Microsoft.ML.Trainers.FastTree.FastTreeBinaryModelParameters,Microsoft.ML.Calibrators.PlattCalibrator]]</code></span></summary><div><table><thead><tr></tr></thead><tbody><tr><td>FeatureColumnName</td><td>__Features__</td></tr><tr><td>FeatureColumnType</td><td>Vector<Single, 6504></td></tr><tr><td>Model</td><td>Microsoft.ML.Calibrators.FeatureWeightsCalibratedModelParameters`2[Microsoft.ML.Trainers.FastTree.FastTreeBinaryModelParameters,Microsoft.ML.Calibrators.PlattCalibrator]</td></tr></tbody></table></div></details></td></tr><tr><td><i>(values)</i></td><td><table><thead><tr><th><i>index</i></th><th><i>type</i></th><th>value</th></tr></thead><tbody><tr><td>0</td><td><span><a href=\"https://docs.microsoft.com/dotnet/api/microsoft.ml.transforms.missingvaluereplacingtransformer?view=net-7.0\">Microsoft.ML.Transforms.MissingValueReplacingTransformer</a></span></td><td><details class=\"dni-treeview\"><summary><span class=\"dni-code-hint\"><code>Microsoft.ML.Transforms.MissingValueReplacingTransformer</code></span></summary><div><table><thead><tr></tr></thead><tbody></tbody></table></div></details></td></tr><tr><td>1</td><td><span><a href=\"https://docs.microsoft.com/dotnet/api/microsoft.ml.transforms.typeconvertingtransformer?view=net-7.0\">Microsoft.ML.Transforms.TypeConvertingTransformer</a></span></td><td><details class=\"dni-treeview\"><summary><span class=\"dni-code-hint\"><code>Microsoft.ML.Transforms.TypeConvertingTransformer</code></span></summary><div><table><thead><tr></tr></thead><tbody></tbody></table></div></details></td></tr><tr><td>2</td><td><span><a href=\"https://docs.microsoft.com/dotnet/api/microsoft.ml.transforms.text.textfeaturizingestimator.transformer?view=net-7.0\">Microsoft.ML.Transforms.Text.TextFeaturizingEstimator+Transformer</a></span></td><td><details class=\"dni-treeview\"><summary><span class=\"dni-code-hint\"><code>Microsoft.ML.Transforms.Text.TextFeaturizingEstimator+Transformer</code></span></summary><div><table><thead><tr></tr></thead><tbody></tbody></table></div></details></td></tr><tr><td>3</td><td><span><a href=\"https://docs.microsoft.com/dotnet/api/microsoft.ml.data.columnconcatenatingtransformer?view=net-7.0\">Microsoft.ML.Data.ColumnConcatenatingTransformer</a></span></td><td><details class=\"dni-treeview\"><summary><span class=\"dni-code-hint\"><code>Microsoft.ML.Data.ColumnConcatenatingTransformer</code></span></summary><div><table><thead><tr></tr></thead><tbody></tbody></table></div></details></td></tr><tr><td>4</td><td><span><a href=\"https://docs.microsoft.com/dotnet/api/microsoft.ml.data.binarypredictiontransformer-1?view=net-7.0\">Microsoft.ML.Data.BinaryPredictionTransformer&lt;Microsoft.ML.Calibrators.CalibratedModelParametersBase&lt;Microsoft.ML.Trainers.FastTree.FastTreeBinaryModelParameters,Microsoft.ML.Calibrators.PlattCalibrator&gt;&gt;</a></span></td><td><details class=\"dni-treeview\"><summary><span class=\"dni-code-hint\"><code>Microsoft.ML.Data.BinaryPredictionTransformer`1[Microsoft.ML.Calibrators.CalibratedModelParametersBase`2[Microsoft.ML.Trainers.FastTree.FastTreeBinaryModelParameters,Microsoft.ML.Calibrators.PlattCalibrator]]</code></span></summary><div><table><thead><tr></tr></thead><tbody><tr><td>FeatureColumnName</td><td>__Features__</td></tr><tr><td>FeatureColumnType</td><td>Vector<Single, 6504></td></tr><tr><td>Model</td><td>Microsoft.ML.Calibrators.FeatureWeightsCalibratedModelParameters`2[Microsoft.ML.Trainers.FastTree.FastTreeBinaryModelParameters,Microsoft.ML.Calibrators.PlattCalibrator]</td></tr></tbody></table></div></details></td></tr></tbody></table></td></tr></tbody></table></div></details></td></tr><tr><td>Exception</td><td><div class=\"dni-plaintext\"><pre>&lt;null&gt;</pre></div></td></tr></tbody></table></div></details></td></tr><tr><td>4</td><td><details class=\"dni-treeview\"><summary><span class=\"dni-code-hint\"><code>Microsoft.ML.AutoML.TrainResult`1[Microsoft.ML.Data.BinaryClassificationMetrics]</code></span></summary><div><table><thead><tr></tr></thead><tbody><tr><td>ValidationMetrics</td><td><details class=\"dni-treeview\"><summary><span class=\"dni-code-hint\"><code>Microsoft.ML.Data.BinaryClassificationMetrics</code></span></summary><div><table><thead><tr></tr></thead><tbody><tr><td>AreaUnderRocCurve</td><td><div class=\"dni-plaintext\"><pre>0.7737364194615022</pre></div></td></tr><tr><td>Accuracy</td><td><div class=\"dni-plaintext\"><pre>0.7647058823529411</pre></div></td></tr><tr><td>PositivePrecision</td><td><div class=\"dni-plaintext\"><pre>0.6</pre></div></td></tr><tr><td>PositiveRecall</td><td><div class=\"dni-plaintext\"><pre>0.5172413793103449</pre></div></td></tr><tr><td>NegativePrecision</td><td><div class=\"dni-plaintext\"><pre>0.8181818181818182</pre></div></td></tr><tr><td>NegativeRecall</td><td><div class=\"dni-plaintext\"><pre>0.863013698630137</pre></div></td></tr><tr><td>F1Score</td><td><div class=\"dni-plaintext\"><pre>0.5555555555555556</pre></div></td></tr><tr><td>AreaUnderPrecisionRecallCurve</td><td><div class=\"dni-plaintext\"><pre>0.6884485165586499</pre></div></td></tr><tr><td>ConfusionMatrix</td><td><details class=\"dni-treeview\"><summary><span class=\"dni-code-hint\"><code>Microsoft.ML.Data.ConfusionMatrix</code></span></summary><div><table><thead><tr></tr></thead><tbody><tr><td>PerClassPrecision</td><td>[ 0.6, 0.8181818181818182 ]</td></tr><tr><td>PerClassRecall</td><td>[ 0.5172413793103449, 0.863013698630137 ]</td></tr><tr><td>Counts</td><td>[ [ 15, 14 ], [ 10, 63 ] ]</td></tr><tr><td>NumberOfClasses</td><td>2</td></tr></tbody></table></div></details></td></tr></tbody></table></div></details></td></tr><tr><td>Model</td><td><details class=\"dni-treeview\"><summary><span class=\"dni-code-hint\"><code>[ Microsoft.ML.Transforms.MissingValueReplacingTransformer, Microsoft.ML.Transforms.TypeConvertingTransformer, Microsoft.ML.Transforms.Text.TextFeaturizingEstimator+Transformer, Microsoft.ML.Data.ColumnConcatenatingTransformer, Microsoft.ML.Data.BinaryPredictionTransformer`1[Microsoft.ML.Calibrators.CalibratedModelParametersBase`2[Microsoft.ML.Trainers.FastTree.FastTreeBinaryModelParameters,Microsoft.ML.Calibrators.PlattCalibrator]] ]</code></span></summary><div><table><thead><tr></tr></thead><tbody><tr><td>LastTransformer</td><td><details class=\"dni-treeview\"><summary><span class=\"dni-code-hint\"><code>Microsoft.ML.Data.BinaryPredictionTransformer`1[Microsoft.ML.Calibrators.CalibratedModelParametersBase`2[Microsoft.ML.Trainers.FastTree.FastTreeBinaryModelParameters,Microsoft.ML.Calibrators.PlattCalibrator]]</code></span></summary><div><table><thead><tr></tr></thead><tbody><tr><td>FeatureColumnName</td><td>__Features__</td></tr><tr><td>FeatureColumnType</td><td>Vector<Single, 6255></td></tr><tr><td>Model</td><td>Microsoft.ML.Calibrators.FeatureWeightsCalibratedModelParameters`2[Microsoft.ML.Trainers.FastTree.FastTreeBinaryModelParameters,Microsoft.ML.Calibrators.PlattCalibrator]</td></tr></tbody></table></div></details></td></tr><tr><td><i>(values)</i></td><td><table><thead><tr><th><i>index</i></th><th><i>type</i></th><th>value</th></tr></thead><tbody><tr><td>0</td><td><span><a href=\"https://docs.microsoft.com/dotnet/api/microsoft.ml.transforms.missingvaluereplacingtransformer?view=net-7.0\">Microsoft.ML.Transforms.MissingValueReplacingTransformer</a></span></td><td><details class=\"dni-treeview\"><summary><span class=\"dni-code-hint\"><code>Microsoft.ML.Transforms.MissingValueReplacingTransformer</code></span></summary><div><table><thead><tr></tr></thead><tbody></tbody></table></div></details></td></tr><tr><td>1</td><td><span><a href=\"https://docs.microsoft.com/dotnet/api/microsoft.ml.transforms.typeconvertingtransformer?view=net-7.0\">Microsoft.ML.Transforms.TypeConvertingTransformer</a></span></td><td><details class=\"dni-treeview\"><summary><span class=\"dni-code-hint\"><code>Microsoft.ML.Transforms.TypeConvertingTransformer</code></span></summary><div><table><thead><tr></tr></thead><tbody></tbody></table></div></details></td></tr><tr><td>2</td><td><span><a href=\"https://docs.microsoft.com/dotnet/api/microsoft.ml.transforms.text.textfeaturizingestimator.transformer?view=net-7.0\">Microsoft.ML.Transforms.Text.TextFeaturizingEstimator+Transformer</a></span></td><td><details class=\"dni-treeview\"><summary><span class=\"dni-code-hint\"><code>Microsoft.ML.Transforms.Text.TextFeaturizingEstimator+Transformer</code></span></summary><div><table><thead><tr></tr></thead><tbody></tbody></table></div></details></td></tr><tr><td>3</td><td><span><a href=\"https://docs.microsoft.com/dotnet/api/microsoft.ml.data.columnconcatenatingtransformer?view=net-7.0\">Microsoft.ML.Data.ColumnConcatenatingTransformer</a></span></td><td><details class=\"dni-treeview\"><summary><span class=\"dni-code-hint\"><code>Microsoft.ML.Data.ColumnConcatenatingTransformer</code></span></summary><div><table><thead><tr></tr></thead><tbody></tbody></table></div></details></td></tr><tr><td>4</td><td><span><a href=\"https://docs.microsoft.com/dotnet/api/microsoft.ml.data.binarypredictiontransformer-1?view=net-7.0\">Microsoft.ML.Data.BinaryPredictionTransformer&lt;Microsoft.ML.Calibrators.CalibratedModelParametersBase&lt;Microsoft.ML.Trainers.FastTree.FastTreeBinaryModelParameters,Microsoft.ML.Calibrators.PlattCalibrator&gt;&gt;</a></span></td><td><details class=\"dni-treeview\"><summary><span class=\"dni-code-hint\"><code>Microsoft.ML.Data.BinaryPredictionTransformer`1[Microsoft.ML.Calibrators.CalibratedModelParametersBase`2[Microsoft.ML.Trainers.FastTree.FastTreeBinaryModelParameters,Microsoft.ML.Calibrators.PlattCalibrator]]</code></span></summary><div><table><thead><tr></tr></thead><tbody><tr><td>FeatureColumnName</td><td>__Features__</td></tr><tr><td>FeatureColumnType</td><td>Vector<Single, 6255></td></tr><tr><td>Model</td><td>Microsoft.ML.Calibrators.FeatureWeightsCalibratedModelParameters`2[Microsoft.ML.Trainers.FastTree.FastTreeBinaryModelParameters,Microsoft.ML.Calibrators.PlattCalibrator]</td></tr></tbody></table></div></details></td></tr></tbody></table></td></tr></tbody></table></div></details></td></tr><tr><td>Exception</td><td><div class=\"dni-plaintext\"><pre>&lt;null&gt;</pre></div></td></tr></tbody></table></div></details></td></tr></tbody></table></td></tr><tr><td>TrainerName</td><td><div class=\"dni-plaintext\"><pre>ReplaceMissingValues=&gt;ConvertType=&gt;FeaturizeText=&gt;Concatenate=&gt;FastTreeBinary</pre></div></td></tr><tr><td>RuntimeInSeconds</td><td><div class=\"dni-plaintext\"><pre>0.74</pre></div></td></tr><tr><td>Estimator</td><td><details class=\"dni-treeview\"><summary><span class=\"dni-code-hint\"><code>Microsoft.ML.Data.EstimatorChain`1[Microsoft.ML.ITransformer]</code></span></summary><div><table><thead><tr></tr></thead><tbody><tr><td>LastEstimator</td><td><details class=\"dni-treeview\"><summary><span class=\"dni-code-hint\"><code>Microsoft.ML.Trainers.FastTree.FastTreeBinaryTrainer</code></span></summary><div><table><thead><tr></tr></thead><tbody><tr><td>Info</td><td><details class=\"dni-treeview\"><summary><span class=\"dni-code-hint\"><code>Microsoft.ML.TrainerInfo</code></span></summary><div><table><thead><tr></tr></thead><tbody><tr><td>NeedNormalization</td><td><div class=\"dni-plaintext\"><pre>False</pre></div></td></tr><tr><td>WantCaching</td><td><div class=\"dni-plaintext\"><pre>False</pre></div></td></tr></tbody></table></div></details></td></tr><tr><td>GroupIdColumn</td><td><details class=\"dni-treeview\"><summary><span class=\"dni-code-hint\"><code>Microsoft.ML.SchemaShape+Column</code></span></summary><div><table><thead><tr></tr></thead><tbody><tr><td>Name</td><td><div class=\"dni-plaintext\"><pre>&lt;null&gt;</pre></div></td></tr><tr><td>Kind</td><td><span>Scalar</span></td></tr><tr><td>ItemType</td><td><div class=\"dni-plaintext\"><pre>&lt;null&gt;</pre></div></td></tr><tr><td>IsKey</td><td><div class=\"dni-plaintext\"><pre>False</pre></div></td></tr><tr><td>Annotations</td><td><div class=\"dni-plaintext\"><pre>&lt;null&gt;</pre></div></td></tr></tbody></table></div></details></td></tr><tr><td>FeatureColumn</td><td><details class=\"dni-treeview\"><summary><span class=\"dni-code-hint\"><code>Microsoft.ML.SchemaShape+Column</code></span></summary><div><table><thead><tr></tr></thead><tbody><tr><td>Name</td><td><div class=\"dni-plaintext\"><pre>__Features__</pre></div></td></tr><tr><td>Kind</td><td><span>Vector</span></td></tr><tr><td>ItemType</td><td><details class=\"dni-treeview\"><summary><span class=\"dni-code-hint\"><code>Single</code></span></summary><div><table><thead><tr></tr></thead><tbody><tr><td>RawType</td><td>System.Single</td></tr></tbody></table></div></details></td></tr><tr><td>IsKey</td><td><div class=\"dni-plaintext\"><pre>False</pre></div></td></tr><tr><td>Annotations</td><td><details class=\"dni-treeview\"><summary><span class=\"dni-code-hint\"><code>[  ]</code></span></summary><div><table><thead><tr></tr></thead><tbody><tr><td>Count</td><td>0</td></tr><tr><td><i>(values)</i></td><td><i>(empty)</i></td></tr></tbody></table></div></details></td></tr></tbody></table></div></details></td></tr><tr><td>LabelColumn</td><td><details class=\"dni-treeview\"><summary><span class=\"dni-code-hint\"><code>Microsoft.ML.SchemaShape+Column</code></span></summary><div><table><thead><tr></tr></thead><tbody><tr><td>Name</td><td><div class=\"dni-plaintext\"><pre>Label</pre></div></td></tr><tr><td>Kind</td><td><span>Scalar</span></td></tr><tr><td>ItemType</td><td><details class=\"dni-treeview\"><summary><span class=\"dni-code-hint\"><code>Boolean</code></span></summary><div><table><thead><tr></tr></thead><tbody><tr><td>RawType</td><td>System.Boolean</td></tr></tbody></table></div></details></td></tr><tr><td>IsKey</td><td><div class=\"dni-plaintext\"><pre>False</pre></div></td></tr><tr><td>Annotations</td><td><details class=\"dni-treeview\"><summary><span class=\"dni-code-hint\"><code>[  ]</code></span></summary><div><table><thead><tr></tr></thead><tbody><tr><td>Count</td><td>0</td></tr><tr><td><i>(values)</i></td><td><i>(empty)</i></td></tr></tbody></table></div></details></td></tr></tbody></table></div></details></td></tr><tr><td>WeightColumn</td><td><details class=\"dni-treeview\"><summary><span class=\"dni-code-hint\"><code>Microsoft.ML.SchemaShape+Column</code></span></summary><div><table><thead><tr></tr></thead><tbody><tr><td>Name</td><td><div class=\"dni-plaintext\"><pre>&lt;null&gt;</pre></div></td></tr><tr><td>Kind</td><td><span>Scalar</span></td></tr><tr><td>ItemType</td><td><div class=\"dni-plaintext\"><pre>&lt;null&gt;</pre></div></td></tr><tr><td>IsKey</td><td><div class=\"dni-plaintext\"><pre>False</pre></div></td></tr><tr><td>Annotations</td><td><div class=\"dni-plaintext\"><pre>&lt;null&gt;</pre></div></td></tr></tbody></table></div></details></td></tr></tbody></table></div></details></td></tr></tbody></table></div></details></td></tr></tbody></table></div></details></td></tr></tbody></table></div></details><style>\r\n",
       ".dni-code-hint {\r\n",
       "    font-style: italic;\r\n",
       "    overflow: hidden;\r\n",
       "    white-space: nowrap;\r\n",
       "}\r\n",
       ".dni-treeview {\r\n",
       "    white-space: nowrap;\r\n",
       "}\r\n",
       ".dni-treeview td {\r\n",
       "    vertical-align: top;\r\n",
       "    text-align: start;\r\n",
       "}\r\n",
       "details.dni-treeview {\r\n",
       "    padding-left: 1em;\r\n",
       "}\r\n",
       "table td {\r\n",
       "    text-align: start;\r\n",
       "}\r\n",
       "table tr { \r\n",
       "    vertical-align: top; \r\n",
       "    margin: 0em 0px;\r\n",
       "}\r\n",
       "table tr td pre \r\n",
       "{ \r\n",
       "    vertical-align: top !important; \r\n",
       "    margin: 0em 0px !important;\r\n",
       "} \r\n",
       "table th {\r\n",
       "    text-align: start;\r\n",
       "}\r\n",
       "</style>"
      ]
     },
     "metadata": {},
     "output_type": "display_data"
    }
   ],
   "source": [
    "BinaryExperimentSettings settings = new BinaryExperimentSettings() {\n",
    "    MaxModels = 10,\n",
    "    OptimizingMetric = BinaryClassificationMetric.F1Score,\n",
    "};\n",
    "\n",
    "var results = context.Auto().CreateBinaryClassificationExperiment(settings)\n",
    "                            .Execute(df, numberOfCVFolds: 5, labelColumnName: \"Label\");\n",
    "\n",
    "// Cross Validation results are a bit different since they carry metrics per fold per result\n",
    "results"
   ]
  },
  {
   "cell_type": "code",
   "execution_count": null,
   "metadata": {
    "dotnet_interactive": {
     "language": "csharp"
    },
    "polyglot_notebook": {
     "kernelName": "csharp"
    },
    "vscode": {
     "languageId": "polyglot-notebook"
    }
   },
   "outputs": [
    {
     "data": {
      "text/html": [
       "<div class=\"dni-plaintext\"><pre>[ ReplaceMissingValues=&gt;ConvertType=&gt;FeaturizeText=&gt;Concatenate=&gt;FastTreeBinary: 0.6027252112966398\n",
       ", ReplaceMissingValues=&gt;ConvertType=&gt;FeaturizeText=&gt;Concatenate=&gt;FastTreeBinary: 0.6053447293447294\n",
       ", ReplaceMissingValues=&gt;ConvertType=&gt;FeaturizeText=&gt;Concatenate=&gt;FastTreeBinary: 0.6161520319785654\n",
       ", ReplaceMissingValues=&gt;ConvertType=&gt;FeaturizeText=&gt;Concatenate=&gt;FastTreeBinary: 0.6083565802774393\n",
       ", ReplaceMissingValues=&gt;ConvertType=&gt;FeaturizeText=&gt;Concatenate=&gt;LightGbmBinary: 0.6214192938600573\n",
       ", ReplaceMissingValues=&gt;ConvertType=&gt;FeaturizeText=&gt;Concatenate=&gt;FastTreeBinary: 0.6043624617230068\n",
       ", ReplaceMissingValues=&gt;ConvertType=&gt;FeaturizeText=&gt;Concatenate=&gt;FastTreeBinary: 0.5921440823327615\n",
       ", ReplaceMissingValues=&gt;ConvertType=&gt;FeaturizeText=&gt;Concatenate=&gt;FastForestBinary: 0.585175528873642\n",
       ", ReplaceMissingValues=&gt;ConvertType=&gt;FeaturizeText=&gt;Concatenate=&gt;FastTreeBinary: 0.5847834098317396\n",
       ", ReplaceMissingValues=&gt;ConvertType=&gt;FeaturizeText=&gt;Concatenate=&gt;LbfgsLogisticRegressionBinary: 0.39527499139101624\n",
       " ]</pre></div><style>\r\n",
       ".dni-code-hint {\r\n",
       "    font-style: italic;\r\n",
       "    overflow: hidden;\r\n",
       "    white-space: nowrap;\r\n",
       "}\r\n",
       ".dni-treeview {\r\n",
       "    white-space: nowrap;\r\n",
       "}\r\n",
       ".dni-treeview td {\r\n",
       "    vertical-align: top;\r\n",
       "    text-align: start;\r\n",
       "}\r\n",
       "details.dni-treeview {\r\n",
       "    padding-left: 1em;\r\n",
       "}\r\n",
       "table td {\r\n",
       "    text-align: start;\r\n",
       "}\r\n",
       "table tr { \r\n",
       "    vertical-align: top; \r\n",
       "    margin: 0em 0px;\r\n",
       "}\r\n",
       "table tr td pre \r\n",
       "{ \r\n",
       "    vertical-align: top !important; \r\n",
       "    margin: 0em 0px !important;\r\n",
       "} \r\n",
       "table th {\r\n",
       "    text-align: start;\r\n",
       "}\r\n",
       "</style>"
      ]
     },
     "metadata": {},
     "output_type": "display_data"
    }
   ],
   "source": [
    "// Let's start by averaging the overall F1 scores of each model considered against all of its folds\n",
    "results.RunDetails.OrderByDescending(r => r.Results.Max(v => v.ValidationMetrics.F1Score))\n",
    "                  .Select(r => r.TrainerName + \": \" + r.Results.Average(v => v.ValidationMetrics.F1Score) + Environment.NewLine)"
   ]
  },
  {
   "cell_type": "code",
   "execution_count": null,
   "metadata": {
    "dotnet_interactive": {
     "language": "csharp"
    },
    "polyglot_notebook": {
     "kernelName": "csharp"
    },
    "vscode": {
     "languageId": "polyglot-notebook"
    }
   },
   "outputs": [
    {
     "data": {
      "text/html": [
       "<div><div id=\"a123a86d-cbeb-4738-8065-f3ca5f68851f\"><!-- Plotly chart will be drawn inside this DIV --></div><script type=\"text/javascript\">\n",
       "var renderPlotly_a123a86dcbeb47388065f3ca5f68851f = function() {\n",
       "    var fsharpPlotlyRequire = requirejs.config({context:'fsharp-plotly',paths:{plotly:'https://cdn.plot.ly/plotly-2.27.1.min'}}) || require;\n",
       "    fsharpPlotlyRequire(['plotly'], function(Plotly) {\n",
       "        var data = [{\"type\":\"heatmap\",\"x\":[\"Positive\",\"Negative\"],\"y\":[\"Positive\",\"Negative\"],\"z\":[[20.0,12.0],[4.0,58.0]],\"colorscale\":[[0.0,\"#FFFFFF\"],[0.5,\"#009dcf\"],[1.0,\"#003171\"]],\"showscale\":false,\"xaxis\":\"x\",\"yaxis\":\"y\",\"marker\":{\"showscale\":false}},{\"type\":\"bar\",\"x\":[0.9354838709677419,0.8285714285714286,0.625,0.8333333333333334,0.7981657871596612,0.8220766129032258,0.7142857142857143,0.8297872340425532],\"y\":[\"Negative Recall\",\"Negative Precision\",\"Positive Recall\",\"Positive Precision\",\"AUCPR\",\"AUC\",\"F1 Score\",\"Accuracy\"],\"text\":[\"0.935\",\"0.829\",\"0.625\",\"0.833\",\"0.798\",\"0.822\",\"0.714\",\"0.830\"],\"orientation\":\"h\",\"marker\":{\"color\":\"#003171\",\"pattern\":{},\"showscale\":false},\"xaxis\":\"x2\",\"yaxis\":\"y2\"}];\n",
       "        var layout = {\"width\":600,\"height\":600,\"template\":{\"layout\":{\"title\":{\"x\":0.05},\"font\":{\"color\":\"rgba(42, 63, 95, 1.0)\"},\"paper_bgcolor\":\"rgba(255, 255, 255, 1.0)\",\"plot_bgcolor\":\"rgba(229, 236, 246, 1.0)\",\"autotypenumbers\":\"strict\",\"colorscale\":{\"diverging\":[[0.0,\"#8e0152\"],[0.1,\"#c51b7d\"],[0.2,\"#de77ae\"],[0.3,\"#f1b6da\"],[0.4,\"#fde0ef\"],[0.5,\"#f7f7f7\"],[0.6,\"#e6f5d0\"],[0.7,\"#b8e186\"],[0.8,\"#7fbc41\"],[0.9,\"#4d9221\"],[1.0,\"#276419\"]],\"sequential\":[[0.0,\"#0d0887\"],[0.1111111111111111,\"#46039f\"],[0.2222222222222222,\"#7201a8\"],[0.3333333333333333,\"#9c179e\"],[0.4444444444444444,\"#bd3786\"],[0.5555555555555556,\"#d8576b\"],[0.6666666666666666,\"#ed7953\"],[0.7777777777777778,\"#fb9f3a\"],[0.8888888888888888,\"#fdca26\"],[1.0,\"#f0f921\"]],\"sequentialminus\":[[0.0,\"#0d0887\"],[0.1111111111111111,\"#46039f\"],[0.2222222222222222,\"#7201a8\"],[0.3333333333333333,\"#9c179e\"],[0.4444444444444444,\"#bd3786\"],[0.5555555555555556,\"#d8576b\"],[0.6666666666666666,\"#ed7953\"],[0.7777777777777778,\"#fb9f3a\"],[0.8888888888888888,\"#fdca26\"],[1.0,\"#f0f921\"]]},\"hovermode\":\"closest\",\"hoverlabel\":{\"align\":\"left\"},\"coloraxis\":{\"colorbar\":{\"outlinewidth\":0.0,\"ticks\":\"\"}},\"geo\":{\"showland\":true,\"landcolor\":\"rgba(229, 236, 246, 1.0)\",\"showlakes\":true,\"lakecolor\":\"rgba(255, 255, 255, 1.0)\",\"subunitcolor\":\"rgba(255, 255, 255, 1.0)\",\"bgcolor\":\"rgba(255, 255, 255, 1.0)\"},\"mapbox\":{\"style\":\"light\"},\"polar\":{\"bgcolor\":\"rgba(229, 236, 246, 1.0)\",\"radialaxis\":{\"linecolor\":\"rgba(255, 255, 255, 1.0)\",\"gridcolor\":\"rgba(255, 255, 255, 1.0)\",\"ticks\":\"\"},\"angularaxis\":{\"linecolor\":\"rgba(255, 255, 255, 1.0)\",\"gridcolor\":\"rgba(255, 255, 255, 1.0)\",\"ticks\":\"\"}},\"scene\":{\"xaxis\":{\"ticks\":\"\",\"linecolor\":\"rgba(255, 255, 255, 1.0)\",\"gridcolor\":\"rgba(255, 255, 255, 1.0)\",\"gridwidth\":2.0,\"zerolinecolor\":\"rgba(255, 255, 255, 1.0)\",\"backgroundcolor\":\"rgba(229, 236, 246, 1.0)\",\"showbackground\":true},\"yaxis\":{\"ticks\":\"\",\"linecolor\":\"rgba(255, 255, 255, 1.0)\",\"gridcolor\":\"rgba(255, 255, 255, 1.0)\",\"gridwidth\":2.0,\"zerolinecolor\":\"rgba(255, 255, 255, 1.0)\",\"backgroundcolor\":\"rgba(229, 236, 246, 1.0)\",\"showbackground\":true},\"zaxis\":{\"ticks\":\"\",\"linecolor\":\"rgba(255, 255, 255, 1.0)\",\"gridcolor\":\"rgba(255, 255, 255, 1.0)\",\"gridwidth\":2.0,\"zerolinecolor\":\"rgba(255, 255, 255, 1.0)\",\"backgroundcolor\":\"rgba(229, 236, 246, 1.0)\",\"showbackground\":true}},\"ternary\":{\"aaxis\":{\"ticks\":\"\",\"linecolor\":\"rgba(255, 255, 255, 1.0)\",\"gridcolor\":\"rgba(255, 255, 255, 1.0)\"},\"baxis\":{\"ticks\":\"\",\"linecolor\":\"rgba(255, 255, 255, 1.0)\",\"gridcolor\":\"rgba(255, 255, 255, 1.0)\"},\"caxis\":{\"ticks\":\"\",\"linecolor\":\"rgba(255, 255, 255, 1.0)\",\"gridcolor\":\"rgba(255, 255, 255, 1.0)\"},\"bgcolor\":\"rgba(229, 236, 246, 1.0)\"},\"xaxis\":{\"title\":{\"standoff\":15},\"ticks\":\"\",\"automargin\":\"height+width+left+right+top+bottom\",\"linecolor\":\"rgba(255, 255, 255, 1.0)\",\"gridcolor\":\"rgba(255, 255, 255, 1.0)\",\"zerolinecolor\":\"rgba(255, 255, 255, 1.0)\",\"zerolinewidth\":2.0},\"yaxis\":{\"title\":{\"standoff\":15},\"ticks\":\"\",\"automargin\":\"height+width+left+right+top+bottom\",\"linecolor\":\"rgba(255, 255, 255, 1.0)\",\"gridcolor\":\"rgba(255, 255, 255, 1.0)\",\"zerolinecolor\":\"rgba(255, 255, 255, 1.0)\",\"zerolinewidth\":2.0},\"annotationdefaults\":{\"arrowcolor\":\"#2a3f5f\",\"arrowhead\":0,\"arrowwidth\":1},\"shapedefaults\":{\"line\":{\"color\":\"rgba(42, 63, 95, 1.0)\"}},\"colorway\":[\"rgba(99, 110, 250, 1.0)\",\"rgba(239, 85, 59, 1.0)\",\"rgba(0, 204, 150, 1.0)\",\"rgba(171, 99, 250, 1.0)\",\"rgba(255, 161, 90, 1.0)\",\"rgba(25, 211, 243, 1.0)\",\"rgba(255, 102, 146, 1.0)\",\"rgba(182, 232, 128, 1.0)\",\"rgba(255, 151, 255, 1.0)\",\"rgba(254, 203, 82, 1.0)\"]},\"data\":{\"bar\":[{\"marker\":{\"line\":{\"color\":\"rgba(229, 236, 246, 1.0)\",\"width\":0.5},\"pattern\":{\"fillmode\":\"overlay\",\"size\":10,\"solidity\":0.2}},\"error_x\":{\"color\":\"rgba(42, 63, 95, 1.0)\"},\"error_y\":{\"color\":\"rgba(42, 63, 95, 1.0)\"}}],\"barpolar\":[{\"marker\":{\"line\":{\"color\":\"rgba(229, 236, 246, 1.0)\",\"width\":0.5},\"pattern\":{\"fillmode\":\"overlay\",\"size\":10,\"solidity\":0.2}}}],\"carpet\":[{\"aaxis\":{\"linecolor\":\"rgba(255, 255, 255, 1.0)\",\"gridcolor\":\"rgba(255, 255, 255, 1.0)\",\"endlinecolor\":\"rgba(42, 63, 95, 1.0)\",\"minorgridcolor\":\"rgba(255, 255, 255, 1.0)\",\"startlinecolor\":\"rgba(42, 63, 95, 1.0)\"},\"baxis\":{\"linecolor\":\"rgba(255, 255, 255, 1.0)\",\"gridcolor\":\"rgba(255, 255, 255, 1.0)\",\"endlinecolor\":\"rgba(42, 63, 95, 1.0)\",\"minorgridcolor\":\"rgba(255, 255, 255, 1.0)\",\"startlinecolor\":\"rgba(42, 63, 95, 1.0)\"}}],\"choropleth\":[{\"colorbar\":{\"outlinewidth\":0.0,\"ticks\":\"\"},\"colorscale\":[[0.0,\"#0d0887\"],[0.1111111111111111,\"#46039f\"],[0.2222222222222222,\"#7201a8\"],[0.3333333333333333,\"#9c179e\"],[0.4444444444444444,\"#bd3786\"],[0.5555555555555556,\"#d8576b\"],[0.6666666666666666,\"#ed7953\"],[0.7777777777777778,\"#fb9f3a\"],[0.8888888888888888,\"#fdca26\"],[1.0,\"#f0f921\"]]}],\"contour\":[{\"colorbar\":{\"outlinewidth\":0.0,\"ticks\":\"\"},\"colorscale\":[[0.0,\"#0d0887\"],[0.1111111111111111,\"#46039f\"],[0.2222222222222222,\"#7201a8\"],[0.3333333333333333,\"#9c179e\"],[0.4444444444444444,\"#bd3786\"],[0.5555555555555556,\"#d8576b\"],[0.6666666666666666,\"#ed7953\"],[0.7777777777777778,\"#fb9f3a\"],[0.8888888888888888,\"#fdca26\"],[1.0,\"#f0f921\"]]}],\"contourcarpet\":[{\"colorbar\":{\"outlinewidth\":0.0,\"ticks\":\"\"}}],\"heatmap\":[{\"colorbar\":{\"outlinewidth\":0.0,\"ticks\":\"\"},\"colorscale\":[[0.0,\"#0d0887\"],[0.1111111111111111,\"#46039f\"],[0.2222222222222222,\"#7201a8\"],[0.3333333333333333,\"#9c179e\"],[0.4444444444444444,\"#bd3786\"],[0.5555555555555556,\"#d8576b\"],[0.6666666666666666,\"#ed7953\"],[0.7777777777777778,\"#fb9f3a\"],[0.8888888888888888,\"#fdca26\"],[1.0,\"#f0f921\"]]}],\"heatmapgl\":[{\"colorbar\":{\"outlinewidth\":0.0,\"ticks\":\"\"},\"colorscale\":[[0.0,\"#0d0887\"],[0.1111111111111111,\"#46039f\"],[0.2222222222222222,\"#7201a8\"],[0.3333333333333333,\"#9c179e\"],[0.4444444444444444,\"#bd3786\"],[0.5555555555555556,\"#d8576b\"],[0.6666666666666666,\"#ed7953\"],[0.7777777777777778,\"#fb9f3a\"],[0.8888888888888888,\"#fdca26\"],[1.0,\"#f0f921\"]]}],\"histogram\":[{\"marker\":{\"pattern\":{\"fillmode\":\"overlay\",\"size\":10,\"solidity\":0.2}}}],\"histogram2d\":[{\"colorbar\":{\"outlinewidth\":0.0,\"ticks\":\"\"},\"colorscale\":[[0.0,\"#0d0887\"],[0.1111111111111111,\"#46039f\"],[0.2222222222222222,\"#7201a8\"],[0.3333333333333333,\"#9c179e\"],[0.4444444444444444,\"#bd3786\"],[0.5555555555555556,\"#d8576b\"],[0.6666666666666666,\"#ed7953\"],[0.7777777777777778,\"#fb9f3a\"],[0.8888888888888888,\"#fdca26\"],[1.0,\"#f0f921\"]]}],\"histogram2dcontour\":[{\"colorbar\":{\"outlinewidth\":0.0,\"ticks\":\"\"},\"colorscale\":[[0.0,\"#0d0887\"],[0.1111111111111111,\"#46039f\"],[0.2222222222222222,\"#7201a8\"],[0.3333333333333333,\"#9c179e\"],[0.4444444444444444,\"#bd3786\"],[0.5555555555555556,\"#d8576b\"],[0.6666666666666666,\"#ed7953\"],[0.7777777777777778,\"#fb9f3a\"],[0.8888888888888888,\"#fdca26\"],[1.0,\"#f0f921\"]]}],\"mesh3d\":[{\"colorbar\":{\"outlinewidth\":0.0,\"ticks\":\"\"}}],\"parcoords\":[{\"line\":{\"colorbar\":{\"outlinewidth\":0.0,\"ticks\":\"\"}}}],\"pie\":[{\"automargin\":true}],\"scatter\":[{\"marker\":{\"colorbar\":{\"outlinewidth\":0.0,\"ticks\":\"\"}}}],\"scatter3d\":[{\"marker\":{\"colorbar\":{\"outlinewidth\":0.0,\"ticks\":\"\"}},\"line\":{\"colorbar\":{\"outlinewidth\":0.0,\"ticks\":\"\"}}}],\"scattercarpet\":[{\"marker\":{\"colorbar\":{\"outlinewidth\":0.0,\"ticks\":\"\"}}}],\"scattergeo\":[{\"marker\":{\"colorbar\":{\"outlinewidth\":0.0,\"ticks\":\"\"}}}],\"scattergl\":[{\"marker\":{\"colorbar\":{\"outlinewidth\":0.0,\"ticks\":\"\"}}}],\"scattermapbox\":[{\"marker\":{\"colorbar\":{\"outlinewidth\":0.0,\"ticks\":\"\"}}}],\"scatterpolar\":[{\"marker\":{\"colorbar\":{\"outlinewidth\":0.0,\"ticks\":\"\"}}}],\"scatterpolargl\":[{\"marker\":{\"colorbar\":{\"outlinewidth\":0.0,\"ticks\":\"\"}}}],\"scatterternary\":[{\"marker\":{\"colorbar\":{\"outlinewidth\":0.0,\"ticks\":\"\"}}}],\"surface\":[{\"colorbar\":{\"outlinewidth\":0.0,\"ticks\":\"\"},\"colorscale\":[[0.0,\"#0d0887\"],[0.1111111111111111,\"#46039f\"],[0.2222222222222222,\"#7201a8\"],[0.3333333333333333,\"#9c179e\"],[0.4444444444444444,\"#bd3786\"],[0.5555555555555556,\"#d8576b\"],[0.6666666666666666,\"#ed7953\"],[0.7777777777777778,\"#fb9f3a\"],[0.8888888888888888,\"#fdca26\"],[1.0,\"#f0f921\"]]}],\"table\":[{\"cells\":{\"fill\":{\"color\":\"rgba(235, 240, 248, 1.0)\"},\"line\":{\"color\":\"rgba(255, 255, 255, 1.0)\"}},\"header\":{\"fill\":{\"color\":\"rgba(200, 212, 227, 1.0)\"},\"line\":{\"color\":\"rgba(255, 255, 255, 1.0)\"}}}]}},\"xaxis\":{\"title\":{\"text\":\"Predicted\"},\"showline\":false,\"showgrid\":false,\"side\":\"top\",\"showbackground\":false},\"title\":{\"text\":\"Classification Report\"},\"yaxis\":{\"autorange\":\"reversed\",\"title\":{\"text\":\"Actual\"},\"showline\":false,\"showgrid\":false,\"side\":\"left\",\"showbackground\":false},\"annotations\":[{\"x\":0.5,\"y\":1.0,\"showarrow\":false,\"text\":\"\",\"xanchor\":\"center\",\"xref\":\"paper\",\"yanchor\":\"bottom\",\"yref\":\"paper\"},{\"x\":0.5,\"y\":0.4117647058823529,\"showarrow\":false,\"text\":\"Binary Classification Metric\",\"xanchor\":\"center\",\"xref\":\"paper\",\"yanchor\":\"bottom\",\"yref\":\"paper\"},{\"x\":0,\"y\":0,\"bgcolor\":\"#FFFFFF\",\"bordercolor\":\"#003171\",\"font\":{\"size\":18.0},\"showarrow\":false,\"text\":\"20\"},{\"x\":1,\"y\":0,\"bgcolor\":\"#FFFFFF\",\"bordercolor\":\"#003171\",\"font\":{\"size\":18.0},\"showarrow\":false,\"text\":\"12\"},{\"x\":0,\"y\":1,\"bgcolor\":\"#FFFFFF\",\"bordercolor\":\"#003171\",\"font\":{\"size\":18.0},\"showarrow\":false,\"text\":\"4\"},{\"x\":1,\"y\":1,\"bgcolor\":\"#FFFFFF\",\"bordercolor\":\"#003171\",\"font\":{\"size\":18.0},\"showarrow\":false,\"text\":\"58\"}],\"xaxis2\":{\"title\":{},\"range\":[0,1]},\"yaxis2\":{},\"grid\":{\"rows\":2,\"columns\":1,\"roworder\":\"top to bottom\",\"pattern\":\"independent\"}};\n",
       "        var config = {\"responsive\":true};\n",
       "        Plotly.newPlot('a123a86d-cbeb-4738-8065-f3ca5f68851f', data, layout, config);\n",
       "    });\n",
       "};\n",
       "if ((typeof(requirejs) !==  typeof(Function)) || (typeof(requirejs.config) !== typeof(Function))) {\n",
       "    var script = document.createElement(\"script\");\n",
       "    script.setAttribute(\"charset\", \"utf-8\");\n",
       "    script.setAttribute(\"src\", \"https://cdnjs.cloudflare.com/ajax/libs/require.js/2.3.6/require.min.js\");\n",
       "    script.onload = function(){\n",
       "        renderPlotly_a123a86dcbeb47388065f3ca5f68851f();\n",
       "    };\n",
       "    document.getElementsByTagName(\"head\")[0].appendChild(script);\n",
       "}\n",
       "else {\n",
       "    renderPlotly_a123a86dcbeb47388065f3ca5f68851f();\n",
       "}\n",
       "</script></div>"
      ]
     },
     "metadata": {},
     "output_type": "display_data"
    }
   ],
   "source": [
    "// Now let's see the confusion matrix for the best model\n",
    "MLCharts.ClassificationReport(results.BestRun.Results.First().ValidationMetrics)"
   ]
  },
  {
   "cell_type": "code",
   "execution_count": null,
   "metadata": {
    "dotnet_interactive": {
     "language": "csharp"
    },
    "polyglot_notebook": {
     "kernelName": "csharp"
    },
    "vscode": {
     "languageId": "polyglot-notebook"
    }
   },
   "outputs": [
    {
     "data": {
      "text/html": [
       "<table id=\"table_638546605088154833\"><thead><tr><th><i>index</i></th><th>Model</th><th>F1 Score</th><th>Accuracy</th><th>Positive Precision</th><th>Positive Recall</th><th>Negative Precision</th><th>Negative Recall</th><th>AUC</th><th>AUCPR</th></tr></thead><tbody><tr><td><i><div class=\"dni-plaintext\"><pre>0</pre></div></i></td><td>Simple AutoML - 10% Test Split</td><td><div class=\"dni-plaintext\"><pre>0.6666666666666667</pre></div></td><td><div class=\"dni-plaintext\"><pre>0.7857142857142857</pre></div></td><td><div class=\"dni-plaintext\"><pre>0.9</pre></div></td><td><div class=\"dni-plaintext\"><pre>0.5294117647058824</pre></div></td><td><div class=\"dni-plaintext\"><pre>0.75</pre></div></td><td><div class=\"dni-plaintext\"><pre>0.96</pre></div></td><td><div class=\"dni-plaintext\"><pre>0.7847058823529411</pre></div></td><td><div class=\"dni-plaintext\"><pre>0.7916167381810545</pre></div></td></tr><tr><td><i><div class=\"dni-plaintext\"><pre>1</pre></div></i></td><td>Simple AutoML - 30% Test Split</td><td><div class=\"dni-plaintext\"><pre>0.6478873239436619</pre></div></td><td><div class=\"dni-plaintext\"><pre>0.8287671232876712</pre></div></td><td><div class=\"dni-plaintext\"><pre>0.9583333333333334</pre></div></td><td><div class=\"dni-plaintext\"><pre>0.48936170212765956</pre></div></td><td><div class=\"dni-plaintext\"><pre>0.8032786885245902</pre></div></td><td><div class=\"dni-plaintext\"><pre>0.98989898989899</pre></div></td><td><div class=\"dni-plaintext\"><pre>0.8457984096281969</pre></div></td><td><div class=\"dni-plaintext\"><pre>0.8049616280288557</pre></div></td></tr><tr><td><i><div class=\"dni-plaintext\"><pre>2</pre></div></i></td><td>Simple AutoML - 5 Fold CV</td><td><div class=\"dni-plaintext\"><pre>0.7142857142857143</pre></div></td><td><div class=\"dni-plaintext\"><pre>0.8297872340425532</pre></div></td><td><div class=\"dni-plaintext\"><pre>0.8333333333333334</pre></div></td><td><div class=\"dni-plaintext\"><pre>0.625</pre></div></td><td><div class=\"dni-plaintext\"><pre>0.8285714285714286</pre></div></td><td><div class=\"dni-plaintext\"><pre>0.9354838709677419</pre></div></td><td><div class=\"dni-plaintext\"><pre>0.8220766129032258</pre></div></td><td><div class=\"dni-plaintext\"><pre>0.7981657871596612</pre></div></td></tr></tbody></table><style>\r\n",
       ".dni-code-hint {\r\n",
       "    font-style: italic;\r\n",
       "    overflow: hidden;\r\n",
       "    white-space: nowrap;\r\n",
       "}\r\n",
       ".dni-treeview {\r\n",
       "    white-space: nowrap;\r\n",
       "}\r\n",
       ".dni-treeview td {\r\n",
       "    vertical-align: top;\r\n",
       "    text-align: start;\r\n",
       "}\r\n",
       "details.dni-treeview {\r\n",
       "    padding-left: 1em;\r\n",
       "}\r\n",
       "table td {\r\n",
       "    text-align: start;\r\n",
       "}\r\n",
       "table tr { \r\n",
       "    vertical-align: top; \r\n",
       "    margin: 0em 0px;\r\n",
       "}\r\n",
       "table tr td pre \r\n",
       "{ \r\n",
       "    vertical-align: top !important; \r\n",
       "    margin: 0em 0px !important;\r\n",
       "} \r\n",
       "table th {\r\n",
       "    text-align: start;\r\n",
       "}\r\n",
       "</style>"
      ]
     },
     "metadata": {},
     "output_type": "display_data"
    }
   ],
   "source": [
    "modelTracker.Register(\"Simple AutoML - 5 Fold CV\", results.BestRun).ToDataFrame()"
   ]
  },
  {
   "cell_type": "markdown",
   "metadata": {},
   "source": [
    "Okay, so this is probably more of a reliable picture of our precision and overall F1 score.\n",
    "\n",
    "It looks like we're seeing a lot of trees, forests, and light GBM and all of them share a common set of pipeline transformation steps."
   ]
  },
  {
   "cell_type": "markdown",
   "metadata": {},
   "source": [
    "Let's take a look at what's important to this model:"
   ]
  },
  {
   "cell_type": "markdown",
   "metadata": {},
   "source": [
    "Sometimes this non-calibrated method can fail, generating blank charts / data due to no impacts. Unfortunately, this does not seem to respect random seeds or may be dependent on the CPU load for its results. This can result in some failures. In that case, it can be helpful to look at the table of columns considered."
   ]
  },
  {
   "cell_type": "markdown",
   "metadata": {},
   "source": [
    "During dev I saw mixed results including some feature importances, and it looks like it primarily cares about the message length, and the presence of character arrays that are part of phrases like \"fix\" and \"update\".\n",
    "\n",
    "Note: PFI takes awhile to run and has some randomness associated with it. You can reduce the duration by dropping the permutation count, but this increases the impact of that randomness in feature importance.\n",
    "\n",
    "Generally speaking the PFI columns this cell identifies make sense, but there are also a few things that show up that look unusual or seem to be oriented to a few specific cases and not broad generalizations."
   ]
  },
  {
   "cell_type": "markdown",
   "metadata": {},
   "source": [
    "Now that we've seen the base level of accuracy from simple AutoML and how its transformations work, let's get some more control over the model training pipeline and see if we can get results for some non-tree or forest model trainers."
   ]
  },
  {
   "cell_type": "markdown",
   "metadata": {},
   "source": [
    "## Building a Custom Pipeline"
   ]
  },
  {
   "cell_type": "markdown",
   "metadata": {},
   "source": [
    "In ML.NET everything flows through a pipeline, much like a SciKit-Learn pipeline, that progressively transforms data from one state to another. You can use pipelines with a specific model trainer or you can use them with AutoML. When you involve AutoML, AutoML still selects a model it feels will perform best for you, but it uses the pipeline you give it. It also exposes more options for configuring AutoML's behavior, including model selection and hyperparameter tuning.\n",
    "\n",
    "In this section we'll create a pipeline and use AutoML to determine the best models from it. We'll also see how it compares to our simple AutoML models from earlier."
   ]
  },
  {
   "cell_type": "markdown",
   "metadata": {},
   "source": [
    "We'll start by creating a simple AutoML featurizer and feed it schema information from our DataFrame. This will help it know how to handle the columns it works with."
   ]
  },
  {
   "cell_type": "code",
   "execution_count": null,
   "metadata": {
    "dotnet_interactive": {
     "language": "csharp"
    },
    "polyglot_notebook": {
     "kernelName": "csharp"
    },
    "vscode": {
     "languageId": "polyglot-notebook"
    }
   },
   "outputs": [
    {
     "data": {
      "text/html": [
       "<details open=\"open\" class=\"dni-treeview\"><summary><span class=\"dni-code-hint\"><code>MattEland.ML.DataFrames.DataFrameColumnTypes</code></span></summary><div><table><thead><tr></tr></thead><tbody><tr><td>Text</td><td><div class=\"dni-plaintext\"><pre>[ Message ]</pre></div></td></tr><tr><td>Numeric</td><td><div class=\"dni-plaintext\"><pre>[ WorkItems, TotalFiles, ModifiedFiles, AddedFiles, DeletedFiles, TotalLines, NetLines, AddedLines, DeletedLines, MessageLength, WordCount ]</pre></div></td></tr><tr><td>Categorical</td><td><div class=\"dni-plaintext\"><pre>[ IsMerge, HasAddedFiles, HasDeletedFiles ]</pre></div></td></tr><tr><td>Excluded</td><td><div class=\"dni-plaintext\"><pre>[ Label ]</pre></div></td></tr></tbody></table></div></details><style>\r\n",
       ".dni-code-hint {\r\n",
       "    font-style: italic;\r\n",
       "    overflow: hidden;\r\n",
       "    white-space: nowrap;\r\n",
       "}\r\n",
       ".dni-treeview {\r\n",
       "    white-space: nowrap;\r\n",
       "}\r\n",
       ".dni-treeview td {\r\n",
       "    vertical-align: top;\r\n",
       "    text-align: start;\r\n",
       "}\r\n",
       "details.dni-treeview {\r\n",
       "    padding-left: 1em;\r\n",
       "}\r\n",
       "table td {\r\n",
       "    text-align: start;\r\n",
       "}\r\n",
       "table tr { \r\n",
       "    vertical-align: top; \r\n",
       "    margin: 0em 0px;\r\n",
       "}\r\n",
       "table tr td pre \r\n",
       "{ \r\n",
       "    vertical-align: top !important; \r\n",
       "    margin: 0em 0px !important;\r\n",
       "} \r\n",
       "table th {\r\n",
       "    text-align: start;\r\n",
       "}\r\n",
       "</style>"
      ]
     },
     "metadata": {},
     "output_type": "display_data"
    }
   ],
   "source": [
    "var colTypes = df.GetColumnTypes(excludedColumns: new[] { \"Label\" });\n",
    "colTypes"
   ]
  },
  {
   "cell_type": "code",
   "execution_count": null,
   "metadata": {
    "dotnet_interactive": {
     "language": "csharp"
    },
    "polyglot_notebook": {
     "kernelName": "csharp"
    },
    "vscode": {
     "languageId": "polyglot-notebook"
    }
   },
   "outputs": [],
   "source": [
    "// This featurizer will trigger one-hot encoding and text featurization and handle column concatenation down to a single features column for us\n",
    "SweepablePipeline featurizer = context.Auto().Featurizer(df, \n",
    "                                           catelogicalColumns: colTypes.Categorical.ToArray(), \n",
    "                                           numericColumns: colTypes.Numeric.ToArray(),\n",
    "                                           textColumns: colTypes.Text.ToArray(), \n",
    "                                           excludeColumns: colTypes.Excluded.ToArray());"
   ]
  },
  {
   "cell_type": "code",
   "execution_count": null,
   "metadata": {
    "dotnet_interactive": {
     "language": "csharp"
    },
    "polyglot_notebook": {
     "kernelName": "csharp"
    },
    "vscode": {
     "languageId": "polyglot-notebook"
    }
   },
   "outputs": [
    {
     "data": {
      "text/html": [
       "<div class=\"mermaidMarkdownContainer\" style=\"background-color:white\">\n",
       "<link rel=\"stylesheet\" href=\"https://cdnjs.cloudflare.com/ajax/libs/font-awesome/6.2.0/css/all.min.css\">\n",
       "<div id=\"495c1e4bd9f8433882aa39dbeffbe6d8\"></div>\n",
       "<script type=\"module\">\n",
       "\r\n",
       "            import mermaid from 'https://cdn.jsdelivr.net/npm/mermaid@10.6.1/dist/mermaid.esm.min.mjs';\r\n",
       "            let renderTarget = document.getElementById('495c1e4bd9f8433882aa39dbeffbe6d8');\r\n",
       "            try {\r\n",
       "                const {svg, bindFunctions} = await mermaid.mermaidAPI.render( \r\n",
       "                    'mermaid_495c1e4bd9f8433882aa39dbeffbe6d8', \r\n",
       "                    `stateDiagram-v2\n",
       "state \"SweepablePipeline\" AS t1 {\n",
       "t1_1: ReplaceMissingValues\n",
       "t1_2: OneHotEncoding\n",
       "t1_3: OneHotHashEncoding\n",
       "t1_4: FeaturizeText\n",
       "t1_5: Concatenate\n",
       "t1_1 --> t1_2\n",
       "t1_2 --> t1_3\n",
       "t1_3 --> t1_4\n",
       "t1_4 --> t1_5\n",
       "}\n",
       "\n",
       "`);\r\n",
       "                renderTarget.innerHTML = svg;\r\n",
       "                bindFunctions?.(renderTarget);\r\n",
       "            }\r\n",
       "            catch (error) {\r\n",
       "                console.log(error);\r\n",
       "            }\n",
       "</script>\n",
       "</div>\n"
      ]
     },
     "metadata": {},
     "output_type": "display_data"
    }
   ],
   "source": [
    "#!pipeline-vis featurizer -n"
   ]
  },
  {
   "cell_type": "code",
   "execution_count": null,
   "metadata": {
    "dotnet_interactive": {
     "language": "csharp"
    },
    "polyglot_notebook": {
     "kernelName": "csharp"
    },
    "vscode": {
     "languageId": "polyglot-notebook"
    }
   },
   "outputs": [],
   "source": [
    "// The classifier step tells AutoML what model trainers are enabled. We'll focus on those that don't require scaled data for simplicity at the moment\n",
    "var classifier = context.Auto().BinaryClassification(\n",
    "    useFastForest: true, \n",
    "    useLgbm: true, \n",
    "    useFastTree: true, \n",
    "    useLbfgsLogisticRegression: true, \n",
    "    useSdcaLogisticRegression: true);"
   ]
  },
  {
   "cell_type": "code",
   "execution_count": null,
   "metadata": {
    "dotnet_interactive": {
     "language": "csharp"
    },
    "polyglot_notebook": {
     "kernelName": "csharp"
    },
    "vscode": {
     "languageId": "polyglot-notebook"
    }
   },
   "outputs": [],
   "source": [
    "// Let's assemble these into a simple pipeline (note, we'll add scaling later and assume more granular control)\n",
    "var pipeline = featurizer\n",
    "    .Append(classifier);"
   ]
  },
  {
   "cell_type": "code",
   "execution_count": null,
   "metadata": {
    "dotnet_interactive": {
     "language": "csharp"
    },
    "polyglot_notebook": {
     "kernelName": "csharp"
    },
    "vscode": {
     "languageId": "polyglot-notebook"
    }
   },
   "outputs": [
    {
     "data": {
      "text/html": [
       "<span><a href=\"https://docs.microsoft.com/dotnet/api/microsoft.ml.automl.sweepablepipeline?view=net-7.0\">Microsoft.ML.AutoML.SweepablePipeline</a></span>"
      ]
     },
     "metadata": {},
     "output_type": "display_data"
    }
   ],
   "source": [
    "pipeline.Estimators"
   ]
  },
  {
   "cell_type": "code",
   "execution_count": 43,
   "metadata": {
    "dotnet_interactive": {
     "language": "csharp"
    },
    "polyglot_notebook": {
     "kernelName": "csharp"
    },
    "vscode": {
     "languageId": "polyglot-notebook"
    }
   },
   "outputs": [
    {
     "data": {
      "text/html": [
       "<div class=\"mermaidMarkdownContainer\" style=\"background-color:white\">\n",
       "<link rel=\"stylesheet\" href=\"https://cdnjs.cloudflare.com/ajax/libs/font-awesome/6.2.0/css/all.min.css\">\n",
       "<div id=\"2686b49371504d93b1f1c956b26cddff\"></div>\n",
       "<script type=\"module\">\n",
       "\r\n",
       "            import mermaid from 'https://cdn.jsdelivr.net/npm/mermaid@10.6.1/dist/mermaid.esm.min.mjs';\r\n",
       "            let renderTarget = document.getElementById('2686b49371504d93b1f1c956b26cddff');\r\n",
       "            try {\r\n",
       "                const {svg, bindFunctions} = await mermaid.mermaidAPI.render( \r\n",
       "                    'mermaid_2686b49371504d93b1f1c956b26cddff', \r\n",
       "                    `stateDiagram-v2\n",
       "state \"SweepablePipeline\" AS t1 {\n",
       "t1_1: ReplaceMissingValues\n",
       "t1_2: OneHotEncoding\n",
       "t1_3: OneHotHashEncoding\n",
       "t1_4: FeaturizeText\n",
       "t1_5: Concatenate\n",
       "t1_6: FastTreeBinary\n",
       "t1_7: FastForestBinary\n",
       "t1_8: LightGbmBinary\n",
       "t1_9: LbfgsLogisticRegressionBinary\n",
       "t1_10: SdcaLogisticRegressionBinary\n",
       "t1_1 --> t1_2\n",
       "t1_2 --> t1_3\n",
       "t1_3 --> t1_4\n",
       "t1_4 --> t1_5\n",
       "t1_5 --> t1_6\n",
       "t1_6 --> t1_7\n",
       "t1_7 --> t1_8\n",
       "t1_8 --> t1_9\n",
       "t1_9 --> t1_10\n",
       "}\n",
       "\n",
       "`);\r\n",
       "                renderTarget.innerHTML = svg;\r\n",
       "                bindFunctions?.(renderTarget);\r\n",
       "            }\r\n",
       "            catch (error) {\r\n",
       "                console.log(error);\r\n",
       "            }\n",
       "</script>\n",
       "</div>\n"
      ]
     },
     "metadata": {},
     "output_type": "display_data"
    }
   ],
   "source": [
    "#!pipeline-vis pipeline -n -d 2"
   ]
  },
  {
   "cell_type": "code",
   "execution_count": 38,
   "metadata": {
    "dotnet_interactive": {
     "language": "csharp"
    },
    "polyglot_notebook": {
     "kernelName": "csharp"
    },
    "vscode": {
     "languageId": "polyglot-notebook"
    }
   },
   "outputs": [
    {
     "data": {
      "text/html": [
       "<div><div id=\"4dd37aef-e536-4705-a08d-a3ade9981d74\"><!-- Plotly chart will be drawn inside this DIV --></div><script type=\"text/javascript\">\n",
       "var renderPlotly_4dd37aefe5364705a08da3ade9981d74 = function() {\n",
       "    var fsharpPlotlyRequire = requirejs.config({context:'fsharp-plotly',paths:{plotly:'https://cdn.plot.ly/plotly-2.27.1.min'}}) || require;\n",
       "    fsharpPlotlyRequire(['plotly'], function(Plotly) {\n",
       "        var data = [{\"type\":\"heatmap\",\"x\":[\"Positive\",\"Negative\"],\"y\":[\"Positive\",\"Negative\"],\"z\":[[22.0,25.0],[0.0,99.0]],\"colorscale\":[[0.0,\"#FFFFFF\"],[0.5,\"#009dcf\"],[1.0,\"#003171\"]],\"showscale\":false,\"xaxis\":\"x\",\"yaxis\":\"y\",\"marker\":{\"showscale\":false}},{\"type\":\"bar\",\"x\":[1.0,0.7983870967741935,0.46808510638297873,1.0,0.7265291524725294,0.7762733720180529,0.6376811594202899,0.8287671232876712],\"y\":[\"Negative Recall\",\"Negative Precision\",\"Positive Recall\",\"Positive Precision\",\"AUCPR\",\"AUC\",\"F1 Score\",\"Accuracy\"],\"text\":[\"1.000\",\"0.798\",\"0.468\",\"1.000\",\"0.727\",\"0.776\",\"0.638\",\"0.829\"],\"orientation\":\"h\",\"marker\":{\"color\":\"#003171\",\"pattern\":{},\"showscale\":false},\"xaxis\":\"x2\",\"yaxis\":\"y2\"}];\n",
       "        var layout = {\"width\":600,\"height\":600,\"template\":{\"layout\":{\"title\":{\"x\":0.05},\"font\":{\"color\":\"rgba(42, 63, 95, 1.0)\"},\"paper_bgcolor\":\"rgba(255, 255, 255, 1.0)\",\"plot_bgcolor\":\"rgba(229, 236, 246, 1.0)\",\"autotypenumbers\":\"strict\",\"colorscale\":{\"diverging\":[[0.0,\"#8e0152\"],[0.1,\"#c51b7d\"],[0.2,\"#de77ae\"],[0.3,\"#f1b6da\"],[0.4,\"#fde0ef\"],[0.5,\"#f7f7f7\"],[0.6,\"#e6f5d0\"],[0.7,\"#b8e186\"],[0.8,\"#7fbc41\"],[0.9,\"#4d9221\"],[1.0,\"#276419\"]],\"sequential\":[[0.0,\"#0d0887\"],[0.1111111111111111,\"#46039f\"],[0.2222222222222222,\"#7201a8\"],[0.3333333333333333,\"#9c179e\"],[0.4444444444444444,\"#bd3786\"],[0.5555555555555556,\"#d8576b\"],[0.6666666666666666,\"#ed7953\"],[0.7777777777777778,\"#fb9f3a\"],[0.8888888888888888,\"#fdca26\"],[1.0,\"#f0f921\"]],\"sequentialminus\":[[0.0,\"#0d0887\"],[0.1111111111111111,\"#46039f\"],[0.2222222222222222,\"#7201a8\"],[0.3333333333333333,\"#9c179e\"],[0.4444444444444444,\"#bd3786\"],[0.5555555555555556,\"#d8576b\"],[0.6666666666666666,\"#ed7953\"],[0.7777777777777778,\"#fb9f3a\"],[0.8888888888888888,\"#fdca26\"],[1.0,\"#f0f921\"]]},\"hovermode\":\"closest\",\"hoverlabel\":{\"align\":\"left\"},\"coloraxis\":{\"colorbar\":{\"outlinewidth\":0.0,\"ticks\":\"\"}},\"geo\":{\"showland\":true,\"landcolor\":\"rgba(229, 236, 246, 1.0)\",\"showlakes\":true,\"lakecolor\":\"rgba(255, 255, 255, 1.0)\",\"subunitcolor\":\"rgba(255, 255, 255, 1.0)\",\"bgcolor\":\"rgba(255, 255, 255, 1.0)\"},\"mapbox\":{\"style\":\"light\"},\"polar\":{\"bgcolor\":\"rgba(229, 236, 246, 1.0)\",\"radialaxis\":{\"linecolor\":\"rgba(255, 255, 255, 1.0)\",\"gridcolor\":\"rgba(255, 255, 255, 1.0)\",\"ticks\":\"\"},\"angularaxis\":{\"linecolor\":\"rgba(255, 255, 255, 1.0)\",\"gridcolor\":\"rgba(255, 255, 255, 1.0)\",\"ticks\":\"\"}},\"scene\":{\"xaxis\":{\"ticks\":\"\",\"linecolor\":\"rgba(255, 255, 255, 1.0)\",\"gridcolor\":\"rgba(255, 255, 255, 1.0)\",\"gridwidth\":2.0,\"zerolinecolor\":\"rgba(255, 255, 255, 1.0)\",\"backgroundcolor\":\"rgba(229, 236, 246, 1.0)\",\"showbackground\":true},\"yaxis\":{\"ticks\":\"\",\"linecolor\":\"rgba(255, 255, 255, 1.0)\",\"gridcolor\":\"rgba(255, 255, 255, 1.0)\",\"gridwidth\":2.0,\"zerolinecolor\":\"rgba(255, 255, 255, 1.0)\",\"backgroundcolor\":\"rgba(229, 236, 246, 1.0)\",\"showbackground\":true},\"zaxis\":{\"ticks\":\"\",\"linecolor\":\"rgba(255, 255, 255, 1.0)\",\"gridcolor\":\"rgba(255, 255, 255, 1.0)\",\"gridwidth\":2.0,\"zerolinecolor\":\"rgba(255, 255, 255, 1.0)\",\"backgroundcolor\":\"rgba(229, 236, 246, 1.0)\",\"showbackground\":true}},\"ternary\":{\"aaxis\":{\"ticks\":\"\",\"linecolor\":\"rgba(255, 255, 255, 1.0)\",\"gridcolor\":\"rgba(255, 255, 255, 1.0)\"},\"baxis\":{\"ticks\":\"\",\"linecolor\":\"rgba(255, 255, 255, 1.0)\",\"gridcolor\":\"rgba(255, 255, 255, 1.0)\"},\"caxis\":{\"ticks\":\"\",\"linecolor\":\"rgba(255, 255, 255, 1.0)\",\"gridcolor\":\"rgba(255, 255, 255, 1.0)\"},\"bgcolor\":\"rgba(229, 236, 246, 1.0)\"},\"xaxis\":{\"title\":{\"standoff\":15},\"ticks\":\"\",\"automargin\":\"height+width+left+right+top+bottom\",\"linecolor\":\"rgba(255, 255, 255, 1.0)\",\"gridcolor\":\"rgba(255, 255, 255, 1.0)\",\"zerolinecolor\":\"rgba(255, 255, 255, 1.0)\",\"zerolinewidth\":2.0},\"yaxis\":{\"title\":{\"standoff\":15},\"ticks\":\"\",\"automargin\":\"height+width+left+right+top+bottom\",\"linecolor\":\"rgba(255, 255, 255, 1.0)\",\"gridcolor\":\"rgba(255, 255, 255, 1.0)\",\"zerolinecolor\":\"rgba(255, 255, 255, 1.0)\",\"zerolinewidth\":2.0},\"annotationdefaults\":{\"arrowcolor\":\"#2a3f5f\",\"arrowhead\":0,\"arrowwidth\":1},\"shapedefaults\":{\"line\":{\"color\":\"rgba(42, 63, 95, 1.0)\"}},\"colorway\":[\"rgba(99, 110, 250, 1.0)\",\"rgba(239, 85, 59, 1.0)\",\"rgba(0, 204, 150, 1.0)\",\"rgba(171, 99, 250, 1.0)\",\"rgba(255, 161, 90, 1.0)\",\"rgba(25, 211, 243, 1.0)\",\"rgba(255, 102, 146, 1.0)\",\"rgba(182, 232, 128, 1.0)\",\"rgba(255, 151, 255, 1.0)\",\"rgba(254, 203, 82, 1.0)\"]},\"data\":{\"bar\":[{\"marker\":{\"line\":{\"color\":\"rgba(229, 236, 246, 1.0)\",\"width\":0.5},\"pattern\":{\"fillmode\":\"overlay\",\"size\":10,\"solidity\":0.2}},\"error_x\":{\"color\":\"rgba(42, 63, 95, 1.0)\"},\"error_y\":{\"color\":\"rgba(42, 63, 95, 1.0)\"}}],\"barpolar\":[{\"marker\":{\"line\":{\"color\":\"rgba(229, 236, 246, 1.0)\",\"width\":0.5},\"pattern\":{\"fillmode\":\"overlay\",\"size\":10,\"solidity\":0.2}}}],\"carpet\":[{\"aaxis\":{\"linecolor\":\"rgba(255, 255, 255, 1.0)\",\"gridcolor\":\"rgba(255, 255, 255, 1.0)\",\"endlinecolor\":\"rgba(42, 63, 95, 1.0)\",\"minorgridcolor\":\"rgba(255, 255, 255, 1.0)\",\"startlinecolor\":\"rgba(42, 63, 95, 1.0)\"},\"baxis\":{\"linecolor\":\"rgba(255, 255, 255, 1.0)\",\"gridcolor\":\"rgba(255, 255, 255, 1.0)\",\"endlinecolor\":\"rgba(42, 63, 95, 1.0)\",\"minorgridcolor\":\"rgba(255, 255, 255, 1.0)\",\"startlinecolor\":\"rgba(42, 63, 95, 1.0)\"}}],\"choropleth\":[{\"colorbar\":{\"outlinewidth\":0.0,\"ticks\":\"\"},\"colorscale\":[[0.0,\"#0d0887\"],[0.1111111111111111,\"#46039f\"],[0.2222222222222222,\"#7201a8\"],[0.3333333333333333,\"#9c179e\"],[0.4444444444444444,\"#bd3786\"],[0.5555555555555556,\"#d8576b\"],[0.6666666666666666,\"#ed7953\"],[0.7777777777777778,\"#fb9f3a\"],[0.8888888888888888,\"#fdca26\"],[1.0,\"#f0f921\"]]}],\"contour\":[{\"colorbar\":{\"outlinewidth\":0.0,\"ticks\":\"\"},\"colorscale\":[[0.0,\"#0d0887\"],[0.1111111111111111,\"#46039f\"],[0.2222222222222222,\"#7201a8\"],[0.3333333333333333,\"#9c179e\"],[0.4444444444444444,\"#bd3786\"],[0.5555555555555556,\"#d8576b\"],[0.6666666666666666,\"#ed7953\"],[0.7777777777777778,\"#fb9f3a\"],[0.8888888888888888,\"#fdca26\"],[1.0,\"#f0f921\"]]}],\"contourcarpet\":[{\"colorbar\":{\"outlinewidth\":0.0,\"ticks\":\"\"}}],\"heatmap\":[{\"colorbar\":{\"outlinewidth\":0.0,\"ticks\":\"\"},\"colorscale\":[[0.0,\"#0d0887\"],[0.1111111111111111,\"#46039f\"],[0.2222222222222222,\"#7201a8\"],[0.3333333333333333,\"#9c179e\"],[0.4444444444444444,\"#bd3786\"],[0.5555555555555556,\"#d8576b\"],[0.6666666666666666,\"#ed7953\"],[0.7777777777777778,\"#fb9f3a\"],[0.8888888888888888,\"#fdca26\"],[1.0,\"#f0f921\"]]}],\"heatmapgl\":[{\"colorbar\":{\"outlinewidth\":0.0,\"ticks\":\"\"},\"colorscale\":[[0.0,\"#0d0887\"],[0.1111111111111111,\"#46039f\"],[0.2222222222222222,\"#7201a8\"],[0.3333333333333333,\"#9c179e\"],[0.4444444444444444,\"#bd3786\"],[0.5555555555555556,\"#d8576b\"],[0.6666666666666666,\"#ed7953\"],[0.7777777777777778,\"#fb9f3a\"],[0.8888888888888888,\"#fdca26\"],[1.0,\"#f0f921\"]]}],\"histogram\":[{\"marker\":{\"pattern\":{\"fillmode\":\"overlay\",\"size\":10,\"solidity\":0.2}}}],\"histogram2d\":[{\"colorbar\":{\"outlinewidth\":0.0,\"ticks\":\"\"},\"colorscale\":[[0.0,\"#0d0887\"],[0.1111111111111111,\"#46039f\"],[0.2222222222222222,\"#7201a8\"],[0.3333333333333333,\"#9c179e\"],[0.4444444444444444,\"#bd3786\"],[0.5555555555555556,\"#d8576b\"],[0.6666666666666666,\"#ed7953\"],[0.7777777777777778,\"#fb9f3a\"],[0.8888888888888888,\"#fdca26\"],[1.0,\"#f0f921\"]]}],\"histogram2dcontour\":[{\"colorbar\":{\"outlinewidth\":0.0,\"ticks\":\"\"},\"colorscale\":[[0.0,\"#0d0887\"],[0.1111111111111111,\"#46039f\"],[0.2222222222222222,\"#7201a8\"],[0.3333333333333333,\"#9c179e\"],[0.4444444444444444,\"#bd3786\"],[0.5555555555555556,\"#d8576b\"],[0.6666666666666666,\"#ed7953\"],[0.7777777777777778,\"#fb9f3a\"],[0.8888888888888888,\"#fdca26\"],[1.0,\"#f0f921\"]]}],\"mesh3d\":[{\"colorbar\":{\"outlinewidth\":0.0,\"ticks\":\"\"}}],\"parcoords\":[{\"line\":{\"colorbar\":{\"outlinewidth\":0.0,\"ticks\":\"\"}}}],\"pie\":[{\"automargin\":true}],\"scatter\":[{\"marker\":{\"colorbar\":{\"outlinewidth\":0.0,\"ticks\":\"\"}}}],\"scatter3d\":[{\"marker\":{\"colorbar\":{\"outlinewidth\":0.0,\"ticks\":\"\"}},\"line\":{\"colorbar\":{\"outlinewidth\":0.0,\"ticks\":\"\"}}}],\"scattercarpet\":[{\"marker\":{\"colorbar\":{\"outlinewidth\":0.0,\"ticks\":\"\"}}}],\"scattergeo\":[{\"marker\":{\"colorbar\":{\"outlinewidth\":0.0,\"ticks\":\"\"}}}],\"scattergl\":[{\"marker\":{\"colorbar\":{\"outlinewidth\":0.0,\"ticks\":\"\"}}}],\"scattermapbox\":[{\"marker\":{\"colorbar\":{\"outlinewidth\":0.0,\"ticks\":\"\"}}}],\"scatterpolar\":[{\"marker\":{\"colorbar\":{\"outlinewidth\":0.0,\"ticks\":\"\"}}}],\"scatterpolargl\":[{\"marker\":{\"colorbar\":{\"outlinewidth\":0.0,\"ticks\":\"\"}}}],\"scatterternary\":[{\"marker\":{\"colorbar\":{\"outlinewidth\":0.0,\"ticks\":\"\"}}}],\"surface\":[{\"colorbar\":{\"outlinewidth\":0.0,\"ticks\":\"\"},\"colorscale\":[[0.0,\"#0d0887\"],[0.1111111111111111,\"#46039f\"],[0.2222222222222222,\"#7201a8\"],[0.3333333333333333,\"#9c179e\"],[0.4444444444444444,\"#bd3786\"],[0.5555555555555556,\"#d8576b\"],[0.6666666666666666,\"#ed7953\"],[0.7777777777777778,\"#fb9f3a\"],[0.8888888888888888,\"#fdca26\"],[1.0,\"#f0f921\"]]}],\"table\":[{\"cells\":{\"fill\":{\"color\":\"rgba(235, 240, 248, 1.0)\"},\"line\":{\"color\":\"rgba(255, 255, 255, 1.0)\"}},\"header\":{\"fill\":{\"color\":\"rgba(200, 212, 227, 1.0)\"},\"line\":{\"color\":\"rgba(255, 255, 255, 1.0)\"}}}]}},\"xaxis\":{\"title\":{\"text\":\"Predicted\"},\"showline\":false,\"showgrid\":false,\"side\":\"top\",\"showbackground\":false},\"title\":{\"text\":\"Classification Report\"},\"yaxis\":{\"autorange\":\"reversed\",\"title\":{\"text\":\"Actual\"},\"showline\":false,\"showgrid\":false,\"side\":\"left\",\"showbackground\":false},\"annotations\":[{\"x\":0.5,\"y\":1.0,\"showarrow\":false,\"text\":\"\",\"xanchor\":\"center\",\"xref\":\"paper\",\"yanchor\":\"bottom\",\"yref\":\"paper\"},{\"x\":0.5,\"y\":0.4117647058823529,\"showarrow\":false,\"text\":\"Binary Classification Metric\",\"xanchor\":\"center\",\"xref\":\"paper\",\"yanchor\":\"bottom\",\"yref\":\"paper\"},{\"x\":0,\"y\":0,\"bgcolor\":\"#FFFFFF\",\"bordercolor\":\"#003171\",\"font\":{\"size\":18.0},\"showarrow\":false,\"text\":\"22\"},{\"x\":1,\"y\":0,\"bgcolor\":\"#FFFFFF\",\"bordercolor\":\"#003171\",\"font\":{\"size\":18.0},\"showarrow\":false,\"text\":\"25\"},{\"x\":0,\"y\":1,\"bgcolor\":\"#FFFFFF\",\"bordercolor\":\"#003171\",\"font\":{\"size\":18.0},\"showarrow\":false,\"text\":\"0\"},{\"x\":1,\"y\":1,\"bgcolor\":\"#FFFFFF\",\"bordercolor\":\"#003171\",\"font\":{\"size\":18.0},\"showarrow\":false,\"text\":\"99\"}],\"xaxis2\":{\"title\":{},\"range\":[0,1]},\"yaxis2\":{},\"grid\":{\"rows\":2,\"columns\":1,\"roworder\":\"top to bottom\",\"pattern\":\"independent\"}};\n",
       "        var config = {\"responsive\":true};\n",
       "        Plotly.newPlot('4dd37aef-e536-4705-a08d-a3ade9981d74', data, layout, config);\n",
       "    });\n",
       "};\n",
       "if ((typeof(requirejs) !==  typeof(Function)) || (typeof(requirejs.config) !== typeof(Function))) {\n",
       "    var script = document.createElement(\"script\");\n",
       "    script.setAttribute(\"charset\", \"utf-8\");\n",
       "    script.setAttribute(\"src\", \"https://cdnjs.cloudflare.com/ajax/libs/require.js/2.3.6/require.min.js\");\n",
       "    script.onload = function(){\n",
       "        renderPlotly_4dd37aefe5364705a08da3ade9981d74();\n",
       "    };\n",
       "    document.getElementsByTagName(\"head\")[0].appendChild(script);\n",
       "}\n",
       "else {\n",
       "    renderPlotly_4dd37aefe5364705a08da3ade9981d74();\n",
       "}\n",
       "</script></div>"
      ]
     },
     "metadata": {},
     "output_type": "display_data"
    }
   ],
   "source": [
    "// Now let's run our experiment using our custom pipeline\n",
    "var experiment = context.Auto().CreateExperiment()\n",
    "    .SetPipeline(pipeline)\n",
    "    .SetDataset(split)\n",
    "    .SetBinaryClassificationMetric(BinaryClassificationMetric.F1Score, labelColumn: \"Label\")\n",
    "    .SetMaxModelToExplore(10);\n",
    "\n",
    "TrialResult result = await experiment.RunAsync();\n",
    "ITransformer model = result.Model;\n",
    "\n",
    "var scorer = model.Transform(split.TestSet);\n",
    "\n",
    "// If the model supports calibration, we could use Evaluate instead\n",
    "var evalResults = context.BinaryClassification.EvaluateNonCalibrated(model.Transform(split.TestSet), labelColumnName: \"Label\");\n",
    "\n",
    "// Let's see how it performed\n",
    "MLCharts.ClassificationReport(evalResults)"
   ]
  },
  {
   "cell_type": "code",
   "execution_count": 39,
   "metadata": {
    "dotnet_interactive": {
     "language": "csharp"
    },
    "polyglot_notebook": {
     "kernelName": "csharp"
    },
    "vscode": {
     "languageId": "polyglot-notebook"
    }
   },
   "outputs": [
    {
     "data": {
      "text/html": [
       "<table id=\"table_638545244551897816\"><thead><tr><th><i>index</i></th><th>Model</th><th>F1 Score</th><th>Accuracy</th><th>Positive Precision</th><th>Positive Recall</th><th>Negative Precision</th><th>Negative Recall</th><th>AUC</th><th>AUCPR</th></tr></thead><tbody><tr><td><i><div class=\"dni-plaintext\"><pre>0</pre></div></i></td><td>Simple AutoML - 10% Test Split</td><td><div class=\"dni-plaintext\"><pre>0.6399999999999999</pre></div></td><td><div class=\"dni-plaintext\"><pre>0.7857142857142857</pre></div></td><td><div class=\"dni-plaintext\"><pre>1</pre></div></td><td><div class=\"dni-plaintext\"><pre>0.47058823529411764</pre></div></td><td><div class=\"dni-plaintext\"><pre>0.7352941176470589</pre></div></td><td><div class=\"dni-plaintext\"><pre>1</pre></div></td><td><div class=\"dni-plaintext\"><pre>0.8211764705882353</pre></div></td><td><div class=\"dni-plaintext\"><pre>0.8290542115376778</pre></div></td></tr><tr><td><i><div class=\"dni-plaintext\"><pre>1</pre></div></i></td><td>Simple AutoML - 30% Test Split</td><td><div class=\"dni-plaintext\"><pre>0.6478873239436619</pre></div></td><td><div class=\"dni-plaintext\"><pre>0.8287671232876712</pre></div></td><td><div class=\"dni-plaintext\"><pre>0.9583333333333334</pre></div></td><td><div class=\"dni-plaintext\"><pre>0.48936170212765956</pre></div></td><td><div class=\"dni-plaintext\"><pre>0.8032786885245902</pre></div></td><td><div class=\"dni-plaintext\"><pre>0.98989898989899</pre></div></td><td><div class=\"dni-plaintext\"><pre>0.8457984096281969</pre></div></td><td><div class=\"dni-plaintext\"><pre>0.8049616280288557</pre></div></td></tr><tr><td><i><div class=\"dni-plaintext\"><pre>2</pre></div></i></td><td>Simple AutoML - 5 Fold CV</td><td><div class=\"dni-plaintext\"><pre>0.7142857142857143</pre></div></td><td><div class=\"dni-plaintext\"><pre>0.8297872340425532</pre></div></td><td><div class=\"dni-plaintext\"><pre>0.8333333333333334</pre></div></td><td><div class=\"dni-plaintext\"><pre>0.625</pre></div></td><td><div class=\"dni-plaintext\"><pre>0.8285714285714286</pre></div></td><td><div class=\"dni-plaintext\"><pre>0.9354838709677419</pre></div></td><td><div class=\"dni-plaintext\"><pre>0.8220766129032258</pre></div></td><td><div class=\"dni-plaintext\"><pre>0.7981657871596612</pre></div></td></tr><tr><td><i><div class=\"dni-plaintext\"><pre>3</pre></div></i></td><td>Custom AutoML - Simple Pipeline</td><td><div class=\"dni-plaintext\"><pre>0.6376811594202899</pre></div></td><td><div class=\"dni-plaintext\"><pre>0.8287671232876712</pre></div></td><td><div class=\"dni-plaintext\"><pre>1</pre></div></td><td><div class=\"dni-plaintext\"><pre>0.46808510638297873</pre></div></td><td><div class=\"dni-plaintext\"><pre>0.7983870967741935</pre></div></td><td><div class=\"dni-plaintext\"><pre>1</pre></div></td><td><div class=\"dni-plaintext\"><pre>0.7762733720180529</pre></div></td><td><div class=\"dni-plaintext\"><pre>0.7265291524725294</pre></div></td></tr></tbody></table><style>\r\n",
       ".dni-code-hint {\r\n",
       "    font-style: italic;\r\n",
       "    overflow: hidden;\r\n",
       "    white-space: nowrap;\r\n",
       "}\r\n",
       ".dni-treeview {\r\n",
       "    white-space: nowrap;\r\n",
       "}\r\n",
       ".dni-treeview td {\r\n",
       "    vertical-align: top;\r\n",
       "    text-align: start;\r\n",
       "}\r\n",
       "details.dni-treeview {\r\n",
       "    padding-left: 1em;\r\n",
       "}\r\n",
       "table td {\r\n",
       "    text-align: start;\r\n",
       "}\r\n",
       "table tr { \r\n",
       "    vertical-align: top; \r\n",
       "    margin: 0em 0px;\r\n",
       "}\r\n",
       "table tr td pre \r\n",
       "{ \r\n",
       "    vertical-align: top !important; \r\n",
       "    margin: 0em 0px !important;\r\n",
       "} \r\n",
       "table th {\r\n",
       "    text-align: start;\r\n",
       "}\r\n",
       "</style>"
      ]
     },
     "metadata": {},
     "output_type": "display_data"
    }
   ],
   "source": [
    "// Record it for comparison\n",
    "modelTracker.Register(\"Custom AutoML - Simple Pipeline\", evalResults).ToDataFrame()"
   ]
  },
  {
   "cell_type": "markdown",
   "metadata": {},
   "source": [
    "Clearly we could be better overall, but we're in the territory of our models from earlier. Let's visualize the pipeline for comparison."
   ]
  },
  {
   "cell_type": "code",
   "execution_count": 40,
   "metadata": {
    "dotnet_interactive": {
     "language": "csharp"
    },
    "polyglot_notebook": {
     "kernelName": "csharp"
    },
    "vscode": {
     "languageId": "polyglot-notebook"
    }
   },
   "outputs": [
    {
     "data": {
      "text/html": [
       "<div class=\"mermaidMarkdownContainer\" style=\"background-color:white\">\n",
       "<link rel=\"stylesheet\" href=\"https://cdnjs.cloudflare.com/ajax/libs/font-awesome/6.2.0/css/all.min.css\">\n",
       "<div id=\"e6dbbb85a4a74276b34e341a2b8ac9eb\"></div>\n",
       "<script type=\"module\">\n",
       "\r\n",
       "            import mermaid from 'https://cdn.jsdelivr.net/npm/mermaid@10.6.1/dist/mermaid.esm.min.mjs';\r\n",
       "            let renderTarget = document.getElementById('e6dbbb85a4a74276b34e341a2b8ac9eb');\r\n",
       "            try {\r\n",
       "                const {svg, bindFunctions} = await mermaid.mermaidAPI.render( \r\n",
       "                    'mermaid_e6dbbb85a4a74276b34e341a2b8ac9eb', \r\n",
       "                    `stateDiagram-v2\n",
       "state \"TransformerChain_ITransformer_\" AS t1 {\n",
       "t1_1: MissingValueReplacingTransformer\n",
       "t1_2: OneHotEncodingTransformer\n",
       "t1_3: TextFeaturizingEstimatorTransformer\n",
       "t1_4: ColumnConcatenatingTransformer\n",
       "t1_5: BinaryPredictionTransformer_CalibratedModelParametersBase_FastTreeBinaryModelParameters,PlattCalibrator__\n",
       "t1_1 --> t1_2\n",
       "t1_2 --> t1_3\n",
       "t1_3 --> t1_4\n",
       "t1_4 --> t1_5\n",
       "}\n",
       "\n",
       "`);\r\n",
       "                renderTarget.innerHTML = svg;\r\n",
       "                bindFunctions?.(renderTarget);\r\n",
       "            }\r\n",
       "            catch (error) {\r\n",
       "                console.log(error);\r\n",
       "            }\n",
       "</script>\n",
       "</div>\n"
      ]
     },
     "metadata": {},
     "output_type": "display_data"
    }
   ],
   "source": [
    "#!transformer-vis model -d 3"
   ]
  },
  {
   "cell_type": "code",
   "execution_count": 41,
   "metadata": {
    "dotnet_interactive": {
     "language": "csharp"
    },
    "polyglot_notebook": {
     "kernelName": "csharp"
    },
    "vscode": {
     "languageId": "polyglot-notebook"
    }
   },
   "outputs": [
    {
     "data": {
      "text/html": [
       "<div class=\"mermaidMarkdownContainer\" style=\"background-color:white\">\n",
       "<link rel=\"stylesheet\" href=\"https://cdnjs.cloudflare.com/ajax/libs/font-awesome/6.2.0/css/all.min.css\">\n",
       "<div id=\"cba910a3abc840a8be7dfa9e285936a9\"></div>\n",
       "<script type=\"module\">\n",
       "\r\n",
       "            import mermaid from 'https://cdn.jsdelivr.net/npm/mermaid@10.6.1/dist/mermaid.esm.min.mjs';\r\n",
       "            let renderTarget = document.getElementById('cba910a3abc840a8be7dfa9e285936a9');\r\n",
       "            try {\r\n",
       "                const {svg, bindFunctions} = await mermaid.mermaidAPI.render( \r\n",
       "                    'mermaid_cba910a3abc840a8be7dfa9e285936a9', \r\n",
       "                    `stateDiagram-v2\n",
       "t1: ColumnConcatenatingTransformer\n",
       "`);\r\n",
       "                renderTarget.innerHTML = svg;\r\n",
       "                bindFunctions?.(renderTarget);\r\n",
       "            }\r\n",
       "            catch (error) {\r\n",
       "                console.log(error);\r\n",
       "            }\n",
       "</script>\n",
       "</div>\n"
      ]
     },
     "metadata": {},
     "output_type": "display_data"
    }
   ],
   "source": [
    "var textTransformer = (model as TransformerChain<ITransformer>).ToList()[3];\n",
    "\n",
    "#!transformer-vis textTransformer -d 2 -n"
   ]
  },
  {
   "cell_type": "markdown",
   "metadata": {},
   "source": [
    "This looks remarkably similar, but we see we do have a one hot encoding transformer now.\n",
    "\n",
    "Also, the model here looks like a calibrated decision tree, not a random forest."
   ]
  },
  {
   "cell_type": "code",
   "execution_count": 69,
   "metadata": {
    "dotnet_interactive": {
     "language": "csharp"
    },
    "polyglot_notebook": {
     "kernelName": "csharp"
    },
    "vscode": {
     "languageId": "polyglot-notebook"
    }
   },
   "outputs": [
    {
     "data": {
      "text/html": [
       "<details open=\"open\" class=\"dni-treeview\"><summary><span class=\"dni-code-hint\"><code>Microsoft.ML.Data.BinaryPredictionTransformer`1[Microsoft.ML.Calibrators.CalibratedModelParametersBase`2[Microsoft.ML.Trainers.FastTree.FastTreeBinaryModelParameters,Microsoft.ML.Calibrators.PlattCalibrator]]</code></span></summary><div><table><thead><tr></tr></thead><tbody><tr><td>FeatureColumnName</td><td><div class=\"dni-plaintext\"><pre>Features</pre></div></td></tr><tr><td>FeatureColumnType</td><td><details class=\"dni-treeview\"><summary><span class=\"dni-code-hint\"><code>Vector&lt;Single, 5864&gt;</code></span></summary><div><table><thead><tr></tr></thead><tbody><tr><td>Dimensions</td><td><div class=\"dni-plaintext\"><pre>[ 5864 ]</pre></div></td></tr><tr><td>IsKnownSize</td><td><div class=\"dni-plaintext\"><pre>True</pre></div></td></tr><tr><td>ItemType</td><td><details class=\"dni-treeview\"><summary><span class=\"dni-code-hint\"><code>Single</code></span></summary><div><table><thead><tr></tr></thead><tbody><tr><td>RawType</td><td><span><a href=\"https://docs.microsoft.com/dotnet/api/system.single?view=net-7.0\">System.Single</a></span></td></tr></tbody></table></div></details></td></tr><tr><td>Size</td><td><div class=\"dni-plaintext\"><pre>5864</pre></div></td></tr><tr><td>RawType</td><td><span><a href=\"https://docs.microsoft.com/dotnet/api/microsoft.ml.data.vbuffer-1?view=net-7.0\">Microsoft.ML.Data.VBuffer&lt;System.Single&gt;</a></span></td></tr></tbody></table></div></details></td></tr><tr><td>Model</td><td><details class=\"dni-treeview\"><summary><span class=\"dni-code-hint\"><code>Microsoft.ML.Calibrators.FeatureWeightsCalibratedModelParameters`2[Microsoft.ML.Trainers.FastTree.FastTreeBinaryModelParameters,Microsoft.ML.Calibrators.PlattCalibrator]</code></span></summary><div><table><thead><tr></tr></thead><tbody><tr><td>SubModel</td><td><div class=\"dni-plaintext\"><pre>Microsoft.ML.Calibrators.FeatureWeightsCalibratedModelParameters`2[Microsoft.ML.Trainers.FastTree.FastTreeBinaryModelParameters,Microsoft.ML.Calibrators.PlattCalibrator]</pre></div></td></tr><tr><td>Calibrator</td><td><div class=\"dni-plaintext\"><pre>Microsoft.ML.Calibrators.FeatureWeightsCalibratedModelParameters`2[Microsoft.ML.Trainers.FastTree.FastTreeBinaryModelParameters,Microsoft.ML.Calibrators.PlattCalibrator]</pre></div></td></tr><tr><td>SubModel</td><td><div class=\"dni-plaintext\"><pre>Microsoft.ML.Calibrators.FeatureWeightsCalibratedModelParameters`2[Microsoft.ML.Trainers.FastTree.FastTreeBinaryModelParameters,Microsoft.ML.Calibrators.PlattCalibrator]</pre></div></td></tr><tr><td>Calibrator</td><td><div class=\"dni-plaintext\"><pre>Microsoft.ML.Calibrators.FeatureWeightsCalibratedModelParameters`2[Microsoft.ML.Trainers.FastTree.FastTreeBinaryModelParameters,Microsoft.ML.Calibrators.PlattCalibrator]</pre></div></td></tr></tbody></table></div></details></td></tr></tbody></table></div></details><style>\r\n",
       ".dni-code-hint {\r\n",
       "    font-style: italic;\r\n",
       "    overflow: hidden;\r\n",
       "    white-space: nowrap;\r\n",
       "}\r\n",
       ".dni-treeview {\r\n",
       "    white-space: nowrap;\r\n",
       "}\r\n",
       ".dni-treeview td {\r\n",
       "    vertical-align: top;\r\n",
       "    text-align: start;\r\n",
       "}\r\n",
       "details.dni-treeview {\r\n",
       "    padding-left: 1em;\r\n",
       "}\r\n",
       "table td {\r\n",
       "    text-align: start;\r\n",
       "}\r\n",
       "table tr { \r\n",
       "    vertical-align: top; \r\n",
       "    margin: 0em 0px;\r\n",
       "}\r\n",
       "table tr td pre \r\n",
       "{ \r\n",
       "    vertical-align: top !important; \r\n",
       "    margin: 0em 0px !important;\r\n",
       "} \r\n",
       "table th {\r\n",
       "    text-align: start;\r\n",
       "}\r\n",
       "</style>"
      ]
     },
     "metadata": {},
     "output_type": "display_data"
    }
   ],
   "source": [
    "using Microsoft.ML.Calibrators;\n",
    "\n",
    "var predictor = (BinaryPredictionTransformer<CalibratedModelParametersBase<FastTreeBinaryModelParameters, PlattCalibrator>>)((model as TransformerChain<ITransformer>).LastTransformer);\n",
    "predictor"
   ]
  },
  {
   "cell_type": "markdown",
   "metadata": {},
   "source": [
    "Interesting. It's difficult to poke into the structure of that model, but it does appear to be tree or potentially forest-based. For now we're just exploring the impacts of choices on our pipelines, so this is fine, but we'd want to look deeper into the model before seriously considering deploying it."
   ]
  },
  {
   "cell_type": "markdown",
   "metadata": {},
   "source": [
    "We're not in bad territory here with our model, but I'd like to consider some non-tree / forest-based models while still using AutoML."
   ]
  },
  {
   "cell_type": "markdown",
   "metadata": {},
   "source": [
    "Next, let's see what we can do to improve the accuracy of our model by taking greater control over the text featurization aspect. To do this, we'll replace our Featurizer with manual steps."
   ]
  },
  {
   "cell_type": "code",
   "execution_count": null,
   "metadata": {
    "dotnet_interactive": {
     "language": "csharp"
    },
    "polyglot_notebook": {
     "kernelName": "csharp"
    },
    "vscode": {
     "languageId": "polyglot-notebook"
    }
   },
   "outputs": [],
   "source": [
    "// We'll start with a missing value replacer. We shouldn't have any missing values in training, but perhaps the data we're predicting will.\n",
    "MissingValueReplacingEstimator imputer = context.Transforms.ReplaceMissingValues(\n",
    "    columns: colTypes.Numeric.Select(c => new InputOutputColumnPair(c, c)).ToArray(), \n",
    "    replacementMode: MissingValueReplacingEstimator.ReplacementMode.DefaultValue);"
   ]
  },
  {
   "cell_type": "code",
   "execution_count": 71,
   "metadata": {
    "dotnet_interactive": {
     "language": "csharp"
    },
    "polyglot_notebook": {
     "kernelName": "csharp"
    },
    "vscode": {
     "languageId": "polyglot-notebook"
    }
   },
   "outputs": [],
   "source": [
    "// The one-hot encoder wasn't bad, I guess. Let's keep it in there.\n",
    "OneHotEncodingEstimator oneHot = context.Transforms.Categorical.OneHotEncoding(columns: colTypes.Categorical.Select(c => new InputOutputColumnPair(c,c)).ToArray());"
   ]
  },
  {
   "cell_type": "code",
   "execution_count": 78,
   "metadata": {
    "dotnet_interactive": {
     "language": "csharp"
    },
    "polyglot_notebook": {
     "kernelName": "csharp"
    },
    "vscode": {
     "languageId": "polyglot-notebook"
    }
   },
   "outputs": [],
   "source": [
    "// Having a scaler is a good idea for many models, so let's add that in\n",
    "NormalizingEstimator scaler = context.Transforms.NormalizeMinMax(columns: colTypes.Numeric.Select(c => new InputOutputColumnPair(c, c)).ToArray());"
   ]
  },
  {
   "cell_type": "code",
   "execution_count": 79,
   "metadata": {
    "dotnet_interactive": {
     "language": "csharp"
    },
    "polyglot_notebook": {
     "kernelName": "csharp"
    },
    "vscode": {
     "languageId": "polyglot-notebook"
    }
   },
   "outputs": [],
   "source": [
    "// Let's add a text normalizer in there too and have it prune out junk punctuation\n",
    "TextNormalizingEstimator textNorm = context.Transforms.Text.NormalizeText(\"Message\", \"Message\", TextNormalizingEstimator.CaseMode.Lower, keepDiacritics: false, keepPunctuations: false, keepNumbers: false);"
   ]
  },
  {
   "cell_type": "code",
   "execution_count": 76,
   "metadata": {
    "dotnet_interactive": {
     "language": "csharp"
    },
    "polyglot_notebook": {
     "kernelName": "csharp"
    },
    "vscode": {
     "languageId": "polyglot-notebook"
    }
   },
   "outputs": [],
   "source": [
    "var options = new TextFeaturizingEstimator.Options() {\n",
    "    OutputTokensColumnName = \"MessageTokens\",\n",
    "    StopWordsRemoverOptions = new StopWordsRemovingEstimator.Options() {\n",
    "        Language = TextFeaturizingEstimator.Language.English,\n",
    "    },\n",
    "    WordFeatureExtractor = new WordBagEstimator.Options() {\n",
    "        NgramLength = 2,\n",
    "        UseAllLengths = true,\n",
    "    },\n",
    "    CharFeatureExtractor = new WordBagEstimator.Options() {\n",
    "        NgramLength = 3,\n",
    "        UseAllLengths = true,\n",
    "    },\n",
    "    KeepDiacritics = false,\n",
    "    KeepPunctuations = false,\n",
    "    KeepNumbers = false,\n",
    "    CaseMode = TextNormalizingEstimator.CaseMode.Lower,\n",
    "    Norm = TextFeaturizingEstimator.NormFunction.L2,\n",
    "};\n",
    "TextFeaturizingEstimator textFeaturizer = context.Transforms.Text.FeaturizeText(\"Message\", options, \"Message\");"
   ]
  },
  {
   "cell_type": "code",
   "execution_count": 83,
   "metadata": {
    "dotnet_interactive": {
     "language": "csharp"
    },
    "polyglot_notebook": {
     "kernelName": "csharp"
    },
    "vscode": {
     "languageId": "polyglot-notebook"
    }
   },
   "outputs": [],
   "source": [
    "// Concatenate down to a Features column\n",
    "ColumnConcatenatingEstimator concat = context.Transforms.Concatenate(\"Features\", inputColumnNames: colTypes.Numeric.Concat(new[] { \"MessageTokens\" }).ToArray());"
   ]
  },
  {
   "cell_type": "code",
   "execution_count": null,
   "metadata": {
    "dotnet_interactive": {
     "language": "csharp"
    },
    "polyglot_notebook": {
     "kernelName": "csharp"
    },
    "vscode": {
     "languageId": "polyglot-notebook"
    }
   },
   "outputs": [],
   "source": [
    "// Let's create our pipeline\n",
    "SweepablePipeline pipeline = imputer\n",
    "    .Append(oneHot)\n",
    "    .Append(scaler)\n",
    "    .Append(textFeaturizer)\n",
    "    .Append(concat)\n",
    "    .Append(classifier);\n"
   ]
  },
  {
   "cell_type": "code",
   "execution_count": 84,
   "metadata": {
    "dotnet_interactive": {
     "language": "csharp"
    },
    "polyglot_notebook": {
     "kernelName": "csharp"
    },
    "vscode": {
     "languageId": "polyglot-notebook"
    }
   },
   "outputs": [
    {
     "ename": "Error",
     "evalue": "System.InvalidOperationException: Concatenated columns should have the same type. Column 'MessageTokens' has type of String, but expected column type is Single.\n   at Microsoft.ML.Transforms.ColumnConcatenatingEstimator.CheckInputsAndMakeColumn(SchemaShape inputSchema, String name, String[] sources)\n   at Microsoft.ML.Transforms.ColumnConcatenatingEstimator.GetOutputSchema(SchemaShape inputSchema)\n   at Microsoft.ML.Data.EstimatorChain`1.GetOutputSchema(SchemaShape inputSchema)\n   at Microsoft.ML.Data.EstimatorChain`1.Fit(IDataView input)\n   at Microsoft.ML.AutoML.SweepablePipelineRunner.Run(TrialSettings settings)\n   at Microsoft.ML.AutoML.SweepablePipelineRunner.RunAsync(TrialSettings settings, CancellationToken ct)\n   at Microsoft.ML.AutoML.AutoMLExperiment.RunAsync(CancellationToken ct)\n   at Submission#80.<<Initialize>>d__0.MoveNext()\n--- End of stack trace from previous location ---\n   at Microsoft.CodeAnalysis.Scripting.ScriptExecutionState.RunSubmissionsAsync[TResult](ImmutableArray`1 precedingExecutors, Func`2 currentExecutor, StrongBox`1 exceptionHolderOpt, Func`2 catchExceptionOpt, CancellationToken cancellationToken)",
     "output_type": "error",
     "traceback": [
      "System.InvalidOperationException: Concatenated columns should have the same type. Column 'MessageTokens' has type of String, but expected column type is Single.\n",
      "   at Microsoft.ML.Transforms.ColumnConcatenatingEstimator.CheckInputsAndMakeColumn(SchemaShape inputSchema, String name, String[] sources)\n",
      "   at Microsoft.ML.Transforms.ColumnConcatenatingEstimator.GetOutputSchema(SchemaShape inputSchema)\n",
      "   at Microsoft.ML.Data.EstimatorChain`1.GetOutputSchema(SchemaShape inputSchema)\n",
      "   at Microsoft.ML.Data.EstimatorChain`1.Fit(IDataView input)\n",
      "   at Microsoft.ML.AutoML.SweepablePipelineRunner.Run(TrialSettings settings)\n",
      "   at Microsoft.ML.AutoML.SweepablePipelineRunner.RunAsync(TrialSettings settings, CancellationToken ct)\n",
      "   at Microsoft.ML.AutoML.AutoMLExperiment.RunAsync(CancellationToken ct)\n",
      "   at Submission#80.<<Initialize>>d__0.MoveNext()\n",
      "--- End of stack trace from previous location ---\n",
      "   at Microsoft.CodeAnalysis.Scripting.ScriptExecutionState.RunSubmissionsAsync[TResult](ImmutableArray`1 precedingExecutors, Func`2 currentExecutor, StrongBox`1 exceptionHolderOpt, Func`2 catchExceptionOpt, CancellationToken cancellationToken)"
     ]
    }
   ],
   "source": [
    "\n",
    "// Now let's run our experiment using our custom pipeline\n",
    "var experiment = context.Auto().CreateExperiment()\n",
    "    .SetPipeline(pipeline)\n",
    "    .SetDataset(split)\n",
    "    .SetBinaryClassificationMetric(BinaryClassificationMetric.F1Score, labelColumn: \"Label\")\n",
    "    .SetMaxModelToExplore(10);\n",
    "\n",
    "TrialResult result = await experiment.RunAsync();\n",
    "ITransformer model = result.Model;\n",
    "\n",
    "#!transformer-vis model -d 3\n",
    "MLCharts.ClassificationReport(context.BinaryClassification.EvaluateNonCalibrated(model.Transform(split.TestSet), labelColumnName: \"Label\")) "
   ]
  },
  {
   "cell_type": "markdown",
   "metadata": {},
   "source": [
    "Logistic regression this time. Plus this is a calibrated model so can get probabilities at inferrencing time, which is nice."
   ]
  },
  {
   "cell_type": "code",
   "execution_count": 49,
   "metadata": {
    "dotnet_interactive": {
     "language": "csharp"
    },
    "polyglot_notebook": {
     "kernelName": "csharp"
    },
    "vscode": {
     "languageId": "polyglot-notebook"
    }
   },
   "outputs": [
    {
     "data": {
      "text/html": [
       "<div><div id=\"64230142-e082-4338-b1e5-80fdb41a8dc7\"><!-- Plotly chart will be drawn inside this DIV --></div><script type=\"text/javascript\">\n",
       "var renderPlotly_64230142e0824338b1e580fdb41a8dc7 = function() {\n",
       "    var fsharpPlotlyRequire = requirejs.config({context:'fsharp-plotly',paths:{plotly:'https://cdn.plot.ly/plotly-2.27.1.min'}}) || require;\n",
       "    fsharpPlotlyRequire(['plotly'], function(Plotly) {\n",
       "        var data = [{\"type\":\"heatmap\",\"x\":[\"Positive\",\"Negative\"],\"y\":[\"Positive\",\"Negative\"],\"z\":[[27.0,20.0],[5.0,94.0]],\"colorscale\":[[0.0,\"#FFFFFF\"],[0.5,\"#009dcf\"],[1.0,\"#003171\"]],\"showscale\":false,\"xaxis\":\"x\",\"yaxis\":\"y\",\"marker\":{\"showscale\":false}},{\"type\":\"bar\",\"x\":[0.9494949494949495,0.8245614035087719,0.574468085106383,0.84375,0.7955669691994453,0.8140984311197077,0.6835443037974684,0.8287671232876712],\"y\":[\"Negative Recall\",\"Negative Precision\",\"Positive Recall\",\"Positive Precision\",\"AUCPR\",\"AUC\",\"F1 Score\",\"Accuracy\"],\"text\":[\"0.949\",\"0.825\",\"0.574\",\"0.844\",\"0.796\",\"0.814\",\"0.684\",\"0.829\"],\"orientation\":\"h\",\"marker\":{\"color\":\"#003171\",\"pattern\":{},\"showscale\":false},\"xaxis\":\"x2\",\"yaxis\":\"y2\"}];\n",
       "        var layout = {\"width\":600,\"height\":600,\"template\":{\"layout\":{\"title\":{\"x\":0.05},\"font\":{\"color\":\"rgba(42, 63, 95, 1.0)\"},\"paper_bgcolor\":\"rgba(255, 255, 255, 1.0)\",\"plot_bgcolor\":\"rgba(229, 236, 246, 1.0)\",\"autotypenumbers\":\"strict\",\"colorscale\":{\"diverging\":[[0.0,\"#8e0152\"],[0.1,\"#c51b7d\"],[0.2,\"#de77ae\"],[0.3,\"#f1b6da\"],[0.4,\"#fde0ef\"],[0.5,\"#f7f7f7\"],[0.6,\"#e6f5d0\"],[0.7,\"#b8e186\"],[0.8,\"#7fbc41\"],[0.9,\"#4d9221\"],[1.0,\"#276419\"]],\"sequential\":[[0.0,\"#0d0887\"],[0.1111111111111111,\"#46039f\"],[0.2222222222222222,\"#7201a8\"],[0.3333333333333333,\"#9c179e\"],[0.4444444444444444,\"#bd3786\"],[0.5555555555555556,\"#d8576b\"],[0.6666666666666666,\"#ed7953\"],[0.7777777777777778,\"#fb9f3a\"],[0.8888888888888888,\"#fdca26\"],[1.0,\"#f0f921\"]],\"sequentialminus\":[[0.0,\"#0d0887\"],[0.1111111111111111,\"#46039f\"],[0.2222222222222222,\"#7201a8\"],[0.3333333333333333,\"#9c179e\"],[0.4444444444444444,\"#bd3786\"],[0.5555555555555556,\"#d8576b\"],[0.6666666666666666,\"#ed7953\"],[0.7777777777777778,\"#fb9f3a\"],[0.8888888888888888,\"#fdca26\"],[1.0,\"#f0f921\"]]},\"hovermode\":\"closest\",\"hoverlabel\":{\"align\":\"left\"},\"coloraxis\":{\"colorbar\":{\"outlinewidth\":0.0,\"ticks\":\"\"}},\"geo\":{\"showland\":true,\"landcolor\":\"rgba(229, 236, 246, 1.0)\",\"showlakes\":true,\"lakecolor\":\"rgba(255, 255, 255, 1.0)\",\"subunitcolor\":\"rgba(255, 255, 255, 1.0)\",\"bgcolor\":\"rgba(255, 255, 255, 1.0)\"},\"mapbox\":{\"style\":\"light\"},\"polar\":{\"bgcolor\":\"rgba(229, 236, 246, 1.0)\",\"radialaxis\":{\"linecolor\":\"rgba(255, 255, 255, 1.0)\",\"gridcolor\":\"rgba(255, 255, 255, 1.0)\",\"ticks\":\"\"},\"angularaxis\":{\"linecolor\":\"rgba(255, 255, 255, 1.0)\",\"gridcolor\":\"rgba(255, 255, 255, 1.0)\",\"ticks\":\"\"}},\"scene\":{\"xaxis\":{\"ticks\":\"\",\"linecolor\":\"rgba(255, 255, 255, 1.0)\",\"gridcolor\":\"rgba(255, 255, 255, 1.0)\",\"gridwidth\":2.0,\"zerolinecolor\":\"rgba(255, 255, 255, 1.0)\",\"backgroundcolor\":\"rgba(229, 236, 246, 1.0)\",\"showbackground\":true},\"yaxis\":{\"ticks\":\"\",\"linecolor\":\"rgba(255, 255, 255, 1.0)\",\"gridcolor\":\"rgba(255, 255, 255, 1.0)\",\"gridwidth\":2.0,\"zerolinecolor\":\"rgba(255, 255, 255, 1.0)\",\"backgroundcolor\":\"rgba(229, 236, 246, 1.0)\",\"showbackground\":true},\"zaxis\":{\"ticks\":\"\",\"linecolor\":\"rgba(255, 255, 255, 1.0)\",\"gridcolor\":\"rgba(255, 255, 255, 1.0)\",\"gridwidth\":2.0,\"zerolinecolor\":\"rgba(255, 255, 255, 1.0)\",\"backgroundcolor\":\"rgba(229, 236, 246, 1.0)\",\"showbackground\":true}},\"ternary\":{\"aaxis\":{\"ticks\":\"\",\"linecolor\":\"rgba(255, 255, 255, 1.0)\",\"gridcolor\":\"rgba(255, 255, 255, 1.0)\"},\"baxis\":{\"ticks\":\"\",\"linecolor\":\"rgba(255, 255, 255, 1.0)\",\"gridcolor\":\"rgba(255, 255, 255, 1.0)\"},\"caxis\":{\"ticks\":\"\",\"linecolor\":\"rgba(255, 255, 255, 1.0)\",\"gridcolor\":\"rgba(255, 255, 255, 1.0)\"},\"bgcolor\":\"rgba(229, 236, 246, 1.0)\"},\"xaxis\":{\"title\":{\"standoff\":15},\"ticks\":\"\",\"automargin\":\"height+width+left+right+top+bottom\",\"linecolor\":\"rgba(255, 255, 255, 1.0)\",\"gridcolor\":\"rgba(255, 255, 255, 1.0)\",\"zerolinecolor\":\"rgba(255, 255, 255, 1.0)\",\"zerolinewidth\":2.0},\"yaxis\":{\"title\":{\"standoff\":15},\"ticks\":\"\",\"automargin\":\"height+width+left+right+top+bottom\",\"linecolor\":\"rgba(255, 255, 255, 1.0)\",\"gridcolor\":\"rgba(255, 255, 255, 1.0)\",\"zerolinecolor\":\"rgba(255, 255, 255, 1.0)\",\"zerolinewidth\":2.0},\"annotationdefaults\":{\"arrowcolor\":\"#2a3f5f\",\"arrowhead\":0,\"arrowwidth\":1},\"shapedefaults\":{\"line\":{\"color\":\"rgba(42, 63, 95, 1.0)\"}},\"colorway\":[\"rgba(99, 110, 250, 1.0)\",\"rgba(239, 85, 59, 1.0)\",\"rgba(0, 204, 150, 1.0)\",\"rgba(171, 99, 250, 1.0)\",\"rgba(255, 161, 90, 1.0)\",\"rgba(25, 211, 243, 1.0)\",\"rgba(255, 102, 146, 1.0)\",\"rgba(182, 232, 128, 1.0)\",\"rgba(255, 151, 255, 1.0)\",\"rgba(254, 203, 82, 1.0)\"]},\"data\":{\"bar\":[{\"marker\":{\"line\":{\"color\":\"rgba(229, 236, 246, 1.0)\",\"width\":0.5},\"pattern\":{\"fillmode\":\"overlay\",\"size\":10,\"solidity\":0.2}},\"error_x\":{\"color\":\"rgba(42, 63, 95, 1.0)\"},\"error_y\":{\"color\":\"rgba(42, 63, 95, 1.0)\"}}],\"barpolar\":[{\"marker\":{\"line\":{\"color\":\"rgba(229, 236, 246, 1.0)\",\"width\":0.5},\"pattern\":{\"fillmode\":\"overlay\",\"size\":10,\"solidity\":0.2}}}],\"carpet\":[{\"aaxis\":{\"linecolor\":\"rgba(255, 255, 255, 1.0)\",\"gridcolor\":\"rgba(255, 255, 255, 1.0)\",\"endlinecolor\":\"rgba(42, 63, 95, 1.0)\",\"minorgridcolor\":\"rgba(255, 255, 255, 1.0)\",\"startlinecolor\":\"rgba(42, 63, 95, 1.0)\"},\"baxis\":{\"linecolor\":\"rgba(255, 255, 255, 1.0)\",\"gridcolor\":\"rgba(255, 255, 255, 1.0)\",\"endlinecolor\":\"rgba(42, 63, 95, 1.0)\",\"minorgridcolor\":\"rgba(255, 255, 255, 1.0)\",\"startlinecolor\":\"rgba(42, 63, 95, 1.0)\"}}],\"choropleth\":[{\"colorbar\":{\"outlinewidth\":0.0,\"ticks\":\"\"},\"colorscale\":[[0.0,\"#0d0887\"],[0.1111111111111111,\"#46039f\"],[0.2222222222222222,\"#7201a8\"],[0.3333333333333333,\"#9c179e\"],[0.4444444444444444,\"#bd3786\"],[0.5555555555555556,\"#d8576b\"],[0.6666666666666666,\"#ed7953\"],[0.7777777777777778,\"#fb9f3a\"],[0.8888888888888888,\"#fdca26\"],[1.0,\"#f0f921\"]]}],\"contour\":[{\"colorbar\":{\"outlinewidth\":0.0,\"ticks\":\"\"},\"colorscale\":[[0.0,\"#0d0887\"],[0.1111111111111111,\"#46039f\"],[0.2222222222222222,\"#7201a8\"],[0.3333333333333333,\"#9c179e\"],[0.4444444444444444,\"#bd3786\"],[0.5555555555555556,\"#d8576b\"],[0.6666666666666666,\"#ed7953\"],[0.7777777777777778,\"#fb9f3a\"],[0.8888888888888888,\"#fdca26\"],[1.0,\"#f0f921\"]]}],\"contourcarpet\":[{\"colorbar\":{\"outlinewidth\":0.0,\"ticks\":\"\"}}],\"heatmap\":[{\"colorbar\":{\"outlinewidth\":0.0,\"ticks\":\"\"},\"colorscale\":[[0.0,\"#0d0887\"],[0.1111111111111111,\"#46039f\"],[0.2222222222222222,\"#7201a8\"],[0.3333333333333333,\"#9c179e\"],[0.4444444444444444,\"#bd3786\"],[0.5555555555555556,\"#d8576b\"],[0.6666666666666666,\"#ed7953\"],[0.7777777777777778,\"#fb9f3a\"],[0.8888888888888888,\"#fdca26\"],[1.0,\"#f0f921\"]]}],\"heatmapgl\":[{\"colorbar\":{\"outlinewidth\":0.0,\"ticks\":\"\"},\"colorscale\":[[0.0,\"#0d0887\"],[0.1111111111111111,\"#46039f\"],[0.2222222222222222,\"#7201a8\"],[0.3333333333333333,\"#9c179e\"],[0.4444444444444444,\"#bd3786\"],[0.5555555555555556,\"#d8576b\"],[0.6666666666666666,\"#ed7953\"],[0.7777777777777778,\"#fb9f3a\"],[0.8888888888888888,\"#fdca26\"],[1.0,\"#f0f921\"]]}],\"histogram\":[{\"marker\":{\"pattern\":{\"fillmode\":\"overlay\",\"size\":10,\"solidity\":0.2}}}],\"histogram2d\":[{\"colorbar\":{\"outlinewidth\":0.0,\"ticks\":\"\"},\"colorscale\":[[0.0,\"#0d0887\"],[0.1111111111111111,\"#46039f\"],[0.2222222222222222,\"#7201a8\"],[0.3333333333333333,\"#9c179e\"],[0.4444444444444444,\"#bd3786\"],[0.5555555555555556,\"#d8576b\"],[0.6666666666666666,\"#ed7953\"],[0.7777777777777778,\"#fb9f3a\"],[0.8888888888888888,\"#fdca26\"],[1.0,\"#f0f921\"]]}],\"histogram2dcontour\":[{\"colorbar\":{\"outlinewidth\":0.0,\"ticks\":\"\"},\"colorscale\":[[0.0,\"#0d0887\"],[0.1111111111111111,\"#46039f\"],[0.2222222222222222,\"#7201a8\"],[0.3333333333333333,\"#9c179e\"],[0.4444444444444444,\"#bd3786\"],[0.5555555555555556,\"#d8576b\"],[0.6666666666666666,\"#ed7953\"],[0.7777777777777778,\"#fb9f3a\"],[0.8888888888888888,\"#fdca26\"],[1.0,\"#f0f921\"]]}],\"mesh3d\":[{\"colorbar\":{\"outlinewidth\":0.0,\"ticks\":\"\"}}],\"parcoords\":[{\"line\":{\"colorbar\":{\"outlinewidth\":0.0,\"ticks\":\"\"}}}],\"pie\":[{\"automargin\":true}],\"scatter\":[{\"marker\":{\"colorbar\":{\"outlinewidth\":0.0,\"ticks\":\"\"}}}],\"scatter3d\":[{\"marker\":{\"colorbar\":{\"outlinewidth\":0.0,\"ticks\":\"\"}},\"line\":{\"colorbar\":{\"outlinewidth\":0.0,\"ticks\":\"\"}}}],\"scattercarpet\":[{\"marker\":{\"colorbar\":{\"outlinewidth\":0.0,\"ticks\":\"\"}}}],\"scattergeo\":[{\"marker\":{\"colorbar\":{\"outlinewidth\":0.0,\"ticks\":\"\"}}}],\"scattergl\":[{\"marker\":{\"colorbar\":{\"outlinewidth\":0.0,\"ticks\":\"\"}}}],\"scattermapbox\":[{\"marker\":{\"colorbar\":{\"outlinewidth\":0.0,\"ticks\":\"\"}}}],\"scatterpolar\":[{\"marker\":{\"colorbar\":{\"outlinewidth\":0.0,\"ticks\":\"\"}}}],\"scatterpolargl\":[{\"marker\":{\"colorbar\":{\"outlinewidth\":0.0,\"ticks\":\"\"}}}],\"scatterternary\":[{\"marker\":{\"colorbar\":{\"outlinewidth\":0.0,\"ticks\":\"\"}}}],\"surface\":[{\"colorbar\":{\"outlinewidth\":0.0,\"ticks\":\"\"},\"colorscale\":[[0.0,\"#0d0887\"],[0.1111111111111111,\"#46039f\"],[0.2222222222222222,\"#7201a8\"],[0.3333333333333333,\"#9c179e\"],[0.4444444444444444,\"#bd3786\"],[0.5555555555555556,\"#d8576b\"],[0.6666666666666666,\"#ed7953\"],[0.7777777777777778,\"#fb9f3a\"],[0.8888888888888888,\"#fdca26\"],[1.0,\"#f0f921\"]]}],\"table\":[{\"cells\":{\"fill\":{\"color\":\"rgba(235, 240, 248, 1.0)\"},\"line\":{\"color\":\"rgba(255, 255, 255, 1.0)\"}},\"header\":{\"fill\":{\"color\":\"rgba(200, 212, 227, 1.0)\"},\"line\":{\"color\":\"rgba(255, 255, 255, 1.0)\"}}}]}},\"xaxis\":{\"title\":{\"text\":\"Predicted\"},\"showline\":false,\"showgrid\":false,\"side\":\"top\",\"showbackground\":false},\"title\":{\"text\":\"Classification Report\"},\"yaxis\":{\"autorange\":\"reversed\",\"title\":{\"text\":\"Actual\"},\"showline\":false,\"showgrid\":false,\"side\":\"left\",\"showbackground\":false},\"annotations\":[{\"x\":0.5,\"y\":1.0,\"showarrow\":false,\"text\":\"\",\"xanchor\":\"center\",\"xref\":\"paper\",\"yanchor\":\"bottom\",\"yref\":\"paper\"},{\"x\":0.5,\"y\":0.4117647058823529,\"showarrow\":false,\"text\":\"Binary Classification Metric\",\"xanchor\":\"center\",\"xref\":\"paper\",\"yanchor\":\"bottom\",\"yref\":\"paper\"},{\"x\":0,\"y\":0,\"bgcolor\":\"#FFFFFF\",\"bordercolor\":\"#003171\",\"font\":{\"size\":18.0},\"showarrow\":false,\"text\":\"27\"},{\"x\":1,\"y\":0,\"bgcolor\":\"#FFFFFF\",\"bordercolor\":\"#003171\",\"font\":{\"size\":18.0},\"showarrow\":false,\"text\":\"20\"},{\"x\":0,\"y\":1,\"bgcolor\":\"#FFFFFF\",\"bordercolor\":\"#003171\",\"font\":{\"size\":18.0},\"showarrow\":false,\"text\":\"5\"},{\"x\":1,\"y\":1,\"bgcolor\":\"#FFFFFF\",\"bordercolor\":\"#003171\",\"font\":{\"size\":18.0},\"showarrow\":false,\"text\":\"94\"}],\"xaxis2\":{\"title\":{},\"range\":[0,1]},\"yaxis2\":{},\"grid\":{\"rows\":2,\"columns\":1,\"roworder\":\"top to bottom\",\"pattern\":\"independent\"}};\n",
       "        var config = {\"responsive\":true};\n",
       "        Plotly.newPlot('64230142-e082-4338-b1e5-80fdb41a8dc7', data, layout, config);\n",
       "    });\n",
       "};\n",
       "if ((typeof(requirejs) !==  typeof(Function)) || (typeof(requirejs.config) !== typeof(Function))) {\n",
       "    var script = document.createElement(\"script\");\n",
       "    script.setAttribute(\"charset\", \"utf-8\");\n",
       "    script.setAttribute(\"src\", \"https://cdnjs.cloudflare.com/ajax/libs/require.js/2.3.6/require.min.js\");\n",
       "    script.onload = function(){\n",
       "        renderPlotly_64230142e0824338b1e580fdb41a8dc7();\n",
       "    };\n",
       "    document.getElementsByTagName(\"head\")[0].appendChild(script);\n",
       "}\n",
       "else {\n",
       "    renderPlotly_64230142e0824338b1e580fdb41a8dc7();\n",
       "}\n",
       "</script></div>"
      ]
     },
     "metadata": {},
     "output_type": "display_data"
    }
   ],
   "source": [
    "var scorer = model.Transform(split.TestSet);\n",
    "\n",
    "var evalResults = context.BinaryClassification.Evaluate(model.Transform(split.TestSet), labelColumnName: \"Label\");\n",
    "\n",
    "MLCharts.ClassificationReport(evalResults)"
   ]
  },
  {
   "cell_type": "code",
   "execution_count": 50,
   "metadata": {
    "dotnet_interactive": {
     "language": "csharp"
    },
    "polyglot_notebook": {
     "kernelName": "csharp"
    },
    "vscode": {
     "languageId": "polyglot-notebook"
    }
   },
   "outputs": [
    {
     "data": {
      "text/html": [
       "<table id=\"table_638540057579155148\"><thead><tr><th><i>index</i></th><th>Model</th><th>F1 Score</th><th>Accuracy</th><th>Positive Precision</th><th>Positive Recall</th><th>Negative Precision</th><th>Negative Recall</th><th>AUC</th><th>AUCPR</th></tr></thead><tbody><tr><td><i><div class=\"dni-plaintext\"><pre>0</pre></div></i></td><td>Simple AutoML - 10% Test Split</td><td><div class=\"dni-plaintext\"><pre>0.6666666666666667</pre></div></td><td><div class=\"dni-plaintext\"><pre>0.7857142857142857</pre></div></td><td><div class=\"dni-plaintext\"><pre>0.9</pre></div></td><td><div class=\"dni-plaintext\"><pre>0.5294117647058824</pre></div></td><td><div class=\"dni-plaintext\"><pre>0.75</pre></div></td><td><div class=\"dni-plaintext\"><pre>0.96</pre></div></td><td><div class=\"dni-plaintext\"><pre>0.7847058823529411</pre></div></td><td><div class=\"dni-plaintext\"><pre>0.7916167381810545</pre></div></td></tr><tr><td><i><div class=\"dni-plaintext\"><pre>1</pre></div></i></td><td>Simple AutoML - 30% Test Split</td><td><div class=\"dni-plaintext\"><pre>0.6571428571428571</pre></div></td><td><div class=\"dni-plaintext\"><pre>0.8356164383561644</pre></div></td><td><div class=\"dni-plaintext\"><pre>1</pre></div></td><td><div class=\"dni-plaintext\"><pre>0.48936170212765956</pre></div></td><td><div class=\"dni-plaintext\"><pre>0.8048780487804879</pre></div></td><td><div class=\"dni-plaintext\"><pre>1</pre></div></td><td><div class=\"dni-plaintext\"><pre>0.8233397807865893</pre></div></td><td><div class=\"dni-plaintext\"><pre>0.7960885789039365</pre></div></td></tr><tr><td><i><div class=\"dni-plaintext\"><pre>2</pre></div></i></td><td>Simple AutoML - 5 Fold CV</td><td><div class=\"dni-plaintext\"><pre>0.7142857142857143</pre></div></td><td><div class=\"dni-plaintext\"><pre>0.8297872340425532</pre></div></td><td><div class=\"dni-plaintext\"><pre>0.8333333333333334</pre></div></td><td><div class=\"dni-plaintext\"><pre>0.625</pre></div></td><td><div class=\"dni-plaintext\"><pre>0.8285714285714286</pre></div></td><td><div class=\"dni-plaintext\"><pre>0.9354838709677419</pre></div></td><td><div class=\"dni-plaintext\"><pre>0.8220766129032258</pre></div></td><td><div class=\"dni-plaintext\"><pre>0.7981657871596612</pre></div></td></tr><tr><td><i><div class=\"dni-plaintext\"><pre>3</pre></div></i></td><td>Custom AutoML Pipeline - Baseline</td><td><div class=\"dni-plaintext\"><pre>0.6575342465753424</pre></div></td><td><div class=\"dni-plaintext\"><pre>0.8287671232876712</pre></div></td><td><div class=\"dni-plaintext\"><pre>0.9230769230769231</pre></div></td><td><div class=\"dni-plaintext\"><pre>0.5106382978723404</pre></div></td><td><div class=\"dni-plaintext\"><pre>0.8083333333333333</pre></div></td><td><div class=\"dni-plaintext\"><pre>0.9797979797979798</pre></div></td><td><div class=\"dni-plaintext\"><pre>0.852675693101225</pre></div></td><td><div class=\"dni-plaintext\"><pre>0.8108735504522139</pre></div></td></tr><tr><td><i><div class=\"dni-plaintext\"><pre>4</pre></div></i></td><td>Custom AutoML Pipeline - No Trees / Random Forest</td><td><div class=\"dni-plaintext\"><pre>0.6835443037974684</pre></div></td><td><div class=\"dni-plaintext\"><pre>0.8287671232876712</pre></div></td><td><div class=\"dni-plaintext\"><pre>0.84375</pre></div></td><td><div class=\"dni-plaintext\"><pre>0.574468085106383</pre></div></td><td><div class=\"dni-plaintext\"><pre>0.8245614035087719</pre></div></td><td><div class=\"dni-plaintext\"><pre>0.9494949494949495</pre></div></td><td><div class=\"dni-plaintext\"><pre>0.8140984311197077</pre></div></td><td><div class=\"dni-plaintext\"><pre>0.7955669691994453</pre></div></td></tr></tbody></table><style>\r\n",
       ".dni-code-hint {\r\n",
       "    font-style: italic;\r\n",
       "    overflow: hidden;\r\n",
       "    white-space: nowrap;\r\n",
       "}\r\n",
       ".dni-treeview {\r\n",
       "    white-space: nowrap;\r\n",
       "}\r\n",
       ".dni-treeview td {\r\n",
       "    vertical-align: top;\r\n",
       "    text-align: start;\r\n",
       "}\r\n",
       "details.dni-treeview {\r\n",
       "    padding-left: 1em;\r\n",
       "}\r\n",
       "table td {\r\n",
       "    text-align: start;\r\n",
       "}\r\n",
       "table tr { \r\n",
       "    vertical-align: top; \r\n",
       "    margin: 0em 0px;\r\n",
       "}\r\n",
       "table tr td pre \r\n",
       "{ \r\n",
       "    vertical-align: top !important; \r\n",
       "    margin: 0em 0px !important;\r\n",
       "} \r\n",
       "table th {\r\n",
       "    text-align: start;\r\n",
       "}\r\n",
       "</style>"
      ]
     },
     "metadata": {},
     "output_type": "display_data"
    }
   ],
   "source": [
    "modelTracker.Register(\"Custom AutoML Pipeline - No Trees / Random Forest\", evalResults).ToDataFrame()"
   ]
  },
  {
   "cell_type": "markdown",
   "metadata": {},
   "source": [
    "It looks like by disabling the random forest and tree algorithms, we got it to pay more attention to logistic regression and it gave us a better result in terms of both F1 and Precision (among others I care less about).\n",
    "\n",
    "I also am less scared that logistic regression will overfit to this sample of train / test data."
   ]
  },
  {
   "cell_type": "code",
   "execution_count": 51,
   "metadata": {
    "dotnet_interactive": {
     "language": "csharp"
    },
    "polyglot_notebook": {
     "kernelName": "csharp"
    },
    "vscode": {
     "languageId": "polyglot-notebook"
    }
   },
   "outputs": [
    {
     "data": {
      "text/html": [
       "<div><div id=\"f9933a0f-d693-43ed-9672-e7162d8e1fcb\"><!-- Plotly chart will be drawn inside this DIV --></div><script type=\"text/javascript\">\n",
       "var renderPlotly_f9933a0fd69343ed9672e7162d8e1fcb = function() {\n",
       "    var fsharpPlotlyRequire = requirejs.config({context:'fsharp-plotly',paths:{plotly:'https://cdn.plot.ly/plotly-2.27.1.min'}}) || require;\n",
       "    fsharpPlotlyRequire(['plotly'], function(Plotly) {\n",
       "        var data = [{\"type\":\"bar\",\"x\":[\"rom\",\"on\",\"ons\",\"re*\",\"ple\",\"mpl\",\"e*b\",\"to\",\"*bo\",\"tex\"],\"y\":[0.03309241027243829,0.01979876663420958,0.019409282700421786,0.016877637130801558,0.01645569620253151,0.01645569620253151,0.014281077572216824,0.013647965827993805,0.008763388510224068,0.008763388510224068],\"orientation\":\"v\",\"marker\":{\"pattern\":{}}}];\n",
       "        var layout = {\"width\":800,\"height\":600,\"template\":{\"layout\":{\"title\":{\"x\":0.05},\"font\":{\"color\":\"rgba(42, 63, 95, 1.0)\"},\"paper_bgcolor\":\"rgba(255, 255, 255, 1.0)\",\"plot_bgcolor\":\"rgba(229, 236, 246, 1.0)\",\"autotypenumbers\":\"strict\",\"colorscale\":{\"diverging\":[[0.0,\"#8e0152\"],[0.1,\"#c51b7d\"],[0.2,\"#de77ae\"],[0.3,\"#f1b6da\"],[0.4,\"#fde0ef\"],[0.5,\"#f7f7f7\"],[0.6,\"#e6f5d0\"],[0.7,\"#b8e186\"],[0.8,\"#7fbc41\"],[0.9,\"#4d9221\"],[1.0,\"#276419\"]],\"sequential\":[[0.0,\"#0d0887\"],[0.1111111111111111,\"#46039f\"],[0.2222222222222222,\"#7201a8\"],[0.3333333333333333,\"#9c179e\"],[0.4444444444444444,\"#bd3786\"],[0.5555555555555556,\"#d8576b\"],[0.6666666666666666,\"#ed7953\"],[0.7777777777777778,\"#fb9f3a\"],[0.8888888888888888,\"#fdca26\"],[1.0,\"#f0f921\"]],\"sequentialminus\":[[0.0,\"#0d0887\"],[0.1111111111111111,\"#46039f\"],[0.2222222222222222,\"#7201a8\"],[0.3333333333333333,\"#9c179e\"],[0.4444444444444444,\"#bd3786\"],[0.5555555555555556,\"#d8576b\"],[0.6666666666666666,\"#ed7953\"],[0.7777777777777778,\"#fb9f3a\"],[0.8888888888888888,\"#fdca26\"],[1.0,\"#f0f921\"]]},\"hovermode\":\"closest\",\"hoverlabel\":{\"align\":\"left\"},\"coloraxis\":{\"colorbar\":{\"outlinewidth\":0.0,\"ticks\":\"\"}},\"geo\":{\"showland\":true,\"landcolor\":\"rgba(229, 236, 246, 1.0)\",\"showlakes\":true,\"lakecolor\":\"rgba(255, 255, 255, 1.0)\",\"subunitcolor\":\"rgba(255, 255, 255, 1.0)\",\"bgcolor\":\"rgba(255, 255, 255, 1.0)\"},\"mapbox\":{\"style\":\"light\"},\"polar\":{\"bgcolor\":\"rgba(229, 236, 246, 1.0)\",\"radialaxis\":{\"linecolor\":\"rgba(255, 255, 255, 1.0)\",\"gridcolor\":\"rgba(255, 255, 255, 1.0)\",\"ticks\":\"\"},\"angularaxis\":{\"linecolor\":\"rgba(255, 255, 255, 1.0)\",\"gridcolor\":\"rgba(255, 255, 255, 1.0)\",\"ticks\":\"\"}},\"scene\":{\"xaxis\":{\"ticks\":\"\",\"linecolor\":\"rgba(255, 255, 255, 1.0)\",\"gridcolor\":\"rgba(255, 255, 255, 1.0)\",\"gridwidth\":2.0,\"zerolinecolor\":\"rgba(255, 255, 255, 1.0)\",\"backgroundcolor\":\"rgba(229, 236, 246, 1.0)\",\"showbackground\":true},\"yaxis\":{\"ticks\":\"\",\"linecolor\":\"rgba(255, 255, 255, 1.0)\",\"gridcolor\":\"rgba(255, 255, 255, 1.0)\",\"gridwidth\":2.0,\"zerolinecolor\":\"rgba(255, 255, 255, 1.0)\",\"backgroundcolor\":\"rgba(229, 236, 246, 1.0)\",\"showbackground\":true},\"zaxis\":{\"ticks\":\"\",\"linecolor\":\"rgba(255, 255, 255, 1.0)\",\"gridcolor\":\"rgba(255, 255, 255, 1.0)\",\"gridwidth\":2.0,\"zerolinecolor\":\"rgba(255, 255, 255, 1.0)\",\"backgroundcolor\":\"rgba(229, 236, 246, 1.0)\",\"showbackground\":true}},\"ternary\":{\"aaxis\":{\"ticks\":\"\",\"linecolor\":\"rgba(255, 255, 255, 1.0)\",\"gridcolor\":\"rgba(255, 255, 255, 1.0)\"},\"baxis\":{\"ticks\":\"\",\"linecolor\":\"rgba(255, 255, 255, 1.0)\",\"gridcolor\":\"rgba(255, 255, 255, 1.0)\"},\"caxis\":{\"ticks\":\"\",\"linecolor\":\"rgba(255, 255, 255, 1.0)\",\"gridcolor\":\"rgba(255, 255, 255, 1.0)\"},\"bgcolor\":\"rgba(229, 236, 246, 1.0)\"},\"xaxis\":{\"title\":{\"standoff\":15},\"ticks\":\"\",\"automargin\":\"height+width+left+right+top+bottom\",\"linecolor\":\"rgba(255, 255, 255, 1.0)\",\"gridcolor\":\"rgba(255, 255, 255, 1.0)\",\"zerolinecolor\":\"rgba(255, 255, 255, 1.0)\",\"zerolinewidth\":2.0},\"yaxis\":{\"title\":{\"standoff\":15},\"ticks\":\"\",\"automargin\":\"height+width+left+right+top+bottom\",\"linecolor\":\"rgba(255, 255, 255, 1.0)\",\"gridcolor\":\"rgba(255, 255, 255, 1.0)\",\"zerolinecolor\":\"rgba(255, 255, 255, 1.0)\",\"zerolinewidth\":2.0},\"annotationdefaults\":{\"arrowcolor\":\"#2a3f5f\",\"arrowhead\":0,\"arrowwidth\":1},\"shapedefaults\":{\"line\":{\"color\":\"rgba(42, 63, 95, 1.0)\"}},\"colorway\":[\"rgba(99, 110, 250, 1.0)\",\"rgba(239, 85, 59, 1.0)\",\"rgba(0, 204, 150, 1.0)\",\"rgba(171, 99, 250, 1.0)\",\"rgba(255, 161, 90, 1.0)\",\"rgba(25, 211, 243, 1.0)\",\"rgba(255, 102, 146, 1.0)\",\"rgba(182, 232, 128, 1.0)\",\"rgba(255, 151, 255, 1.0)\",\"rgba(254, 203, 82, 1.0)\"]},\"data\":{\"bar\":[{\"marker\":{\"line\":{\"color\":\"rgba(229, 236, 246, 1.0)\",\"width\":0.5},\"pattern\":{\"fillmode\":\"overlay\",\"size\":10,\"solidity\":0.2}},\"error_x\":{\"color\":\"rgba(42, 63, 95, 1.0)\"},\"error_y\":{\"color\":\"rgba(42, 63, 95, 1.0)\"}}],\"barpolar\":[{\"marker\":{\"line\":{\"color\":\"rgba(229, 236, 246, 1.0)\",\"width\":0.5},\"pattern\":{\"fillmode\":\"overlay\",\"size\":10,\"solidity\":0.2}}}],\"carpet\":[{\"aaxis\":{\"linecolor\":\"rgba(255, 255, 255, 1.0)\",\"gridcolor\":\"rgba(255, 255, 255, 1.0)\",\"endlinecolor\":\"rgba(42, 63, 95, 1.0)\",\"minorgridcolor\":\"rgba(255, 255, 255, 1.0)\",\"startlinecolor\":\"rgba(42, 63, 95, 1.0)\"},\"baxis\":{\"linecolor\":\"rgba(255, 255, 255, 1.0)\",\"gridcolor\":\"rgba(255, 255, 255, 1.0)\",\"endlinecolor\":\"rgba(42, 63, 95, 1.0)\",\"minorgridcolor\":\"rgba(255, 255, 255, 1.0)\",\"startlinecolor\":\"rgba(42, 63, 95, 1.0)\"}}],\"choropleth\":[{\"colorbar\":{\"outlinewidth\":0.0,\"ticks\":\"\"},\"colorscale\":[[0.0,\"#0d0887\"],[0.1111111111111111,\"#46039f\"],[0.2222222222222222,\"#7201a8\"],[0.3333333333333333,\"#9c179e\"],[0.4444444444444444,\"#bd3786\"],[0.5555555555555556,\"#d8576b\"],[0.6666666666666666,\"#ed7953\"],[0.7777777777777778,\"#fb9f3a\"],[0.8888888888888888,\"#fdca26\"],[1.0,\"#f0f921\"]]}],\"contour\":[{\"colorbar\":{\"outlinewidth\":0.0,\"ticks\":\"\"},\"colorscale\":[[0.0,\"#0d0887\"],[0.1111111111111111,\"#46039f\"],[0.2222222222222222,\"#7201a8\"],[0.3333333333333333,\"#9c179e\"],[0.4444444444444444,\"#bd3786\"],[0.5555555555555556,\"#d8576b\"],[0.6666666666666666,\"#ed7953\"],[0.7777777777777778,\"#fb9f3a\"],[0.8888888888888888,\"#fdca26\"],[1.0,\"#f0f921\"]]}],\"contourcarpet\":[{\"colorbar\":{\"outlinewidth\":0.0,\"ticks\":\"\"}}],\"heatmap\":[{\"colorbar\":{\"outlinewidth\":0.0,\"ticks\":\"\"},\"colorscale\":[[0.0,\"#0d0887\"],[0.1111111111111111,\"#46039f\"],[0.2222222222222222,\"#7201a8\"],[0.3333333333333333,\"#9c179e\"],[0.4444444444444444,\"#bd3786\"],[0.5555555555555556,\"#d8576b\"],[0.6666666666666666,\"#ed7953\"],[0.7777777777777778,\"#fb9f3a\"],[0.8888888888888888,\"#fdca26\"],[1.0,\"#f0f921\"]]}],\"heatmapgl\":[{\"colorbar\":{\"outlinewidth\":0.0,\"ticks\":\"\"},\"colorscale\":[[0.0,\"#0d0887\"],[0.1111111111111111,\"#46039f\"],[0.2222222222222222,\"#7201a8\"],[0.3333333333333333,\"#9c179e\"],[0.4444444444444444,\"#bd3786\"],[0.5555555555555556,\"#d8576b\"],[0.6666666666666666,\"#ed7953\"],[0.7777777777777778,\"#fb9f3a\"],[0.8888888888888888,\"#fdca26\"],[1.0,\"#f0f921\"]]}],\"histogram\":[{\"marker\":{\"pattern\":{\"fillmode\":\"overlay\",\"size\":10,\"solidity\":0.2}}}],\"histogram2d\":[{\"colorbar\":{\"outlinewidth\":0.0,\"ticks\":\"\"},\"colorscale\":[[0.0,\"#0d0887\"],[0.1111111111111111,\"#46039f\"],[0.2222222222222222,\"#7201a8\"],[0.3333333333333333,\"#9c179e\"],[0.4444444444444444,\"#bd3786\"],[0.5555555555555556,\"#d8576b\"],[0.6666666666666666,\"#ed7953\"],[0.7777777777777778,\"#fb9f3a\"],[0.8888888888888888,\"#fdca26\"],[1.0,\"#f0f921\"]]}],\"histogram2dcontour\":[{\"colorbar\":{\"outlinewidth\":0.0,\"ticks\":\"\"},\"colorscale\":[[0.0,\"#0d0887\"],[0.1111111111111111,\"#46039f\"],[0.2222222222222222,\"#7201a8\"],[0.3333333333333333,\"#9c179e\"],[0.4444444444444444,\"#bd3786\"],[0.5555555555555556,\"#d8576b\"],[0.6666666666666666,\"#ed7953\"],[0.7777777777777778,\"#fb9f3a\"],[0.8888888888888888,\"#fdca26\"],[1.0,\"#f0f921\"]]}],\"mesh3d\":[{\"colorbar\":{\"outlinewidth\":0.0,\"ticks\":\"\"}}],\"parcoords\":[{\"line\":{\"colorbar\":{\"outlinewidth\":0.0,\"ticks\":\"\"}}}],\"pie\":[{\"automargin\":true}],\"scatter\":[{\"marker\":{\"colorbar\":{\"outlinewidth\":0.0,\"ticks\":\"\"}}}],\"scatter3d\":[{\"marker\":{\"colorbar\":{\"outlinewidth\":0.0,\"ticks\":\"\"}},\"line\":{\"colorbar\":{\"outlinewidth\":0.0,\"ticks\":\"\"}}}],\"scattercarpet\":[{\"marker\":{\"colorbar\":{\"outlinewidth\":0.0,\"ticks\":\"\"}}}],\"scattergeo\":[{\"marker\":{\"colorbar\":{\"outlinewidth\":0.0,\"ticks\":\"\"}}}],\"scattergl\":[{\"marker\":{\"colorbar\":{\"outlinewidth\":0.0,\"ticks\":\"\"}}}],\"scattermapbox\":[{\"marker\":{\"colorbar\":{\"outlinewidth\":0.0,\"ticks\":\"\"}}}],\"scatterpolar\":[{\"marker\":{\"colorbar\":{\"outlinewidth\":0.0,\"ticks\":\"\"}}}],\"scatterpolargl\":[{\"marker\":{\"colorbar\":{\"outlinewidth\":0.0,\"ticks\":\"\"}}}],\"scatterternary\":[{\"marker\":{\"colorbar\":{\"outlinewidth\":0.0,\"ticks\":\"\"}}}],\"surface\":[{\"colorbar\":{\"outlinewidth\":0.0,\"ticks\":\"\"},\"colorscale\":[[0.0,\"#0d0887\"],[0.1111111111111111,\"#46039f\"],[0.2222222222222222,\"#7201a8\"],[0.3333333333333333,\"#9c179e\"],[0.4444444444444444,\"#bd3786\"],[0.5555555555555556,\"#d8576b\"],[0.6666666666666666,\"#ed7953\"],[0.7777777777777778,\"#fb9f3a\"],[0.8888888888888888,\"#fdca26\"],[1.0,\"#f0f921\"]]}],\"table\":[{\"cells\":{\"fill\":{\"color\":\"rgba(235, 240, 248, 1.0)\"},\"line\":{\"color\":\"rgba(255, 255, 255, 1.0)\"}},\"header\":{\"fill\":{\"color\":\"rgba(200, 212, 227, 1.0)\"},\"line\":{\"color\":\"rgba(255, 255, 255, 1.0)\"}}}]}},\"title\":{\"text\":\"Feature Importances\"},\"xaxis\":{\"title\":{\"text\":\"Feature\"}},\"yaxis\":{\"title\":{\"text\":\"Absolute impact on F1 Score\"}}};\n",
       "        var config = {\"responsive\":true};\n",
       "        Plotly.newPlot('f9933a0f-d693-43ed-9672-e7162d8e1fcb', data, layout, config);\n",
       "    });\n",
       "};\n",
       "if ((typeof(requirejs) !==  typeof(Function)) || (typeof(requirejs.config) !== typeof(Function))) {\n",
       "    var script = document.createElement(\"script\");\n",
       "    script.setAttribute(\"charset\", \"utf-8\");\n",
       "    script.setAttribute(\"src\", \"https://cdnjs.cloudflare.com/ajax/libs/require.js/2.3.6/require.min.js\");\n",
       "    script.onload = function(){\n",
       "        renderPlotly_f9933a0fd69343ed9672e7162d8e1fcb();\n",
       "    };\n",
       "    document.getElementsByTagName(\"head\")[0].appendChild(script);\n",
       "}\n",
       "else {\n",
       "    renderPlotly_f9933a0fd69343ed9672e7162d8e1fcb();\n",
       "}\n",
       "</script></div>"
      ]
     },
     "metadata": {},
     "output_type": "display_data"
    }
   ],
   "source": [
    "MLCharts.FeatureImportances(context, model, split.TestSet, permutationCount: 3, numFeatures: 10)"
   ]
  },
  {
   "cell_type": "markdown",
   "metadata": {},
   "source": [
    "I feel this model is much more generalized and like how it's able to incorporate both text and numericfeatures. The features largely make sense, though \"on\" is a stop word and is apparently not being removed by the featurizer. It'd be good to look for a pre-processing step to remove stop words because I do believe stemming and case comparison is already taking place.\n",
    "\n",
    "Let's try reworking our pipeline to manually handle stop words."
   ]
  },
  {
   "cell_type": "code",
   "execution_count": 52,
   "metadata": {
    "dotnet_interactive": {
     "language": "csharp"
    },
    "polyglot_notebook": {
     "kernelName": "csharp"
    },
    "vscode": {
     "languageId": "polyglot-notebook"
    }
   },
   "outputs": [],
   "source": [
    "TextFeaturizingEstimator.Options textOptions = new TextFeaturizingEstimator.Options()\n",
    "{\n",
    "    CaseMode = TextNormalizingEstimator.CaseMode.Lower,\n",
    "    KeepDiacritics = false,\n",
    "    KeepPunctuations = true, // This is helpful for issue identifier prefixes as well as syntax discussions\n",
    "    KeepNumbers = false,\n",
    "\n",
    "    // To support non-English languages (if training data also expands in diversity) this could switch to an aggregated stop words set from all languages.\n",
    "    // Alternatively, we could use a language-specific model with a multi-class language classifier in front of it.\n",
    "    StopWordsRemoverOptions = new StopWordsRemovingEstimator.Options()\n",
    "    {\n",
    "        Language = TextFeaturizingEstimator.Language.English\n",
    "    },\n",
    "\n",
    "    // Configure ngram extraction\n",
    "    WordFeatureExtractor = new WordBagEstimator.Options()\n",
    "    {\n",
    "        NgramLength = 3,\n",
    "        UseAllLengths = true // consider bigrams and trigrams as well\n",
    "    },\n",
    "\n",
    "    // Configure char ngram extraction - very useful for important chunks of words such as \"fix\"\n",
    "    CharFeatureExtractor = new WordBagEstimator.Options()\n",
    "    {\n",
    "        NgramLength = 4,\n",
    "        UseAllLengths = true // allow shorter blocks of characters to be considered\n",
    "    },\n",
    "\n",
    "    Norm = TextFeaturizingEstimator.NormFunction.L2,\n",
    "};\n",
    "\n",
    "TextFeaturizingEstimator textFeaturizer = context.Transforms.Text.FeaturizeText(\"Message\", textOptions, \"Message\");"
   ]
  },
  {
   "cell_type": "code",
   "execution_count": 53,
   "metadata": {
    "dotnet_interactive": {
     "language": "csharp"
    },
    "polyglot_notebook": {
     "kernelName": "csharp"
    },
    "vscode": {
     "languageId": "polyglot-notebook"
    }
   },
   "outputs": [],
   "source": [
    "// Let's create a base pipeline from our common steps\n",
    "var basePipeline = imputer\n",
    "    .Append(boolConverter)\n",
    "    .Append(textFeaturizer)\n",
    "    .Append(concatenator);\n",
    "\n",
    "// And a specific pipeline with the classifier added to the end\n",
    "SweepablePipeline pipeline = basePipeline\n",
    "    .Append(classifier);"
   ]
  },
  {
   "cell_type": "code",
   "execution_count": 54,
   "metadata": {
    "dotnet_interactive": {
     "language": "csharp"
    },
    "polyglot_notebook": {
     "kernelName": "csharp"
    },
    "vscode": {
     "languageId": "polyglot-notebook"
    }
   },
   "outputs": [
    {
     "data": {
      "text/html": [
       "<div><div id=\"583ca582-7594-4f94-aff3-08070136c24d\"><!-- Plotly chart will be drawn inside this DIV --></div><script type=\"text/javascript\">\n",
       "var renderPlotly_583ca58275944f94aff308070136c24d = function() {\n",
       "    var fsharpPlotlyRequire = requirejs.config({context:'fsharp-plotly',paths:{plotly:'https://cdn.plot.ly/plotly-2.27.1.min'}}) || require;\n",
       "    fsharpPlotlyRequire(['plotly'], function(Plotly) {\n",
       "        var data = [{\"type\":\"heatmap\",\"x\":[\"Positive\",\"Negative\"],\"y\":[\"Positive\",\"Negative\"],\"z\":[[20.0,27.0],[5.0,94.0]],\"colorscale\":[[0.0,\"#FFFFFF\"],[0.5,\"#009dcf\"],[1.0,\"#003171\"]],\"showscale\":false,\"xaxis\":\"x\",\"yaxis\":\"y\",\"marker\":{\"showscale\":false}},{\"type\":\"bar\",\"x\":[0.9494949494949495,0.7768595041322314,0.425531914893617,0.8,0.6880814384901448,0.7375886524822695,0.5555555555555557,0.7808219178082192],\"y\":[\"Negative Recall\",\"Negative Precision\",\"Positive Recall\",\"Positive Precision\",\"AUCPR\",\"AUC\",\"F1 Score\",\"Accuracy\"],\"text\":[\"0.949\",\"0.777\",\"0.426\",\"0.800\",\"0.688\",\"0.738\",\"0.556\",\"0.781\"],\"orientation\":\"h\",\"marker\":{\"color\":\"#003171\",\"pattern\":{},\"showscale\":false},\"xaxis\":\"x2\",\"yaxis\":\"y2\"}];\n",
       "        var layout = {\"width\":600,\"height\":600,\"template\":{\"layout\":{\"title\":{\"x\":0.05},\"font\":{\"color\":\"rgba(42, 63, 95, 1.0)\"},\"paper_bgcolor\":\"rgba(255, 255, 255, 1.0)\",\"plot_bgcolor\":\"rgba(229, 236, 246, 1.0)\",\"autotypenumbers\":\"strict\",\"colorscale\":{\"diverging\":[[0.0,\"#8e0152\"],[0.1,\"#c51b7d\"],[0.2,\"#de77ae\"],[0.3,\"#f1b6da\"],[0.4,\"#fde0ef\"],[0.5,\"#f7f7f7\"],[0.6,\"#e6f5d0\"],[0.7,\"#b8e186\"],[0.8,\"#7fbc41\"],[0.9,\"#4d9221\"],[1.0,\"#276419\"]],\"sequential\":[[0.0,\"#0d0887\"],[0.1111111111111111,\"#46039f\"],[0.2222222222222222,\"#7201a8\"],[0.3333333333333333,\"#9c179e\"],[0.4444444444444444,\"#bd3786\"],[0.5555555555555556,\"#d8576b\"],[0.6666666666666666,\"#ed7953\"],[0.7777777777777778,\"#fb9f3a\"],[0.8888888888888888,\"#fdca26\"],[1.0,\"#f0f921\"]],\"sequentialminus\":[[0.0,\"#0d0887\"],[0.1111111111111111,\"#46039f\"],[0.2222222222222222,\"#7201a8\"],[0.3333333333333333,\"#9c179e\"],[0.4444444444444444,\"#bd3786\"],[0.5555555555555556,\"#d8576b\"],[0.6666666666666666,\"#ed7953\"],[0.7777777777777778,\"#fb9f3a\"],[0.8888888888888888,\"#fdca26\"],[1.0,\"#f0f921\"]]},\"hovermode\":\"closest\",\"hoverlabel\":{\"align\":\"left\"},\"coloraxis\":{\"colorbar\":{\"outlinewidth\":0.0,\"ticks\":\"\"}},\"geo\":{\"showland\":true,\"landcolor\":\"rgba(229, 236, 246, 1.0)\",\"showlakes\":true,\"lakecolor\":\"rgba(255, 255, 255, 1.0)\",\"subunitcolor\":\"rgba(255, 255, 255, 1.0)\",\"bgcolor\":\"rgba(255, 255, 255, 1.0)\"},\"mapbox\":{\"style\":\"light\"},\"polar\":{\"bgcolor\":\"rgba(229, 236, 246, 1.0)\",\"radialaxis\":{\"linecolor\":\"rgba(255, 255, 255, 1.0)\",\"gridcolor\":\"rgba(255, 255, 255, 1.0)\",\"ticks\":\"\"},\"angularaxis\":{\"linecolor\":\"rgba(255, 255, 255, 1.0)\",\"gridcolor\":\"rgba(255, 255, 255, 1.0)\",\"ticks\":\"\"}},\"scene\":{\"xaxis\":{\"ticks\":\"\",\"linecolor\":\"rgba(255, 255, 255, 1.0)\",\"gridcolor\":\"rgba(255, 255, 255, 1.0)\",\"gridwidth\":2.0,\"zerolinecolor\":\"rgba(255, 255, 255, 1.0)\",\"backgroundcolor\":\"rgba(229, 236, 246, 1.0)\",\"showbackground\":true},\"yaxis\":{\"ticks\":\"\",\"linecolor\":\"rgba(255, 255, 255, 1.0)\",\"gridcolor\":\"rgba(255, 255, 255, 1.0)\",\"gridwidth\":2.0,\"zerolinecolor\":\"rgba(255, 255, 255, 1.0)\",\"backgroundcolor\":\"rgba(229, 236, 246, 1.0)\",\"showbackground\":true},\"zaxis\":{\"ticks\":\"\",\"linecolor\":\"rgba(255, 255, 255, 1.0)\",\"gridcolor\":\"rgba(255, 255, 255, 1.0)\",\"gridwidth\":2.0,\"zerolinecolor\":\"rgba(255, 255, 255, 1.0)\",\"backgroundcolor\":\"rgba(229, 236, 246, 1.0)\",\"showbackground\":true}},\"ternary\":{\"aaxis\":{\"ticks\":\"\",\"linecolor\":\"rgba(255, 255, 255, 1.0)\",\"gridcolor\":\"rgba(255, 255, 255, 1.0)\"},\"baxis\":{\"ticks\":\"\",\"linecolor\":\"rgba(255, 255, 255, 1.0)\",\"gridcolor\":\"rgba(255, 255, 255, 1.0)\"},\"caxis\":{\"ticks\":\"\",\"linecolor\":\"rgba(255, 255, 255, 1.0)\",\"gridcolor\":\"rgba(255, 255, 255, 1.0)\"},\"bgcolor\":\"rgba(229, 236, 246, 1.0)\"},\"xaxis\":{\"title\":{\"standoff\":15},\"ticks\":\"\",\"automargin\":\"height+width+left+right+top+bottom\",\"linecolor\":\"rgba(255, 255, 255, 1.0)\",\"gridcolor\":\"rgba(255, 255, 255, 1.0)\",\"zerolinecolor\":\"rgba(255, 255, 255, 1.0)\",\"zerolinewidth\":2.0},\"yaxis\":{\"title\":{\"standoff\":15},\"ticks\":\"\",\"automargin\":\"height+width+left+right+top+bottom\",\"linecolor\":\"rgba(255, 255, 255, 1.0)\",\"gridcolor\":\"rgba(255, 255, 255, 1.0)\",\"zerolinecolor\":\"rgba(255, 255, 255, 1.0)\",\"zerolinewidth\":2.0},\"annotationdefaults\":{\"arrowcolor\":\"#2a3f5f\",\"arrowhead\":0,\"arrowwidth\":1},\"shapedefaults\":{\"line\":{\"color\":\"rgba(42, 63, 95, 1.0)\"}},\"colorway\":[\"rgba(99, 110, 250, 1.0)\",\"rgba(239, 85, 59, 1.0)\",\"rgba(0, 204, 150, 1.0)\",\"rgba(171, 99, 250, 1.0)\",\"rgba(255, 161, 90, 1.0)\",\"rgba(25, 211, 243, 1.0)\",\"rgba(255, 102, 146, 1.0)\",\"rgba(182, 232, 128, 1.0)\",\"rgba(255, 151, 255, 1.0)\",\"rgba(254, 203, 82, 1.0)\"]},\"data\":{\"bar\":[{\"marker\":{\"line\":{\"color\":\"rgba(229, 236, 246, 1.0)\",\"width\":0.5},\"pattern\":{\"fillmode\":\"overlay\",\"size\":10,\"solidity\":0.2}},\"error_x\":{\"color\":\"rgba(42, 63, 95, 1.0)\"},\"error_y\":{\"color\":\"rgba(42, 63, 95, 1.0)\"}}],\"barpolar\":[{\"marker\":{\"line\":{\"color\":\"rgba(229, 236, 246, 1.0)\",\"width\":0.5},\"pattern\":{\"fillmode\":\"overlay\",\"size\":10,\"solidity\":0.2}}}],\"carpet\":[{\"aaxis\":{\"linecolor\":\"rgba(255, 255, 255, 1.0)\",\"gridcolor\":\"rgba(255, 255, 255, 1.0)\",\"endlinecolor\":\"rgba(42, 63, 95, 1.0)\",\"minorgridcolor\":\"rgba(255, 255, 255, 1.0)\",\"startlinecolor\":\"rgba(42, 63, 95, 1.0)\"},\"baxis\":{\"linecolor\":\"rgba(255, 255, 255, 1.0)\",\"gridcolor\":\"rgba(255, 255, 255, 1.0)\",\"endlinecolor\":\"rgba(42, 63, 95, 1.0)\",\"minorgridcolor\":\"rgba(255, 255, 255, 1.0)\",\"startlinecolor\":\"rgba(42, 63, 95, 1.0)\"}}],\"choropleth\":[{\"colorbar\":{\"outlinewidth\":0.0,\"ticks\":\"\"},\"colorscale\":[[0.0,\"#0d0887\"],[0.1111111111111111,\"#46039f\"],[0.2222222222222222,\"#7201a8\"],[0.3333333333333333,\"#9c179e\"],[0.4444444444444444,\"#bd3786\"],[0.5555555555555556,\"#d8576b\"],[0.6666666666666666,\"#ed7953\"],[0.7777777777777778,\"#fb9f3a\"],[0.8888888888888888,\"#fdca26\"],[1.0,\"#f0f921\"]]}],\"contour\":[{\"colorbar\":{\"outlinewidth\":0.0,\"ticks\":\"\"},\"colorscale\":[[0.0,\"#0d0887\"],[0.1111111111111111,\"#46039f\"],[0.2222222222222222,\"#7201a8\"],[0.3333333333333333,\"#9c179e\"],[0.4444444444444444,\"#bd3786\"],[0.5555555555555556,\"#d8576b\"],[0.6666666666666666,\"#ed7953\"],[0.7777777777777778,\"#fb9f3a\"],[0.8888888888888888,\"#fdca26\"],[1.0,\"#f0f921\"]]}],\"contourcarpet\":[{\"colorbar\":{\"outlinewidth\":0.0,\"ticks\":\"\"}}],\"heatmap\":[{\"colorbar\":{\"outlinewidth\":0.0,\"ticks\":\"\"},\"colorscale\":[[0.0,\"#0d0887\"],[0.1111111111111111,\"#46039f\"],[0.2222222222222222,\"#7201a8\"],[0.3333333333333333,\"#9c179e\"],[0.4444444444444444,\"#bd3786\"],[0.5555555555555556,\"#d8576b\"],[0.6666666666666666,\"#ed7953\"],[0.7777777777777778,\"#fb9f3a\"],[0.8888888888888888,\"#fdca26\"],[1.0,\"#f0f921\"]]}],\"heatmapgl\":[{\"colorbar\":{\"outlinewidth\":0.0,\"ticks\":\"\"},\"colorscale\":[[0.0,\"#0d0887\"],[0.1111111111111111,\"#46039f\"],[0.2222222222222222,\"#7201a8\"],[0.3333333333333333,\"#9c179e\"],[0.4444444444444444,\"#bd3786\"],[0.5555555555555556,\"#d8576b\"],[0.6666666666666666,\"#ed7953\"],[0.7777777777777778,\"#fb9f3a\"],[0.8888888888888888,\"#fdca26\"],[1.0,\"#f0f921\"]]}],\"histogram\":[{\"marker\":{\"pattern\":{\"fillmode\":\"overlay\",\"size\":10,\"solidity\":0.2}}}],\"histogram2d\":[{\"colorbar\":{\"outlinewidth\":0.0,\"ticks\":\"\"},\"colorscale\":[[0.0,\"#0d0887\"],[0.1111111111111111,\"#46039f\"],[0.2222222222222222,\"#7201a8\"],[0.3333333333333333,\"#9c179e\"],[0.4444444444444444,\"#bd3786\"],[0.5555555555555556,\"#d8576b\"],[0.6666666666666666,\"#ed7953\"],[0.7777777777777778,\"#fb9f3a\"],[0.8888888888888888,\"#fdca26\"],[1.0,\"#f0f921\"]]}],\"histogram2dcontour\":[{\"colorbar\":{\"outlinewidth\":0.0,\"ticks\":\"\"},\"colorscale\":[[0.0,\"#0d0887\"],[0.1111111111111111,\"#46039f\"],[0.2222222222222222,\"#7201a8\"],[0.3333333333333333,\"#9c179e\"],[0.4444444444444444,\"#bd3786\"],[0.5555555555555556,\"#d8576b\"],[0.6666666666666666,\"#ed7953\"],[0.7777777777777778,\"#fb9f3a\"],[0.8888888888888888,\"#fdca26\"],[1.0,\"#f0f921\"]]}],\"mesh3d\":[{\"colorbar\":{\"outlinewidth\":0.0,\"ticks\":\"\"}}],\"parcoords\":[{\"line\":{\"colorbar\":{\"outlinewidth\":0.0,\"ticks\":\"\"}}}],\"pie\":[{\"automargin\":true}],\"scatter\":[{\"marker\":{\"colorbar\":{\"outlinewidth\":0.0,\"ticks\":\"\"}}}],\"scatter3d\":[{\"marker\":{\"colorbar\":{\"outlinewidth\":0.0,\"ticks\":\"\"}},\"line\":{\"colorbar\":{\"outlinewidth\":0.0,\"ticks\":\"\"}}}],\"scattercarpet\":[{\"marker\":{\"colorbar\":{\"outlinewidth\":0.0,\"ticks\":\"\"}}}],\"scattergeo\":[{\"marker\":{\"colorbar\":{\"outlinewidth\":0.0,\"ticks\":\"\"}}}],\"scattergl\":[{\"marker\":{\"colorbar\":{\"outlinewidth\":0.0,\"ticks\":\"\"}}}],\"scattermapbox\":[{\"marker\":{\"colorbar\":{\"outlinewidth\":0.0,\"ticks\":\"\"}}}],\"scatterpolar\":[{\"marker\":{\"colorbar\":{\"outlinewidth\":0.0,\"ticks\":\"\"}}}],\"scatterpolargl\":[{\"marker\":{\"colorbar\":{\"outlinewidth\":0.0,\"ticks\":\"\"}}}],\"scatterternary\":[{\"marker\":{\"colorbar\":{\"outlinewidth\":0.0,\"ticks\":\"\"}}}],\"surface\":[{\"colorbar\":{\"outlinewidth\":0.0,\"ticks\":\"\"},\"colorscale\":[[0.0,\"#0d0887\"],[0.1111111111111111,\"#46039f\"],[0.2222222222222222,\"#7201a8\"],[0.3333333333333333,\"#9c179e\"],[0.4444444444444444,\"#bd3786\"],[0.5555555555555556,\"#d8576b\"],[0.6666666666666666,\"#ed7953\"],[0.7777777777777778,\"#fb9f3a\"],[0.8888888888888888,\"#fdca26\"],[1.0,\"#f0f921\"]]}],\"table\":[{\"cells\":{\"fill\":{\"color\":\"rgba(235, 240, 248, 1.0)\"},\"line\":{\"color\":\"rgba(255, 255, 255, 1.0)\"}},\"header\":{\"fill\":{\"color\":\"rgba(200, 212, 227, 1.0)\"},\"line\":{\"color\":\"rgba(255, 255, 255, 1.0)\"}}}]}},\"xaxis\":{\"title\":{\"text\":\"Predicted\"},\"showline\":false,\"showgrid\":false,\"side\":\"top\",\"showbackground\":false},\"title\":{\"text\":\"Classification Report\"},\"yaxis\":{\"autorange\":\"reversed\",\"title\":{\"text\":\"Actual\"},\"showline\":false,\"showgrid\":false,\"side\":\"left\",\"showbackground\":false},\"annotations\":[{\"x\":0.5,\"y\":1.0,\"showarrow\":false,\"text\":\"\",\"xanchor\":\"center\",\"xref\":\"paper\",\"yanchor\":\"bottom\",\"yref\":\"paper\"},{\"x\":0.5,\"y\":0.4117647058823529,\"showarrow\":false,\"text\":\"Binary Classification Metric\",\"xanchor\":\"center\",\"xref\":\"paper\",\"yanchor\":\"bottom\",\"yref\":\"paper\"},{\"x\":0,\"y\":0,\"bgcolor\":\"#FFFFFF\",\"bordercolor\":\"#003171\",\"font\":{\"size\":18.0},\"showarrow\":false,\"text\":\"20\"},{\"x\":1,\"y\":0,\"bgcolor\":\"#FFFFFF\",\"bordercolor\":\"#003171\",\"font\":{\"size\":18.0},\"showarrow\":false,\"text\":\"27\"},{\"x\":0,\"y\":1,\"bgcolor\":\"#FFFFFF\",\"bordercolor\":\"#003171\",\"font\":{\"size\":18.0},\"showarrow\":false,\"text\":\"5\"},{\"x\":1,\"y\":1,\"bgcolor\":\"#FFFFFF\",\"bordercolor\":\"#003171\",\"font\":{\"size\":18.0},\"showarrow\":false,\"text\":\"94\"}],\"xaxis2\":{\"title\":{},\"range\":[0,1]},\"yaxis2\":{},\"grid\":{\"rows\":2,\"columns\":1,\"roworder\":\"top to bottom\",\"pattern\":\"independent\"}};\n",
       "        var config = {\"responsive\":true};\n",
       "        Plotly.newPlot('583ca582-7594-4f94-aff3-08070136c24d', data, layout, config);\n",
       "    });\n",
       "};\n",
       "if ((typeof(requirejs) !==  typeof(Function)) || (typeof(requirejs.config) !== typeof(Function))) {\n",
       "    var script = document.createElement(\"script\");\n",
       "    script.setAttribute(\"charset\", \"utf-8\");\n",
       "    script.setAttribute(\"src\", \"https://cdnjs.cloudflare.com/ajax/libs/require.js/2.3.6/require.min.js\");\n",
       "    script.onload = function(){\n",
       "        renderPlotly_583ca58275944f94aff308070136c24d();\n",
       "    };\n",
       "    document.getElementsByTagName(\"head\")[0].appendChild(script);\n",
       "}\n",
       "else {\n",
       "    renderPlotly_583ca58275944f94aff308070136c24d();\n",
       "}\n",
       "</script></div>"
      ]
     },
     "metadata": {},
     "output_type": "display_data"
    }
   ],
   "source": [
    "// Disable our tree-based models and run the experiment again\n",
    "var classifier = context.Auto().BinaryClassification(\n",
    "    useFastTree: false,\n",
    "    useFastForest: false, \n",
    "    useLgbm: false);\n",
    "\n",
    "// Let's create our pipeline\n",
    "SweepablePipeline pipeline = basePipeline.Append(classifier);\n",
    "\n",
    "// Now let's run our experiment using our custom pipeline\n",
    "var experiment = context.Auto().CreateExperiment()\n",
    "    .SetPipeline(pipeline)\n",
    "    .SetDataset(split)\n",
    "    .SetBinaryClassificationMetric(BinaryClassificationMetric.F1Score, labelColumn: \"Label\")\n",
    "    .SetTrainingTimeInSeconds(10);\n",
    "\n",
    "TrialResult result = await experiment.RunAsync();\n",
    "ITransformer model = result.Model;\n",
    "\n",
    "var scorer = model.Transform(split.TestSet);\n",
    "\n",
    "var evalResults = context.BinaryClassification.Evaluate(model.Transform(split.TestSet), labelColumnName: \"Label\");\n",
    "\n",
    "MLCharts.ClassificationReport(evalResults)"
   ]
  },
  {
   "cell_type": "code",
   "execution_count": 55,
   "metadata": {
    "dotnet_interactive": {
     "language": "csharp"
    },
    "polyglot_notebook": {
     "kernelName": "csharp"
    },
    "vscode": {
     "languageId": "polyglot-notebook"
    }
   },
   "outputs": [
    {
     "data": {
      "text/html": [
       "<table id=\"table_638540058345241585\"><thead><tr><th><i>index</i></th><th>Model</th><th>F1 Score</th><th>Accuracy</th><th>Positive Precision</th><th>Positive Recall</th><th>Negative Precision</th><th>Negative Recall</th><th>AUC</th><th>AUCPR</th></tr></thead><tbody><tr><td><i><div class=\"dni-plaintext\"><pre>0</pre></div></i></td><td>Simple AutoML - 10% Test Split</td><td><div class=\"dni-plaintext\"><pre>0.6666666666666667</pre></div></td><td><div class=\"dni-plaintext\"><pre>0.7857142857142857</pre></div></td><td><div class=\"dni-plaintext\"><pre>0.9</pre></div></td><td><div class=\"dni-plaintext\"><pre>0.5294117647058824</pre></div></td><td><div class=\"dni-plaintext\"><pre>0.75</pre></div></td><td><div class=\"dni-plaintext\"><pre>0.96</pre></div></td><td><div class=\"dni-plaintext\"><pre>0.7847058823529411</pre></div></td><td><div class=\"dni-plaintext\"><pre>0.7916167381810545</pre></div></td></tr><tr><td><i><div class=\"dni-plaintext\"><pre>1</pre></div></i></td><td>Simple AutoML - 30% Test Split</td><td><div class=\"dni-plaintext\"><pre>0.6571428571428571</pre></div></td><td><div class=\"dni-plaintext\"><pre>0.8356164383561644</pre></div></td><td><div class=\"dni-plaintext\"><pre>1</pre></div></td><td><div class=\"dni-plaintext\"><pre>0.48936170212765956</pre></div></td><td><div class=\"dni-plaintext\"><pre>0.8048780487804879</pre></div></td><td><div class=\"dni-plaintext\"><pre>1</pre></div></td><td><div class=\"dni-plaintext\"><pre>0.8233397807865893</pre></div></td><td><div class=\"dni-plaintext\"><pre>0.7960885789039365</pre></div></td></tr><tr><td><i><div class=\"dni-plaintext\"><pre>2</pre></div></i></td><td>Simple AutoML - 5 Fold CV</td><td><div class=\"dni-plaintext\"><pre>0.7142857142857143</pre></div></td><td><div class=\"dni-plaintext\"><pre>0.8297872340425532</pre></div></td><td><div class=\"dni-plaintext\"><pre>0.8333333333333334</pre></div></td><td><div class=\"dni-plaintext\"><pre>0.625</pre></div></td><td><div class=\"dni-plaintext\"><pre>0.8285714285714286</pre></div></td><td><div class=\"dni-plaintext\"><pre>0.9354838709677419</pre></div></td><td><div class=\"dni-plaintext\"><pre>0.8220766129032258</pre></div></td><td><div class=\"dni-plaintext\"><pre>0.7981657871596612</pre></div></td></tr><tr><td><i><div class=\"dni-plaintext\"><pre>3</pre></div></i></td><td>Custom AutoML Pipeline - Baseline</td><td><div class=\"dni-plaintext\"><pre>0.6575342465753424</pre></div></td><td><div class=\"dni-plaintext\"><pre>0.8287671232876712</pre></div></td><td><div class=\"dni-plaintext\"><pre>0.9230769230769231</pre></div></td><td><div class=\"dni-plaintext\"><pre>0.5106382978723404</pre></div></td><td><div class=\"dni-plaintext\"><pre>0.8083333333333333</pre></div></td><td><div class=\"dni-plaintext\"><pre>0.9797979797979798</pre></div></td><td><div class=\"dni-plaintext\"><pre>0.852675693101225</pre></div></td><td><div class=\"dni-plaintext\"><pre>0.8108735504522139</pre></div></td></tr><tr><td><i><div class=\"dni-plaintext\"><pre>4</pre></div></i></td><td>Custom AutoML Pipeline - No Trees / Random Forest</td><td><div class=\"dni-plaintext\"><pre>0.6835443037974684</pre></div></td><td><div class=\"dni-plaintext\"><pre>0.8287671232876712</pre></div></td><td><div class=\"dni-plaintext\"><pre>0.84375</pre></div></td><td><div class=\"dni-plaintext\"><pre>0.574468085106383</pre></div></td><td><div class=\"dni-plaintext\"><pre>0.8245614035087719</pre></div></td><td><div class=\"dni-plaintext\"><pre>0.9494949494949495</pre></div></td><td><div class=\"dni-plaintext\"><pre>0.8140984311197077</pre></div></td><td><div class=\"dni-plaintext\"><pre>0.7955669691994453</pre></div></td></tr><tr><td><i><div class=\"dni-plaintext\"><pre>5</pre></div></i></td><td>Custom AutoML Pipeline - Advanced Text Featurization</td><td><div class=\"dni-plaintext\"><pre>0.5555555555555557</pre></div></td><td><div class=\"dni-plaintext\"><pre>0.7808219178082192</pre></div></td><td><div class=\"dni-plaintext\"><pre>0.8</pre></div></td><td><div class=\"dni-plaintext\"><pre>0.425531914893617</pre></div></td><td><div class=\"dni-plaintext\"><pre>0.7768595041322314</pre></div></td><td><div class=\"dni-plaintext\"><pre>0.9494949494949495</pre></div></td><td><div class=\"dni-plaintext\"><pre>0.7375886524822695</pre></div></td><td><div class=\"dni-plaintext\"><pre>0.6880814384901448</pre></div></td></tr></tbody></table><style>\r\n",
       ".dni-code-hint {\r\n",
       "    font-style: italic;\r\n",
       "    overflow: hidden;\r\n",
       "    white-space: nowrap;\r\n",
       "}\r\n",
       ".dni-treeview {\r\n",
       "    white-space: nowrap;\r\n",
       "}\r\n",
       ".dni-treeview td {\r\n",
       "    vertical-align: top;\r\n",
       "    text-align: start;\r\n",
       "}\r\n",
       "details.dni-treeview {\r\n",
       "    padding-left: 1em;\r\n",
       "}\r\n",
       "table td {\r\n",
       "    text-align: start;\r\n",
       "}\r\n",
       "table tr { \r\n",
       "    vertical-align: top; \r\n",
       "    margin: 0em 0px;\r\n",
       "}\r\n",
       "table tr td pre \r\n",
       "{ \r\n",
       "    vertical-align: top !important; \r\n",
       "    margin: 0em 0px !important;\r\n",
       "} \r\n",
       "table th {\r\n",
       "    text-align: start;\r\n",
       "}\r\n",
       "</style>"
      ]
     },
     "metadata": {},
     "output_type": "display_data"
    }
   ],
   "source": [
    "modelTracker.Register(\"Custom AutoML Pipeline - Advanced Text Featurization\", evalResults).ToDataFrame()"
   ]
  },
  {
   "cell_type": "code",
   "execution_count": 49,
   "metadata": {
    "dotnet_interactive": {
     "language": "csharp"
    },
    "polyglot_notebook": {
     "kernelName": "csharp"
    },
    "vscode": {
     "languageId": "polyglot-notebook"
    }
   },
   "outputs": [],
   "source": [
    "NormalizingEstimator normalizer = context.Transforms.NormalizeRobustScaling(numericColumns);\n",
    "\n",
    "TextNormalizingEstimator textNormalizer = context.Transforms.Text.NormalizeText(\n",
    "    inputColumnName: \"Message\", \n",
    "    outputColumnName: \"Message\", \n",
    "    caseMode: TextNormalizingEstimator.CaseMode.Lower, \n",
    "    keepDiacritics: false, \n",
    "    keepPunctuations: false, \n",
    "    keepNumbers: false);\n",
    "\n",
    "WordTokenizingEstimator tokenizer = context.Transforms.Text.TokenizeIntoWords(inputColumnName: \"Message\", outputColumnName: \"Message\");\n",
    "\n",
    "StopWordsRemovingEstimator stopWordsRemover = context.Transforms.Text.RemoveDefaultStopWords(inputColumnName: \"Message\", outputColumnName: \"Message\", language: StopWordsRemovingEstimator.Language.English);"
   ]
  },
  {
   "cell_type": "markdown",
   "metadata": {},
   "source": [
    "### Logistic Regression Focus"
   ]
  },
  {
   "cell_type": "code",
   "execution_count": 122,
   "metadata": {
    "dotnet_interactive": {
     "language": "csharp"
    },
    "polyglot_notebook": {
     "kernelName": "csharp"
    },
    "vscode": {
     "languageId": "polyglot-notebook"
    }
   },
   "outputs": [
    {
     "data": {
      "text/html": [
       "<table><thead><tr><th><i>key</i></th><th>value</th></tr></thead><tbody><tr><td><div class=\"dni-plaintext\"><pre>L1Regularization</pre></div></td><td><details class=\"dni-treeview\"><summary><span class=\"dni-code-hint\"><code>Microsoft.ML.SearchSpace.Option.UniformSingleOption</code></span></summary><div><table><thead><tr></tr></thead><tbody><tr><td>Min</td><td><div class=\"dni-plaintext\"><pre>0</pre></div></td></tr><tr><td>Max</td><td><div class=\"dni-plaintext\"><pre>0.5</pre></div></td></tr><tr><td>LogBase</td><td><div class=\"dni-plaintext\"><pre>False</pre></div></td></tr><tr><td>FeatureSpaceDim</td><td><div class=\"dni-plaintext\"><pre>1</pre></div></td></tr><tr><td>Step</td><td><div class=\"dni-plaintext\"><pre>[ &lt;null&gt; ]</pre></div></td></tr><tr><td>Default</td><td><div class=\"dni-plaintext\"><pre>[ 0.10000000149011612 ]</pre></div></td></tr></tbody></table></div></details></td></tr><tr><td><div class=\"dni-plaintext\"><pre>L2Regularization</pre></div></td><td><details class=\"dni-treeview\"><summary><span class=\"dni-code-hint\"><code>Microsoft.ML.SearchSpace.Option.UniformSingleOption</code></span></summary><div><table><thead><tr></tr></thead><tbody><tr><td>Min</td><td><div class=\"dni-plaintext\"><pre>0</pre></div></td></tr><tr><td>Max</td><td><div class=\"dni-plaintext\"><pre>0.5</pre></div></td></tr><tr><td>LogBase</td><td><div class=\"dni-plaintext\"><pre>False</pre></div></td></tr><tr><td>FeatureSpaceDim</td><td><div class=\"dni-plaintext\"><pre>1</pre></div></td></tr><tr><td>Step</td><td><div class=\"dni-plaintext\"><pre>[ &lt;null&gt; ]</pre></div></td></tr><tr><td>Default</td><td><div class=\"dni-plaintext\"><pre>[ 0.10000000149011612 ]</pre></div></td></tr></tbody></table></div></details></td></tr></tbody></table><style>\r\n",
       ".dni-code-hint {\r\n",
       "    font-style: italic;\r\n",
       "    overflow: hidden;\r\n",
       "    white-space: nowrap;\r\n",
       "}\r\n",
       ".dni-treeview {\r\n",
       "    white-space: nowrap;\r\n",
       "}\r\n",
       ".dni-treeview td {\r\n",
       "    vertical-align: top;\r\n",
       "    text-align: start;\r\n",
       "}\r\n",
       "details.dni-treeview {\r\n",
       "    padding-left: 1em;\r\n",
       "}\r\n",
       "table td {\r\n",
       "    text-align: start;\r\n",
       "}\r\n",
       "table tr { \r\n",
       "    vertical-align: top; \r\n",
       "    margin: 0em 0px;\r\n",
       "}\r\n",
       "table tr td pre \r\n",
       "{ \r\n",
       "    vertical-align: top !important; \r\n",
       "    margin: 0em 0px !important;\r\n",
       "} \r\n",
       "table th {\r\n",
       "    text-align: start;\r\n",
       "}\r\n",
       "</style>"
      ]
     },
     "metadata": {},
     "output_type": "display_data"
    }
   ],
   "source": [
    "// We're going to define our own search space for the Lbfgs trainer so it can be customized to find better hyperparameters\n",
    "SearchSpace<LbfgsOption> searchSpace = new();\n",
    "searchSpace[\"L1Regularization\"] = new UniformSingleOption(min: 0.0f, max: 0.5f, logBase: false, defaultValue: 0.05f);\n",
    "searchSpace[\"L2Regularization\"] = new UniformSingleOption(min: 0.0f, max: 0.5f, logBase: false, defaultValue: 0.05f);\n",
    "searchSpace"
   ]
  },
  {
   "cell_type": "code",
   "execution_count": 123,
   "metadata": {
    "dotnet_interactive": {
     "language": "csharp"
    },
    "polyglot_notebook": {
     "kernelName": "csharp"
    },
    "vscode": {
     "languageId": "polyglot-notebook"
    }
   },
   "outputs": [],
   "source": [
    "// The last leg of our pipeline will be the custom trainer using LbfgsLogisticRegression with our custom search space\n",
    "SweepableEstimator estimator = context.Auto().CreateSweepableEstimator((context, options) => \n",
    "    context.BinaryClassification.Trainers.LbfgsLogisticRegression(labelColumnName: \"Label\",\n",
    "    l1Regularization: options.L1Regularization,\n",
    "    l2Regularization: options.L2Regularization), \n",
    "searchSpace);\n",
    "\n",
    "var pipeline = basePipeline.Append(estimator);"
   ]
  },
  {
   "cell_type": "code",
   "execution_count": 124,
   "metadata": {
    "dotnet_interactive": {
     "language": "csharp"
    },
    "polyglot_notebook": {
     "kernelName": "csharp"
    },
    "vscode": {
     "languageId": "polyglot-notebook"
    }
   },
   "outputs": [],
   "source": [
    "public class TrialParameters {\n",
    "    public Dictionary<string, float> e1 { get; set; }\n",
    "}\n",
    "\n",
    "public class TrialParameterPipeline {\n",
    "    public TrialParameters _pipeline_ { get; set; }\n",
    "}\n",
    "\n",
    "public class TrialValues {\n",
    "    public TrialParameterPipeline Parameter { get; set; }\n",
    "}\n",
    "\n",
    "string lastJson = null;\n",
    "TrialValues bestHyperparameters = null;\n",
    "\n",
    "EventHandler<LoggingEventArgs> logBest = (s, e) => {\n",
    "    if (e.Message.Contains(\"L2Regularization\")) {\n",
    "        string json = e.Message.Substring(e.Message.IndexOf(\"{\"));\n",
    "        json = json.Substring(0, json.LastIndexOf(\"}\") + 1);\n",
    "        lastJson = json;\n",
    "    }\n",
    "\n",
    "    if (e.Message.Contains(\"Update Best Trial\"))\n",
    "    {\n",
    "        bestHyperparameters = JsonConvert.DeserializeObject<TrialValues>(lastJson);\n",
    "    }\n",
    "};\n",
    "\n",
    "Formatter.Register<TrialValues>((values, writer) => {\n",
    "    // Write a title above the table with the type of object it was\n",
    "    writer.Write(\"<h4>Best Hyperparameter Values</h4>\");\n",
    "    writer.Write(\"<table>\");\n",
    "    writer.Write(\"<thead><tr><th>Hyperparameter</th><th>Value</th></tr></thead>\");\n",
    "    foreach (var kvp in values.Parameter._pipeline_.e1) {\n",
    "        writer.Write(\"<tr><th><strong>\");\n",
    "        writer.Write(kvp.Key);\n",
    "        writer.Write(\"</strong></th><td>\");\n",
    "        writer.Write(kvp.Value);\n",
    "        writer.Write(\"</td></tr>\");\n",
    "    }\n",
    "    writer.Write(\"</table>\");\n",
    "}, \"text/html\");"
   ]
  },
  {
   "cell_type": "code",
   "execution_count": 125,
   "metadata": {
    "dotnet_interactive": {
     "language": "csharp"
    },
    "polyglot_notebook": {
     "kernelName": "csharp"
    },
    "vscode": {
     "languageId": "polyglot-notebook"
    }
   },
   "outputs": [
    {
     "data": {
      "text/html": [
       "<h4>Best Hyperparameter Values</h4><table><thead><tr><th>Hyperparameter</th><th>Value</th></tr></thead><tr><th><strong>L1Regularization</strong></th><td>0.0065167905</td></tr><tr><th><strong>L2Regularization</strong></th><td>0.138471</td></tr></table>"
      ]
     },
     "metadata": {},
     "output_type": "display_data"
    }
   ],
   "source": [
    "// Now let's run our experiment using our custom pipeline, specifying the tuner this time around\n",
    "var experiment = context.Auto().CreateExperiment()\n",
    "    .SetPipeline(pipeline)\n",
    "    .SetDataset(split)\n",
    "    .SetBinaryClassificationMetric(BinaryClassificationMetric.F1Score, labelColumn: \"Label\")\n",
    "    .SetTrainingTimeInSeconds(30)\n",
    "    .SetEciCostFrugalTuner(); // This was the default tuner before, but let's make it official\n",
    "\n",
    "context.Log += logBest;\n",
    "TrialResult result = await experiment.RunAsync();\n",
    "context.Log -= logBest;\n",
    "\n",
    "bestHyperparameters"
   ]
  },
  {
   "cell_type": "code",
   "execution_count": 126,
   "metadata": {
    "dotnet_interactive": {
     "language": "csharp"
    },
    "polyglot_notebook": {
     "kernelName": "csharp"
    },
    "vscode": {
     "languageId": "polyglot-notebook"
    }
   },
   "outputs": [
    {
     "data": {
      "text/html": [
       "<details open=\"open\" class=\"dni-treeview\"><summary><span class=\"dni-code-hint\"><code>(Microsoft.ML.Data.CalibratedBinaryClassificationMetrics, TEST POSITIVE RATIO:\t0.3219 (47.0/(47.0+99.0))\\nConfusion table\\n          ||======================\\nPREDICTED || positive | negative | Recall\\nTRUTH     ||======================\\n positive ||       27 |       20 | 0.5745\\n negative ||       ...</code></span></summary><div><table><thead><tr></tr></thead><tbody><tr><td>Item1</td><td><details class=\"dni-treeview\"><summary><span class=\"dni-code-hint\"><code>Microsoft.ML.Data.CalibratedBinaryClassificationMetrics</code></span></summary><div><table><thead><tr></tr></thead><tbody><tr><td>LogLoss</td><td><div class=\"dni-plaintext\"><pre>0.7099515597352173</pre></div></td></tr><tr><td>LogLossReduction</td><td><div class=\"dni-plaintext\"><pre>0.2167821918925049</pre></div></td></tr><tr><td>Entropy</td><td><div class=\"dni-plaintext\"><pre>0.9064548231489877</pre></div></td></tr><tr><td>AreaUnderRocCurve</td><td><div class=\"dni-plaintext\"><pre>0.7908875993982377</pre></div></td></tr><tr><td>Accuracy</td><td><div class=\"dni-plaintext\"><pre>0.8424657534246576</pre></div></td></tr><tr><td>PositivePrecision</td><td><div class=\"dni-plaintext\"><pre>0.9</pre></div></td></tr><tr><td>PositiveRecall</td><td><div class=\"dni-plaintext\"><pre>0.574468085106383</pre></div></td></tr><tr><td>NegativePrecision</td><td><div class=\"dni-plaintext\"><pre>0.8275862068965517</pre></div></td></tr><tr><td>NegativeRecall</td><td><div class=\"dni-plaintext\"><pre>0.9696969696969697</pre></div></td></tr><tr><td>F1Score</td><td><div class=\"dni-plaintext\"><pre>0.7012987012987012</pre></div></td></tr><tr><td>AreaUnderPrecisionRecallCurve</td><td><div class=\"dni-plaintext\"><pre>0.7692839911293207</pre></div></td></tr><tr><td>ConfusionMatrix</td><td><details class=\"dni-treeview\"><summary><span class=\"dni-code-hint\"><code>Microsoft.ML.Data.ConfusionMatrix</code></span></summary><div><table><thead><tr></tr></thead><tbody><tr><td>PerClassPrecision</td><td><div class=\"dni-plaintext\"><pre>[ 0.9, 0.8275862068965517 ]</pre></div></td></tr><tr><td>PerClassRecall</td><td><div class=\"dni-plaintext\"><pre>[ 0.574468085106383, 0.9696969696969697 ]</pre></div></td></tr><tr><td>Counts</td><td><table><thead><tr><th><i>index</i></th><th>value</th></tr></thead><tbody><tr><td>0</td><td><div class=\"dni-plaintext\"><pre>[ 27, 20 ]</pre></div></td></tr><tr><td>1</td><td><div class=\"dni-plaintext\"><pre>[ 3, 96 ]</pre></div></td></tr></tbody></table></td></tr><tr><td>NumberOfClasses</td><td><div class=\"dni-plaintext\"><pre>2</pre></div></td></tr></tbody></table></div></details></td></tr></tbody></table></div></details></td></tr><tr><td>Item2</td><td><div class=\"dni-plaintext\"><pre>TEST POSITIVE RATIO:\t0.3219 (47.0/(47.0+99.0))\n",
       "Confusion table\n",
       "          ||======================\n",
       "PREDICTED || positive | negative | Recall\n",
       "TRUTH     ||======================\n",
       " positive ||       27 |       20 | 0.5745\n",
       " negative ||        3 |       96 | 0.9697\n",
       "          ||======================\n",
       "Precision ||   0.9000 |   0.8276 |\n",
       "</pre></div></td></tr></tbody></table></div></details><style>\r\n",
       ".dni-code-hint {\r\n",
       "    font-style: italic;\r\n",
       "    overflow: hidden;\r\n",
       "    white-space: nowrap;\r\n",
       "}\r\n",
       ".dni-treeview {\r\n",
       "    white-space: nowrap;\r\n",
       "}\r\n",
       ".dni-treeview td {\r\n",
       "    vertical-align: top;\r\n",
       "    text-align: start;\r\n",
       "}\r\n",
       "details.dni-treeview {\r\n",
       "    padding-left: 1em;\r\n",
       "}\r\n",
       "table td {\r\n",
       "    text-align: start;\r\n",
       "}\r\n",
       "table tr { \r\n",
       "    vertical-align: top; \r\n",
       "    margin: 0em 0px;\r\n",
       "}\r\n",
       "table tr td pre \r\n",
       "{ \r\n",
       "    vertical-align: top !important; \r\n",
       "    margin: 0em 0px !important;\r\n",
       "} \r\n",
       "table th {\r\n",
       "    text-align: start;\r\n",
       "}\r\n",
       "</style>"
      ]
     },
     "metadata": {},
     "output_type": "display_data"
    }
   ],
   "source": [
    "ITransformer model = result.Model;\n",
    "\n",
    "var scorer = model.Transform(split.TestSet);\n",
    "\n",
    "var evalResults = context.BinaryClassification.Evaluate(model.Transform(split.TestSet), labelColumnName: \"Label\");\n",
    "(evalResults, evalResults.ConfusionMatrix.GetFormattedConfusionTable())"
   ]
  }
 ],
 "metadata": {
  "kernelspec": {
   "display_name": ".NET (C#)",
   "language": "C#",
   "name": ".net-csharp"
  },
  "language_info": {
   "name": "python"
  },
  "polyglot_notebook": {
   "kernelInfo": {
    "defaultKernelName": "csharp",
    "items": [
     {
      "aliases": [],
      "name": "csharp"
     }
    ]
   }
  }
 },
 "nbformat": 4,
 "nbformat_minor": 2
}
